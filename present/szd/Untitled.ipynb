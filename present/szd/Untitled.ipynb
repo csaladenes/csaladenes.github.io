{
 "cells": [
  {
   "cell_type": "code",
   "execution_count": 1,
   "id": "94f40251-4473-4880-b134-ca108a6c3e56",
   "metadata": {
    "tags": []
   },
   "outputs": [],
   "source": [
    "import pandas as pd, json"
   ]
  },
  {
   "cell_type": "code",
   "execution_count": 8,
   "id": "78934c91-0da7-4fc8-a58e-35ef12849e6d",
   "metadata": {
    "tags": []
   },
   "outputs": [],
   "source": [
    "d=json.loads(open('data.json','r').read())\n",
    "d3=json.loads(open('data3.json','r').read())"
   ]
  },
  {
   "cell_type": "code",
   "execution_count": 19,
   "id": "9df67d4f-31c4-417d-a568-5ad43239fbd8",
   "metadata": {
    "tags": []
   },
   "outputs": [],
   "source": [
    "data=[]\n",
    "for y in d:\n",
    "    for c in d[y]:\n",
    "        for e in d[y][c]:\n",
    "            for comp in d[y][c][e]:\n",
    "                for i in d[y][c][e][comp]:\n",
    "                    z=dict(i)\n",
    "                    z['comp']=comp\n",
    "                    z['ev']=y\n",
    "                    z['evfolyam']=c\n",
    "                    z['osztaly']=e\n",
    "                    data.append(z)"
   ]
  },
  {
   "cell_type": "code",
   "execution_count": 22,
   "id": "c34ae09f-176e-4fc9-8620-23ef7cefa292",
   "metadata": {
    "tags": []
   },
   "outputs": [],
   "source": [
    "pd.DataFrame(data).to_csv('a.csv')"
   ]
  }
 ],
 "metadata": {
  "kernelspec": {
   "display_name": "Python 3 (ipykernel)",
   "language": "python",
   "name": "python3"
  },
  "language_info": {
   "codemirror_mode": {
    "name": "ipython",
    "version": 3
   },
   "file_extension": ".py",
   "mimetype": "text/x-python",
   "name": "python",
   "nbconvert_exporter": "python",
   "pygments_lexer": "ipython3",
   "version": "3.10.10"
  }
 },
 "nbformat": 4,
 "nbformat_minor": 5
}
