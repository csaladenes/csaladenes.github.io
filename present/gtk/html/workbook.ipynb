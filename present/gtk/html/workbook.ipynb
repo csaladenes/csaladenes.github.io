{
 "cells": [
  {
   "cell_type": "markdown",
   "metadata": {},
   "source": [
    "# GTK adatviz kurzus"
   ]
  },
  {
   "cell_type": "markdown",
   "metadata": {},
   "source": [
    "Bővítőcsomagok importálása"
   ]
  },
  {
   "cell_type": "code",
   "execution_count": 1,
   "metadata": {
    "collapsed": true
   },
   "outputs": [],
   "source": [
    "import pandas as pd\n",
    "import numpy as np"
   ]
  },
  {
   "cell_type": "markdown",
   "metadata": {},
   "source": [
    "Előzetesen mentsük el valamelyik D3plus példa adatait a `valami.json`-ba"
   ]
  },
  {
   "cell_type": "code",
   "execution_count": 2,
   "metadata": {
    "collapsed": false
   },
   "outputs": [],
   "source": [
    "df=pd.read_json('valami.json')"
   ]
  },
  {
   "cell_type": "code",
   "execution_count": 3,
   "metadata": {
    "collapsed": false
   },
   "outputs": [
    {
     "data": {
      "text/html": [
       "<div>\n",
       "<style>\n",
       "    .dataframe thead tr:only-child th {\n",
       "        text-align: right;\n",
       "    }\n",
       "\n",
       "    .dataframe thead th {\n",
       "        text-align: left;\n",
       "    }\n",
       "\n",
       "    .dataframe tbody tr th {\n",
       "        vertical-align: top;\n",
       "    }\n",
       "</style>\n",
       "<table border=\"1\" class=\"dataframe\">\n",
       "  <thead>\n",
       "    <tr style=\"text-align: right;\">\n",
       "      <th></th>\n",
       "      <th>group</th>\n",
       "      <th>name</th>\n",
       "      <th>uj</th>\n",
       "      <th>value</th>\n",
       "    </tr>\n",
       "  </thead>\n",
       "  <tbody>\n",
       "    <tr>\n",
       "      <th>0</th>\n",
       "      <td>group 1</td>\n",
       "      <td>alpha</td>\n",
       "      <td>9</td>\n",
       "      <td>100</td>\n",
       "    </tr>\n",
       "    <tr>\n",
       "      <th>1</th>\n",
       "      <td>group 1</td>\n",
       "      <td>epsilon</td>\n",
       "      <td>9</td>\n",
       "      <td>500</td>\n",
       "    </tr>\n",
       "    <tr>\n",
       "      <th>2</th>\n",
       "      <td>group 2</td>\n",
       "      <td>gamma</td>\n",
       "      <td>9</td>\n",
       "      <td>40</td>\n",
       "    </tr>\n",
       "    <tr>\n",
       "      <th>3</th>\n",
       "      <td>group 1</td>\n",
       "      <td>zeta</td>\n",
       "      <td>9</td>\n",
       "      <td>1</td>\n",
       "    </tr>\n",
       "    <tr>\n",
       "      <th>4</th>\n",
       "      <td>group 2</td>\n",
       "      <td>delta</td>\n",
       "      <td>9</td>\n",
       "      <td>15</td>\n",
       "    </tr>\n",
       "    <tr>\n",
       "      <th>5</th>\n",
       "      <td>group 2</td>\n",
       "      <td>beta</td>\n",
       "      <td>9</td>\n",
       "      <td>70</td>\n",
       "    </tr>\n",
       "  </tbody>\n",
       "</table>\n",
       "</div>"
      ],
      "text/plain": [
       "     group     name  uj  value\n",
       "0  group 1    alpha   9    100\n",
       "1  group 1  epsilon   9    500\n",
       "2  group 2    gamma   9     40\n",
       "3  group 1     zeta   9      1\n",
       "4  group 2    delta   9     15\n",
       "5  group 2     beta   9     70"
      ]
     },
     "execution_count": 3,
     "metadata": {},
     "output_type": "execute_result"
    }
   ],
   "source": [
    "df"
   ]
  },
  {
   "cell_type": "markdown",
   "metadata": {},
   "source": [
    "Oszlop kiíratása"
   ]
  },
  {
   "cell_type": "code",
   "execution_count": 6,
   "metadata": {
    "collapsed": false
   },
   "outputs": [
    {
     "data": {
      "text/html": [
       "<div>\n",
       "<style>\n",
       "    .dataframe thead tr:only-child th {\n",
       "        text-align: right;\n",
       "    }\n",
       "\n",
       "    .dataframe thead th {\n",
       "        text-align: left;\n",
       "    }\n",
       "\n",
       "    .dataframe tbody tr th {\n",
       "        vertical-align: top;\n",
       "    }\n",
       "</style>\n",
       "<table border=\"1\" class=\"dataframe\">\n",
       "  <thead>\n",
       "    <tr style=\"text-align: right;\">\n",
       "      <th></th>\n",
       "      <th>group</th>\n",
       "    </tr>\n",
       "  </thead>\n",
       "  <tbody>\n",
       "    <tr>\n",
       "      <th>0</th>\n",
       "      <td>group 1</td>\n",
       "    </tr>\n",
       "    <tr>\n",
       "      <th>1</th>\n",
       "      <td>group 1</td>\n",
       "    </tr>\n",
       "    <tr>\n",
       "      <th>2</th>\n",
       "      <td>group 2</td>\n",
       "    </tr>\n",
       "    <tr>\n",
       "      <th>3</th>\n",
       "      <td>group 1</td>\n",
       "    </tr>\n",
       "    <tr>\n",
       "      <th>4</th>\n",
       "      <td>group 2</td>\n",
       "    </tr>\n",
       "    <tr>\n",
       "      <th>5</th>\n",
       "      <td>group 2</td>\n",
       "    </tr>\n",
       "  </tbody>\n",
       "</table>\n",
       "</div>"
      ],
      "text/plain": [
       "     group\n",
       "0  group 1\n",
       "1  group 1\n",
       "2  group 2\n",
       "3  group 1\n",
       "4  group 2\n",
       "5  group 2"
      ]
     },
     "execution_count": 6,
     "metadata": {},
     "output_type": "execute_result"
    }
   ],
   "source": [
    "df[['group']]"
   ]
  },
  {
   "cell_type": "markdown",
   "metadata": {},
   "source": [
    "Sor kiíratása"
   ]
  },
  {
   "cell_type": "code",
   "execution_count": 7,
   "metadata": {
    "collapsed": false
   },
   "outputs": [
    {
     "data": {
      "text/plain": [
       "group    group 2\n",
       "name       delta\n",
       "uj             9\n",
       "value         15\n",
       "Name: 4, dtype: object"
      ]
     },
     "execution_count": 7,
     "metadata": {},
     "output_type": "execute_result"
    }
   ],
   "source": [
    "df.loc[4]"
   ]
  },
  {
   "cell_type": "markdown",
   "metadata": {},
   "source": [
    "Új oszlop"
   ]
  },
  {
   "cell_type": "code",
   "execution_count": 10,
   "metadata": {
    "collapsed": true
   },
   "outputs": [],
   "source": [
    "df['uj']=9"
   ]
  },
  {
   "cell_type": "code",
   "execution_count": 11,
   "metadata": {
    "collapsed": false,
    "scrolled": true
   },
   "outputs": [
    {
     "data": {
      "text/html": [
       "<div>\n",
       "<style>\n",
       "    .dataframe thead tr:only-child th {\n",
       "        text-align: right;\n",
       "    }\n",
       "\n",
       "    .dataframe thead th {\n",
       "        text-align: left;\n",
       "    }\n",
       "\n",
       "    .dataframe tbody tr th {\n",
       "        vertical-align: top;\n",
       "    }\n",
       "</style>\n",
       "<table border=\"1\" class=\"dataframe\">\n",
       "  <thead>\n",
       "    <tr style=\"text-align: right;\">\n",
       "      <th></th>\n",
       "      <th>group</th>\n",
       "      <th>name</th>\n",
       "      <th>uj</th>\n",
       "      <th>value</th>\n",
       "    </tr>\n",
       "  </thead>\n",
       "  <tbody>\n",
       "    <tr>\n",
       "      <th>0</th>\n",
       "      <td>group 1</td>\n",
       "      <td>alpha</td>\n",
       "      <td>9</td>\n",
       "      <td>100</td>\n",
       "    </tr>\n",
       "    <tr>\n",
       "      <th>1</th>\n",
       "      <td>group 1</td>\n",
       "      <td>epsilon</td>\n",
       "      <td>9</td>\n",
       "      <td>500</td>\n",
       "    </tr>\n",
       "    <tr>\n",
       "      <th>2</th>\n",
       "      <td>group 2</td>\n",
       "      <td>gamma</td>\n",
       "      <td>9</td>\n",
       "      <td>40</td>\n",
       "    </tr>\n",
       "    <tr>\n",
       "      <th>3</th>\n",
       "      <td>group 1</td>\n",
       "      <td>zeta</td>\n",
       "      <td>9</td>\n",
       "      <td>1</td>\n",
       "    </tr>\n",
       "    <tr>\n",
       "      <th>4</th>\n",
       "      <td>group 2</td>\n",
       "      <td>delta</td>\n",
       "      <td>9</td>\n",
       "      <td>15</td>\n",
       "    </tr>\n",
       "    <tr>\n",
       "      <th>5</th>\n",
       "      <td>group 2</td>\n",
       "      <td>beta</td>\n",
       "      <td>9</td>\n",
       "      <td>70</td>\n",
       "    </tr>\n",
       "  </tbody>\n",
       "</table>\n",
       "</div>"
      ],
      "text/plain": [
       "     group     name  uj  value\n",
       "0  group 1    alpha   9    100\n",
       "1  group 1  epsilon   9    500\n",
       "2  group 2    gamma   9     40\n",
       "3  group 1     zeta   9      1\n",
       "4  group 2    delta   9     15\n",
       "5  group 2     beta   9     70"
      ]
     },
     "execution_count": 11,
     "metadata": {},
     "output_type": "execute_result"
    }
   ],
   "source": [
    "df"
   ]
  },
  {
   "cell_type": "markdown",
   "metadata": {},
   "source": [
    "Data frame exportálás"
   ]
  },
  {
   "cell_type": "code",
   "execution_count": 15,
   "metadata": {
    "collapsed": false
   },
   "outputs": [],
   "source": [
    "df.to_json('valami2.json')"
   ]
  },
  {
   "cell_type": "markdown",
   "metadata": {},
   "source": [
    "Transzponált"
   ]
  },
  {
   "cell_type": "code",
   "execution_count": 16,
   "metadata": {
    "collapsed": false
   },
   "outputs": [
    {
     "data": {
      "text/html": [
       "<div>\n",
       "<table border=\"1\" class=\"dataframe\">\n",
       "  <thead>\n",
       "    <tr style=\"text-align: right;\">\n",
       "      <th></th>\n",
       "      <th>0</th>\n",
       "      <th>1</th>\n",
       "      <th>2</th>\n",
       "      <th>3</th>\n",
       "      <th>4</th>\n",
       "      <th>5</th>\n",
       "    </tr>\n",
       "  </thead>\n",
       "  <tbody>\n",
       "    <tr>\n",
       "      <th>group</th>\n",
       "      <td>group 1</td>\n",
       "      <td>group 2</td>\n",
       "      <td>group 2</td>\n",
       "      <td>group 2</td>\n",
       "      <td>group 1</td>\n",
       "      <td>group 1</td>\n",
       "    </tr>\n",
       "    <tr>\n",
       "      <th>name</th>\n",
       "      <td>alpha</td>\n",
       "      <td>beta</td>\n",
       "      <td>gamma</td>\n",
       "      <td>delta</td>\n",
       "      <td>epsilon</td>\n",
       "      <td>zeta</td>\n",
       "    </tr>\n",
       "    <tr>\n",
       "      <th>value</th>\n",
       "      <td>100</td>\n",
       "      <td>70</td>\n",
       "      <td>40</td>\n",
       "      <td>15</td>\n",
       "      <td>500</td>\n",
       "      <td>1</td>\n",
       "    </tr>\n",
       "    <tr>\n",
       "      <th>uj</th>\n",
       "      <td>9</td>\n",
       "      <td>9</td>\n",
       "      <td>9</td>\n",
       "      <td>9</td>\n",
       "      <td>9</td>\n",
       "      <td>9</td>\n",
       "    </tr>\n",
       "  </tbody>\n",
       "</table>\n",
       "</div>"
      ],
      "text/plain": [
       "             0        1        2        3        4        5\n",
       "group  group 1  group 2  group 2  group 2  group 1  group 1\n",
       "name     alpha     beta    gamma    delta  epsilon     zeta\n",
       "value      100       70       40       15      500        1\n",
       "uj           9        9        9        9        9        9"
      ]
     },
     "execution_count": 16,
     "metadata": {},
     "output_type": "execute_result"
    }
   ],
   "source": [
    "df.T"
   ]
  },
  {
   "cell_type": "code",
   "execution_count": 17,
   "metadata": {
    "collapsed": true
   },
   "outputs": [],
   "source": [
    "df.T.to_json('valami3.json')"
   ]
  },
  {
   "cell_type": "markdown",
   "metadata": {},
   "source": [
    "JSON formázás"
   ]
  },
  {
   "cell_type": "code",
   "execution_count": 12,
   "metadata": {
    "collapsed": true
   },
   "outputs": [],
   "source": [
    "import json"
   ]
  },
  {
   "cell_type": "code",
   "execution_count": 13,
   "metadata": {
    "collapsed": true
   },
   "outputs": [],
   "source": [
    "enyim=df.T.to_json()"
   ]
  },
  {
   "cell_type": "markdown",
   "metadata": {},
   "source": [
    "pandas dataframe `to_json` függvény stringet generál"
   ]
  },
  {
   "cell_type": "code",
   "execution_count": 16,
   "metadata": {
    "collapsed": false
   },
   "outputs": [
    {
     "data": {
      "text/plain": [
       "'{\"0\":{\"group\":\"group 1\",\"name\":\"alpha\",\"uj\":9,\"value\":100},\"1\":{\"group\":\"group 1\",\"name\":\"epsilon\",\"uj\":9,\"value\":500},\"2\":{\"group\":\"group 2\",\"name\":\"gamma\",\"uj\":9,\"value\":40},\"3\":{\"group\":\"group 1\",\"name\":\"zeta\",\"uj\":9,\"value\":1},\"4\":{\"group\":\"group 2\",\"name\":\"delta\",\"uj\":9,\"value\":15},\"5\":{\"group\":\"group 2\",\"name\":\"beta\",\"uj\":9,\"value\":70}}'"
      ]
     },
     "execution_count": 16,
     "metadata": {},
     "output_type": "execute_result"
    }
   ],
   "source": [
    "enyim"
   ]
  },
  {
   "cell_type": "markdown",
   "metadata": {},
   "source": [
    "Ezt átkonvertáljuk JSON-ba"
   ]
  },
  {
   "cell_type": "code",
   "execution_count": 17,
   "metadata": {
    "collapsed": true
   },
   "outputs": [],
   "source": [
    "enyimjson=json.loads(enyim)"
   ]
  },
  {
   "cell_type": "code",
   "execution_count": 18,
   "metadata": {
    "collapsed": false
   },
   "outputs": [
    {
     "data": {
      "text/plain": [
       "{u'0': {u'group': u'group 1', u'name': u'alpha', u'uj': 9, u'value': 100},\n",
       " u'1': {u'group': u'group 1', u'name': u'epsilon', u'uj': 9, u'value': 500},\n",
       " u'2': {u'group': u'group 2', u'name': u'gamma', u'uj': 9, u'value': 40},\n",
       " u'3': {u'group': u'group 1', u'name': u'zeta', u'uj': 9, u'value': 1},\n",
       " u'4': {u'group': u'group 2', u'name': u'delta', u'uj': 9, u'value': 15},\n",
       " u'5': {u'group': u'group 2', u'name': u'beta', u'uj': 9, u'value': 70}}"
      ]
     },
     "execution_count": 18,
     "metadata": {},
     "output_type": "execute_result"
    }
   ],
   "source": [
    "enyimjson"
   ]
  },
  {
   "cell_type": "markdown",
   "metadata": {},
   "source": [
    "A JSON olyan mint egy szótár: vannak kulcsok (keys) és értékek (values)"
   ]
  },
  {
   "cell_type": "code",
   "execution_count": 19,
   "metadata": {
    "collapsed": false
   },
   "outputs": [
    {
     "data": {
      "text/plain": [
       "[u'1', u'0', u'3', u'2', u'5', u'4']"
      ]
     },
     "execution_count": 19,
     "metadata": {},
     "output_type": "execute_result"
    }
   ],
   "source": [
    "enyimjson.keys()"
   ]
  },
  {
   "cell_type": "code",
   "execution_count": 20,
   "metadata": {
    "collapsed": false
   },
   "outputs": [
    {
     "data": {
      "text/plain": [
       "[{u'group': u'group 1', u'name': u'epsilon', u'uj': 9, u'value': 500},\n",
       " {u'group': u'group 1', u'name': u'alpha', u'uj': 9, u'value': 100},\n",
       " {u'group': u'group 1', u'name': u'zeta', u'uj': 9, u'value': 1},\n",
       " {u'group': u'group 2', u'name': u'gamma', u'uj': 9, u'value': 40},\n",
       " {u'group': u'group 2', u'name': u'beta', u'uj': 9, u'value': 70},\n",
       " {u'group': u'group 2', u'name': u'delta', u'uj': 9, u'value': 15}]"
      ]
     },
     "execution_count": 20,
     "metadata": {},
     "output_type": "execute_result"
    }
   ],
   "source": [
    "enyimjson.values()"
   ]
  },
  {
   "cell_type": "code",
   "execution_count": 21,
   "metadata": {
    "collapsed": false
   },
   "outputs": [],
   "source": [
    "jsonlista=list(enyimjson.values())"
   ]
  },
  {
   "cell_type": "code",
   "execution_count": 22,
   "metadata": {
    "collapsed": false
   },
   "outputs": [
    {
     "data": {
      "text/plain": [
       "[{u'group': u'group 1', u'name': u'epsilon', u'uj': 9, u'value': 500},\n",
       " {u'group': u'group 1', u'name': u'alpha', u'uj': 9, u'value': 100},\n",
       " {u'group': u'group 1', u'name': u'zeta', u'uj': 9, u'value': 1},\n",
       " {u'group': u'group 2', u'name': u'gamma', u'uj': 9, u'value': 40},\n",
       " {u'group': u'group 2', u'name': u'beta', u'uj': 9, u'value': 70},\n",
       " {u'group': u'group 2', u'name': u'delta', u'uj': 9, u'value': 15}]"
      ]
     },
     "execution_count": 22,
     "metadata": {},
     "output_type": "execute_result"
    }
   ],
   "source": [
    "jsonlista"
   ]
  },
  {
   "cell_type": "markdown",
   "metadata": {},
   "source": [
    "A `dumps` függvény újra stringet generál"
   ]
  },
  {
   "cell_type": "code",
   "execution_count": 24,
   "metadata": {
    "collapsed": false
   },
   "outputs": [
    {
     "data": {
      "text/plain": [
       "'[{\"group\": \"group 1\", \"name\": \"epsilon\", \"value\": 500, \"uj\": 9}, {\"group\": \"group 1\", \"name\": \"alpha\", \"value\": 100, \"uj\": 9}, {\"group\": \"group 1\", \"name\": \"zeta\", \"value\": 1, \"uj\": 9}, {\"group\": \"group 2\", \"name\": \"gamma\", \"value\": 40, \"uj\": 9}, {\"group\": \"group 2\", \"name\": \"beta\", \"value\": 70, \"uj\": 9}, {\"group\": \"group 2\", \"name\": \"delta\", \"value\": 15, \"uj\": 9}]'"
      ]
     },
     "execution_count": 24,
     "metadata": {},
     "output_type": "execute_result"
    }
   ],
   "source": [
    "json.dumps(jsonlista)"
   ]
  },
  {
   "cell_type": "markdown",
   "metadata": {},
   "source": [
    "Fájlba mentés"
   ]
  },
  {
   "cell_type": "code",
   "execution_count": 44,
   "metadata": {
    "collapsed": false
   },
   "outputs": [
    {
     "data": {
      "text/plain": [
       "367"
      ]
     },
     "execution_count": 44,
     "metadata": {},
     "output_type": "execute_result"
    }
   ],
   "source": [
    "open('ujvalami.json','w').write(json.dumps(jsonlista))"
   ]
  },
  {
   "cell_type": "code",
   "execution_count": 45,
   "metadata": {
    "collapsed": false
   },
   "outputs": [
    {
     "data": {
      "text/html": [
       "<div>\n",
       "<table border=\"1\" class=\"dataframe\">\n",
       "  <thead>\n",
       "    <tr style=\"text-align: right;\">\n",
       "      <th></th>\n",
       "      <th>group</th>\n",
       "      <th>name</th>\n",
       "      <th>value</th>\n",
       "      <th>uj</th>\n",
       "    </tr>\n",
       "  </thead>\n",
       "  <tbody>\n",
       "    <tr>\n",
       "      <th>0</th>\n",
       "      <td>group 1</td>\n",
       "      <td>alpha</td>\n",
       "      <td>100</td>\n",
       "      <td>9</td>\n",
       "    </tr>\n",
       "    <tr>\n",
       "      <th>1</th>\n",
       "      <td>group 2</td>\n",
       "      <td>beta</td>\n",
       "      <td>70</td>\n",
       "      <td>9</td>\n",
       "    </tr>\n",
       "    <tr>\n",
       "      <th>2</th>\n",
       "      <td>group 2</td>\n",
       "      <td>gamma</td>\n",
       "      <td>40</td>\n",
       "      <td>9</td>\n",
       "    </tr>\n",
       "    <tr>\n",
       "      <th>3</th>\n",
       "      <td>group 2</td>\n",
       "      <td>delta</td>\n",
       "      <td>15</td>\n",
       "      <td>9</td>\n",
       "    </tr>\n",
       "    <tr>\n",
       "      <th>4</th>\n",
       "      <td>group 1</td>\n",
       "      <td>epsilon</td>\n",
       "      <td>500</td>\n",
       "      <td>9</td>\n",
       "    </tr>\n",
       "    <tr>\n",
       "      <th>5</th>\n",
       "      <td>group 1</td>\n",
       "      <td>zeta</td>\n",
       "      <td>1</td>\n",
       "      <td>9</td>\n",
       "    </tr>\n",
       "  </tbody>\n",
       "</table>\n",
       "</div>"
      ],
      "text/plain": [
       "     group     name  value  uj\n",
       "0  group 1    alpha    100   9\n",
       "1  group 2     beta     70   9\n",
       "2  group 2    gamma     40   9\n",
       "3  group 2    delta     15   9\n",
       "4  group 1  epsilon    500   9\n",
       "5  group 1     zeta      1   9"
      ]
     },
     "execution_count": 45,
     "metadata": {},
     "output_type": "execute_result"
    }
   ],
   "source": [
    "df"
   ]
  },
  {
   "cell_type": "markdown",
   "metadata": {},
   "source": [
    "Egy elem lekérdezése pandasból"
   ]
  },
  {
   "cell_type": "code",
   "execution_count": 46,
   "metadata": {
    "collapsed": false
   },
   "outputs": [
    {
     "data": {
      "text/plain": [
       "'gamma'"
      ]
     },
     "execution_count": 46,
     "metadata": {},
     "output_type": "execute_result"
    }
   ],
   "source": [
    "df.loc[2]['name']"
   ]
  },
  {
   "cell_type": "markdown",
   "metadata": {},
   "source": [
    "Nem lehet egy elemet megváltoztatni, csak egy teljes oszlopot"
   ]
  },
  {
   "cell_type": "code",
   "execution_count": 47,
   "metadata": {
    "collapsed": false
   },
   "outputs": [
    {
     "name": "stderr",
     "output_type": "stream",
     "text": [
      "C:\\Anaconda2\\envs\\python3\\lib\\site-packages\\ipykernel\\__main__.py:1: SettingWithCopyWarning: \n",
      "A value is trying to be set on a copy of a slice from a DataFrame\n",
      "\n",
      "See the caveats in the documentation: http://pandas.pydata.org/pandas-docs/stable/indexing.html#indexing-view-versus-copy\n",
      "  if __name__ == '__main__':\n"
     ]
    }
   ],
   "source": [
    "df.loc[2]['name']='ujgamma'"
   ]
  },
  {
   "cell_type": "code",
   "execution_count": 48,
   "metadata": {
    "collapsed": false
   },
   "outputs": [
    {
     "data": {
      "text/html": [
       "<div>\n",
       "<table border=\"1\" class=\"dataframe\">\n",
       "  <thead>\n",
       "    <tr style=\"text-align: right;\">\n",
       "      <th></th>\n",
       "      <th>group</th>\n",
       "      <th>name</th>\n",
       "      <th>value</th>\n",
       "      <th>uj</th>\n",
       "    </tr>\n",
       "  </thead>\n",
       "  <tbody>\n",
       "    <tr>\n",
       "      <th>0</th>\n",
       "      <td>group 1</td>\n",
       "      <td>alpha</td>\n",
       "      <td>100</td>\n",
       "      <td>9</td>\n",
       "    </tr>\n",
       "    <tr>\n",
       "      <th>1</th>\n",
       "      <td>group 2</td>\n",
       "      <td>beta</td>\n",
       "      <td>70</td>\n",
       "      <td>9</td>\n",
       "    </tr>\n",
       "    <tr>\n",
       "      <th>2</th>\n",
       "      <td>group 2</td>\n",
       "      <td>gamma</td>\n",
       "      <td>40</td>\n",
       "      <td>9</td>\n",
       "    </tr>\n",
       "    <tr>\n",
       "      <th>3</th>\n",
       "      <td>group 2</td>\n",
       "      <td>delta</td>\n",
       "      <td>15</td>\n",
       "      <td>9</td>\n",
       "    </tr>\n",
       "    <tr>\n",
       "      <th>4</th>\n",
       "      <td>group 1</td>\n",
       "      <td>epsilon</td>\n",
       "      <td>500</td>\n",
       "      <td>9</td>\n",
       "    </tr>\n",
       "    <tr>\n",
       "      <th>5</th>\n",
       "      <td>group 1</td>\n",
       "      <td>zeta</td>\n",
       "      <td>1</td>\n",
       "      <td>9</td>\n",
       "    </tr>\n",
       "  </tbody>\n",
       "</table>\n",
       "</div>"
      ],
      "text/plain": [
       "     group     name  value  uj\n",
       "0  group 1    alpha    100   9\n",
       "1  group 2     beta     70   9\n",
       "2  group 2    gamma     40   9\n",
       "3  group 2    delta     15   9\n",
       "4  group 1  epsilon    500   9\n",
       "5  group 1     zeta      1   9"
      ]
     },
     "execution_count": 48,
     "metadata": {},
     "output_type": "execute_result"
    }
   ],
   "source": [
    "df"
   ]
  },
  {
   "cell_type": "code",
   "execution_count": 52,
   "metadata": {
    "collapsed": true
   },
   "outputs": [],
   "source": [
    "ujlista=range(6)"
   ]
  },
  {
   "cell_type": "markdown",
   "metadata": {},
   "source": [
    "Új oszlop"
   ]
  },
  {
   "cell_type": "code",
   "execution_count": 54,
   "metadata": {
    "collapsed": false
   },
   "outputs": [],
   "source": [
    "df['uj2']=ujlista"
   ]
  },
  {
   "cell_type": "code",
   "execution_count": 55,
   "metadata": {
    "collapsed": false
   },
   "outputs": [
    {
     "data": {
      "text/html": [
       "<div>\n",
       "<table border=\"1\" class=\"dataframe\">\n",
       "  <thead>\n",
       "    <tr style=\"text-align: right;\">\n",
       "      <th></th>\n",
       "      <th>group</th>\n",
       "      <th>name</th>\n",
       "      <th>value</th>\n",
       "      <th>uj</th>\n",
       "      <th>uj2</th>\n",
       "    </tr>\n",
       "  </thead>\n",
       "  <tbody>\n",
       "    <tr>\n",
       "      <th>0</th>\n",
       "      <td>group 1</td>\n",
       "      <td>alpha</td>\n",
       "      <td>100</td>\n",
       "      <td>9</td>\n",
       "      <td>0</td>\n",
       "    </tr>\n",
       "    <tr>\n",
       "      <th>1</th>\n",
       "      <td>group 2</td>\n",
       "      <td>beta</td>\n",
       "      <td>70</td>\n",
       "      <td>9</td>\n",
       "      <td>1</td>\n",
       "    </tr>\n",
       "    <tr>\n",
       "      <th>2</th>\n",
       "      <td>group 2</td>\n",
       "      <td>gamma</td>\n",
       "      <td>40</td>\n",
       "      <td>9</td>\n",
       "      <td>2</td>\n",
       "    </tr>\n",
       "    <tr>\n",
       "      <th>3</th>\n",
       "      <td>group 2</td>\n",
       "      <td>delta</td>\n",
       "      <td>15</td>\n",
       "      <td>9</td>\n",
       "      <td>3</td>\n",
       "    </tr>\n",
       "    <tr>\n",
       "      <th>4</th>\n",
       "      <td>group 1</td>\n",
       "      <td>epsilon</td>\n",
       "      <td>500</td>\n",
       "      <td>9</td>\n",
       "      <td>4</td>\n",
       "    </tr>\n",
       "    <tr>\n",
       "      <th>5</th>\n",
       "      <td>group 1</td>\n",
       "      <td>zeta</td>\n",
       "      <td>1</td>\n",
       "      <td>9</td>\n",
       "      <td>5</td>\n",
       "    </tr>\n",
       "  </tbody>\n",
       "</table>\n",
       "</div>"
      ],
      "text/plain": [
       "     group     name  value  uj  uj2\n",
       "0  group 1    alpha    100   9    0\n",
       "1  group 2     beta     70   9    1\n",
       "2  group 2    gamma     40   9    2\n",
       "3  group 2    delta     15   9    3\n",
       "4  group 1  epsilon    500   9    4\n",
       "5  group 1     zeta      1   9    5"
      ]
     },
     "execution_count": 55,
     "metadata": {},
     "output_type": "execute_result"
    }
   ],
   "source": [
    "df"
   ]
  },
  {
   "cell_type": "markdown",
   "metadata": {},
   "source": [
    "Még egy új oszlop"
   ]
  },
  {
   "cell_type": "code",
   "execution_count": 56,
   "metadata": {
    "collapsed": true
   },
   "outputs": [],
   "source": [
    "df['uj3']=['a','b','c','d','t','d']"
   ]
  },
  {
   "cell_type": "code",
   "execution_count": 57,
   "metadata": {
    "collapsed": false
   },
   "outputs": [
    {
     "data": {
      "text/html": [
       "<div>\n",
       "<table border=\"1\" class=\"dataframe\">\n",
       "  <thead>\n",
       "    <tr style=\"text-align: right;\">\n",
       "      <th></th>\n",
       "      <th>group</th>\n",
       "      <th>name</th>\n",
       "      <th>value</th>\n",
       "      <th>uj</th>\n",
       "      <th>uj2</th>\n",
       "      <th>uj3</th>\n",
       "    </tr>\n",
       "  </thead>\n",
       "  <tbody>\n",
       "    <tr>\n",
       "      <th>0</th>\n",
       "      <td>group 1</td>\n",
       "      <td>alpha</td>\n",
       "      <td>100</td>\n",
       "      <td>9</td>\n",
       "      <td>0</td>\n",
       "      <td>a</td>\n",
       "    </tr>\n",
       "    <tr>\n",
       "      <th>1</th>\n",
       "      <td>group 2</td>\n",
       "      <td>beta</td>\n",
       "      <td>70</td>\n",
       "      <td>9</td>\n",
       "      <td>1</td>\n",
       "      <td>b</td>\n",
       "    </tr>\n",
       "    <tr>\n",
       "      <th>2</th>\n",
       "      <td>group 2</td>\n",
       "      <td>gamma</td>\n",
       "      <td>40</td>\n",
       "      <td>9</td>\n",
       "      <td>2</td>\n",
       "      <td>c</td>\n",
       "    </tr>\n",
       "    <tr>\n",
       "      <th>3</th>\n",
       "      <td>group 2</td>\n",
       "      <td>delta</td>\n",
       "      <td>15</td>\n",
       "      <td>9</td>\n",
       "      <td>3</td>\n",
       "      <td>d</td>\n",
       "    </tr>\n",
       "    <tr>\n",
       "      <th>4</th>\n",
       "      <td>group 1</td>\n",
       "      <td>epsilon</td>\n",
       "      <td>500</td>\n",
       "      <td>9</td>\n",
       "      <td>4</td>\n",
       "      <td>t</td>\n",
       "    </tr>\n",
       "    <tr>\n",
       "      <th>5</th>\n",
       "      <td>group 1</td>\n",
       "      <td>zeta</td>\n",
       "      <td>1</td>\n",
       "      <td>9</td>\n",
       "      <td>5</td>\n",
       "      <td>d</td>\n",
       "    </tr>\n",
       "  </tbody>\n",
       "</table>\n",
       "</div>"
      ],
      "text/plain": [
       "     group     name  value  uj  uj2 uj3\n",
       "0  group 1    alpha    100   9    0   a\n",
       "1  group 2     beta     70   9    1   b\n",
       "2  group 2    gamma     40   9    2   c\n",
       "3  group 2    delta     15   9    3   d\n",
       "4  group 1  epsilon    500   9    4   t\n",
       "5  group 1     zeta      1   9    5   d"
      ]
     },
     "execution_count": 57,
     "metadata": {},
     "output_type": "execute_result"
    }
   ],
   "source": [
    "df"
   ]
  },
  {
   "cell_type": "markdown",
   "metadata": {},
   "source": [
    "Kis játék függvény: elment egy dataframe-et ujvalamix.json néven D3plus formátumban"
   ]
  },
  {
   "cell_type": "code",
   "execution_count": 25,
   "metadata": {
    "collapsed": true
   },
   "outputs": [],
   "source": [
    "def d3plus(df):\n",
    "    open('ujvalamix.json','w').write(json.dumps(list(json.loads(df.T.to_json()).values())))\n",
    "    print('oke')"
   ]
  },
  {
   "cell_type": "code",
   "execution_count": 26,
   "metadata": {
    "collapsed": false
   },
   "outputs": [
    {
     "name": "stdout",
     "output_type": "stream",
     "text": [
      "oke\n"
     ]
    }
   ],
   "source": [
    "d3plus(df)"
   ]
  },
  {
   "cell_type": "code",
   "execution_count": 27,
   "metadata": {
    "collapsed": true
   },
   "outputs": [],
   "source": [
    "import pandas as pd\n",
    "import html5lib"
   ]
  },
  {
   "cell_type": "markdown",
   "metadata": {},
   "source": [
    "HTML táblázatok beolvasása"
   ]
  },
  {
   "cell_type": "code",
   "execution_count": 28,
   "metadata": {
    "collapsed": false
   },
   "outputs": [],
   "source": [
    "dfs=pd.read_html(r'https://hu.wikipedia.org/wiki/Marosvásárhely')"
   ]
  },
  {
   "cell_type": "code",
   "execution_count": 29,
   "metadata": {
    "collapsed": false
   },
   "outputs": [
    {
     "data": {
      "text/html": [
       "<div>\n",
       "<style>\n",
       "    .dataframe thead tr:only-child th {\n",
       "        text-align: right;\n",
       "    }\n",
       "\n",
       "    .dataframe thead th {\n",
       "        text-align: left;\n",
       "    }\n",
       "\n",
       "    .dataframe tbody tr th {\n",
       "        vertical-align: top;\n",
       "    }\n",
       "</style>\n",
       "<table border=\"1\" class=\"dataframe\">\n",
       "  <thead>\n",
       "    <tr style=\"text-align: right;\">\n",
       "      <th></th>\n",
       "      <th>0</th>\n",
       "      <th>1</th>\n",
       "      <th>2</th>\n",
       "      <th>3</th>\n",
       "      <th>4</th>\n",
       "      <th>5</th>\n",
       "      <th>6</th>\n",
       "      <th>7</th>\n",
       "      <th>8</th>\n",
       "      <th>9</th>\n",
       "      <th>10</th>\n",
       "      <th>11</th>\n",
       "      <th>12</th>\n",
       "      <th>13</th>\n",
       "    </tr>\n",
       "  </thead>\n",
       "  <tbody>\n",
       "    <tr>\n",
       "      <th>0</th>\n",
       "      <td>Marosvásárhely éghajlati jellemzői</td>\n",
       "      <td>NaN</td>\n",
       "      <td>NaN</td>\n",
       "      <td>NaN</td>\n",
       "      <td>NaN</td>\n",
       "      <td>NaN</td>\n",
       "      <td>NaN</td>\n",
       "      <td>NaN</td>\n",
       "      <td>NaN</td>\n",
       "      <td>NaN</td>\n",
       "      <td>NaN</td>\n",
       "      <td>NaN</td>\n",
       "      <td>NaN</td>\n",
       "      <td>NaN</td>\n",
       "    </tr>\n",
       "    <tr>\n",
       "      <th>1</th>\n",
       "      <td>Hónap</td>\n",
       "      <td>Jan.</td>\n",
       "      <td>Feb.</td>\n",
       "      <td>Már.</td>\n",
       "      <td>Ápr.</td>\n",
       "      <td>Máj.</td>\n",
       "      <td>Jún.</td>\n",
       "      <td>Júl.</td>\n",
       "      <td>Aug.</td>\n",
       "      <td>Szep.</td>\n",
       "      <td>Okt.</td>\n",
       "      <td>Nov.</td>\n",
       "      <td>Dec.</td>\n",
       "      <td>Év</td>\n",
       "    </tr>\n",
       "    <tr>\n",
       "      <th>2</th>\n",
       "      <td>Rekord max. hőmérséklet (°C)</td>\n",
       "      <td>140</td>\n",
       "      <td>190</td>\n",
       "      <td>270</td>\n",
       "      <td>325</td>\n",
       "      <td>344</td>\n",
       "      <td>353</td>\n",
       "      <td>390</td>\n",
       "      <td>385</td>\n",
       "      <td>382</td>\n",
       "      <td>315</td>\n",
       "      <td>265</td>\n",
       "      <td>183</td>\n",
       "      <td>390</td>\n",
       "    </tr>\n",
       "    <tr>\n",
       "      <th>3</th>\n",
       "      <td>Átlaghőmérséklet (°C)</td>\n",
       "      <td>−4,0</td>\n",
       "      <td>−1,8</td>\n",
       "      <td>40</td>\n",
       "      <td>97</td>\n",
       "      <td>148</td>\n",
       "      <td>177</td>\n",
       "      <td>194</td>\n",
       "      <td>188</td>\n",
       "      <td>146</td>\n",
       "      <td>92</td>\n",
       "      <td>37</td>\n",
       "      <td>13</td>\n",
       "      <td>90</td>\n",
       "    </tr>\n",
       "    <tr>\n",
       "      <th>4</th>\n",
       "      <td>Rekord min. hőmérséklet (°C)</td>\n",
       "      <td>−32,8</td>\n",
       "      <td>−32,0</td>\n",
       "      <td>−27,3</td>\n",
       "      <td>−7,5</td>\n",
       "      <td>−1,6</td>\n",
       "      <td>03</td>\n",
       "      <td>46</td>\n",
       "      <td>27</td>\n",
       "      <td>−3,3</td>\n",
       "      <td>−8,4</td>\n",
       "      <td>−19,6</td>\n",
       "      <td>−25,9</td>\n",
       "      <td>−32,8</td>\n",
       "    </tr>\n",
       "    <tr>\n",
       "      <th>5</th>\n",
       "      <td>Forrás: Románia statisztikai évkönyve, 2006</td>\n",
       "      <td>NaN</td>\n",
       "      <td>NaN</td>\n",
       "      <td>NaN</td>\n",
       "      <td>NaN</td>\n",
       "      <td>NaN</td>\n",
       "      <td>NaN</td>\n",
       "      <td>NaN</td>\n",
       "      <td>NaN</td>\n",
       "      <td>NaN</td>\n",
       "      <td>NaN</td>\n",
       "      <td>NaN</td>\n",
       "      <td>NaN</td>\n",
       "      <td>NaN</td>\n",
       "    </tr>\n",
       "  </tbody>\n",
       "</table>\n",
       "</div>"
      ],
      "text/plain": [
       "                                            0      1      2      3     4   \\\n",
       "0           Marosvásárhely éghajlati jellemzői    NaN    NaN    NaN   NaN   \n",
       "1                                        Hónap   Jan.   Feb.   Már.  Ápr.   \n",
       "2                 Rekord max. hőmérséklet (°C)    140    190    270   325   \n",
       "3                        Átlaghőmérséklet (°C)   −4,0   −1,8     40    97   \n",
       "4                 Rekord min. hőmérséklet (°C)  −32,8  −32,0  −27,3  −7,5   \n",
       "5  Forrás: Románia statisztikai évkönyve, 2006    NaN    NaN    NaN   NaN   \n",
       "\n",
       "     5     6     7     8      9     10     11     12     13  \n",
       "0   NaN   NaN   NaN   NaN    NaN   NaN    NaN    NaN    NaN  \n",
       "1  Máj.  Jún.  Júl.  Aug.  Szep.  Okt.   Nov.   Dec.     Év  \n",
       "2   344   353   390   385    382   315    265    183    390  \n",
       "3   148   177   194   188    146    92     37     13     90  \n",
       "4  −1,6    03    46    27   −3,3  −8,4  −19,6  −25,9  −32,8  \n",
       "5   NaN   NaN   NaN   NaN    NaN   NaN    NaN    NaN    NaN  "
      ]
     },
     "execution_count": 29,
     "metadata": {},
     "output_type": "execute_result"
    }
   ],
   "source": [
    "dfs[3]"
   ]
  },
  {
   "cell_type": "code",
   "execution_count": 30,
   "metadata": {
    "collapsed": false
   },
   "outputs": [
    {
     "data": {
      "text/html": [
       "<div>\n",
       "<style>\n",
       "    .dataframe thead tr:only-child th {\n",
       "        text-align: right;\n",
       "    }\n",
       "\n",
       "    .dataframe thead th {\n",
       "        text-align: left;\n",
       "    }\n",
       "\n",
       "    .dataframe tbody tr th {\n",
       "        vertical-align: top;\n",
       "    }\n",
       "</style>\n",
       "<table border=\"1\" class=\"dataframe\">\n",
       "  <thead>\n",
       "    <tr style=\"text-align: right;\">\n",
       "      <th></th>\n",
       "      <th>0</th>\n",
       "      <th>1</th>\n",
       "      <th>2</th>\n",
       "      <th>3</th>\n",
       "      <th>4</th>\n",
       "      <th>5</th>\n",
       "      <th>6</th>\n",
       "      <th>7</th>\n",
       "    </tr>\n",
       "  </thead>\n",
       "  <tbody>\n",
       "    <tr>\n",
       "      <th>0</th>\n",
       "      <td>Év</td>\n",
       "      <td>Összesen</td>\n",
       "      <td>Magyar</td>\n",
       "      <td>Román</td>\n",
       "      <td>Német</td>\n",
       "      <td>Zsidó</td>\n",
       "      <td>Roma</td>\n",
       "      <td>Egyéb</td>\n",
       "    </tr>\n",
       "    <tr>\n",
       "      <th>1</th>\n",
       "      <td>1850</td>\n",
       "      <td>8 719</td>\n",
       "      <td>75,1%</td>\n",
       "      <td>13,5%</td>\n",
       "      <td>2,8%</td>\n",
       "      <td>2,9%</td>\n",
       "      <td>3,8%</td>\n",
       "      <td>1,9%</td>\n",
       "    </tr>\n",
       "    <tr>\n",
       "      <th>2</th>\n",
       "      <td>1880</td>\n",
       "      <td>12 883</td>\n",
       "      <td>88,9%</td>\n",
       "      <td>5,2%</td>\n",
       "      <td>3,5%</td>\n",
       "      <td>NaN</td>\n",
       "      <td>NaN</td>\n",
       "      <td>2,4%</td>\n",
       "    </tr>\n",
       "    <tr>\n",
       "      <th>3</th>\n",
       "      <td>1900</td>\n",
       "      <td>19 552</td>\n",
       "      <td>83,3%</td>\n",
       "      <td>11,6%</td>\n",
       "      <td>3,6%</td>\n",
       "      <td>NaN</td>\n",
       "      <td>NaN</td>\n",
       "      <td>1,5%</td>\n",
       "    </tr>\n",
       "    <tr>\n",
       "      <th>4</th>\n",
       "      <td>1910</td>\n",
       "      <td>25 517</td>\n",
       "      <td>89,3%</td>\n",
       "      <td>6,7%</td>\n",
       "      <td>2,4%</td>\n",
       "      <td>NaN</td>\n",
       "      <td>NaN</td>\n",
       "      <td>1,6%</td>\n",
       "    </tr>\n",
       "    <tr>\n",
       "      <th>5</th>\n",
       "      <td>1930</td>\n",
       "      <td>40 058</td>\n",
       "      <td>57,2%</td>\n",
       "      <td>26,7%</td>\n",
       "      <td>1,7%</td>\n",
       "      <td>12,1%</td>\n",
       "      <td>1,1%</td>\n",
       "      <td>1,2%</td>\n",
       "    </tr>\n",
       "    <tr>\n",
       "      <th>6</th>\n",
       "      <td>1966</td>\n",
       "      <td>86 464</td>\n",
       "      <td>70,9%</td>\n",
       "      <td>28,3%</td>\n",
       "      <td>0,6%</td>\n",
       "      <td>NaN</td>\n",
       "      <td>NaN</td>\n",
       "      <td>0,2%</td>\n",
       "    </tr>\n",
       "    <tr>\n",
       "      <th>7</th>\n",
       "      <td>1977</td>\n",
       "      <td>130 076</td>\n",
       "      <td>63,6%</td>\n",
       "      <td>34,8%</td>\n",
       "      <td>0,6%</td>\n",
       "      <td>0,4%</td>\n",
       "      <td>0,5%</td>\n",
       "      <td>0,1%</td>\n",
       "    </tr>\n",
       "    <tr>\n",
       "      <th>8</th>\n",
       "      <td>1992</td>\n",
       "      <td>164 445</td>\n",
       "      <td>51,4%</td>\n",
       "      <td>46,1%</td>\n",
       "      <td>0,3%</td>\n",
       "      <td>0,1%</td>\n",
       "      <td>2%</td>\n",
       "      <td>0,1%</td>\n",
       "    </tr>\n",
       "    <tr>\n",
       "      <th>9</th>\n",
       "      <td>2002</td>\n",
       "      <td>150 041</td>\n",
       "      <td>46,7%</td>\n",
       "      <td>50,3%</td>\n",
       "      <td>0,2%</td>\n",
       "      <td>0,1%</td>\n",
       "      <td>2,4%</td>\n",
       "      <td>0,2%</td>\n",
       "    </tr>\n",
       "    <tr>\n",
       "      <th>10</th>\n",
       "      <td>2011[16]</td>\n",
       "      <td>134 290</td>\n",
       "      <td>42,84%</td>\n",
       "      <td>49,17%</td>\n",
       "      <td>0,15%</td>\n",
       "      <td>0,05%</td>\n",
       "      <td>2,32%</td>\n",
       "      <td>5,47%</td>\n",
       "    </tr>\n",
       "  </tbody>\n",
       "</table>\n",
       "</div>"
      ],
      "text/plain": [
       "           0         1       2       3      4      5      6      7\n",
       "0         Év  Összesen  Magyar   Román  Német  Zsidó   Roma  Egyéb\n",
       "1       1850     8 719   75,1%   13,5%   2,8%   2,9%   3,8%   1,9%\n",
       "2       1880    12 883   88,9%    5,2%   3,5%    NaN    NaN   2,4%\n",
       "3       1900    19 552   83,3%   11,6%   3,6%    NaN    NaN   1,5%\n",
       "4       1910    25 517   89,3%    6,7%   2,4%    NaN    NaN   1,6%\n",
       "5       1930    40 058   57,2%   26,7%   1,7%  12,1%   1,1%   1,2%\n",
       "6       1966    86 464   70,9%   28,3%   0,6%    NaN    NaN   0,2%\n",
       "7       1977   130 076   63,6%   34,8%   0,6%   0,4%   0,5%   0,1%\n",
       "8       1992   164 445   51,4%   46,1%   0,3%   0,1%     2%   0,1%\n",
       "9       2002   150 041   46,7%   50,3%   0,2%   0,1%   2,4%   0,2%\n",
       "10  2011[16]   134 290  42,84%  49,17%  0,15%  0,05%  2,32%  5,47%"
      ]
     },
     "execution_count": 30,
     "metadata": {},
     "output_type": "execute_result"
    }
   ],
   "source": [
    "dfs[9]"
   ]
  },
  {
   "cell_type": "code",
   "execution_count": 35,
   "metadata": {
    "collapsed": true
   },
   "outputs": [],
   "source": [
    "df=dfs[9]"
   ]
  },
  {
   "cell_type": "code",
   "execution_count": 36,
   "metadata": {
    "collapsed": false
   },
   "outputs": [
    {
     "data": {
      "text/html": [
       "<div>\n",
       "<style>\n",
       "    .dataframe thead tr:only-child th {\n",
       "        text-align: right;\n",
       "    }\n",
       "\n",
       "    .dataframe thead th {\n",
       "        text-align: left;\n",
       "    }\n",
       "\n",
       "    .dataframe tbody tr th {\n",
       "        vertical-align: top;\n",
       "    }\n",
       "</style>\n",
       "<table border=\"1\" class=\"dataframe\">\n",
       "  <thead>\n",
       "    <tr style=\"text-align: right;\">\n",
       "      <th></th>\n",
       "      <th>0</th>\n",
       "      <th>1</th>\n",
       "      <th>2</th>\n",
       "      <th>3</th>\n",
       "      <th>4</th>\n",
       "      <th>5</th>\n",
       "      <th>6</th>\n",
       "      <th>7</th>\n",
       "    </tr>\n",
       "  </thead>\n",
       "  <tbody>\n",
       "    <tr>\n",
       "      <th>0</th>\n",
       "      <td>Év</td>\n",
       "      <td>Összesen</td>\n",
       "      <td>Magyar</td>\n",
       "      <td>Román</td>\n",
       "      <td>Német</td>\n",
       "      <td>Zsidó</td>\n",
       "      <td>Roma</td>\n",
       "      <td>Egyéb</td>\n",
       "    </tr>\n",
       "    <tr>\n",
       "      <th>1</th>\n",
       "      <td>1850</td>\n",
       "      <td>8 719</td>\n",
       "      <td>75,1%</td>\n",
       "      <td>13,5%</td>\n",
       "      <td>2,8%</td>\n",
       "      <td>2,9%</td>\n",
       "      <td>3,8%</td>\n",
       "      <td>1,9%</td>\n",
       "    </tr>\n",
       "    <tr>\n",
       "      <th>2</th>\n",
       "      <td>1880</td>\n",
       "      <td>12 883</td>\n",
       "      <td>88,9%</td>\n",
       "      <td>5,2%</td>\n",
       "      <td>3,5%</td>\n",
       "      <td>NaN</td>\n",
       "      <td>NaN</td>\n",
       "      <td>2,4%</td>\n",
       "    </tr>\n",
       "    <tr>\n",
       "      <th>3</th>\n",
       "      <td>1900</td>\n",
       "      <td>19 552</td>\n",
       "      <td>83,3%</td>\n",
       "      <td>11,6%</td>\n",
       "      <td>3,6%</td>\n",
       "      <td>NaN</td>\n",
       "      <td>NaN</td>\n",
       "      <td>1,5%</td>\n",
       "    </tr>\n",
       "    <tr>\n",
       "      <th>4</th>\n",
       "      <td>1910</td>\n",
       "      <td>25 517</td>\n",
       "      <td>89,3%</td>\n",
       "      <td>6,7%</td>\n",
       "      <td>2,4%</td>\n",
       "      <td>NaN</td>\n",
       "      <td>NaN</td>\n",
       "      <td>1,6%</td>\n",
       "    </tr>\n",
       "    <tr>\n",
       "      <th>5</th>\n",
       "      <td>1930</td>\n",
       "      <td>40 058</td>\n",
       "      <td>57,2%</td>\n",
       "      <td>26,7%</td>\n",
       "      <td>1,7%</td>\n",
       "      <td>12,1%</td>\n",
       "      <td>1,1%</td>\n",
       "      <td>1,2%</td>\n",
       "    </tr>\n",
       "    <tr>\n",
       "      <th>6</th>\n",
       "      <td>1966</td>\n",
       "      <td>86 464</td>\n",
       "      <td>70,9%</td>\n",
       "      <td>28,3%</td>\n",
       "      <td>0,6%</td>\n",
       "      <td>NaN</td>\n",
       "      <td>NaN</td>\n",
       "      <td>0,2%</td>\n",
       "    </tr>\n",
       "    <tr>\n",
       "      <th>7</th>\n",
       "      <td>1977</td>\n",
       "      <td>130 076</td>\n",
       "      <td>63,6%</td>\n",
       "      <td>34,8%</td>\n",
       "      <td>0,6%</td>\n",
       "      <td>0,4%</td>\n",
       "      <td>0,5%</td>\n",
       "      <td>0,1%</td>\n",
       "    </tr>\n",
       "    <tr>\n",
       "      <th>8</th>\n",
       "      <td>1992</td>\n",
       "      <td>164 445</td>\n",
       "      <td>51,4%</td>\n",
       "      <td>46,1%</td>\n",
       "      <td>0,3%</td>\n",
       "      <td>0,1%</td>\n",
       "      <td>2%</td>\n",
       "      <td>0,1%</td>\n",
       "    </tr>\n",
       "    <tr>\n",
       "      <th>9</th>\n",
       "      <td>2002</td>\n",
       "      <td>150 041</td>\n",
       "      <td>46,7%</td>\n",
       "      <td>50,3%</td>\n",
       "      <td>0,2%</td>\n",
       "      <td>0,1%</td>\n",
       "      <td>2,4%</td>\n",
       "      <td>0,2%</td>\n",
       "    </tr>\n",
       "    <tr>\n",
       "      <th>10</th>\n",
       "      <td>2011[16]</td>\n",
       "      <td>134 290</td>\n",
       "      <td>42,84%</td>\n",
       "      <td>49,17%</td>\n",
       "      <td>0,15%</td>\n",
       "      <td>0,05%</td>\n",
       "      <td>2,32%</td>\n",
       "      <td>5,47%</td>\n",
       "    </tr>\n",
       "  </tbody>\n",
       "</table>\n",
       "</div>"
      ],
      "text/plain": [
       "           0         1       2       3      4      5      6      7\n",
       "0         Év  Összesen  Magyar   Román  Német  Zsidó   Roma  Egyéb\n",
       "1       1850     8 719   75,1%   13,5%   2,8%   2,9%   3,8%   1,9%\n",
       "2       1880    12 883   88,9%    5,2%   3,5%    NaN    NaN   2,4%\n",
       "3       1900    19 552   83,3%   11,6%   3,6%    NaN    NaN   1,5%\n",
       "4       1910    25 517   89,3%    6,7%   2,4%    NaN    NaN   1,6%\n",
       "5       1930    40 058   57,2%   26,7%   1,7%  12,1%   1,1%   1,2%\n",
       "6       1966    86 464   70,9%   28,3%   0,6%    NaN    NaN   0,2%\n",
       "7       1977   130 076   63,6%   34,8%   0,6%   0,4%   0,5%   0,1%\n",
       "8       1992   164 445   51,4%   46,1%   0,3%   0,1%     2%   0,1%\n",
       "9       2002   150 041   46,7%   50,3%   0,2%   0,1%   2,4%   0,2%\n",
       "10  2011[16]   134 290  42,84%  49,17%  0,15%  0,05%  2,32%  5,47%"
      ]
     },
     "execution_count": 36,
     "metadata": {},
     "output_type": "execute_result"
    }
   ],
   "source": [
    "df"
   ]
  },
  {
   "cell_type": "code",
   "execution_count": 37,
   "metadata": {
    "collapsed": false
   },
   "outputs": [
    {
     "data": {
      "text/plain": [
       "0          Év\n",
       "1    Összesen\n",
       "2      Magyar\n",
       "3       Román\n",
       "4       Német\n",
       "5       Zsidó\n",
       "6        Roma\n",
       "7       Egyéb\n",
       "Name: 0, dtype: object"
      ]
     },
     "execution_count": 37,
     "metadata": {},
     "output_type": "execute_result"
    }
   ],
   "source": [
    "df.loc[0]"
   ]
  },
  {
   "cell_type": "code",
   "execution_count": 38,
   "metadata": {
    "collapsed": false
   },
   "outputs": [
    {
     "data": {
      "text/plain": [
       "Int64Index([0, 1, 2, 3, 4, 5, 6, 7], dtype='int64')"
      ]
     },
     "execution_count": 38,
     "metadata": {},
     "output_type": "execute_result"
    }
   ],
   "source": [
    "df.columns"
   ]
  },
  {
   "cell_type": "markdown",
   "metadata": {},
   "source": [
    "Oszlopok neveinek kicserélése"
   ]
  },
  {
   "cell_type": "code",
   "execution_count": 39,
   "metadata": {
    "collapsed": true
   },
   "outputs": [],
   "source": [
    "df.columns=df.loc[0]"
   ]
  },
  {
   "cell_type": "code",
   "execution_count": 40,
   "metadata": {
    "collapsed": false
   },
   "outputs": [
    {
     "data": {
      "text/html": [
       "<div>\n",
       "<style>\n",
       "    .dataframe thead tr:only-child th {\n",
       "        text-align: right;\n",
       "    }\n",
       "\n",
       "    .dataframe thead th {\n",
       "        text-align: left;\n",
       "    }\n",
       "\n",
       "    .dataframe tbody tr th {\n",
       "        vertical-align: top;\n",
       "    }\n",
       "</style>\n",
       "<table border=\"1\" class=\"dataframe\">\n",
       "  <thead>\n",
       "    <tr style=\"text-align: right;\">\n",
       "      <th></th>\n",
       "      <th>Év</th>\n",
       "      <th>Összesen</th>\n",
       "      <th>Magyar</th>\n",
       "      <th>Román</th>\n",
       "      <th>Német</th>\n",
       "      <th>Zsidó</th>\n",
       "      <th>Roma</th>\n",
       "      <th>Egyéb</th>\n",
       "    </tr>\n",
       "  </thead>\n",
       "  <tbody>\n",
       "    <tr>\n",
       "      <th>0</th>\n",
       "      <td>Év</td>\n",
       "      <td>Összesen</td>\n",
       "      <td>Magyar</td>\n",
       "      <td>Román</td>\n",
       "      <td>Német</td>\n",
       "      <td>Zsidó</td>\n",
       "      <td>Roma</td>\n",
       "      <td>Egyéb</td>\n",
       "    </tr>\n",
       "    <tr>\n",
       "      <th>1</th>\n",
       "      <td>1850</td>\n",
       "      <td>8 719</td>\n",
       "      <td>75,1%</td>\n",
       "      <td>13,5%</td>\n",
       "      <td>2,8%</td>\n",
       "      <td>2,9%</td>\n",
       "      <td>3,8%</td>\n",
       "      <td>1,9%</td>\n",
       "    </tr>\n",
       "    <tr>\n",
       "      <th>2</th>\n",
       "      <td>1880</td>\n",
       "      <td>12 883</td>\n",
       "      <td>88,9%</td>\n",
       "      <td>5,2%</td>\n",
       "      <td>3,5%</td>\n",
       "      <td>NaN</td>\n",
       "      <td>NaN</td>\n",
       "      <td>2,4%</td>\n",
       "    </tr>\n",
       "    <tr>\n",
       "      <th>3</th>\n",
       "      <td>1900</td>\n",
       "      <td>19 552</td>\n",
       "      <td>83,3%</td>\n",
       "      <td>11,6%</td>\n",
       "      <td>3,6%</td>\n",
       "      <td>NaN</td>\n",
       "      <td>NaN</td>\n",
       "      <td>1,5%</td>\n",
       "    </tr>\n",
       "    <tr>\n",
       "      <th>4</th>\n",
       "      <td>1910</td>\n",
       "      <td>25 517</td>\n",
       "      <td>89,3%</td>\n",
       "      <td>6,7%</td>\n",
       "      <td>2,4%</td>\n",
       "      <td>NaN</td>\n",
       "      <td>NaN</td>\n",
       "      <td>1,6%</td>\n",
       "    </tr>\n",
       "    <tr>\n",
       "      <th>5</th>\n",
       "      <td>1930</td>\n",
       "      <td>40 058</td>\n",
       "      <td>57,2%</td>\n",
       "      <td>26,7%</td>\n",
       "      <td>1,7%</td>\n",
       "      <td>12,1%</td>\n",
       "      <td>1,1%</td>\n",
       "      <td>1,2%</td>\n",
       "    </tr>\n",
       "    <tr>\n",
       "      <th>6</th>\n",
       "      <td>1966</td>\n",
       "      <td>86 464</td>\n",
       "      <td>70,9%</td>\n",
       "      <td>28,3%</td>\n",
       "      <td>0,6%</td>\n",
       "      <td>NaN</td>\n",
       "      <td>NaN</td>\n",
       "      <td>0,2%</td>\n",
       "    </tr>\n",
       "    <tr>\n",
       "      <th>7</th>\n",
       "      <td>1977</td>\n",
       "      <td>130 076</td>\n",
       "      <td>63,6%</td>\n",
       "      <td>34,8%</td>\n",
       "      <td>0,6%</td>\n",
       "      <td>0,4%</td>\n",
       "      <td>0,5%</td>\n",
       "      <td>0,1%</td>\n",
       "    </tr>\n",
       "    <tr>\n",
       "      <th>8</th>\n",
       "      <td>1992</td>\n",
       "      <td>164 445</td>\n",
       "      <td>51,4%</td>\n",
       "      <td>46,1%</td>\n",
       "      <td>0,3%</td>\n",
       "      <td>0,1%</td>\n",
       "      <td>2%</td>\n",
       "      <td>0,1%</td>\n",
       "    </tr>\n",
       "    <tr>\n",
       "      <th>9</th>\n",
       "      <td>2002</td>\n",
       "      <td>150 041</td>\n",
       "      <td>46,7%</td>\n",
       "      <td>50,3%</td>\n",
       "      <td>0,2%</td>\n",
       "      <td>0,1%</td>\n",
       "      <td>2,4%</td>\n",
       "      <td>0,2%</td>\n",
       "    </tr>\n",
       "    <tr>\n",
       "      <th>10</th>\n",
       "      <td>2011[16]</td>\n",
       "      <td>134 290</td>\n",
       "      <td>42,84%</td>\n",
       "      <td>49,17%</td>\n",
       "      <td>0,15%</td>\n",
       "      <td>0,05%</td>\n",
       "      <td>2,32%</td>\n",
       "      <td>5,47%</td>\n",
       "    </tr>\n",
       "  </tbody>\n",
       "</table>\n",
       "</div>"
      ],
      "text/plain": [
       "0         Év  Összesen  Magyar   Román  Német  Zsidó   Roma  Egyéb\n",
       "0         Év  Összesen  Magyar   Román  Német  Zsidó   Roma  Egyéb\n",
       "1       1850     8 719   75,1%   13,5%   2,8%   2,9%   3,8%   1,9%\n",
       "2       1880    12 883   88,9%    5,2%   3,5%    NaN    NaN   2,4%\n",
       "3       1900    19 552   83,3%   11,6%   3,6%    NaN    NaN   1,5%\n",
       "4       1910    25 517   89,3%    6,7%   2,4%    NaN    NaN   1,6%\n",
       "5       1930    40 058   57,2%   26,7%   1,7%  12,1%   1,1%   1,2%\n",
       "6       1966    86 464   70,9%   28,3%   0,6%    NaN    NaN   0,2%\n",
       "7       1977   130 076   63,6%   34,8%   0,6%   0,4%   0,5%   0,1%\n",
       "8       1992   164 445   51,4%   46,1%   0,3%   0,1%     2%   0,1%\n",
       "9       2002   150 041   46,7%   50,3%   0,2%   0,1%   2,4%   0,2%\n",
       "10  2011[16]   134 290  42,84%  49,17%  0,15%  0,05%  2,32%  5,47%"
      ]
     },
     "execution_count": 40,
     "metadata": {},
     "output_type": "execute_result"
    }
   ],
   "source": [
    "df"
   ]
  },
  {
   "cell_type": "markdown",
   "metadata": {},
   "source": [
    "Szeletelés a sorokban"
   ]
  },
  {
   "cell_type": "code",
   "execution_count": 41,
   "metadata": {
    "collapsed": false
   },
   "outputs": [],
   "source": [
    "de=df.loc[1:9]"
   ]
  },
  {
   "cell_type": "code",
   "execution_count": 42,
   "metadata": {
    "collapsed": false
   },
   "outputs": [
    {
     "data": {
      "text/html": [
       "<div>\n",
       "<style>\n",
       "    .dataframe thead tr:only-child th {\n",
       "        text-align: right;\n",
       "    }\n",
       "\n",
       "    .dataframe thead th {\n",
       "        text-align: left;\n",
       "    }\n",
       "\n",
       "    .dataframe tbody tr th {\n",
       "        vertical-align: top;\n",
       "    }\n",
       "</style>\n",
       "<table border=\"1\" class=\"dataframe\">\n",
       "  <thead>\n",
       "    <tr style=\"text-align: right;\">\n",
       "      <th></th>\n",
       "      <th>Év</th>\n",
       "      <th>Összesen</th>\n",
       "      <th>Magyar</th>\n",
       "      <th>Román</th>\n",
       "      <th>Német</th>\n",
       "      <th>Zsidó</th>\n",
       "      <th>Roma</th>\n",
       "      <th>Egyéb</th>\n",
       "    </tr>\n",
       "  </thead>\n",
       "  <tbody>\n",
       "    <tr>\n",
       "      <th>1</th>\n",
       "      <td>1850</td>\n",
       "      <td>8 719</td>\n",
       "      <td>75,1%</td>\n",
       "      <td>13,5%</td>\n",
       "      <td>2,8%</td>\n",
       "      <td>2,9%</td>\n",
       "      <td>3,8%</td>\n",
       "      <td>1,9%</td>\n",
       "    </tr>\n",
       "    <tr>\n",
       "      <th>2</th>\n",
       "      <td>1880</td>\n",
       "      <td>12 883</td>\n",
       "      <td>88,9%</td>\n",
       "      <td>5,2%</td>\n",
       "      <td>3,5%</td>\n",
       "      <td>NaN</td>\n",
       "      <td>NaN</td>\n",
       "      <td>2,4%</td>\n",
       "    </tr>\n",
       "    <tr>\n",
       "      <th>3</th>\n",
       "      <td>1900</td>\n",
       "      <td>19 552</td>\n",
       "      <td>83,3%</td>\n",
       "      <td>11,6%</td>\n",
       "      <td>3,6%</td>\n",
       "      <td>NaN</td>\n",
       "      <td>NaN</td>\n",
       "      <td>1,5%</td>\n",
       "    </tr>\n",
       "    <tr>\n",
       "      <th>4</th>\n",
       "      <td>1910</td>\n",
       "      <td>25 517</td>\n",
       "      <td>89,3%</td>\n",
       "      <td>6,7%</td>\n",
       "      <td>2,4%</td>\n",
       "      <td>NaN</td>\n",
       "      <td>NaN</td>\n",
       "      <td>1,6%</td>\n",
       "    </tr>\n",
       "    <tr>\n",
       "      <th>5</th>\n",
       "      <td>1930</td>\n",
       "      <td>40 058</td>\n",
       "      <td>57,2%</td>\n",
       "      <td>26,7%</td>\n",
       "      <td>1,7%</td>\n",
       "      <td>12,1%</td>\n",
       "      <td>1,1%</td>\n",
       "      <td>1,2%</td>\n",
       "    </tr>\n",
       "    <tr>\n",
       "      <th>6</th>\n",
       "      <td>1966</td>\n",
       "      <td>86 464</td>\n",
       "      <td>70,9%</td>\n",
       "      <td>28,3%</td>\n",
       "      <td>0,6%</td>\n",
       "      <td>NaN</td>\n",
       "      <td>NaN</td>\n",
       "      <td>0,2%</td>\n",
       "    </tr>\n",
       "    <tr>\n",
       "      <th>7</th>\n",
       "      <td>1977</td>\n",
       "      <td>130 076</td>\n",
       "      <td>63,6%</td>\n",
       "      <td>34,8%</td>\n",
       "      <td>0,6%</td>\n",
       "      <td>0,4%</td>\n",
       "      <td>0,5%</td>\n",
       "      <td>0,1%</td>\n",
       "    </tr>\n",
       "    <tr>\n",
       "      <th>8</th>\n",
       "      <td>1992</td>\n",
       "      <td>164 445</td>\n",
       "      <td>51,4%</td>\n",
       "      <td>46,1%</td>\n",
       "      <td>0,3%</td>\n",
       "      <td>0,1%</td>\n",
       "      <td>2%</td>\n",
       "      <td>0,1%</td>\n",
       "    </tr>\n",
       "    <tr>\n",
       "      <th>9</th>\n",
       "      <td>2002</td>\n",
       "      <td>150 041</td>\n",
       "      <td>46,7%</td>\n",
       "      <td>50,3%</td>\n",
       "      <td>0,2%</td>\n",
       "      <td>0,1%</td>\n",
       "      <td>2,4%</td>\n",
       "      <td>0,2%</td>\n",
       "    </tr>\n",
       "  </tbody>\n",
       "</table>\n",
       "</div>"
      ],
      "text/plain": [
       "0    Év Összesen Magyar  Román Német  Zsidó  Roma Egyéb\n",
       "1  1850    8 719  75,1%  13,5%  2,8%   2,9%  3,8%  1,9%\n",
       "2  1880   12 883  88,9%   5,2%  3,5%    NaN   NaN  2,4%\n",
       "3  1900   19 552  83,3%  11,6%  3,6%    NaN   NaN  1,5%\n",
       "4  1910   25 517  89,3%   6,7%  2,4%    NaN   NaN  1,6%\n",
       "5  1930   40 058  57,2%  26,7%  1,7%  12,1%  1,1%  1,2%\n",
       "6  1966   86 464  70,9%  28,3%  0,6%    NaN   NaN  0,2%\n",
       "7  1977  130 076  63,6%  34,8%  0,6%   0,4%  0,5%  0,1%\n",
       "8  1992  164 445  51,4%  46,1%  0,3%   0,1%    2%  0,1%\n",
       "9  2002  150 041  46,7%  50,3%  0,2%   0,1%  2,4%  0,2%"
      ]
     },
     "execution_count": 42,
     "metadata": {},
     "output_type": "execute_result"
    }
   ],
   "source": [
    "de"
   ]
  },
  {
   "cell_type": "markdown",
   "metadata": {},
   "source": [
    "Stringek átaáalkítás számokká, tizedes vessző miatt"
   ]
  },
  {
   "cell_type": "code",
   "execution_count": 43,
   "metadata": {
    "collapsed": false
   },
   "outputs": [
    {
     "name": "stdout",
     "output_type": "stream",
     "text": [
      "1\n",
      "[75.1]\n",
      "2\n",
      "[75.1, 88.9]\n",
      "3\n",
      "[75.1, 88.9, 83.3]\n",
      "4\n",
      "[75.1, 88.9, 83.3, 89.3]\n",
      "5\n",
      "[75.1, 88.9, 83.3, 89.3, 57.2]\n",
      "6\n",
      "[75.1, 88.9, 83.3, 89.3, 57.2, 70.9]\n",
      "7\n",
      "[75.1, 88.9, 83.3, 89.3, 57.2, 70.9, 63.6]\n",
      "8\n",
      "[75.1, 88.9, 83.3, 89.3, 57.2, 70.9, 63.6, 51.4]\n",
      "9\n",
      "[75.1, 88.9, 83.3, 89.3, 57.2, 70.9, 63.6, 51.4, 46.7]\n"
     ]
    }
   ],
   "source": [
    "ures=[]\n",
    "for i in range(1,10):\n",
    "    print(i)\n",
    "    elso=int(de.loc[i]['Magyar'][:2])\n",
    "    masodik=int(de.loc[i]['Magyar'][3:4])\n",
    "    ures.append(elso+masodik/10.0)\n",
    "    print(ures)"
   ]
  },
  {
   "cell_type": "code",
   "execution_count": 44,
   "metadata": {
    "collapsed": false,
    "scrolled": true
   },
   "outputs": [
    {
     "name": "stderr",
     "output_type": "stream",
     "text": [
      "C:\\Anaconda2\\lib\\site-packages\\ipykernel\\__main__.py:1: SettingWithCopyWarning: \n",
      "A value is trying to be set on a copy of a slice from a DataFrame.\n",
      "Try using .loc[row_indexer,col_indexer] = value instead\n",
      "\n",
      "See the caveats in the documentation: http://pandas.pydata.org/pandas-docs/stable/indexing.html#indexing-view-versus-copy\n",
      "  if __name__ == '__main__':\n"
     ]
    }
   ],
   "source": [
    "de['ujoszlop']=ures"
   ]
  },
  {
   "cell_type": "code",
   "execution_count": 45,
   "metadata": {
    "collapsed": false
   },
   "outputs": [],
   "source": [
    "open('mv2.json','w').write(json.dumps(list(json.loads(de.T.to_json()).values())))\n",
    "    "
   ]
  }
 ],
 "metadata": {
  "kernelspec": {
   "display_name": "Python [conda env:Anaconda2]",
   "language": "python",
   "name": "conda-env-Anaconda2-py"
  },
  "language_info": {
   "codemirror_mode": {
    "name": "ipython",
    "version": 2
   },
   "file_extension": ".py",
   "mimetype": "text/x-python",
   "name": "python",
   "nbconvert_exporter": "python",
   "pygments_lexer": "ipython2",
   "version": "2.7.13"
  }
 },
 "nbformat": 4,
 "nbformat_minor": 2
}
