{
 "cells": [
  {
   "cell_type": "markdown",
   "metadata": {},
   "source": [
    "# BI kurzus"
   ]
  },
  {
   "cell_type": "markdown",
   "metadata": {},
   "source": [
    "Bővítőcsomagok importálása:"
   ]
  },
  {
   "cell_type": "code",
   "execution_count": 1,
   "metadata": {
    "ExecuteTime": {
     "end_time": "2018-12-22T20:05:29.527195Z",
     "start_time": "2018-12-22T20:05:28.634271Z"
    }
   },
   "outputs": [],
   "source": [
    "import pandas as pd\n",
    "import html5lib"
   ]
  },
  {
   "cell_type": "code",
   "execution_count": 2,
   "metadata": {
    "ExecuteTime": {
     "end_time": "2018-12-22T20:05:30.561809Z",
     "start_time": "2018-12-22T20:05:29.529242Z"
    }
   },
   "outputs": [],
   "source": [
    "import matplotlib.pyplot as plt\n",
    "%matplotlib inline "
   ]
  },
  {
   "cell_type": "markdown",
   "metadata": {},
   "source": [
    "Romániai lakosság letöltése INSSE-ról:"
   ]
  },
  {
   "cell_type": "markdown",
   "metadata": {},
   "source": [
    "Előzetesen letöltött fájlútvonalt használunk."
   ]
  },
  {
   "cell_type": "code",
   "execution_count": 7,
   "metadata": {
    "ExecuteTime": {
     "end_time": "2018-12-22T20:06:42.524207Z",
     "start_time": "2018-12-22T20:06:42.519208Z"
    }
   },
   "outputs": [],
   "source": [
    "#https://www.csaladen.es/present/sapientia1/exportPivot_POP105A.csv\n",
    "csv_path='exportPivot_POP105A.csv' #SAJAT HELY CSV FILE"
   ]
  },
  {
   "cell_type": "code",
   "execution_count": 8,
   "metadata": {
    "ExecuteTime": {
     "end_time": "2018-12-22T20:06:43.224002Z",
     "start_time": "2018-12-22T20:06:43.181011Z"
    }
   },
   "outputs": [],
   "source": [
    "df=pd.read_csv(csv_path)"
   ]
  },
  {
   "cell_type": "code",
   "execution_count": 9,
   "metadata": {
    "ExecuteTime": {
     "end_time": "2018-12-22T20:06:43.786506Z",
     "start_time": "2018-12-22T20:06:43.760509Z"
    },
    "scrolled": true
   },
   "outputs": [
    {
     "data": {
      "text/html": [
       "<div>\n",
       "<style scoped>\n",
       "    .dataframe tbody tr th:only-of-type {\n",
       "        vertical-align: middle;\n",
       "    }\n",
       "\n",
       "    .dataframe tbody tr th {\n",
       "        vertical-align: top;\n",
       "    }\n",
       "\n",
       "    .dataframe thead th {\n",
       "        text-align: right;\n",
       "    }\n",
       "</style>\n",
       "<table border=\"1\" class=\"dataframe\">\n",
       "  <thead>\n",
       "    <tr style=\"text-align: right;\">\n",
       "      <th></th>\n",
       "      <th>Varste si grupe de varsta</th>\n",
       "      <th>Sexe</th>\n",
       "      <th>Medii de rezidenta</th>\n",
       "      <th>Macroregiuni  regiuni de dezvoltare si judete</th>\n",
       "      <th>Ani</th>\n",
       "      <th>UM: Numar persoane</th>\n",
       "      <th>Valoare</th>\n",
       "    </tr>\n",
       "  </thead>\n",
       "  <tbody>\n",
       "    <tr>\n",
       "      <th>0</th>\n",
       "      <td>Total</td>\n",
       "      <td>Total</td>\n",
       "      <td>Total</td>\n",
       "      <td>Covasna</td>\n",
       "      <td>Anul 2012</td>\n",
       "      <td>Numar persoane</td>\n",
       "      <td>209713</td>\n",
       "    </tr>\n",
       "    <tr>\n",
       "      <th>1</th>\n",
       "      <td>Total</td>\n",
       "      <td>Total</td>\n",
       "      <td>Total</td>\n",
       "      <td>Covasna</td>\n",
       "      <td>Anul 2013</td>\n",
       "      <td>Numar persoane</td>\n",
       "      <td>208976</td>\n",
       "    </tr>\n",
       "    <tr>\n",
       "      <th>2</th>\n",
       "      <td>Total</td>\n",
       "      <td>Total</td>\n",
       "      <td>Total</td>\n",
       "      <td>Covasna</td>\n",
       "      <td>Anul 2014</td>\n",
       "      <td>Numar persoane</td>\n",
       "      <td>208628</td>\n",
       "    </tr>\n",
       "    <tr>\n",
       "      <th>3</th>\n",
       "      <td>Total</td>\n",
       "      <td>Total</td>\n",
       "      <td>Total</td>\n",
       "      <td>Covasna</td>\n",
       "      <td>Anul 2015</td>\n",
       "      <td>Numar persoane</td>\n",
       "      <td>207596</td>\n",
       "    </tr>\n",
       "    <tr>\n",
       "      <th>4</th>\n",
       "      <td>Total</td>\n",
       "      <td>Total</td>\n",
       "      <td>Total</td>\n",
       "      <td>Covasna</td>\n",
       "      <td>Anul 2016</td>\n",
       "      <td>Numar persoane</td>\n",
       "      <td>206322</td>\n",
       "    </tr>\n",
       "  </tbody>\n",
       "</table>\n",
       "</div>"
      ],
      "text/plain": [
       "  Varste si grupe de varsta    Sexe  Medii de rezidenta  \\\n",
       "0                     Total   Total               Total   \n",
       "1                     Total   Total               Total   \n",
       "2                     Total   Total               Total   \n",
       "3                     Total   Total               Total   \n",
       "4                     Total   Total               Total   \n",
       "\n",
       "   Macroregiuni  regiuni de dezvoltare si judete         Ani  \\\n",
       "0                                        Covasna   Anul 2012   \n",
       "1                                        Covasna   Anul 2013   \n",
       "2                                        Covasna   Anul 2014   \n",
       "3                                        Covasna   Anul 2015   \n",
       "4                                        Covasna   Anul 2016   \n",
       "\n",
       "   UM: Numar persoane   Valoare  \n",
       "0      Numar persoane    209713  \n",
       "1      Numar persoane    208976  \n",
       "2      Numar persoane    208628  \n",
       "3      Numar persoane    207596  \n",
       "4      Numar persoane    206322  "
      ]
     },
     "execution_count": 9,
     "metadata": {},
     "output_type": "execute_result"
    }
   ],
   "source": [
    "df.head()"
   ]
  },
  {
   "cell_type": "markdown",
   "metadata": {},
   "source": [
    "Wikipédia táblázatok letöltése"
   ]
  },
  {
   "cell_type": "code",
   "execution_count": 10,
   "metadata": {
    "ExecuteTime": {
     "end_time": "2018-12-22T20:06:44.505167Z",
     "start_time": "2018-12-22T20:06:44.501166Z"
    }
   },
   "outputs": [],
   "source": [
    "wiki_path=\"http://hu.wikipedia.org/wiki/Csíkszereda\""
   ]
  },
  {
   "cell_type": "markdown",
   "metadata": {},
   "source": [
    "Ha `html5llib not found` hibaüzenetet kapunk, akkor egy konzol (`Command Prompt`, `Parancssor`) megnyitásával és a `conda install html5lib` vagy `pip install html5lib` parancsokal telepítjük. Ezután újra kell indítani a `Jupyter`-t."
   ]
  },
  {
   "cell_type": "code",
   "execution_count": 11,
   "metadata": {
    "ExecuteTime": {
     "end_time": "2018-12-22T20:06:46.030875Z",
     "start_time": "2018-12-22T20:06:45.612756Z"
    }
   },
   "outputs": [
    {
     "ename": "UnicodeEncodeError",
     "evalue": "'ascii' codec can't encode character '\\xed' in position 12: ordinal not in range(128)",
     "output_type": "error",
     "traceback": [
      "\u001b[1;31m---------------------------------------------------------------------------\u001b[0m",
      "\u001b[1;31mUnicodeEncodeError\u001b[0m                        Traceback (most recent call last)",
      "\u001b[1;32m<ipython-input-11-e3a2d83071a8>\u001b[0m in \u001b[0;36m<module>\u001b[1;34m()\u001b[0m\n\u001b[1;32m----> 1\u001b[1;33m \u001b[0mdf2\u001b[0m\u001b[1;33m=\u001b[0m\u001b[0mpd\u001b[0m\u001b[1;33m.\u001b[0m\u001b[0mread_html\u001b[0m\u001b[1;33m(\u001b[0m\u001b[0mwiki_path\u001b[0m\u001b[1;33m)\u001b[0m\u001b[1;33m\u001b[0m\u001b[0m\n\u001b[0m",
      "\u001b[1;32mC:\\ProgramData\\Anaconda3\\lib\\site-packages\\pandas\\io\\html.py\u001b[0m in \u001b[0;36mread_html\u001b[1;34m(io, match, flavor, header, index_col, skiprows, attrs, parse_dates, tupleize_cols, thousands, encoding, decimal, converters, na_values, keep_default_na, displayed_only)\u001b[0m\n\u001b[0;32m    985\u001b[0m                   \u001b[0mdecimal\u001b[0m\u001b[1;33m=\u001b[0m\u001b[0mdecimal\u001b[0m\u001b[1;33m,\u001b[0m \u001b[0mconverters\u001b[0m\u001b[1;33m=\u001b[0m\u001b[0mconverters\u001b[0m\u001b[1;33m,\u001b[0m \u001b[0mna_values\u001b[0m\u001b[1;33m=\u001b[0m\u001b[0mna_values\u001b[0m\u001b[1;33m,\u001b[0m\u001b[1;33m\u001b[0m\u001b[0m\n\u001b[0;32m    986\u001b[0m                   \u001b[0mkeep_default_na\u001b[0m\u001b[1;33m=\u001b[0m\u001b[0mkeep_default_na\u001b[0m\u001b[1;33m,\u001b[0m\u001b[1;33m\u001b[0m\u001b[0m\n\u001b[1;32m--> 987\u001b[1;33m                   displayed_only=displayed_only)\n\u001b[0m",
      "\u001b[1;32mC:\\ProgramData\\Anaconda3\\lib\\site-packages\\pandas\\io\\html.py\u001b[0m in \u001b[0;36m_parse\u001b[1;34m(flavor, io, match, attrs, encoding, displayed_only, **kwargs)\u001b[0m\n\u001b[0;32m    813\u001b[0m             \u001b[1;32mbreak\u001b[0m\u001b[1;33m\u001b[0m\u001b[0m\n\u001b[0;32m    814\u001b[0m     \u001b[1;32melse\u001b[0m\u001b[1;33m:\u001b[0m\u001b[1;33m\u001b[0m\u001b[0m\n\u001b[1;32m--> 815\u001b[1;33m         \u001b[0mraise_with_traceback\u001b[0m\u001b[1;33m(\u001b[0m\u001b[0mretained\u001b[0m\u001b[1;33m)\u001b[0m\u001b[1;33m\u001b[0m\u001b[0m\n\u001b[0m\u001b[0;32m    816\u001b[0m \u001b[1;33m\u001b[0m\u001b[0m\n\u001b[0;32m    817\u001b[0m     \u001b[0mret\u001b[0m \u001b[1;33m=\u001b[0m \u001b[1;33m[\u001b[0m\u001b[1;33m]\u001b[0m\u001b[1;33m\u001b[0m\u001b[0m\n",
      "\u001b[1;32mC:\\ProgramData\\Anaconda3\\lib\\site-packages\\pandas\\compat\\__init__.py\u001b[0m in \u001b[0;36mraise_with_traceback\u001b[1;34m(exc, traceback)\u001b[0m\n\u001b[0;32m    402\u001b[0m         \u001b[1;32mif\u001b[0m \u001b[0mtraceback\u001b[0m \u001b[1;33m==\u001b[0m \u001b[0mEllipsis\u001b[0m\u001b[1;33m:\u001b[0m\u001b[1;33m\u001b[0m\u001b[0m\n\u001b[0;32m    403\u001b[0m             \u001b[0m_\u001b[0m\u001b[1;33m,\u001b[0m \u001b[0m_\u001b[0m\u001b[1;33m,\u001b[0m \u001b[0mtraceback\u001b[0m \u001b[1;33m=\u001b[0m \u001b[0msys\u001b[0m\u001b[1;33m.\u001b[0m\u001b[0mexc_info\u001b[0m\u001b[1;33m(\u001b[0m\u001b[1;33m)\u001b[0m\u001b[1;33m\u001b[0m\u001b[0m\n\u001b[1;32m--> 404\u001b[1;33m         \u001b[1;32mraise\u001b[0m \u001b[0mexc\u001b[0m\u001b[1;33m.\u001b[0m\u001b[0mwith_traceback\u001b[0m\u001b[1;33m(\u001b[0m\u001b[0mtraceback\u001b[0m\u001b[1;33m)\u001b[0m\u001b[1;33m\u001b[0m\u001b[0m\n\u001b[0m\u001b[0;32m    405\u001b[0m \u001b[1;32melse\u001b[0m\u001b[1;33m:\u001b[0m\u001b[1;33m\u001b[0m\u001b[0m\n\u001b[0;32m    406\u001b[0m     \u001b[1;31m# this version of raise is a syntax error in Python 3\u001b[0m\u001b[1;33m\u001b[0m\u001b[1;33m\u001b[0m\u001b[0m\n",
      "\u001b[1;31mUnicodeEncodeError\u001b[0m: 'ascii' codec can't encode character '\\xed' in position 12: ordinal not in range(128)"
     ]
    }
   ],
   "source": [
    "df2=pd.read_html(wiki_path)"
   ]
  },
  {
   "cell_type": "code",
   "execution_count": 13,
   "metadata": {
    "ExecuteTime": {
     "end_time": "2018-12-22T20:10:11.286031Z",
     "start_time": "2018-12-22T20:10:09.823191Z"
    }
   },
   "outputs": [],
   "source": [
    "#ha unicode error\n",
    "df2=pd.read_html('https://hu.wikipedia.org/wiki/Cs%EDkszereda')"
   ]
  },
  {
   "cell_type": "code",
   "execution_count": 14,
   "metadata": {
    "ExecuteTime": {
     "end_time": "2018-12-22T20:10:11.598728Z",
     "start_time": "2018-12-22T20:10:11.584728Z"
    }
   },
   "outputs": [
    {
     "data": {
      "text/html": [
       "<div>\n",
       "<style scoped>\n",
       "    .dataframe tbody tr th:only-of-type {\n",
       "        vertical-align: middle;\n",
       "    }\n",
       "\n",
       "    .dataframe tbody tr th {\n",
       "        vertical-align: top;\n",
       "    }\n",
       "\n",
       "    .dataframe thead th {\n",
       "        text-align: right;\n",
       "    }\n",
       "</style>\n",
       "<table border=\"1\" class=\"dataframe\">\n",
       "  <thead>\n",
       "    <tr style=\"text-align: right;\">\n",
       "      <th></th>\n",
       "      <th>0</th>\n",
       "      <th>1</th>\n",
       "    </tr>\n",
       "  </thead>\n",
       "  <tbody>\n",
       "    <tr>\n",
       "      <th>0</th>\n",
       "      <td>Év</td>\n",
       "      <td>Népesség</td>\n",
       "    </tr>\n",
       "    <tr>\n",
       "      <th>1</th>\n",
       "      <td>1912</td>\n",
       "      <td>3701</td>\n",
       "    </tr>\n",
       "    <tr>\n",
       "      <th>2</th>\n",
       "      <td>1930</td>\n",
       "      <td>4807</td>\n",
       "    </tr>\n",
       "    <tr>\n",
       "      <th>3</th>\n",
       "      <td>1948</td>\n",
       "      <td>6143</td>\n",
       "    </tr>\n",
       "    <tr>\n",
       "      <th>4</th>\n",
       "      <td>1956</td>\n",
       "      <td>11 996</td>\n",
       "    </tr>\n",
       "    <tr>\n",
       "      <th>5</th>\n",
       "      <td>1966</td>\n",
       "      <td>15 329</td>\n",
       "    </tr>\n",
       "    <tr>\n",
       "      <th>6</th>\n",
       "      <td>1977</td>\n",
       "      <td>30 936</td>\n",
       "    </tr>\n",
       "    <tr>\n",
       "      <th>7</th>\n",
       "      <td>1992</td>\n",
       "      <td>46 228</td>\n",
       "    </tr>\n",
       "    <tr>\n",
       "      <th>8</th>\n",
       "      <td>2002</td>\n",
       "      <td>42 029</td>\n",
       "    </tr>\n",
       "  </tbody>\n",
       "</table>\n",
       "</div>"
      ],
      "text/plain": [
       "      0         1\n",
       "0    Év  Népesség\n",
       "1  1912      3701\n",
       "2  1930      4807\n",
       "3  1948      6143\n",
       "4  1956    11 996\n",
       "5  1966    15 329\n",
       "6  1977    30 936\n",
       "7  1992    46 228\n",
       "8  2002    42 029"
      ]
     },
     "execution_count": 14,
     "metadata": {},
     "output_type": "execute_result"
    }
   ],
   "source": [
    "df2[4]"
   ]
  },
  {
   "cell_type": "markdown",
   "metadata": {},
   "source": [
    "A táblázatlistából nincsen szükség csak a 5. (tehát 4-es indexű, 0-tól kezdődik) táblázatra. Ezt mentsük el az `gf` változóba, aminek a típusa egy `pandas dataframe` lesz."
   ]
  },
  {
   "cell_type": "code",
   "execution_count": 21,
   "metadata": {
    "ExecuteTime": {
     "end_time": "2018-12-22T20:11:53.629170Z",
     "start_time": "2018-12-22T20:11:53.601177Z"
    }
   },
   "outputs": [
    {
     "data": {
      "text/html": [
       "<div>\n",
       "<style scoped>\n",
       "    .dataframe tbody tr th:only-of-type {\n",
       "        vertical-align: middle;\n",
       "    }\n",
       "\n",
       "    .dataframe tbody tr th {\n",
       "        vertical-align: top;\n",
       "    }\n",
       "\n",
       "    .dataframe thead th {\n",
       "        text-align: right;\n",
       "    }\n",
       "</style>\n",
       "<table border=\"1\" class=\"dataframe\">\n",
       "  <thead>\n",
       "    <tr style=\"text-align: right;\">\n",
       "      <th></th>\n",
       "      <th>0</th>\n",
       "      <th>1</th>\n",
       "      <th>2</th>\n",
       "      <th>3</th>\n",
       "      <th>4</th>\n",
       "      <th>5</th>\n",
       "      <th>6</th>\n",
       "      <th>7</th>\n",
       "      <th>8</th>\n",
       "      <th>9</th>\n",
       "      <th>10</th>\n",
       "      <th>11</th>\n",
       "      <th>12</th>\n",
       "      <th>13</th>\n",
       "    </tr>\n",
       "  </thead>\n",
       "  <tbody>\n",
       "    <tr>\n",
       "      <th>0</th>\n",
       "      <td>Csíkszereda éghajlati jellemzői</td>\n",
       "      <td>NaN</td>\n",
       "      <td>NaN</td>\n",
       "      <td>NaN</td>\n",
       "      <td>NaN</td>\n",
       "      <td>NaN</td>\n",
       "      <td>NaN</td>\n",
       "      <td>NaN</td>\n",
       "      <td>NaN</td>\n",
       "      <td>NaN</td>\n",
       "      <td>NaN</td>\n",
       "      <td>NaN</td>\n",
       "      <td>NaN</td>\n",
       "      <td>NaN</td>\n",
       "    </tr>\n",
       "    <tr>\n",
       "      <th>1</th>\n",
       "      <td>Hónap</td>\n",
       "      <td>Jan.</td>\n",
       "      <td>Feb.</td>\n",
       "      <td>Már.</td>\n",
       "      <td>Ápr.</td>\n",
       "      <td>Máj.</td>\n",
       "      <td>Jún.</td>\n",
       "      <td>Júl.</td>\n",
       "      <td>Aug.</td>\n",
       "      <td>Szep.</td>\n",
       "      <td>Okt.</td>\n",
       "      <td>Nov.</td>\n",
       "      <td>Dec.</td>\n",
       "      <td>Év</td>\n",
       "    </tr>\n",
       "    <tr>\n",
       "      <th>2</th>\n",
       "      <td>Átlagos max. hőmérséklet (°C)</td>\n",
       "      <td>−1,0</td>\n",
       "      <td>20</td>\n",
       "      <td>60</td>\n",
       "      <td>120</td>\n",
       "      <td>190</td>\n",
       "      <td>230</td>\n",
       "      <td>240</td>\n",
       "      <td>240</td>\n",
       "      <td>170</td>\n",
       "      <td>140</td>\n",
       "      <td>60</td>\n",
       "      <td>−2,0</td>\n",
       "      <td>120</td>\n",
       "    </tr>\n",
       "    <tr>\n",
       "      <th>3</th>\n",
       "      <td>Átlagos min. hőmérséklet (°C)</td>\n",
       "      <td>−8,0</td>\n",
       "      <td>−9,0</td>\n",
       "      <td>−4,0</td>\n",
       "      <td>10</td>\n",
       "      <td>40</td>\n",
       "      <td>90</td>\n",
       "      <td>110</td>\n",
       "      <td>80</td>\n",
       "      <td>40</td>\n",
       "      <td>10</td>\n",
       "      <td>−3,0</td>\n",
       "      <td>−8,0</td>\n",
       "      <td>05</td>\n",
       "    </tr>\n",
       "    <tr>\n",
       "      <th>4</th>\n",
       "      <td>Forrás: WeatherOnline</td>\n",
       "      <td>NaN</td>\n",
       "      <td>NaN</td>\n",
       "      <td>NaN</td>\n",
       "      <td>NaN</td>\n",
       "      <td>NaN</td>\n",
       "      <td>NaN</td>\n",
       "      <td>NaN</td>\n",
       "      <td>NaN</td>\n",
       "      <td>NaN</td>\n",
       "      <td>NaN</td>\n",
       "      <td>NaN</td>\n",
       "      <td>NaN</td>\n",
       "      <td>NaN</td>\n",
       "    </tr>\n",
       "  </tbody>\n",
       "</table>\n",
       "</div>"
      ],
      "text/plain": [
       "                                0     1     2     3     4     5     6     7   \\\n",
       "0  Csíkszereda éghajlati jellemzői   NaN   NaN   NaN   NaN   NaN   NaN   NaN   \n",
       "1                            Hónap  Jan.  Feb.  Már.  Ápr.  Máj.  Jún.  Júl.   \n",
       "2    Átlagos max. hőmérséklet (°C)  −1,0    20    60   120   190   230   240   \n",
       "3    Átlagos min. hőmérséklet (°C)  −8,0  −9,0  −4,0    10    40    90   110   \n",
       "4            Forrás: WeatherOnline   NaN   NaN   NaN   NaN   NaN   NaN   NaN   \n",
       "\n",
       "     8      9     10    11    12   13  \n",
       "0   NaN    NaN   NaN   NaN   NaN  NaN  \n",
       "1  Aug.  Szep.  Okt.  Nov.  Dec.   Év  \n",
       "2   240    170   140    60  −2,0  120  \n",
       "3    80     40    10  −3,0  −8,0   05  \n",
       "4   NaN    NaN   NaN   NaN   NaN  NaN  "
      ]
     },
     "execution_count": 21,
     "metadata": {},
     "output_type": "execute_result"
    }
   ],
   "source": [
    "gf=df2[3]\n",
    "gf"
   ]
  },
  {
   "cell_type": "markdown",
   "metadata": {},
   "source": [
    "Csak az 1-től 4-ig terjedő sorok van szükség, a többit eldobjuk.  \n",
    "Ezután a 0. sort beállítjuk indexnek. Miután ez megtörtént, ezt is eldobjuk a sorok közül."
   ]
  },
  {
   "cell_type": "code",
   "execution_count": 22,
   "metadata": {
    "ExecuteTime": {
     "end_time": "2018-12-22T20:11:57.496537Z",
     "start_time": "2018-12-22T20:11:57.475534Z"
    }
   },
   "outputs": [
    {
     "data": {
      "text/html": [
       "<div>\n",
       "<style scoped>\n",
       "    .dataframe tbody tr th:only-of-type {\n",
       "        vertical-align: middle;\n",
       "    }\n",
       "\n",
       "    .dataframe tbody tr th {\n",
       "        vertical-align: top;\n",
       "    }\n",
       "\n",
       "    .dataframe thead th {\n",
       "        text-align: right;\n",
       "    }\n",
       "</style>\n",
       "<table border=\"1\" class=\"dataframe\">\n",
       "  <thead>\n",
       "    <tr style=\"text-align: right;\">\n",
       "      <th></th>\n",
       "      <th>0</th>\n",
       "      <th>1</th>\n",
       "      <th>2</th>\n",
       "      <th>3</th>\n",
       "      <th>4</th>\n",
       "      <th>5</th>\n",
       "      <th>6</th>\n",
       "      <th>7</th>\n",
       "      <th>8</th>\n",
       "      <th>9</th>\n",
       "      <th>10</th>\n",
       "      <th>11</th>\n",
       "      <th>12</th>\n",
       "      <th>13</th>\n",
       "    </tr>\n",
       "  </thead>\n",
       "  <tbody>\n",
       "    <tr>\n",
       "      <th>1</th>\n",
       "      <td>Hónap</td>\n",
       "      <td>Jan.</td>\n",
       "      <td>Feb.</td>\n",
       "      <td>Már.</td>\n",
       "      <td>Ápr.</td>\n",
       "      <td>Máj.</td>\n",
       "      <td>Jún.</td>\n",
       "      <td>Júl.</td>\n",
       "      <td>Aug.</td>\n",
       "      <td>Szep.</td>\n",
       "      <td>Okt.</td>\n",
       "      <td>Nov.</td>\n",
       "      <td>Dec.</td>\n",
       "      <td>Év</td>\n",
       "    </tr>\n",
       "    <tr>\n",
       "      <th>2</th>\n",
       "      <td>Átlagos max. hőmérséklet (°C)</td>\n",
       "      <td>−1,0</td>\n",
       "      <td>20</td>\n",
       "      <td>60</td>\n",
       "      <td>120</td>\n",
       "      <td>190</td>\n",
       "      <td>230</td>\n",
       "      <td>240</td>\n",
       "      <td>240</td>\n",
       "      <td>170</td>\n",
       "      <td>140</td>\n",
       "      <td>60</td>\n",
       "      <td>−2,0</td>\n",
       "      <td>120</td>\n",
       "    </tr>\n",
       "    <tr>\n",
       "      <th>3</th>\n",
       "      <td>Átlagos min. hőmérséklet (°C)</td>\n",
       "      <td>−8,0</td>\n",
       "      <td>−9,0</td>\n",
       "      <td>−4,0</td>\n",
       "      <td>10</td>\n",
       "      <td>40</td>\n",
       "      <td>90</td>\n",
       "      <td>110</td>\n",
       "      <td>80</td>\n",
       "      <td>40</td>\n",
       "      <td>10</td>\n",
       "      <td>−3,0</td>\n",
       "      <td>−8,0</td>\n",
       "      <td>05</td>\n",
       "    </tr>\n",
       "  </tbody>\n",
       "</table>\n",
       "</div>"
      ],
      "text/plain": [
       "                              0     1     2     3     4     5     6     7   \\\n",
       "1                          Hónap  Jan.  Feb.  Már.  Ápr.  Máj.  Jún.  Júl.   \n",
       "2  Átlagos max. hőmérséklet (°C)  −1,0    20    60   120   190   230   240   \n",
       "3  Átlagos min. hőmérséklet (°C)  −8,0  −9,0  −4,0    10    40    90   110   \n",
       "\n",
       "     8      9     10    11    12   13  \n",
       "1  Aug.  Szep.  Okt.  Nov.  Dec.   Év  \n",
       "2   240    170   140    60  −2,0  120  \n",
       "3    80     40    10  −3,0  −8,0   05  "
      ]
     },
     "execution_count": 22,
     "metadata": {},
     "output_type": "execute_result"
    }
   ],
   "source": [
    "gf[1:4]"
   ]
  },
  {
   "cell_type": "code",
   "execution_count": 23,
   "metadata": {
    "ExecuteTime": {
     "end_time": "2018-12-22T20:11:58.343559Z",
     "start_time": "2018-12-22T20:11:58.316554Z"
    }
   },
   "outputs": [
    {
     "data": {
      "text/html": [
       "<div>\n",
       "<style scoped>\n",
       "    .dataframe tbody tr th:only-of-type {\n",
       "        vertical-align: middle;\n",
       "    }\n",
       "\n",
       "    .dataframe tbody tr th {\n",
       "        vertical-align: top;\n",
       "    }\n",
       "\n",
       "    .dataframe thead th {\n",
       "        text-align: right;\n",
       "    }\n",
       "</style>\n",
       "<table border=\"1\" class=\"dataframe\">\n",
       "  <thead>\n",
       "    <tr style=\"text-align: right;\">\n",
       "      <th>1</th>\n",
       "      <th>Jan.</th>\n",
       "      <th>Feb.</th>\n",
       "      <th>Már.</th>\n",
       "      <th>Ápr.</th>\n",
       "      <th>Máj.</th>\n",
       "      <th>Jún.</th>\n",
       "      <th>Júl.</th>\n",
       "      <th>Aug.</th>\n",
       "      <th>Szep.</th>\n",
       "      <th>Okt.</th>\n",
       "      <th>Nov.</th>\n",
       "      <th>Dec.</th>\n",
       "    </tr>\n",
       "    <tr>\n",
       "      <th>Hónap</th>\n",
       "      <th></th>\n",
       "      <th></th>\n",
       "      <th></th>\n",
       "      <th></th>\n",
       "      <th></th>\n",
       "      <th></th>\n",
       "      <th></th>\n",
       "      <th></th>\n",
       "      <th></th>\n",
       "      <th></th>\n",
       "      <th></th>\n",
       "      <th></th>\n",
       "    </tr>\n",
       "  </thead>\n",
       "  <tbody>\n",
       "    <tr>\n",
       "      <th>Átlagos max. hőmérséklet (°C)</th>\n",
       "      <td>−1,0</td>\n",
       "      <td>20</td>\n",
       "      <td>60</td>\n",
       "      <td>120</td>\n",
       "      <td>190</td>\n",
       "      <td>230</td>\n",
       "      <td>240</td>\n",
       "      <td>240</td>\n",
       "      <td>170</td>\n",
       "      <td>140</td>\n",
       "      <td>60</td>\n",
       "      <td>−2,0</td>\n",
       "    </tr>\n",
       "    <tr>\n",
       "      <th>Átlagos min. hőmérséklet (°C)</th>\n",
       "      <td>−8,0</td>\n",
       "      <td>−9,0</td>\n",
       "      <td>−4,0</td>\n",
       "      <td>10</td>\n",
       "      <td>40</td>\n",
       "      <td>90</td>\n",
       "      <td>110</td>\n",
       "      <td>80</td>\n",
       "      <td>40</td>\n",
       "      <td>10</td>\n",
       "      <td>−3,0</td>\n",
       "      <td>−8,0</td>\n",
       "    </tr>\n",
       "  </tbody>\n",
       "</table>\n",
       "</div>"
      ],
      "text/plain": [
       "1                              Jan.  Feb.  Már. Ápr. Máj. Jún. Júl. Aug.  \\\n",
       "Hónap                                                                      \n",
       "Átlagos max. hőmérséklet (°C)  −1,0    20    60  120  190  230  240  240   \n",
       "Átlagos min. hőmérséklet (°C)  −8,0  −9,0  −4,0   10   40   90  110   80   \n",
       "\n",
       "1                             Szep. Okt.  Nov.  Dec.  \n",
       "Hónap                                                 \n",
       "Átlagos max. hőmérséklet (°C)   170  140    60  −2,0  \n",
       "Átlagos min. hőmérséklet (°C)    40   10  −3,0  −8,0  "
      ]
     },
     "execution_count": 23,
     "metadata": {},
     "output_type": "execute_result"
    }
   ],
   "source": [
    "ef=gf[1:4]\n",
    "ef.columns=ef.loc[ef.index[0]]\n",
    "ef=ef.drop(1)\n",
    "ef=ef.set_index(ef.columns[0])\n",
    "ef=ef.drop(u'Év',axis=1)\n",
    "ef"
   ]
  },
  {
   "cell_type": "markdown",
   "metadata": {},
   "source": [
    "Transzponáljuk a táblázatot:"
   ]
  },
  {
   "cell_type": "code",
   "execution_count": 24,
   "metadata": {
    "ExecuteTime": {
     "end_time": "2018-12-22T20:12:07.420115Z",
     "start_time": "2018-12-22T20:12:07.408117Z"
    }
   },
   "outputs": [
    {
     "data": {
      "text/html": [
       "<div>\n",
       "<style scoped>\n",
       "    .dataframe tbody tr th:only-of-type {\n",
       "        vertical-align: middle;\n",
       "    }\n",
       "\n",
       "    .dataframe tbody tr th {\n",
       "        vertical-align: top;\n",
       "    }\n",
       "\n",
       "    .dataframe thead th {\n",
       "        text-align: right;\n",
       "    }\n",
       "</style>\n",
       "<table border=\"1\" class=\"dataframe\">\n",
       "  <thead>\n",
       "    <tr style=\"text-align: right;\">\n",
       "      <th>Hónap</th>\n",
       "      <th>Átlagos max. hőmérséklet (°C)</th>\n",
       "      <th>Átlagos min. hőmérséklet (°C)</th>\n",
       "    </tr>\n",
       "    <tr>\n",
       "      <th>1</th>\n",
       "      <th></th>\n",
       "      <th></th>\n",
       "    </tr>\n",
       "  </thead>\n",
       "  <tbody>\n",
       "    <tr>\n",
       "      <th>Jan.</th>\n",
       "      <td>−1,0</td>\n",
       "      <td>−8,0</td>\n",
       "    </tr>\n",
       "    <tr>\n",
       "      <th>Feb.</th>\n",
       "      <td>20</td>\n",
       "      <td>−9,0</td>\n",
       "    </tr>\n",
       "  </tbody>\n",
       "</table>\n",
       "</div>"
      ],
      "text/plain": [
       "Hónap Átlagos max. hőmérséklet (°C) Átlagos min. hőmérséklet (°C)\n",
       "1                                                                \n",
       "Jan.                           −1,0                          −8,0\n",
       "Feb.                             20                          −9,0"
      ]
     },
     "execution_count": 24,
     "metadata": {},
     "output_type": "execute_result"
    }
   ],
   "source": [
    "rf=ef.T\n",
    "rf.head(2)"
   ]
  },
  {
   "cell_type": "markdown",
   "metadata": {},
   "source": [
    "D3plus-ba betölthető `json` formátumban elmentjük a táblázat tartalmát.  \n",
    "  \n",
    "Ezt úgy érhetük el, hogy végigmegyunk a táblázat értékein minden sorban majd minden oszlopban. Vigyázzunk a magyar karaterekre, ezért fontos az `unicode` rendszerbe való konvertálás.\n",
    "  \n",
    "A táblázatban tárlot értékek `string`-ek, ezeket egész számokká konvertáljuk, figyelembe véve a pozitív/negatív értékek formátumát."
   ]
  },
  {
   "cell_type": "code",
   "execution_count": 26,
   "metadata": {
    "ExecuteTime": {
     "end_time": "2018-12-22T20:12:22.361672Z",
     "start_time": "2018-12-22T20:12:22.348671Z"
    }
   },
   "outputs": [],
   "source": [
    "#uj=[[] for i in range(len(rf.columns))]\n",
    "d3=[]\n",
    "ujnevek=['ujmax','ujmin']\n",
    "for k in range(len(rf.index)):\n",
    "    i=rf.index[k]\n",
    "    seged={}\n",
    "    for j in range(len(rf.loc[i])):\n",
    "        uc=rf.loc[i][j]\n",
    "        if ',' in uc:\n",
    "            ertek=-int(uc[1:-2])\n",
    "        else:\n",
    "            ertek=int(uc[0:-1])\n",
    "        #uj[j].append(ertek)\n",
    "        seged[ujnevek[j]]=ertek\n",
    "    seged[\"honap\"]=rf.index[k]\n",
    "    seged[\"honap2\"]=k+1\n",
    "    d3.append(seged)"
   ]
  },
  {
   "cell_type": "markdown",
   "metadata": {},
   "source": [
    "Az eredmény:"
   ]
  },
  {
   "cell_type": "code",
   "execution_count": 27,
   "metadata": {
    "ExecuteTime": {
     "end_time": "2018-12-22T20:12:24.392298Z",
     "start_time": "2018-12-22T20:12:24.382308Z"
    }
   },
   "outputs": [
    {
     "data": {
      "text/plain": [
       "[{'ujmax': -1, 'ujmin': -8, 'honap': 'Jan.', 'honap2': 1},\n",
       " {'ujmax': 2, 'ujmin': -9, 'honap': 'Feb.', 'honap2': 2},\n",
       " {'ujmax': 6, 'ujmin': -4, 'honap': 'Már.', 'honap2': 3},\n",
       " {'ujmax': 12, 'ujmin': 1, 'honap': 'Ápr.', 'honap2': 4},\n",
       " {'ujmax': 19, 'ujmin': 4, 'honap': 'Máj.', 'honap2': 5},\n",
       " {'ujmax': 23, 'ujmin': 9, 'honap': 'Jún.', 'honap2': 6},\n",
       " {'ujmax': 24, 'ujmin': 11, 'honap': 'Júl.', 'honap2': 7},\n",
       " {'ujmax': 24, 'ujmin': 8, 'honap': 'Aug.', 'honap2': 8},\n",
       " {'ujmax': 17, 'ujmin': 4, 'honap': 'Szep.', 'honap2': 9},\n",
       " {'ujmax': 14, 'ujmin': 1, 'honap': 'Okt.', 'honap2': 10},\n",
       " {'ujmax': 6, 'ujmin': -3, 'honap': 'Nov.', 'honap2': 11},\n",
       " {'ujmax': -2, 'ujmin': -8, 'honap': 'Dec.', 'honap2': 12}]"
      ]
     },
     "execution_count": 27,
     "metadata": {},
     "output_type": "execute_result"
    }
   ],
   "source": [
    "d3"
   ]
  },
  {
   "cell_type": "markdown",
   "metadata": {},
   "source": [
    "Elmentjük a fájlt:"
   ]
  },
  {
   "cell_type": "code",
   "execution_count": 28,
   "metadata": {
    "ExecuteTime": {
     "end_time": "2018-12-22T20:12:27.920612Z",
     "start_time": "2018-12-22T20:12:27.916611Z"
    },
    "scrolled": true
   },
   "outputs": [],
   "source": [
    "import json"
   ]
  },
  {
   "cell_type": "code",
   "execution_count": 30,
   "metadata": {
    "ExecuteTime": {
     "end_time": "2018-12-22T20:12:36.256718Z",
     "start_time": "2018-12-22T20:12:36.237713Z"
    }
   },
   "outputs": [
    {
     "data": {
      "text/plain": [
       "716"
      ]
     },
     "execution_count": 30,
     "metadata": {},
     "output_type": "execute_result"
    }
   ],
   "source": [
    "open('uj.json','w').write(json.dumps(d3))"
   ]
  }
 ],
 "metadata": {
  "anaconda-cloud": {},
  "kernelspec": {
   "display_name": "Python 3",
   "language": "python",
   "name": "python3"
  },
  "language_info": {
   "codemirror_mode": {
    "name": "ipython",
    "version": 3
   },
   "file_extension": ".py",
   "mimetype": "text/x-python",
   "name": "python",
   "nbconvert_exporter": "python",
   "pygments_lexer": "ipython3",
   "version": "3.7.4"
  },
  "toc": {
   "base_numbering": 1,
   "nav_menu": {},
   "number_sections": true,
   "sideBar": true,
   "skip_h1_title": false,
   "title_cell": "Table of Contents",
   "title_sidebar": "Contents",
   "toc_cell": false,
   "toc_position": {},
   "toc_section_display": true,
   "toc_window_display": false
  }
 },
 "nbformat": 4,
 "nbformat_minor": 4
}
