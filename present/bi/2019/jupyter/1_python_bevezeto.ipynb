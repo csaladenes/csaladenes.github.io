{
 "cells": [
  {
   "cell_type": "markdown",
   "metadata": {},
   "source": [
    "Ha nincs meg minden bővítőcsomag, akkor feltesszük ezeket `console`-ból vagy `!` a cella elejére."
   ]
  },
  {
   "cell_type": "code",
   "execution_count": 8,
   "metadata": {},
   "outputs": [],
   "source": [
    "import pandas as pd"
   ]
  },
  {
   "cell_type": "code",
   "execution_count": 10,
   "metadata": {},
   "outputs": [
    {
     "name": "stdout",
     "output_type": "stream",
     "text": [
      "Requirement already satisfied: xlrd in c:\\programdata\\anaconda3\\lib\\site-packages (1.2.0)\n"
     ]
    }
   ],
   "source": [
    "!pip install xlrd"
   ]
  },
  {
   "cell_type": "markdown",
   "metadata": {},
   "source": [
    "Pandasban az táblázatatok `DataFrame`-ek."
   ]
  },
  {
   "cell_type": "markdown",
   "metadata": {},
   "source": [
    "http://csaladen.es/present/bi/2019/jupyter/set-date-deschise-vtp2015.xlsx"
   ]
  },
  {
   "cell_type": "code",
   "execution_count": 144,
   "metadata": {},
   "outputs": [],
   "source": [
    "df=pd.read_excel('set-date-deschise-vtp2015.xlsx')"
   ]
  },
  {
   "cell_type": "markdown",
   "metadata": {},
   "source": [
    "Vízszintes sorok nevei"
   ]
  },
  {
   "cell_type": "code",
   "execution_count": 15,
   "metadata": {},
   "outputs": [
    {
     "data": {
      "text/plain": [
       "RangeIndex(start=0, stop=880, step=1)"
      ]
     },
     "execution_count": 15,
     "metadata": {},
     "output_type": "execute_result"
    }
   ],
   "source": [
    "df.index"
   ]
  },
  {
   "cell_type": "markdown",
   "metadata": {},
   "source": [
    "Oszlopok nevei"
   ]
  },
  {
   "cell_type": "code",
   "execution_count": 16,
   "metadata": {},
   "outputs": [
    {
     "data": {
      "text/plain": [
       "Index(['gen', 'varsta', 'Destinatie_tara1', 'Cetatenie', 'mediu_prov',\n",
       "       'judet_domiciliu', 'Nivel educatie', 'Relatia cu recrutorul',\n",
       "       'Forma de exploatare'],\n",
       "      dtype='object')"
      ]
     },
     "execution_count": 16,
     "metadata": {},
     "output_type": "execute_result"
    }
   ],
   "source": [
    "df.columns"
   ]
  },
  {
   "cell_type": "markdown",
   "metadata": {},
   "source": [
    "Első néhány sor"
   ]
  },
  {
   "cell_type": "code",
   "execution_count": 18,
   "metadata": {},
   "outputs": [
    {
     "data": {
      "text/html": [
       "<div>\n",
       "<style scoped>\n",
       "    .dataframe tbody tr th:only-of-type {\n",
       "        vertical-align: middle;\n",
       "    }\n",
       "\n",
       "    .dataframe tbody tr th {\n",
       "        vertical-align: top;\n",
       "    }\n",
       "\n",
       "    .dataframe thead th {\n",
       "        text-align: right;\n",
       "    }\n",
       "</style>\n",
       "<table border=\"1\" class=\"dataframe\">\n",
       "  <thead>\n",
       "    <tr style=\"text-align: right;\">\n",
       "      <th></th>\n",
       "      <th>gen</th>\n",
       "      <th>varsta</th>\n",
       "      <th>Destinatie_tara1</th>\n",
       "      <th>Cetatenie</th>\n",
       "      <th>mediu_prov</th>\n",
       "      <th>judet_domiciliu</th>\n",
       "      <th>Nivel educatie</th>\n",
       "      <th>Relatia cu recrutorul</th>\n",
       "      <th>Forma de exploatare</th>\n",
       "    </tr>\n",
       "  </thead>\n",
       "  <tbody>\n",
       "    <tr>\n",
       "      <th>0</th>\n",
       "      <td>feminin</td>\n",
       "      <td>25</td>\n",
       "      <td>Spania</td>\n",
       "      <td>Romana</td>\n",
       "      <td>rural</td>\n",
       "      <td>Galati</td>\n",
       "      <td>studii gimnaziale</td>\n",
       "      <td>partener(a)/sot(ie)</td>\n",
       "      <td>exploatare sexuala</td>\n",
       "    </tr>\n",
       "    <tr>\n",
       "      <th>1</th>\n",
       "      <td>feminin</td>\n",
       "      <td>38</td>\n",
       "      <td>Spania</td>\n",
       "      <td>Romana</td>\n",
       "      <td>rural</td>\n",
       "      <td>Vrancea</td>\n",
       "      <td>NaN</td>\n",
       "      <td>cunostinta/prieten(a)</td>\n",
       "      <td>exploatare sexuala</td>\n",
       "    </tr>\n",
       "  </tbody>\n",
       "</table>\n",
       "</div>"
      ],
      "text/plain": [
       "       gen  varsta Destinatie_tara1 Cetatenie mediu_prov judet_domiciliu  \\\n",
       "0  feminin      25           Spania    Romana      rural          Galati   \n",
       "1  feminin      38           Spania    Romana      rural         Vrancea   \n",
       "\n",
       "      Nivel educatie  Relatia cu recrutorul Forma de exploatare  \n",
       "0  studii gimnaziale    partener(a)/sot(ie)  exploatare sexuala  \n",
       "1                NaN  cunostinta/prieten(a)  exploatare sexuala  "
      ]
     },
     "execution_count": 18,
     "metadata": {},
     "output_type": "execute_result"
    }
   ],
   "source": [
    "df.head(2)"
   ]
  },
  {
   "cell_type": "markdown",
   "metadata": {},
   "source": [
    "Utolsó néhány sor"
   ]
  },
  {
   "cell_type": "code",
   "execution_count": 19,
   "metadata": {},
   "outputs": [
    {
     "data": {
      "text/html": [
       "<div>\n",
       "<style scoped>\n",
       "    .dataframe tbody tr th:only-of-type {\n",
       "        vertical-align: middle;\n",
       "    }\n",
       "\n",
       "    .dataframe tbody tr th {\n",
       "        vertical-align: top;\n",
       "    }\n",
       "\n",
       "    .dataframe thead th {\n",
       "        text-align: right;\n",
       "    }\n",
       "</style>\n",
       "<table border=\"1\" class=\"dataframe\">\n",
       "  <thead>\n",
       "    <tr style=\"text-align: right;\">\n",
       "      <th></th>\n",
       "      <th>gen</th>\n",
       "      <th>varsta</th>\n",
       "      <th>Destinatie_tara1</th>\n",
       "      <th>Cetatenie</th>\n",
       "      <th>mediu_prov</th>\n",
       "      <th>judet_domiciliu</th>\n",
       "      <th>Nivel educatie</th>\n",
       "      <th>Relatia cu recrutorul</th>\n",
       "      <th>Forma de exploatare</th>\n",
       "    </tr>\n",
       "  </thead>\n",
       "  <tbody>\n",
       "    <tr>\n",
       "      <th>878</th>\n",
       "      <td>feminin</td>\n",
       "      <td>39</td>\n",
       "      <td>Romania</td>\n",
       "      <td>Straina</td>\n",
       "      <td>urban</td>\n",
       "      <td>NaN</td>\n",
       "      <td>studii liceale</td>\n",
       "      <td>cunostinta/prieten(a)</td>\n",
       "      <td>exploatare sexuala</td>\n",
       "    </tr>\n",
       "    <tr>\n",
       "      <th>879</th>\n",
       "      <td>feminin</td>\n",
       "      <td>24</td>\n",
       "      <td>Romania</td>\n",
       "      <td>Straina</td>\n",
       "      <td>rural</td>\n",
       "      <td>NaN</td>\n",
       "      <td>studii gimnaziale</td>\n",
       "      <td>proxenet</td>\n",
       "      <td>exploatare sexuala</td>\n",
       "    </tr>\n",
       "  </tbody>\n",
       "</table>\n",
       "</div>"
      ],
      "text/plain": [
       "         gen  varsta Destinatie_tara1 Cetatenie mediu_prov judet_domiciliu  \\\n",
       "878  feminin      39          Romania   Straina      urban             NaN   \n",
       "879  feminin      24          Romania   Straina      rural             NaN   \n",
       "\n",
       "        Nivel educatie  Relatia cu recrutorul Forma de exploatare  \n",
       "878     studii liceale  cunostinta/prieten(a)  exploatare sexuala  \n",
       "879  studii gimnaziale               proxenet  exploatare sexuala  "
      ]
     },
     "execution_count": 19,
     "metadata": {},
     "output_type": "execute_result"
    }
   ],
   "source": [
    "df.tail(2)"
   ]
  },
  {
   "cell_type": "markdown",
   "metadata": {},
   "source": [
    "Szűrés több oszlop szerint"
   ]
  },
  {
   "cell_type": "code",
   "execution_count": 28,
   "metadata": {},
   "outputs": [
    {
     "data": {
      "text/plain": [
       "0    25\n",
       "1    38\n",
       "Name: varsta, dtype: int64"
      ]
     },
     "execution_count": 28,
     "metadata": {},
     "output_type": "execute_result"
    }
   ],
   "source": [
    "df['varsta'].head(2)"
   ]
  },
  {
   "cell_type": "code",
   "execution_count": 24,
   "metadata": {},
   "outputs": [
    {
     "data": {
      "text/html": [
       "<div>\n",
       "<style scoped>\n",
       "    .dataframe tbody tr th:only-of-type {\n",
       "        vertical-align: middle;\n",
       "    }\n",
       "\n",
       "    .dataframe tbody tr th {\n",
       "        vertical-align: top;\n",
       "    }\n",
       "\n",
       "    .dataframe thead th {\n",
       "        text-align: right;\n",
       "    }\n",
       "</style>\n",
       "<table border=\"1\" class=\"dataframe\">\n",
       "  <thead>\n",
       "    <tr style=\"text-align: right;\">\n",
       "      <th></th>\n",
       "      <th>varsta</th>\n",
       "      <th>gen</th>\n",
       "    </tr>\n",
       "  </thead>\n",
       "  <tbody>\n",
       "    <tr>\n",
       "      <th>0</th>\n",
       "      <td>25</td>\n",
       "      <td>feminin</td>\n",
       "    </tr>\n",
       "    <tr>\n",
       "      <th>1</th>\n",
       "      <td>38</td>\n",
       "      <td>feminin</td>\n",
       "    </tr>\n",
       "  </tbody>\n",
       "</table>\n",
       "</div>"
      ],
      "text/plain": [
       "   varsta      gen\n",
       "0      25  feminin\n",
       "1      38  feminin"
      ]
     },
     "execution_count": 24,
     "metadata": {},
     "output_type": "execute_result"
    }
   ],
   "source": [
    "df[ ['varsta','gen'] ].head(2)"
   ]
  },
  {
   "cell_type": "code",
   "execution_count": 26,
   "metadata": {},
   "outputs": [
    {
     "data": {
      "text/html": [
       "<div>\n",
       "<style scoped>\n",
       "    .dataframe tbody tr th:only-of-type {\n",
       "        vertical-align: middle;\n",
       "    }\n",
       "\n",
       "    .dataframe tbody tr th {\n",
       "        vertical-align: top;\n",
       "    }\n",
       "\n",
       "    .dataframe thead th {\n",
       "        text-align: right;\n",
       "    }\n",
       "</style>\n",
       "<table border=\"1\" class=\"dataframe\">\n",
       "  <thead>\n",
       "    <tr style=\"text-align: right;\">\n",
       "      <th></th>\n",
       "      <th>varsta</th>\n",
       "    </tr>\n",
       "  </thead>\n",
       "  <tbody>\n",
       "    <tr>\n",
       "      <th>0</th>\n",
       "      <td>25</td>\n",
       "    </tr>\n",
       "    <tr>\n",
       "      <th>1</th>\n",
       "      <td>38</td>\n",
       "    </tr>\n",
       "  </tbody>\n",
       "</table>\n",
       "</div>"
      ],
      "text/plain": [
       "   varsta\n",
       "0      25\n",
       "1      38"
      ]
     },
     "execution_count": 26,
     "metadata": {},
     "output_type": "execute_result"
    }
   ],
   "source": [
    "df[ ['varsta'] ].head(2)"
   ]
  },
  {
   "cell_type": "code",
   "execution_count": 31,
   "metadata": {},
   "outputs": [
    {
     "name": "stdout",
     "output_type": "stream",
     "text": [
      "<class 'pandas.core.frame.DataFrame'>\n",
      "RangeIndex: 880 entries, 0 to 879\n",
      "Data columns (total 9 columns):\n",
      " #   Column                 Non-Null Count  Dtype \n",
      "---  ------                 --------------  ----- \n",
      " 0   gen                    880 non-null    object\n",
      " 1   varsta                 880 non-null    int64 \n",
      " 2   Destinatie_tara1       879 non-null    object\n",
      " 3   Cetatenie              880 non-null    object\n",
      " 4   mediu_prov             865 non-null    object\n",
      " 5   judet_domiciliu        874 non-null    object\n",
      " 6   Nivel educatie         821 non-null    object\n",
      " 7   Relatia cu recrutorul  849 non-null    object\n",
      " 8   Forma de exploatare    880 non-null    object\n",
      "dtypes: int64(1), object(8)\n",
      "memory usage: 62.0+ KB\n"
     ]
    }
   ],
   "source": [
    "df.info()"
   ]
  },
  {
   "cell_type": "code",
   "execution_count": 37,
   "metadata": {},
   "outputs": [
    {
     "data": {
      "text/plain": [
       "0    25\n",
       "1    38\n",
       "2    22\n",
       "3    32\n",
       "4    25\n",
       "Name: varsta, dtype: object"
      ]
     },
     "execution_count": 37,
     "metadata": {},
     "output_type": "execute_result"
    }
   ],
   "source": [
    "df['varsta'].astype(str).head()"
   ]
  },
  {
   "cell_type": "code",
   "execution_count": 39,
   "metadata": {},
   "outputs": [
    {
     "data": {
      "text/html": [
       "<div>\n",
       "<style scoped>\n",
       "    .dataframe tbody tr th:only-of-type {\n",
       "        vertical-align: middle;\n",
       "    }\n",
       "\n",
       "    .dataframe tbody tr th {\n",
       "        vertical-align: top;\n",
       "    }\n",
       "\n",
       "    .dataframe thead th {\n",
       "        text-align: right;\n",
       "    }\n",
       "</style>\n",
       "<table border=\"1\" class=\"dataframe\">\n",
       "  <thead>\n",
       "    <tr style=\"text-align: right;\">\n",
       "      <th></th>\n",
       "      <th>varsta</th>\n",
       "    </tr>\n",
       "  </thead>\n",
       "  <tbody>\n",
       "    <tr>\n",
       "      <th>count</th>\n",
       "      <td>880.000000</td>\n",
       "    </tr>\n",
       "    <tr>\n",
       "      <th>mean</th>\n",
       "      <td>24.100000</td>\n",
       "    </tr>\n",
       "    <tr>\n",
       "      <th>std</th>\n",
       "      <td>10.976508</td>\n",
       "    </tr>\n",
       "    <tr>\n",
       "      <th>min</th>\n",
       "      <td>2.000000</td>\n",
       "    </tr>\n",
       "    <tr>\n",
       "      <th>25%</th>\n",
       "      <td>16.000000</td>\n",
       "    </tr>\n",
       "    <tr>\n",
       "      <th>50%</th>\n",
       "      <td>20.000000</td>\n",
       "    </tr>\n",
       "    <tr>\n",
       "      <th>75%</th>\n",
       "      <td>29.000000</td>\n",
       "    </tr>\n",
       "    <tr>\n",
       "      <th>max</th>\n",
       "      <td>68.000000</td>\n",
       "    </tr>\n",
       "  </tbody>\n",
       "</table>\n",
       "</div>"
      ],
      "text/plain": [
       "           varsta\n",
       "count  880.000000\n",
       "mean    24.100000\n",
       "std     10.976508\n",
       "min      2.000000\n",
       "25%     16.000000\n",
       "50%     20.000000\n",
       "75%     29.000000\n",
       "max     68.000000"
      ]
     },
     "execution_count": 39,
     "metadata": {},
     "output_type": "execute_result"
    }
   ],
   "source": [
    "df.describe()"
   ]
  },
  {
   "cell_type": "code",
   "execution_count": 40,
   "metadata": {},
   "outputs": [],
   "source": [
    "az_en_oszlopom=['varsta','Cetatenie','gen']"
   ]
  },
  {
   "cell_type": "code",
   "execution_count": 41,
   "metadata": {},
   "outputs": [
    {
     "data": {
      "text/plain": [
       "['varsta', 'Cetatenie', 'gen']"
      ]
     },
     "execution_count": 41,
     "metadata": {},
     "output_type": "execute_result"
    }
   ],
   "source": [
    "az_en_oszlopom"
   ]
  },
  {
   "cell_type": "code",
   "execution_count": 47,
   "metadata": {},
   "outputs": [
    {
     "data": {
      "text/html": [
       "<div>\n",
       "<style scoped>\n",
       "    .dataframe tbody tr th:only-of-type {\n",
       "        vertical-align: middle;\n",
       "    }\n",
       "\n",
       "    .dataframe tbody tr th {\n",
       "        vertical-align: top;\n",
       "    }\n",
       "\n",
       "    .dataframe thead th {\n",
       "        text-align: right;\n",
       "    }\n",
       "</style>\n",
       "<table border=\"1\" class=\"dataframe\">\n",
       "  <thead>\n",
       "    <tr style=\"text-align: right;\">\n",
       "      <th></th>\n",
       "      <th>varsta</th>\n",
       "      <th>Cetatenie</th>\n",
       "      <th>gen</th>\n",
       "    </tr>\n",
       "  </thead>\n",
       "  <tbody>\n",
       "    <tr>\n",
       "      <th>0</th>\n",
       "      <td>25</td>\n",
       "      <td>Romana</td>\n",
       "      <td>feminin</td>\n",
       "    </tr>\n",
       "    <tr>\n",
       "      <th>1</th>\n",
       "      <td>38</td>\n",
       "      <td>Romana</td>\n",
       "      <td>feminin</td>\n",
       "    </tr>\n",
       "  </tbody>\n",
       "</table>\n",
       "</div>"
      ],
      "text/plain": [
       "   varsta Cetatenie      gen\n",
       "0      25    Romana  feminin\n",
       "1      38    Romana  feminin"
      ]
     },
     "execution_count": 47,
     "metadata": {},
     "output_type": "execute_result"
    }
   ],
   "source": [
    "df2=df[az_en_oszlopom].head(2)\n",
    "df2"
   ]
  },
  {
   "cell_type": "code",
   "execution_count": 53,
   "metadata": {},
   "outputs": [
    {
     "data": {
      "text/plain": [
       "\u001b[1;31mSignature:\u001b[0m \u001b[0mdf\u001b[0m\u001b[1;33m.\u001b[0m\u001b[0mastype\u001b[0m\u001b[1;33m(\u001b[0m\u001b[0mdtype\u001b[0m\u001b[1;33m,\u001b[0m \u001b[0mcopy\u001b[0m\u001b[1;33m:\u001b[0m \u001b[0mbool\u001b[0m \u001b[1;33m=\u001b[0m \u001b[1;32mTrue\u001b[0m\u001b[1;33m,\u001b[0m \u001b[0merrors\u001b[0m\u001b[1;33m:\u001b[0m \u001b[0mstr\u001b[0m \u001b[1;33m=\u001b[0m \u001b[1;34m'raise'\u001b[0m\u001b[1;33m)\u001b[0m \u001b[1;33m->\u001b[0m \u001b[1;33m~\u001b[0m\u001b[0mFrameOrSeries\u001b[0m\u001b[1;33m\u001b[0m\u001b[1;33m\u001b[0m\u001b[0m\n",
       "\u001b[1;31mDocstring:\u001b[0m\n",
       "Cast a pandas object to a specified dtype ``dtype``.\n",
       "\n",
       "Parameters\n",
       "----------\n",
       "dtype : data type, or dict of column name -> data type\n",
       "    Use a numpy.dtype or Python type to cast entire pandas object to\n",
       "    the same type. Alternatively, use {col: dtype, ...}, where col is a\n",
       "    column label and dtype is a numpy.dtype or Python type to cast one\n",
       "    or more of the DataFrame's columns to column-specific types.\n",
       "copy : bool, default True\n",
       "    Return a copy when ``copy=True`` (be very careful setting\n",
       "    ``copy=False`` as changes to values then may propagate to other\n",
       "    pandas objects).\n",
       "errors : {'raise', 'ignore'}, default 'raise'\n",
       "    Control raising of exceptions on invalid data for provided dtype.\n",
       "\n",
       "    - ``raise`` : allow exceptions to be raised\n",
       "    - ``ignore`` : suppress exceptions. On error return original object.\n",
       "\n",
       "Returns\n",
       "-------\n",
       "casted : same type as caller\n",
       "\n",
       "See Also\n",
       "--------\n",
       "to_datetime : Convert argument to datetime.\n",
       "to_timedelta : Convert argument to timedelta.\n",
       "to_numeric : Convert argument to a numeric type.\n",
       "numpy.ndarray.astype : Cast a numpy array to a specified type.\n",
       "\n",
       "Examples\n",
       "--------\n",
       "Create a DataFrame:\n",
       "\n",
       ">>> d = {'col1': [1, 2], 'col2': [3, 4]}\n",
       ">>> df = pd.DataFrame(data=d)\n",
       ">>> df.dtypes\n",
       "col1    int64\n",
       "col2    int64\n",
       "dtype: object\n",
       "\n",
       "Cast all columns to int32:\n",
       "\n",
       ">>> df.astype('int32').dtypes\n",
       "col1    int32\n",
       "col2    int32\n",
       "dtype: object\n",
       "\n",
       "Cast col1 to int32 using a dictionary:\n",
       "\n",
       ">>> df.astype({'col1': 'int32'}).dtypes\n",
       "col1    int32\n",
       "col2    int64\n",
       "dtype: object\n",
       "\n",
       "Create a series:\n",
       "\n",
       ">>> ser = pd.Series([1, 2], dtype='int32')\n",
       ">>> ser\n",
       "0    1\n",
       "1    2\n",
       "dtype: int32\n",
       ">>> ser.astype('int64')\n",
       "0    1\n",
       "1    2\n",
       "dtype: int64\n",
       "\n",
       "Convert to categorical type:\n",
       "\n",
       ">>> ser.astype('category')\n",
       "0    1\n",
       "1    2\n",
       "dtype: category\n",
       "Categories (2, int64): [1, 2]\n",
       "\n",
       "Convert to ordered categorical type with custom ordering:\n",
       "\n",
       ">>> cat_dtype = pd.api.types.CategoricalDtype(\n",
       "...     categories=[2, 1], ordered=True)\n",
       ">>> ser.astype(cat_dtype)\n",
       "0    1\n",
       "1    2\n",
       "dtype: category\n",
       "Categories (2, int64): [2 < 1]\n",
       "\n",
       "Note that using ``copy=False`` and changing data on a new\n",
       "pandas object may propagate changes:\n",
       "\n",
       ">>> s1 = pd.Series([1, 2])\n",
       ">>> s2 = s1.astype('int64', copy=False)\n",
       ">>> s2[0] = 10\n",
       ">>> s1  # note that s1[0] has changed too\n",
       "0    10\n",
       "1     2\n",
       "dtype: int64\n",
       "\u001b[1;31mFile:\u001b[0m      c:\\programdata\\anaconda3\\lib\\site-packages\\pandas\\core\\generic.py\n",
       "\u001b[1;31mType:\u001b[0m      method\n"
      ]
     },
     "metadata": {},
     "output_type": "display_data"
    }
   ],
   "source": [
    "df.astype?"
   ]
  },
  {
   "cell_type": "markdown",
   "metadata": {},
   "source": [
    "Szűrés egyetloen oszlopra lehet `Series` vagy `DataFrame`."
   ]
  },
  {
   "cell_type": "code",
   "execution_count": 54,
   "metadata": {},
   "outputs": [
    {
     "name": "stdout",
     "output_type": "stream",
     "text": [
      "<class 'pandas.core.frame.DataFrame'>\n",
      "<class 'pandas.core.series.Series'>\n"
     ]
    }
   ],
   "source": [
    "print(type(df[['varsta']]))\n",
    "print(type(df['varsta']))"
   ]
  },
  {
   "cell_type": "markdown",
   "metadata": {},
   "source": [
    "Sorok szerinti szűrés"
   ]
  },
  {
   "cell_type": "code",
   "execution_count": 55,
   "metadata": {},
   "outputs": [
    {
     "data": {
      "text/html": [
       "<div>\n",
       "<style scoped>\n",
       "    .dataframe tbody tr th:only-of-type {\n",
       "        vertical-align: middle;\n",
       "    }\n",
       "\n",
       "    .dataframe tbody tr th {\n",
       "        vertical-align: top;\n",
       "    }\n",
       "\n",
       "    .dataframe thead th {\n",
       "        text-align: right;\n",
       "    }\n",
       "</style>\n",
       "<table border=\"1\" class=\"dataframe\">\n",
       "  <thead>\n",
       "    <tr style=\"text-align: right;\">\n",
       "      <th></th>\n",
       "      <th>gen</th>\n",
       "      <th>varsta</th>\n",
       "      <th>Destinatie_tara1</th>\n",
       "      <th>Cetatenie</th>\n",
       "      <th>mediu_prov</th>\n",
       "      <th>judet_domiciliu</th>\n",
       "      <th>Nivel educatie</th>\n",
       "      <th>Relatia cu recrutorul</th>\n",
       "      <th>Forma de exploatare</th>\n",
       "    </tr>\n",
       "  </thead>\n",
       "  <tbody>\n",
       "    <tr>\n",
       "      <th>2</th>\n",
       "      <td>feminin</td>\n",
       "      <td>22</td>\n",
       "      <td>Danemarca</td>\n",
       "      <td>Romana</td>\n",
       "      <td>urban</td>\n",
       "      <td>Constanta</td>\n",
       "      <td>studii gimnaziale</td>\n",
       "      <td>NaN</td>\n",
       "      <td>exploatare sexuala</td>\n",
       "    </tr>\n",
       "    <tr>\n",
       "      <th>4</th>\n",
       "      <td>masculin</td>\n",
       "      <td>25</td>\n",
       "      <td>Portugalia</td>\n",
       "      <td>Romana</td>\n",
       "      <td>urban</td>\n",
       "      <td>Ilfov</td>\n",
       "      <td>NaN</td>\n",
       "      <td>cunostinta/prieten(a)</td>\n",
       "      <td>exploatare prin munca</td>\n",
       "    </tr>\n",
       "    <tr>\n",
       "      <th>67</th>\n",
       "      <td>feminin</td>\n",
       "      <td>27</td>\n",
       "      <td>Italia</td>\n",
       "      <td>Romana</td>\n",
       "      <td>urban</td>\n",
       "      <td>Dolj</td>\n",
       "      <td>studii liceale</td>\n",
       "      <td>rude</td>\n",
       "      <td>obligarea la cersetorie</td>\n",
       "    </tr>\n",
       "  </tbody>\n",
       "</table>\n",
       "</div>"
      ],
      "text/plain": [
       "         gen  varsta Destinatie_tara1 Cetatenie mediu_prov judet_domiciliu  \\\n",
       "2    feminin      22        Danemarca    Romana      urban       Constanta   \n",
       "4   masculin      25       Portugalia    Romana      urban           Ilfov   \n",
       "67   feminin      27           Italia    Romana      urban            Dolj   \n",
       "\n",
       "       Nivel educatie  Relatia cu recrutorul      Forma de exploatare  \n",
       "2   studii gimnaziale                    NaN       exploatare sexuala  \n",
       "4                 NaN  cunostinta/prieten(a)    exploatare prin munca  \n",
       "67     studii liceale                   rude  obligarea la cersetorie  "
      ]
     },
     "execution_count": 55,
     "metadata": {},
     "output_type": "execute_result"
    }
   ],
   "source": [
    "az_en_indexem=[2,4,67]\n",
    "df3=df.loc[az_en_indexem]\n",
    "df3"
   ]
  },
  {
   "cell_type": "code",
   "execution_count": 58,
   "metadata": {},
   "outputs": [
    {
     "data": {
      "text/html": [
       "<div>\n",
       "<style scoped>\n",
       "    .dataframe tbody tr th:only-of-type {\n",
       "        vertical-align: middle;\n",
       "    }\n",
       "\n",
       "    .dataframe tbody tr th {\n",
       "        vertical-align: top;\n",
       "    }\n",
       "\n",
       "    .dataframe thead th {\n",
       "        text-align: right;\n",
       "    }\n",
       "</style>\n",
       "<table border=\"1\" class=\"dataframe\">\n",
       "  <thead>\n",
       "    <tr style=\"text-align: right;\">\n",
       "      <th></th>\n",
       "      <th>gen</th>\n",
       "      <th>varsta</th>\n",
       "    </tr>\n",
       "  </thead>\n",
       "  <tbody>\n",
       "    <tr>\n",
       "      <th>2</th>\n",
       "      <td>feminin</td>\n",
       "      <td>22</td>\n",
       "    </tr>\n",
       "    <tr>\n",
       "      <th>4</th>\n",
       "      <td>masculin</td>\n",
       "      <td>25</td>\n",
       "    </tr>\n",
       "  </tbody>\n",
       "</table>\n",
       "</div>"
      ],
      "text/plain": [
       "        gen  varsta\n",
       "2   feminin      22\n",
       "4  masculin      25"
      ]
     },
     "execution_count": 58,
     "metadata": {},
     "output_type": "execute_result"
    }
   ],
   "source": [
    "df.loc[[2,4]][['gen','varsta']]"
   ]
  },
  {
   "cell_type": "code",
   "execution_count": 59,
   "metadata": {},
   "outputs": [
    {
     "data": {
      "text/html": [
       "<div>\n",
       "<style scoped>\n",
       "    .dataframe tbody tr th:only-of-type {\n",
       "        vertical-align: middle;\n",
       "    }\n",
       "\n",
       "    .dataframe tbody tr th {\n",
       "        vertical-align: top;\n",
       "    }\n",
       "\n",
       "    .dataframe thead th {\n",
       "        text-align: right;\n",
       "    }\n",
       "</style>\n",
       "<table border=\"1\" class=\"dataframe\">\n",
       "  <thead>\n",
       "    <tr style=\"text-align: right;\">\n",
       "      <th></th>\n",
       "      <th>gen</th>\n",
       "      <th>varsta</th>\n",
       "    </tr>\n",
       "  </thead>\n",
       "  <tbody>\n",
       "    <tr>\n",
       "      <th>2</th>\n",
       "      <td>feminin</td>\n",
       "      <td>22</td>\n",
       "    </tr>\n",
       "    <tr>\n",
       "      <th>4</th>\n",
       "      <td>masculin</td>\n",
       "      <td>25</td>\n",
       "    </tr>\n",
       "  </tbody>\n",
       "</table>\n",
       "</div>"
      ],
      "text/plain": [
       "        gen  varsta\n",
       "2   feminin      22\n",
       "4  masculin      25"
      ]
     },
     "execution_count": 59,
     "metadata": {},
     "output_type": "execute_result"
    }
   ],
   "source": [
    "df[['gen','varsta']].loc[[2,4]]"
   ]
  },
  {
   "cell_type": "markdown",
   "metadata": {},
   "source": [
    "Pandas dokumentációban van sok más típusú szűrés (`iloc`, `xslice`) és még sok más."
   ]
  },
  {
   "cell_type": "markdown",
   "metadata": {},
   "source": [
    "Új oszlop hozzáadása."
   ]
  },
  {
   "cell_type": "code",
   "execution_count": 62,
   "metadata": {},
   "outputs": [],
   "source": [
    "df['uj']=42"
   ]
  },
  {
   "cell_type": "code",
   "execution_count": 63,
   "metadata": {},
   "outputs": [
    {
     "data": {
      "text/html": [
       "<div>\n",
       "<style scoped>\n",
       "    .dataframe tbody tr th:only-of-type {\n",
       "        vertical-align: middle;\n",
       "    }\n",
       "\n",
       "    .dataframe tbody tr th {\n",
       "        vertical-align: top;\n",
       "    }\n",
       "\n",
       "    .dataframe thead th {\n",
       "        text-align: right;\n",
       "    }\n",
       "</style>\n",
       "<table border=\"1\" class=\"dataframe\">\n",
       "  <thead>\n",
       "    <tr style=\"text-align: right;\">\n",
       "      <th></th>\n",
       "      <th>gen</th>\n",
       "      <th>varsta</th>\n",
       "      <th>Destinatie_tara1</th>\n",
       "      <th>Cetatenie</th>\n",
       "      <th>mediu_prov</th>\n",
       "      <th>judet_domiciliu</th>\n",
       "      <th>Nivel educatie</th>\n",
       "      <th>Relatia cu recrutorul</th>\n",
       "      <th>Forma de exploatare</th>\n",
       "      <th>uj</th>\n",
       "    </tr>\n",
       "  </thead>\n",
       "  <tbody>\n",
       "    <tr>\n",
       "      <th>0</th>\n",
       "      <td>feminin</td>\n",
       "      <td>25</td>\n",
       "      <td>Spania</td>\n",
       "      <td>Romana</td>\n",
       "      <td>rural</td>\n",
       "      <td>Galati</td>\n",
       "      <td>studii gimnaziale</td>\n",
       "      <td>partener(a)/sot(ie)</td>\n",
       "      <td>exploatare sexuala</td>\n",
       "      <td>42</td>\n",
       "    </tr>\n",
       "    <tr>\n",
       "      <th>1</th>\n",
       "      <td>feminin</td>\n",
       "      <td>38</td>\n",
       "      <td>Spania</td>\n",
       "      <td>Romana</td>\n",
       "      <td>rural</td>\n",
       "      <td>Vrancea</td>\n",
       "      <td>NaN</td>\n",
       "      <td>cunostinta/prieten(a)</td>\n",
       "      <td>exploatare sexuala</td>\n",
       "      <td>42</td>\n",
       "    </tr>\n",
       "    <tr>\n",
       "      <th>2</th>\n",
       "      <td>feminin</td>\n",
       "      <td>22</td>\n",
       "      <td>Danemarca</td>\n",
       "      <td>Romana</td>\n",
       "      <td>urban</td>\n",
       "      <td>Constanta</td>\n",
       "      <td>studii gimnaziale</td>\n",
       "      <td>NaN</td>\n",
       "      <td>exploatare sexuala</td>\n",
       "      <td>42</td>\n",
       "    </tr>\n",
       "    <tr>\n",
       "      <th>3</th>\n",
       "      <td>feminin</td>\n",
       "      <td>32</td>\n",
       "      <td>Italia</td>\n",
       "      <td>Romana</td>\n",
       "      <td>rural</td>\n",
       "      <td>Vaslui</td>\n",
       "      <td>NaN</td>\n",
       "      <td>NaN</td>\n",
       "      <td>exploatare sexuala</td>\n",
       "      <td>42</td>\n",
       "    </tr>\n",
       "    <tr>\n",
       "      <th>4</th>\n",
       "      <td>masculin</td>\n",
       "      <td>25</td>\n",
       "      <td>Portugalia</td>\n",
       "      <td>Romana</td>\n",
       "      <td>urban</td>\n",
       "      <td>Ilfov</td>\n",
       "      <td>NaN</td>\n",
       "      <td>cunostinta/prieten(a)</td>\n",
       "      <td>exploatare prin munca</td>\n",
       "      <td>42</td>\n",
       "    </tr>\n",
       "    <tr>\n",
       "      <th>...</th>\n",
       "      <td>...</td>\n",
       "      <td>...</td>\n",
       "      <td>...</td>\n",
       "      <td>...</td>\n",
       "      <td>...</td>\n",
       "      <td>...</td>\n",
       "      <td>...</td>\n",
       "      <td>...</td>\n",
       "      <td>...</td>\n",
       "      <td>...</td>\n",
       "    </tr>\n",
       "    <tr>\n",
       "      <th>875</th>\n",
       "      <td>masculin</td>\n",
       "      <td>18</td>\n",
       "      <td>Grecia</td>\n",
       "      <td>Romana</td>\n",
       "      <td>rural</td>\n",
       "      <td>Mehedinti</td>\n",
       "      <td>studii gimnaziale</td>\n",
       "      <td>vecin</td>\n",
       "      <td>exploatare prin munca</td>\n",
       "      <td>42</td>\n",
       "    </tr>\n",
       "    <tr>\n",
       "      <th>876</th>\n",
       "      <td>masculin</td>\n",
       "      <td>62</td>\n",
       "      <td>Grecia</td>\n",
       "      <td>Romana</td>\n",
       "      <td>rural</td>\n",
       "      <td>Mehedinti</td>\n",
       "      <td>studii liceale</td>\n",
       "      <td>necunoscut</td>\n",
       "      <td>exploatare prin munca</td>\n",
       "      <td>42</td>\n",
       "    </tr>\n",
       "    <tr>\n",
       "      <th>877</th>\n",
       "      <td>masculin</td>\n",
       "      <td>28</td>\n",
       "      <td>Grecia</td>\n",
       "      <td>Romana</td>\n",
       "      <td>rural</td>\n",
       "      <td>Mehedinti</td>\n",
       "      <td>studii gimnaziale</td>\n",
       "      <td>cunostinta/prieten(a)</td>\n",
       "      <td>exploatare prin munca</td>\n",
       "      <td>42</td>\n",
       "    </tr>\n",
       "    <tr>\n",
       "      <th>878</th>\n",
       "      <td>feminin</td>\n",
       "      <td>39</td>\n",
       "      <td>Romania</td>\n",
       "      <td>Straina</td>\n",
       "      <td>urban</td>\n",
       "      <td>NaN</td>\n",
       "      <td>studii liceale</td>\n",
       "      <td>cunostinta/prieten(a)</td>\n",
       "      <td>exploatare sexuala</td>\n",
       "      <td>42</td>\n",
       "    </tr>\n",
       "    <tr>\n",
       "      <th>879</th>\n",
       "      <td>feminin</td>\n",
       "      <td>24</td>\n",
       "      <td>Romania</td>\n",
       "      <td>Straina</td>\n",
       "      <td>rural</td>\n",
       "      <td>NaN</td>\n",
       "      <td>studii gimnaziale</td>\n",
       "      <td>proxenet</td>\n",
       "      <td>exploatare sexuala</td>\n",
       "      <td>42</td>\n",
       "    </tr>\n",
       "  </tbody>\n",
       "</table>\n",
       "<p>880 rows × 10 columns</p>\n",
       "</div>"
      ],
      "text/plain": [
       "          gen  varsta Destinatie_tara1 Cetatenie mediu_prov judet_domiciliu  \\\n",
       "0     feminin      25           Spania    Romana      rural          Galati   \n",
       "1     feminin      38           Spania    Romana      rural         Vrancea   \n",
       "2     feminin      22        Danemarca    Romana      urban       Constanta   \n",
       "3     feminin      32           Italia    Romana      rural          Vaslui   \n",
       "4    masculin      25       Portugalia    Romana      urban           Ilfov   \n",
       "..        ...     ...              ...       ...        ...             ...   \n",
       "875  masculin      18           Grecia    Romana      rural       Mehedinti   \n",
       "876  masculin      62           Grecia    Romana      rural       Mehedinti   \n",
       "877  masculin      28           Grecia    Romana      rural       Mehedinti   \n",
       "878   feminin      39          Romania   Straina      urban             NaN   \n",
       "879   feminin      24          Romania   Straina      rural             NaN   \n",
       "\n",
       "        Nivel educatie  Relatia cu recrutorul    Forma de exploatare  uj  \n",
       "0    studii gimnaziale    partener(a)/sot(ie)     exploatare sexuala  42  \n",
       "1                  NaN  cunostinta/prieten(a)     exploatare sexuala  42  \n",
       "2    studii gimnaziale                    NaN     exploatare sexuala  42  \n",
       "3                  NaN                    NaN     exploatare sexuala  42  \n",
       "4                  NaN  cunostinta/prieten(a)  exploatare prin munca  42  \n",
       "..                 ...                    ...                    ...  ..  \n",
       "875  studii gimnaziale                  vecin  exploatare prin munca  42  \n",
       "876     studii liceale             necunoscut  exploatare prin munca  42  \n",
       "877  studii gimnaziale  cunostinta/prieten(a)  exploatare prin munca  42  \n",
       "878     studii liceale  cunostinta/prieten(a)     exploatare sexuala  42  \n",
       "879  studii gimnaziale               proxenet     exploatare sexuala  42  \n",
       "\n",
       "[880 rows x 10 columns]"
      ]
     },
     "execution_count": 63,
     "metadata": {},
     "output_type": "execute_result"
    }
   ],
   "source": [
    "df"
   ]
  },
  {
   "cell_type": "markdown",
   "metadata": {},
   "source": [
    "Új oszlop egyenlő méretű listát kell tartalmazzon a `DataFrame` sorai számával."
   ]
  },
  {
   "cell_type": "code",
   "execution_count": 68,
   "metadata": {},
   "outputs": [],
   "source": [
    "df['uj2']=range(880)\n",
    "df['uj2']=range(len(df))\n",
    "#df['uj2']=range(870) #nem mukodik"
   ]
  },
  {
   "cell_type": "code",
   "execution_count": 69,
   "metadata": {},
   "outputs": [
    {
     "data": {
      "text/html": [
       "<div>\n",
       "<style scoped>\n",
       "    .dataframe tbody tr th:only-of-type {\n",
       "        vertical-align: middle;\n",
       "    }\n",
       "\n",
       "    .dataframe tbody tr th {\n",
       "        vertical-align: top;\n",
       "    }\n",
       "\n",
       "    .dataframe thead th {\n",
       "        text-align: right;\n",
       "    }\n",
       "</style>\n",
       "<table border=\"1\" class=\"dataframe\">\n",
       "  <thead>\n",
       "    <tr style=\"text-align: right;\">\n",
       "      <th></th>\n",
       "      <th>gen</th>\n",
       "      <th>varsta</th>\n",
       "      <th>Destinatie_tara1</th>\n",
       "      <th>Cetatenie</th>\n",
       "      <th>mediu_prov</th>\n",
       "      <th>judet_domiciliu</th>\n",
       "      <th>Nivel educatie</th>\n",
       "      <th>Relatia cu recrutorul</th>\n",
       "      <th>Forma de exploatare</th>\n",
       "      <th>uj</th>\n",
       "      <th>uj2</th>\n",
       "    </tr>\n",
       "  </thead>\n",
       "  <tbody>\n",
       "    <tr>\n",
       "      <th>0</th>\n",
       "      <td>feminin</td>\n",
       "      <td>25</td>\n",
       "      <td>Spania</td>\n",
       "      <td>Romana</td>\n",
       "      <td>rural</td>\n",
       "      <td>Galati</td>\n",
       "      <td>studii gimnaziale</td>\n",
       "      <td>partener(a)/sot(ie)</td>\n",
       "      <td>exploatare sexuala</td>\n",
       "      <td>42</td>\n",
       "      <td>0</td>\n",
       "    </tr>\n",
       "    <tr>\n",
       "      <th>1</th>\n",
       "      <td>feminin</td>\n",
       "      <td>38</td>\n",
       "      <td>Spania</td>\n",
       "      <td>Romana</td>\n",
       "      <td>rural</td>\n",
       "      <td>Vrancea</td>\n",
       "      <td>NaN</td>\n",
       "      <td>cunostinta/prieten(a)</td>\n",
       "      <td>exploatare sexuala</td>\n",
       "      <td>42</td>\n",
       "      <td>1</td>\n",
       "    </tr>\n",
       "  </tbody>\n",
       "</table>\n",
       "</div>"
      ],
      "text/plain": [
       "       gen  varsta Destinatie_tara1 Cetatenie mediu_prov judet_domiciliu  \\\n",
       "0  feminin      25           Spania    Romana      rural          Galati   \n",
       "1  feminin      38           Spania    Romana      rural         Vrancea   \n",
       "\n",
       "      Nivel educatie  Relatia cu recrutorul Forma de exploatare  uj  uj2  \n",
       "0  studii gimnaziale    partener(a)/sot(ie)  exploatare sexuala  42    0  \n",
       "1                NaN  cunostinta/prieten(a)  exploatare sexuala  42    1  "
      ]
     },
     "execution_count": 69,
     "metadata": {},
     "output_type": "execute_result"
    }
   ],
   "source": [
    "df.head(2)"
   ]
  },
  {
   "cell_type": "markdown",
   "metadata": {},
   "source": [
    "Exportálás pl. Excelbe"
   ]
  },
  {
   "cell_type": "code",
   "execution_count": 70,
   "metadata": {},
   "outputs": [],
   "source": [
    "df[['gen','varsta','Destinatie_tara1']].to_excel('enyim.xlsx')"
   ]
  },
  {
   "cell_type": "code",
   "execution_count": 79,
   "metadata": {},
   "outputs": [
    {
     "name": "stdout",
     "output_type": "stream",
     "text": [
      " Volume in drive E is MY\n",
      " Volume Serial Number is 7851-8AE0\n",
      "\n",
      " Directory of E:\\Skydrive\\Github\\csaladenes.github.io\\present\\bi\\2019\\jupyter\n",
      "\n",
      "03/12/2020  09:11 AM    <DIR>          .\n",
      "03/12/2020  09:11 AM    <DIR>          ..\n",
      "03/12/2020  09:13 AM    <DIR>          .ipynb_checkpoints\n",
      "03/12/2020  09:11 AM            87,088 1_python_bevezeto.ipynb\n",
      "12/09/2019  10:26 AM            40,960 2.17deaths causes.xls\n",
      "12/11/2019  10:02 PM            96,060 2_pandas_filetipusok.ipynb\n",
      "12/12/2019  10:58 PM             7,836 3_geokodolas.ipynb\n",
      "12/11/2019  10:05 PM             8,124 4-datumok.ipynb\n",
      "12/12/2019  10:54 PM            13,552 5b_table_from_pdf-pelda2.ipynb\n",
      "12/11/2019  10:28 PM             9,231 5_table_from_pdf.ipynb\n",
      "12/12/2019  05:16 PM            62,644 6b_pdf_ocr_excel-pelda2.ipynb\n",
      "12/12/2019  05:17 PM            52,480 6_pdf_ocr_excel.ipynb\n",
      "12/10/2019  11:15 AM                39 apikey.txt\n",
      "12/12/2019  10:48 PM           297,669 Benevezesek.pdf\n",
      "12/12/2019  08:26 PM           256,950 countries.geo.json\n",
      "12/11/2019  09:55 PM            27,460 countries_ro.geo.json\n",
      "12/09/2019  10:27 AM         8,245,532 data.json\n",
      "12/11/2019  09:55 PM             5,931 df5.xlsx\n",
      "03/12/2020  09:09 AM            90,566 enyim.csv\n",
      "03/12/2020  09:09 AM           158,008 enyim.json\n",
      "03/12/2020  09:08 AM            22,399 enyim.xlsx\n",
      "12/10/2019  03:59 PM            84,158 foo.pdf\n",
      "12/10/2019  11:58 AM             7,074 koordinatak.xlsx\n",
      "12/09/2019  01:13 PM               472 lev.py\n",
      "12/10/2019  02:04 PM        10,868,798 Lista candidatilor admisi - Licenta - sesiunea septembrie 2017.pdf\n",
      "12/10/2019  02:27 PM           266,436 Lista inscrisi Admitere Licenta sept 11.09.2015.pdf\n",
      "01/18/2020  06:12 PM    <DIR>          pdf\n",
      "12/10/2019  01:49 PM            11,547 pensiunea comfort 1.xlsx\n",
      "12/10/2019  03:18 PM           560,014 Serial Killer Statistics.pdf\n",
      "12/09/2019  10:26 AM            46,759 set-date-deschise-vtp2015.xlsx\n",
      "              26 File(s)     21,327,787 bytes\n",
      "               4 Dir(s)  123,588,935,680 bytes free\n"
     ]
    }
   ],
   "source": [
    "!dir"
   ]
  },
  {
   "cell_type": "code",
   "execution_count": 71,
   "metadata": {},
   "outputs": [],
   "source": [
    "df.to_json('enyim.json')"
   ]
  },
  {
   "cell_type": "code",
   "execution_count": 72,
   "metadata": {},
   "outputs": [],
   "source": [
    "df.to_csv('enyim.csv')"
   ]
  },
  {
   "cell_type": "code",
   "execution_count": 77,
   "metadata": {},
   "outputs": [
    {
     "data": {
      "text/html": [
       "<div>\n",
       "<style scoped>\n",
       "    .dataframe tbody tr th:only-of-type {\n",
       "        vertical-align: middle;\n",
       "    }\n",
       "\n",
       "    .dataframe tbody tr th {\n",
       "        vertical-align: top;\n",
       "    }\n",
       "\n",
       "    .dataframe thead th {\n",
       "        text-align: right;\n",
       "    }\n",
       "</style>\n",
       "<table border=\"1\" class=\"dataframe\">\n",
       "  <thead>\n",
       "    <tr style=\"text-align: right;\">\n",
       "      <th></th>\n",
       "      <th>gen</th>\n",
       "      <th>varsta</th>\n",
       "      <th>Destinatie_tara1</th>\n",
       "      <th>Cetatenie</th>\n",
       "      <th>mediu_prov</th>\n",
       "      <th>judet_domiciliu</th>\n",
       "      <th>Nivel educatie</th>\n",
       "      <th>Relatia cu recrutorul</th>\n",
       "      <th>Forma de exploatare</th>\n",
       "      <th>uj</th>\n",
       "      <th>uj2</th>\n",
       "    </tr>\n",
       "  </thead>\n",
       "  <tbody>\n",
       "    <tr>\n",
       "      <th>0</th>\n",
       "      <td>feminin</td>\n",
       "      <td>25</td>\n",
       "      <td>Spania</td>\n",
       "      <td>Romana</td>\n",
       "      <td>rural</td>\n",
       "      <td>Galati</td>\n",
       "      <td>studii gimnaziale</td>\n",
       "      <td>partener(a)/sot(ie)</td>\n",
       "      <td>exploatare sexuala</td>\n",
       "      <td>42</td>\n",
       "      <td>0</td>\n",
       "    </tr>\n",
       "    <tr>\n",
       "      <th>1</th>\n",
       "      <td>feminin</td>\n",
       "      <td>38</td>\n",
       "      <td>Spania</td>\n",
       "      <td>Romana</td>\n",
       "      <td>rural</td>\n",
       "      <td>Vrancea</td>\n",
       "      <td>None</td>\n",
       "      <td>cunostinta/prieten(a)</td>\n",
       "      <td>exploatare sexuala</td>\n",
       "      <td>42</td>\n",
       "      <td>1</td>\n",
       "    </tr>\n",
       "  </tbody>\n",
       "</table>\n",
       "</div>"
      ],
      "text/plain": [
       "       gen  varsta Destinatie_tara1 Cetatenie mediu_prov judet_domiciliu  \\\n",
       "0  feminin      25           Spania    Romana      rural          Galati   \n",
       "1  feminin      38           Spania    Romana      rural         Vrancea   \n",
       "\n",
       "      Nivel educatie  Relatia cu recrutorul Forma de exploatare  uj  uj2  \n",
       "0  studii gimnaziale    partener(a)/sot(ie)  exploatare sexuala  42    0  \n",
       "1               None  cunostinta/prieten(a)  exploatare sexuala  42    1  "
      ]
     },
     "execution_count": 77,
     "metadata": {},
     "output_type": "execute_result"
    }
   ],
   "source": [
    "pd.read_json('enyim.json').head(2)"
   ]
  },
  {
   "cell_type": "code",
   "execution_count": 78,
   "metadata": {},
   "outputs": [
    {
     "data": {
      "text/html": [
       "<div>\n",
       "<style scoped>\n",
       "    .dataframe tbody tr th:only-of-type {\n",
       "        vertical-align: middle;\n",
       "    }\n",
       "\n",
       "    .dataframe tbody tr th {\n",
       "        vertical-align: top;\n",
       "    }\n",
       "\n",
       "    .dataframe thead th {\n",
       "        text-align: right;\n",
       "    }\n",
       "</style>\n",
       "<table border=\"1\" class=\"dataframe\">\n",
       "  <thead>\n",
       "    <tr style=\"text-align: right;\">\n",
       "      <th></th>\n",
       "      <th>Unnamed: 0</th>\n",
       "      <th>gen</th>\n",
       "      <th>varsta</th>\n",
       "      <th>Destinatie_tara1</th>\n",
       "      <th>Cetatenie</th>\n",
       "      <th>mediu_prov</th>\n",
       "      <th>judet_domiciliu</th>\n",
       "      <th>Nivel educatie</th>\n",
       "      <th>Relatia cu recrutorul</th>\n",
       "      <th>Forma de exploatare</th>\n",
       "      <th>uj</th>\n",
       "      <th>uj2</th>\n",
       "    </tr>\n",
       "  </thead>\n",
       "  <tbody>\n",
       "    <tr>\n",
       "      <th>0</th>\n",
       "      <td>0</td>\n",
       "      <td>feminin</td>\n",
       "      <td>25</td>\n",
       "      <td>Spania</td>\n",
       "      <td>Romana</td>\n",
       "      <td>rural</td>\n",
       "      <td>Galati</td>\n",
       "      <td>studii gimnaziale</td>\n",
       "      <td>partener(a)/sot(ie)</td>\n",
       "      <td>exploatare sexuala</td>\n",
       "      <td>42</td>\n",
       "      <td>0</td>\n",
       "    </tr>\n",
       "    <tr>\n",
       "      <th>1</th>\n",
       "      <td>1</td>\n",
       "      <td>feminin</td>\n",
       "      <td>38</td>\n",
       "      <td>Spania</td>\n",
       "      <td>Romana</td>\n",
       "      <td>rural</td>\n",
       "      <td>Vrancea</td>\n",
       "      <td>NaN</td>\n",
       "      <td>cunostinta/prieten(a)</td>\n",
       "      <td>exploatare sexuala</td>\n",
       "      <td>42</td>\n",
       "      <td>1</td>\n",
       "    </tr>\n",
       "  </tbody>\n",
       "</table>\n",
       "</div>"
      ],
      "text/plain": [
       "   Unnamed: 0      gen  varsta Destinatie_tara1 Cetatenie mediu_prov  \\\n",
       "0           0  feminin      25           Spania    Romana      rural   \n",
       "1           1  feminin      38           Spania    Romana      rural   \n",
       "\n",
       "  judet_domiciliu     Nivel educatie  Relatia cu recrutorul  \\\n",
       "0          Galati  studii gimnaziale    partener(a)/sot(ie)   \n",
       "1         Vrancea                NaN  cunostinta/prieten(a)   \n",
       "\n",
       "  Forma de exploatare  uj  uj2  \n",
       "0  exploatare sexuala  42    0  \n",
       "1  exploatare sexuala  42    1  "
      ]
     },
     "execution_count": 78,
     "metadata": {},
     "output_type": "execute_result"
    }
   ],
   "source": [
    "pd.read_csv('enyim.csv').head(2)"
   ]
  },
  {
   "cell_type": "markdown",
   "metadata": {},
   "source": [
    "Egyediségvizsgálat"
   ]
  },
  {
   "cell_type": "code",
   "execution_count": 86,
   "metadata": {},
   "outputs": [
    {
     "data": {
      "text/plain": [
       "880"
      ]
     },
     "execution_count": 86,
     "metadata": {},
     "output_type": "execute_result"
    }
   ],
   "source": [
    "len(df)"
   ]
  },
  {
   "cell_type": "code",
   "execution_count": 87,
   "metadata": {},
   "outputs": [
    {
     "data": {
      "text/plain": [
       "array(['Spania', 'Danemarca', 'Italia', 'Portugalia', 'Irlanda',\n",
       "       'Austria', 'UK', 'Germania', 'Franta', 'Elvetia', 'Romania',\n",
       "       'Suedia', 'Olanda', 'Grecia', 'Finlanda', 'Cehia', 'Norvegia',\n",
       "       'Belgia', 'Ungaria', 'Cipru', 18, 'Libia', 'Qatar', 999, 'Turcia',\n",
       "       'Bahamas', nan], dtype=object)"
      ]
     },
     "execution_count": 87,
     "metadata": {},
     "output_type": "execute_result"
    }
   ],
   "source": [
    "df['Destinatie_tara1'].unique()"
   ]
  },
  {
   "cell_type": "code",
   "execution_count": 88,
   "metadata": {},
   "outputs": [
    {
     "data": {
      "text/plain": [
       "27"
      ]
     },
     "execution_count": 88,
     "metadata": {},
     "output_type": "execute_result"
    }
   ],
   "source": [
    "len(df['Destinatie_tara1'].unique())"
   ]
  },
  {
   "cell_type": "code",
   "execution_count": 91,
   "metadata": {},
   "outputs": [
    {
     "data": {
      "text/plain": [
       "array(['Romana', 'Straina'], dtype=object)"
      ]
     },
     "execution_count": 91,
     "metadata": {},
     "output_type": "execute_result"
    }
   ],
   "source": [
    "df['Cetatenie'].unique()"
   ]
  },
  {
   "cell_type": "markdown",
   "metadata": {},
   "source": [
    "Számolás `NaN` elemek nélkül."
   ]
  },
  {
   "cell_type": "code",
   "execution_count": 89,
   "metadata": {},
   "outputs": [
    {
     "data": {
      "text/plain": [
       "gen                      880\n",
       "varsta                   880\n",
       "Destinatie_tara1         879\n",
       "Cetatenie                880\n",
       "mediu_prov               865\n",
       "judet_domiciliu          874\n",
       "Nivel educatie           821\n",
       "Relatia cu recrutorul    849\n",
       "Forma de exploatare      880\n",
       "uj                       880\n",
       "uj2                      880\n",
       "dtype: int64"
      ]
     },
     "execution_count": 89,
     "metadata": {},
     "output_type": "execute_result"
    }
   ],
   "source": [
    "df.count()"
   ]
  },
  {
   "cell_type": "markdown",
   "metadata": {},
   "source": [
    "Egyedi számolás `NaN` elemek nélkül."
   ]
  },
  {
   "cell_type": "code",
   "execution_count": 90,
   "metadata": {},
   "outputs": [
    {
     "data": {
      "text/plain": [
       "gen                        2\n",
       "varsta                    59\n",
       "Destinatie_tara1          26\n",
       "Cetatenie                  2\n",
       "mediu_prov                 2\n",
       "judet_domiciliu           42\n",
       "Nivel educatie             7\n",
       "Relatia cu recrutorul      6\n",
       "Forma de exploatare        6\n",
       "uj                         1\n",
       "uj2                      880\n",
       "dtype: int64"
      ]
     },
     "execution_count": 90,
     "metadata": {},
     "output_type": "execute_result"
    }
   ],
   "source": [
    "df.nunique()"
   ]
  },
  {
   "cell_type": "markdown",
   "metadata": {},
   "source": [
    "Csoportosítani oszlopok szerint"
   ]
  },
  {
   "cell_type": "code",
   "execution_count": 97,
   "metadata": {},
   "outputs": [
    {
     "data": {
      "text/html": [
       "<div>\n",
       "<style scoped>\n",
       "    .dataframe tbody tr th:only-of-type {\n",
       "        vertical-align: middle;\n",
       "    }\n",
       "\n",
       "    .dataframe tbody tr th {\n",
       "        vertical-align: top;\n",
       "    }\n",
       "\n",
       "    .dataframe thead th {\n",
       "        text-align: right;\n",
       "    }\n",
       "</style>\n",
       "<table border=\"1\" class=\"dataframe\">\n",
       "  <thead>\n",
       "    <tr style=\"text-align: right;\">\n",
       "      <th></th>\n",
       "      <th>gen</th>\n",
       "      <th>varsta</th>\n",
       "      <th>Destinatie_tara1</th>\n",
       "      <th>Cetatenie</th>\n",
       "      <th>mediu_prov</th>\n",
       "      <th>judet_domiciliu</th>\n",
       "      <th>Nivel educatie</th>\n",
       "      <th>Relatia cu recrutorul</th>\n",
       "      <th>Forma de exploatare</th>\n",
       "      <th>uj</th>\n",
       "      <th>uj2</th>\n",
       "    </tr>\n",
       "    <tr>\n",
       "      <th>Destinatie_tara1</th>\n",
       "      <th></th>\n",
       "      <th></th>\n",
       "      <th></th>\n",
       "      <th></th>\n",
       "      <th></th>\n",
       "      <th></th>\n",
       "      <th></th>\n",
       "      <th></th>\n",
       "      <th></th>\n",
       "      <th></th>\n",
       "      <th></th>\n",
       "    </tr>\n",
       "  </thead>\n",
       "  <tbody>\n",
       "    <tr>\n",
       "      <th>18</th>\n",
       "      <td>1</td>\n",
       "      <td>1</td>\n",
       "      <td>1</td>\n",
       "      <td>1</td>\n",
       "      <td>1</td>\n",
       "      <td>1</td>\n",
       "      <td>1</td>\n",
       "      <td>1</td>\n",
       "      <td>1</td>\n",
       "      <td>1</td>\n",
       "      <td>1</td>\n",
       "    </tr>\n",
       "    <tr>\n",
       "      <th>999</th>\n",
       "      <td>1</td>\n",
       "      <td>1</td>\n",
       "      <td>1</td>\n",
       "      <td>1</td>\n",
       "      <td>1</td>\n",
       "      <td>1</td>\n",
       "      <td>1</td>\n",
       "      <td>1</td>\n",
       "      <td>1</td>\n",
       "      <td>1</td>\n",
       "      <td>1</td>\n",
       "    </tr>\n",
       "    <tr>\n",
       "      <th>Austria</th>\n",
       "      <td>1</td>\n",
       "      <td>11</td>\n",
       "      <td>1</td>\n",
       "      <td>1</td>\n",
       "      <td>2</td>\n",
       "      <td>12</td>\n",
       "      <td>4</td>\n",
       "      <td>6</td>\n",
       "      <td>4</td>\n",
       "      <td>1</td>\n",
       "      <td>23</td>\n",
       "    </tr>\n",
       "    <tr>\n",
       "      <th>Bahamas</th>\n",
       "      <td>1</td>\n",
       "      <td>1</td>\n",
       "      <td>1</td>\n",
       "      <td>1</td>\n",
       "      <td>1</td>\n",
       "      <td>1</td>\n",
       "      <td>1</td>\n",
       "      <td>1</td>\n",
       "      <td>1</td>\n",
       "      <td>1</td>\n",
       "      <td>1</td>\n",
       "    </tr>\n",
       "    <tr>\n",
       "      <th>Belgia</th>\n",
       "      <td>2</td>\n",
       "      <td>10</td>\n",
       "      <td>1</td>\n",
       "      <td>1</td>\n",
       "      <td>2</td>\n",
       "      <td>5</td>\n",
       "      <td>3</td>\n",
       "      <td>3</td>\n",
       "      <td>3</td>\n",
       "      <td>1</td>\n",
       "      <td>13</td>\n",
       "    </tr>\n",
       "  </tbody>\n",
       "</table>\n",
       "</div>"
      ],
      "text/plain": [
       "                  gen  varsta  Destinatie_tara1  Cetatenie  mediu_prov  \\\n",
       "Destinatie_tara1                                                         \n",
       "18                  1       1                 1          1           1   \n",
       "999                 1       1                 1          1           1   \n",
       "Austria             1      11                 1          1           2   \n",
       "Bahamas             1       1                 1          1           1   \n",
       "Belgia              2      10                 1          1           2   \n",
       "\n",
       "                  judet_domiciliu  Nivel educatie  Relatia cu recrutorul  \\\n",
       "Destinatie_tara1                                                           \n",
       "18                              1               1                      1   \n",
       "999                             1               1                      1   \n",
       "Austria                        12               4                      6   \n",
       "Bahamas                         1               1                      1   \n",
       "Belgia                          5               3                      3   \n",
       "\n",
       "                  Forma de exploatare  uj  uj2  \n",
       "Destinatie_tara1                                \n",
       "18                                  1   1    1  \n",
       "999                                 1   1    1  \n",
       "Austria                             4   1   23  \n",
       "Bahamas                             1   1    1  \n",
       "Belgia                              3   1   13  "
      ]
     },
     "execution_count": 97,
     "metadata": {},
     "output_type": "execute_result"
    }
   ],
   "source": [
    "df.groupby('Destinatie_tara1').nunique().head()"
   ]
  },
  {
   "cell_type": "code",
   "execution_count": 98,
   "metadata": {},
   "outputs": [
    {
     "data": {
      "text/html": [
       "<div>\n",
       "<style scoped>\n",
       "    .dataframe tbody tr th:only-of-type {\n",
       "        vertical-align: middle;\n",
       "    }\n",
       "\n",
       "    .dataframe tbody tr th {\n",
       "        vertical-align: top;\n",
       "    }\n",
       "\n",
       "    .dataframe thead th {\n",
       "        text-align: right;\n",
       "    }\n",
       "</style>\n",
       "<table border=\"1\" class=\"dataframe\">\n",
       "  <thead>\n",
       "    <tr style=\"text-align: right;\">\n",
       "      <th></th>\n",
       "      <th></th>\n",
       "      <th>varsta</th>\n",
       "      <th>uj</th>\n",
       "      <th>uj2</th>\n",
       "    </tr>\n",
       "    <tr>\n",
       "      <th>judet_domiciliu</th>\n",
       "      <th>Destinatie_tara1</th>\n",
       "      <th></th>\n",
       "      <th></th>\n",
       "      <th></th>\n",
       "    </tr>\n",
       "  </thead>\n",
       "  <tbody>\n",
       "    <tr>\n",
       "      <th rowspan=\"4\" valign=\"top\">Alba</th>\n",
       "      <th>Austria</th>\n",
       "      <td>19.500000</td>\n",
       "      <td>42.0</td>\n",
       "      <td>698.500000</td>\n",
       "    </tr>\n",
       "    <tr>\n",
       "      <th>Franta</th>\n",
       "      <td>26.000000</td>\n",
       "      <td>42.0</td>\n",
       "      <td>705.000000</td>\n",
       "    </tr>\n",
       "    <tr>\n",
       "      <th>Italia</th>\n",
       "      <td>20.000000</td>\n",
       "      <td>42.0</td>\n",
       "      <td>685.000000</td>\n",
       "    </tr>\n",
       "    <tr>\n",
       "      <th>Romania</th>\n",
       "      <td>15.500000</td>\n",
       "      <td>42.0</td>\n",
       "      <td>699.000000</td>\n",
       "    </tr>\n",
       "    <tr>\n",
       "      <th>Arad</th>\n",
       "      <th>Germania</th>\n",
       "      <td>18.000000</td>\n",
       "      <td>42.0</td>\n",
       "      <td>656.000000</td>\n",
       "    </tr>\n",
       "    <tr>\n",
       "      <th>...</th>\n",
       "      <th>...</th>\n",
       "      <td>...</td>\n",
       "      <td>...</td>\n",
       "      <td>...</td>\n",
       "    </tr>\n",
       "    <tr>\n",
       "      <th rowspan=\"5\" valign=\"top\">Vrancea</th>\n",
       "      <th>Grecia</th>\n",
       "      <td>19.500000</td>\n",
       "      <td>42.0</td>\n",
       "      <td>532.000000</td>\n",
       "    </tr>\n",
       "    <tr>\n",
       "      <th>Italia</th>\n",
       "      <td>24.000000</td>\n",
       "      <td>42.0</td>\n",
       "      <td>521.000000</td>\n",
       "    </tr>\n",
       "    <tr>\n",
       "      <th>Olanda</th>\n",
       "      <td>18.000000</td>\n",
       "      <td>42.0</td>\n",
       "      <td>779.000000</td>\n",
       "    </tr>\n",
       "    <tr>\n",
       "      <th>Romania</th>\n",
       "      <td>18.818182</td>\n",
       "      <td>42.0</td>\n",
       "      <td>529.181818</td>\n",
       "    </tr>\n",
       "    <tr>\n",
       "      <th>Spania</th>\n",
       "      <td>38.000000</td>\n",
       "      <td>42.0</td>\n",
       "      <td>1.000000</td>\n",
       "    </tr>\n",
       "  </tbody>\n",
       "</table>\n",
       "<p>217 rows × 3 columns</p>\n",
       "</div>"
      ],
      "text/plain": [
       "                                     varsta    uj         uj2\n",
       "judet_domiciliu Destinatie_tara1                             \n",
       "Alba            Austria           19.500000  42.0  698.500000\n",
       "                Franta            26.000000  42.0  705.000000\n",
       "                Italia            20.000000  42.0  685.000000\n",
       "                Romania           15.500000  42.0  699.000000\n",
       "Arad            Germania          18.000000  42.0  656.000000\n",
       "...                                     ...   ...         ...\n",
       "Vrancea         Grecia            19.500000  42.0  532.000000\n",
       "                Italia            24.000000  42.0  521.000000\n",
       "                Olanda            18.000000  42.0  779.000000\n",
       "                Romania           18.818182  42.0  529.181818\n",
       "                Spania            38.000000  42.0    1.000000\n",
       "\n",
       "[217 rows x 3 columns]"
      ]
     },
     "execution_count": 98,
     "metadata": {},
     "output_type": "execute_result"
    }
   ],
   "source": [
    "df.groupby(['judet_domiciliu','Destinatie_tara1']).mean() #tobb oszlop is lehet a szuro"
   ]
  },
  {
   "cell_type": "code",
   "execution_count": 99,
   "metadata": {},
   "outputs": [],
   "source": [
    "df4=df.groupby(['judet_domiciliu','Destinatie_tara1']).mean() #tobb oszlop is lehet a szuro"
   ]
  },
  {
   "cell_type": "code",
   "execution_count": 106,
   "metadata": {},
   "outputs": [
    {
     "name": "stdout",
     "output_type": "stream",
     "text": [
      "Requirement already up-to-date: pandas in c:\\programdata\\anaconda3\\lib\\site-packages (1.0.1)\n",
      "Requirement already satisfied, skipping upgrade: pytz>=2017.2 in c:\\programdata\\anaconda3\\lib\\site-packages (from pandas) (2019.3)\n",
      "Requirement already satisfied, skipping upgrade: python-dateutil>=2.6.1 in c:\\programdata\\anaconda3\\lib\\site-packages (from pandas) (2.8.1)\n",
      "Requirement already satisfied, skipping upgrade: numpy>=1.13.3 in c:\\programdata\\anaconda3\\lib\\site-packages (from pandas) (1.18.1)\n",
      "Requirement already satisfied, skipping upgrade: six>=1.5 in c:\\programdata\\anaconda3\\lib\\site-packages (from python-dateutil>=2.6.1->pandas) (1.14.0)\n"
     ]
    }
   ],
   "source": [
    "!pip install pandas --upgrade"
   ]
  },
  {
   "cell_type": "code",
   "execution_count": 110,
   "metadata": {},
   "outputs": [
    {
     "data": {
      "text/plain": [
       "MultiIndex([(   'Alba',   'Austria'),\n",
       "            (   'Alba',    'Franta'),\n",
       "            (   'Alba',    'Italia'),\n",
       "            (   'Alba',   'Romania'),\n",
       "            (   'Arad',  'Germania'),\n",
       "            (   'Arad',   'Irlanda'),\n",
       "            (   'Arad',   'Romania'),\n",
       "            (   'Arad',    'Spania'),\n",
       "            (  'Arges',   'Austria'),\n",
       "            (  'Arges',  'Germania'),\n",
       "            ...\n",
       "            ( 'Vaslui',   'Irlanda'),\n",
       "            ( 'Vaslui',    'Italia'),\n",
       "            ( 'Vaslui',   'Romania'),\n",
       "            ('Vrancea',   'Austria'),\n",
       "            ('Vrancea', 'Danemarca'),\n",
       "            ('Vrancea',    'Grecia'),\n",
       "            ('Vrancea',    'Italia'),\n",
       "            ('Vrancea',    'Olanda'),\n",
       "            ('Vrancea',   'Romania'),\n",
       "            ('Vrancea',    'Spania')],\n",
       "           names=['judet_domiciliu', 'Destinatie_tara1'], length=217)"
      ]
     },
     "execution_count": 110,
     "metadata": {},
     "output_type": "execute_result"
    }
   ],
   "source": [
    "df4.index"
   ]
  },
  {
   "cell_type": "code",
   "execution_count": 109,
   "metadata": {},
   "outputs": [
    {
     "data": {
      "text/plain": [
       "Index(['Alba', 'Alba', 'Alba', 'Alba', 'Arad', 'Arad', 'Arad', 'Arad', 'Arges',\n",
       "       'Arges',\n",
       "       ...\n",
       "       'Vaslui', 'Vaslui', 'Vaslui', 'Vrancea', 'Vrancea', 'Vrancea',\n",
       "       'Vrancea', 'Vrancea', 'Vrancea', 'Vrancea'],\n",
       "      dtype='object', name='judet_domiciliu', length=217)"
      ]
     },
     "execution_count": 109,
     "metadata": {},
     "output_type": "execute_result"
    }
   ],
   "source": [
    "df4.index.get_level_values(0)"
   ]
  },
  {
   "cell_type": "code",
   "execution_count": 111,
   "metadata": {},
   "outputs": [
    {
     "data": {
      "text/plain": [
       "Index([  'Austria',    'Franta',    'Italia',   'Romania',  'Germania',\n",
       "         'Irlanda',   'Romania',    'Spania',   'Austria',  'Germania',\n",
       "       ...\n",
       "         'Irlanda',    'Italia',   'Romania',   'Austria', 'Danemarca',\n",
       "          'Grecia',    'Italia',    'Olanda',   'Romania',    'Spania'],\n",
       "      dtype='object', name='Destinatie_tara1', length=217)"
      ]
     },
     "execution_count": 111,
     "metadata": {},
     "output_type": "execute_result"
    }
   ],
   "source": [
    "df4.index.get_level_values(1)"
   ]
  },
  {
   "cell_type": "code",
   "execution_count": 114,
   "metadata": {},
   "outputs": [
    {
     "data": {
      "text/plain": [
       "varsta     19.5\n",
       "uj         42.0\n",
       "uj2       698.5\n",
       "Name: Austria, dtype: float64"
      ]
     },
     "execution_count": 114,
     "metadata": {},
     "output_type": "execute_result"
    }
   ],
   "source": [
    "df4.loc['Alba'].loc['Austria']"
   ]
  },
  {
   "cell_type": "code",
   "execution_count": 116,
   "metadata": {},
   "outputs": [
    {
     "data": {
      "text/html": [
       "<div>\n",
       "<style scoped>\n",
       "    .dataframe tbody tr th:only-of-type {\n",
       "        vertical-align: middle;\n",
       "    }\n",
       "\n",
       "    .dataframe tbody tr th {\n",
       "        vertical-align: top;\n",
       "    }\n",
       "\n",
       "    .dataframe thead th {\n",
       "        text-align: right;\n",
       "    }\n",
       "</style>\n",
       "<table border=\"1\" class=\"dataframe\">\n",
       "  <thead>\n",
       "    <tr style=\"text-align: right;\">\n",
       "      <th></th>\n",
       "      <th>judet_domiciliu</th>\n",
       "      <th>Destinatie_tara1</th>\n",
       "      <th>varsta</th>\n",
       "      <th>uj</th>\n",
       "      <th>uj2</th>\n",
       "    </tr>\n",
       "  </thead>\n",
       "  <tbody>\n",
       "    <tr>\n",
       "      <th>0</th>\n",
       "      <td>Alba</td>\n",
       "      <td>Austria</td>\n",
       "      <td>19.500000</td>\n",
       "      <td>42.0</td>\n",
       "      <td>698.500000</td>\n",
       "    </tr>\n",
       "    <tr>\n",
       "      <th>1</th>\n",
       "      <td>Alba</td>\n",
       "      <td>Franta</td>\n",
       "      <td>26.000000</td>\n",
       "      <td>42.0</td>\n",
       "      <td>705.000000</td>\n",
       "    </tr>\n",
       "    <tr>\n",
       "      <th>2</th>\n",
       "      <td>Alba</td>\n",
       "      <td>Italia</td>\n",
       "      <td>20.000000</td>\n",
       "      <td>42.0</td>\n",
       "      <td>685.000000</td>\n",
       "    </tr>\n",
       "    <tr>\n",
       "      <th>3</th>\n",
       "      <td>Alba</td>\n",
       "      <td>Romania</td>\n",
       "      <td>15.500000</td>\n",
       "      <td>42.0</td>\n",
       "      <td>699.000000</td>\n",
       "    </tr>\n",
       "    <tr>\n",
       "      <th>4</th>\n",
       "      <td>Arad</td>\n",
       "      <td>Germania</td>\n",
       "      <td>18.000000</td>\n",
       "      <td>42.0</td>\n",
       "      <td>656.000000</td>\n",
       "    </tr>\n",
       "    <tr>\n",
       "      <th>...</th>\n",
       "      <td>...</td>\n",
       "      <td>...</td>\n",
       "      <td>...</td>\n",
       "      <td>...</td>\n",
       "      <td>...</td>\n",
       "    </tr>\n",
       "    <tr>\n",
       "      <th>212</th>\n",
       "      <td>Vrancea</td>\n",
       "      <td>Grecia</td>\n",
       "      <td>19.500000</td>\n",
       "      <td>42.0</td>\n",
       "      <td>532.000000</td>\n",
       "    </tr>\n",
       "    <tr>\n",
       "      <th>213</th>\n",
       "      <td>Vrancea</td>\n",
       "      <td>Italia</td>\n",
       "      <td>24.000000</td>\n",
       "      <td>42.0</td>\n",
       "      <td>521.000000</td>\n",
       "    </tr>\n",
       "    <tr>\n",
       "      <th>214</th>\n",
       "      <td>Vrancea</td>\n",
       "      <td>Olanda</td>\n",
       "      <td>18.000000</td>\n",
       "      <td>42.0</td>\n",
       "      <td>779.000000</td>\n",
       "    </tr>\n",
       "    <tr>\n",
       "      <th>215</th>\n",
       "      <td>Vrancea</td>\n",
       "      <td>Romania</td>\n",
       "      <td>18.818182</td>\n",
       "      <td>42.0</td>\n",
       "      <td>529.181818</td>\n",
       "    </tr>\n",
       "    <tr>\n",
       "      <th>216</th>\n",
       "      <td>Vrancea</td>\n",
       "      <td>Spania</td>\n",
       "      <td>38.000000</td>\n",
       "      <td>42.0</td>\n",
       "      <td>1.000000</td>\n",
       "    </tr>\n",
       "  </tbody>\n",
       "</table>\n",
       "<p>217 rows × 5 columns</p>\n",
       "</div>"
      ],
      "text/plain": [
       "    judet_domiciliu Destinatie_tara1     varsta    uj         uj2\n",
       "0              Alba          Austria  19.500000  42.0  698.500000\n",
       "1              Alba           Franta  26.000000  42.0  705.000000\n",
       "2              Alba           Italia  20.000000  42.0  685.000000\n",
       "3              Alba          Romania  15.500000  42.0  699.000000\n",
       "4              Arad         Germania  18.000000  42.0  656.000000\n",
       "..              ...              ...        ...   ...         ...\n",
       "212         Vrancea           Grecia  19.500000  42.0  532.000000\n",
       "213         Vrancea           Italia  24.000000  42.0  521.000000\n",
       "214         Vrancea           Olanda  18.000000  42.0  779.000000\n",
       "215         Vrancea          Romania  18.818182  42.0  529.181818\n",
       "216         Vrancea           Spania  38.000000  42.0    1.000000\n",
       "\n",
       "[217 rows x 5 columns]"
      ]
     },
     "execution_count": 116,
     "metadata": {},
     "output_type": "execute_result"
    }
   ],
   "source": [
    "df4.reset_index()"
   ]
  },
  {
   "cell_type": "code",
   "execution_count": 146,
   "metadata": {},
   "outputs": [],
   "source": [
    "df=df.set_index('Destinatie_tara1')\n",
    "#df.set_index('Destinatie_tara1',inplace=True)"
   ]
  },
  {
   "cell_type": "code",
   "execution_count": 153,
   "metadata": {},
   "outputs": [],
   "source": [
    "df.index=df.index.astype(str)"
   ]
  },
  {
   "cell_type": "code",
   "execution_count": 154,
   "metadata": {},
   "outputs": [
    {
     "data": {
      "text/html": [
       "<div>\n",
       "<style scoped>\n",
       "    .dataframe tbody tr th:only-of-type {\n",
       "        vertical-align: middle;\n",
       "    }\n",
       "\n",
       "    .dataframe tbody tr th {\n",
       "        vertical-align: top;\n",
       "    }\n",
       "\n",
       "    .dataframe thead th {\n",
       "        text-align: right;\n",
       "    }\n",
       "</style>\n",
       "<table border=\"1\" class=\"dataframe\">\n",
       "  <thead>\n",
       "    <tr style=\"text-align: right;\">\n",
       "      <th></th>\n",
       "      <th>gen</th>\n",
       "      <th>varsta</th>\n",
       "      <th>Cetatenie</th>\n",
       "      <th>mediu_prov</th>\n",
       "      <th>judet_domiciliu</th>\n",
       "      <th>Nivel educatie</th>\n",
       "      <th>Relatia cu recrutorul</th>\n",
       "      <th>Forma de exploatare</th>\n",
       "    </tr>\n",
       "    <tr>\n",
       "      <th>Destinatie_tara1</th>\n",
       "      <th></th>\n",
       "      <th></th>\n",
       "      <th></th>\n",
       "      <th></th>\n",
       "      <th></th>\n",
       "      <th></th>\n",
       "      <th></th>\n",
       "      <th></th>\n",
       "    </tr>\n",
       "  </thead>\n",
       "  <tbody>\n",
       "    <tr>\n",
       "      <th>18</th>\n",
       "      <td>feminin</td>\n",
       "      <td>18</td>\n",
       "      <td>Romana</td>\n",
       "      <td>rural</td>\n",
       "      <td>Valcea</td>\n",
       "      <td>studii gimnaziale</td>\n",
       "      <td>cunostinta/prieten(a)</td>\n",
       "      <td>tentativa</td>\n",
       "    </tr>\n",
       "    <tr>\n",
       "      <th>999</th>\n",
       "      <td>masculin</td>\n",
       "      <td>42</td>\n",
       "      <td>Romana</td>\n",
       "      <td>urban</td>\n",
       "      <td>Brasov</td>\n",
       "      <td>fara studii</td>\n",
       "      <td>vecin</td>\n",
       "      <td>exploatare prin munca</td>\n",
       "    </tr>\n",
       "    <tr>\n",
       "      <th>Austria</th>\n",
       "      <td>feminin</td>\n",
       "      <td>19</td>\n",
       "      <td>Romana</td>\n",
       "      <td>urban</td>\n",
       "      <td>Vrancea</td>\n",
       "      <td>studii liceale</td>\n",
       "      <td>partener(a)/sot(ie)</td>\n",
       "      <td>exploatare sexuala</td>\n",
       "    </tr>\n",
       "    <tr>\n",
       "      <th>Austria</th>\n",
       "      <td>feminin</td>\n",
       "      <td>15</td>\n",
       "      <td>Romana</td>\n",
       "      <td>urban</td>\n",
       "      <td>Hunedoara</td>\n",
       "      <td>studii primare</td>\n",
       "      <td>necunoscut</td>\n",
       "      <td>obligarea la furturi</td>\n",
       "    </tr>\n",
       "    <tr>\n",
       "      <th>Austria</th>\n",
       "      <td>feminin</td>\n",
       "      <td>19</td>\n",
       "      <td>Romana</td>\n",
       "      <td>rural</td>\n",
       "      <td>Bihor</td>\n",
       "      <td>studii liceale</td>\n",
       "      <td>cunostinta/prieten(a)</td>\n",
       "      <td>exploatare sexuala</td>\n",
       "    </tr>\n",
       "    <tr>\n",
       "      <th>...</th>\n",
       "      <td>...</td>\n",
       "      <td>...</td>\n",
       "      <td>...</td>\n",
       "      <td>...</td>\n",
       "      <td>...</td>\n",
       "      <td>...</td>\n",
       "      <td>...</td>\n",
       "      <td>...</td>\n",
       "    </tr>\n",
       "    <tr>\n",
       "      <th>UK</th>\n",
       "      <td>feminin</td>\n",
       "      <td>25</td>\n",
       "      <td>Romana</td>\n",
       "      <td>urban</td>\n",
       "      <td>NaN</td>\n",
       "      <td>studii liceale</td>\n",
       "      <td>vecin</td>\n",
       "      <td>alte situatii de exploatare</td>\n",
       "    </tr>\n",
       "    <tr>\n",
       "      <th>UK</th>\n",
       "      <td>masculin</td>\n",
       "      <td>39</td>\n",
       "      <td>Romana</td>\n",
       "      <td>rural</td>\n",
       "      <td>Cluj</td>\n",
       "      <td>fara studii</td>\n",
       "      <td>cunostinta/prieten(a)</td>\n",
       "      <td>obligarea la furturi</td>\n",
       "    </tr>\n",
       "    <tr>\n",
       "      <th>Ungaria</th>\n",
       "      <td>feminin</td>\n",
       "      <td>38</td>\n",
       "      <td>Romana</td>\n",
       "      <td>rural</td>\n",
       "      <td>Sibiu</td>\n",
       "      <td>fara studii</td>\n",
       "      <td>partener(a)/sot(ie)</td>\n",
       "      <td>obligarea la cersetorie</td>\n",
       "    </tr>\n",
       "    <tr>\n",
       "      <th>Ungaria</th>\n",
       "      <td>masculin</td>\n",
       "      <td>21</td>\n",
       "      <td>Romana</td>\n",
       "      <td>rural</td>\n",
       "      <td>Mures</td>\n",
       "      <td>studii primare</td>\n",
       "      <td>necunoscut</td>\n",
       "      <td>exploatare prin munca</td>\n",
       "    </tr>\n",
       "    <tr>\n",
       "      <th>nan</th>\n",
       "      <td>feminin</td>\n",
       "      <td>16</td>\n",
       "      <td>Romana</td>\n",
       "      <td>rural</td>\n",
       "      <td>NaN</td>\n",
       "      <td>studii gimnaziale</td>\n",
       "      <td>cunostinta/prieten(a)</td>\n",
       "      <td>obligarea la cersetorie</td>\n",
       "    </tr>\n",
       "  </tbody>\n",
       "</table>\n",
       "<p>880 rows × 8 columns</p>\n",
       "</div>"
      ],
      "text/plain": [
       "                       gen  varsta Cetatenie mediu_prov judet_domiciliu  \\\n",
       "Destinatie_tara1                                                          \n",
       "18                 feminin      18    Romana      rural          Valcea   \n",
       "999               masculin      42    Romana      urban          Brasov   \n",
       "Austria            feminin      19    Romana      urban         Vrancea   \n",
       "Austria            feminin      15    Romana      urban       Hunedoara   \n",
       "Austria            feminin      19    Romana      rural           Bihor   \n",
       "...                    ...     ...       ...        ...             ...   \n",
       "UK                 feminin      25    Romana      urban             NaN   \n",
       "UK                masculin      39    Romana      rural            Cluj   \n",
       "Ungaria            feminin      38    Romana      rural           Sibiu   \n",
       "Ungaria           masculin      21    Romana      rural           Mures   \n",
       "nan                feminin      16    Romana      rural             NaN   \n",
       "\n",
       "                     Nivel educatie  Relatia cu recrutorul  \\\n",
       "Destinatie_tara1                                             \n",
       "18                studii gimnaziale  cunostinta/prieten(a)   \n",
       "999                     fara studii                  vecin   \n",
       "Austria              studii liceale    partener(a)/sot(ie)   \n",
       "Austria              studii primare             necunoscut   \n",
       "Austria              studii liceale  cunostinta/prieten(a)   \n",
       "...                             ...                    ...   \n",
       "UK                   studii liceale                  vecin   \n",
       "UK                      fara studii  cunostinta/prieten(a)   \n",
       "Ungaria                 fara studii    partener(a)/sot(ie)   \n",
       "Ungaria              studii primare             necunoscut   \n",
       "nan               studii gimnaziale  cunostinta/prieten(a)   \n",
       "\n",
       "                          Forma de exploatare  \n",
       "Destinatie_tara1                               \n",
       "18                                  tentativa  \n",
       "999                     exploatare prin munca  \n",
       "Austria                    exploatare sexuala  \n",
       "Austria                  obligarea la furturi  \n",
       "Austria                    exploatare sexuala  \n",
       "...                                       ...  \n",
       "UK                alte situatii de exploatare  \n",
       "UK                       obligarea la furturi  \n",
       "Ungaria               obligarea la cersetorie  \n",
       "Ungaria                 exploatare prin munca  \n",
       "nan                   obligarea la cersetorie  \n",
       "\n",
       "[880 rows x 8 columns]"
      ]
     },
     "execution_count": 154,
     "metadata": {},
     "output_type": "execute_result"
    }
   ],
   "source": [
    "df=df.sort_index()\n",
    "df"
   ]
  },
  {
   "cell_type": "code",
   "execution_count": 155,
   "metadata": {},
   "outputs": [
    {
     "data": {
      "text/plain": [
       "Index(['18', '999', 'Austria', 'Bahamas', 'Belgia', 'Cehia', 'Cipru',\n",
       "       'Danemarca', 'Elvetia', 'Finlanda', 'Franta', 'Germania', 'Grecia',\n",
       "       'Irlanda', 'Italia', 'Libia', 'Norvegia', 'Olanda', 'Portugalia',\n",
       "       'Qatar', 'Romania', 'Spania', 'Suedia', 'Turcia', 'UK', 'Ungaria',\n",
       "       'nan'],\n",
       "      dtype='object', name='Destinatie_tara1')"
      ]
     },
     "execution_count": 155,
     "metadata": {},
     "output_type": "execute_result"
    }
   ],
   "source": [
    "df.index.unique()"
   ]
  },
  {
   "cell_type": "code",
   "execution_count": 157,
   "metadata": {},
   "outputs": [
    {
     "data": {
      "text/plain": [
       "Index(['Austria', 'Bahamas', 'Belgia', 'Cehia', 'Cipru', 'Danemarca',\n",
       "       'Elvetia', 'Finlanda', 'Franta', 'Germania', 'Grecia', 'Irlanda',\n",
       "       'Italia', 'Libia', 'Norvegia', 'Olanda', 'Portugalia', 'Qatar',\n",
       "       'Romania', 'Spania', 'Suedia', 'Turcia', 'UK', 'Ungaria', 'nan'],\n",
       "      dtype='object', name='Destinatie_tara1')"
      ]
     },
     "execution_count": 157,
     "metadata": {},
     "output_type": "execute_result"
    }
   ],
   "source": [
    "df.index.unique()[2:]"
   ]
  },
  {
   "cell_type": "code",
   "execution_count": 158,
   "metadata": {},
   "outputs": [
    {
     "data": {
      "text/plain": [
       "Index(['Austria', 'Bahamas', 'Belgia', 'Cehia', 'Cipru', 'Danemarca',\n",
       "       'Elvetia', 'Finlanda', 'Franta', 'Germania', 'Grecia', 'Irlanda',\n",
       "       'Italia', 'Libia', 'Norvegia', 'Olanda', 'Portugalia', 'Qatar',\n",
       "       'Romania', 'Spania', 'Suedia', 'Turcia', 'UK', 'Ungaria'],\n",
       "      dtype='object', name='Destinatie_tara1')"
      ]
     },
     "execution_count": 158,
     "metadata": {},
     "output_type": "execute_result"
    }
   ],
   "source": [
    "df.index.unique()[2:-1]"
   ]
  },
  {
   "cell_type": "code",
   "execution_count": 160,
   "metadata": {},
   "outputs": [
    {
     "data": {
      "text/plain": [
       "Index(['Bahamas', 'Belgia', 'Cehia', 'Cipru', 'Danemarca', 'Elvetia',\n",
       "       'Finlanda', 'Franta', 'Germania', 'Grecia', 'Irlanda', 'Italia',\n",
       "       'Libia', 'Norvegia', 'Olanda', 'Portugalia', 'Qatar', 'Romania'],\n",
       "      dtype='object', name='Destinatie_tara1')"
      ]
     },
     "execution_count": 160,
     "metadata": {},
     "output_type": "execute_result"
    }
   ],
   "source": [
    "df.index.unique()[3:-6]"
   ]
  },
  {
   "cell_type": "code",
   "execution_count": 161,
   "metadata": {},
   "outputs": [
    {
     "data": {
      "text/plain": [
       "Index(['18', 'Austria', 'Belgia', 'Cipru', 'Elvetia', 'Franta', 'Grecia',\n",
       "       'Italia', 'Norvegia', 'Portugalia', 'Romania', 'Suedia', 'UK', 'nan'],\n",
       "      dtype='object', name='Destinatie_tara1')"
      ]
     },
     "execution_count": 161,
     "metadata": {},
     "output_type": "execute_result"
    }
   ],
   "source": [
    "df.index.unique()[::2]"
   ]
  },
  {
   "cell_type": "code",
   "execution_count": 163,
   "metadata": {},
   "outputs": [
    {
     "data": {
      "text/plain": [
       "Index(['nan', 'Ungaria', 'UK', 'Turcia', 'Suedia', 'Spania', 'Romania',\n",
       "       'Qatar', 'Portugalia', 'Olanda', 'Norvegia', 'Libia', 'Italia',\n",
       "       'Irlanda', 'Grecia', 'Germania', 'Franta', 'Finlanda', 'Elvetia',\n",
       "       'Danemarca', 'Cipru', 'Cehia', 'Belgia', 'Bahamas', 'Austria', '999',\n",
       "       '18'],\n",
       "      dtype='object', name='Destinatie_tara1')"
      ]
     },
     "execution_count": 163,
     "metadata": {},
     "output_type": "execute_result"
    }
   ],
   "source": [
    "df.index.unique()[::-1]"
   ]
  },
  {
   "cell_type": "code",
   "execution_count": 164,
   "metadata": {},
   "outputs": [],
   "source": [
    "az_en_indexem=df.index.unique()"
   ]
  },
  {
   "cell_type": "markdown",
   "metadata": {},
   "source": [
    "Pythonic list composition"
   ]
  },
  {
   "cell_type": "markdown",
   "metadata": {},
   "source": [
    "`for` és `if` parancsok"
   ]
  },
  {
   "cell_type": "code",
   "execution_count": 166,
   "metadata": {},
   "outputs": [
    {
     "name": "stdout",
     "output_type": "stream",
     "text": [
      "18\n",
      "999\n",
      "Austria\n",
      "Bahamas\n"
     ]
    }
   ],
   "source": [
    "for elem in az_en_indexem[:4]:\n",
    "    print(elem)"
   ]
  },
  {
   "cell_type": "code",
   "execution_count": 167,
   "metadata": {},
   "outputs": [
    {
     "name": "stdout",
     "output_type": "stream",
     "text": [
      "0 18\n",
      "1 999\n",
      "2 Austria\n",
      "3 Bahamas\n"
     ]
    }
   ],
   "source": [
    "for i,elem in enumerate(az_en_indexem[:4]):\n",
    "    print(i,elem)"
   ]
  },
  {
   "cell_type": "code",
   "execution_count": 169,
   "metadata": {},
   "outputs": [
    {
     "name": "stdout",
     "output_type": "stream",
     "text": [
      "0 18\n",
      "1 999\n",
      "2 Austria\n",
      "3 Bahamas\n",
      "4 Belgia\n"
     ]
    }
   ],
   "source": [
    "for i in range(5):\n",
    "    print(i,az_en_indexem[i])"
   ]
  },
  {
   "cell_type": "markdown",
   "metadata": {},
   "source": [
    "`range(honnan,hova,mekkora lepes=1)`"
   ]
  },
  {
   "cell_type": "code",
   "execution_count": 170,
   "metadata": {},
   "outputs": [
    {
     "name": "stdout",
     "output_type": "stream",
     "text": [
      "3 Bahamas\n",
      "4 Belgia\n",
      "5 Cehia\n",
      "6 Cipru\n",
      "7 Danemarca\n"
     ]
    }
   ],
   "source": [
    "for i in range(3,8):\n",
    "    print(i,az_en_indexem[i])"
   ]
  },
  {
   "cell_type": "markdown",
   "metadata": {},
   "source": [
    "Elegánsabb szűrés"
   ]
  },
  {
   "cell_type": "code",
   "execution_count": 173,
   "metadata": {},
   "outputs": [
    {
     "name": "stdout",
     "output_type": "stream",
     "text": [
      "18\n",
      "999\n"
     ]
    }
   ],
   "source": [
    "for elem in az_en_indexem:\n",
    "    if ( (elem=='18') or (elem=='999') ):\n",
    "        print(elem)"
   ]
  },
  {
   "cell_type": "code",
   "execution_count": 174,
   "metadata": {},
   "outputs": [
    {
     "name": "stdout",
     "output_type": "stream",
     "text": [
      "18\n",
      "999\n"
     ]
    }
   ],
   "source": [
    "tiltolista=['18','999']\n",
    "for elem in az_en_indexem:\n",
    "    if elem in tiltolista:\n",
    "        print(elem)\n",
    "    "
   ]
  },
  {
   "cell_type": "code",
   "execution_count": 176,
   "metadata": {},
   "outputs": [
    {
     "name": "stdout",
     "output_type": "stream",
     "text": [
      "Austria\n",
      "Bahamas\n",
      "Belgia\n",
      "Cehia\n",
      "Cipru\n",
      "Danemarca\n",
      "Elvetia\n",
      "Finlanda\n",
      "Franta\n",
      "Germania\n",
      "Grecia\n",
      "Irlanda\n",
      "Italia\n",
      "Libia\n",
      "Norvegia\n",
      "Olanda\n",
      "Portugalia\n",
      "Qatar\n",
      "Romania\n",
      "Spania\n",
      "Suedia\n",
      "Turcia\n",
      "UK\n",
      "Ungaria\n",
      "nan\n"
     ]
    }
   ],
   "source": [
    "for elem in az_en_indexem:\n",
    "    if ( (elem!='18') and (elem!='999') ):\n",
    "        print(elem)  "
   ]
  },
  {
   "cell_type": "code",
   "execution_count": 177,
   "metadata": {},
   "outputs": [
    {
     "name": "stdout",
     "output_type": "stream",
     "text": [
      "Austria\n",
      "Bahamas\n",
      "Belgia\n",
      "Cehia\n",
      "Cipru\n",
      "Danemarca\n",
      "Elvetia\n",
      "Finlanda\n",
      "Franta\n",
      "Germania\n",
      "Grecia\n",
      "Irlanda\n",
      "Italia\n",
      "Libia\n",
      "Norvegia\n",
      "Olanda\n",
      "Portugalia\n",
      "Qatar\n",
      "Romania\n",
      "Spania\n",
      "Suedia\n",
      "Turcia\n",
      "UK\n",
      "Ungaria\n",
      "nan\n"
     ]
    }
   ],
   "source": [
    "for elem in az_en_indexem:\n",
    "    if elem not in tiltolista:\n",
    "        print(elem)"
   ]
  },
  {
   "cell_type": "code",
   "execution_count": 180,
   "metadata": {},
   "outputs": [],
   "source": [
    "uj_index=[]\n",
    "for elem in az_en_indexem:\n",
    "    if elem not in ['18','999']:\n",
    "        uj_index.append(elem)"
   ]
  },
  {
   "cell_type": "code",
   "execution_count": 181,
   "metadata": {},
   "outputs": [
    {
     "data": {
      "text/plain": [
       "['Austria',\n",
       " 'Bahamas',\n",
       " 'Belgia',\n",
       " 'Cehia',\n",
       " 'Cipru',\n",
       " 'Danemarca',\n",
       " 'Elvetia',\n",
       " 'Finlanda',\n",
       " 'Franta',\n",
       " 'Germania',\n",
       " 'Grecia',\n",
       " 'Irlanda',\n",
       " 'Italia',\n",
       " 'Libia',\n",
       " 'Norvegia',\n",
       " 'Olanda',\n",
       " 'Portugalia',\n",
       " 'Qatar',\n",
       " 'Romania',\n",
       " 'Spania',\n",
       " 'Suedia',\n",
       " 'Turcia',\n",
       " 'UK',\n",
       " 'Ungaria',\n",
       " 'nan']"
      ]
     },
     "execution_count": 181,
     "metadata": {},
     "output_type": "execute_result"
    }
   ],
   "source": [
    "uj_index"
   ]
  },
  {
   "cell_type": "code",
   "execution_count": 184,
   "metadata": {},
   "outputs": [
    {
     "data": {
      "text/plain": [
       "[0, 1, 2, 3, 4]"
      ]
     },
     "execution_count": 184,
     "metadata": {},
     "output_type": "execute_result"
    }
   ],
   "source": [
    "[i for i in range(5)]"
   ]
  },
  {
   "cell_type": "code",
   "execution_count": 192,
   "metadata": {},
   "outputs": [],
   "source": [
    "tiltolista=['18','999','nan']\n",
    "uj_index2=[elem for elem in az_en_indexem if elem not in tiltolista]"
   ]
  },
  {
   "cell_type": "code",
   "execution_count": 194,
   "metadata": {},
   "outputs": [
    {
     "data": {
      "text/plain": [
       "['Austria',\n",
       " 'Bahamas',\n",
       " 'Belgia',\n",
       " 'Cehia',\n",
       " 'Cipru',\n",
       " 'Danemarca',\n",
       " 'Elvetia',\n",
       " 'Finlanda',\n",
       " 'Franta',\n",
       " 'Germania',\n",
       " 'Grecia',\n",
       " 'Irlanda',\n",
       " 'Italia',\n",
       " 'Libia',\n",
       " 'Norvegia',\n",
       " 'Olanda',\n",
       " 'Portugalia',\n",
       " 'Qatar',\n",
       " 'Romania',\n",
       " 'Spania',\n",
       " 'Suedia',\n",
       " 'Turcia',\n",
       " 'UK',\n",
       " 'Ungaria']"
      ]
     },
     "execution_count": 194,
     "metadata": {},
     "output_type": "execute_result"
    }
   ],
   "source": [
    "uj_index2"
   ]
  },
  {
   "cell_type": "code",
   "execution_count": 196,
   "metadata": {},
   "outputs": [
    {
     "data": {
      "text/html": [
       "<div>\n",
       "<style scoped>\n",
       "    .dataframe tbody tr th:only-of-type {\n",
       "        vertical-align: middle;\n",
       "    }\n",
       "\n",
       "    .dataframe tbody tr th {\n",
       "        vertical-align: top;\n",
       "    }\n",
       "\n",
       "    .dataframe thead th {\n",
       "        text-align: right;\n",
       "    }\n",
       "</style>\n",
       "<table border=\"1\" class=\"dataframe\">\n",
       "  <thead>\n",
       "    <tr style=\"text-align: right;\">\n",
       "      <th></th>\n",
       "      <th>gen</th>\n",
       "      <th>varsta</th>\n",
       "      <th>Cetatenie</th>\n",
       "      <th>mediu_prov</th>\n",
       "      <th>judet_domiciliu</th>\n",
       "      <th>Nivel educatie</th>\n",
       "      <th>Relatia cu recrutorul</th>\n",
       "      <th>Forma de exploatare</th>\n",
       "    </tr>\n",
       "    <tr>\n",
       "      <th>Destinatie_tara1</th>\n",
       "      <th></th>\n",
       "      <th></th>\n",
       "      <th></th>\n",
       "      <th></th>\n",
       "      <th></th>\n",
       "      <th></th>\n",
       "      <th></th>\n",
       "      <th></th>\n",
       "    </tr>\n",
       "  </thead>\n",
       "  <tbody>\n",
       "    <tr>\n",
       "      <th>Austria</th>\n",
       "      <td>feminin</td>\n",
       "      <td>19</td>\n",
       "      <td>Romana</td>\n",
       "      <td>urban</td>\n",
       "      <td>Vrancea</td>\n",
       "      <td>studii liceale</td>\n",
       "      <td>partener(a)/sot(ie)</td>\n",
       "      <td>exploatare sexuala</td>\n",
       "    </tr>\n",
       "    <tr>\n",
       "      <th>Austria</th>\n",
       "      <td>feminin</td>\n",
       "      <td>15</td>\n",
       "      <td>Romana</td>\n",
       "      <td>urban</td>\n",
       "      <td>Hunedoara</td>\n",
       "      <td>studii primare</td>\n",
       "      <td>necunoscut</td>\n",
       "      <td>obligarea la furturi</td>\n",
       "    </tr>\n",
       "    <tr>\n",
       "      <th>Austria</th>\n",
       "      <td>feminin</td>\n",
       "      <td>19</td>\n",
       "      <td>Romana</td>\n",
       "      <td>rural</td>\n",
       "      <td>Bihor</td>\n",
       "      <td>studii liceale</td>\n",
       "      <td>cunostinta/prieten(a)</td>\n",
       "      <td>exploatare sexuala</td>\n",
       "    </tr>\n",
       "    <tr>\n",
       "      <th>Austria</th>\n",
       "      <td>feminin</td>\n",
       "      <td>19</td>\n",
       "      <td>Romana</td>\n",
       "      <td>rural</td>\n",
       "      <td>Bihor</td>\n",
       "      <td>studii liceale</td>\n",
       "      <td>cunostinta/prieten(a)</td>\n",
       "      <td>exploatare sexuala</td>\n",
       "    </tr>\n",
       "    <tr>\n",
       "      <th>Austria</th>\n",
       "      <td>feminin</td>\n",
       "      <td>17</td>\n",
       "      <td>Romana</td>\n",
       "      <td>rural</td>\n",
       "      <td>Bihor</td>\n",
       "      <td>studii gimnaziale</td>\n",
       "      <td>cunostinta/prieten(a)</td>\n",
       "      <td>exploatare sexuala</td>\n",
       "    </tr>\n",
       "    <tr>\n",
       "      <th>...</th>\n",
       "      <td>...</td>\n",
       "      <td>...</td>\n",
       "      <td>...</td>\n",
       "      <td>...</td>\n",
       "      <td>...</td>\n",
       "      <td>...</td>\n",
       "      <td>...</td>\n",
       "      <td>...</td>\n",
       "    </tr>\n",
       "    <tr>\n",
       "      <th>UK</th>\n",
       "      <td>masculin</td>\n",
       "      <td>32</td>\n",
       "      <td>Romana</td>\n",
       "      <td>urban</td>\n",
       "      <td>Cluj</td>\n",
       "      <td>fara studii</td>\n",
       "      <td>cunostinta/prieten(a)</td>\n",
       "      <td>obligarea la furturi</td>\n",
       "    </tr>\n",
       "    <tr>\n",
       "      <th>UK</th>\n",
       "      <td>feminin</td>\n",
       "      <td>25</td>\n",
       "      <td>Romana</td>\n",
       "      <td>urban</td>\n",
       "      <td>NaN</td>\n",
       "      <td>studii liceale</td>\n",
       "      <td>vecin</td>\n",
       "      <td>alte situatii de exploatare</td>\n",
       "    </tr>\n",
       "    <tr>\n",
       "      <th>UK</th>\n",
       "      <td>masculin</td>\n",
       "      <td>39</td>\n",
       "      <td>Romana</td>\n",
       "      <td>rural</td>\n",
       "      <td>Cluj</td>\n",
       "      <td>fara studii</td>\n",
       "      <td>cunostinta/prieten(a)</td>\n",
       "      <td>obligarea la furturi</td>\n",
       "    </tr>\n",
       "    <tr>\n",
       "      <th>Ungaria</th>\n",
       "      <td>feminin</td>\n",
       "      <td>38</td>\n",
       "      <td>Romana</td>\n",
       "      <td>rural</td>\n",
       "      <td>Sibiu</td>\n",
       "      <td>fara studii</td>\n",
       "      <td>partener(a)/sot(ie)</td>\n",
       "      <td>obligarea la cersetorie</td>\n",
       "    </tr>\n",
       "    <tr>\n",
       "      <th>Ungaria</th>\n",
       "      <td>masculin</td>\n",
       "      <td>21</td>\n",
       "      <td>Romana</td>\n",
       "      <td>rural</td>\n",
       "      <td>Mures</td>\n",
       "      <td>studii primare</td>\n",
       "      <td>necunoscut</td>\n",
       "      <td>exploatare prin munca</td>\n",
       "    </tr>\n",
       "  </tbody>\n",
       "</table>\n",
       "<p>877 rows × 8 columns</p>\n",
       "</div>"
      ],
      "text/plain": [
       "                       gen  varsta Cetatenie mediu_prov judet_domiciliu  \\\n",
       "Destinatie_tara1                                                          \n",
       "Austria            feminin      19    Romana      urban         Vrancea   \n",
       "Austria            feminin      15    Romana      urban       Hunedoara   \n",
       "Austria            feminin      19    Romana      rural           Bihor   \n",
       "Austria            feminin      19    Romana      rural           Bihor   \n",
       "Austria            feminin      17    Romana      rural           Bihor   \n",
       "...                    ...     ...       ...        ...             ...   \n",
       "UK                masculin      32    Romana      urban            Cluj   \n",
       "UK                 feminin      25    Romana      urban             NaN   \n",
       "UK                masculin      39    Romana      rural            Cluj   \n",
       "Ungaria            feminin      38    Romana      rural           Sibiu   \n",
       "Ungaria           masculin      21    Romana      rural           Mures   \n",
       "\n",
       "                     Nivel educatie  Relatia cu recrutorul  \\\n",
       "Destinatie_tara1                                             \n",
       "Austria              studii liceale    partener(a)/sot(ie)   \n",
       "Austria              studii primare             necunoscut   \n",
       "Austria              studii liceale  cunostinta/prieten(a)   \n",
       "Austria              studii liceale  cunostinta/prieten(a)   \n",
       "Austria           studii gimnaziale  cunostinta/prieten(a)   \n",
       "...                             ...                    ...   \n",
       "UK                      fara studii  cunostinta/prieten(a)   \n",
       "UK                   studii liceale                  vecin   \n",
       "UK                      fara studii  cunostinta/prieten(a)   \n",
       "Ungaria                 fara studii    partener(a)/sot(ie)   \n",
       "Ungaria              studii primare             necunoscut   \n",
       "\n",
       "                          Forma de exploatare  \n",
       "Destinatie_tara1                               \n",
       "Austria                    exploatare sexuala  \n",
       "Austria                  obligarea la furturi  \n",
       "Austria                    exploatare sexuala  \n",
       "Austria                    exploatare sexuala  \n",
       "Austria                    exploatare sexuala  \n",
       "...                                       ...  \n",
       "UK                       obligarea la furturi  \n",
       "UK                alte situatii de exploatare  \n",
       "UK                       obligarea la furturi  \n",
       "Ungaria               obligarea la cersetorie  \n",
       "Ungaria                 exploatare prin munca  \n",
       "\n",
       "[877 rows x 8 columns]"
      ]
     },
     "execution_count": 196,
     "metadata": {},
     "output_type": "execute_result"
    }
   ],
   "source": [
    "df.loc[uj_index2]"
   ]
  },
  {
   "cell_type": "code",
   "execution_count": 197,
   "metadata": {},
   "outputs": [],
   "source": [
    "df5=df.loc[uj_index2]"
   ]
  },
  {
   "cell_type": "code",
   "execution_count": 198,
   "metadata": {},
   "outputs": [],
   "source": [
    "df5=df5.reset_index()"
   ]
  },
  {
   "cell_type": "code",
   "execution_count": 202,
   "metadata": {},
   "outputs": [],
   "source": [
    "df5.sort_values(by='Destinatie_tara1',inplace=True)"
   ]
  },
  {
   "cell_type": "code",
   "execution_count": 203,
   "metadata": {},
   "outputs": [
    {
     "data": {
      "text/html": [
       "<div>\n",
       "<style scoped>\n",
       "    .dataframe tbody tr th:only-of-type {\n",
       "        vertical-align: middle;\n",
       "    }\n",
       "\n",
       "    .dataframe tbody tr th {\n",
       "        vertical-align: top;\n",
       "    }\n",
       "\n",
       "    .dataframe thead th {\n",
       "        text-align: right;\n",
       "    }\n",
       "</style>\n",
       "<table border=\"1\" class=\"dataframe\">\n",
       "  <thead>\n",
       "    <tr style=\"text-align: right;\">\n",
       "      <th></th>\n",
       "      <th>Destinatie_tara1</th>\n",
       "      <th>gen</th>\n",
       "      <th>varsta</th>\n",
       "      <th>Cetatenie</th>\n",
       "      <th>mediu_prov</th>\n",
       "      <th>judet_domiciliu</th>\n",
       "      <th>Nivel educatie</th>\n",
       "      <th>Relatia cu recrutorul</th>\n",
       "      <th>Forma de exploatare</th>\n",
       "    </tr>\n",
       "  </thead>\n",
       "  <tbody>\n",
       "    <tr>\n",
       "      <th>0</th>\n",
       "      <td>Austria</td>\n",
       "      <td>feminin</td>\n",
       "      <td>19</td>\n",
       "      <td>Romana</td>\n",
       "      <td>urban</td>\n",
       "      <td>Vrancea</td>\n",
       "      <td>studii liceale</td>\n",
       "      <td>partener(a)/sot(ie)</td>\n",
       "      <td>exploatare sexuala</td>\n",
       "    </tr>\n",
       "    <tr>\n",
       "      <th>22</th>\n",
       "      <td>Austria</td>\n",
       "      <td>feminin</td>\n",
       "      <td>14</td>\n",
       "      <td>Romana</td>\n",
       "      <td>rural</td>\n",
       "      <td>Arges</td>\n",
       "      <td>NaN</td>\n",
       "      <td>partener(a)/sot(ie)</td>\n",
       "      <td>obligarea la cersetorie</td>\n",
       "    </tr>\n",
       "    <tr>\n",
       "      <th>21</th>\n",
       "      <td>Austria</td>\n",
       "      <td>feminin</td>\n",
       "      <td>22</td>\n",
       "      <td>Romana</td>\n",
       "      <td>urban</td>\n",
       "      <td>Braila</td>\n",
       "      <td>studii liceale</td>\n",
       "      <td>cunostinta/prieten(a)</td>\n",
       "      <td>exploatare sexuala</td>\n",
       "    </tr>\n",
       "    <tr>\n",
       "      <th>20</th>\n",
       "      <td>Austria</td>\n",
       "      <td>feminin</td>\n",
       "      <td>22</td>\n",
       "      <td>Romana</td>\n",
       "      <td>rural</td>\n",
       "      <td>Vrancea</td>\n",
       "      <td>studii liceale</td>\n",
       "      <td>necunoscut</td>\n",
       "      <td>exploatare sexuala</td>\n",
       "    </tr>\n",
       "    <tr>\n",
       "      <th>19</th>\n",
       "      <td>Austria</td>\n",
       "      <td>feminin</td>\n",
       "      <td>17</td>\n",
       "      <td>Romana</td>\n",
       "      <td>rural</td>\n",
       "      <td>Suceava</td>\n",
       "      <td>studii liceale</td>\n",
       "      <td>necunoscut</td>\n",
       "      <td>exploatare sexuala</td>\n",
       "    </tr>\n",
       "  </tbody>\n",
       "</table>\n",
       "</div>"
      ],
      "text/plain": [
       "   Destinatie_tara1      gen  varsta Cetatenie mediu_prov judet_domiciliu  \\\n",
       "0           Austria  feminin      19    Romana      urban         Vrancea   \n",
       "22          Austria  feminin      14    Romana      rural           Arges   \n",
       "21          Austria  feminin      22    Romana      urban          Braila   \n",
       "20          Austria  feminin      22    Romana      rural         Vrancea   \n",
       "19          Austria  feminin      17    Romana      rural         Suceava   \n",
       "\n",
       "    Nivel educatie  Relatia cu recrutorul      Forma de exploatare  \n",
       "0   studii liceale    partener(a)/sot(ie)       exploatare sexuala  \n",
       "22             NaN    partener(a)/sot(ie)  obligarea la cersetorie  \n",
       "21  studii liceale  cunostinta/prieten(a)       exploatare sexuala  \n",
       "20  studii liceale             necunoscut       exploatare sexuala  \n",
       "19  studii liceale             necunoscut       exploatare sexuala  "
      ]
     },
     "execution_count": 203,
     "metadata": {},
     "output_type": "execute_result"
    }
   ],
   "source": [
    "df5.head()"
   ]
  },
  {
   "cell_type": "code",
   "execution_count": 44,
   "metadata": {},
   "outputs": [
    {
     "data": {
      "text/html": [
       "<div>\n",
       "<style scoped>\n",
       "    .dataframe tbody tr th:only-of-type {\n",
       "        vertical-align: middle;\n",
       "    }\n",
       "\n",
       "    .dataframe tbody tr th {\n",
       "        vertical-align: top;\n",
       "    }\n",
       "\n",
       "    .dataframe thead th {\n",
       "        text-align: right;\n",
       "    }\n",
       "</style>\n",
       "<table border=\"1\" class=\"dataframe\">\n",
       "  <thead>\n",
       "    <tr style=\"text-align: right;\">\n",
       "      <th></th>\n",
       "      <th>Destinatie_tara1</th>\n",
       "    </tr>\n",
       "  </thead>\n",
       "  <tbody>\n",
       "    <tr>\n",
       "      <th>0</th>\n",
       "      <td>Austria</td>\n",
       "    </tr>\n",
       "    <tr>\n",
       "      <th>1</th>\n",
       "      <td>Bahamas</td>\n",
       "    </tr>\n",
       "    <tr>\n",
       "      <th>2</th>\n",
       "      <td>Belgium</td>\n",
       "    </tr>\n",
       "    <tr>\n",
       "      <th>3</th>\n",
       "      <td>Cseh</td>\n",
       "    </tr>\n",
       "    <tr>\n",
       "      <th>4</th>\n",
       "      <td>Cipru</td>\n",
       "    </tr>\n",
       "    <tr>\n",
       "      <th>5</th>\n",
       "      <td>Danemarca</td>\n",
       "    </tr>\n",
       "    <tr>\n",
       "      <th>6</th>\n",
       "      <td>Elvetia</td>\n",
       "    </tr>\n",
       "    <tr>\n",
       "      <th>7</th>\n",
       "      <td>Finlanda</td>\n",
       "    </tr>\n",
       "    <tr>\n",
       "      <th>8</th>\n",
       "      <td>Franta</td>\n",
       "    </tr>\n",
       "    <tr>\n",
       "      <th>9</th>\n",
       "      <td>Germania</td>\n",
       "    </tr>\n",
       "    <tr>\n",
       "      <th>10</th>\n",
       "      <td>Grecia</td>\n",
       "    </tr>\n",
       "    <tr>\n",
       "      <th>11</th>\n",
       "      <td>Irlanda</td>\n",
       "    </tr>\n",
       "    <tr>\n",
       "      <th>12</th>\n",
       "      <td>Italia</td>\n",
       "    </tr>\n",
       "    <tr>\n",
       "      <th>13</th>\n",
       "      <td>Libia</td>\n",
       "    </tr>\n",
       "    <tr>\n",
       "      <th>14</th>\n",
       "      <td>Norvegia</td>\n",
       "    </tr>\n",
       "    <tr>\n",
       "      <th>15</th>\n",
       "      <td>Olanda</td>\n",
       "    </tr>\n",
       "    <tr>\n",
       "      <th>16</th>\n",
       "      <td>Portugalia</td>\n",
       "    </tr>\n",
       "    <tr>\n",
       "      <th>17</th>\n",
       "      <td>Qatar</td>\n",
       "    </tr>\n",
       "    <tr>\n",
       "      <th>18</th>\n",
       "      <td>Romania</td>\n",
       "    </tr>\n",
       "    <tr>\n",
       "      <th>19</th>\n",
       "      <td>Spania</td>\n",
       "    </tr>\n",
       "    <tr>\n",
       "      <th>20</th>\n",
       "      <td>Suedia</td>\n",
       "    </tr>\n",
       "    <tr>\n",
       "      <th>21</th>\n",
       "      <td>Turcia</td>\n",
       "    </tr>\n",
       "    <tr>\n",
       "      <th>22</th>\n",
       "      <td>UK</td>\n",
       "    </tr>\n",
       "    <tr>\n",
       "      <th>23</th>\n",
       "      <td>Ungaria</td>\n",
       "    </tr>\n",
       "  </tbody>\n",
       "</table>\n",
       "</div>"
      ],
      "text/plain": [
       "   Destinatie_tara1\n",
       "0           Austria\n",
       "1           Bahamas\n",
       "2           Belgium\n",
       "3              Cseh\n",
       "4             Cipru\n",
       "5         Danemarca\n",
       "6           Elvetia\n",
       "7          Finlanda\n",
       "8            Franta\n",
       "9          Germania\n",
       "10           Grecia\n",
       "11          Irlanda\n",
       "12           Italia\n",
       "13            Libia\n",
       "14         Norvegia\n",
       "15           Olanda\n",
       "16       Portugalia\n",
       "17            Qatar\n",
       "18          Romania\n",
       "19           Spania\n",
       "20           Suedia\n",
       "21           Turcia\n",
       "22               UK\n",
       "23          Ungaria"
      ]
     },
     "execution_count": 44,
     "metadata": {},
     "output_type": "execute_result"
    }
   ],
   "source": [
    "df5[['Destinatie_tara1']].replace('Belgia','Belgium').replace('Cehia','Cseh')\n",
    "#df5[['Destinatie_tara1']].replace({'Belgia':'Belgium','Cehia':'Cseh'})"
   ]
  },
  {
   "cell_type": "markdown",
   "metadata": {},
   "source": [
    "Python `dictionary`, azaz szotar: `{key1:value2, key2: value2, ...}`"
   ]
  },
  {
   "cell_type": "code",
   "execution_count": 204,
   "metadata": {},
   "outputs": [],
   "source": [
    "nev_cserelo={'Belgia':'Belgium','Cehia':'Cseh'}\n",
    "df5[['Destinatie_tara2']]=df5[['Destinatie_tara1']].replace(nev_cserelo)"
   ]
  },
  {
   "cell_type": "code",
   "execution_count": 205,
   "metadata": {},
   "outputs": [],
   "source": [
    "df5.set_index('Destinatie_tara2')[['varsta']].to_excel('df5.xlsx')"
   ]
  },
  {
   "cell_type": "code",
   "execution_count": 208,
   "metadata": {},
   "outputs": [],
   "source": [
    "df5=df5.set_index('Destinatie_tara2')[['varsta']]\n",
    "df5.to_excel('df5.xlsx')"
   ]
  },
  {
   "cell_type": "markdown",
   "metadata": {},
   "source": [
    "Geometria hozzatarsitas. Ezeket `shapefile`-típusú fájlokban találjuk. Ezeke ArcGIS. A `shapefile` fájlok nagyok, Csak az ArcGIS nyithatóak - ezért van egy nyílt standard, ez a `geojson`. (De a `geojson` elég régi és van egy újabb stnadardja a `topojson`)."
   ]
  },
  {
   "cell_type": "markdown",
   "metadata": {},
   "source": [
    "Konvertálni egyszerű közöttük:\n",
    "- https://mygeodata.cloud/converter/geojson-to-topojson\n",
    "- https://www.igismap.com/convert-geojson-to-topojson-gis/\n",
    "- https://jeffpaine.github.io/geojson-topojson/\n",
    "- https://www.safe.com/convert/geojson/topojson/"
   ]
  },
  {
   "cell_type": "markdown",
   "metadata": {},
   "source": [
    "Szükségunk van országok szintű `geojson`-ra.\n",
    "https://github.com/johan/world.geo.json/blob/master/countries.geo.json  "
   ]
  },
  {
   "cell_type": "markdown",
   "metadata": {},
   "source": [
    "Románia megyék:\n",
    "https://github.com/deldersveld/topojson/blob/master/countries/romania/romania-counties.json"
   ]
  },
  {
   "cell_type": "markdown",
   "metadata": {},
   "source": [
    "Európa megyeszintű felosztás: https://data.europa.eu/euodp/en/data/dataset/HZKBS2y8ycdZijX0PMHPA"
   ]
  },
  {
   "cell_type": "markdown",
   "metadata": {},
   "source": [
    "JSON file beolvasása"
   ]
  },
  {
   "cell_type": "code",
   "execution_count": 212,
   "metadata": {},
   "outputs": [
    {
     "data": {
      "text/html": [
       "<div>\n",
       "<style scoped>\n",
       "    .dataframe tbody tr th:only-of-type {\n",
       "        vertical-align: middle;\n",
       "    }\n",
       "\n",
       "    .dataframe tbody tr th {\n",
       "        vertical-align: top;\n",
       "    }\n",
       "\n",
       "    .dataframe thead th {\n",
       "        text-align: right;\n",
       "    }\n",
       "</style>\n",
       "<table border=\"1\" class=\"dataframe\">\n",
       "  <thead>\n",
       "    <tr style=\"text-align: right;\">\n",
       "      <th></th>\n",
       "      <th>type</th>\n",
       "      <th>features</th>\n",
       "    </tr>\n",
       "  </thead>\n",
       "  <tbody>\n",
       "    <tr>\n",
       "      <th>0</th>\n",
       "      <td>FeatureCollection</td>\n",
       "      <td>{'type': 'Feature', 'id': 'AFG', 'properties':...</td>\n",
       "    </tr>\n",
       "    <tr>\n",
       "      <th>1</th>\n",
       "      <td>FeatureCollection</td>\n",
       "      <td>{'type': 'Feature', 'id': 'AGO', 'properties':...</td>\n",
       "    </tr>\n",
       "    <tr>\n",
       "      <th>2</th>\n",
       "      <td>FeatureCollection</td>\n",
       "      <td>{'type': 'Feature', 'id': 'ALB', 'properties':...</td>\n",
       "    </tr>\n",
       "    <tr>\n",
       "      <th>3</th>\n",
       "      <td>FeatureCollection</td>\n",
       "      <td>{'type': 'Feature', 'id': 'ARE', 'properties':...</td>\n",
       "    </tr>\n",
       "    <tr>\n",
       "      <th>4</th>\n",
       "      <td>FeatureCollection</td>\n",
       "      <td>{'type': 'Feature', 'id': 'ARG', 'properties':...</td>\n",
       "    </tr>\n",
       "  </tbody>\n",
       "</table>\n",
       "</div>"
      ],
      "text/plain": [
       "                type                                           features\n",
       "0  FeatureCollection  {'type': 'Feature', 'id': 'AFG', 'properties':...\n",
       "1  FeatureCollection  {'type': 'Feature', 'id': 'AGO', 'properties':...\n",
       "2  FeatureCollection  {'type': 'Feature', 'id': 'ALB', 'properties':...\n",
       "3  FeatureCollection  {'type': 'Feature', 'id': 'ARE', 'properties':...\n",
       "4  FeatureCollection  {'type': 'Feature', 'id': 'ARG', 'properties':..."
      ]
     },
     "execution_count": 212,
     "metadata": {},
     "output_type": "execute_result"
    }
   ],
   "source": [
    "pd.read_json('countries.geo.json').head()"
   ]
  },
  {
   "cell_type": "code",
   "execution_count": 214,
   "metadata": {},
   "outputs": [],
   "source": [
    "import json"
   ]
  },
  {
   "cell_type": "code",
   "execution_count": 216,
   "metadata": {},
   "outputs": [],
   "source": [
    "#ha online nyitjuk meg akkor a `requests`-et kell hasznalni\n",
    "file=open('countries.geo.json','r').read()\n",
    "countries=json.loads(file)"
   ]
  },
  {
   "cell_type": "code",
   "execution_count": 219,
   "metadata": {},
   "outputs": [],
   "source": [
    "countries=countries['features']"
   ]
  },
  {
   "cell_type": "code",
   "execution_count": 229,
   "metadata": {},
   "outputs": [],
   "source": [
    "orszagok_angol=[country['properties']['name'] for country in countries]"
   ]
  },
  {
   "cell_type": "code",
   "execution_count": 230,
   "metadata": {},
   "outputs": [
    {
     "data": {
      "text/plain": [
       "['Afghanistan', 'Angola', 'Albania', 'United Arab Emirates', 'Argentina']"
      ]
     },
     "execution_count": 230,
     "metadata": {},
     "output_type": "execute_result"
    }
   ],
   "source": [
    "orszagok_angol[:5]"
   ]
  },
  {
   "cell_type": "code",
   "execution_count": 233,
   "metadata": {},
   "outputs": [],
   "source": [
    "orszagok_roman=list(df5.index.unique())\n",
    "orszagok_roman=list(df5['Destinatie_tara1'].unique())"
   ]
  },
  {
   "cell_type": "code",
   "execution_count": 235,
   "metadata": {},
   "outputs": [
    {
     "data": {
      "text/plain": [
       "['Austria', 'Bahamas', 'Belgium', 'Cseh', 'Cipru']"
      ]
     },
     "execution_count": 235,
     "metadata": {},
     "output_type": "execute_result"
    }
   ],
   "source": [
    "orszagok_roman[:5]"
   ]
  },
  {
   "cell_type": "markdown",
   "metadata": {},
   "source": [
    "Levenshtein függvény definiálása kólön python `.py` fileban."
   ]
  },
  {
   "cell_type": "code",
   "execution_count": 241,
   "metadata": {},
   "outputs": [],
   "source": [
    "import lev\n",
    "#mappaban, akkor:\n",
    "#from mappa_neve import comag"
   ]
  },
  {
   "cell_type": "markdown",
   "metadata": {},
   "source": [
    "Összes távolság"
   ]
  },
  {
   "cell_type": "code",
   "execution_count": 242,
   "metadata": {},
   "outputs": [],
   "source": [
    "orszag_matrix={}\n",
    "for orszag1 in orszagok_roman:\n",
    "    if orszag1 not in orszag_matrix:\n",
    "        orszag_matrix[orszag1]={}\n",
    "    for orszag2 in orszagok_angol:\n",
    "        orszag_matrix[orszag1][orszag2]=lev.levenshteinDistance(orszag1,orszag2)\n",
    "        #print(orszag1,orszag2)"
   ]
  },
  {
   "cell_type": "code",
   "execution_count": 245,
   "metadata": {},
   "outputs": [
    {
     "data": {
      "text/plain": [
       "2"
      ]
     },
     "execution_count": 245,
     "metadata": {},
     "output_type": "execute_result"
    }
   ],
   "source": [
    "orszag_matrix['Franta']['France']"
   ]
  },
  {
   "cell_type": "markdown",
   "metadata": {},
   "source": [
    "Minimum távolságok"
   ]
  },
  {
   "cell_type": "code",
   "execution_count": 246,
   "metadata": {},
   "outputs": [],
   "source": [
    "orszag_matrix_jo={}\n",
    "for orszag1 in orszag_matrix:\n",
    "    orszag_matrix_jo[orszag1]=min(orszag_matrix[orszag1],key=orszag_matrix[orszag1].get)"
   ]
  },
  {
   "cell_type": "code",
   "execution_count": 247,
   "metadata": {},
   "outputs": [
    {
     "data": {
      "text/plain": [
       "{'Austria': 'Austria',\n",
       " 'Bahamas': 'Panama',\n",
       " 'Belgium': 'Belgium',\n",
       " 'Cseh': 'Cuba',\n",
       " 'Cipru': 'Cyprus',\n",
       " 'Danemarca': 'Denmark',\n",
       " 'Elvetia': 'Algeria',\n",
       " 'Finlanda': 'Finland',\n",
       " 'Franta': 'France',\n",
       " 'Germania': 'Germany',\n",
       " 'Grecia': 'Armenia',\n",
       " 'Irlanda': 'Ireland',\n",
       " 'Italia': 'Italy',\n",
       " 'Libia': 'Libya',\n",
       " 'Norvegia': 'Armenia',\n",
       " 'Olanda': 'Rwanda',\n",
       " 'Portugalia': 'Portugal',\n",
       " 'Qatar': 'Qatar',\n",
       " 'Romania': 'Romania',\n",
       " 'Spania': 'Spain',\n",
       " 'Suedia': 'India',\n",
       " 'Turcia': 'Russia',\n",
       " 'UK': 'Cuba',\n",
       " 'Ungaria': 'Bulgaria'}"
      ]
     },
     "execution_count": 247,
     "metadata": {},
     "output_type": "execute_result"
    }
   ],
   "source": [
    "orszag_matrix_jo"
   ]
  },
  {
   "cell_type": "markdown",
   "metadata": {},
   "source": [
    "Hibák javítása manuálisan"
   ]
  },
  {
   "cell_type": "code",
   "execution_count": 251,
   "metadata": {},
   "outputs": [
    {
     "data": {
      "text/plain": [
       "['Afghanistan', 'Angola', 'Albania', 'United Arab Emirates']"
      ]
     },
     "execution_count": 251,
     "metadata": {},
     "output_type": "execute_result"
    }
   ],
   "source": [
    "orszagok_angol[:4]"
   ]
  },
  {
   "cell_type": "code",
   "execution_count": 255,
   "metadata": {},
   "outputs": [],
   "source": [
    "orszag_matrix_jo['Cseh']='Czech Republic'\n",
    "orszag_matrix_jo['Elvetia']='Switzerland'\n",
    "orszag_matrix_jo['Grecia']='Greece'\n",
    "orszag_matrix_jo['Norvegia']='Norway'\n",
    "orszag_matrix_jo['Olanda']='Netherlands'\n",
    "orszag_matrix_jo['Suedia']='Sweden'\n",
    "orszag_matrix_jo['Turcia']='Turkey'\n",
    "orszag_matrix_jo['UK']='United Kingdom'\n",
    "orszag_matrix_jo['Ungaria']='Hungary'\n",
    "orszag_matrix_jo['Bahamas']='The Bahamas'"
   ]
  },
  {
   "cell_type": "code",
   "execution_count": 256,
   "metadata": {},
   "outputs": [
    {
     "data": {
      "text/plain": [
       "{'Austria': 'Austria',\n",
       " 'Bahamas': 'The Bahamas',\n",
       " 'Belgium': 'Belgium',\n",
       " 'Cseh': 'Czech Republic',\n",
       " 'Cipru': 'Cyprus',\n",
       " 'Danemarca': 'Denmark',\n",
       " 'Elvetia': 'Switzerland',\n",
       " 'Finlanda': 'Finland',\n",
       " 'Franta': 'France',\n",
       " 'Germania': 'Germany',\n",
       " 'Grecia': 'Greece',\n",
       " 'Irlanda': 'Ireland',\n",
       " 'Italia': 'Italy',\n",
       " 'Libia': 'Libya',\n",
       " 'Norvegia': 'Norway',\n",
       " 'Olanda': 'Netherlands',\n",
       " 'Portugalia': 'Portugal',\n",
       " 'Qatar': 'Qatar',\n",
       " 'Romania': 'Romania',\n",
       " 'Spania': 'Spain',\n",
       " 'Suedia': 'Sweden',\n",
       " 'Turcia': 'Turkey',\n",
       " 'UK': 'United Kingdom',\n",
       " 'Ungaria': 'Hungary'}"
      ]
     },
     "execution_count": 256,
     "metadata": {},
     "output_type": "execute_result"
    }
   ],
   "source": [
    "orszag_matrix_jo"
   ]
  },
  {
   "cell_type": "markdown",
   "metadata": {},
   "source": [
    "Életkorok kinyerése a `df5` dataframeből "
   ]
  },
  {
   "cell_type": "code",
   "execution_count": 259,
   "metadata": {},
   "outputs": [],
   "source": [
    "df5=df5.reset_index().groupby('Destinatie_tara2').mean()"
   ]
  },
  {
   "cell_type": "code",
   "execution_count": 260,
   "metadata": {},
   "outputs": [],
   "source": [
    "df5.to_excel('df5.xlsx')"
   ]
  },
  {
   "cell_type": "code",
   "execution_count": 261,
   "metadata": {},
   "outputs": [],
   "source": [
    "df5=pd.read_excel('df5.xlsx')"
   ]
  },
  {
   "cell_type": "code",
   "execution_count": 264,
   "metadata": {},
   "outputs": [
    {
     "data": {
      "text/html": [
       "<div>\n",
       "<style scoped>\n",
       "    .dataframe tbody tr th:only-of-type {\n",
       "        vertical-align: middle;\n",
       "    }\n",
       "\n",
       "    .dataframe tbody tr th {\n",
       "        vertical-align: top;\n",
       "    }\n",
       "\n",
       "    .dataframe thead th {\n",
       "        text-align: right;\n",
       "    }\n",
       "</style>\n",
       "<table border=\"1\" class=\"dataframe\">\n",
       "  <thead>\n",
       "    <tr style=\"text-align: right;\">\n",
       "      <th></th>\n",
       "      <th>varsta</th>\n",
       "    </tr>\n",
       "    <tr>\n",
       "      <th>Destinatie_tara2</th>\n",
       "      <th></th>\n",
       "    </tr>\n",
       "  </thead>\n",
       "  <tbody>\n",
       "    <tr>\n",
       "      <th>Austria</th>\n",
       "      <td>19.565217</td>\n",
       "    </tr>\n",
       "    <tr>\n",
       "      <th>Bahamas</th>\n",
       "      <td>37.000000</td>\n",
       "    </tr>\n",
       "    <tr>\n",
       "      <th>Belgium</th>\n",
       "      <td>30.153846</td>\n",
       "    </tr>\n",
       "    <tr>\n",
       "      <th>Cipru</th>\n",
       "      <td>37.666667</td>\n",
       "    </tr>\n",
       "    <tr>\n",
       "      <th>Cseh</th>\n",
       "      <td>31.000000</td>\n",
       "    </tr>\n",
       "  </tbody>\n",
       "</table>\n",
       "</div>"
      ],
      "text/plain": [
       "                     varsta\n",
       "Destinatie_tara2           \n",
       "Austria           19.565217\n",
       "Bahamas           37.000000\n",
       "Belgium           30.153846\n",
       "Cipru             37.666667\n",
       "Cseh              31.000000"
      ]
     },
     "execution_count": 264,
     "metadata": {},
     "output_type": "execute_result"
    }
   ],
   "source": [
    "df5.set_index('Destinatie_tara2').head()"
   ]
  },
  {
   "cell_type": "code",
   "execution_count": 279,
   "metadata": {},
   "outputs": [],
   "source": [
    "orszag_matrix_jo={'Austria': 'Austria',\n",
    " 'Bahamas': 'The Bahamas',\n",
    " 'Belgium': 'Belgium',\n",
    " 'Cseh': 'Czech Republic',\n",
    " 'Cipru': 'Cyprus',\n",
    " 'Danemarca': 'Denmark',\n",
    " 'Elvetia': 'Switzerland',\n",
    " 'Finlanda': 'Finland',\n",
    " 'Franta': 'France',\n",
    " 'Germania': 'Germany',\n",
    " 'Grecia': 'Greece',\n",
    " 'Irlanda': 'Ireland',\n",
    " 'Italia': 'Italy',\n",
    " 'Libia': 'Libya',\n",
    " 'Norvegia': 'Norway',\n",
    " 'Olanda': 'Netherlands',\n",
    " 'Portugalia': 'Portugal',\n",
    " 'Qatar': 'Qatar',\n",
    " 'Romania': 'Romania',\n",
    " 'Spania': 'Spain',\n",
    " 'Suedia': 'Sweden',\n",
    " 'Turcia': 'Turkey',\n",
    " 'UK': 'United Kingdom',\n",
    " 'Ungaria': 'Hungary'}"
   ]
  },
  {
   "cell_type": "code",
   "execution_count": 280,
   "metadata": {},
   "outputs": [],
   "source": [
    "df6=pd.DataFrame(orszag_matrix_jo,index=['angol']).T"
   ]
  },
  {
   "cell_type": "code",
   "execution_count": 281,
   "metadata": {},
   "outputs": [
    {
     "data": {
      "text/html": [
       "<div>\n",
       "<style scoped>\n",
       "    .dataframe tbody tr th:only-of-type {\n",
       "        vertical-align: middle;\n",
       "    }\n",
       "\n",
       "    .dataframe tbody tr th {\n",
       "        vertical-align: top;\n",
       "    }\n",
       "\n",
       "    .dataframe thead th {\n",
       "        text-align: right;\n",
       "    }\n",
       "</style>\n",
       "<table border=\"1\" class=\"dataframe\">\n",
       "  <thead>\n",
       "    <tr style=\"text-align: right;\">\n",
       "      <th></th>\n",
       "      <th>angol</th>\n",
       "    </tr>\n",
       "  </thead>\n",
       "  <tbody>\n",
       "    <tr>\n",
       "      <th>Austria</th>\n",
       "      <td>Austria</td>\n",
       "    </tr>\n",
       "    <tr>\n",
       "      <th>Bahamas</th>\n",
       "      <td>The Bahamas</td>\n",
       "    </tr>\n",
       "    <tr>\n",
       "      <th>Belgium</th>\n",
       "      <td>Belgium</td>\n",
       "    </tr>\n",
       "  </tbody>\n",
       "</table>\n",
       "</div>"
      ],
      "text/plain": [
       "               angol\n",
       "Austria      Austria\n",
       "Bahamas  The Bahamas\n",
       "Belgium      Belgium"
      ]
     },
     "execution_count": 281,
     "metadata": {},
     "output_type": "execute_result"
    }
   ],
   "source": [
    "df6.head(3)"
   ]
  },
  {
   "cell_type": "code",
   "execution_count": 271,
   "metadata": {},
   "outputs": [],
   "source": [
    "df5.set_index('Destinatie_tara2',inplace=True)"
   ]
  },
  {
   "cell_type": "code",
   "execution_count": 305,
   "metadata": {},
   "outputs": [],
   "source": [
    "df7=df5.join(df6)"
   ]
  },
  {
   "cell_type": "code",
   "execution_count": 306,
   "metadata": {},
   "outputs": [
    {
     "data": {
      "text/html": [
       "<div>\n",
       "<style scoped>\n",
       "    .dataframe tbody tr th:only-of-type {\n",
       "        vertical-align: middle;\n",
       "    }\n",
       "\n",
       "    .dataframe tbody tr th {\n",
       "        vertical-align: top;\n",
       "    }\n",
       "\n",
       "    .dataframe thead th {\n",
       "        text-align: right;\n",
       "    }\n",
       "</style>\n",
       "<table border=\"1\" class=\"dataframe\">\n",
       "  <thead>\n",
       "    <tr style=\"text-align: right;\">\n",
       "      <th></th>\n",
       "      <th>varsta</th>\n",
       "      <th>angol</th>\n",
       "    </tr>\n",
       "    <tr>\n",
       "      <th>Destinatie_tara2</th>\n",
       "      <th></th>\n",
       "      <th></th>\n",
       "    </tr>\n",
       "  </thead>\n",
       "  <tbody>\n",
       "    <tr>\n",
       "      <th>Austria</th>\n",
       "      <td>19.565217</td>\n",
       "      <td>Austria</td>\n",
       "    </tr>\n",
       "    <tr>\n",
       "      <th>Bahamas</th>\n",
       "      <td>37.000000</td>\n",
       "      <td>The Bahamas</td>\n",
       "    </tr>\n",
       "  </tbody>\n",
       "</table>\n",
       "</div>"
      ],
      "text/plain": [
       "                     varsta        angol\n",
       "Destinatie_tara2                        \n",
       "Austria           19.565217      Austria\n",
       "Bahamas           37.000000  The Bahamas"
      ]
     },
     "execution_count": 306,
     "metadata": {},
     "output_type": "execute_result"
    }
   ],
   "source": [
    "df7.head(2)"
   ]
  },
  {
   "cell_type": "code",
   "execution_count": 307,
   "metadata": {},
   "outputs": [],
   "source": [
    "df7=df7.reset_index().set_index('angol')"
   ]
  },
  {
   "cell_type": "code",
   "execution_count": 308,
   "metadata": {},
   "outputs": [],
   "source": [
    "df7.columns=['roman','varsta']"
   ]
  },
  {
   "cell_type": "code",
   "execution_count": 309,
   "metadata": {},
   "outputs": [
    {
     "data": {
      "text/html": [
       "<div>\n",
       "<style scoped>\n",
       "    .dataframe tbody tr th:only-of-type {\n",
       "        vertical-align: middle;\n",
       "    }\n",
       "\n",
       "    .dataframe tbody tr th {\n",
       "        vertical-align: top;\n",
       "    }\n",
       "\n",
       "    .dataframe thead th {\n",
       "        text-align: right;\n",
       "    }\n",
       "</style>\n",
       "<table border=\"1\" class=\"dataframe\">\n",
       "  <thead>\n",
       "    <tr style=\"text-align: right;\">\n",
       "      <th></th>\n",
       "      <th>roman</th>\n",
       "      <th>varsta</th>\n",
       "    </tr>\n",
       "    <tr>\n",
       "      <th>angol</th>\n",
       "      <th></th>\n",
       "      <th></th>\n",
       "    </tr>\n",
       "  </thead>\n",
       "  <tbody>\n",
       "    <tr>\n",
       "      <th>Austria</th>\n",
       "      <td>Austria</td>\n",
       "      <td>19.565217</td>\n",
       "    </tr>\n",
       "    <tr>\n",
       "      <th>The Bahamas</th>\n",
       "      <td>Bahamas</td>\n",
       "      <td>37.000000</td>\n",
       "    </tr>\n",
       "  </tbody>\n",
       "</table>\n",
       "</div>"
      ],
      "text/plain": [
       "               roman     varsta\n",
       "angol                          \n",
       "Austria      Austria  19.565217\n",
       "The Bahamas  Bahamas  37.000000"
      ]
     },
     "execution_count": 309,
     "metadata": {},
     "output_type": "execute_result"
    }
   ],
   "source": [
    "df7.head(2)"
   ]
  },
  {
   "cell_type": "code",
   "execution_count": 297,
   "metadata": {},
   "outputs": [
    {
     "data": {
      "text/plain": [
       "roman     Grecia\n",
       "varsta        26\n",
       "Name: Greece, dtype: object"
      ]
     },
     "execution_count": 297,
     "metadata": {},
     "output_type": "execute_result"
    }
   ],
   "source": [
    "df7.loc['Greece']"
   ]
  },
  {
   "cell_type": "code",
   "execution_count": 310,
   "metadata": {},
   "outputs": [],
   "source": [
    "#ha online nyitjuk meg akkor a `requests`-et kell hasznalni\n",
    "file=open('countries.geo.json','r').read()\n",
    "countries=json.loads(file)"
   ]
  },
  {
   "cell_type": "code",
   "execution_count": 328,
   "metadata": {},
   "outputs": [],
   "source": [
    "#valid ures geojson\n",
    "countries_uj={\n",
    "    \"type\": \"FeatureCollection\",\n",
    "    \"features\": []\n",
    "}\n",
    "for feature in countries['features']:\n",
    "    name_en=feature['properties']['name']\n",
    "    if name_en in df7.index:\n",
    "        feature['properties']['name_ro']=df7.loc[name_en]['roman']\n",
    "        feature['properties']['eletkor']=df7.loc[name_en]['varsta']\n",
    "        countries_uj['features'].append(feature)"
   ]
  },
  {
   "cell_type": "markdown",
   "metadata": {},
   "source": [
    "Exportáljuk mint új `geojson`"
   ]
  },
  {
   "cell_type": "code",
   "execution_count": 330,
   "metadata": {},
   "outputs": [
    {
     "data": {
      "text/plain": [
       "27471"
      ]
     },
     "execution_count": 330,
     "metadata": {},
     "output_type": "execute_result"
    }
   ],
   "source": [
    "export_file=open('countries_uj.geo.json','w')\n",
    "export_file.write(json.dumps(countries_uj))"
   ]
  },
  {
   "cell_type": "code",
   "execution_count": 332,
   "metadata": {},
   "outputs": [],
   "source": [
    "#valid ures geojson\n",
    "countries_ids={}\n",
    "for feature in countries['features']:\n",
    "    name_en=feature['properties']['name']\n",
    "    countries_ids[name_en]=feature['id']"
   ]
  },
  {
   "cell_type": "code",
   "execution_count": 335,
   "metadata": {},
   "outputs": [],
   "source": [
    "df7.to_excel('df7.xlsx')"
   ]
  },
  {
   "cell_type": "code",
   "execution_count": 339,
   "metadata": {},
   "outputs": [
    {
     "data": {
      "text/html": [
       "<div>\n",
       "<style scoped>\n",
       "    .dataframe tbody tr th:only-of-type {\n",
       "        vertical-align: middle;\n",
       "    }\n",
       "\n",
       "    .dataframe tbody tr th {\n",
       "        vertical-align: top;\n",
       "    }\n",
       "\n",
       "    .dataframe thead th {\n",
       "        text-align: right;\n",
       "    }\n",
       "</style>\n",
       "<table border=\"1\" class=\"dataframe\">\n",
       "  <thead>\n",
       "    <tr style=\"text-align: right;\">\n",
       "      <th></th>\n",
       "      <th>id</th>\n",
       "    </tr>\n",
       "  </thead>\n",
       "  <tbody>\n",
       "    <tr>\n",
       "      <th>Afghanistan</th>\n",
       "      <td>AFG</td>\n",
       "    </tr>\n",
       "    <tr>\n",
       "      <th>Angola</th>\n",
       "      <td>AGO</td>\n",
       "    </tr>\n",
       "  </tbody>\n",
       "</table>\n",
       "</div>"
      ],
      "text/plain": [
       "              id\n",
       "Afghanistan  AFG\n",
       "Angola       AGO"
      ]
     },
     "execution_count": 339,
     "metadata": {},
     "output_type": "execute_result"
    }
   ],
   "source": [
    "df8=pd.DataFrame(countries_ids,index=['id']).T\n",
    "df8.head(2)"
   ]
  },
  {
   "cell_type": "code",
   "execution_count": 341,
   "metadata": {},
   "outputs": [],
   "source": [
    "df9=df7.join(df8)"
   ]
  },
  {
   "cell_type": "code",
   "execution_count": 352,
   "metadata": {},
   "outputs": [],
   "source": [
    "ertekek=list(df9.reset_index().T.to_dict().values())"
   ]
  },
  {
   "cell_type": "code",
   "execution_count": 355,
   "metadata": {},
   "outputs": [
    {
     "data": {
      "text/plain": [
       "1901"
      ]
     },
     "execution_count": 355,
     "metadata": {},
     "output_type": "execute_result"
    }
   ],
   "source": [
    "export_file=open('ertekek.json','w')\n",
    "export_file.write(json.dumps(ertekek))"
   ]
  },
  {
   "cell_type": "code",
   "execution_count": 354,
   "metadata": {},
   "outputs": [
    {
     "data": {
      "text/plain": [
       "[{'angol': 'Austria',\n",
       "  'roman': 'Austria',\n",
       "  'varsta': 19.56521739130435,\n",
       "  'id': 'AUT'},\n",
       " {'angol': 'The Bahamas', 'roman': 'Bahamas', 'varsta': 37.0, 'id': 'BHS'},\n",
       " {'angol': 'Belgium',\n",
       "  'roman': 'Belgium',\n",
       "  'varsta': 30.15384615384615,\n",
       "  'id': 'BEL'},\n",
       " {'angol': 'Cyprus',\n",
       "  'roman': 'Cipru',\n",
       "  'varsta': 37.66666666666666,\n",
       "  'id': 'CYP'},\n",
       " {'angol': 'Czech Republic', 'roman': 'Cseh', 'varsta': 31.0, 'id': 'CZE'},\n",
       " {'angol': 'Denmark',\n",
       "  'roman': 'Danemarca',\n",
       "  'varsta': 42.49019607843137,\n",
       "  'id': 'DNK'},\n",
       " {'angol': 'Switzerland', 'roman': 'Elvetia', 'varsta': 21.0, 'id': 'CHE'},\n",
       " {'angol': 'Finland', 'roman': 'Finlanda', 'varsta': 24.0, 'id': 'FIN'},\n",
       " {'angol': 'France',\n",
       "  'roman': 'Franta',\n",
       "  'varsta': 24.48148148148148,\n",
       "  'id': 'FRA'},\n",
       " {'angol': 'Germany',\n",
       "  'roman': 'Germania',\n",
       "  'varsta': 25.67272727272727,\n",
       "  'id': 'DEU'},\n",
       " {'angol': 'Greece', 'roman': 'Grecia', 'varsta': 26.0, 'id': 'GRC'},\n",
       " {'angol': 'Ireland', 'roman': 'Irlanda', 'varsta': 24.9375, 'id': 'IRL'},\n",
       " {'angol': 'Italy',\n",
       "  'roman': 'Italia',\n",
       "  'varsta': 25.52252252252252,\n",
       "  'id': 'ITA'},\n",
       " {'angol': 'Libya',\n",
       "  'roman': 'Libia',\n",
       "  'varsta': 48.66666666666666,\n",
       "  'id': 'LBY'},\n",
       " {'angol': 'Norway',\n",
       "  'roman': 'Norvegia',\n",
       "  'varsta': 27.66666666666667,\n",
       "  'id': 'NOR'},\n",
       " {'angol': 'Netherlands',\n",
       "  'roman': 'Olanda',\n",
       "  'varsta': 22.16666666666667,\n",
       "  'id': 'NLD'},\n",
       " {'angol': 'Portugal',\n",
       "  'roman': 'Portugalia',\n",
       "  'varsta': 33.88235294117647,\n",
       "  'id': 'PRT'},\n",
       " {'angol': 'Qatar', 'roman': 'Qatar', 'varsta': 35.0, 'id': 'QAT'},\n",
       " {'angol': 'Romania',\n",
       "  'roman': 'Romania',\n",
       "  'varsta': 18.17268041237113,\n",
       "  'id': 'ROU'},\n",
       " {'angol': 'Spain',\n",
       "  'roman': 'Spania',\n",
       "  'varsta': 32.2051282051282,\n",
       "  'id': 'ESP'},\n",
       " {'angol': 'Sweden', 'roman': 'Suedia', 'varsta': 22.2, 'id': 'SWE'},\n",
       " {'angol': 'Turkey',\n",
       "  'roman': 'Turcia',\n",
       "  'varsta': 34.33333333333334,\n",
       "  'id': 'TUR'},\n",
       " {'angol': 'United Kingdom',\n",
       "  'roman': 'UK',\n",
       "  'varsta': 24.66666666666667,\n",
       "  'id': 'GBR'},\n",
       " {'angol': 'Hungary', 'roman': 'Ungaria', 'varsta': 29.5, 'id': 'HUN'}]"
      ]
     },
     "execution_count": 354,
     "metadata": {},
     "output_type": "execute_result"
    }
   ],
   "source": [
    "ertekek"
   ]
  }
 ],
 "metadata": {
  "kernelspec": {
   "display_name": "Python 3",
   "language": "python",
   "name": "python3"
  },
  "language_info": {
   "codemirror_mode": {
    "name": "ipython",
    "version": 3
   },
   "file_extension": ".py",
   "mimetype": "text/x-python",
   "name": "python",
   "nbconvert_exporter": "python",
   "pygments_lexer": "ipython3",
   "version": "3.7.4"
  }
 },
 "nbformat": 4,
 "nbformat_minor": 4
}
