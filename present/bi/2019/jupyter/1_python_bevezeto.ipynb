{
 "cells": [
  {
   "cell_type": "code",
   "execution_count": 1,
   "metadata": {},
   "outputs": [],
   "source": [
    "import pandas as pd"
   ]
  },
  {
   "cell_type": "markdown",
   "metadata": {},
   "source": [
    "Ha nincs meg minden bővítőcsomag, akkor feltesszük ezeket `console`-ból vagy `!` a cella elejére."
   ]
  },
  {
   "cell_type": "code",
   "execution_count": 2,
   "metadata": {},
   "outputs": [
    {
     "name": "stdout",
     "output_type": "stream",
     "text": [
      "Requirement already satisfied: xlrd in c:\\programdata\\anaconda3\\lib\\site-packages (1.2.0)\n"
     ]
    }
   ],
   "source": [
    "!pip install xlrd"
   ]
  },
  {
   "cell_type": "markdown",
   "metadata": {},
   "source": [
    "Pandasban az táblázatatok `DataFrame`-ek."
   ]
  },
  {
   "cell_type": "code",
   "execution_count": 3,
   "metadata": {},
   "outputs": [],
   "source": [
    "df=pd.read_excel('set-date-deschise-vtp2015.xlsx')"
   ]
  },
  {
   "cell_type": "markdown",
   "metadata": {},
   "source": [
    "Vízszintes sorok nevei"
   ]
  },
  {
   "cell_type": "code",
   "execution_count": 4,
   "metadata": {},
   "outputs": [
    {
     "data": {
      "text/plain": [
       "RangeIndex(start=0, stop=880, step=1)"
      ]
     },
     "execution_count": 4,
     "metadata": {},
     "output_type": "execute_result"
    }
   ],
   "source": [
    "df.index"
   ]
  },
  {
   "cell_type": "markdown",
   "metadata": {},
   "source": [
    "Oszlopok nevei"
   ]
  },
  {
   "cell_type": "code",
   "execution_count": 5,
   "metadata": {},
   "outputs": [
    {
     "data": {
      "text/plain": [
       "Index(['gen', 'varsta', 'Destinatie_tara1', 'Cetatenie', 'mediu_prov',\n",
       "       'judet_domiciliu', 'Nivel educatie', 'Relatia cu recrutorul',\n",
       "       'Forma de exploatare'],\n",
       "      dtype='object')"
      ]
     },
     "execution_count": 5,
     "metadata": {},
     "output_type": "execute_result"
    }
   ],
   "source": [
    "df.columns"
   ]
  },
  {
   "cell_type": "markdown",
   "metadata": {},
   "source": [
    "Első néhány sor"
   ]
  },
  {
   "cell_type": "code",
   "execution_count": 6,
   "metadata": {},
   "outputs": [
    {
     "data": {
      "text/html": [
       "<div>\n",
       "<style scoped>\n",
       "    .dataframe tbody tr th:only-of-type {\n",
       "        vertical-align: middle;\n",
       "    }\n",
       "\n",
       "    .dataframe tbody tr th {\n",
       "        vertical-align: top;\n",
       "    }\n",
       "\n",
       "    .dataframe thead th {\n",
       "        text-align: right;\n",
       "    }\n",
       "</style>\n",
       "<table border=\"1\" class=\"dataframe\">\n",
       "  <thead>\n",
       "    <tr style=\"text-align: right;\">\n",
       "      <th></th>\n",
       "      <th>gen</th>\n",
       "      <th>varsta</th>\n",
       "      <th>Destinatie_tara1</th>\n",
       "      <th>Cetatenie</th>\n",
       "      <th>mediu_prov</th>\n",
       "      <th>judet_domiciliu</th>\n",
       "      <th>Nivel educatie</th>\n",
       "      <th>Relatia cu recrutorul</th>\n",
       "      <th>Forma de exploatare</th>\n",
       "    </tr>\n",
       "  </thead>\n",
       "  <tbody>\n",
       "    <tr>\n",
       "      <th>0</th>\n",
       "      <td>feminin</td>\n",
       "      <td>25</td>\n",
       "      <td>Spania</td>\n",
       "      <td>Romana</td>\n",
       "      <td>rural</td>\n",
       "      <td>Galati</td>\n",
       "      <td>studii gimnaziale</td>\n",
       "      <td>partener(a)/sot(ie)</td>\n",
       "      <td>exploatare sexuala</td>\n",
       "    </tr>\n",
       "    <tr>\n",
       "      <th>1</th>\n",
       "      <td>feminin</td>\n",
       "      <td>38</td>\n",
       "      <td>Spania</td>\n",
       "      <td>Romana</td>\n",
       "      <td>rural</td>\n",
       "      <td>Vrancea</td>\n",
       "      <td>NaN</td>\n",
       "      <td>cunostinta/prieten(a)</td>\n",
       "      <td>exploatare sexuala</td>\n",
       "    </tr>\n",
       "  </tbody>\n",
       "</table>\n",
       "</div>"
      ],
      "text/plain": [
       "       gen  varsta Destinatie_tara1 Cetatenie mediu_prov judet_domiciliu  \\\n",
       "0  feminin      25           Spania    Romana      rural          Galati   \n",
       "1  feminin      38           Spania    Romana      rural         Vrancea   \n",
       "\n",
       "      Nivel educatie  Relatia cu recrutorul Forma de exploatare  \n",
       "0  studii gimnaziale    partener(a)/sot(ie)  exploatare sexuala  \n",
       "1                NaN  cunostinta/prieten(a)  exploatare sexuala  "
      ]
     },
     "execution_count": 6,
     "metadata": {},
     "output_type": "execute_result"
    }
   ],
   "source": [
    "df.head(2)"
   ]
  },
  {
   "cell_type": "markdown",
   "metadata": {},
   "source": [
    "Utolsó néhány sor"
   ]
  },
  {
   "cell_type": "code",
   "execution_count": 7,
   "metadata": {},
   "outputs": [
    {
     "data": {
      "text/html": [
       "<div>\n",
       "<style scoped>\n",
       "    .dataframe tbody tr th:only-of-type {\n",
       "        vertical-align: middle;\n",
       "    }\n",
       "\n",
       "    .dataframe tbody tr th {\n",
       "        vertical-align: top;\n",
       "    }\n",
       "\n",
       "    .dataframe thead th {\n",
       "        text-align: right;\n",
       "    }\n",
       "</style>\n",
       "<table border=\"1\" class=\"dataframe\">\n",
       "  <thead>\n",
       "    <tr style=\"text-align: right;\">\n",
       "      <th></th>\n",
       "      <th>gen</th>\n",
       "      <th>varsta</th>\n",
       "      <th>Destinatie_tara1</th>\n",
       "      <th>Cetatenie</th>\n",
       "      <th>mediu_prov</th>\n",
       "      <th>judet_domiciliu</th>\n",
       "      <th>Nivel educatie</th>\n",
       "      <th>Relatia cu recrutorul</th>\n",
       "      <th>Forma de exploatare</th>\n",
       "    </tr>\n",
       "  </thead>\n",
       "  <tbody>\n",
       "    <tr>\n",
       "      <th>878</th>\n",
       "      <td>feminin</td>\n",
       "      <td>39</td>\n",
       "      <td>Romania</td>\n",
       "      <td>Straina</td>\n",
       "      <td>urban</td>\n",
       "      <td>NaN</td>\n",
       "      <td>studii liceale</td>\n",
       "      <td>cunostinta/prieten(a)</td>\n",
       "      <td>exploatare sexuala</td>\n",
       "    </tr>\n",
       "    <tr>\n",
       "      <th>879</th>\n",
       "      <td>feminin</td>\n",
       "      <td>24</td>\n",
       "      <td>Romania</td>\n",
       "      <td>Straina</td>\n",
       "      <td>rural</td>\n",
       "      <td>NaN</td>\n",
       "      <td>studii gimnaziale</td>\n",
       "      <td>proxenet</td>\n",
       "      <td>exploatare sexuala</td>\n",
       "    </tr>\n",
       "  </tbody>\n",
       "</table>\n",
       "</div>"
      ],
      "text/plain": [
       "         gen  varsta Destinatie_tara1 Cetatenie mediu_prov judet_domiciliu  \\\n",
       "878  feminin      39          Romania   Straina      urban             NaN   \n",
       "879  feminin      24          Romania   Straina      rural             NaN   \n",
       "\n",
       "        Nivel educatie  Relatia cu recrutorul Forma de exploatare  \n",
       "878     studii liceale  cunostinta/prieten(a)  exploatare sexuala  \n",
       "879  studii gimnaziale               proxenet  exploatare sexuala  "
      ]
     },
     "execution_count": 7,
     "metadata": {},
     "output_type": "execute_result"
    }
   ],
   "source": [
    "df.tail(2)"
   ]
  },
  {
   "cell_type": "markdown",
   "metadata": {},
   "source": [
    "Szűrés több oszlop szerint"
   ]
  },
  {
   "cell_type": "code",
   "execution_count": 8,
   "metadata": {},
   "outputs": [
    {
     "data": {
      "text/html": [
       "<div>\n",
       "<style scoped>\n",
       "    .dataframe tbody tr th:only-of-type {\n",
       "        vertical-align: middle;\n",
       "    }\n",
       "\n",
       "    .dataframe tbody tr th {\n",
       "        vertical-align: top;\n",
       "    }\n",
       "\n",
       "    .dataframe thead th {\n",
       "        text-align: right;\n",
       "    }\n",
       "</style>\n",
       "<table border=\"1\" class=\"dataframe\">\n",
       "  <thead>\n",
       "    <tr style=\"text-align: right;\">\n",
       "      <th></th>\n",
       "      <th>varsta</th>\n",
       "      <th>Cetatenie</th>\n",
       "      <th>gen</th>\n",
       "    </tr>\n",
       "  </thead>\n",
       "  <tbody>\n",
       "    <tr>\n",
       "      <th>0</th>\n",
       "      <td>25</td>\n",
       "      <td>Romana</td>\n",
       "      <td>feminin</td>\n",
       "    </tr>\n",
       "    <tr>\n",
       "      <th>1</th>\n",
       "      <td>38</td>\n",
       "      <td>Romana</td>\n",
       "      <td>feminin</td>\n",
       "    </tr>\n",
       "  </tbody>\n",
       "</table>\n",
       "</div>"
      ],
      "text/plain": [
       "   varsta Cetatenie      gen\n",
       "0      25    Romana  feminin\n",
       "1      38    Romana  feminin"
      ]
     },
     "execution_count": 8,
     "metadata": {},
     "output_type": "execute_result"
    }
   ],
   "source": [
    "az_en_oszlopom=['varsta','Cetatenie','gen']\n",
    "df2=df[az_en_oszlopom].head(2)\n",
    "df2"
   ]
  },
  {
   "cell_type": "markdown",
   "metadata": {},
   "source": [
    "Szűrés egyetloen oszlopra lehet `Series` vagy `DataFrame`."
   ]
  },
  {
   "cell_type": "code",
   "execution_count": 9,
   "metadata": {},
   "outputs": [
    {
     "name": "stdout",
     "output_type": "stream",
     "text": [
      "<class 'pandas.core.frame.DataFrame'>\n",
      "<class 'pandas.core.series.Series'>\n"
     ]
    }
   ],
   "source": [
    "print(type(df[['varsta']]))\n",
    "print(type(df['varsta']))"
   ]
  },
  {
   "cell_type": "markdown",
   "metadata": {},
   "source": [
    "Sorok szerinti szűrés"
   ]
  },
  {
   "cell_type": "code",
   "execution_count": 10,
   "metadata": {},
   "outputs": [
    {
     "data": {
      "text/html": [
       "<div>\n",
       "<style scoped>\n",
       "    .dataframe tbody tr th:only-of-type {\n",
       "        vertical-align: middle;\n",
       "    }\n",
       "\n",
       "    .dataframe tbody tr th {\n",
       "        vertical-align: top;\n",
       "    }\n",
       "\n",
       "    .dataframe thead th {\n",
       "        text-align: right;\n",
       "    }\n",
       "</style>\n",
       "<table border=\"1\" class=\"dataframe\">\n",
       "  <thead>\n",
       "    <tr style=\"text-align: right;\">\n",
       "      <th></th>\n",
       "      <th>gen</th>\n",
       "      <th>varsta</th>\n",
       "      <th>Destinatie_tara1</th>\n",
       "      <th>Cetatenie</th>\n",
       "      <th>mediu_prov</th>\n",
       "      <th>judet_domiciliu</th>\n",
       "      <th>Nivel educatie</th>\n",
       "      <th>Relatia cu recrutorul</th>\n",
       "      <th>Forma de exploatare</th>\n",
       "    </tr>\n",
       "  </thead>\n",
       "  <tbody>\n",
       "    <tr>\n",
       "      <th>2</th>\n",
       "      <td>feminin</td>\n",
       "      <td>22</td>\n",
       "      <td>Danemarca</td>\n",
       "      <td>Romana</td>\n",
       "      <td>urban</td>\n",
       "      <td>Constanta</td>\n",
       "      <td>studii gimnaziale</td>\n",
       "      <td>NaN</td>\n",
       "      <td>exploatare sexuala</td>\n",
       "    </tr>\n",
       "    <tr>\n",
       "      <th>4</th>\n",
       "      <td>masculin</td>\n",
       "      <td>25</td>\n",
       "      <td>Portugalia</td>\n",
       "      <td>Romana</td>\n",
       "      <td>urban</td>\n",
       "      <td>Ilfov</td>\n",
       "      <td>NaN</td>\n",
       "      <td>cunostinta/prieten(a)</td>\n",
       "      <td>exploatare prin munca</td>\n",
       "    </tr>\n",
       "    <tr>\n",
       "      <th>67</th>\n",
       "      <td>feminin</td>\n",
       "      <td>27</td>\n",
       "      <td>Italia</td>\n",
       "      <td>Romana</td>\n",
       "      <td>urban</td>\n",
       "      <td>Dolj</td>\n",
       "      <td>studii liceale</td>\n",
       "      <td>rude</td>\n",
       "      <td>obligarea la cersetorie</td>\n",
       "    </tr>\n",
       "  </tbody>\n",
       "</table>\n",
       "</div>"
      ],
      "text/plain": [
       "         gen  varsta Destinatie_tara1 Cetatenie mediu_prov judet_domiciliu  \\\n",
       "2    feminin      22        Danemarca    Romana      urban       Constanta   \n",
       "4   masculin      25       Portugalia    Romana      urban           Ilfov   \n",
       "67   feminin      27           Italia    Romana      urban            Dolj   \n",
       "\n",
       "       Nivel educatie  Relatia cu recrutorul      Forma de exploatare  \n",
       "2   studii gimnaziale                    NaN       exploatare sexuala  \n",
       "4                 NaN  cunostinta/prieten(a)    exploatare prin munca  \n",
       "67     studii liceale                   rude  obligarea la cersetorie  "
      ]
     },
     "execution_count": 10,
     "metadata": {},
     "output_type": "execute_result"
    }
   ],
   "source": [
    "az_en_indexem=[2,4,67]\n",
    "df3=df.loc[az_en_indexem]\n",
    "df3"
   ]
  },
  {
   "cell_type": "markdown",
   "metadata": {},
   "source": [
    "Pnadas dokumentációban van sok más típusú szűrés (`iloc`, `xslice`) és még sok más."
   ]
  },
  {
   "cell_type": "markdown",
   "metadata": {},
   "source": [
    "Új oszlop hozzáadása."
   ]
  },
  {
   "cell_type": "code",
   "execution_count": 11,
   "metadata": {},
   "outputs": [],
   "source": [
    "df['uj']=42"
   ]
  },
  {
   "cell_type": "markdown",
   "metadata": {},
   "source": [
    "Új oszlop egyenlő méretű listát kell tartalmazzon a `DataFrame` sorai számával."
   ]
  },
  {
   "cell_type": "code",
   "execution_count": 12,
   "metadata": {},
   "outputs": [],
   "source": [
    "df['uj2']=range(880)\n",
    "df['uj2']=range(len(df))\n",
    "#df['uj2']=range(870) #nem mukodik"
   ]
  },
  {
   "cell_type": "markdown",
   "metadata": {},
   "source": [
    "Exportálás pl. Excelbe"
   ]
  },
  {
   "cell_type": "code",
   "execution_count": 13,
   "metadata": {},
   "outputs": [],
   "source": [
    "df[['gen','varsta','Destinatie_tara1']].to_excel('enyim.xlsx')"
   ]
  },
  {
   "cell_type": "markdown",
   "metadata": {},
   "source": [
    "Egyediségvizsgálat"
   ]
  },
  {
   "cell_type": "code",
   "execution_count": 14,
   "metadata": {},
   "outputs": [
    {
     "data": {
      "text/plain": [
       "880"
      ]
     },
     "execution_count": 14,
     "metadata": {},
     "output_type": "execute_result"
    }
   ],
   "source": [
    "len(df)"
   ]
  },
  {
   "cell_type": "code",
   "execution_count": 15,
   "metadata": {},
   "outputs": [
    {
     "data": {
      "text/plain": [
       "27"
      ]
     },
     "execution_count": 15,
     "metadata": {},
     "output_type": "execute_result"
    }
   ],
   "source": [
    "len(df['Destinatie_tara1'].unique())"
   ]
  },
  {
   "cell_type": "markdown",
   "metadata": {},
   "source": [
    "Számolás `NaN` elemek nélkül."
   ]
  },
  {
   "cell_type": "code",
   "execution_count": 16,
   "metadata": {},
   "outputs": [
    {
     "data": {
      "text/plain": [
       "gen                      880\n",
       "varsta                   880\n",
       "Destinatie_tara1         879\n",
       "Cetatenie                880\n",
       "mediu_prov               865\n",
       "judet_domiciliu          874\n",
       "Nivel educatie           821\n",
       "Relatia cu recrutorul    849\n",
       "Forma de exploatare      880\n",
       "uj                       880\n",
       "uj2                      880\n",
       "dtype: int64"
      ]
     },
     "execution_count": 16,
     "metadata": {},
     "output_type": "execute_result"
    }
   ],
   "source": [
    "df.count()"
   ]
  },
  {
   "cell_type": "markdown",
   "metadata": {},
   "source": [
    "Egyedi számolás `NaN` elemek nélkül."
   ]
  },
  {
   "cell_type": "code",
   "execution_count": 17,
   "metadata": {},
   "outputs": [
    {
     "data": {
      "text/plain": [
       "gen                        2\n",
       "varsta                    59\n",
       "Destinatie_tara1          26\n",
       "Cetatenie                  2\n",
       "mediu_prov                 2\n",
       "judet_domiciliu           42\n",
       "Nivel educatie             7\n",
       "Relatia cu recrutorul      6\n",
       "Forma de exploatare        6\n",
       "uj                         1\n",
       "uj2                      880\n",
       "dtype: int64"
      ]
     },
     "execution_count": 17,
     "metadata": {},
     "output_type": "execute_result"
    }
   ],
   "source": [
    "df.nunique()"
   ]
  },
  {
   "cell_type": "markdown",
   "metadata": {},
   "source": [
    "Csoportosítani oszlopok szerint"
   ]
  },
  {
   "cell_type": "code",
   "execution_count": 18,
   "metadata": {},
   "outputs": [
    {
     "data": {
      "text/html": [
       "<div>\n",
       "<style scoped>\n",
       "    .dataframe tbody tr th:only-of-type {\n",
       "        vertical-align: middle;\n",
       "    }\n",
       "\n",
       "    .dataframe tbody tr th {\n",
       "        vertical-align: top;\n",
       "    }\n",
       "\n",
       "    .dataframe thead th {\n",
       "        text-align: right;\n",
       "    }\n",
       "</style>\n",
       "<table border=\"1\" class=\"dataframe\">\n",
       "  <thead>\n",
       "    <tr style=\"text-align: right;\">\n",
       "      <th></th>\n",
       "      <th></th>\n",
       "      <th>varsta</th>\n",
       "      <th>uj</th>\n",
       "      <th>uj2</th>\n",
       "    </tr>\n",
       "    <tr>\n",
       "      <th>judet_domiciliu</th>\n",
       "      <th>Destinatie_tara1</th>\n",
       "      <th></th>\n",
       "      <th></th>\n",
       "      <th></th>\n",
       "    </tr>\n",
       "  </thead>\n",
       "  <tbody>\n",
       "    <tr>\n",
       "      <th rowspan=\"4\" valign=\"top\">Alba</th>\n",
       "      <th>Austria</th>\n",
       "      <td>19.500000</td>\n",
       "      <td>42.0</td>\n",
       "      <td>698.500000</td>\n",
       "    </tr>\n",
       "    <tr>\n",
       "      <th>Franta</th>\n",
       "      <td>26.000000</td>\n",
       "      <td>42.0</td>\n",
       "      <td>705.000000</td>\n",
       "    </tr>\n",
       "    <tr>\n",
       "      <th>Italia</th>\n",
       "      <td>20.000000</td>\n",
       "      <td>42.0</td>\n",
       "      <td>685.000000</td>\n",
       "    </tr>\n",
       "    <tr>\n",
       "      <th>Romania</th>\n",
       "      <td>15.500000</td>\n",
       "      <td>42.0</td>\n",
       "      <td>699.000000</td>\n",
       "    </tr>\n",
       "    <tr>\n",
       "      <th>Arad</th>\n",
       "      <th>Germania</th>\n",
       "      <td>18.000000</td>\n",
       "      <td>42.0</td>\n",
       "      <td>656.000000</td>\n",
       "    </tr>\n",
       "    <tr>\n",
       "      <th>...</th>\n",
       "      <th>...</th>\n",
       "      <td>...</td>\n",
       "      <td>...</td>\n",
       "      <td>...</td>\n",
       "    </tr>\n",
       "    <tr>\n",
       "      <th rowspan=\"5\" valign=\"top\">Vrancea</th>\n",
       "      <th>Grecia</th>\n",
       "      <td>19.500000</td>\n",
       "      <td>42.0</td>\n",
       "      <td>532.000000</td>\n",
       "    </tr>\n",
       "    <tr>\n",
       "      <th>Italia</th>\n",
       "      <td>24.000000</td>\n",
       "      <td>42.0</td>\n",
       "      <td>521.000000</td>\n",
       "    </tr>\n",
       "    <tr>\n",
       "      <th>Olanda</th>\n",
       "      <td>18.000000</td>\n",
       "      <td>42.0</td>\n",
       "      <td>779.000000</td>\n",
       "    </tr>\n",
       "    <tr>\n",
       "      <th>Romania</th>\n",
       "      <td>18.818182</td>\n",
       "      <td>42.0</td>\n",
       "      <td>529.181818</td>\n",
       "    </tr>\n",
       "    <tr>\n",
       "      <th>Spania</th>\n",
       "      <td>38.000000</td>\n",
       "      <td>42.0</td>\n",
       "      <td>1.000000</td>\n",
       "    </tr>\n",
       "  </tbody>\n",
       "</table>\n",
       "<p>217 rows × 3 columns</p>\n",
       "</div>"
      ],
      "text/plain": [
       "                                     varsta    uj         uj2\n",
       "judet_domiciliu Destinatie_tara1                             \n",
       "Alba            Austria           19.500000  42.0  698.500000\n",
       "                Franta            26.000000  42.0  705.000000\n",
       "                Italia            20.000000  42.0  685.000000\n",
       "                Romania           15.500000  42.0  699.000000\n",
       "Arad            Germania          18.000000  42.0  656.000000\n",
       "...                                     ...   ...         ...\n",
       "Vrancea         Grecia            19.500000  42.0  532.000000\n",
       "                Italia            24.000000  42.0  521.000000\n",
       "                Olanda            18.000000  42.0  779.000000\n",
       "                Romania           18.818182  42.0  529.181818\n",
       "                Spania            38.000000  42.0    1.000000\n",
       "\n",
       "[217 rows x 3 columns]"
      ]
     },
     "execution_count": 18,
     "metadata": {},
     "output_type": "execute_result"
    }
   ],
   "source": [
    "df.groupby(['judet_domiciliu','Destinatie_tara1']).mean() #tobb oszlop is lehet a szuro"
   ]
  },
  {
   "cell_type": "code",
   "execution_count": 19,
   "metadata": {},
   "outputs": [],
   "source": [
    "df4=df.groupby(['Destinatie_tara1']).mean()"
   ]
  },
  {
   "cell_type": "code",
   "execution_count": 20,
   "metadata": {},
   "outputs": [],
   "source": [
    "df4=df4[['varsta']]"
   ]
  },
  {
   "cell_type": "code",
   "execution_count": 21,
   "metadata": {},
   "outputs": [],
   "source": [
    "az_en_indexem=list(df4.index)"
   ]
  },
  {
   "cell_type": "code",
   "execution_count": 22,
   "metadata": {},
   "outputs": [
    {
     "data": {
      "text/plain": [
       "'Austria'"
      ]
     },
     "execution_count": 22,
     "metadata": {},
     "output_type": "execute_result"
    }
   ],
   "source": [
    "az_en_indexem[2]"
   ]
  },
  {
   "cell_type": "code",
   "execution_count": 23,
   "metadata": {},
   "outputs": [
    {
     "data": {
      "text/plain": [
       "['Austria',\n",
       " 'Bahamas',\n",
       " 'Belgia',\n",
       " 'Cehia',\n",
       " 'Cipru',\n",
       " 'Danemarca',\n",
       " 'Elvetia',\n",
       " 'Finlanda',\n",
       " 'Franta',\n",
       " 'Germania',\n",
       " 'Grecia',\n",
       " 'Irlanda',\n",
       " 'Italia',\n",
       " 'Libia',\n",
       " 'Norvegia',\n",
       " 'Olanda',\n",
       " 'Portugalia',\n",
       " 'Qatar',\n",
       " 'Romania',\n",
       " 'Spania',\n",
       " 'Suedia',\n",
       " 'Turcia',\n",
       " 'UK',\n",
       " 'Ungaria']"
      ]
     },
     "execution_count": 23,
     "metadata": {},
     "output_type": "execute_result"
    }
   ],
   "source": [
    "az_en_indexem[2:]"
   ]
  },
  {
   "cell_type": "markdown",
   "metadata": {},
   "source": [
    "Listák vágása (slicing) / szeletelése"
   ]
  },
  {
   "cell_type": "code",
   "execution_count": 24,
   "metadata": {},
   "outputs": [
    {
     "data": {
      "text/plain": [
       "[18, 999]"
      ]
     },
     "execution_count": 24,
     "metadata": {},
     "output_type": "execute_result"
    }
   ],
   "source": [
    "az_en_indexem[:2]"
   ]
  },
  {
   "cell_type": "code",
   "execution_count": 25,
   "metadata": {},
   "outputs": [
    {
     "data": {
      "text/plain": [
       "['Austria', 'Bahamas', 'Belgia', 'Cehia', 'Cipru']"
      ]
     },
     "execution_count": 25,
     "metadata": {},
     "output_type": "execute_result"
    }
   ],
   "source": [
    "az_en_indexem[2:7]"
   ]
  },
  {
   "cell_type": "markdown",
   "metadata": {},
   "source": [
    "\"Hány elemenként\""
   ]
  },
  {
   "cell_type": "code",
   "execution_count": 26,
   "metadata": {},
   "outputs": [
    {
     "data": {
      "text/plain": [
       "[18,\n",
       " 'Bahamas',\n",
       " 'Cipru',\n",
       " 'Finlanda',\n",
       " 'Grecia',\n",
       " 'Libia',\n",
       " 'Portugalia',\n",
       " 'Spania',\n",
       " 'UK']"
      ]
     },
     "execution_count": 26,
     "metadata": {},
     "output_type": "execute_result"
    }
   ],
   "source": [
    "az_en_indexem[::3]"
   ]
  },
  {
   "cell_type": "code",
   "execution_count": 27,
   "metadata": {},
   "outputs": [
    {
     "data": {
      "text/plain": [
       "['Ungaria',\n",
       " 'UK',\n",
       " 'Turcia',\n",
       " 'Suedia',\n",
       " 'Spania',\n",
       " 'Romania',\n",
       " 'Qatar',\n",
       " 'Portugalia',\n",
       " 'Olanda',\n",
       " 'Norvegia',\n",
       " 'Libia',\n",
       " 'Italia',\n",
       " 'Irlanda',\n",
       " 'Grecia',\n",
       " 'Germania',\n",
       " 'Franta',\n",
       " 'Finlanda',\n",
       " 'Elvetia',\n",
       " 'Danemarca',\n",
       " 'Cipru',\n",
       " 'Cehia',\n",
       " 'Belgia',\n",
       " 'Bahamas',\n",
       " 'Austria',\n",
       " 999,\n",
       " 18]"
      ]
     },
     "execution_count": 27,
     "metadata": {},
     "output_type": "execute_result"
    }
   ],
   "source": [
    "az_en_indexem[::-1]"
   ]
  },
  {
   "cell_type": "markdown",
   "metadata": {},
   "source": [
    "Pythonic list composition"
   ]
  },
  {
   "cell_type": "markdown",
   "metadata": {},
   "source": [
    "`for` és `if` parancsok"
   ]
  },
  {
   "cell_type": "code",
   "execution_count": 28,
   "metadata": {},
   "outputs": [
    {
     "name": "stdout",
     "output_type": "stream",
     "text": [
      "18\n",
      "999\n",
      "Austria\n",
      "Bahamas\n"
     ]
    }
   ],
   "source": [
    "for elem in az_en_indexem[:4]:\n",
    "    print(elem)"
   ]
  },
  {
   "cell_type": "code",
   "execution_count": 29,
   "metadata": {},
   "outputs": [
    {
     "name": "stdout",
     "output_type": "stream",
     "text": [
      "0 18\n",
      "1 999\n",
      "2 Austria\n",
      "3 Bahamas\n"
     ]
    }
   ],
   "source": [
    "for i,elem in enumerate(az_en_indexem[:4]):\n",
    "    print(i,elem)"
   ]
  },
  {
   "cell_type": "code",
   "execution_count": 30,
   "metadata": {},
   "outputs": [
    {
     "name": "stdout",
     "output_type": "stream",
     "text": [
      "0 18\n",
      "1 999\n",
      "2 Austria\n",
      "3 Bahamas\n",
      "4 Belgia\n"
     ]
    }
   ],
   "source": [
    "for i in range(5):\n",
    "    print(i,az_en_indexem[i])"
   ]
  },
  {
   "cell_type": "markdown",
   "metadata": {},
   "source": [
    "`range(honnan,hova,mekkora lepes=1)`"
   ]
  },
  {
   "cell_type": "code",
   "execution_count": 31,
   "metadata": {},
   "outputs": [
    {
     "name": "stdout",
     "output_type": "stream",
     "text": [
      "3 Bahamas\n",
      "4 Belgia\n",
      "5 Cehia\n",
      "6 Cipru\n",
      "7 Danemarca\n"
     ]
    }
   ],
   "source": [
    "for i in range(3,8):\n",
    "    print(i,az_en_indexem[i])"
   ]
  },
  {
   "cell_type": "markdown",
   "metadata": {},
   "source": [
    "Elegánsabb szűrés"
   ]
  },
  {
   "cell_type": "code",
   "execution_count": 32,
   "metadata": {},
   "outputs": [
    {
     "name": "stdout",
     "output_type": "stream",
     "text": [
      "18\n",
      "999\n"
     ]
    }
   ],
   "source": [
    "for elem in az_en_indexem:\n",
    "    if ( (elem==18) or (elem==999) ):\n",
    "        print(elem)"
   ]
  },
  {
   "cell_type": "code",
   "execution_count": 33,
   "metadata": {},
   "outputs": [
    {
     "name": "stdout",
     "output_type": "stream",
     "text": [
      "18\n",
      "999\n"
     ]
    }
   ],
   "source": [
    "tiltolista=[18,999]\n",
    "for elem in az_en_indexem:\n",
    "    if elem in tiltolista:\n",
    "        print(elem)\n",
    "    "
   ]
  },
  {
   "cell_type": "code",
   "execution_count": 34,
   "metadata": {},
   "outputs": [
    {
     "name": "stdout",
     "output_type": "stream",
     "text": [
      "Austria\n",
      "Bahamas\n",
      "Belgia\n",
      "Cehia\n",
      "Cipru\n",
      "Danemarca\n",
      "Elvetia\n",
      "Finlanda\n",
      "Franta\n",
      "Germania\n",
      "Grecia\n",
      "Irlanda\n",
      "Italia\n",
      "Libia\n",
      "Norvegia\n",
      "Olanda\n",
      "Portugalia\n",
      "Qatar\n",
      "Romania\n",
      "Spania\n",
      "Suedia\n",
      "Turcia\n",
      "UK\n",
      "Ungaria\n"
     ]
    }
   ],
   "source": [
    "for elem in az_en_indexem:\n",
    "    if ( (elem!=18) and (elem!=999) ):\n",
    "        print(elem)\n",
    "    "
   ]
  },
  {
   "cell_type": "code",
   "execution_count": 35,
   "metadata": {},
   "outputs": [
    {
     "name": "stdout",
     "output_type": "stream",
     "text": [
      "Austria\n",
      "Bahamas\n",
      "Belgia\n",
      "Cehia\n",
      "Cipru\n",
      "Danemarca\n",
      "Elvetia\n",
      "Finlanda\n",
      "Franta\n",
      "Germania\n",
      "Grecia\n",
      "Irlanda\n",
      "Italia\n",
      "Libia\n",
      "Norvegia\n",
      "Olanda\n",
      "Portugalia\n",
      "Qatar\n",
      "Romania\n",
      "Spania\n",
      "Suedia\n",
      "Turcia\n",
      "UK\n",
      "Ungaria\n"
     ]
    }
   ],
   "source": [
    "for elem in az_en_indexem:\n",
    "    if elem not in tiltolista:\n",
    "        print(elem)"
   ]
  },
  {
   "cell_type": "code",
   "execution_count": 36,
   "metadata": {},
   "outputs": [],
   "source": [
    "uj_index=[]\n",
    "for elem in az_en_indexem:\n",
    "    if elem not in [18,999]:\n",
    "        uj_index.append(elem)"
   ]
  },
  {
   "cell_type": "code",
   "execution_count": 37,
   "metadata": {},
   "outputs": [
    {
     "data": {
      "text/plain": [
       "['Austria',\n",
       " 'Bahamas',\n",
       " 'Belgia',\n",
       " 'Cehia',\n",
       " 'Cipru',\n",
       " 'Danemarca',\n",
       " 'Elvetia',\n",
       " 'Finlanda',\n",
       " 'Franta',\n",
       " 'Germania',\n",
       " 'Grecia',\n",
       " 'Irlanda',\n",
       " 'Italia',\n",
       " 'Libia',\n",
       " 'Norvegia',\n",
       " 'Olanda',\n",
       " 'Portugalia',\n",
       " 'Qatar',\n",
       " 'Romania',\n",
       " 'Spania',\n",
       " 'Suedia',\n",
       " 'Turcia',\n",
       " 'UK',\n",
       " 'Ungaria']"
      ]
     },
     "execution_count": 37,
     "metadata": {},
     "output_type": "execute_result"
    }
   ],
   "source": [
    "uj_index"
   ]
  },
  {
   "cell_type": "code",
   "execution_count": 38,
   "metadata": {},
   "outputs": [
    {
     "data": {
      "text/plain": [
       "[0, 1, 2, 3, 4]"
      ]
     },
     "execution_count": 38,
     "metadata": {},
     "output_type": "execute_result"
    }
   ],
   "source": [
    "[i for i in range(5)]"
   ]
  },
  {
   "cell_type": "code",
   "execution_count": 39,
   "metadata": {},
   "outputs": [],
   "source": [
    "uj_index2=[elem for elem in az_en_indexem if elem not in tiltolista]"
   ]
  },
  {
   "cell_type": "code",
   "execution_count": 40,
   "metadata": {},
   "outputs": [
    {
     "data": {
      "text/plain": [
       "['Austria',\n",
       " 'Bahamas',\n",
       " 'Belgia',\n",
       " 'Cehia',\n",
       " 'Cipru',\n",
       " 'Danemarca',\n",
       " 'Elvetia',\n",
       " 'Finlanda',\n",
       " 'Franta',\n",
       " 'Germania',\n",
       " 'Grecia',\n",
       " 'Irlanda',\n",
       " 'Italia',\n",
       " 'Libia',\n",
       " 'Norvegia',\n",
       " 'Olanda',\n",
       " 'Portugalia',\n",
       " 'Qatar',\n",
       " 'Romania',\n",
       " 'Spania',\n",
       " 'Suedia',\n",
       " 'Turcia',\n",
       " 'UK',\n",
       " 'Ungaria']"
      ]
     },
     "execution_count": 40,
     "metadata": {},
     "output_type": "execute_result"
    }
   ],
   "source": [
    "uj_index2"
   ]
  },
  {
   "cell_type": "markdown",
   "metadata": {},
   "source": [
    "Uj index szerinti szűrés"
   ]
  },
  {
   "cell_type": "code",
   "execution_count": 41,
   "metadata": {},
   "outputs": [
    {
     "data": {
      "text/html": [
       "<div>\n",
       "<style scoped>\n",
       "    .dataframe tbody tr th:only-of-type {\n",
       "        vertical-align: middle;\n",
       "    }\n",
       "\n",
       "    .dataframe tbody tr th {\n",
       "        vertical-align: top;\n",
       "    }\n",
       "\n",
       "    .dataframe thead th {\n",
       "        text-align: right;\n",
       "    }\n",
       "</style>\n",
       "<table border=\"1\" class=\"dataframe\">\n",
       "  <thead>\n",
       "    <tr style=\"text-align: right;\">\n",
       "      <th></th>\n",
       "      <th>varsta</th>\n",
       "    </tr>\n",
       "    <tr>\n",
       "      <th>Destinatie_tara1</th>\n",
       "      <th></th>\n",
       "    </tr>\n",
       "  </thead>\n",
       "  <tbody>\n",
       "    <tr>\n",
       "      <th>Austria</th>\n",
       "      <td>19.565217</td>\n",
       "    </tr>\n",
       "    <tr>\n",
       "      <th>Bahamas</th>\n",
       "      <td>37.000000</td>\n",
       "    </tr>\n",
       "    <tr>\n",
       "      <th>Belgia</th>\n",
       "      <td>30.153846</td>\n",
       "    </tr>\n",
       "    <tr>\n",
       "      <th>Cehia</th>\n",
       "      <td>31.000000</td>\n",
       "    </tr>\n",
       "  </tbody>\n",
       "</table>\n",
       "</div>"
      ],
      "text/plain": [
       "                     varsta\n",
       "Destinatie_tara1           \n",
       "Austria           19.565217\n",
       "Bahamas           37.000000\n",
       "Belgia            30.153846\n",
       "Cehia             31.000000"
      ]
     },
     "execution_count": 41,
     "metadata": {},
     "output_type": "execute_result"
    }
   ],
   "source": [
    "df4.loc[uj_index2].head(4)"
   ]
  },
  {
   "cell_type": "code",
   "execution_count": 42,
   "metadata": {},
   "outputs": [],
   "source": [
    "df5=df4.loc[uj_index2]"
   ]
  },
  {
   "cell_type": "code",
   "execution_count": 43,
   "metadata": {},
   "outputs": [],
   "source": [
    "df5=df5.reset_index()"
   ]
  },
  {
   "cell_type": "code",
   "execution_count": 44,
   "metadata": {},
   "outputs": [
    {
     "data": {
      "text/html": [
       "<div>\n",
       "<style scoped>\n",
       "    .dataframe tbody tr th:only-of-type {\n",
       "        vertical-align: middle;\n",
       "    }\n",
       "\n",
       "    .dataframe tbody tr th {\n",
       "        vertical-align: top;\n",
       "    }\n",
       "\n",
       "    .dataframe thead th {\n",
       "        text-align: right;\n",
       "    }\n",
       "</style>\n",
       "<table border=\"1\" class=\"dataframe\">\n",
       "  <thead>\n",
       "    <tr style=\"text-align: right;\">\n",
       "      <th></th>\n",
       "      <th>Destinatie_tara1</th>\n",
       "    </tr>\n",
       "  </thead>\n",
       "  <tbody>\n",
       "    <tr>\n",
       "      <th>0</th>\n",
       "      <td>Austria</td>\n",
       "    </tr>\n",
       "    <tr>\n",
       "      <th>1</th>\n",
       "      <td>Bahamas</td>\n",
       "    </tr>\n",
       "    <tr>\n",
       "      <th>2</th>\n",
       "      <td>Belgium</td>\n",
       "    </tr>\n",
       "    <tr>\n",
       "      <th>3</th>\n",
       "      <td>Cseh</td>\n",
       "    </tr>\n",
       "    <tr>\n",
       "      <th>4</th>\n",
       "      <td>Cipru</td>\n",
       "    </tr>\n",
       "    <tr>\n",
       "      <th>5</th>\n",
       "      <td>Danemarca</td>\n",
       "    </tr>\n",
       "    <tr>\n",
       "      <th>6</th>\n",
       "      <td>Elvetia</td>\n",
       "    </tr>\n",
       "    <tr>\n",
       "      <th>7</th>\n",
       "      <td>Finlanda</td>\n",
       "    </tr>\n",
       "    <tr>\n",
       "      <th>8</th>\n",
       "      <td>Franta</td>\n",
       "    </tr>\n",
       "    <tr>\n",
       "      <th>9</th>\n",
       "      <td>Germania</td>\n",
       "    </tr>\n",
       "    <tr>\n",
       "      <th>10</th>\n",
       "      <td>Grecia</td>\n",
       "    </tr>\n",
       "    <tr>\n",
       "      <th>11</th>\n",
       "      <td>Irlanda</td>\n",
       "    </tr>\n",
       "    <tr>\n",
       "      <th>12</th>\n",
       "      <td>Italia</td>\n",
       "    </tr>\n",
       "    <tr>\n",
       "      <th>13</th>\n",
       "      <td>Libia</td>\n",
       "    </tr>\n",
       "    <tr>\n",
       "      <th>14</th>\n",
       "      <td>Norvegia</td>\n",
       "    </tr>\n",
       "    <tr>\n",
       "      <th>15</th>\n",
       "      <td>Olanda</td>\n",
       "    </tr>\n",
       "    <tr>\n",
       "      <th>16</th>\n",
       "      <td>Portugalia</td>\n",
       "    </tr>\n",
       "    <tr>\n",
       "      <th>17</th>\n",
       "      <td>Qatar</td>\n",
       "    </tr>\n",
       "    <tr>\n",
       "      <th>18</th>\n",
       "      <td>Romania</td>\n",
       "    </tr>\n",
       "    <tr>\n",
       "      <th>19</th>\n",
       "      <td>Spania</td>\n",
       "    </tr>\n",
       "    <tr>\n",
       "      <th>20</th>\n",
       "      <td>Suedia</td>\n",
       "    </tr>\n",
       "    <tr>\n",
       "      <th>21</th>\n",
       "      <td>Turcia</td>\n",
       "    </tr>\n",
       "    <tr>\n",
       "      <th>22</th>\n",
       "      <td>UK</td>\n",
       "    </tr>\n",
       "    <tr>\n",
       "      <th>23</th>\n",
       "      <td>Ungaria</td>\n",
       "    </tr>\n",
       "  </tbody>\n",
       "</table>\n",
       "</div>"
      ],
      "text/plain": [
       "   Destinatie_tara1\n",
       "0           Austria\n",
       "1           Bahamas\n",
       "2           Belgium\n",
       "3              Cseh\n",
       "4             Cipru\n",
       "5         Danemarca\n",
       "6           Elvetia\n",
       "7          Finlanda\n",
       "8            Franta\n",
       "9          Germania\n",
       "10           Grecia\n",
       "11          Irlanda\n",
       "12           Italia\n",
       "13            Libia\n",
       "14         Norvegia\n",
       "15           Olanda\n",
       "16       Portugalia\n",
       "17            Qatar\n",
       "18          Romania\n",
       "19           Spania\n",
       "20           Suedia\n",
       "21           Turcia\n",
       "22               UK\n",
       "23          Ungaria"
      ]
     },
     "execution_count": 44,
     "metadata": {},
     "output_type": "execute_result"
    }
   ],
   "source": [
    "df5[['Destinatie_tara1']].replace('Belgia','Belgium').replace('Cehia','Cseh')"
   ]
  },
  {
   "cell_type": "markdown",
   "metadata": {},
   "source": [
    "Python `dictionary`, azaz szotar: `{key1:value2, key2: value2, ...}`"
   ]
  },
  {
   "cell_type": "code",
   "execution_count": 45,
   "metadata": {},
   "outputs": [],
   "source": [
    "nev_cserelo={'Belgia':'Belgium','Cehia':'Cseh'}\n",
    "df5[['Destinatie_tara2']]=df5[['Destinatie_tara1']].replace(nev_cserelo)"
   ]
  },
  {
   "cell_type": "code",
   "execution_count": 46,
   "metadata": {},
   "outputs": [],
   "source": [
    "df5.set_index('Destinatie_tara2')[['varsta']].to_excel('df5.xlsx')"
   ]
  },
  {
   "cell_type": "code",
   "execution_count": 47,
   "metadata": {},
   "outputs": [],
   "source": [
    "df5=df5.set_index('Destinatie_tara2')[['varsta']]\n",
    "df5.to_excel('df5.xlsx')"
   ]
  },
  {
   "cell_type": "markdown",
   "metadata": {},
   "source": [
    "Geometria hozzatarsitas. Ezeket `shapefile`-típusú fájlokban találjuk. Ezeke ArcGIS. A `shapefile` fájlok nagyok, Csak az ArcGIS nyithatóak - ezért van egy nyílt standard, ez a `geojson`. (De a `geojson` elég régi és van egy újabb stnadardja a `topojson`)."
   ]
  },
  {
   "cell_type": "markdown",
   "metadata": {},
   "source": [
    "Konvertálni egyszerű közöttük:\n",
    "- https://mygeodata.cloud/converter/geojson-to-topojson\n",
    "- https://www.igismap.com/convert-geojson-to-topojson-gis/\n",
    "- https://jeffpaine.github.io/geojson-topojson/\n",
    "- https://www.safe.com/convert/geojson/topojson/"
   ]
  },
  {
   "cell_type": "markdown",
   "metadata": {},
   "source": [
    "Szükségunk van országok szintű `geojson`-ra.\n",
    "https://github.com/johan/world.geo.json/blob/master/countries.geo.json  "
   ]
  },
  {
   "cell_type": "markdown",
   "metadata": {},
   "source": [
    "Románia megyék:\n",
    "https://github.com/deldersveld/topojson/blob/master/countries/romania/romania-counties.json"
   ]
  },
  {
   "cell_type": "markdown",
   "metadata": {},
   "source": [
    "Európa megyeszintű felosztás: https://data.europa.eu/euodp/en/data/dataset/HZKBS2y8ycdZijX0PMHPA"
   ]
  },
  {
   "cell_type": "markdown",
   "metadata": {},
   "source": [
    "JSON file beolvasása"
   ]
  },
  {
   "cell_type": "code",
   "execution_count": 48,
   "metadata": {},
   "outputs": [
    {
     "data": {
      "text/html": [
       "<div>\n",
       "<style scoped>\n",
       "    .dataframe tbody tr th:only-of-type {\n",
       "        vertical-align: middle;\n",
       "    }\n",
       "\n",
       "    .dataframe tbody tr th {\n",
       "        vertical-align: top;\n",
       "    }\n",
       "\n",
       "    .dataframe thead th {\n",
       "        text-align: right;\n",
       "    }\n",
       "</style>\n",
       "<table border=\"1\" class=\"dataframe\">\n",
       "  <thead>\n",
       "    <tr style=\"text-align: right;\">\n",
       "      <th></th>\n",
       "      <th>type</th>\n",
       "      <th>features</th>\n",
       "    </tr>\n",
       "  </thead>\n",
       "  <tbody>\n",
       "    <tr>\n",
       "      <th>0</th>\n",
       "      <td>FeatureCollection</td>\n",
       "      <td>{'type': 'Feature', 'id': 'AFG', 'properties':...</td>\n",
       "    </tr>\n",
       "    <tr>\n",
       "      <th>1</th>\n",
       "      <td>FeatureCollection</td>\n",
       "      <td>{'type': 'Feature', 'id': 'AGO', 'properties':...</td>\n",
       "    </tr>\n",
       "    <tr>\n",
       "      <th>2</th>\n",
       "      <td>FeatureCollection</td>\n",
       "      <td>{'type': 'Feature', 'id': 'ALB', 'properties':...</td>\n",
       "    </tr>\n",
       "    <tr>\n",
       "      <th>3</th>\n",
       "      <td>FeatureCollection</td>\n",
       "      <td>{'type': 'Feature', 'id': 'ARE', 'properties':...</td>\n",
       "    </tr>\n",
       "    <tr>\n",
       "      <th>4</th>\n",
       "      <td>FeatureCollection</td>\n",
       "      <td>{'type': 'Feature', 'id': 'ARG', 'properties':...</td>\n",
       "    </tr>\n",
       "  </tbody>\n",
       "</table>\n",
       "</div>"
      ],
      "text/plain": [
       "                type                                           features\n",
       "0  FeatureCollection  {'type': 'Feature', 'id': 'AFG', 'properties':...\n",
       "1  FeatureCollection  {'type': 'Feature', 'id': 'AGO', 'properties':...\n",
       "2  FeatureCollection  {'type': 'Feature', 'id': 'ALB', 'properties':...\n",
       "3  FeatureCollection  {'type': 'Feature', 'id': 'ARE', 'properties':...\n",
       "4  FeatureCollection  {'type': 'Feature', 'id': 'ARG', 'properties':..."
      ]
     },
     "execution_count": 48,
     "metadata": {},
     "output_type": "execute_result"
    }
   ],
   "source": [
    "pd.read_json('countries.geo.json').head()"
   ]
  },
  {
   "cell_type": "code",
   "execution_count": 49,
   "metadata": {},
   "outputs": [],
   "source": [
    "import json"
   ]
  },
  {
   "cell_type": "code",
   "execution_count": 50,
   "metadata": {},
   "outputs": [],
   "source": [
    "file=open('countries.geo.json','r').read()\n",
    "countries=json.loads(file)"
   ]
  },
  {
   "cell_type": "code",
   "execution_count": 51,
   "metadata": {},
   "outputs": [],
   "source": [
    "countries=countries['features']"
   ]
  },
  {
   "cell_type": "code",
   "execution_count": 52,
   "metadata": {},
   "outputs": [
    {
     "data": {
      "text/plain": [
       "{'type': 'Feature',\n",
       " 'id': 'AFG',\n",
       " 'properties': {'name': 'Afghanistan'},\n",
       " 'geometry': {'type': 'Polygon',\n",
       "  'coordinates': [[[61.210817, 35.650072],\n",
       "    [62.230651, 35.270664],\n",
       "    [62.984662, 35.404041],\n",
       "    [63.193538, 35.857166],\n",
       "    [63.982896, 36.007957],\n",
       "    [64.546479, 36.312073],\n",
       "    [64.746105, 37.111818],\n",
       "    [65.588948, 37.305217],\n",
       "    [65.745631, 37.661164],\n",
       "    [66.217385, 37.39379],\n",
       "    [66.518607, 37.362784],\n",
       "    [67.075782, 37.356144],\n",
       "    [67.83, 37.144994],\n",
       "    [68.135562, 37.023115],\n",
       "    [68.859446, 37.344336],\n",
       "    [69.196273, 37.151144],\n",
       "    [69.518785, 37.608997],\n",
       "    [70.116578, 37.588223],\n",
       "    [70.270574, 37.735165],\n",
       "    [70.376304, 38.138396],\n",
       "    [70.806821, 38.486282],\n",
       "    [71.348131, 38.258905],\n",
       "    [71.239404, 37.953265],\n",
       "    [71.541918, 37.905774],\n",
       "    [71.448693, 37.065645],\n",
       "    [71.844638, 36.738171],\n",
       "    [72.193041, 36.948288],\n",
       "    [72.63689, 37.047558],\n",
       "    [73.260056, 37.495257],\n",
       "    [73.948696, 37.421566],\n",
       "    [74.980002, 37.41999],\n",
       "    [75.158028, 37.133031],\n",
       "    [74.575893, 37.020841],\n",
       "    [74.067552, 36.836176],\n",
       "    [72.920025, 36.720007],\n",
       "    [71.846292, 36.509942],\n",
       "    [71.262348, 36.074388],\n",
       "    [71.498768, 35.650563],\n",
       "    [71.613076, 35.153203],\n",
       "    [71.115019, 34.733126],\n",
       "    [71.156773, 34.348911],\n",
       "    [70.881803, 33.988856],\n",
       "    [69.930543, 34.02012],\n",
       "    [70.323594, 33.358533],\n",
       "    [69.687147, 33.105499],\n",
       "    [69.262522, 32.501944],\n",
       "    [69.317764, 31.901412],\n",
       "    [68.926677, 31.620189],\n",
       "    [68.556932, 31.71331],\n",
       "    [67.792689, 31.58293],\n",
       "    [67.683394, 31.303154],\n",
       "    [66.938891, 31.304911],\n",
       "    [66.381458, 30.738899],\n",
       "    [66.346473, 29.887943],\n",
       "    [65.046862, 29.472181],\n",
       "    [64.350419, 29.560031],\n",
       "    [64.148002, 29.340819],\n",
       "    [63.550261, 29.468331],\n",
       "    [62.549857, 29.318572],\n",
       "    [60.874248, 29.829239],\n",
       "    [61.781222, 30.73585],\n",
       "    [61.699314, 31.379506],\n",
       "    [60.941945, 31.548075],\n",
       "    [60.863655, 32.18292],\n",
       "    [60.536078, 32.981269],\n",
       "    [60.9637, 33.528832],\n",
       "    [60.52843, 33.676446],\n",
       "    [60.803193, 34.404102],\n",
       "    [61.210817, 35.650072]]]}}"
      ]
     },
     "execution_count": 52,
     "metadata": {},
     "output_type": "execute_result"
    }
   ],
   "source": [
    "countries[0]"
   ]
  },
  {
   "cell_type": "code",
   "execution_count": 54,
   "metadata": {},
   "outputs": [],
   "source": [
    "orszagok_angol=[country['properties']['name'] for country in countries]"
   ]
  },
  {
   "cell_type": "code",
   "execution_count": 55,
   "metadata": {},
   "outputs": [],
   "source": [
    "orszagok_roman=list(df5.index)"
   ]
  },
  {
   "cell_type": "markdown",
   "metadata": {},
   "source": [
    "Levenshtein függvény definiálása kólön python `.py` fileban."
   ]
  },
  {
   "cell_type": "code",
   "execution_count": 56,
   "metadata": {},
   "outputs": [],
   "source": [
    "import lev"
   ]
  },
  {
   "cell_type": "markdown",
   "metadata": {},
   "source": [
    "Összes távolság"
   ]
  },
  {
   "cell_type": "code",
   "execution_count": 57,
   "metadata": {},
   "outputs": [],
   "source": [
    "orszag_matrix={}\n",
    "for orszag1 in orszagok_roman:\n",
    "    if orszag1 not in orszag_matrix:orszag_matrix[orszag1]={}\n",
    "    for orszag2 in orszagok_angol:\n",
    "        orszag_matrix[orszag1][orszag2]=lev.levenshteinDistance(orszag1,orszag2)\n",
    "        #print(orszag1,orszag2)"
   ]
  },
  {
   "cell_type": "markdown",
   "metadata": {},
   "source": [
    "Minimum távolságok"
   ]
  },
  {
   "cell_type": "code",
   "execution_count": 58,
   "metadata": {},
   "outputs": [],
   "source": [
    "orszag_matrix_jo={}\n",
    "for orszag1 in orszag_matrix:\n",
    "    orszag_matrix_jo[orszag1]=min(orszag_matrix[orszag1],key=orszag_matrix[orszag1].get)"
   ]
  },
  {
   "cell_type": "markdown",
   "metadata": {},
   "source": [
    "Hibák javítása manuálisan"
   ]
  },
  {
   "cell_type": "code",
   "execution_count": 59,
   "metadata": {},
   "outputs": [
    {
     "data": {
      "text/plain": [
       "{'Austria': 'Austria',\n",
       " 'Bahamas': 'The Bahamas',\n",
       " 'Belgium': 'Belgium',\n",
       " 'Cseh': 'Czech Republic',\n",
       " 'Cipru': 'Cyprus',\n",
       " 'Danemarca': 'Denmark',\n",
       " 'Elvetia': 'Switzerland',\n",
       " 'Finlanda': 'Finland',\n",
       " 'Franta': 'France',\n",
       " 'Germania': 'Germany',\n",
       " 'Grecia': 'Greece',\n",
       " 'Irlanda': 'Ireland',\n",
       " 'Italia': 'Italy',\n",
       " 'Libia': 'Libya',\n",
       " 'Norvegia': 'Norway',\n",
       " 'Olanda': 'Netherlands',\n",
       " 'Portugalia': 'Portugal',\n",
       " 'Qatar': 'Qatar',\n",
       " 'Romania': 'Romania',\n",
       " 'Spania': 'Spain',\n",
       " 'Suedia': 'Sweden',\n",
       " 'Turcia': 'Turkey',\n",
       " 'UK': 'United Kingdom',\n",
       " 'Ungaria': 'Hungary'}"
      ]
     },
     "execution_count": 59,
     "metadata": {},
     "output_type": "execute_result"
    }
   ],
   "source": [
    "orszag_matrix_jo['Cseh']='Czech Republic'\n",
    "orszag_matrix_jo['Elvetia']='Switzerland'\n",
    "orszag_matrix_jo['Grecia']='Greece'\n",
    "orszag_matrix_jo['Norvegia']='Norway'\n",
    "orszag_matrix_jo['Olanda']='Netherlands'\n",
    "orszag_matrix_jo['Suedia']='Sweden'\n",
    "orszag_matrix_jo['Turcia']='Turkey'\n",
    "orszag_matrix_jo['UK']='United Kingdom'\n",
    "orszag_matrix_jo['Ungaria']='Hungary'\n",
    "orszag_matrix_jo['Bahamas']='The Bahamas'\n",
    "orszag_matrix_jo"
   ]
  },
  {
   "cell_type": "markdown",
   "metadata": {},
   "source": [
    "Életkorok kinyerése a `df5` dataframeből "
   ]
  },
  {
   "cell_type": "code",
   "execution_count": 60,
   "metadata": {},
   "outputs": [],
   "source": [
    "eletkorok=df5.to_dict()['varsta']"
   ]
  },
  {
   "cell_type": "code",
   "execution_count": 61,
   "metadata": {},
   "outputs": [
    {
     "data": {
      "text/plain": [
       "{'Austria': 19.565217391304348,\n",
       " 'Bahamas': 37.0,\n",
       " 'Belgium': 30.153846153846153,\n",
       " 'Cseh': 31.0,\n",
       " 'Cipru': 37.666666666666664,\n",
       " 'Danemarca': 42.490196078431374,\n",
       " 'Elvetia': 21.0,\n",
       " 'Finlanda': 24.0,\n",
       " 'Franta': 24.48148148148148,\n",
       " 'Germania': 25.672727272727272,\n",
       " 'Grecia': 26.0,\n",
       " 'Irlanda': 24.9375,\n",
       " 'Italia': 25.52252252252252,\n",
       " 'Libia': 48.666666666666664,\n",
       " 'Norvegia': 27.666666666666668,\n",
       " 'Olanda': 22.166666666666668,\n",
       " 'Portugalia': 33.88235294117647,\n",
       " 'Qatar': 35.0,\n",
       " 'Romania': 18.172680412371133,\n",
       " 'Spania': 32.205128205128204,\n",
       " 'Suedia': 22.2,\n",
       " 'Turcia': 34.333333333333336,\n",
       " 'UK': 24.666666666666668,\n",
       " 'Ungaria': 29.5}"
      ]
     },
     "execution_count": 61,
     "metadata": {},
     "output_type": "execute_result"
    }
   ],
   "source": [
    "eletkorok"
   ]
  },
  {
   "cell_type": "markdown",
   "metadata": {},
   "source": [
    "Országok listáját átalakítjuk szótárrá"
   ]
  },
  {
   "cell_type": "code",
   "execution_count": 62,
   "metadata": {},
   "outputs": [],
   "source": [
    "country_dict={country['properties']['name']:country for country in countries}"
   ]
  },
  {
   "cell_type": "markdown",
   "metadata": {},
   "source": [
    "Ezután kicseréljük a szótár kulcsait az angol országneveről a román országnevekre."
   ]
  },
  {
   "cell_type": "code",
   "execution_count": 63,
   "metadata": {},
   "outputs": [],
   "source": [
    "country_dict_ro={orszag1:country_dict[orszag_matrix_jo[orszag1]] for orszag1 in orszag_matrix_jo}"
   ]
  },
  {
   "cell_type": "markdown",
   "metadata": {},
   "source": [
    "Behozzuk a román országneveket és élatkorokat az országok szótárába"
   ]
  },
  {
   "cell_type": "code",
   "execution_count": 64,
   "metadata": {},
   "outputs": [],
   "source": [
    "for country in country_dict_ro:\n",
    "    country_dict_ro[country]['properties']['name_ro']=country\n",
    "    country_dict_ro[country]['properties']['varsta']=eletkorok[country]"
   ]
  },
  {
   "cell_type": "markdown",
   "metadata": {},
   "source": [
    "Visszalakítjuk lista formátumba"
   ]
  },
  {
   "cell_type": "code",
   "execution_count": 65,
   "metadata": {},
   "outputs": [],
   "source": [
    "country_dict_ro_values=list(country_dict_ro.values())\n",
    "country_dict_ro_updated={'features':country_dict_ro_values}\n",
    "country_dict_ro_updated['type']='FeatureCollection'"
   ]
  },
  {
   "cell_type": "markdown",
   "metadata": {},
   "source": [
    "Exportáljuk mint új `geojson`"
   ]
  },
  {
   "cell_type": "code",
   "execution_count": 66,
   "metadata": {},
   "outputs": [
    {
     "data": {
      "text/plain": [
       "27460"
      ]
     },
     "execution_count": 66,
     "metadata": {},
     "output_type": "execute_result"
    }
   ],
   "source": [
    "export_file=open('countries_ro.geo.json','w')\n",
    "export_file.write(json.dumps(country_dict_ro_updated))"
   ]
  }
 ],
 "metadata": {
  "kernelspec": {
   "display_name": "Python 3",
   "language": "python",
   "name": "python3"
  },
  "language_info": {
   "codemirror_mode": {
    "name": "ipython",
    "version": 3
   },
   "file_extension": ".py",
   "mimetype": "text/x-python",
   "name": "python",
   "nbconvert_exporter": "python",
   "pygments_lexer": "ipython3",
   "version": "3.7.4"
  }
 },
 "nbformat": 4,
 "nbformat_minor": 4
}
