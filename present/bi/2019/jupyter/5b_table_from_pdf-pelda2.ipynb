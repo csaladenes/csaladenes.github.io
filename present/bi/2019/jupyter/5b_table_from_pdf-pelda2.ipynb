{
 "cells": [
  {
   "cell_type": "markdown",
   "metadata": {},
   "source": [
    "_PDF_ táblázatok `pandas`-ba való alakítása. Ez csak olyan _PDF_-ekre működik, amelyekben a táblázat valóban szöveg és nem kép. Tehát _Excel_ből vagy _Word_ból voltak exportálva."
   ]
  },
  {
   "cell_type": "code",
   "execution_count": 1,
   "metadata": {},
   "outputs": [],
   "source": [
    "import pandas as pd"
   ]
  },
  {
   "cell_type": "markdown",
   "metadata": {},
   "source": [
    "Install dependencies\n",
    "https://camelot-py.readthedocs.io/en/master/user/install-deps.html  \n",
    "For Windows: https://www.ghostscript.com/download/gsdnld.html"
   ]
  },
  {
   "cell_type": "markdown",
   "metadata": {},
   "source": [
    "Olvasd el: https://camelot-py.readthedocs.io/en/master/user/quickstart.html#read-the-pdf"
   ]
  },
  {
   "cell_type": "code",
   "execution_count": 2,
   "metadata": {},
   "outputs": [
    {
     "name": "stdout",
     "output_type": "stream",
     "text": [
      "Requirement already satisfied: camelot-py in c:\\programdata\\anaconda3\\lib\\site-packages (0.7.3)\n",
      "Requirement already satisfied: pandas>=0.23.4 in c:\\programdata\\anaconda3\\lib\\site-packages (from camelot-py) (0.25.3)\n",
      "Requirement already satisfied: openpyxl>=2.5.8 in c:\\programdata\\anaconda3\\lib\\site-packages (from camelot-py) (3.0.1)\n",
      "Requirement already satisfied: numpy>=1.13.3 in c:\\programdata\\anaconda3\\lib\\site-packages (from camelot-py) (1.17.4)\n",
      "Requirement already satisfied: click>=6.7 in c:\\programdata\\anaconda3\\lib\\site-packages (from camelot-py) (7.0)\n",
      "Requirement already satisfied: PyPDF2>=1.26.0 in c:\\programdata\\anaconda3\\lib\\site-packages (from camelot-py) (1.26.0)\n",
      "Requirement already satisfied: pdfminer.six>=20170720 in c:\\programdata\\anaconda3\\lib\\site-packages (from camelot-py) (20191110)\n",
      "Requirement already satisfied: chardet>=3.0.4 in c:\\programdata\\anaconda3\\lib\\site-packages (from camelot-py) (3.0.4)\n",
      "Requirement already satisfied: python-dateutil>=2.6.1 in c:\\programdata\\anaconda3\\lib\\site-packages (from pandas>=0.23.4->camelot-py) (2.8.1)\n",
      "Requirement already satisfied: pytz>=2017.2 in c:\\programdata\\anaconda3\\lib\\site-packages (from pandas>=0.23.4->camelot-py) (2019.3)\n",
      "Requirement already satisfied: et-xmlfile in c:\\programdata\\anaconda3\\lib\\site-packages (from openpyxl>=2.5.8->camelot-py) (1.0.1)\n",
      "Requirement already satisfied: jdcal in c:\\programdata\\anaconda3\\lib\\site-packages (from openpyxl>=2.5.8->camelot-py) (1.4.1)\n",
      "Requirement already satisfied: sortedcontainers in c:\\programdata\\anaconda3\\lib\\site-packages (from pdfminer.six>=20170720->camelot-py) (2.1.0)\n",
      "Requirement already satisfied: pycryptodome in c:\\programdata\\anaconda3\\lib\\site-packages (from pdfminer.six>=20170720->camelot-py) (3.9.4)\n",
      "Requirement already satisfied: six in c:\\programdata\\anaconda3\\lib\\site-packages (from pdfminer.six>=20170720->camelot-py) (1.13.0)\n"
     ]
    }
   ],
   "source": [
    "!pip install camelot-py"
   ]
  },
  {
   "cell_type": "markdown",
   "metadata": {},
   "source": [
    "Olvasd el: https://stackoverflow.com/questions/44439443/python-how-to-pip-install-opencv2-with-specific-version-2-4-9"
   ]
  },
  {
   "cell_type": "code",
   "execution_count": 3,
   "metadata": {},
   "outputs": [
    {
     "name": "stdout",
     "output_type": "stream",
     "text": [
      "Requirement already satisfied: opencv-python in c:\\programdata\\anaconda3\\lib\\site-packages (4.1.2.30)\n",
      "Requirement already satisfied: numpy>=1.14.5 in c:\\programdata\\anaconda3\\lib\\site-packages (from opencv-python) (1.17.4)\n"
     ]
    }
   ],
   "source": [
    "!pip install opencv-python"
   ]
  },
  {
   "cell_type": "code",
   "execution_count": 4,
   "metadata": {},
   "outputs": [],
   "source": [
    "import camelot"
   ]
  },
  {
   "cell_type": "code",
   "execution_count": 5,
   "metadata": {},
   "outputs": [],
   "source": [
    "tables = camelot.read_pdf('Benevezesek.pdf')"
   ]
  },
  {
   "cell_type": "code",
   "execution_count": 6,
   "metadata": {},
   "outputs": [
    {
     "data": {
      "text/html": [
       "<div>\n",
       "<style scoped>\n",
       "    .dataframe tbody tr th:only-of-type {\n",
       "        vertical-align: middle;\n",
       "    }\n",
       "\n",
       "    .dataframe tbody tr th {\n",
       "        vertical-align: top;\n",
       "    }\n",
       "\n",
       "    .dataframe thead th {\n",
       "        text-align: right;\n",
       "    }\n",
       "</style>\n",
       "<table border=\"1\" class=\"dataframe\">\n",
       "  <thead>\n",
       "    <tr style=\"text-align: right;\">\n",
       "      <th></th>\n",
       "      <th>0</th>\n",
       "      <th>1</th>\n",
       "      <th>2</th>\n",
       "      <th>3</th>\n",
       "      <th>4</th>\n",
       "      <th>5</th>\n",
       "      <th>6</th>\n",
       "      <th>7</th>\n",
       "      <th>8</th>\n",
       "    </tr>\n",
       "  </thead>\n",
       "  <tbody>\n",
       "    <tr>\n",
       "      <th>0</th>\n",
       "      <td>Sor\\nszá\\nm</td>\n",
       "      <td>Csoport neve \\nIskola \\nHelység \\nMegye</td>\n",
       "      <td>Csoport vezető \\nCíme \\nTelefon \\ne-mail</td>\n",
       "      <td>A bemutatásra kerülő műsor \\nadatai \\nÍró, sze...</td>\n",
       "      <td>Rendező</td>\n",
       "      <td>Mű \\nsor \\nidő \\nperc</td>\n",
       "      <td>Kate \\ngória</td>\n",
       "      <td>Lét \\nszá\\nm</td>\n",
       "      <td>Technikai \\nigények \\n \\nKellékek</td>\n",
       "    </tr>\n",
       "    <tr>\n",
       "      <th>1</th>\n",
       "      <td>1</td>\n",
       "      <td>SO TRUPA \\nPalatul Copiilor Iaşi  \\nIAȘI \\nJud...</td>\n",
       "      <td>Hegyi-Purice Ana \\n700506  Iaşi \\nStr. Prof. P...</td>\n",
       "      <td>Legenda lui Ghilgameș \\n \\nLegenda Antica \\n \\...</td>\n",
       "      <td>Ana Hegyi</td>\n",
       "      <td>35 perc  Gim.</td>\n",
       "      <td></td>\n",
       "      <td>1\\n15 \\n4 \\n1</td>\n",
       "      <td>Laptop</td>\n",
       "    </tr>\n",
       "    <tr>\n",
       "      <th>2</th>\n",
       "      <td>2</td>\n",
       "      <td>KÖDIK \\nKölcsey Ferenc Főgimnázium \\nSZATMÁRNÉ...</td>\n",
       "      <td>Csorján Árpád \\nSatu Mare \\nStr. Rândunelelor ...</td>\n",
       "      <td>Boldizsár Péter:  \\n \\nFélálmaink</td>\n",
       "      <td>Csorján Árpád \\nFazekas Katalin</td>\n",
       "      <td>25 perc \\n \\nDél \\nután</td>\n",
       "      <td>Gim.</td>\n",
       "      <td>4\\n7 \\n \\n2 \\n1</td>\n",
       "      <td></td>\n",
       "    </tr>\n",
       "    <tr>\n",
       "      <th>3</th>\n",
       "      <td>3</td>\n",
       "      <td>NEVELETLENEK \\nTúrterebesi Általános Iskola \\n...</td>\n",
       "      <td>0\\nKása Boglárka \\n747525105 \\nkasabogi@yahoo.com</td>\n",
       "      <td>Marth P. Ildikó: \\nKukás Guru \\n \\nBohózat egy...</td>\n",
       "      <td>Kása Boglárka</td>\n",
       "      <td>30 perc \\n \\nDél \\nelőtt</td>\n",
       "      <td>Ált. \\niskola</td>\n",
       "      <td>1\\n17 \\n5 \\n1 \\n1</td>\n",
       "      <td>Kanapé vagy \\nhelyette 4 kar \\nnélküli szék, 1...</td>\n",
       "    </tr>\n",
       "    <tr>\n",
       "      <th>4</th>\n",
       "      <td>4</td>\n",
       "      <td>DÖMIK \\nNagykárolyi Művelődési Központ \\nNAGYK...</td>\n",
       "      <td>Szolomájer Tímea \\nNagykároly               \\n...</td>\n",
       "      <td>Áfra János: \\nFélreértések kicsiny tárháza \\n ...</td>\n",
       "      <td>Szolomájer Tímea</td>\n",
       "      <td>40 perc  Gim.</td>\n",
       "      <td></td>\n",
       "      <td>1\\n12 \\n0 \\n1 \\n1</td>\n",
       "      <td>Mp3 \\nformátumú \\nhanganyag \\nlejátszására \\na...</td>\n",
       "    </tr>\n",
       "    <tr>\n",
       "      <th>5</th>\n",
       "      <td>5</td>\n",
       "      <td>REFI SZINPAD \\nMarosvásárhelyi Református \\nKo...</td>\n",
       "      <td>Márton Csilla \\nMarosvásárhely \\nMemorandumulu...</td>\n",
       "      <td>Refi Színpad: \\n \\nVáltó-láz \\n \\nImprovizáció...</td>\n",
       "      <td>Márton Csilla</td>\n",
       "      <td>25 perc  Gim.</td>\n",
       "      <td></td>\n",
       "      <td>1\\n16 \\n4 \\n1 \\n1</td>\n",
       "      <td>14 darab \\niskolai \\nháttámlás \\nszék) és egy ...</td>\n",
       "    </tr>\n",
       "    <tr>\n",
       "      <th>6</th>\n",
       "      <td>6</td>\n",
       "      <td>SOHA SZINJÁTSZÓKÖR \\nSárospataki Református Ko...</td>\n",
       "      <td>Csákiné Győri Beáta \\nSárospatak, Kazinczy út ...</td>\n",
       "      <td>Szabó Magda:  \\nAbigél \\n \\nKét felvonásos szí...</td>\n",
       "      <td>Csákiné Győri Beáta</td>\n",
       "      <td>110 \\nperc \\n \\nSzom</td>\n",
       "      <td>Meghí\\nvott</td>\n",
       "      <td>2\\n22 \\n0 \\n1 \\n1</td>\n",
       "      <td>reflektor \\nhátulról is \\nlaptopot \\nhozunk, r...</td>\n",
       "    </tr>\n",
       "  </tbody>\n",
       "</table>\n",
       "</div>"
      ],
      "text/plain": [
       "             0                                                  1  \\\n",
       "0  Sor\\nszá\\nm            Csoport neve \\nIskola \\nHelység \\nMegye   \n",
       "1            1  SO TRUPA \\nPalatul Copiilor Iaşi  \\nIAȘI \\nJud...   \n",
       "2            2  KÖDIK \\nKölcsey Ferenc Főgimnázium \\nSZATMÁRNÉ...   \n",
       "3            3  NEVELETLENEK \\nTúrterebesi Általános Iskola \\n...   \n",
       "4            4  DÖMIK \\nNagykárolyi Művelődési Központ \\nNAGYK...   \n",
       "5            5  REFI SZINPAD \\nMarosvásárhelyi Református \\nKo...   \n",
       "6            6  SOHA SZINJÁTSZÓKÖR \\nSárospataki Református Ko...   \n",
       "\n",
       "                                                   2  \\\n",
       "0           Csoport vezető \\nCíme \\nTelefon \\ne-mail   \n",
       "1  Hegyi-Purice Ana \\n700506  Iaşi \\nStr. Prof. P...   \n",
       "2  Csorján Árpád \\nSatu Mare \\nStr. Rândunelelor ...   \n",
       "3  0\\nKása Boglárka \\n747525105 \\nkasabogi@yahoo.com   \n",
       "4  Szolomájer Tímea \\nNagykároly               \\n...   \n",
       "5  Márton Csilla \\nMarosvásárhely \\nMemorandumulu...   \n",
       "6  Csákiné Győri Beáta \\nSárospatak, Kazinczy út ...   \n",
       "\n",
       "                                                   3  \\\n",
       "0  A bemutatásra kerülő műsor \\nadatai \\nÍró, sze...   \n",
       "1  Legenda lui Ghilgameș \\n \\nLegenda Antica \\n \\...   \n",
       "2                  Boldizsár Péter:  \\n \\nFélálmaink   \n",
       "3  Marth P. Ildikó: \\nKukás Guru \\n \\nBohózat egy...   \n",
       "4  Áfra János: \\nFélreértések kicsiny tárháza \\n ...   \n",
       "5  Refi Színpad: \\n \\nVáltó-láz \\n \\nImprovizáció...   \n",
       "6  Szabó Magda:  \\nAbigél \\n \\nKét felvonásos szí...   \n",
       "\n",
       "                                 4                         5              6  \\\n",
       "0                          Rendező     Mű \\nsor \\nidő \\nperc   Kate \\ngória   \n",
       "1                        Ana Hegyi             35 perc  Gim.                  \n",
       "2  Csorján Árpád \\nFazekas Katalin   25 perc \\n \\nDél \\nután           Gim.   \n",
       "3                    Kása Boglárka  30 perc \\n \\nDél \\nelőtt  Ált. \\niskola   \n",
       "4                 Szolomájer Tímea             40 perc  Gim.                  \n",
       "5                    Márton Csilla             25 perc  Gim.                  \n",
       "6              Csákiné Győri Beáta      110 \\nperc \\n \\nSzom    Meghí\\nvott   \n",
       "\n",
       "                   7                                                  8  \n",
       "0       Lét \\nszá\\nm                  Technikai \\nigények \\n \\nKellékek  \n",
       "1      1\\n15 \\n4 \\n1                                             Laptop  \n",
       "2    4\\n7 \\n \\n2 \\n1                                                     \n",
       "3  1\\n17 \\n5 \\n1 \\n1  Kanapé vagy \\nhelyette 4 kar \\nnélküli szék, 1...  \n",
       "4  1\\n12 \\n0 \\n1 \\n1  Mp3 \\nformátumú \\nhanganyag \\nlejátszására \\na...  \n",
       "5  1\\n16 \\n4 \\n1 \\n1  14 darab \\niskolai \\nháttámlás \\nszék) és egy ...  \n",
       "6  2\\n22 \\n0 \\n1 \\n1  reflektor \\nhátulról is \\nlaptopot \\nhozunk, r...  "
      ]
     },
     "execution_count": 6,
     "metadata": {},
     "output_type": "execute_result"
    }
   ],
   "source": [
    "tables[0].df"
   ]
  },
  {
   "cell_type": "code",
   "execution_count": null,
   "metadata": {},
   "outputs": [],
   "source": []
  }
 ],
 "metadata": {
  "kernelspec": {
   "display_name": "Python 3",
   "language": "python",
   "name": "python3"
  },
  "language_info": {
   "codemirror_mode": {
    "name": "ipython",
    "version": 3
   },
   "file_extension": ".py",
   "mimetype": "text/x-python",
   "name": "python",
   "nbconvert_exporter": "python",
   "pygments_lexer": "ipython3",
   "version": "3.7.4"
  }
 },
 "nbformat": 4,
 "nbformat_minor": 4
}
