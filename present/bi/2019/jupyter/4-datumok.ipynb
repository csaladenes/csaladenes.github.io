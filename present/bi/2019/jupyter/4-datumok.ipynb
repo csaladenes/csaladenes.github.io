{
 "cells": [
  {
   "cell_type": "markdown",
   "metadata": {},
   "source": [
    "Amikor pandasban az index egy dátum - akkor a `DataFrame` átalakul _time series_-é, azaz _idősorrá_."
   ]
  },
  {
   "cell_type": "code",
   "execution_count": 1,
   "metadata": {},
   "outputs": [],
   "source": [
    "import pandas as pd"
   ]
  },
  {
   "cell_type": "code",
   "execution_count": 2,
   "metadata": {},
   "outputs": [],
   "source": [
    "df=pd.DataFrame([0,1,25,36,4,75,68,7,8])"
   ]
  },
  {
   "cell_type": "code",
   "execution_count": 3,
   "metadata": {},
   "outputs": [],
   "source": [
    "df.columns=['Ertek']"
   ]
  },
  {
   "cell_type": "code",
   "execution_count": 4,
   "metadata": {},
   "outputs": [],
   "source": [
    "df['Ev']=[2001,2001,2002,2002,2003,2003,2003,2004,2008]\n",
    "df['Honap']=[1,2,1,2,5,6,7,8,8]"
   ]
  },
  {
   "cell_type": "code",
   "execution_count": 6,
   "metadata": {},
   "outputs": [
    {
     "data": {
      "text/plain": [
       "0    2001-1\n",
       "1    2001-2\n",
       "2    2002-1\n",
       "3    2002-2\n",
       "4    2003-5\n",
       "5    2003-6\n",
       "6    2003-7\n",
       "7    2004-8\n",
       "8    2008-8\n",
       "dtype: object"
      ]
     },
     "execution_count": 6,
     "metadata": {},
     "output_type": "execute_result"
    }
   ],
   "source": [
    "df['Ev'].astype(str)+'-'+df['Honap'].astype(str)"
   ]
  },
  {
   "cell_type": "code",
   "execution_count": null,
   "metadata": {},
   "outputs": [],
   "source": []
  },
  {
   "cell_type": "code",
   "execution_count": null,
   "metadata": {},
   "outputs": [],
   "source": []
  },
  {
   "cell_type": "code",
   "execution_count": null,
   "metadata": {},
   "outputs": [],
   "source": []
  },
  {
   "cell_type": "code",
   "execution_count": 22,
   "metadata": {},
   "outputs": [],
   "source": [
    "df['Szepdatum']=pd.to_datetime(df['Ev'].astype(str)+'-'+df['Honap'].astype(str))"
   ]
  },
  {
   "cell_type": "code",
   "execution_count": 8,
   "metadata": {},
   "outputs": [],
   "source": [
    "df['Szepdatum2']=pd.to_datetime(df['Honap'].astype(str)+'/'+df['Ev'].astype(str))"
   ]
  },
  {
   "cell_type": "code",
   "execution_count": 15,
   "metadata": {},
   "outputs": [],
   "source": [
    "df=df.set_index('Szepdatum').sort_index()"
   ]
  },
  {
   "cell_type": "code",
   "execution_count": 16,
   "metadata": {},
   "outputs": [
    {
     "name": "stdout",
     "output_type": "stream",
     "text": [
      "<class 'pandas.core.frame.DataFrame'>\n",
      "DatetimeIndex: 9 entries, 2001-01-01 to 2008-08-01\n",
      "Data columns (total 4 columns):\n",
      " #   Column      Non-Null Count  Dtype         \n",
      "---  ------      --------------  -----         \n",
      " 0   Ertek       9 non-null      int64         \n",
      " 1   Ev          9 non-null      int64         \n",
      " 2   Honap       9 non-null      int64         \n",
      " 3   Szepdatum2  9 non-null      datetime64[ns]\n",
      "dtypes: datetime64[ns](1), int64(3)\n",
      "memory usage: 360.0 bytes\n"
     ]
    }
   ],
   "source": [
    "df.info()"
   ]
  },
  {
   "cell_type": "code",
   "execution_count": 17,
   "metadata": {},
   "outputs": [
    {
     "data": {
      "text/html": [
       "<div>\n",
       "<style scoped>\n",
       "    .dataframe tbody tr th:only-of-type {\n",
       "        vertical-align: middle;\n",
       "    }\n",
       "\n",
       "    .dataframe tbody tr th {\n",
       "        vertical-align: top;\n",
       "    }\n",
       "\n",
       "    .dataframe thead th {\n",
       "        text-align: right;\n",
       "    }\n",
       "</style>\n",
       "<table border=\"1\" class=\"dataframe\">\n",
       "  <thead>\n",
       "    <tr style=\"text-align: right;\">\n",
       "      <th></th>\n",
       "      <th>Ertek</th>\n",
       "      <th>Ev</th>\n",
       "      <th>Honap</th>\n",
       "      <th>Szepdatum2</th>\n",
       "    </tr>\n",
       "    <tr>\n",
       "      <th>Szepdatum</th>\n",
       "      <th></th>\n",
       "      <th></th>\n",
       "      <th></th>\n",
       "      <th></th>\n",
       "    </tr>\n",
       "  </thead>\n",
       "  <tbody>\n",
       "    <tr>\n",
       "      <th>2001-01-01</th>\n",
       "      <td>0</td>\n",
       "      <td>2001</td>\n",
       "      <td>1</td>\n",
       "      <td>2001-01-01</td>\n",
       "    </tr>\n",
       "    <tr>\n",
       "      <th>2001-02-01</th>\n",
       "      <td>1</td>\n",
       "      <td>2001</td>\n",
       "      <td>2</td>\n",
       "      <td>2001-02-01</td>\n",
       "    </tr>\n",
       "    <tr>\n",
       "      <th>2002-01-01</th>\n",
       "      <td>25</td>\n",
       "      <td>2002</td>\n",
       "      <td>1</td>\n",
       "      <td>2002-01-01</td>\n",
       "    </tr>\n",
       "    <tr>\n",
       "      <th>2002-02-01</th>\n",
       "      <td>36</td>\n",
       "      <td>2002</td>\n",
       "      <td>2</td>\n",
       "      <td>2002-02-01</td>\n",
       "    </tr>\n",
       "    <tr>\n",
       "      <th>2003-05-01</th>\n",
       "      <td>4</td>\n",
       "      <td>2003</td>\n",
       "      <td>5</td>\n",
       "      <td>2003-05-01</td>\n",
       "    </tr>\n",
       "    <tr>\n",
       "      <th>2003-06-01</th>\n",
       "      <td>75</td>\n",
       "      <td>2003</td>\n",
       "      <td>6</td>\n",
       "      <td>2003-06-01</td>\n",
       "    </tr>\n",
       "    <tr>\n",
       "      <th>2003-07-01</th>\n",
       "      <td>68</td>\n",
       "      <td>2003</td>\n",
       "      <td>7</td>\n",
       "      <td>2003-07-01</td>\n",
       "    </tr>\n",
       "    <tr>\n",
       "      <th>2004-08-01</th>\n",
       "      <td>7</td>\n",
       "      <td>2004</td>\n",
       "      <td>8</td>\n",
       "      <td>2004-08-01</td>\n",
       "    </tr>\n",
       "    <tr>\n",
       "      <th>2008-08-01</th>\n",
       "      <td>8</td>\n",
       "      <td>2008</td>\n",
       "      <td>8</td>\n",
       "      <td>2008-08-01</td>\n",
       "    </tr>\n",
       "  </tbody>\n",
       "</table>\n",
       "</div>"
      ],
      "text/plain": [
       "            Ertek    Ev  Honap Szepdatum2\n",
       "Szepdatum                                \n",
       "2001-01-01      0  2001      1 2001-01-01\n",
       "2001-02-01      1  2001      2 2001-02-01\n",
       "2002-01-01     25  2002      1 2002-01-01\n",
       "2002-02-01     36  2002      2 2002-02-01\n",
       "2003-05-01      4  2003      5 2003-05-01\n",
       "2003-06-01     75  2003      6 2003-06-01\n",
       "2003-07-01     68  2003      7 2003-07-01\n",
       "2004-08-01      7  2004      8 2004-08-01\n",
       "2008-08-01      8  2008      8 2008-08-01"
      ]
     },
     "execution_count": 17,
     "metadata": {},
     "output_type": "execute_result"
    }
   ],
   "source": [
    "df"
   ]
  },
  {
   "cell_type": "code",
   "execution_count": 23,
   "metadata": {},
   "outputs": [
    {
     "data": {
      "text/plain": [
       "Szepdatum\n",
       "2001-01-01    1\n",
       "2001-02-01    2\n",
       "2002-01-01    1\n",
       "2002-02-01    2\n",
       "2003-05-01    5\n",
       "2003-06-01    6\n",
       "2003-07-01    7\n",
       "2004-08-01    8\n",
       "2008-08-01    8\n",
       "Name: Szepdatum, dtype: int64"
      ]
     },
     "execution_count": 23,
     "metadata": {},
     "output_type": "execute_result"
    }
   ],
   "source": [
    "df['Szepdatum'].dt.month"
   ]
  },
  {
   "cell_type": "code",
   "execution_count": null,
   "metadata": {},
   "outputs": [],
   "source": [
    "'2010-01-01 23:43:00'"
   ]
  },
  {
   "cell_type": "code",
   "execution_count": 27,
   "metadata": {},
   "outputs": [
    {
     "data": {
      "text/plain": [
       "Szepdatum\n",
       "2001-01-01    0\n",
       "2001-02-01    0\n",
       "2002-01-01    0\n",
       "2002-02-01    0\n",
       "2003-05-01    0\n",
       "2003-06-01    0\n",
       "2003-07-01    0\n",
       "2004-08-01    0\n",
       "2008-08-01    0\n",
       "Name: Szepdatum, dtype: int64"
      ]
     },
     "execution_count": 27,
     "metadata": {},
     "output_type": "execute_result"
    }
   ],
   "source": [
    "df['Szepdatum'].dt.minute"
   ]
  },
  {
   "cell_type": "code",
   "execution_count": 29,
   "metadata": {},
   "outputs": [
    {
     "data": {
      "text/plain": [
       "Szepdatum\n",
       "2001-01-01     Ianuarie\n",
       "2001-02-01    Februarie\n",
       "2002-01-01     Ianuarie\n",
       "2002-02-01    Februarie\n",
       "2003-05-01          Mai\n",
       "2003-06-01        Iunie\n",
       "2003-07-01        Iulie\n",
       "2004-08-01       August\n",
       "2008-08-01       August\n",
       "Name: Szepdatum, dtype: object"
      ]
     },
     "execution_count": 29,
     "metadata": {},
     "output_type": "execute_result"
    }
   ],
   "source": [
    "df['Szepdatum'].dt.month_name(locale='RO')"
   ]
  },
  {
   "cell_type": "code",
   "execution_count": 30,
   "metadata": {},
   "outputs": [
    {
     "data": {
      "text/plain": [
       "Szepdatum\n",
       "2001-01-01       Január\n",
       "2001-02-01      Február\n",
       "2002-01-01       Január\n",
       "2002-02-01      Február\n",
       "2003-05-01        Május\n",
       "2003-06-01       Június\n",
       "2003-07-01       Július\n",
       "2004-08-01    Augusztus\n",
       "2008-08-01    Augusztus\n",
       "Name: Szepdatum, dtype: object"
      ]
     },
     "execution_count": 30,
     "metadata": {},
     "output_type": "execute_result"
    }
   ],
   "source": [
    "df['Szepdatum'].dt.month_name('HUN')"
   ]
  },
  {
   "cell_type": "code",
   "execution_count": 41,
   "metadata": {},
   "outputs": [
    {
     "data": {
      "text/plain": [
       "<pandas.core.indexes.accessors.DatetimeProperties object at 0x0000012FAFD0ED08>"
      ]
     },
     "execution_count": 41,
     "metadata": {},
     "output_type": "execute_result"
    }
   ],
   "source": [
    "df['Szepdatum'].dt"
   ]
  },
  {
   "cell_type": "code",
   "execution_count": null,
   "metadata": {},
   "outputs": [],
   "source": [
    "df['Szepdatum'].dt"
   ]
  }
 ],
 "metadata": {
  "kernelspec": {
   "display_name": "Python 3",
   "language": "python",
   "name": "python3"
  },
  "language_info": {
   "codemirror_mode": {
    "name": "ipython",
    "version": 3
   },
   "file_extension": ".py",
   "mimetype": "text/x-python",
   "name": "python",
   "nbconvert_exporter": "python",
   "pygments_lexer": "ipython3",
   "version": "3.7.4"
  }
 },
 "nbformat": 4,
 "nbformat_minor": 4
}
