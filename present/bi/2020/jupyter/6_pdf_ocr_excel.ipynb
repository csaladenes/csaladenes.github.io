{
 "cells": [
  {
   "cell_type": "markdown",
   "metadata": {},
   "source": [
    "_PDF_ táblázatok `pandas`-ba való alakítása. Olyan _PDF_-ekre, amelyek képekből vannak - tehát fényképek, szkennelések, vagy hasonló. Ez magában foglalja a sima fényképek (_JPG_, _PNG_) szövegfelismerését is. Az átalakítási folyamat három lépéses:\n",
    " 1. _PDF_ oldalainak képekké alakítása\n",
    " 2. Szövegfelismerés a képeken (ezt angolul úgy hívják _OCR - optical character recognition_)\n",
    " 3. Szöveg táblázattá alakítása"
   ]
  },
  {
   "cell_type": "markdown",
   "metadata": {},
   "source": [
    "### Installs"
   ]
  },
  {
   "cell_type": "markdown",
   "metadata": {},
   "source": [
    "#### ImageMagick és GhostSCript"
   ]
  },
  {
   "cell_type": "markdown",
   "metadata": {},
   "source": [
    "Kell hozzá `ImageMagick` és `GhostScript`."
   ]
  },
  {
   "cell_type": "markdown",
   "metadata": {},
   "source": [
    "https://www.imagemagick.org/script/download.php"
   ]
  },
  {
   "cell_type": "markdown",
   "metadata": {},
   "source": [
    "https://www.ghostscript.com/download/gsdnld.html"
   ]
  },
  {
   "cell_type": "markdown",
   "metadata": {},
   "source": [
    "#### Poppler"
   ]
  },
  {
   "cell_type": "markdown",
   "metadata": {},
   "source": [
    "Install Poppler, add to PATH"
   ]
  },
  {
   "cell_type": "markdown",
   "metadata": {},
   "source": [
    "Go to [this](http://blog.alivate.com.au/poppler-windows/) page and download the binary of your choice. In this example we will download and use poppler-0.68.0. Extract the archive file poppler-0.68.0_x86.7z into C:\\Program Files\\poppler. Thus the directory structure should look something like this:\n",
    "\n",
    "C:  \n",
    "  └ Program Files  \n",
    "    └ poppler  \n",
    "    └ poppler-0.68.0  \n",
    "      └ bin  \n",
    "      └ include  \n",
    "      └ lib  \n",
    "      └ share  \n",
    "\n",
    "Windows: Add `C:\\Program Files\\poppler\\poppler-0.68.0\\bin` to your system PATH."
   ]
  },
  {
   "cell_type": "markdown",
   "metadata": {},
   "source": [
    "Valamit így kell a PATH-hoz hozzáadni: https://www.architectryan.com/2018/03/17/add-to-the-path-on-windows-10/"
   ]
  },
  {
   "cell_type": "markdown",
   "metadata": {},
   "source": [
    "#### Tesseract"
   ]
  },
  {
   "cell_type": "markdown",
   "metadata": {},
   "source": [
    "Install Tesseract: https://github.com/tesseract-ocr/tesseract/wiki  \n",
    "For Windows: https://github.com/UB-Mannheim/tesseract/wiki"
   ]
  },
  {
   "cell_type": "markdown",
   "metadata": {},
   "source": [
    "Add `C:\\Program Files\\Tesseract-OCR` to your system PATH."
   ]
  },
  {
   "cell_type": "markdown",
   "metadata": {},
   "source": [
    "#### Restart Python"
   ]
  },
  {
   "cell_type": "markdown",
   "metadata": {},
   "source": [
    "Ezután indítsd újra az Anacondát és a JupyterLabet és a Python-t."
   ]
  },
  {
   "cell_type": "markdown",
   "metadata": {},
   "source": [
    "Olvasd el: https://www.geeksforgeeks.org/python-reading-contents-of-pdf-using-ocr-optical-character-recognition/"
   ]
  },
  {
   "cell_type": "code",
   "execution_count": 1,
   "metadata": {},
   "outputs": [
    {
     "name": "stdout",
     "output_type": "stream",
     "text": [
      "Requirement already satisfied: Pillow in c:\\programdata\\anaconda3\\lib\\site-packages (6.2.1)\n"
     ]
    }
   ],
   "source": [
    "!pip install Pillow"
   ]
  },
  {
   "cell_type": "code",
   "execution_count": 2,
   "metadata": {},
   "outputs": [
    {
     "name": "stdout",
     "output_type": "stream",
     "text": [
      "Requirement already satisfied: pdf2image in c:\\programdata\\anaconda3\\lib\\site-packages (1.10.0)\n",
      "Requirement already satisfied: pillow in c:\\programdata\\anaconda3\\lib\\site-packages (from pdf2image) (6.2.1)\n"
     ]
    }
   ],
   "source": [
    "!pip install pdf2image"
   ]
  },
  {
   "cell_type": "markdown",
   "metadata": {},
   "source": [
    "Olvasd el: https://pypi.org/project/pytesseract/"
   ]
  },
  {
   "cell_type": "code",
   "execution_count": 3,
   "metadata": {},
   "outputs": [
    {
     "name": "stdout",
     "output_type": "stream",
     "text": [
      "Requirement already satisfied: pytesseract in c:\\programdata\\anaconda3\\lib\\site-packages (0.3.0)\n",
      "Requirement already satisfied: Pillow in c:\\programdata\\anaconda3\\lib\\site-packages (from pytesseract) (6.2.1)\n"
     ]
    }
   ],
   "source": [
    "!pip install pytesseract"
   ]
  },
  {
   "cell_type": "markdown",
   "metadata": {},
   "source": [
    "Olvasd el: https://stackoverflow.com/questions/44439443/python-how-to-pip-install-opencv2-with-specific-version-2-4-9"
   ]
  },
  {
   "cell_type": "code",
   "execution_count": 4,
   "metadata": {},
   "outputs": [
    {
     "name": "stdout",
     "output_type": "stream",
     "text": [
      "Requirement already satisfied: opencv-python in c:\\programdata\\anaconda3\\lib\\site-packages (4.1.2.30)\n",
      "Requirement already satisfied: numpy>=1.14.5 in c:\\programdata\\anaconda3\\lib\\site-packages (from opencv-python) (1.17.4)\n"
     ]
    }
   ],
   "source": [
    "!pip install opencv-python"
   ]
  },
  {
   "cell_type": "markdown",
   "metadata": {},
   "source": [
    "# 1"
   ]
  },
  {
   "cell_type": "markdown",
   "metadata": {},
   "source": [
    "https://hoineki.com/article.php?a=How_to_convert_PDF_to_Image34"
   ]
  },
  {
   "cell_type": "code",
   "execution_count": 5,
   "metadata": {},
   "outputs": [],
   "source": [
    "from PIL import Image \n",
    "import sys \n",
    "from pdf2image import convert_from_path \n",
    "import os "
   ]
  },
  {
   "cell_type": "code",
   "execution_count": 6,
   "metadata": {},
   "outputs": [],
   "source": [
    "# Path of the pdf \n",
    "PDF_file = \"Lista inscrisi Admitere Licenta sept 11.09.2015.pdf\""
   ]
  },
  {
   "cell_type": "code",
   "execution_count": 7,
   "metadata": {},
   "outputs": [],
   "source": [
    "if not os.path.exists('pdf/'+PDF_file+'/'):\n",
    "    os.makedirs('pdf/'+PDF_file+'/')"
   ]
  },
  {
   "cell_type": "markdown",
   "metadata": {},
   "source": [
    "Készítünk egy mappát, ahová a _PDF_ oldalait exportáljuk képként."
   ]
  },
  {
   "cell_type": "code",
   "execution_count": 40,
   "metadata": {},
   "outputs": [
    {
     "name": "stdout",
     "output_type": "stream",
     "text": [
      "1 oldal kész..\n",
      "2 oldal kész..\n",
      "3 oldal kész..\n",
      "4 oldal kész..\n",
      "5 oldal kész..\n"
     ]
    }
   ],
   "source": [
    "# Store all the pages of the PDF in a variable \n",
    "#a masodik szam a felbontas, ezt 300-600 kozott probalgasd\n",
    "pages = convert_from_path(PDF_file, 300) \n",
    "  \n",
    "# Counter to store images of each page of PDF to image \n",
    "image_counter = 1\n",
    "  \n",
    "# Iterate through all the pages stored above \n",
    "for page in pages: \n",
    "  \n",
    "    # Declaring filename for each page of PDF as JPG \n",
    "    # For each page, filename will be: \n",
    "    # PDF page 1 -> page_1.jpg \n",
    "    # PDF page 2 -> page_2.jpg \n",
    "    # PDF page 3 -> page_3.jpg \n",
    "    # .... \n",
    "    # PDF page n -> page_n.jpg \n",
    "    filename = 'pdf/'+PDF_file+\"/page_\"+str(image_counter)+\".jpg\"\n",
    "    print(image_counter,'oldal kész..')\n",
    "      \n",
    "    # Save the image of the page in system \n",
    "    page.save(filename, 'JPEG') \n",
    "  \n",
    "    # Increment the counter to update filename \n",
    "    image_counter = image_counter + 1"
   ]
  },
  {
   "cell_type": "markdown",
   "metadata": {},
   "source": [
    "# 2"
   ]
  },
  {
   "cell_type": "markdown",
   "metadata": {},
   "source": [
    "Szövegfelismerés a képeken"
   ]
  },
  {
   "cell_type": "code",
   "execution_count": 9,
   "metadata": {},
   "outputs": [],
   "source": [
    "import pytesseract"
   ]
  },
  {
   "cell_type": "code",
   "execution_count": 47,
   "metadata": {},
   "outputs": [
    {
     "name": "stdout",
     "output_type": "stream",
     "text": [
      "1 oldal kész..\n",
      "2 oldal kész..\n",
      "3 oldal kész..\n",
      "4 oldal kész..\n",
      "5 oldal kész..\n"
     ]
    }
   ],
   "source": [
    "# Variable to get count of total number of pages \n",
    "filelimit = image_counter-1\n",
    "  \n",
    "# Creating a text file to write the output \n",
    "outfile = 'pdf/'+PDF_file+\"/text.txt\"\n",
    "  \n",
    "# Open the file in append mode so that  \n",
    "# All contents of all images are added to the same file \n",
    "f = open(outfile, \"a\") \n",
    "  \n",
    "# Iterate from 1 to total number of pages \n",
    "for i in range(1, filelimit + 1): \n",
    "  \n",
    "    # Set filename to recognize text from \n",
    "    # Again, these files will be: \n",
    "    # page_1.jpg \n",
    "    # page_2.jpg \n",
    "    # .... \n",
    "    # page_n.jpg \n",
    "    filename = 'pdf/'+PDF_file+\"/page_\"+str(i)+\".jpg\"\n",
    "          \n",
    "    # Recognize the text as string in image using pytesserct \n",
    "    text = str(((pytesseract.image_to_string(Image.open(filename))))) \n",
    "    print(i,'oldal kész..')\n",
    "  \n",
    "    # The recognized text is stored in variable text \n",
    "    # Any string processing may be applied on text \n",
    "    # Here, basic formatting has been done: \n",
    "    # In many PDFs, at line ending, if a word can't \n",
    "    # be written fully, a 'hyphen' is added. \n",
    "    # The rest of the word is written in the next line \n",
    "    # Eg: This is a sample text this word here GeeksF- \n",
    "    # orGeeks is half on first line, remaining on next. \n",
    "    # To remove this, we replace every '-\\n' to ''. \n",
    "    text = text.replace('-\\n', '')     \n",
    "  \n",
    "    # Finally, write the processed text to the file. \n",
    "    f.write(text) \n",
    "\n",
    "# Close the file after writing all the text. \n",
    "f.close() "
   ]
  },
  {
   "cell_type": "markdown",
   "metadata": {},
   "source": [
    "# 3"
   ]
  },
  {
   "cell_type": "code",
   "execution_count": 48,
   "metadata": {},
   "outputs": [],
   "source": [
    "import pandas as pd"
   ]
  },
  {
   "cell_type": "markdown",
   "metadata": {},
   "source": [
    "Felismert szöveg beolvasása"
   ]
  },
  {
   "cell_type": "code",
   "execution_count": 325,
   "metadata": {},
   "outputs": [],
   "source": [
    "pages=open(outfile,'r').read()"
   ]
  },
  {
   "cell_type": "markdown",
   "metadata": {},
   "source": [
    "Sorok felosztása újsork karakterek `\\n` szerint"
   ]
  },
  {
   "cell_type": "code",
   "execution_count": 326,
   "metadata": {},
   "outputs": [],
   "source": [
    "lines=[i for i in pages.split('\\n') if i]"
   ]
  },
  {
   "cell_type": "markdown",
   "metadata": {},
   "source": [
    "Csak azokat a sorokat tartjuk meg, amelyek számmal kezdődnek"
   ]
  },
  {
   "cell_type": "code",
   "execution_count": 327,
   "metadata": {},
   "outputs": [],
   "source": [
    "good_lines=[line for line in lines if line[0].isdigit()]"
   ]
  },
  {
   "cell_type": "markdown",
   "metadata": {},
   "source": [
    "Tipikus hibás felismert karaterek javítása"
   ]
  },
  {
   "cell_type": "code",
   "execution_count": 328,
   "metadata": {},
   "outputs": [],
   "source": [
    "good_lines=[line.replace('_',' ').replace('. ',' ').replace('-',' ').replace('—',' ')\\\n",
    "     .replace('~',' ').replace('=',' ').replace('  ',' ').replace('  ',' ')\\\n",
    "     .replace('»',' ')for line in good_lines]"
   ]
  },
  {
   "cell_type": "code",
   "execution_count": 329,
   "metadata": {},
   "outputs": [
    {
     "data": {
      "text/plain": [
       "['1 4696 ACHIM O.A ANDREEA MAGDALENA 9,56 9,50 9,70 19 18 16 14 13 11 15 20 12',\n",
       " '3 4441 ALBERT J CSILLA EDIT 6,76 5,70 7,80 48 ,',\n",
       " '2 208 ALBERT Vv IULAN 6,10 5,20 600 51.',\n",
       " '4 4500 ALEXAN A MARIOARA 7,82 7,00 855 41',\n",
       " '5 4565 AMBRUS T TIBOR 8,36 9,10 940 46.',\n",
       " '6 4424 ANDREI C IOAN CLAUDIU 7,66 7,00 6,80 19.',\n",
       " '7 210 ASANOV A REFAT 7,20 7,20 7,20 36 37',\n",
       " '8 4913 BACIU I IOAN ALEXANDRU 7,11 6,60 7,55 59 61',\n",
       " '9 4509 BALANESCU D.M RAZVAN SAUL 7,75 9,85 545 12 13',\n",
       " '10 4962 BALAS I MARIA ELENA 7,73 7,85 7,60 70.']"
      ]
     },
     "execution_count": 329,
     "metadata": {},
     "output_type": "execute_result"
    }
   ],
   "source": [
    "good_lines[:10]"
   ]
  },
  {
   "cell_type": "markdown",
   "metadata": {},
   "source": [
    "Hibás sorok további kiszűrése manuálisan"
   ]
  },
  {
   "cell_type": "code",
   "execution_count": 330,
   "metadata": {},
   "outputs": [
    {
     "name": "stdout",
     "output_type": "stream",
     "text": [
      "0:::1 4696 ACHIM O.A ANDREEA MAGDALENA 9,56 9,50 9,70 19 18 16 14 13 11 15 20 12\n",
      "1:::3 4441 ALBERT J CSILLA EDIT 6,76 5,70 7,80 48 ,\n",
      "2:::2 208 ALBERT Vv IULAN 6,10 5,20 600 51.\n",
      "3:::4 4500 ALEXAN A MARIOARA 7,82 7,00 855 41\n",
      "4:::5 4565 AMBRUS T TIBOR 8,36 9,10 940 46.\n",
      "5:::6 4424 ANDREI C IOAN CLAUDIU 7,66 7,00 6,80 19.\n",
      "6:::7 210 ASANOV A REFAT 7,20 7,20 7,20 36 37\n",
      "7:::8 4913 BACIU I IOAN ALEXANDRU 7,11 6,60 7,55 59 61\n",
      "8:::9 4509 BALANESCU D.M RAZVAN SAUL 7,75 9,85 545 12 13\n",
      "9:::10 4962 BALAS I MARIA ELENA 7,73 7,85 7,60 70.\n",
      "10:::11 44114 BALINT c ROBERT ISTVAN 7,93 6,80 9,00 36 37,16 18\n",
      "11:::12 4571 BALOG | MARIAN BOGDAN 6,80 5,25 6,10 46.\n",
      "12:::13 4526 BANDICI .M RAZVAN ADRIAN 8,93 5,80 815 46.\n",
      "13:::15 4902 BARABAS L SZENDE 7,01 7,05 7,60 64 59 67\n",
      "14:::14 4572 BARABAS O BENIAMIN OVIDIU 8,10 650 8,60 11 16 14 15\n",
      "15:::16 4508 BARATI Vv NINEL EMIL 6,95 6,30 7,50 47.46 41\n",
      "16:::17 4695 BARDAN Vv SIMINA 9,30 8,70 9,20 37 18 27 36 16 19\n",
      "17:::18 4669 BARSAN S MARIA ANCA 7,65 6,30 8,30 41 44 46\n",
      "18:::19 4651 BEJINARIU Vv GIANINA ANAMARIA 6,18 5,20 5,50 11 16 04 14 13 15\n",
      "19:::20 4462 BENCZE L NOEMI 9,18 9,25 8,90 47 46\n",
      "20:::21 4570 BERCHI t CRISTINA MARIA 7,53 6,10 7,60 46.\n",
      "21:::22 222 BERKI J ANDREEA ALEXANDRA 7,40 .7,90 9,05 53\n",
      "22:::23 4602 BEUCA D VASILINA 8,16 7,00 7,50 16 13 12\n",
      "23:::24 4611 BIDIAN I CARMEN ANDREEA 8,23 8,60 850 41\n",
      "24:::25 4961 BILICI Vv CRISTIAN 7,38 5,50 825 70.\n",
      "25:::26 213 BIZGU A DIANA 8,25 7,00 9,00 36.\n",
      "26:::27 4557 BLAI D.| | DAN FLORIN 6,66 5,45 5,65 46 41 47 43\n",
      "27:::28 4676 BLAJAN G ANDREEA ROXANA 7,80 6,20 895 O07 16 11 18 19 04 14 15\n",
      "28:::29 4671 BOEREAN PL ALISA PAULA 6,00 6,80 5,10 12.15 13 18 16 20 19 14 11\n",
      "29:::30 4909 BOGDAN ROBERT \"6,20 5,35 8,30 67.\n",
      "30:::31 4490 BOICIUC | VASILE IONEL 6,13 6,70 620 18 19 16\n",
      "31:::32 4918 BOKOR F A ATTILA LASZLO 8,80 0,00 0,00 67 \n",
      "32:::33 4635 BORODI | SIMONA LENUTA 8,63 8,80 8,20 41\n",
      "33:::34 4657 BORS A ALPAR 7,13 6,10 6,50 33 32 30 31 19 18 16 15\n",
      "34:::35 4655 BORZA A ALEXANDRU FLORIAN 6,38 5,30 655 37 27 36 18 16\n",
      "35:::36 4656 BRATU I LAURIAN IONEL 7,66 7,00 685 27 36\n",
      "36:::37 4678 BRUDAN D TEODORA MADALINA 6,50 6,30 6,00 47.41 44 46 42 45 43\n",
      "37:::38 4977 BUCATEA s MELISA STELIANA 6,20 0,00 0,00 69 \n",
      "38:::39 4499 BUDULAU 1, LOREDANA IOANA 7,80 7,50 8,00 41\n",
      "39:::40 4521 BULZ 1 IULIA ELENA 8,80 7,80 960 16 11 07\n",
      "40:::41 4665 BUMBU 7 IONUT ADRIAN 7,16 6,70 7,00 16 11 18 12 19\n",
      "41:::42 4603 BURA Vv LAVINIA 8,75 9,70 860 11\n",
      "42:::43 4639 BUTUC GH ANE MARY 7,56 8,32 5,75 18 46 12 19\n",
      "43:::44 4654 CAIENAR A DAN SEBASTIAN 8,60 8,75 860 04 16 18 19 11\n",
      "44:::45 218 CALARAS S VASILE 6,50 5,00 7,00 15 18 12\n",
      "45:::47 206 CALIN M MITICA 9,76 9,76 9,76 36.\n",
      "46:::48 4561 CAPUSAN Vv MARIUS 6,00 5,70 635 46 47\n",
      "47:::49 4551 CATINAS Ih RADU OTNIEL 8,40 9,20 615 45 46\n",
      "48:::50 4489 CAZAC N SILVIU CONSTANTIN 6,03 600 5,20 18 19 15.\n",
      "49:::51 4685 CAZACU GH CONSTANTIN ADRIAN 7,06 6,70 6,70 12 20\n",
      "50:::46 4434 CALBOREAN P.S ADRIAN SERGIU 9,15 8,70 8,50 46.\n",
      "51:::52 4403 CEBUC E.l ANA MARIA 8,06 8,25 940 34 36 16 12\n",
      "52:::53 4427 CENAN S RADU CRISTIAN 8,25 9,60 6,70 O7 11 16 20 18\n",
      "53:::54 4621 CHIHAIA ( IULIANA 7,95 6,90 9,00 16.\n",
      "54:::55 4431 CHIOREAN Cc ELISA LAVINIA 648 6,95 6,40 19 18 16 11 14\n",
      "55:::56 4694 CHIUHAN M DAIANA CRISTINA 6,83 7,00 5,40 16 44 19 47,Nr Medie Gen NotaPr Nota\n",
      "56:::57 4566 CHMARA I VICTOR ALEXANDRU 8,41 8,15 850 04 14 16 19 11 15\n",
      "57:::58 4554 CIDOIU ANDREEA H ANDREEA 9,19 8,50 9,20 41 46 43.\n",
      "58:::59 4501 CIOANCA F HILDA ALETTA 7,63 5,70 9,00 44 46\n",
      "59:::60 4649 CIOC DZ DANIEL ALEXANDRU 686 8,05 6,10 18 19 12 16 11 14 46 47 42 44 41\n",
      "60:::61 4422 CIOCULESCU R EDUARD MIHAI 6,76 5,85 7,15 18 19 16 11°20\n",
      "61:::62 4573 CIOROBITCA C CONSTANTIN ANDREI 6,55 5,70 6,50 37 36 35\n",
      "62:::63 4659 CIOT P DRAGOS BOGDAN 6,63 7,70 5,00 19 18\n",
      "63:::64 4698 CIPCIGAN I CRISTINA OANA 10,00 9,45 8,75 07 \n",
      "64:::66 4479 CIUCA S PAULA ANDREEA 6,96 6,80 6,25 45 47 46 42 41 43\n",
      "65:::65 4436 CIRLAN G DIANA ANDREIA 7,76 7,45 880 15 18 13 12 19\n",
      "66:::67 4433 CLAPA SG AUN 7,26 5,20 845 37 36 19 12 18 16\n",
      "67:::68 4684 CONSTANTIN V ELENA IULIA 8,10 8,00 7,50 41 44\n",
      "68:::69 4429 CORCHIS N RADU NICOLAE 8,43 10,00 6,30 46.\n",
      "69:::70 4476 CORDIS N NICOLETA MARIA , 8,92 7,30 955 41\n",
      "70:::71 4511 COSOVAN G.N INGRID 7,70 6,50 7,45 46.\n",
      "71:::72 4689 COSTE I RAUL ADRIAN 9,38 9,05 9,10 13 \n",
      "72:::73 4443 COSTIN V ADRIAN TIBERIU 9,43 9,15 955 36 37,\n",
      "73:::74 4494 COTROAZA Cc AUREL COSMIN 6,58 5,20 7,55 13 \n",
      "74:::75 4976 COVACI G MARIA MONICA 9,27 9,60 7,30 69.\n",
      "75:::76 4912 CRACIUN P DANIEL LEONARD 7,78 5,35 6,50 59 61 62.\n",
      "76:::77 4495 CRISAN DM ADINA MIHAELA 9,81 9,20 990 46 41\n",
      "77:::78 4646 CRISAN | ANCA MARIA 8,13 8,40 830 11 16 15 04 14 18 19 12 13 20\n",
      "78:::79 4667 CURAC Vv ILEANA 6,43 7,00 5,80 46 41 47 44\n",
      "79:::80 4419 CURTEA M EMANUELA IULIA 9,41 9,50 9,00 44 41\n",
      "80:::81 4505 DAN D LORENA ANTONIA 7,35 6,40 7,00 46 41 47\n",
      "81:::82 4412 DANCI M | ROXANA CLAUDIA 7,43 8,05 6,05 16 15 18 19 12 20 11 14\n",
      "82:::83 4683 DANCI V.l IOANA TIMEEA 9,44 9,45 8,60 43 45 46 42 47 41\n",
      "83:::84 4525 DARABONT I NATALIA 7,28 6,95 815 18 19 16\n",
      "84:::85 4524 DASCALESCU P | ANCA NICOLETA 7,20 8,10 5,40 11, 16 15 18 19\n",
      "85:::86 4408 DEAC N DENISA NICOLETA 8,11 8,00 7,150 44.\n",
      "86:::87 4640 DEMIAN A.M ALEXANDRU IOSIF 7,05 6,00 6,15 14.16 15 12 13 18 14 19 20\n",
      "87:::88 4901 DEZSI Zz HENRIETTA 6,57 7,10 8,05 65 64 66 60 62.\n",
      "88:::89 4423 DINCA | DAYANA 9,20 9,70 9,70 46 \n",
      "89:::90 4666 DOHOTAR G GHEORGHE 6,38 5,00 6,85 16 11,18 15 12 19 41 44\n",
      "90:::91 201 DONOS P CONSTANTIN 6,50 5,00 7,00 16 141,\n",
      "91:::92 4914 DRAGU Cc DORIN NICOLAE 8,14 10,00 615 59 62\n",
      "92:::93 4439 DRON T ALINA 7,43 6,10 8,50 44 42\n",
      "93:::94 221 DUCA M TUDOR 7,50 7,00 8,00 15 16\n",
      "94:::95 4904 DUMITRU s FLORIN STELIAN 7,04 7,60 6,80 59 61 62,\n",
      "95:::96 44480 ENACHE E.V IOANA MAGDALENA 9,10 8,35 925 46 43 42\n",
      "96:::97 4461 ENACHE MM LILICA 7,40 6,50 7,50 46 47 41\n",
      "97:::98 4630 ERINCZ A ROLAND 8,21 6,50 7,00 46 \n",
      "98:::99 4507 FALAUS LV CALIN VASILE 6,50 6,65 6,20 42 46 41 43 47 44\n",
      "99:::100 4675 FARAGAU A PAUL BOGDAN 7,01 6,20 5,75 47 44\n",
      "100:::101 4482 FARCAS I SINZEANA MELISA 7,18 7,65 7,80 16 11\n",
      "101:::102 4498 FILIP L. L MARIA MAGDALENA 7,78 8,15 6,95 43 15\n",
      "102:::103 4601 FLOREA D.C MARCELA SILVIA 7,80 8,10 7,40 .12 18 19 15 13 16\n",
      "103:::104 4618 FLORESCU Hl | MIHAELA HRISA 9,15 9,25 8,70 46 \n",
      "104:::105 4606 FOGAS E. H SERGIU IONEL 9,93 8,70 915 11\n",
      "105:::106 4688 GALL Vs LEVENTE 7,23 5,65 810 37, 27 36 35 32 30 31\n",
      "106:::107 4454 GAZDAC c CATALIN 9,10 0,00 9,10 19 18 11\n",
      "107:::108 4563 GERGELY E IMRE SZABOLCS 8,06 8,25 835 30 31 32 33\n",
      "108:::109 4664 GILOAN T ANGELO VLAD 9,04 9,35 7,05 15 \n",
      "109:::110 4686 GOLLER A MIRCEA ADRIAN 8,65 8,40 855 34 15 12\n",
      "110:::112 4632 GORON I, ANTON IOAN 9,32 8,50 880 41 46 47\n",
      "111:::113 4497 GREABU N.D OANA MARIA 8,86 8,60 935 141 16 15 18 19\n",
      "112:::114 4612 GREC Vv RAMONA ROXANA 9,01 9,90 820 46 45 43 41 44 42\n",
      "113:::115 4472 GRUAC | NARCISA MARIA 9,30 8,85 9,05 0O7 16\n",
      "114:::116 4496 GROZAV R ALINA 9,24 8,80 915 45.\n",
      "115:::117 202 GURDUZ DUMITRU 6,60 6,75 7,05 20 16\n",
      "116:::118 4631 GUSAVAN D DUMITRU BOGDAN 8,80 9,25 8,60 45 46 41\n",
      "117:::119 4444 GYURKA zZ HUNOR 7,83 5,45 7,30 48 46 47 45\n",
      "118:::120 4426 HABA V. AL DIANA 7,76 6,00 880 12.16 20 19 11 18 15 14 13\n",
      "119:::121 4445 HAGAU N OANA ANDREEA 6,98 6,25 6,20 .45 41\n",
      "120:::122 217 HAMPEA N RARES MARIAN 6,43 5,70 5,00 56.\n",
      "121:::123 4663 HARAP D VERONICA ' 7,74 5,15 640 41.\n",
      "122:::124 4401 HAZOTA A ALEXANDRU CRISTIAN 6,93 9,15 6,35 18 46\n",
      "123:::125 4969 HAZOTA A ALEXANDRU CRISTIAN 6,93 9,15 6,35 69.\n",
      "124:::126 4405 HEGYI I LAURA 7,52 8,05 7,00 32 33 30 48\n",
      "125:::127 4447 HUIDES LE LAURA SIMONA 6,43 7,00 510 11 16 18 19\n",
      "126:::128 220 HULPE V VASILE DARIUS 5,12 5,12 5,12 18 11 13 15,ve Nr Leg Nume iF Prenume Menle Gen voce e ih nna, Optiuni\n",
      "127:::129 4620 HUZMEZAN I IONUT 6,36 6,40 5,70 44 41 42\n",
      "128:::130 4523 IANUS E MADALIN CONSTANTIN 7,01 7,30 5,20 46 \n",
      "129:::131 4474 IAZ F ALEXANDRA 6,82 5,00 7,55 48,\n",
      "130:::132 4407 |IAZU H.G ADRIANA CRISTINA 9,33 9,20 9,30 38, 19 18 15 12\n",
      "131:::133 4430 ILIES LF ALINA 931 9,35 9,00 1 16 18 19 14 12 15 13 20\n",
      "132:::134 4415 ILLES V NATALIA BIANCA 645 5,60 6,30 27.36 37 35 15 19 18\n",
      "133:::135 215 IONAS I ROMAN 8,00 8,00 7,00 16 36\n",
      "134:::136 4515 100 A ANDREI RARES 868 8,00 870 19 18 47 46\n",
      "135:::137 4682 IUGA S MARIA NICOLETA 805 825 6,90 07.11 16 04 14\n",
      "136:::138 4648 JURGIU T TITUS TIBERIU TREBONIU CORIC 7,91 9,35 7,10 18 19 15 20 11 16 14\n",
      "137:::139 4905 KATO A FERENC 6,00 6,30 6,90 64 66\n",
      "138:::140 4910 KOPACZ B LEVENTE BENEDEK 8,00 8,50 8,00 67 \n",
      "139:::141 4627 KORAZSAN T TIBERIA TEODORA 8,47 8,40 7,00 34.\n",
      "140:::142 4558 KOVACS S SZABOLCS ISTVAN 6,386 7,80 600 46 41 47 44\n",
      "141:::143 4911 LAKATOS L LASZLO 9,02 9,05 8,25 59 61, 62,\n",
      "142:::144 219 LAPTIACRU N NICOLAE 6,50 6,00 6,00 16.15 14\n",
      "143:::145 4450 LAZAR I LAVINIA DANIELA 6,56 6,50 6,60 16 19 18 14 21 12 13 15\n",
      "144:::146 4564 LAZAR Vv ANDREEA DANIELA 6,73 7,70 5,15 16.11 19 18\n",
      "145:::147 4413 LAZAR M CELIA 8,13 8,00 8,40 11 \n",
      "146:::148 4456 LIBER P MIHAELA 7 AL 6,65 7,00 11 16 15 13 12 14 18 19\n",
      "147:::149 205 LISTIUGHIN ‘GH TATIANA 7,50 7,50 7,50 35 11\n",
      "148:::150 4504 LORINCZ RO SZABOLCS CSABA 7,22 5,75 6,95 45 44 46\n",
      "149:::151 4463 LUBANSKI V DENISPIOTR 7,83 830 7,90 15.12 0414\n",
      "150:::452 4438 LUNGU G OVIDIU 780 7,45 7,15 14 15 12 16\n",
      "151:::153 4506 MAGDA Vv EMANUEL 8,64 7,55 6,10 46 18\n",
      "152:::154 4492 MAGHIAR Vv ADRIAN 7,34 5,20 7,00 42 \n",
      "153:::155 209 MALNASI AL IZABELLA ERZSEBET 7,20 7,20 7,20 19,\n",
      "154:::157 4556 MARIAN A. L ADELA 7,01 5,40 7,30 44 41\n",
      "155:::156 4487 MARIAN 1A CATALIN 6,13 5,00 7,65 46 41\n",
      "156:::158 4418 MARIN 1 DAVID ROBERT 6,08 5,75 5,50 47.\n",
      "157:::159 4626 MARINESCU E. M SABINA GABRIELA 6,78 5,00 7,45 19 18 12,\n",
      "158:::162 4464 MAXIAN A ROBERT ALEXANDRU 7,26 835 5,20 18 16 19 37 3615\n",
      "159:::163 4518 MAXIM F.A FLAVIUS 7,36 510 7,80 16 11 13\n",
      "160:::160 4510 MARMUREANU N ALEXANDRA CRISTINA 6,23 7,60 5,50 41.\n",
      "161:::164 4613 MELEN P ANDREI SEBASTIAN 651 600 6,00 07 19 1112 13 14 15 20 18\n",
      "162:::166 4973 MESAROS I IOAN 6,23 5,00 6,00 69 \n",
      "163:::165 4660 MESAROS Vv ADRIAN MESAROS 6,50 5,00 8,70 45 46 44\n",
      "164:::167 4644 MEZEI A KRISTINA ANAMARIA 7,98 8,10 7,90 16 44 15 43 11 41\n",
      "165:::168 4406 MICLEAN CIAPA Cl BIANCA 6,46 5,95 6,00 46 47 43 42 44 41 45\n",
      "166:::169 4624 MICULAICIUC S SONIA 711 600 660 18 11 07 16 15 12\n",
      "167:::170 4966 MIHALI P ALINA 8,22 8,00 7,30 70 \n",
      "168:::171 4513 MIKOLA VA GRETA MARTA 817 600 9,50 31 33 32 16 13 11\n",
      "169:::172 4691 MITRANICA | GABRIEL 861 7,80 835 46 47.\n",
      "170:::173 4559 MODOG M OCTAVIANA RALUCA 8,90 8,30 8,90 45 46\n",
      "171:::174 4619 MOLDOVAN Vv BIANCA DENISA 820 945 7,15 16 11 15\n",
      "172:::175 4617 MORA T FLAVIA ANDREEA 845 980 835 04 07 11 15 16 13 19 18 12 20\n",
      "173:::176 4552 MORARIU Vv OANA MARIA 7,68 8,80 8,75 43 47 44\n",
      "174:::177 207 MUNTEAN Ss ION 7,00 6,00 8,00 16, 15 19\n",
      "175:::179 4641 MURESAN G GEORGIANA COSMINA 8,98 9,75 8,35 44 \n",
      "176:::180 4679 MURESAN | ANAMARIA 610 5,10 630 411 19 18 12 13 15,\n",
      "177:::178 4465 MURESAN M ANDRADA 7,11 7,50 6,00 41 \n",
      "178:::181 4457 MUSAT S$ ROBERT MIHAI 685 7,85 5,10 11 16 12\n",
      "179:::182 4970 MUSTATA Cc ALEXANDRA IOANA 6,18 5,00 7,75 69.\n",
      "180:::183 4628 NEAMT A ANA MARIA 8,06 7,80 8,20 41 46\n",
      "181:::185 4636 NEAMTU Vv RAZVAN IOAN 640 7,90 5,90 15.1219 1811\n",
      "182:::184 4469 NEAMTU Vv VASILE MIHAI 6,73   5,00 6,70 41 46\n",
      "183:::186 4967 NEGREA P PAUL VASILE 9,15 9,05 860 70.\n",
      "184:::187 4574 NEGREA Vv MARIA SONIA 8,23 7,90 9,00 44 \n",
      "185:::188 4637 NISTOR M IULIAN MARIUS 7,66 7,20 8,00 20 16 11 15 07 18 19 12 13\n",
      "186:::189 4622 OANRA T CRINA ELENA 8,30 7,25 7,85 47 46 41 44 43\n",
      "187:::190 4485 OARA I ADRIAN CATALIN 6,36 6,50 7,30 45 11 41 18 46 19 47\n",
      "188:::191 4687 OLTEAN .F tULIU MATEI 9,28 8,90 8,40 45\"\n",
      "189:::192 4916 OLTEAN Vv ANA MARIA 7,06 5,00 7,85 59 61 62.\n",
      "190:::193 4634 ONTI M CRINA CAROLINA 848 645 9,25 O07 04 16 1118\n",
      "191:::194 4915 OPREA E CRISTIAN 6,53 5,10 6,00 59 62.\n",
      "192:::195 212 PALAMARCIUC 0 CRISTINA 7,25 6,00 7,00 12.19 18\n",
      "193:::196 4442 PANES A ELENA 7,28 6,40 7,45 19 18 11,\n",
      "194:::197 4700 PANESCU Vv ADINA 8,41 8,00 9,65 04 12 14 16 15 ‘\n",
      "195:::198 4981 PASARE DAN 6,13 500 7,90 70 199 4514 PASCA G FLORINA DENISA MIHAELA 8,28 8,85 8,10 43 i\n",
      "196:::200 4625 PAUL Vv CLAUDIA MARIOARA 6,73 5,95 6,10 16 19 11, S$ : \"ED .\n",
      "197:::4 Bp Sp\n",
      "198:::201 4421 PAUSAN V ALEXANDRU VICTOR : 6,03 5,80 6,55 20 16 19 12 15 18 14 11 13\n",
      "199:::202 4608 PERDE B ANDREEA DENISA 7,23 8,30 595 11 19 04 15 16 18 12 20\n",
      "200:::203 4491 PETA O.A LORENA 7,28 6,75 8,50 37 18 19\n",
      "201:::204 4460 PETEAN P PETRINA 7,14 7,85 5,00 18\n",
      "202:::205 4975 PETREUS V VASILE JUSTIN 6,71 7,00 5,00 69 \n",
      "203:::206 4493 PETRISOR D CRISTINA 7,96 6,60 8,30 18.\n",
      "204:::207 4553 PETROESC 1S ALEXANDRA DANIELA 6,90 5,00 7,20 43 46 42 47.\n",
      "205:::208 214 PIVEN] E EVGHENII 5,00 5,00 5,00 19.\n",
      "206:::209 4633 PLESCAN A PAUL ANDREI 6,80 6,00 6,00 11, 41 19 18\n",
      "207:::211 4673 PODAR N STEFAN 6,83 9,10 5,05 46 47 41 42\n",
      "208:::212 4409 PODEA T IONELA ANDRADA 6,56 7,00 7,70 13 18 19 12\n",
      "209:::213 211 POGRIBNIC M ELENA 7,75 8,00 7,00 16 11 15 19\n",
      "210:::219 4680 POP A DAN 7,68 6,30 685 11 15 16 12\n",
      "211:::217 4642 POP D RAMONA 9,38 .10,00 835 41 44\n",
      "212:::214 4428 POP El EDUARD , 6,33 5,85 8,00 35 37 36\n",
      "213:::220 4690 POP G DIANARALUCA 9,12 9,15 6,80 18 15 14 12\n",
      "214:::215 4484 POP P,V IONELA MARIA 6,83 6,40 7,50 11 16 18 19 41 44 46 47\n",
      "215:::218 4647 POP Vv LORENA LUMINITA 7,91 7,30 9,10 41, 44\n",
      "216:::216 4610 POP V.R REBEKA ANNA 7,28 8,20 7,60 33 32, 30 31\n",
      "217:::221 4615 PORFIRE N MADALINA NICOLETA 8,36 8,40 7,00 16 11 19 12 18\n",
      "218:::222 4402 POSTELNICU S BOGDAN 8,21 10,00 7,30 07 35, 11, 15 27 36.\n",
      "219:::223 4483 PREDA Ss MIHAI 9,36 9,60 850 07 16 15 18 19 11\n",
      "220:::224 4417 PRESCURA N ADELA 7,78 8,40 7,95 41.\n",
      "221:::225 4435 PRUTEANU A ANTONIU ALEXANDRU 6,20 5,00 6,20 15 14 19 18 13 12 11 16 20\n",
      "222:::226 4502 PUICAR T DENISA MARIANA 7,15 6,00 7,55 16 11 18 19 12 44 41 46 47 42\n",
      "223:::227 4478 RADU | ZAHARIE OVIDIU 8,36 9,00 7,37 44 47 46\n",
      "224:::228 4906 RAPO Vv ATTILA 8,22 7,90 6,85 59 61 62.\n",
      "225:::229 4414 RATIU Vv ALEXANDRU NICOLAE 6,66 5,40 6,45 18 19\n",
      "226:::230 4437 REDENSTEIN Cc ELENA OANA 8,86 9,90 7,45 15 16 19 18\n",
      "227:::231 4971 REDNIC P IULIANA MARIA 6,56 5,00 6,50 70 \n",
      "228:::232 4681 ROBERT M ROBERT , 8,00 8,65 7,745 48 \n",
      "229:::233 4662 ROMAN DACIAN LUCIAN 9,44 8,85 8,00 45 41\n",
      "230:::239 4965 RUS CV DANIEL 6,91 5,90 7,40 70.\n",
      "231:::235 4470 RUS | ANA MARIA 6,11 7,55 5,40 41 46 43 44\n",
      "232:::234 4452 RUS I IOANA NATALIA 9,53 10,00 8,70 16 18 19 12 15 20 13\n",
      "233:::238 4604 RUS M ANDREI 6,43 5,40 7,90 18 16 11 19 12\n",
      "234:::237 4568 RUS 0 DARIUS OVIDIU 6,15 5,70 5,80 19 18 15 12 13 20 16 11\n",
      "235:::236 4481 RUS “R OVIDIU ANDREI 7,45 7,40 7,85 46 43 42\n",
      "236:::240 4569 RUSEN L ALEXANDRA ELENA 8,33 7,05 9,55 19 18 12\n",
      "237:::241 4522 RUSU D ALEXANDRA COSMINA 9,17 8,70 9,40 43 44 42\n",
      "238:::242 4432 SACOTA N NICOLETA 6,31 5,00 645 11 12 15 19 18 16 13 14 20 41 42 43 47 46 44\n",
      "239:::243 4609 SATMAR Vv OVIDIU LUCIAN 6,18 5,60 5,30 44 43\n",
      "240:::244 4512 SAVU S.P. CARMEN VOICHITA 9,90 9,85 955 04 14\n",
      "241:::245 4980 SCOPET T FEDOR 6,66 6,00 7,00 70 \n",
      "242:::246 4446 SCRIPCA T TATIANA FLORENTINA 6,60 6,00 6,00 41 44 42 43\n",
      "243:::247 4629 SCROBOTA I EMANUELA MADALINA 7,80 7,40 845 41 47 44 46\n",
      "244:::248 4623 SCURTU M.G RAZVAN ANDREI 7,48 7,40 7,20 19 12, 13,\n",
      "245:::249 4692 SESERMAN R ADELA 9,34 9,15 10,00 41 \n",
      "246:::251 4661 SILAGHI D PATRIK ADRIAN 6,23 5,00 7,50 11, 16 19 18\n",
      "247:::250 4614 SILAGHI 1 ADRIAN FLAVIU IONUT 7,05 7,10 680 07 20 35 11 12 37 18 19 36 16\n",
      "248:::252 4477 SIMON A ROBERT 6,18 6,85 5,80 32 33 30 18 19 06\n",
      "249:::254 4616 SIMON G ALEXANDRU IOAN 6,50 6,20 5,55 14.16 14 19 18 12 13 2015\n",
      "250:::253 4607 SIMON M MIHAELA FLORENTINA 8,36 8,05 9,30 16 19 18 15\n",
      "251:::255 4488 SIPOS I ADELA LAURA 8,06 7,40 850 18 16 19 12 14 11 15\n",
      "252:::256 4519 SMADICI M ALEXANDRA 6,50 5,00 6,20 11 16 18\n",
      "253:::258 4520 SOPON I, ELENA ALEXANDRA 9,75 9,65 9,50 41 44.\n",
      "254:::259 4468 SORA M ALEXANDRU CATALIN 7,75 8,65 5,65 18, 19 12\n",
      "255:::260 216 SOS LS ROXANA STELIANA 6,40 6,40 6,40 11, 16 20\n",
      "256:::261 4674 STANCIU D | DAN ANDREI 6,38 6,90 6,90 16 19 18\n",
      "257:::262 4453 STETCO G.G, {!USTIN RENE IONUT 6,46 5,00 6,80 43 46 42 41,\n",
      "258:::263 4404 STICLARU M MARCELA ALEXANDRA 7,30 5,30 7,80 16.\n",
      "259:::265 4672 STOIAN Vv GHEORGHE LADISLAU 7,68 8,30 6,50 44 41 46 47.\n",
      "260:::266 4555 STRUGAR G ANCA IOANA 8,55 9,30 7,25 44 47, 46\n",
      "261:::267 4645 SZALASI A EDWARD DACIAN 6,15 5,10 6,30 19 16 11 18 15 12 13 14 20\n",
      "262:::270 4670 SZEKELY G IULIA MARIA 8,33 8,30 7,60 12, 19 18\n",
      "263:::269 4475 SZEKELY G EVA ROZALIA 6,86 5,45 8,70 41 48 44\n",
      "264:::268 4471 SZEKELY K TIMEA ERZSEBET 8,12 6,65 9,00 12 18 11 19\n",
      "265:::271 4517 SZEP A ATTILA 7,28 8,05 6,45 33 32:30 15 14\n",
      "266:::272 4416 SZOCS AS PETER ROBERT 6,10 5,25 5,95 48\n",
      "267:::257 4473 SOMCUTEAN L ROZALIA LOREDANA 7,50 7,40 6,30 45 42, 43 44 46 47.\n",
      "268:::264 4467 STIR R RUDOLF EMANUEL 6,38 680 7,35 19Nr Medie Gen NotaPr Nota\n",
      "269:::273 4560 TAKACS T BERNADETT 7,53 7,05 845 41 44\n",
      "270:::274 4652 TANTAU I ILEANA LETITIA 8,15 9,00 8,25 46 43\n",
      "271:::275 4653 TAUT l RALUCA IOANA 7,11 7,30 7,30 16 11.15 18 12\n",
      "272:::276 4974 TIFRAC | DANIELA 6,02 5,00 5,00 69.\n",
      "273:::277 4964 TIMIS G GEORGIANA ECATERINA 8,33 7,40 8,90 69.\n",
      "274:::278 4963 TIPLEA P MARIA 7,30 8,35 5,85 69 \n",
      "275:::279 4486 TISE P IOANA CAMELIA 6,28 5,75 5,00 44.\n",
      "276:::280 4459 TODOR A ALEXANDRU , 6,21 5,40 6,20 44\n",
      "277:::281 4668 TODOR I VALTER 6,17 6,50 6,10 31 32 33,\n",
      "278:::282 4466 TOMA A ANDREI 6,35 8,70 5,00 42 47,\n",
      "279:::283 4978 TOMOIAGA M ALINA MARIA 9,14 8,40 8,10 70,\n",
      "280:::284 4979 TOMOIAGA V MARIA 6,16 6,00 5,10 70.\n",
      "281:::285 4516 TOPAN D BOGDAN MIHAI 6,88 5,05 7,40 18 16 19 15\n",
      "282:::286 4643 TOROK l NORBERT ZSOLT 8,23 8,10 7,95 47 46 43.\n",
      "283:::287 4903 TUZES E IBOLYA 6,58 5,00 8,12 59 67,\n",
      "284:::288 4693 UJVARI N GABOR OTTO 6,65 6,35 8,90 32 33 30\n",
      "285:::289 4458 UNGUREANU Vv RAZVAN NICOLAE 6,98 5,40 850 46.\n",
      "286:::290 4448 VADAN | ANAMARIA MERY 7,50 5,40 5,40 43 42\n",
      "287:::291 4605 VAIDA Zz HELGA 6,32 5,75 5,10 32, 33 30\n",
      "288:::292 4917 VAJDA A EVA 7,71 8,15 9,30 64 66\n",
      "289:::293 4420 VALEAN L STEFAN ILIE 7,21 7,20 5,90 47 46.\n",
      "290:::294 4697 VANCEA 1 IOAN CLAUDIU 6,10 5,80 5,80 41 43\n",
      "291:::295 4638 VASIAC D LIVIU DANIEL LUIGI 6,73 6,80 7,70 14 16 15 18 20 12 19\n",
      "292:::296 4968 VASIES | IONELA CRISTINA 6,48 6,40 5,70 70 \n",
      "293:::297 4658 VASILICA 1 RALUCA CLAUDIA 8,40 9,60 6,40 11 16\n",
      "294:::298 4449 VASS D DENES MADALIN 9,11 8,10 6,85 O07.\n",
      "295:::299 4451 VASTAG R RAUL STEFAN 6,23 5,50 6,70 16 14 15 20 18 11,13 12 19\n",
      "296:::300 8 ©4455 VIGA I IONEL DANIEL 6,26 6,60 5,50 44 47 46 16 19 18 13\n",
      "297:::301 4650 VILD E ERNEST 7,10 6,20 6,00 04 18 19 16 15 11 14 13 12 20\n",
      "298:::302 4907 VIRAG I JOZSEF 7,84 8,80 7,50 67 \n",
      "299:::303 4567 VITISAN G.B ADELINAEMILIA 9,40 7,90 9,50 44 41\n",
      "300:::304 4503 VLASA M MIHAI 6,45 5,00 5,00 46 47\n",
      "301:::305 204 ZACHARIS K GEORGIOS 5,00 5,00 5,00 19 15 18 37 16 11\n",
      "302:::306 203 ZADOROINII © A IULIANA 6,50 6,00 6,00 15, 16 19\n",
      "303:::307 4677 ZAGREAN D ANCUJA DIANA 6,36 5,00 5,30 41.\n",
      "304:::308 4425 ZEGREAN D ANA MARIA 7,51 6,60 8,00 11\n",
      "305:::309 7908 ZSIGA M KAROLA , 7,32 6,95 8,40 64 59\n",
      "306:::310 4410 ZSURZSAN G. ZS, VIVIEN MERCEDESZ 8,02 7,20 8,65 27 36 37 18 19 16\n",
      "307:::311 4562 ZUGRAV | IOANA / 6,58 5,00 6,75 15 12\n"
     ]
    }
   ],
   "source": [
    "for i,l in enumerate(good_lines):\n",
    "    print(str(i)+':::'+l)"
   ]
  },
  {
   "cell_type": "code",
   "execution_count": 331,
   "metadata": {},
   "outputs": [],
   "source": [
    "good_lines[126]=good_lines[126].split(',ve Nr Leg')[0]"
   ]
  },
  {
   "cell_type": "code",
   "execution_count": 332,
   "metadata": {},
   "outputs": [],
   "source": [
    "good_lines[146]=good_lines[146].replace('7 AL','7,41')"
   ]
  },
  {
   "cell_type": "code",
   "execution_count": 333,
   "metadata": {},
   "outputs": [],
   "source": [
    "helper=good_lines[195].split('199 4514')\n",
    "good_lines[195]=helper[0]\n",
    "good_lines.append('199 4514'+helper[1])"
   ]
  },
  {
   "cell_type": "markdown",
   "metadata": {},
   "source": [
    "Adatok feldolgozása"
   ]
  },
  {
   "cell_type": "markdown",
   "metadata": {},
   "source": [
    "A név nem mindenhol ugyanolyan hosszú, ezért ezt normalizáljuk.  \n",
    "A név második neve, az iniciálő sokszor `1` vagy `|`, `l`, `I`. Ezt normalizáljuk I-re."
   ]
  },
  {
   "cell_type": "code",
   "execution_count": 334,
   "metadata": {},
   "outputs": [
    {
     "name": "stdout",
     "output_type": "stream",
     "text": [
      "HIBA: 4 Bp Sp\n"
     ]
    }
   ],
   "source": [
    "clean_lines=[]\n",
    "for line in good_lines:\n",
    "    values=line.split(' ')\n",
    "    \n",
    "    try:\n",
    "        for k in [2,3,4]:\n",
    "            values[k]=values[k].replace('1','I').replace('l','I')\\\n",
    "                .replace('|','I').replace('7','I').replace('0','O')\n",
    "\n",
    "        counter=0\n",
    "        name_start=100\n",
    "        name_end=0\n",
    "        while counter<len(values)-1:\n",
    "            counter+=1\n",
    "            try:\n",
    "                if not values[counter][0].isdigit():\n",
    "                    name_start=min(name_start,counter)\n",
    "                    if values[counter+1][0].isdigit():\n",
    "                        name_end=counter+1\n",
    "                        counter=len(values)\n",
    "            except:\n",
    "                print('HIBA: '+line)\n",
    "    \n",
    "        clean_values=values[:name_start]+[' '.join(values[name_start:name_end])]+values[name_end:]\n",
    "        clean_values=[szo for szo in clean_values if szo]\n",
    "        clean_lines.append(clean_values)\n",
    "\n",
    "    except:\n",
    "        print('HIBA: '+line)"
   ]
  },
  {
   "cell_type": "code",
   "execution_count": 341,
   "metadata": {},
   "outputs": [
    {
     "data": {
      "text/html": [
       "<div>\n",
       "<style scoped>\n",
       "    .dataframe tbody tr th:only-of-type {\n",
       "        vertical-align: middle;\n",
       "    }\n",
       "\n",
       "    .dataframe tbody tr th {\n",
       "        vertical-align: top;\n",
       "    }\n",
       "\n",
       "    .dataframe thead th {\n",
       "        text-align: right;\n",
       "    }\n",
       "</style>\n",
       "<table border=\"1\" class=\"dataframe\">\n",
       "  <thead>\n",
       "    <tr style=\"text-align: right;\">\n",
       "      <th></th>\n",
       "      <th>ID</th>\n",
       "      <th>Leg</th>\n",
       "      <th>Nume</th>\n",
       "      <th>Admitere</th>\n",
       "      <th>Bac 2</th>\n",
       "      <th>Lb. Mat.</th>\n",
       "    </tr>\n",
       "  </thead>\n",
       "  <tbody>\n",
       "    <tr>\n",
       "      <th>0</th>\n",
       "      <td>1</td>\n",
       "      <td>4696</td>\n",
       "      <td>ACHIM O.A ANDREEA MAGDALENA</td>\n",
       "      <td>9.56</td>\n",
       "      <td>9.5</td>\n",
       "      <td>9.70</td>\n",
       "    </tr>\n",
       "    <tr>\n",
       "      <th>1</th>\n",
       "      <td>3</td>\n",
       "      <td>4441</td>\n",
       "      <td>ALBERT J CSILLA EDIT</td>\n",
       "      <td>6.76</td>\n",
       "      <td>5.7</td>\n",
       "      <td>7.80</td>\n",
       "    </tr>\n",
       "    <tr>\n",
       "      <th>2</th>\n",
       "      <td>2</td>\n",
       "      <td>208</td>\n",
       "      <td>ALBERT Vv IULAN</td>\n",
       "      <td>6.10</td>\n",
       "      <td>5.2</td>\n",
       "      <td>6.00</td>\n",
       "    </tr>\n",
       "    <tr>\n",
       "      <th>3</th>\n",
       "      <td>4</td>\n",
       "      <td>4500</td>\n",
       "      <td>ALEXAN A MARIOARA</td>\n",
       "      <td>7.82</td>\n",
       "      <td>7.0</td>\n",
       "      <td>8.55</td>\n",
       "    </tr>\n",
       "    <tr>\n",
       "      <th>4</th>\n",
       "      <td>5</td>\n",
       "      <td>4565</td>\n",
       "      <td>AMBRUS T TIBOR</td>\n",
       "      <td>8.36</td>\n",
       "      <td>9.1</td>\n",
       "      <td>9.40</td>\n",
       "    </tr>\n",
       "  </tbody>\n",
       "</table>\n",
       "</div>"
      ],
      "text/plain": [
       "  ID   Leg                         Nume  Admitere  Bac 2  Lb. Mat.\n",
       "0  1  4696  ACHIM O.A ANDREEA MAGDALENA      9.56    9.5      9.70\n",
       "1  3  4441         ALBERT J CSILLA EDIT      6.76    5.7      7.80\n",
       "2  2   208              ALBERT Vv IULAN      6.10    5.2      6.00\n",
       "3  4  4500            ALEXAN A MARIOARA      7.82    7.0      8.55\n",
       "4  5  4565               AMBRUS T TIBOR      8.36    9.1      9.40"
      ]
     },
     "execution_count": 341,
     "metadata": {},
     "output_type": "execute_result"
    }
   ],
   "source": [
    "df=pd.DataFrame(clean_lines)\n",
    "df=df[range(6)]\n",
    "df.columns=['ID','Leg','Nume','Admitere','Bac 2','Lb. Mat.']\n",
    "df.head()"
   ]
  },
  {
   "cell_type": "code",
   "execution_count": 350,
   "metadata": {},
   "outputs": [],
   "source": [
    "df.to_excel('pdf/'+PDF_file+'/data.xlsx')"
   ]
  },
  {
   "cell_type": "markdown",
   "metadata": {},
   "source": [
    "### extra"
   ]
  },
  {
   "cell_type": "markdown",
   "metadata": {},
   "source": [
    "Ez a további rész további tisztítás, ezt végezhetjük már akár Excelben is."
   ]
  },
  {
   "cell_type": "markdown",
   "metadata": {},
   "source": [
    "A jegyeknél vagy ahol hiányzik a vessző. Ezt úgy vizsgáljuk, hogy a az első karater után mindig vesszőt teszük, ha már nincs. Aztán számokká konvertáljuk."
   ]
  },
  {
   "cell_type": "code",
   "execution_count": 340,
   "metadata": {},
   "outputs": [],
   "source": [
    "for line in clean_lines:\n",
    "    try:\n",
    "        for i in [3,4,5]:\n",
    "            jegy=line[i]\n",
    "            jegy=jegy.replace('.',',')\n",
    "            jegy=jegy.replace('I','1').replace('l','1')\\\n",
    "                .replace('|','1').replace('A','4').replace('O','0')\n",
    "\n",
    "            if jegy[0]==',':jegy=jegy[1:]\n",
    "            if jegy[-1]==',':jegy=jegy[:-1]\n",
    "            if jegy!='10,00':\n",
    "                if jegy!='1000':\n",
    "                    if len(jegy)<4:\n",
    "                        jegy=jegy[0]+','+jegy[1:]\n",
    "                    jegy=float(jegy.replace(',','.'))\n",
    "                else: jegy=10\n",
    "            else: jegy=10\n",
    "            line[i]=jegy\n",
    "    except:\n",
    "        print(line)"
   ]
  },
  {
   "cell_type": "code",
   "execution_count": 342,
   "metadata": {},
   "outputs": [
    {
     "data": {
      "text/html": [
       "<div>\n",
       "<style scoped>\n",
       "    .dataframe tbody tr th:only-of-type {\n",
       "        vertical-align: middle;\n",
       "    }\n",
       "\n",
       "    .dataframe tbody tr th {\n",
       "        vertical-align: top;\n",
       "    }\n",
       "\n",
       "    .dataframe thead th {\n",
       "        text-align: right;\n",
       "    }\n",
       "</style>\n",
       "<table border=\"1\" class=\"dataframe\">\n",
       "  <thead>\n",
       "    <tr style=\"text-align: right;\">\n",
       "      <th></th>\n",
       "      <th>ID</th>\n",
       "      <th>Leg</th>\n",
       "      <th>Nume</th>\n",
       "      <th>Admitere</th>\n",
       "      <th>Bac 2</th>\n",
       "      <th>Lb. Mat.</th>\n",
       "    </tr>\n",
       "  </thead>\n",
       "  <tbody>\n",
       "    <tr>\n",
       "      <th>0</th>\n",
       "      <td>1</td>\n",
       "      <td>4696</td>\n",
       "      <td>ACHIM O.A ANDREEA MAGDALENA</td>\n",
       "      <td>9.56</td>\n",
       "      <td>9.5</td>\n",
       "      <td>9.70</td>\n",
       "    </tr>\n",
       "    <tr>\n",
       "      <th>1</th>\n",
       "      <td>3</td>\n",
       "      <td>4441</td>\n",
       "      <td>ALBERT J CSILLA EDIT</td>\n",
       "      <td>6.76</td>\n",
       "      <td>5.7</td>\n",
       "      <td>7.80</td>\n",
       "    </tr>\n",
       "    <tr>\n",
       "      <th>2</th>\n",
       "      <td>2</td>\n",
       "      <td>208</td>\n",
       "      <td>ALBERT Vv IULAN</td>\n",
       "      <td>6.10</td>\n",
       "      <td>5.2</td>\n",
       "      <td>6.00</td>\n",
       "    </tr>\n",
       "    <tr>\n",
       "      <th>3</th>\n",
       "      <td>4</td>\n",
       "      <td>4500</td>\n",
       "      <td>ALEXAN A MARIOARA</td>\n",
       "      <td>7.82</td>\n",
       "      <td>7.0</td>\n",
       "      <td>8.55</td>\n",
       "    </tr>\n",
       "    <tr>\n",
       "      <th>4</th>\n",
       "      <td>5</td>\n",
       "      <td>4565</td>\n",
       "      <td>AMBRUS T TIBOR</td>\n",
       "      <td>8.36</td>\n",
       "      <td>9.1</td>\n",
       "      <td>9.40</td>\n",
       "    </tr>\n",
       "  </tbody>\n",
       "</table>\n",
       "</div>"
      ],
      "text/plain": [
       "  ID   Leg                         Nume  Admitere  Bac 2  Lb. Mat.\n",
       "0  1  4696  ACHIM O.A ANDREEA MAGDALENA      9.56    9.5      9.70\n",
       "1  3  4441         ALBERT J CSILLA EDIT      6.76    5.7      7.80\n",
       "2  2   208              ALBERT Vv IULAN      6.10    5.2      6.00\n",
       "3  4  4500            ALEXAN A MARIOARA      7.82    7.0      8.55\n",
       "4  5  4565               AMBRUS T TIBOR      8.36    9.1      9.40"
      ]
     },
     "execution_count": 342,
     "metadata": {},
     "output_type": "execute_result"
    }
   ],
   "source": [
    "df=pd.DataFrame(clean_lines)\n",
    "df=df[range(6)]\n",
    "df.columns=['ID','Leg','Nume','Admitere','Bac 2','Lb. Mat.']\n",
    "df.head()"
   ]
  },
  {
   "cell_type": "code",
   "execution_count": 349,
   "metadata": {},
   "outputs": [
    {
     "data": {
      "text/html": [
       "<div>\n",
       "<style scoped>\n",
       "    .dataframe tbody tr th:only-of-type {\n",
       "        vertical-align: middle;\n",
       "    }\n",
       "\n",
       "    .dataframe tbody tr th {\n",
       "        vertical-align: top;\n",
       "    }\n",
       "\n",
       "    .dataframe thead th {\n",
       "        text-align: right;\n",
       "    }\n",
       "</style>\n",
       "<table border=\"1\" class=\"dataframe\">\n",
       "  <thead>\n",
       "    <tr style=\"text-align: right;\">\n",
       "      <th></th>\n",
       "      <th>ID</th>\n",
       "      <th>Leg</th>\n",
       "      <th>Nume</th>\n",
       "      <th>Admitere</th>\n",
       "      <th>Bac 2</th>\n",
       "      <th>Lb. Mat.</th>\n",
       "      <th>Mean</th>\n",
       "    </tr>\n",
       "  </thead>\n",
       "  <tbody>\n",
       "    <tr>\n",
       "      <th>0</th>\n",
       "      <td>1</td>\n",
       "      <td>4696</td>\n",
       "      <td>ACHIM O.A ANDREEA MAGDALENA</td>\n",
       "      <td>9.56</td>\n",
       "      <td>9.50</td>\n",
       "      <td>9.70</td>\n",
       "      <td>9.586667</td>\n",
       "    </tr>\n",
       "    <tr>\n",
       "      <th>1</th>\n",
       "      <td>3</td>\n",
       "      <td>4441</td>\n",
       "      <td>ALBERT J CSILLA EDIT</td>\n",
       "      <td>6.76</td>\n",
       "      <td>5.70</td>\n",
       "      <td>7.80</td>\n",
       "      <td>6.753333</td>\n",
       "    </tr>\n",
       "    <tr>\n",
       "      <th>2</th>\n",
       "      <td>2</td>\n",
       "      <td>208</td>\n",
       "      <td>ALBERT Vv IULAN</td>\n",
       "      <td>6.10</td>\n",
       "      <td>5.20</td>\n",
       "      <td>6.00</td>\n",
       "      <td>5.766667</td>\n",
       "    </tr>\n",
       "    <tr>\n",
       "      <th>3</th>\n",
       "      <td>4</td>\n",
       "      <td>4500</td>\n",
       "      <td>ALEXAN A MARIOARA</td>\n",
       "      <td>7.82</td>\n",
       "      <td>7.00</td>\n",
       "      <td>8.55</td>\n",
       "      <td>7.790000</td>\n",
       "    </tr>\n",
       "    <tr>\n",
       "      <th>4</th>\n",
       "      <td>5</td>\n",
       "      <td>4565</td>\n",
       "      <td>AMBRUS T TIBOR</td>\n",
       "      <td>8.36</td>\n",
       "      <td>9.10</td>\n",
       "      <td>9.40</td>\n",
       "      <td>8.953333</td>\n",
       "    </tr>\n",
       "    <tr>\n",
       "      <th>...</th>\n",
       "      <td>...</td>\n",
       "      <td>...</td>\n",
       "      <td>...</td>\n",
       "      <td>...</td>\n",
       "      <td>...</td>\n",
       "      <td>...</td>\n",
       "      <td>...</td>\n",
       "    </tr>\n",
       "    <tr>\n",
       "      <th>303</th>\n",
       "      <td>308</td>\n",
       "      <td>4425</td>\n",
       "      <td>ZEGREAN D ANA MARIA</td>\n",
       "      <td>7.51</td>\n",
       "      <td>6.60</td>\n",
       "      <td>8.00</td>\n",
       "      <td>7.370000</td>\n",
       "    </tr>\n",
       "    <tr>\n",
       "      <th>304</th>\n",
       "      <td>309</td>\n",
       "      <td>7908</td>\n",
       "      <td>ZSIGA M KAROLA ,</td>\n",
       "      <td>7.32</td>\n",
       "      <td>6.95</td>\n",
       "      <td>8.40</td>\n",
       "      <td>7.556667</td>\n",
       "    </tr>\n",
       "    <tr>\n",
       "      <th>305</th>\n",
       "      <td>310</td>\n",
       "      <td>4410</td>\n",
       "      <td>ZSURZSAN G. ZS, VIVIEN MERCEDESZ</td>\n",
       "      <td>8.02</td>\n",
       "      <td>7.20</td>\n",
       "      <td>8.65</td>\n",
       "      <td>7.956667</td>\n",
       "    </tr>\n",
       "    <tr>\n",
       "      <th>306</th>\n",
       "      <td>311</td>\n",
       "      <td>4562</td>\n",
       "      <td>ZUGRAV I IOANA /</td>\n",
       "      <td>6.58</td>\n",
       "      <td>5.00</td>\n",
       "      <td>6.75</td>\n",
       "      <td>6.110000</td>\n",
       "    </tr>\n",
       "    <tr>\n",
       "      <th>307</th>\n",
       "      <td>199</td>\n",
       "      <td>4514</td>\n",
       "      <td>PASCA G FLORINA DENISA MIHAELA</td>\n",
       "      <td>8.28</td>\n",
       "      <td>8.85</td>\n",
       "      <td>8.10</td>\n",
       "      <td>8.410000</td>\n",
       "    </tr>\n",
       "  </tbody>\n",
       "</table>\n",
       "<p>308 rows × 7 columns</p>\n",
       "</div>"
      ],
      "text/plain": [
       "      ID   Leg                              Nume  Admitere  Bac 2  Lb. Mat.  \\\n",
       "0      1  4696       ACHIM O.A ANDREEA MAGDALENA      9.56   9.50      9.70   \n",
       "1      3  4441              ALBERT J CSILLA EDIT      6.76   5.70      7.80   \n",
       "2      2   208                   ALBERT Vv IULAN      6.10   5.20      6.00   \n",
       "3      4  4500                 ALEXAN A MARIOARA      7.82   7.00      8.55   \n",
       "4      5  4565                    AMBRUS T TIBOR      8.36   9.10      9.40   \n",
       "..   ...   ...                               ...       ...    ...       ...   \n",
       "303  308  4425               ZEGREAN D ANA MARIA      7.51   6.60      8.00   \n",
       "304  309  7908                  ZSIGA M KAROLA ,      7.32   6.95      8.40   \n",
       "305  310  4410  ZSURZSAN G. ZS, VIVIEN MERCEDESZ      8.02   7.20      8.65   \n",
       "306  311  4562                  ZUGRAV I IOANA /      6.58   5.00      6.75   \n",
       "307  199  4514    PASCA G FLORINA DENISA MIHAELA      8.28   8.85      8.10   \n",
       "\n",
       "         Mean  \n",
       "0    9.586667  \n",
       "1    6.753333  \n",
       "2    5.766667  \n",
       "3    7.790000  \n",
       "4    8.953333  \n",
       "..        ...  \n",
       "303  7.370000  \n",
       "304  7.556667  \n",
       "305  7.956667  \n",
       "306  6.110000  \n",
       "307  8.410000  \n",
       "\n",
       "[308 rows x 7 columns]"
      ]
     },
     "execution_count": 349,
     "metadata": {},
     "output_type": "execute_result"
    }
   ],
   "source": [
    "df['Mean']=df.mean(axis=1)\n",
    "df"
   ]
  }
 ],
 "metadata": {
  "kernelspec": {
   "display_name": "Python 3",
   "language": "python",
   "name": "python3"
  },
  "language_info": {
   "codemirror_mode": {
    "name": "ipython",
    "version": 3
   },
   "file_extension": ".py",
   "mimetype": "text/x-python",
   "name": "python",
   "nbconvert_exporter": "python",
   "pygments_lexer": "ipython3",
   "version": "3.7.4"
  }
 },
 "nbformat": 4,
 "nbformat_minor": 4
}
