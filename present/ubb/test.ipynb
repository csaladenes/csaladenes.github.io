{
 "cells": [
  {
   "cell_type": "markdown",
   "metadata": {},
   "source": [
    "# Sapientia adattudomány képzéssorozat\n",
    "# első rész: adatvizualizáció"
   ]
  },
  {
   "cell_type": "markdown",
   "metadata": {},
   "source": [
    "Bővítőcsomagok importálása:"
   ]
  },
  {
   "cell_type": "code",
   "execution_count": 4,
   "metadata": {
    "collapsed": false
   },
   "outputs": [],
   "source": [
    "import pandas as pd\n",
    "import html5lib"
   ]
  },
  {
   "cell_type": "code",
   "execution_count": 5,
   "metadata": {
    "collapsed": true
   },
   "outputs": [],
   "source": [
    "import matplotlib.pyplot as plt\n",
    "%matplotlib inline "
   ]
  },
  {
   "cell_type": "markdown",
   "metadata": {
    "collapsed": true
   },
   "source": [
    "Romániai lakosság letöltése INSSE-ról:"
   ]
  },
  {
   "cell_type": "markdown",
   "metadata": {},
   "source": [
    "Előzetesen letöltött fájlútvonalt használunk."
   ]
  },
  {
   "cell_type": "code",
   "execution_count": 8,
   "metadata": {
    "collapsed": true
   },
   "outputs": [],
   "source": [
    "csv_path='exportPivot_POP105A.csv' #SAJAT HELY CSV FILE"
   ]
  },
  {
   "cell_type": "code",
   "execution_count": 9,
   "metadata": {
    "collapsed": false
   },
   "outputs": [],
   "source": [
    "df=pd.read_csv(csv_path)"
   ]
  },
  {
   "cell_type": "code",
   "execution_count": 10,
   "metadata": {
    "collapsed": false,
    "scrolled": true
   },
   "outputs": [
    {
     "data": {
      "text/html": [
       "<div>\n",
       "<table border=\"1\" class=\"dataframe\">\n",
       "  <thead>\n",
       "    <tr style=\"text-align: right;\">\n",
       "      <th></th>\n",
       "      <th>Varste si grupe de varsta</th>\n",
       "      <th>Sexe</th>\n",
       "      <th>Medii de rezidenta</th>\n",
       "      <th>Macroregiuni  regiuni de dezvoltare si judete</th>\n",
       "      <th>Ani</th>\n",
       "      <th>UM: Numar persoane</th>\n",
       "      <th>Valoare</th>\n",
       "    </tr>\n",
       "  </thead>\n",
       "  <tbody>\n",
       "    <tr>\n",
       "      <th>0</th>\n",
       "      <td>Total</td>\n",
       "      <td>Total</td>\n",
       "      <td>Total</td>\n",
       "      <td>Covasna</td>\n",
       "      <td>Anul 2012</td>\n",
       "      <td>Numar persoane</td>\n",
       "      <td>209713</td>\n",
       "    </tr>\n",
       "    <tr>\n",
       "      <th>1</th>\n",
       "      <td>Total</td>\n",
       "      <td>Total</td>\n",
       "      <td>Total</td>\n",
       "      <td>Covasna</td>\n",
       "      <td>Anul 2013</td>\n",
       "      <td>Numar persoane</td>\n",
       "      <td>208976</td>\n",
       "    </tr>\n",
       "    <tr>\n",
       "      <th>2</th>\n",
       "      <td>Total</td>\n",
       "      <td>Total</td>\n",
       "      <td>Total</td>\n",
       "      <td>Covasna</td>\n",
       "      <td>Anul 2014</td>\n",
       "      <td>Numar persoane</td>\n",
       "      <td>208628</td>\n",
       "    </tr>\n",
       "    <tr>\n",
       "      <th>3</th>\n",
       "      <td>Total</td>\n",
       "      <td>Total</td>\n",
       "      <td>Total</td>\n",
       "      <td>Covasna</td>\n",
       "      <td>Anul 2015</td>\n",
       "      <td>Numar persoane</td>\n",
       "      <td>207596</td>\n",
       "    </tr>\n",
       "    <tr>\n",
       "      <th>4</th>\n",
       "      <td>Total</td>\n",
       "      <td>Total</td>\n",
       "      <td>Total</td>\n",
       "      <td>Covasna</td>\n",
       "      <td>Anul 2016</td>\n",
       "      <td>Numar persoane</td>\n",
       "      <td>206322</td>\n",
       "    </tr>\n",
       "  </tbody>\n",
       "</table>\n",
       "</div>"
      ],
      "text/plain": [
       "  Varste si grupe de varsta    Sexe  Medii de rezidenta  \\\n",
       "0                     Total   Total               Total   \n",
       "1                     Total   Total               Total   \n",
       "2                     Total   Total               Total   \n",
       "3                     Total   Total               Total   \n",
       "4                     Total   Total               Total   \n",
       "\n",
       "   Macroregiuni  regiuni de dezvoltare si judete         Ani  \\\n",
       "0                                        Covasna   Anul 2012   \n",
       "1                                        Covasna   Anul 2013   \n",
       "2                                        Covasna   Anul 2014   \n",
       "3                                        Covasna   Anul 2015   \n",
       "4                                        Covasna   Anul 2016   \n",
       "\n",
       "   UM: Numar persoane   Valoare  \n",
       "0      Numar persoane    209713  \n",
       "1      Numar persoane    208976  \n",
       "2      Numar persoane    208628  \n",
       "3      Numar persoane    207596  \n",
       "4      Numar persoane    206322  "
      ]
     },
     "execution_count": 10,
     "metadata": {},
     "output_type": "execute_result"
    }
   ],
   "source": [
    "df.head()"
   ]
  },
  {
   "cell_type": "markdown",
   "metadata": {},
   "source": [
    "Wikipédia táblázatok letöltése"
   ]
  },
  {
   "cell_type": "code",
   "execution_count": 14,
   "metadata": {
    "collapsed": true
   },
   "outputs": [],
   "source": [
    "wiki_path=\"http://hu.wikipedia.org/wiki/Csíkszereda\""
   ]
  },
  {
   "cell_type": "markdown",
   "metadata": {},
   "source": [
    "Ha `html5llib not found` hibaüzenetet kapunk, akkor egy konzol (`Command Prompt`, `Parancssor`) megnyitásával és a `conda install html5lib` vagy `pip install html5lib` parancsokal telepítjük. Ezután újra kell indítani a `Jupyter`-t."
   ]
  },
  {
   "cell_type": "code",
   "execution_count": 15,
   "metadata": {
    "collapsed": false
   },
   "outputs": [],
   "source": [
    "df2=pd.read_html(wiki_path)"
   ]
  },
  {
   "cell_type": "code",
   "execution_count": 16,
   "metadata": {
    "collapsed": false
   },
   "outputs": [
    {
     "data": {
      "text/html": [
       "<div>\n",
       "<table border=\"1\" class=\"dataframe\">\n",
       "  <thead>\n",
       "    <tr style=\"text-align: right;\">\n",
       "      <th></th>\n",
       "      <th>0</th>\n",
       "      <th>1</th>\n",
       "      <th>2</th>\n",
       "      <th>3</th>\n",
       "      <th>4</th>\n",
       "      <th>5</th>\n",
       "      <th>6</th>\n",
       "      <th>7</th>\n",
       "      <th>8</th>\n",
       "      <th>9</th>\n",
       "      <th>10</th>\n",
       "      <th>11</th>\n",
       "      <th>12</th>\n",
       "      <th>13</th>\n",
       "    </tr>\n",
       "  </thead>\n",
       "  <tbody>\n",
       "    <tr>\n",
       "      <th>0</th>\n",
       "      <td>Csíkszereda éghajlati jellemzői</td>\n",
       "      <td>NaN</td>\n",
       "      <td>NaN</td>\n",
       "      <td>NaN</td>\n",
       "      <td>NaN</td>\n",
       "      <td>NaN</td>\n",
       "      <td>NaN</td>\n",
       "      <td>NaN</td>\n",
       "      <td>NaN</td>\n",
       "      <td>NaN</td>\n",
       "      <td>NaN</td>\n",
       "      <td>NaN</td>\n",
       "      <td>NaN</td>\n",
       "      <td>NaN</td>\n",
       "    </tr>\n",
       "    <tr>\n",
       "      <th>1</th>\n",
       "      <td>Hónap</td>\n",
       "      <td>Jan.</td>\n",
       "      <td>Feb.</td>\n",
       "      <td>Már.</td>\n",
       "      <td>Ápr.</td>\n",
       "      <td>Máj.</td>\n",
       "      <td>Jún.</td>\n",
       "      <td>Júl.</td>\n",
       "      <td>Aug.</td>\n",
       "      <td>Szep.</td>\n",
       "      <td>Okt.</td>\n",
       "      <td>Nov.</td>\n",
       "      <td>Dec.</td>\n",
       "      <td>Év</td>\n",
       "    </tr>\n",
       "    <tr>\n",
       "      <th>2</th>\n",
       "      <td>Átlagos max. hőmérséklet (°C)</td>\n",
       "      <td>−1,0</td>\n",
       "      <td>20</td>\n",
       "      <td>60</td>\n",
       "      <td>120</td>\n",
       "      <td>190</td>\n",
       "      <td>230</td>\n",
       "      <td>240</td>\n",
       "      <td>240</td>\n",
       "      <td>170</td>\n",
       "      <td>140</td>\n",
       "      <td>60</td>\n",
       "      <td>−2,0</td>\n",
       "      <td>120</td>\n",
       "    </tr>\n",
       "    <tr>\n",
       "      <th>3</th>\n",
       "      <td>Átlagos min. hőmérséklet (°C)</td>\n",
       "      <td>−8,0</td>\n",
       "      <td>−9,0</td>\n",
       "      <td>−4,0</td>\n",
       "      <td>10</td>\n",
       "      <td>40</td>\n",
       "      <td>90</td>\n",
       "      <td>110</td>\n",
       "      <td>80</td>\n",
       "      <td>40</td>\n",
       "      <td>10</td>\n",
       "      <td>−3,0</td>\n",
       "      <td>−8,0</td>\n",
       "      <td>05</td>\n",
       "    </tr>\n",
       "    <tr>\n",
       "      <th>4</th>\n",
       "      <td>Forrás: WeatherOnline</td>\n",
       "      <td>NaN</td>\n",
       "      <td>NaN</td>\n",
       "      <td>NaN</td>\n",
       "      <td>NaN</td>\n",
       "      <td>NaN</td>\n",
       "      <td>NaN</td>\n",
       "      <td>NaN</td>\n",
       "      <td>NaN</td>\n",
       "      <td>NaN</td>\n",
       "      <td>NaN</td>\n",
       "      <td>NaN</td>\n",
       "      <td>NaN</td>\n",
       "      <td>NaN</td>\n",
       "    </tr>\n",
       "  </tbody>\n",
       "</table>\n",
       "</div>"
      ],
      "text/plain": [
       "                                0     1     2     3     4     5     6     7   \\\n",
       "0  Csíkszereda éghajlati jellemzői   NaN   NaN   NaN   NaN   NaN   NaN   NaN   \n",
       "1                            Hónap  Jan.  Feb.  Már.  Ápr.  Máj.  Jún.  Júl.   \n",
       "2    Átlagos max. hőmérséklet (°C)  −1,0    20    60   120   190   230   240   \n",
       "3    Átlagos min. hőmérséklet (°C)  −8,0  −9,0  −4,0    10    40    90   110   \n",
       "4            Forrás: WeatherOnline   NaN   NaN   NaN   NaN   NaN   NaN   NaN   \n",
       "\n",
       "     8      9     10    11    12   13  \n",
       "0   NaN    NaN   NaN   NaN   NaN  NaN  \n",
       "1  Aug.  Szep.  Okt.  Nov.  Dec.   Év  \n",
       "2   240    170   140    60  −2,0  120  \n",
       "3    80     40    10  −3,0  −8,0   05  \n",
       "4   NaN    NaN   NaN   NaN   NaN  NaN  "
      ]
     },
     "execution_count": 16,
     "metadata": {},
     "output_type": "execute_result"
    }
   ],
   "source": [
    "df2[4]"
   ]
  },
  {
   "cell_type": "markdown",
   "metadata": {},
   "source": [
    "A táblázatlistából nincsen szükség csak a 5. (tehát 4-es indexű, 0-tól kezdődik) táblázatra. Ezt mentsük el az `gf` változóba, aminek a típusa egy `pandas dataframe` lesz."
   ]
  },
  {
   "cell_type": "code",
   "execution_count": 17,
   "metadata": {
    "collapsed": false
   },
   "outputs": [
    {
     "data": {
      "text/html": [
       "<div>\n",
       "<table border=\"1\" class=\"dataframe\">\n",
       "  <thead>\n",
       "    <tr style=\"text-align: right;\">\n",
       "      <th></th>\n",
       "      <th>0</th>\n",
       "      <th>1</th>\n",
       "      <th>2</th>\n",
       "      <th>3</th>\n",
       "      <th>4</th>\n",
       "      <th>5</th>\n",
       "      <th>6</th>\n",
       "      <th>7</th>\n",
       "      <th>8</th>\n",
       "      <th>9</th>\n",
       "      <th>10</th>\n",
       "      <th>11</th>\n",
       "      <th>12</th>\n",
       "      <th>13</th>\n",
       "    </tr>\n",
       "  </thead>\n",
       "  <tbody>\n",
       "    <tr>\n",
       "      <th>0</th>\n",
       "      <td>Csíkszereda éghajlati jellemzői</td>\n",
       "      <td>NaN</td>\n",
       "      <td>NaN</td>\n",
       "      <td>NaN</td>\n",
       "      <td>NaN</td>\n",
       "      <td>NaN</td>\n",
       "      <td>NaN</td>\n",
       "      <td>NaN</td>\n",
       "      <td>NaN</td>\n",
       "      <td>NaN</td>\n",
       "      <td>NaN</td>\n",
       "      <td>NaN</td>\n",
       "      <td>NaN</td>\n",
       "      <td>NaN</td>\n",
       "    </tr>\n",
       "    <tr>\n",
       "      <th>1</th>\n",
       "      <td>Hónap</td>\n",
       "      <td>Jan.</td>\n",
       "      <td>Feb.</td>\n",
       "      <td>Már.</td>\n",
       "      <td>Ápr.</td>\n",
       "      <td>Máj.</td>\n",
       "      <td>Jún.</td>\n",
       "      <td>Júl.</td>\n",
       "      <td>Aug.</td>\n",
       "      <td>Szep.</td>\n",
       "      <td>Okt.</td>\n",
       "      <td>Nov.</td>\n",
       "      <td>Dec.</td>\n",
       "      <td>Év</td>\n",
       "    </tr>\n",
       "    <tr>\n",
       "      <th>2</th>\n",
       "      <td>Átlagos max. hőmérséklet (°C)</td>\n",
       "      <td>−1,0</td>\n",
       "      <td>20</td>\n",
       "      <td>60</td>\n",
       "      <td>120</td>\n",
       "      <td>190</td>\n",
       "      <td>230</td>\n",
       "      <td>240</td>\n",
       "      <td>240</td>\n",
       "      <td>170</td>\n",
       "      <td>140</td>\n",
       "      <td>60</td>\n",
       "      <td>−2,0</td>\n",
       "      <td>120</td>\n",
       "    </tr>\n",
       "    <tr>\n",
       "      <th>3</th>\n",
       "      <td>Átlagos min. hőmérséklet (°C)</td>\n",
       "      <td>−8,0</td>\n",
       "      <td>−9,0</td>\n",
       "      <td>−4,0</td>\n",
       "      <td>10</td>\n",
       "      <td>40</td>\n",
       "      <td>90</td>\n",
       "      <td>110</td>\n",
       "      <td>80</td>\n",
       "      <td>40</td>\n",
       "      <td>10</td>\n",
       "      <td>−3,0</td>\n",
       "      <td>−8,0</td>\n",
       "      <td>05</td>\n",
       "    </tr>\n",
       "    <tr>\n",
       "      <th>4</th>\n",
       "      <td>Forrás: WeatherOnline</td>\n",
       "      <td>NaN</td>\n",
       "      <td>NaN</td>\n",
       "      <td>NaN</td>\n",
       "      <td>NaN</td>\n",
       "      <td>NaN</td>\n",
       "      <td>NaN</td>\n",
       "      <td>NaN</td>\n",
       "      <td>NaN</td>\n",
       "      <td>NaN</td>\n",
       "      <td>NaN</td>\n",
       "      <td>NaN</td>\n",
       "      <td>NaN</td>\n",
       "      <td>NaN</td>\n",
       "    </tr>\n",
       "  </tbody>\n",
       "</table>\n",
       "</div>"
      ],
      "text/plain": [
       "                                0     1     2     3     4     5     6     7   \\\n",
       "0  Csíkszereda éghajlati jellemzői   NaN   NaN   NaN   NaN   NaN   NaN   NaN   \n",
       "1                            Hónap  Jan.  Feb.  Már.  Ápr.  Máj.  Jún.  Júl.   \n",
       "2    Átlagos max. hőmérséklet (°C)  −1,0    20    60   120   190   230   240   \n",
       "3    Átlagos min. hőmérséklet (°C)  −8,0  −9,0  −4,0    10    40    90   110   \n",
       "4            Forrás: WeatherOnline   NaN   NaN   NaN   NaN   NaN   NaN   NaN   \n",
       "\n",
       "     8      9     10    11    12   13  \n",
       "0   NaN    NaN   NaN   NaN   NaN  NaN  \n",
       "1  Aug.  Szep.  Okt.  Nov.  Dec.   Év  \n",
       "2   240    170   140    60  −2,0  120  \n",
       "3    80     40    10  −3,0  −8,0   05  \n",
       "4   NaN    NaN   NaN   NaN   NaN  NaN  "
      ]
     },
     "execution_count": 17,
     "metadata": {},
     "output_type": "execute_result"
    }
   ],
   "source": [
    "gf=df2[4]\n",
    "gf"
   ]
  },
  {
   "cell_type": "markdown",
   "metadata": {},
   "source": [
    "Csak az 1-től 4-ig terjedő sorok van szükség, a többit eldobjuk.  \n",
    "Ezután a 0. sort beállítjuk indexnek. Miután ez megtörtént, ezt is eldobjuk a sorok közül."
   ]
  },
  {
   "cell_type": "code",
   "execution_count": 22,
   "metadata": {
    "collapsed": false
   },
   "outputs": [
    {
     "data": {
      "text/html": [
       "<div>\n",
       "<table border=\"1\" class=\"dataframe\">\n",
       "  <thead>\n",
       "    <tr style=\"text-align: right;\">\n",
       "      <th>1</th>\n",
       "      <th>Jan.</th>\n",
       "      <th>Feb.</th>\n",
       "      <th>Már.</th>\n",
       "      <th>Ápr.</th>\n",
       "      <th>Máj.</th>\n",
       "      <th>Jún.</th>\n",
       "      <th>Júl.</th>\n",
       "      <th>Aug.</th>\n",
       "      <th>Szep.</th>\n",
       "      <th>Okt.</th>\n",
       "      <th>Nov.</th>\n",
       "      <th>Dec.</th>\n",
       "    </tr>\n",
       "    <tr>\n",
       "      <th>Hónap</th>\n",
       "      <th></th>\n",
       "      <th></th>\n",
       "      <th></th>\n",
       "      <th></th>\n",
       "      <th></th>\n",
       "      <th></th>\n",
       "      <th></th>\n",
       "      <th></th>\n",
       "      <th></th>\n",
       "      <th></th>\n",
       "      <th></th>\n",
       "      <th></th>\n",
       "    </tr>\n",
       "  </thead>\n",
       "  <tbody>\n",
       "    <tr>\n",
       "      <th>Átlagos max. hőmérséklet (°C)</th>\n",
       "      <td>−1,0</td>\n",
       "      <td>20</td>\n",
       "      <td>60</td>\n",
       "      <td>120</td>\n",
       "      <td>190</td>\n",
       "      <td>230</td>\n",
       "      <td>240</td>\n",
       "      <td>240</td>\n",
       "      <td>170</td>\n",
       "      <td>140</td>\n",
       "      <td>60</td>\n",
       "      <td>−2,0</td>\n",
       "    </tr>\n",
       "    <tr>\n",
       "      <th>Átlagos min. hőmérséklet (°C)</th>\n",
       "      <td>−8,0</td>\n",
       "      <td>−9,0</td>\n",
       "      <td>−4,0</td>\n",
       "      <td>10</td>\n",
       "      <td>40</td>\n",
       "      <td>90</td>\n",
       "      <td>110</td>\n",
       "      <td>80</td>\n",
       "      <td>40</td>\n",
       "      <td>10</td>\n",
       "      <td>−3,0</td>\n",
       "      <td>−8,0</td>\n",
       "    </tr>\n",
       "  </tbody>\n",
       "</table>\n",
       "</div>"
      ],
      "text/plain": [
       "1                              Jan.  Feb.  Már. Ápr. Máj. Jún. Júl. Aug.  \\\n",
       "Hónap                                                                      \n",
       "Átlagos max. hőmérséklet (°C)  −1,0    20    60  120  190  230  240  240   \n",
       "Átlagos min. hőmérséklet (°C)  −8,0  −9,0  −4,0   10   40   90  110   80   \n",
       "\n",
       "1                             Szep. Okt.  Nov.  Dec.  \n",
       "Hónap                                                 \n",
       "Átlagos max. hőmérséklet (°C)   170  140    60  −2,0  \n",
       "Átlagos min. hőmérséklet (°C)    40   10  −3,0  −8,0  "
      ]
     },
     "execution_count": 22,
     "metadata": {},
     "output_type": "execute_result"
    }
   ],
   "source": [
    "ef=gf[1:4]\n",
    "ef.columns=ef.loc[ef.index[0]]\n",
    "ef=ef.drop(1)\n",
    "ef=ef.set_index(ef.columns[0])\n",
    "ef=ef.drop(u'Év',axis=1)\n",
    "ef"
   ]
  },
  {
   "cell_type": "markdown",
   "metadata": {},
   "source": [
    "Transzponáljuk a táblázatot:"
   ]
  },
  {
   "cell_type": "code",
   "execution_count": 19,
   "metadata": {
    "collapsed": false
   },
   "outputs": [
    {
     "data": {
      "text/html": [
       "<div>\n",
       "<table border=\"1\" class=\"dataframe\">\n",
       "  <thead>\n",
       "    <tr style=\"text-align: right;\">\n",
       "      <th>Hónap</th>\n",
       "      <th>Átlagos max. hőmérséklet (°C)</th>\n",
       "      <th>Átlagos min. hőmérséklet (°C)</th>\n",
       "    </tr>\n",
       "    <tr>\n",
       "      <th>1</th>\n",
       "      <th></th>\n",
       "      <th></th>\n",
       "    </tr>\n",
       "  </thead>\n",
       "  <tbody>\n",
       "    <tr>\n",
       "      <th>Jan.</th>\n",
       "      <td>−1,0</td>\n",
       "      <td>−8,0</td>\n",
       "    </tr>\n",
       "    <tr>\n",
       "      <th>Feb.</th>\n",
       "      <td>20</td>\n",
       "      <td>−9,0</td>\n",
       "    </tr>\n",
       "  </tbody>\n",
       "</table>\n",
       "</div>"
      ],
      "text/plain": [
       "Hónap Átlagos max. hőmérséklet (°C) Átlagos min. hőmérséklet (°C)\n",
       "1                                                                \n",
       "Jan.                           −1,0                          −8,0\n",
       "Feb.                             20                          −9,0"
      ]
     },
     "execution_count": 19,
     "metadata": {},
     "output_type": "execute_result"
    }
   ],
   "source": [
    "rf=ef.T\n",
    "rf.head(2)"
   ]
  },
  {
   "cell_type": "markdown",
   "metadata": {},
   "source": [
    "D3plus-ba betölthető `json` formátumban elmentjük a táblázat tartalmát.  \n",
    "  \n",
    "Ezt úgy érhetük el, hogy végigmegyunk a táblázat értékein minden sorban majd minden oszlopban. Vigyázzunk a magyar karaterekre, ezért fontos az `unicode` rendszerbe való konvertálás.\n",
    "  \n",
    "A táblázatban tárlot értékek `string`-ek, ezeket egész számokká konvertáljuk, figyelembe véve a pozitív/negatív értékek formátumát."
   ]
  },
  {
   "cell_type": "code",
   "execution_count": 20,
   "metadata": {
    "collapsed": false
   },
   "outputs": [],
   "source": [
    "#uj=[[] for i in range(len(rf.columns))]\n",
    "d3=[]\n",
    "ujnevek=['ujmax','ujmin']\n",
    "for k in range(len(rf.index)):\n",
    "    i=rf.index[k]\n",
    "    seged={}\n",
    "    for j in range(len(rf.loc[i])):\n",
    "        uc=unicode(rf.loc[i][j])\n",
    "        if ',' in uc:\n",
    "            ertek=-int(uc[1:-2])\n",
    "        else:\n",
    "            ertek=int(uc[0:-1])\n",
    "        #uj[j].append(ertek)\n",
    "        seged[ujnevek[j]]=ertek\n",
    "    seged[\"honap\"]=rf.index[k]\n",
    "    seged[\"honap2\"]=k+1\n",
    "    d3.append(seged)"
   ]
  },
  {
   "cell_type": "markdown",
   "metadata": {},
   "source": [
    "Az eredmény:"
   ]
  },
  {
   "cell_type": "code",
   "execution_count": 21,
   "metadata": {
    "collapsed": false
   },
   "outputs": [
    {
     "data": {
      "text/plain": [
       "[{'honap': u'Jan.', 'honap2': 1, 'ujmax': -1, 'ujmin': -8},\n",
       " {'honap': u'Feb.', 'honap2': 2, 'ujmax': 2, 'ujmin': -9},\n",
       " {'honap': u'M\\xe1r.', 'honap2': 3, 'ujmax': 6, 'ujmin': -4},\n",
       " {'honap': u'\\xc1pr.', 'honap2': 4, 'ujmax': 12, 'ujmin': 1},\n",
       " {'honap': u'M\\xe1j.', 'honap2': 5, 'ujmax': 19, 'ujmin': 4},\n",
       " {'honap': u'J\\xfan.', 'honap2': 6, 'ujmax': 23, 'ujmin': 9},\n",
       " {'honap': u'J\\xfal.', 'honap2': 7, 'ujmax': 24, 'ujmin': 11},\n",
       " {'honap': u'Aug.', 'honap2': 8, 'ujmax': 24, 'ujmin': 8},\n",
       " {'honap': u'Szep.', 'honap2': 9, 'ujmax': 17, 'ujmin': 4},\n",
       " {'honap': u'Okt.', 'honap2': 10, 'ujmax': 14, 'ujmin': 1},\n",
       " {'honap': u'Nov.', 'honap2': 11, 'ujmax': 6, 'ujmin': -3},\n",
       " {'honap': u'Dec.', 'honap2': 12, 'ujmax': -2, 'ujmin': -8}]"
      ]
     },
     "execution_count": 21,
     "metadata": {},
     "output_type": "execute_result"
    }
   ],
   "source": [
    "d3"
   ]
  },
  {
   "cell_type": "markdown",
   "metadata": {},
   "source": [
    "Elmentjük a fájlt:"
   ]
  },
  {
   "cell_type": "code",
   "execution_count": 267,
   "metadata": {
    "collapsed": false,
    "scrolled": true
   },
   "outputs": [],
   "source": [
    "import json"
   ]
  },
  {
   "cell_type": "code",
   "execution_count": 268,
   "metadata": {
    "collapsed": false
   },
   "outputs": [],
   "source": [
    "file('uj.json','w').write(json.dumps(d3))"
   ]
  }
 ],
 "metadata": {
  "anaconda-cloud": {},
  "kernelspec": {
   "display_name": "Python [conda root]",
   "language": "python",
   "name": "conda-root-py"
  },
  "language_info": {
   "codemirror_mode": {
    "name": "ipython",
    "version": 2
   },
   "file_extension": ".py",
   "mimetype": "text/x-python",
   "name": "python",
   "nbconvert_exporter": "python",
   "pygments_lexer": "ipython2",
   "version": "2.7.13"
  }
 },
 "nbformat": 4,
 "nbformat_minor": 1
}
