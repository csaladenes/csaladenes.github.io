{
 "cells": [
  {
   "cell_type": "code",
   "execution_count": 1,
   "metadata": {},
   "outputs": [
    {
     "name": "stdout",
     "output_type": "stream",
     "text": [
      "Requirement already satisfied: beautifulsoup4 in c:\\programdata\\anaconda3\\lib\\site-packages (4.9.3)\n",
      "Requirement already satisfied: soupsieve>1.2 in c:\\programdata\\anaconda3\\lib\\site-packages (from beautifulsoup4) (2.0.1)\n"
     ]
    }
   ],
   "source": [
    "!pip install beautifulsoup4"
   ]
  },
  {
   "cell_type": "code",
   "execution_count": 2,
   "metadata": {},
   "outputs": [
    {
     "name": "stdout",
     "output_type": "stream",
     "text": [
      "Requirement already satisfied: selenium in c:\\programdata\\anaconda3\\lib\\site-packages (3.141.0)\n",
      "Requirement already satisfied: urllib3 in c:\\programdata\\anaconda3\\lib\\site-packages (from selenium) (1.26.4)\n"
     ]
    }
   ],
   "source": [
    "!pip install selenium"
   ]
  },
  {
   "cell_type": "code",
   "execution_count": 3,
   "metadata": {},
   "outputs": [],
   "source": [
    "import pandas as pd, time, requests\n",
    "from bs4 import BeautifulSoup\n",
    "import win32clipboard\n",
    "import numpy as np"
   ]
  },
  {
   "cell_type": "markdown",
   "metadata": {},
   "source": [
    "Make folders called `followers` and `following`. Careful, only run once!"
   ]
  },
  {
   "cell_type": "code",
   "execution_count": 4,
   "metadata": {},
   "outputs": [
    {
     "name": "stderr",
     "output_type": "stream",
     "text": [
      "A subdirectory or file followers already exists.\n"
     ]
    }
   ],
   "source": [
    "!mkdir followers"
   ]
  },
  {
   "cell_type": "code",
   "execution_count": 5,
   "metadata": {},
   "outputs": [
    {
     "name": "stderr",
     "output_type": "stream",
     "text": [
      "A subdirectory or file following already exists.\n"
     ]
    }
   ],
   "source": [
    "!mkdir following"
   ]
  },
  {
   "cell_type": "markdown",
   "metadata": {},
   "source": [
    "Make new, throwaway Twitter account with throwaway email address from [here](https://tempmail.net/) and throwaway phone number [here](https://oksms.org/) (UK numbers work typically)"
   ]
  },
  {
   "cell_type": "code",
   "execution_count": 6,
   "metadata": {},
   "outputs": [],
   "source": [
    "from selenium import webdriver\n",
    "from selenium.webdriver.common.keys import Keys\n",
    "from selenium.webdriver.common.action_chains import ActionChains\n",
    "#make sure the path is correct for your chromedriver. can place next to it\n",
    "# driver = webdriver.Chrome('./chromedriver.exe')\n",
    "driver = webdriver.Chrome('C:/Program Files/chromedriver/chromedriver.exe')\n",
    "#opens Chrome, maximize window\n",
    "driver.get(\"https://www.twitter.com\");\n",
    "driver.maximize_window()\n",
    "# sign in"
   ]
  },
  {
   "cell_type": "code",
   "execution_count": 7,
   "metadata": {},
   "outputs": [],
   "source": [
    "users=['AraKovacs',\n",
    "'AndreaBocskor',\n",
    "'katka_cseh',\n",
    "'AndorDeli',\n",
    "'dajcstomi',\n",
    "'DobrevKlara',\n",
    "'donath_anna',\n",
    "'GyongyosiMarton',\n",
    "'GyoriEniko',\n",
    "'BalazsHidveghi',\n",
    "'HolvenyiGyorgy',\n",
    "'JarokaLivia',\n",
    "'adamkosamep',\n",
    "'drcsabamolnar',\n",
    "'sandor_ronai',\n",
    "'toth_edina',\n",
    "'trocsanyi',\n",
    "'istvan_ujhelyi',\n",
    "'vinczelorant',\n",
    "'IuliuWinkler'] #ide tedd be as osszes user IDt"
   ]
  },
  {
   "cell_type": "code",
   "execution_count": 8,
   "metadata": {},
   "outputs": [],
   "source": [
    "# for user in users[1:]:\n",
    "#     print(user)\n",
    "#     for path in ['followers','following']:\n",
    "#         url='https://twitter.com/'+user+'/'+path\n",
    "#         driver.get(url)\n",
    "#         time.sleep(2) #szunet 2 masodpercig\n",
    "#         actions = ActionChains(driver)\n",
    "#         #press PageDown key on the page 50 times - adjust as necessary\n",
    "#         for i in range(300):\n",
    "#             time.sleep(0.3+np.random.uniform(5)/10.0) #szunet random ideig scrollok kozott\n",
    "#             actions.send_keys(Keys.PAGE_DOWN)\n",
    "#             actions.perform()   \n",
    "#         #copy everything in page\n",
    "#         time.sleep(2)\n",
    "#         actions.key_down(Keys.CONTROL).send_keys(\"a\").key_up(Keys.CONTROL).perform();\n",
    "#         time.sleep(2)\n",
    "#         actions.key_down(Keys.CONTROL).send_keys(\"c\").key_up(Keys.CONTROL).perform();\n",
    "\n",
    "#         #get data from clipboard\n",
    "#         win32clipboard.OpenClipboard()\n",
    "#         data = win32clipboard.GetClipboardData()\n",
    "#         win32clipboard.CloseClipboard()\n",
    "\n",
    "#         #save to file\n",
    "#         open(path+'/'+user+'.txt','wb').write(data.encode('utf8'))\n",
    "\n",
    "#         #repeat for following\n",
    "#         time.sleep(3)\n",
    "        \n",
    "#     #repeat for next user\n",
    "#     time.sleep(3)"
   ]
  },
  {
   "cell_type": "code",
   "execution_count": null,
   "metadata": {},
   "outputs": [
    {
     "name": "stdout",
     "output_type": "stream",
     "text": [
      "katka_cseh\n",
      "AndorDeli\n",
      "dajcstomi\n",
      "DobrevKlara\n",
      "donath_anna\n",
      "GyongyosiMarton\n",
      "GyoriEniko\n",
      "BalazsHidveghi\n",
      "HolvenyiGyorgy\n"
     ]
    }
   ],
   "source": [
    "for user in users[2:]:\n",
    "    print(user)\n",
    "    for path in ['followers','following']:\n",
    "        names=[]\n",
    "        ids=[]\n",
    "        descs=[]\n",
    "        url='https://twitter.com/'+user+'/'+path\n",
    "        driver.get(url)\n",
    "        time.sleep(2) #szunet 2 masodpercig\n",
    "        actions = ActionChains(driver)\n",
    "        #press PageDown key on the page XX times - adjust as necessary\n",
    "        for i in range(300):\n",
    "            try:\n",
    "                time.sleep(0.3+np.random.uniform(5)/10.0) #szunet random ideig scrollok kozott\n",
    "                actions.send_keys(Keys.PAGE_DOWN)\n",
    "                actions.perform()   \n",
    "                #copy everything in page\n",
    "                time.sleep(2)\n",
    "                soup=BeautifulSoup(driver.page_source, 'html.parser')\n",
    "                links=[i for i in  \n",
    "                     soup.find('div',{'aria-label':'Timeline: '+path.capitalize()}).find('div').findAll('div',{'class':'css-1dbjc4n r-1iusvr4 r-16y2uox'})]\n",
    "                names+=[i.findChildren(\"div\" , recursive=False)[0].findChildren(\"span\")[1].text for i in links]\n",
    "                ids+=[i.findChildren(\"div\" , recursive=False)[0].findChildren(\"span\")[2].text for i in links]\n",
    "                desc=[]\n",
    "                for i in links:\n",
    "                    try:\n",
    "                        desc.append(i.findChildren(\"div\" , recursive=False)[1].text)\n",
    "                    except:\n",
    "                        desc.append('')\n",
    "                descs+=desc\n",
    "            except:\n",
    "                print(user,i)\n",
    "\n",
    "        #compile df\n",
    "        df=pd.DataFrame([names,ids,descs]).T.drop_duplicates()\n",
    "        df.columns=['name','id','desc']\n",
    "        #save to file\n",
    "        df.to_csv(path+'/'+user+'.csv',encoding='utf8')\n",
    "\n",
    "        #repeat for following\n",
    "        time.sleep(3)\n",
    "        \n",
    "    #repeat for next user\n",
    "    time.sleep(3)"
   ]
  },
  {
   "cell_type": "code",
   "execution_count": null,
   "metadata": {},
   "outputs": [],
   "source": []
  }
 ],
 "metadata": {
  "kernelspec": {
   "display_name": "Python 3",
   "language": "python",
   "name": "python3"
  },
  "language_info": {
   "codemirror_mode": {
    "name": "ipython",
    "version": 3
   },
   "file_extension": ".py",
   "mimetype": "text/x-python",
   "name": "python",
   "nbconvert_exporter": "python",
   "pygments_lexer": "ipython3",
   "version": "3.7.4"
  }
 },
 "nbformat": 4,
 "nbformat_minor": 4
}
