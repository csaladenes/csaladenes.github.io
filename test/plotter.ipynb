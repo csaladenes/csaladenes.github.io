{
 "cells": [
  {
   "cell_type": "markdown",
   "metadata": {},
   "source": [
    "### Plotting workbook\n",
    "Plotting workbook to accompany the paper _Carbon Capture and Storage Energy Systems vs. Dispatchable Renewables for Climate Mitigation: A Bio-physical Comparison_ by Sgouridis, Dale, Csala, Chiesa & Bardi"
   ]
  },
  {
   "cell_type": "code",
   "execution_count": 1,
   "metadata": {
    "collapsed": true
   },
   "outputs": [],
   "source": [
    "import matplotlib.pyplot as plt\n",
    "import matplotlib as mpl\n",
    "import matplotlib.font_manager as font_manager\n",
    "plt.style.use('seaborn-darkgrid')\n",
    "%matplotlib inline\n",
    "prop = font_manager.FontProperties('Segoe UI')\n",
    "from sympy import *\n",
    "init_printing() "
   ]
  },
  {
   "cell_type": "markdown",
   "metadata": {},
   "source": [
    "### Eq. 6\n",
    "Define EROI-CCS function (Eq. 6 in the paper)"
   ]
  },
  {
   "cell_type": "code",
   "execution_count": 2,
   "metadata": {
    "collapsed": true
   },
   "outputs": [],
   "source": [
    "var('EROI_CCS EROI f_op');"
   ]
  },
  {
   "cell_type": "code",
   "execution_count": 3,
   "metadata": {
    "collapsed": false
   },
   "outputs": [
    {
     "data": {
      "image/png": "[encoded data removed]",
      "text/latex": [
       "$$EROI_{CCS} = \\frac{EROI}{EROI f_{op} + 1}$$"
      ],
      "text/plain": [
       "                EROI    \n",
       "EROI_CCS = ─────────────\n",
       "           EROI⋅f_op + 1"
      ]
     },
     "execution_count": 3,
     "metadata": {},
     "output_type": "execute_result"
    }
   ],
   "source": [
    "eq6=Eq(EROI_CCS,EROI/(1+f_op*EROI))\n",
    "eq6"
   ]
  },
  {
   "cell_type": "markdown",
   "metadata": {},
   "source": [
    "### Eq. 2\n",
    "Define dispatchable EROI for renewables with storage (Eq. 2 in the paper)"
   ]
  },
  {
   "cell_type": "code",
   "execution_count": 4,
   "metadata": {
    "collapsed": true
   },
   "outputs": [],
   "source": [
    "phi = Symbol('phi')\n",
    "eta = Symbol('eta')\n",
    "var('EROI_disp EROI ESOI phi eta');"
   ]
  },
  {
   "cell_type": "code",
   "execution_count": 5,
   "metadata": {
    "collapsed": false
   },
   "outputs": [
    {
     "data": {
      "image/png": "[encoded data removed]",
      "text/latex": [
       "$$EROI_{disp} = \\frac{\\eta \\phi - \\phi + 1}{\\frac{\\eta \\phi}{ESOI} + \\frac{1}{EROI}}$$"
      ],
      "text/plain": [
       "            η⋅φ - φ + 1\n",
       "EROI_disp = ───────────\n",
       "            η⋅φ     1  \n",
       "            ──── + ────\n",
       "            ESOI   EROI"
      ]
     },
     "execution_count": 5,
     "metadata": {},
     "output_type": "execute_result"
    }
   ],
   "source": [
    "eq2=Eq(EROI_disp,((1-phi)+(eta*phi))/((1/EROI)+(eta*phi/ESOI)))\n",
    "eq2"
   ]
  },
  {
   "cell_type": "markdown",
   "metadata": {},
   "source": [
    "### Figure 3 & Table 3\n",
    "Now we generate the contour lines for _Figure 3_, using the examples from _Table 3_.  \n",
    "  \n",
    "We have two tyes of renewable energy plants, _PV_ and _Wind_, each with two cases of EROI, taken from the lower and upper boundaries encountered in studies.  \n",
    "  \n",
    "We have assumed a storage technology mixes taken from _Table 1_ of  [Barnhart et al 2013](http://pubs.rsc.org/en/content/articlehtml/2013/ee/c3ee41973h). Here we have the ESOI values reported for 7 energy storage storage technologies, 5 types of electrochemical storage (Batteries), Compressed air (CAES) and pumped hydro (PHS).\n",
    "\n",
    "We have considered diffrent energy storage technology mixes for our PV and Wind examples. For PV, we have taken an equal mix of all 5 electrochemical storage technologies, without CAES or PHS (resulting in the pv share vector of `[0.2,0.2,0.2,0.2,0.2,0,0]`). For Wind, we have considered 50% battery storage (as an equal 10% from each technology), and 25-25% of CAES and PHS, resulting in the wind share vector of `[0.1,0.1,0.1,0.1,0.1,0.25,0.25]`)."
   ]
  },
  {
   "cell_type": "code",
   "execution_count": 6,
   "metadata": {
    "collapsed": false
   },
   "outputs": [
    {
     "name": "stdout",
     "output_type": "stream",
     "text": [
      "Composite eta for pv 0.78\n",
      "Composite eta for wind 0.7775\n",
      "Composite ESOI for pv 15.2\n",
      "Composite ESOI for wind 382.85\n"
     ]
    }
   ],
   "source": [
    "etas=[0.90,0.75,0.90,0.75,0.60,0.70,0.85] #from (Barnhart et al 2013)\n",
    "S=[32,20,5,10,9,797,704]  #from (Barnhart et al 2013)\n",
    "shr0=[0.2,0.2,0.2,0.2,0.2,0,0] #assumed shares for considered PV exmaples in this paper\n",
    "shr1=[0.1,0.1,0.1,0.1,0.1,0.25,0.25]  #assumed shares for considered Wind exmaples in this paper\n",
    "eta_pv=sum([etas[i]*shr0[i] for i in range(len(etas))]) #resulting composite eta for pv\n",
    "eta_wind=sum([etas[i]*shr1[i] for i in range(len(etas))]) #resulting composite eta for wind\n",
    "S_pv=sum([S[i]*shr0[i] for i in range(len(etas))])  #resulting composite S for pv\n",
    "S_wind=sum([S[i]*shr1[i] for i in range(len(etas))])  #resulting composite S for wind\n",
    "print 'Composite eta for pv',eta_pv\n",
    "print 'Composite eta for wind',eta_wind\n",
    "print 'Composite ESOI for pv',S_pv\n",
    "print 'Composite ESOI for wind',S_wind"
   ]
  },
  {
   "cell_type": "markdown",
   "metadata": {},
   "source": [
    "### Construct test cases: _Renewables_"
   ]
  },
  {
   "cell_type": "code",
   "execution_count": 22,
   "metadata": {
    "collapsed": true
   },
   "outputs": [],
   "source": [
    "#define pretty output formatter for sympy equation\n",
    "def format_eq(eq):\n",
    "    return [solve(eq[i])[0] for i in range(len(eq))]\n",
    "    #return [float((repr(eq[i])[2:]).split(',')[1].strip()[:-1]) for i in range(len(eq))]"
   ]
  },
  {
   "cell_type": "code",
   "execution_count": 23,
   "metadata": {
    "collapsed": false
   },
   "outputs": [],
   "source": [
    "eroi_pv=[10,40] #EROEIe for case [F, G] in Table 3 of the paper, PV plant\n",
    "eroi_disp_pv=format_eq([eq2.subs([[EROI,i],[phi,0.4],[eta,eta_pv],[ESOI,S_pv]]) for i in eroi_pv])\n",
    "eroi_wind=[10,33] #EROEIe for case [H, I] in Table 3 of the paper, Wind plant\n",
    "eroi_disp_wind=format_eq([eq2.subs([[EROI,i],[phi,0.4],[eta,eta_wind],[ESOI,S_wind]]) for i in eroi_wind])"
   ]
  },
  {
   "cell_type": "code",
   "execution_count": 25,
   "metadata": {
    "collapsed": false
   },
   "outputs": [
    {
     "name": "stdout",
     "output_type": "stream",
     "text": [
      "PV [F,G]\n"
     ]
    },
    {
     "data": {
      "image/png": "[encoded data removed]",
      "text/latex": [
       "$$\\left [ 7.56681222707424, \\quad 20.0323699421965\\right ]$$"
      ],
      "text/plain": [
       "[7.56681222707424, 20.0323699421965]"
      ]
     },
     "execution_count": 25,
     "metadata": {},
     "output_type": "execute_result"
    }
   ],
   "source": [
    "print 'PV [F,G]'\n",
    "eroi_disp_pv"
   ]
  },
  {
   "cell_type": "code",
   "execution_count": 26,
   "metadata": {
    "collapsed": false
   },
   "outputs": [
    {
     "name": "stdout",
     "output_type": "stream",
     "text": [
      "Wind [H,I]\n"
     ]
    },
    {
     "data": {
      "image/png": "[encoded data removed]",
      "text/latex": [
       "$$\\left [ 9.03659317027671, \\quad 29.2781453424333\\right ]$$"
      ],
      "text/plain": [
       "[9.03659317027671, 29.2781453424333]"
      ]
     },
     "execution_count": 26,
     "metadata": {},
     "output_type": "execute_result"
    }
   ],
   "source": [
    "print 'Wind [H,I]'\n",
    "eroi_disp_wind"
   ]
  },
  {
   "cell_type": "markdown",
   "metadata": {},
   "source": [
    "### Construct test cases: _Fossils_"
   ]
  },
  {
   "cell_type": "code",
   "execution_count": 28,
   "metadata": {
    "collapsed": false
   },
   "outputs": [],
   "source": [
    "eroi_gas=[9.6, 38.5] #EROEIe for case [A, B] in Table 3 of the paper, gas plant\n",
    "eroi_ccs_gas=format_eq([eq6.subs([[EROI,i],[f_op,0.147]]) for i in eroi_gas])\n",
    "eroi_coal=[8.9, 22.6] #EROEIe for case [D, E] in Table 3 of the paper, coal plant\n",
    "eroi_ccs_coal=format_eq([eq6.subs([[EROI,i],[f_op,0.219]]) for i in eroi_coal])"
   ]
  },
  {
   "cell_type": "code",
   "execution_count": 29,
   "metadata": {
    "collapsed": false
   },
   "outputs": [
    {
     "name": "stdout",
     "output_type": "stream",
     "text": [
      "gas [A,B]\n"
     ]
    },
    {
     "data": {
      "image/png": "[encoded data removed]",
      "text/latex": [
       "$$\\left [ 3.9814200398142, \\quad 5.78121480591636\\right ]$$"
      ],
      "text/plain": [
       "[3.9814200398142, 5.78121480591636]"
      ]
     },
     "execution_count": 29,
     "metadata": {},
     "output_type": "execute_result"
    }
   ],
   "source": [
    "print 'gas [A,B]'\n",
    "eroi_ccs_gas"
   ]
  },
  {
   "cell_type": "code",
   "execution_count": 30,
   "metadata": {
    "collapsed": false
   },
   "outputs": [
    {
     "name": "stdout",
     "output_type": "stream",
     "text": [
      "coal [D,E]\n"
     ]
    },
    {
     "data": {
      "image/png": "[encoded data removed]",
      "text/latex": [
       "$$\\left [ 3.01786985860093, \\quad 3.79870239015699\\right ]$$"
      ],
      "text/plain": [
       "[3.01786985860093, 3.79870239015699]"
      ]
     },
     "execution_count": 30,
     "metadata": {},
     "output_type": "execute_result"
    }
   ],
   "source": [
    "print 'coal [D,E]'\n",
    "eroi_ccs_coal"
   ]
  },
  {
   "cell_type": "markdown",
   "metadata": {},
   "source": [
    "### Figure 3\n",
    "Produce contour lines for multiple $f_{op}$ and $\\phi$ levels and place the example plants on the contours. Calculate the $EROI_{CCS}$ and $EROI_{disp}$, respectively, for multiple base $EROI$ values. Likewise we obtain a plot for comparison between dispatchable (i.e. with storage) EROI for renewables and CCS EROI for fossil fuel based power plants."
   ]
  },
  {
   "cell_type": "code",
   "execution_count": 31,
   "metadata": {
    "collapsed": false
   },
   "outputs": [
    {
     "data": {
      "image/png": "[encoded data removed]",
      "text/plain": [
       "<matplotlib.figure.Figure at 0xa83d978>"
      ]
     },
     "metadata": {},
     "output_type": "display_data"
    }
   ],
   "source": [
    "plt.figure(figsize=(5,4))\n",
    "n=51\n",
    "erois=range(1,n)\n",
    "\n",
    "### Renewables contours\n",
    "colors=['#addd8e',\n",
    "        '#78c679',\n",
    "        '#31a354',\n",
    "        '#006837']\n",
    "plt.plot(0,0,lw=0,label='${\\phi}$ (%)')\n",
    "#plot EROI_disp contour lines for various EROI values and phi levels\n",
    "#for eta and S assume a fully battery-based storage (worst case), i.e. the eta_pv and S_pv\n",
    "pv=1.0 #(pv share in hypothetical renewable technologies)\n",
    "phis=[0.1,0.2,0.3,0.4] #assumed levels for phi\n",
    "for r in range(len(phis)):\n",
    "    phir=phis[r]\n",
    "    eroi_disps=format_eq([eq2.subs([[EROI,i],[phi,phir],[eta,pv*eta_pv+(1-pv)*eta_wind],[ESOI,pv*S_pv+(1-pv)*S_wind]]) for i in erois])\n",
    "    plt.plot(erois,eroi_disps,c=colors[r],label=int(phir*100))\n",
    "\n",
    "plt.xlabel('EROI')\n",
    "a=plt.gca()\n",
    "plt.text(-0.07, 0.65, 'EROI$_{disp}$',\n",
    "        horizontalalignment='right',\n",
    "        verticalalignment='bottom',rotation=90,#fontproperties=prop,\n",
    "        size=11,color='#006837',transform=plt.gca().transAxes)\n",
    "plt.text(-0.07, 0.27, 'EROI$_{CCS}$',\n",
    "        horizontalalignment='right',\n",
    "        verticalalignment='bottom',rotation=90,#fontproperties=prop,\n",
    "        size=11,color='#bd0036',transform=plt.gca().transAxes)\n",
    "\n",
    "### Fossils contours\n",
    "colors=['#fed976',\n",
    "        '#feb24c',\n",
    "        '#f03b20',\n",
    "        '#bd0036']\n",
    "plt.plot(0,0,lw=0,label='$f_{op}$ (%)')\n",
    "fops=[0.05,0.1,0.15,0.2]  #assumed levels for fop\n",
    "for r in range(len(fops)):\n",
    "    fopr=fops[r]\n",
    "    eroi_ccss=format_eq([eq6.subs([[EROI,i],[f_op,fopr]]) for i in erois])\n",
    "    plt.plot(erois,eroi_ccss,c=colors[r],label=int(fopr*100))\n",
    "\n",
    "    \n",
    "### Table 3 cases\n",
    "cf=\"#f03b20\"\n",
    "cr=\"#31a354\"\n",
    "cg=\"#aaaaaa\"\n",
    "s=30 #marker size\n",
    "plt.scatter(eroi_gas,eroi_ccs_gas,s,color=cf,marker='o')\n",
    "plt.scatter(eroi_coal,eroi_ccs_coal,s,color=cf,marker='^')\n",
    "plt.scatter(eroi_pv,eroi_disp_pv,s,color=cr,marker='d')\n",
    "plt.scatter(eroi_wind,eroi_disp_wind,s,color=cr,marker='s')\n",
    "plt.xlim(0,50)\n",
    "plt.ylim(0,40)\n",
    "#[F, G]\n",
    "plt.text(eroi_pv[1], eroi_disp_pv[1]-1.5, 'PV +\\nBattery',\n",
    "        horizontalalignment='center',\n",
    "        verticalalignment='top',\n",
    "        size=9,color=cr)\n",
    "#[H, I]\n",
    "plt.text(eroi_wind[1], eroi_disp_wind[1]+1.5, 'Wind + Battery +\\n PHS + CAES',\n",
    "        horizontalalignment='center',\n",
    "        verticalalignment='bottom',\n",
    "        size=9,color=cr)\n",
    "#[A, B]\n",
    "plt.text(eroi_gas[1], eroi_ccs_gas[1]-2.2, 'Gas + CCS',\n",
    "        horizontalalignment='center',\n",
    "        verticalalignment='top',\n",
    "        size=9,color=cf)\n",
    "#[D, E]\n",
    "plt.text(eroi_coal[1], eroi_ccs_coal[1]-1, 'Coal + CCS',\n",
    "        horizontalalignment='center',\n",
    "        verticalalignment='top',\n",
    "        size=9,color=cf)\n",
    "\n",
    "#Annotate cases\n",
    "ap=0.7\n",
    "plt.text(eroi_coal[0]+2, eroi_ccs_coal[0]-0.5, 'D',\n",
    "        horizontalalignment='center',\n",
    "        verticalalignment='top',\n",
    "        size=10,color=cf,\n",
    "        bbox=dict(facecolor='white', edgecolor=cf,  alpha=ap, boxstyle='round'))\n",
    "plt.text(eroi_gas[0]+2, eroi_ccs_gas[0]+2, 'B',\n",
    "        horizontalalignment='center',\n",
    "        verticalalignment='top',\n",
    "        size=10,color=cf,\n",
    "        bbox=dict(facecolor='white', edgecolor=cf,  alpha=ap, boxstyle='round'))\n",
    "plt.text(eroi_coal[1], eroi_ccs_coal[1]+3.3, 'E',\n",
    "        horizontalalignment='center',\n",
    "        verticalalignment='top',\n",
    "        size=10,color=cf,\n",
    "        bbox=dict(facecolor='white', edgecolor=cf,  alpha=ap, boxstyle='round'))\n",
    "plt.text(eroi_gas[1], eroi_ccs_gas[1]+3.3, 'A',\n",
    "        horizontalalignment='center',\n",
    "        verticalalignment='top',\n",
    "        size=10,color=cf,\n",
    "        bbox=dict(facecolor='white', edgecolor=cf, alpha=ap, boxstyle='round'))\n",
    "\n",
    "plt.text(eroi_pv[1], eroi_disp_pv[1]+3.3, 'G',\n",
    "        horizontalalignment='center',\n",
    "        verticalalignment='top',\n",
    "        size=10,color=cr,\n",
    "        bbox=dict(facecolor='white', edgecolor=cr, alpha=ap, boxstyle='round'))\n",
    "plt.text(eroi_wind[0]+2.6, eroi_disp_wind[0], 'F',\n",
    "        horizontalalignment='center',\n",
    "        verticalalignment='top',\n",
    "        size=10,color=cr,\n",
    "        bbox=dict(facecolor='white', edgecolor=cr,  alpha=ap, boxstyle='round'))\n",
    "plt.text(eroi_pv[0], eroi_disp_pv[0]+5.3, 'H',\n",
    "        horizontalalignment='center',\n",
    "        verticalalignment='top',\n",
    "        size=10,color=cr,\n",
    "        bbox=dict(facecolor='white', edgecolor=cr,  alpha=ap, boxstyle='round'))\n",
    "plt.text(eroi_wind[1], eroi_disp_wind[1]-2, 'I',\n",
    "        horizontalalignment='center',\n",
    "        verticalalignment='top',\n",
    "        size=10,color=cr,\n",
    "        bbox=dict(facecolor='white', edgecolor=cr,  alpha=ap, boxstyle='round'))\n",
    "\n",
    "plt.legend(framealpha=0,loc=2,fontsize=9)\n",
    "plt.savefig('fig3.png',bbox_inches = 'tight', facecolor='w', pad_inches = 0.1, dpi=200)\n",
    "plt.show()"
   ]
  },
  {
   "cell_type": "markdown",
   "metadata": {},
   "source": [
    "### Figure 4\n",
    "For this figure we are considering various levels of powerplant efficiency, and its effect on the EROI , under various capture ratio assumptions. This is described in Eq. 1 and Eq. 4 in the paper."
   ]
  },
  {
   "cell_type": "markdown",
   "metadata": {},
   "source": [
    "Define parameters"
   ]
  },
  {
   "cell_type": "markdown",
   "metadata": {},
   "source": [
    "Electricity penalty (b) curve from Sanpasternich (2009) Figure 8 [kWh/kg CO2] "
   ]
  },
  {
   "cell_type": "code",
   "execution_count": 33,
   "metadata": {
    "collapsed": false
   },
   "outputs": [
    {
     "data": {
      "image/png": "[encoded data removed]",
      "text/latex": [
       "$$CCS_{op} = - 85.031 CR^{5} + 114.5 CR^{4} - 80.385 CR^{3} + 31.47 CR^{2} - 6.7725 CR + 305863028.421403$$"
      ],
      "text/plain": [
       "                    5           4            3           2                    \n",
       "CCS_op = - 85.031⋅CR  + 114.5⋅CR  - 80.385⋅CR  + 31.47⋅CR  - 6.7725⋅CR + 30586\n",
       "\n",
       "           \n",
       "3028.421403"
      ]
     },
     "execution_count": 33,
     "metadata": {},
     "output_type": "execute_result"
    }
   ],
   "source": [
    "#CCS_op #operating CCS penalty\n",
    "#CR #capture ratio\n",
    "var('CCS_op CR');\n",
    "CCS_op_eq=Eq(CCS_op,25.957**6 - 85.031*CR**5 + \\\n",
    "114.5*CR**4 - 80.385*CR**3 + \\\n",
    "31.47*CR**2 - 6.7725*CR  + 1.1137)\n",
    "CCS_op_eq"
   ]
  },
  {
   "cell_type": "markdown",
   "metadata": {},
   "source": [
    "Operational cost of coal fuel cycle over plant lifetime output [kWh]"
   ]
  },
  {
   "cell_type": "code",
   "execution_count": 34,
   "metadata": {
    "collapsed": false
   },
   "outputs": [
    {
     "data": {
      "image/png": "[encoded data removed]",
      "text/latex": [
       "$$PP_{op L} = \\frac{8760 PP_{CF}}{\\eta} PP_{L} PP_{op}$$"
      ],
      "text/plain": [
       "          8760⋅PP_CF⋅PP_L⋅PP_op\n",
       "PP_op_L = ─────────────────────\n",
       "                    η          "
      ]
     },
     "execution_count": 34,
     "metadata": {},
     "output_type": "execute_result"
    }
   ],
   "source": [
    "#PP_op_L #operational cost of coal fuel cycle over plant lifetime\n",
    "#PP_op #operational cost of coal fuel cycle\n",
    "#PP_CF #powerplant capacity factor\n",
    "#PP_L #powerplant lifetime\n",
    "#eta #powerplant efficiency\n",
    "var('PP_op_L PP_op PP_CF eta PP_L');\n",
    "PP_op_L_eq=Eq(PP_op_L,8760*PP_L*PP_CF*PP_op/eta)\n",
    "PP_op_L_eq"
   ]
  },
  {
   "cell_type": "markdown",
   "metadata": {},
   "source": [
    "Carbon intensity of electricity [kg CO2/kWh]"
   ]
  },
  {
   "cell_type": "code",
   "execution_count": 35,
   "metadata": {
    "collapsed": false
   },
   "outputs": [
    {
     "data": {
      "image/png": "[encoded data removed]",
      "text/latex": [
       "$$Elec_{CO2} = \\frac{3.6 C_{CO2}}{\\eta}$$"
      ],
      "text/plain": [
       "           3.6⋅C_CO2\n",
       "Elec_CO2 = ─────────\n",
       "               η    "
      ]
     },
     "execution_count": 35,
     "metadata": {},
     "output_type": "execute_result"
    }
   ],
   "source": [
    "#C_CO2 #carbon dioxide content of coal [kg/MJ]\n",
    "#Elec_CO2 #carbon intensity of electricity [kg CO2/kWh]\n",
    "var('Elec_CO2 C_CO2');\n",
    "Elec_CO2_eq=Eq(Elec_CO2,C_CO2*3.6/eta)\n",
    "Elec_CO2_eq"
   ]
  },
  {
   "cell_type": "markdown",
   "metadata": {},
   "source": [
    "Energy penalty of CCS [dmnl]"
   ]
  },
  {
   "cell_type": "code",
   "execution_count": 36,
   "metadata": {
    "collapsed": false
   },
   "outputs": [
    {
     "data": {
      "image/png": "[encoded data removed]",
      "text/latex": [
       "$$b = CCS_{op} CR Elec_{CO2}$$"
      ],
      "text/plain": [
       "b = CCS_op⋅CR⋅Elec_CO2"
      ]
     },
     "execution_count": 36,
     "metadata": {},
     "output_type": "execute_result"
    }
   ],
   "source": [
    "#b #energy penalty of CCS\n",
    "var('b');\n",
    "b_eq=Eq(b,CCS_op*Elec_CO2*CR)\n",
    "b_eq"
   ]
  },
  {
   "cell_type": "markdown",
   "metadata": {},
   "source": [
    "Emissions"
   ]
  },
  {
   "cell_type": "code",
   "execution_count": 37,
   "metadata": {
    "collapsed": false
   },
   "outputs": [
    {
     "data": {
      "image/png": "[encoded data removed]",
      "text/latex": [
       "$$E = CCS_{op} \\left(- CR + 1\\right)$$"
      ],
      "text/plain": [
       "E = CCS_op⋅(-CR + 1)"
      ]
     },
     "execution_count": 37,
     "metadata": {},
     "output_type": "execute_result"
    }
   ],
   "source": [
    "#E #emissions\n",
    "var('E');\n",
    "E_eq=Eq(E,CCS_op*(1-CR))\n",
    "E_eq"
   ]
  },
  {
   "cell_type": "markdown",
   "metadata": {},
   "source": [
    "Energy cost of constructing CCS plant"
   ]
  },
  {
   "cell_type": "code",
   "execution_count": 40,
   "metadata": {
    "collapsed": false
   },
   "outputs": [
    {
     "data": {
      "image/png": "[encoded data removed]",
      "text/latex": [
       "$$CCS_{cons energy} = PP_{cons energy} f_{cap}$$"
      ],
      "text/plain": [
       "CCS_cons_energy = PP_cons_energy⋅f_cap"
      ]
     },
     "execution_count": 40,
     "metadata": {},
     "output_type": "execute_result"
    }
   ],
   "source": [
    "#CCS_cons_energy #energy cost of constructing CCS plant\n",
    "#f_cap #energy cost share of constructing CCS plant\n",
    "#PP_cons_energy #energy cost of power plant construction [MJ/MW], does not include energy embodied in materials\n",
    "var('CCS_cons_energy PP_cons_energy f_cap');\n",
    "CCS_cons_energy_eq=Eq(CCS_cons_energy,f_cap*PP_cons_energy)\n",
    "CCS_cons_energy_eq"
   ]
  },
  {
   "cell_type": "markdown",
   "metadata": {},
   "source": [
    "EROIs"
   ]
  },
  {
   "cell_type": "markdown",
   "metadata": {},
   "source": [
    "Energy cost of constructing CCS plant"
   ]
  },
  {
   "cell_type": "code",
   "execution_count": 45,
   "metadata": {
    "collapsed": false
   },
   "outputs": [
    {
     "data": {
      "image/png": "[encoded data removed]",
      "text/latex": [
       "$$EROI_{1} = \\frac{31536.0 PP_{CF} PP_{L} \\left(- b + 1\\right)}{PP_{cons energy} + PP_{op L} + \\frac{CCS_{cons energy}}{CCS_{L}} PP_{L}}$$"
      ],
      "text/plain": [
       "                  31536.0⋅PP_CF⋅PP_L⋅(-b + 1)          \n",
       "EROI₁ = ───────────────────────────────────────────────\n",
       "                                   CCS_cons_energy⋅PP_L\n",
       "        PP_cons_energy + PP_op_L + ────────────────────\n",
       "                                          CCS_L        "
      ]
     },
     "execution_count": 45,
     "metadata": {},
     "output_type": "execute_result"
    }
   ],
   "source": [
    "#EROI_1 #EROI where CCS construction energy is a ratio of power plant construction energy [MJ_e/MW/(MJ_p/MW) = dmnl]\n",
    "#CCS_L #CCS plant lifetime\n",
    "var('EROI_1 CCS_L');\n",
    "EROI_1_eq=Eq(EROI_1,8760*PP_L*PP_CF*(1-b)*3.6/\\\n",
    "                    (PP_cons_energy + PP_op_L + CCS_cons_energy*PP_L/CCS_L))\n",
    "EROI_1_eq"
   ]
  },
  {
   "cell_type": "code",
   "execution_count": 42,
   "metadata": {
    "collapsed": false
   },
   "outputs": [
    {
     "data": {
      "image/png": "[encoded data removed]",
      "text/latex": [
       "$$EROI_{1 adj} = 3.33333333333333 EROI_{1}$$"
      ],
      "text/plain": [
       "EROI_1_adj = 3.33333333333333⋅EROI₁"
      ]
     },
     "execution_count": 42,
     "metadata": {},
     "output_type": "execute_result"
    }
   ],
   "source": [
    "#EROI_1_adj #makes adjustment for electrical output [MJ_p/MJ_p = dmnl]\n",
    "var('EROI_1_adj');\n",
    "EROI_1_adj_eq=Eq(EROI_1_adj,EROI_1/0.3)\n",
    "EROI_1_adj_eq"
   ]
  },
  {
   "cell_type": "markdown",
   "metadata": {},
   "source": [
    "Energy cost of operating CCS plant"
   ]
  },
  {
   "cell_type": "code",
   "execution_count": 46,
   "metadata": {
    "collapsed": false
   },
   "outputs": [
    {
     "data": {
      "image/png": "[encoded data removed]",
      "text/latex": [
       "$$EROI_{2} = \\frac{8760 PP_{CF} PP_{L} \\left(- b + 1\\right)}{CCS_{op} f_{op} + PP_{cons energy} + PP_{op L} + \\frac{CCS_{cons energy}}{CCS_{L}} PP_{L}}$$"
      ],
      "text/plain": [
       "                           8760⋅PP_CF⋅PP_L⋅(-b + 1)                  \n",
       "EROI₂ = ─────────────────────────────────────────────────────────────\n",
       "                                                 CCS_cons_energy⋅PP_L\n",
       "        CCS_op⋅f_op + PP_cons_energy + PP_op_L + ────────────────────\n",
       "                                                        CCS_L        "
      ]
     },
     "execution_count": 46,
     "metadata": {},
     "output_type": "execute_result"
    }
   ],
   "source": [
    "#EROI_2 #where CCS construction energy is a ratio of CCS operation energy [MJ_e/MJ_p = dmnl]\n",
    "var('EROI_2');\n",
    "EROI_2_eq=Eq(EROI_2,8760*PP_L*PP_CF*(1-b)/\\\n",
    "                    (PP_cons_energy + PP_op_L + f_op*CCS_op + CCS_cons_energy*PP_L/CCS_L))\n",
    "EROI_2_eq"
   ]
  },
  {
   "cell_type": "code",
   "execution_count": 47,
   "metadata": {
    "collapsed": false
   },
   "outputs": [
    {
     "data": {
      "image/png": "[encoded data removed]",
      "text/latex": [
       "$$EROI_{2 adj} = 3.33333333333333 EROI_{1}$$"
      ],
      "text/plain": [
       "EROI_2_adj = 3.33333333333333⋅EROI₁"
      ]
     },
     "execution_count": 47,
     "metadata": {},
     "output_type": "execute_result"
    }
   ],
   "source": [
    "#EROI_2_adj #makes adjustment for electrical output [MJ_p/MJ_p = dmnl]\n",
    "var('EROI_2_adj');\n",
    "EROI_2_adj_eq=Eq(EROI_2_adj,EROI_1/0.3)\n",
    "EROI_2_adj_eq"
   ]
  },
  {
   "cell_type": "markdown",
   "metadata": {},
   "source": [
    "Translation to quantities as per defined in the paper"
   ]
  },
  {
   "cell_type": "markdown",
   "metadata": {},
   "source": [
    "### Eq. 5"
   ]
  },
  {
   "cell_type": "code",
   "execution_count": 48,
   "metadata": {
    "collapsed": false
   },
   "outputs": [
    {
     "data": {
      "image/png": "[encoded data removed]",
      "text/latex": [
       "$$EROI_{CCS} = \\frac{EROI \\left(R + 1\\right)}{EROI f_{op} \\left(R + 1\\right) + R + f_{cap} + 1}$$"
      ],
      "text/plain": [
       "                      EROI⋅(R + 1)          \n",
       "EROI_CCS = ─────────────────────────────────\n",
       "           EROI⋅f_op⋅(R + 1) + R + f_cap + 1"
      ]
     },
     "execution_count": 48,
     "metadata": {},
     "output_type": "execute_result"
    }
   ],
   "source": [
    "#R #E_op/E_cap\n",
    "var('R');\n",
    "eq5=Eq(EROI_CCS,(R+1)*EROI/(R+1+f_cap+f_op*(R+1)*EROI))\n",
    "eq5"
   ]
  },
  {
   "cell_type": "code",
   "execution_count": 51,
   "metadata": {
    "collapsed": false
   },
   "outputs": [
    {
     "data": {
      "image/png": "[encoded data removed]",
      "text/latex": [
       "$$R = \\frac{E_{op}}{E_{cap}}$$"
      ],
      "text/plain": [
       "     E_op\n",
       "R = ─────\n",
       "    E_cap"
      ]
     },
     "execution_count": 51,
     "metadata": {},
     "output_type": "execute_result"
    }
   ],
   "source": [
    "var('E_op E_cap');\n",
    "R_eq=Eq(R,E_op/E_cap)\n",
    "R_eq"
   ]
  },
  {
   "cell_type": "markdown",
   "metadata": {},
   "source": [
    "### Eq. 4"
   ]
  },
  {
   "cell_type": "code",
   "execution_count": 52,
   "metadata": {
    "collapsed": false
   },
   "outputs": [
    {
     "data": {
      "image/png": "[encoded data removed]",
      "text/latex": [
       "$$EROI_{CCS} = \\frac{E_{out}}{E_{cap} \\left(f_{cap} + 1\\right) + E_{op} + E_{out} f_{op}}$$"
      ],
      "text/plain": [
       "                           E_out                \n",
       "EROI_CCS = ─────────────────────────────────────\n",
       "           E_cap⋅(f_cap + 1) + E_op + E_out⋅f_op"
      ]
     },
     "execution_count": 52,
     "metadata": {},
     "output_type": "execute_result"
    }
   ],
   "source": [
    "var('E_CCS E_out E_red');\n",
    "eq4=Eq(EROI_CCS,E_out/((1+f_cap)*E_cap+E_op+f_op*E_out))\n",
    "eq4"
   ]
  },
  {
   "cell_type": "code",
   "execution_count": 53,
   "metadata": {
    "collapsed": false
   },
   "outputs": [
    {
     "data": {
      "image/png": "[encoded data removed]",
      "text/latex": [
       "$$f_{op} = \\frac{E_{red}}{E_{out}}$$"
      ],
      "text/plain": [
       "       E_red\n",
       "f_op = ─────\n",
       "       E_out"
      ]
     },
     "execution_count": 53,
     "metadata": {},
     "output_type": "execute_result"
    }
   ],
   "source": [
    "f_op_eq=Eq(f_op,E_red/E_out)\n",
    "f_op_eq"
   ]
  },
  {
   "cell_type": "code",
   "execution_count": 103,
   "metadata": {
    "collapsed": false
   },
   "outputs": [
    {
     "data": {
      "image/png": "[encoded data removed]",
      "text/latex": [
       "$$f_{cap} = \\frac{E_{CCS}}{E_{cap}}$$"
      ],
      "text/plain": [
       "        E_CCS\n",
       "f_cap = ─────\n",
       "        E_cap"
      ]
     },
     "execution_count": 103,
     "metadata": {},
     "output_type": "execute_result"
    }
   ],
   "source": [
    "f_cap_eq=Eq(f_cap,E_CCS/E_cap)\n",
    "f_cap_eq"
   ]
  },
  {
   "cell_type": "markdown",
   "metadata": {},
   "source": [
    "### Eq. 3"
   ]
  },
  {
   "cell_type": "code",
   "execution_count": 92,
   "metadata": {
    "collapsed": false
   },
   "outputs": [
    {
     "data": {
      "image/png": "[encoded data removed]",
      "text/latex": [
       "$$EROI_{CCS} = \\frac{E_{out}}{E_{CCS} + E_{cap} + E_{op} + E_{red}}$$"
      ],
      "text/plain": [
       "                      E_out            \n",
       "EROI_CCS = ────────────────────────────\n",
       "           E_CCS + E_cap + E_op + E_red"
      ]
     },
     "execution_count": 92,
     "metadata": {},
     "output_type": "execute_result"
    }
   ],
   "source": [
    "eq3=Eq(EROI_CCS,E_out/(E_cap+E_op+E_red+E_CCS))\n",
    "eq3"
   ]
  },
  {
   "cell_type": "markdown",
   "metadata": {},
   "source": [
    "### Eq. 1"
   ]
  },
  {
   "cell_type": "code",
   "execution_count": 93,
   "metadata": {
    "collapsed": false
   },
   "outputs": [
    {
     "data": {
      "image/png": "[encoded data removed]",
      "text/latex": [
       "$$EROI = \\frac{E_{out}}{E_{in}}$$"
      ],
      "text/plain": [
       "       E_out\n",
       "EROI = ─────\n",
       "        E_in"
      ]
     },
     "execution_count": 93,
     "metadata": {},
     "output_type": "execute_result"
    }
   ],
   "source": [
    "var('E_in');\n",
    "eq1=Eq(EROI,E_out/E_in)\n",
    "eq1"
   ]
  },
  {
   "cell_type": "code",
   "execution_count": 94,
   "metadata": {
    "collapsed": false
   },
   "outputs": [
    {
     "data": {
      "image/png": "[encoded data removed]",
      "text/latex": [
       "$$E_{in} = E_{cap} + E_{op}$$"
      ],
      "text/plain": [
       "E_in = E_cap + E_op"
      ]
     },
     "execution_count": 94,
     "metadata": {},
     "output_type": "execute_result"
    }
   ],
   "source": [
    "E_in_eq=Eq(E_in,E_cap+E_op)\n",
    "E_in_eq"
   ]
  },
  {
   "cell_type": "code",
   "execution_count": 95,
   "metadata": {
    "collapsed": false
   },
   "outputs": [
    {
     "data": {
      "image/png": "[encoded data removed]",
      "text/latex": [
       "$$E_{cap} + E_{op}$$"
      ],
      "text/plain": [
       "E_cap + E_op"
      ]
     },
     "execution_count": 95,
     "metadata": {},
     "output_type": "execute_result"
    }
   ],
   "source": [
    "solve(E_in_eq,E_in)[0]"
   ]
  },
  {
   "cell_type": "code",
   "execution_count": 96,
   "metadata": {
    "collapsed": false
   },
   "outputs": [
    {
     "data": {
      "image/png": "[encoded data removed]",
      "text/latex": [
       "$$EROI = \\frac{E_{out}}{E_{cap} + E_{op}}$$"
      ],
      "text/plain": [
       "          E_out    \n",
       "EROI = ────────────\n",
       "       E_cap + E_op"
      ]
     },
     "execution_count": 96,
     "metadata": {},
     "output_type": "execute_result"
    }
   ],
   "source": [
    "eq1.subs([[E_in,solve(E_in_eq,E_in)[0]]])"
   ]
  },
  {
   "cell_type": "markdown",
   "metadata": {},
   "source": [
    "### Verification\n",
    "Bactkrack to Eq. 3 from Eq. 5"
   ]
  },
  {
   "cell_type": "code",
   "execution_count": 97,
   "metadata": {
    "collapsed": false
   },
   "outputs": [
    {
     "data": {
      "image/png": "[encoded data removed]",
      "text/latex": [
       "$$EROI_{CCS} = \\frac{EROI \\left(R + 1\\right)}{EROI f_{op} \\left(R + 1\\right) + R + f_{cap} + 1}$$"
      ],
      "text/plain": [
       "                      EROI⋅(R + 1)          \n",
       "EROI_CCS = ─────────────────────────────────\n",
       "           EROI⋅f_op⋅(R + 1) + R + f_cap + 1"
      ]
     },
     "execution_count": 97,
     "metadata": {},
     "output_type": "execute_result"
    }
   ],
   "source": [
    "eq5"
   ]
  },
  {
   "cell_type": "markdown",
   "metadata": {},
   "source": [
    "Get back Eq. 4 from Eq. 5"
   ]
  },
  {
   "cell_type": "code",
   "execution_count": 98,
   "metadata": {
    "collapsed": false
   },
   "outputs": [
    {
     "data": {
      "image/png": "[encoded data removed]",
      "text/latex": [
       "$$EROI_{CCS} = \\frac{E_{out}}{E_{cap} \\left(f_{cap} + 1\\right) + E_{op} + E_{out} f_{op}}$$"
      ],
      "text/plain": [
       "                           E_out                \n",
       "EROI_CCS = ─────────────────────────────────────\n",
       "           E_cap⋅(f_cap + 1) + E_op + E_out⋅f_op"
      ]
     },
     "execution_count": 98,
     "metadata": {},
     "output_type": "execute_result"
    }
   ],
   "source": [
    "eq5.subs([[R,solve(R_eq,R)[0]],\\\n",
    "          [EROI,solve(eq1.subs([[E_in,solve(E_in_eq,E_in)[0]]]),EROI)[0]]]).simplify()"
   ]
  },
  {
   "cell_type": "code",
   "execution_count": 99,
   "metadata": {
    "collapsed": false
   },
   "outputs": [
    {
     "data": {
      "image/png": "[encoded data removed]",
      "text/latex": [
       "$$EROI_{CCS} = \\frac{E_{out}}{E_{cap} \\left(f_{cap} + 1\\right) + E_{op} + E_{out} f_{op}}$$"
      ],
      "text/plain": [
       "                           E_out                \n",
       "EROI_CCS = ─────────────────────────────────────\n",
       "           E_cap⋅(f_cap + 1) + E_op + E_out⋅f_op"
      ]
     },
     "execution_count": 99,
     "metadata": {},
     "output_type": "execute_result"
    }
   ],
   "source": [
    "eq4"
   ]
  },
  {
   "cell_type": "markdown",
   "metadata": {},
   "source": [
    "Get back Eq. 3 from Eq. 4"
   ]
  },
  {
   "cell_type": "code",
   "execution_count": 104,
   "metadata": {
    "collapsed": false
   },
   "outputs": [
    {
     "data": {
      "image/png": "[encoded data removed]",
      "text/latex": [
       "$$EROI_{CCS} = \\frac{E_{out}}{E_{CCS} + E_{cap} + E_{op} + E_{red}}$$"
      ],
      "text/plain": [
       "                      E_out            \n",
       "EROI_CCS = ────────────────────────────\n",
       "           E_CCS + E_cap + E_op + E_red"
      ]
     },
     "execution_count": 104,
     "metadata": {},
     "output_type": "execute_result"
    }
   ],
   "source": [
    "eq4.subs([[f_op,solve(f_op_eq,f_op)[0]],\\\n",
    "         [f_cap,solve(f_cap_eq,f_cap)[0]]]).simplify()"
   ]
  },
  {
   "cell_type": "code",
   "execution_count": 105,
   "metadata": {
    "collapsed": false
   },
   "outputs": [
    {
     "data": {
      "image/png": "[encoded data removed]",
      "text/latex": [
       "$$EROI_{CCS} = \\frac{E_{out}}{E_{CCS} + E_{cap} + E_{op} + E_{red}}$$"
      ],
      "text/plain": [
       "                      E_out            \n",
       "EROI_CCS = ────────────────────────────\n",
       "           E_CCS + E_cap + E_op + E_red"
      ]
     },
     "execution_count": 105,
     "metadata": {},
     "output_type": "execute_result"
    }
   ],
   "source": [
    "eq3"
   ]
  },
  {
   "cell_type": "markdown",
   "metadata": {},
   "source": [
    "### Translate\n",
    "Translate example notation into paper equation notations"
   ]
  },
  {
   "cell_type": "code",
   "execution_count": 108,
   "metadata": {
    "collapsed": false
   },
   "outputs": [
    {
     "data": {
      "image/png": "[encoded data removed]",
      "text/latex": [
       "$$EROI_{CCS} = \\frac{E_{out}}{E_{CCS} + E_{cap} + E_{op} + E_{red}}$$"
      ],
      "text/plain": [
       "                      E_out            \n",
       "EROI_CCS = ────────────────────────────\n",
       "           E_CCS + E_cap + E_op + E_red"
      ]
     },
     "execution_count": 108,
     "metadata": {},
     "output_type": "execute_result"
    }
   ],
   "source": [
    "eq3"
   ]
  },
  {
   "cell_type": "code",
   "execution_count": 109,
   "metadata": {
    "collapsed": false
   },
   "outputs": [
    {
     "data": {
      "image/png": "[encoded data removed]",
      "text/latex": [
       "$$E_{out} = 8760 PP_{CF} PP_{L} \\left(- b + 1\\right)$$"
      ],
      "text/plain": [
       "E_out = 8760⋅PP_CF⋅PP_L⋅(-b + 1)"
      ]
     },
     "execution_count": 109,
     "metadata": {},
     "output_type": "execute_result"
    }
   ],
   "source": [
    "E_out_eq=Eq(E_out,8760*PP_L*PP_CF*(1-b))\n",
    "E_out_eq"
   ]
  },
  {
   "cell_type": "code",
   "execution_count": 115,
   "metadata": {
    "collapsed": false
   },
   "outputs": [
    {
     "data": {
      "image/png": "[encoded data removed]",
      "text/latex": [
       "$$E_{out} = 8760 PP_{CF} PP_{L} \\left(- \\frac{3.6 CR}{\\eta} C_{CO2} \\left(- 85.031 CR^{5} + 114.5 CR^{4} - 80.385 CR^{3} + 31.47 CR^{2} - 6.7725 CR + 305863028.421403\\right) + 1\\right)$$"
      ],
      "text/plain": [
       "                        ⎛               ⎛           5           4            3\n",
       "                        ⎜  3.6⋅CR⋅C_CO2⋅⎝- 85.031⋅CR  + 114.5⋅CR  - 80.385⋅CR \n",
       "E_out = 8760⋅PP_CF⋅PP_L⋅⎜- ───────────────────────────────────────────────────\n",
       "                        ⎝                                                 η   \n",
       "\n",
       "           2                               ⎞    ⎞\n",
       " + 31.47⋅CR  - 6.7725⋅CR + 305863028.421403⎠    ⎟\n",
       "──────────────────────────────────────────── + 1⎟\n",
       "                                                ⎠"
      ]
     },
     "execution_count": 115,
     "metadata": {},
     "output_type": "execute_result"
    }
   ],
   "source": [
    "E_out_eq.subs([[b,solve(b_eq,b)[0]]])\\\n",
    "        .subs([[CCS_op,solve(CCS_op_eq,CCS_op)[0]]])\\\n",
    "        .subs([[Elec_CO2,solve(Elec_CO2_eq,Elec_CO2)[0]]])"
   ]
  },
  {
   "cell_type": "markdown",
   "metadata": {},
   "source": [
    "... ?"
   ]
  },
  {
   "cell_type": "markdown",
   "metadata": {},
   "source": [
    "Construct from bottom up"
   ]
  },
  {
   "cell_type": "code",
   "execution_count": 125,
   "metadata": {
    "collapsed": false
   },
   "outputs": [
    {
     "data": {
      "image/png": "[encoded data removed]",
      "text/latex": [
       "$$EROI_{CCS} = \\frac{E_{out}}{E_{CCS} + E_{cap} + E_{op} + E_{red}}$$"
      ],
      "text/plain": [
       "                      E_out            \n",
       "EROI_CCS = ────────────────────────────\n",
       "           E_CCS + E_cap + E_op + E_red"
      ]
     },
     "execution_count": 125,
     "metadata": {},
     "output_type": "execute_result"
    }
   ],
   "source": [
    "eq3"
   ]
  }
 ],
 "metadata": {
  "anaconda-cloud": {},
  "kernelspec": {
   "display_name": "Python [default]",
   "language": "python",
   "name": "python2"
  },
  "language_info": {
   "codemirror_mode": {
    "name": "ipython",
    "version": 2
   },
   "file_extension": ".py",
   "mimetype": "text/x-python",
   "name": "python",
   "nbconvert_exporter": "python",
   "pygments_lexer": "ipython2",
   "version": "2.7.12"
  }
 },
 "nbformat": 4,
 "nbformat_minor": 0
}
