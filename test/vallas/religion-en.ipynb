{
 "metadata": {
  "name": "",
  "signature": "sha256:90479418330e6250388c22816c2c2ddeb0de27463b48bc3b8f38a15fbf2c0f7a"
 },
 "nbformat": 3,
 "nbformat_minor": 0,
 "worksheets": [
  {
   "cells": [
    {
     "cell_type": "code",
     "collapsed": false,
     "input": [
      "import numpy as np, pandas as pd\n",
      "from pygeocoder import Geocoder\n",
      "import matplotlib.pyplot as plt\n",
      "%matplotlib inline"
     ],
     "language": "python",
     "metadata": {},
     "outputs": [],
     "prompt_number": 1
    },
    {
     "cell_type": "code",
     "collapsed": false,
     "input": [
      "df=pd.read_excel('http://www.recensamantromania.ro/wp-content/uploads/2013/07/sR_TAB_13.xls')\n",
      "megye=[]\n",
      "for i in df.index[6:3434]:\n",
      "    try:\n",
      "        if np.isnan(df.ix[int(i)-1,u'13. POPULATIA  STABILA DUPA RELIGIE  - JUDETE, MUNICIPII, ORASE, COMUNE']) and\\\n",
      "            np.isnan(df.ix[int(i)+1,u'13. POPULATIA  STABILA DUPA RELIGIE  - JUDETE, MUNICIPII, ORASE, COMUNE']):\n",
      "            megye.append([i,df.ix[i,u'13. POPULATIA  STABILA DUPA RELIGIE  - JUDETE, MUNICIPII, ORASE, COMUNE']])\n",
      "    except:\n",
      "        pass"
     ],
     "language": "python",
     "metadata": {},
     "outputs": [],
     "prompt_number": 82
    },
    {
     "cell_type": "code",
     "collapsed": false,
     "input": [
      "#run once only!\n",
      "df=df.drop([u'Unnamed: 1',u'Unnamed: 24'],axis=1)\n",
      "df.columns=[u'Falu',u'Ortodox',u'Katolikus',u'Reform\u00e1tus',u'P\u00fcnk\u00f6sdista',u'G\u00f6r\u00f6g katolikus',u'Baptista',u'Adventista',u'Muzulm\u00e1n',u'Unit\u00e1rius',u'Jehova tan\u00faja',u'Luther\u00e1nus evang\u00e9likus',u'\u00d3katolikus',u'Luther\u00e1nus',u'Szerb ortodox',u'Evang\u00e9likus',u'K\u00e1lvinista',u'Zsid\u00f3',u'\u00d6rm\u00e9ny',u'M\u00e1s',u'Nem vall\u00e1sos',u'Ateista',u'N/A']\n",
      "df=df.drop(u'N/A',axis=1)"
     ],
     "language": "python",
     "metadata": {},
     "outputs": [],
     "prompt_number": 83
    },
    {
     "cell_type": "code",
     "collapsed": false,
     "input": [
      "#run once only!\n",
      "df=df.loc[df.index[7:]]"
     ],
     "language": "python",
     "metadata": {},
     "outputs": [],
     "prompt_number": 84
    },
    {
     "cell_type": "code",
     "collapsed": false,
     "input": [
      "data={}\n",
      "data2={}\n",
      "data3={}\n",
      "ez=0\n",
      "for i in df.index:\n",
      "    try:\n",
      "        if megye[ez][0]<i: ez+=1\n",
      "        if not (megye[ez][1]==df.ix[int(i),u'Falu']):\n",
      "            if df.ix[int(i),u'Falu'] not in [u'  A. MUNICIPII SI ORASE',u'  B. COMUNE',np.NaN,'NaN']:\n",
      "                if megye[ez-1][1][2:] not in data: data[megye[ez-1][1][2:]]={}\n",
      "                data[megye[ez-1][1][2:]][df.ix[int(i),u'Falu'][3:]]={}\n",
      "                data3[df.ix[int(i),u'Falu'][2:]]={}\n",
      "                for j in df.columns[1:]:\n",
      "                    if df.ix[int(i),j] not in [u'*',u'-',np.NaN,'NaN']:\n",
      "                        data[megye[ez-1][1][2:]][df.ix[int(i),u'Falu'][3:]][j]=df.ix[int(i),j]   \n",
      "                        data3[df.ix[int(i),u'Falu'][2:]][j]=df.ix[int(i),j] \n",
      "        else: \n",
      "            if df.ix[int(i),u'Falu'] not in [u'  A. MUNICIPII SI ORASE',u'  B. COMUNE',np.NaN,'NaN']:\n",
      "                data2[df.ix[int(i),u'Falu'][2:]]={}\n",
      "                for j in df.columns[1:]:\n",
      "                    if df.ix[int(i),j] not in [u'*',u'-',np.NaN,'NaN']:\n",
      "                        data2[df.ix[int(i),u'Falu'][2:]][j]=df.ix[int(i),j]  \n",
      "    except: pass"
     ],
     "language": "python",
     "metadata": {},
     "outputs": [],
     "prompt_number": 6
    },
    {
     "cell_type": "code",
     "collapsed": false,
     "input": [
      "#add Bucharest to main dataset\n",
      "data['MUNICIPIUL BUCURESTI']={}\n",
      "data['MUNICIPIUL BUCURESTI']['MUNICIPIUL BUCURESTI']=data2['MUNICIPIUL BUCURESTI']"
     ],
     "language": "python",
     "metadata": {},
     "outputs": [],
     "prompt_number": 10
    },
    {
     "cell_type": "code",
     "collapsed": false,
     "input": [
      "#save religion data\n",
      "import json\n",
      "file('data.json','w').write(json.dumps(data))\n",
      "file('data2.json','w').write(json.dumps(data2))\n",
      "file('data3.json','w').write(json.dumps(data3))"
     ],
     "language": "python",
     "metadata": {},
     "outputs": [],
     "prompt_number": 11
    },
    {
     "cell_type": "code",
     "collapsed": false,
     "input": [
      "#county name converter\n",
      "cc={}\n",
      "for i in pd.read_csv('ro.csv').T.iteritems():\n",
      "    if ' '+i[1][11].upper() not in cc: cc[' '+i[1][11].upper()]=i[1][9].upper()\n",
      "\n",
      "#fix db\n",
      "cc['Bicazu ']='BACAU'\n",
      "cc['Municipiul Brasov']='BRASOV'\n",
      "cc['Oras intorsura ']='COVASNA'\n",
      "cc['Sanmihaiu de ']='MURES'\n",
      "cc['Municipiul Resita CS']='CARAS-SEVERIN'\n",
      "\n",
      "\n",
      "#hungarian settlement names, where applicable\n",
      "hun3={}\n",
      "dh=pd.read_csv('magyar.csv',sep='|').dropna(axis=0)\n",
      "for i in dh.T.iteritems():\n",
      "    try:\n",
      "        m=cc[i[1][1][str.find(i[1][1],',')+1:]] #county\n",
      "        if m not in hun3: hun3[m]={}\n",
      "        f=i[1][1][:str.find(i[1][1],',')].upper() #comune\n",
      "        if (i[1][2]):\n",
      "            if  (i[1][0].upper()[:-1]==f): # village\n",
      "                hun3[m][f]=i[1][2]\n",
      "            if  ('MUNICIPIUL '+i[1][0].upper()[:-1]==f): # city\n",
      "                hun3[m][f]=i[1][2]\n",
      "            if  ('ORAS '+i[1][0].upper()[:-1]==f): # town\n",
      "                hun3[m][f]=repr(i[1][2])\n",
      "    except: pass\n",
      "    \n",
      "file('hun2.json','w').write(json.dumps(hun3))"
     ],
     "language": "python",
     "metadata": {},
     "outputs": [],
     "prompt_number": 163
    },
    {
     "cell_type": "code",
     "collapsed": false,
     "input": [
      "#parse country for settlement coordinates\n",
      "coords={}\n",
      "de=pd.read_csv('ro.csv')\n",
      "for i in de.T.iteritems():\n",
      "    if i[1][9].upper() not in coords: coords[i[1][9].upper()]={}\n",
      "    if i[1][5]!='V':\n",
      "        coords[i[1][9].upper()][i[1][8].upper()]=[i[1][0],i[1][1]]\n",
      "    coords[i[1][9].upper()][i[1][2].upper()]=[i[1][0],i[1][1]]\n",
      "    if i[1][11].upper() not in cc: cc[i[1][11].upper()]=i[1][9].upper()\n",
      "\n",
      "#fix db\n",
      "coords['MURES']['ORAS SANGEORGIU DE PADURE']=[Geocoder.geocode('SANGEORGIU DE PADURE').coordinates[1],Geocoder.geocode('SANGEORGIU DE PADURE').coordinates[0]]\n",
      "coords['MURES']['RICIU']=[Geocoder.geocode('RICIU, MURES, ROMANIA').coordinates[1],Geocoder.geocode('RICIU, MURES, ROMANIA').coordinates[0]]    \n",
      "coords['MUNICIPIUL BUCURESTI']={'MUNICIPIUL BUCURESTI':coords['BUCURESTI']['MUNICIPIUL BUCURESTI']}\n",
      "coords['HARGHITA']['RICIU']=[Geocoder.geocode('RICIU, MURES, ROMANIA').coordinates[1],Geocoder.geocode('RICIU, MURES, ROMANIA').coordinates[0]]    \n",
      "import json\n",
      "file('coords2.json','w').write(json.dumps(coords))"
     ],
     "language": "python",
     "metadata": {},
     "outputs": [],
     "prompt_number": 88
    }
   ],
   "metadata": {}
  }
 ]
}