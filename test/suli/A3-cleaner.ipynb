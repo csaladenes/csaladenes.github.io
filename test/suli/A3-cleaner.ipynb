{
 "cells": [
  {
   "cell_type": "code",
   "execution_count": 1005,
   "metadata": {},
   "outputs": [],
   "source": [
    "import pandas as pd\n",
    "import json\n",
    "import numpy as np"
   ]
  },
  {
   "cell_type": "code",
   "execution_count": 1006,
   "metadata": {},
   "outputs": [],
   "source": [
    "dg=pd.read_excel('data/clean/erdely3_manual.xlsx').drop('Unnamed: 0',axis=1)"
   ]
  },
  {
   "cell_type": "markdown",
   "metadata": {},
   "source": [
    "Clean up names"
   ]
  },
  {
   "cell_type": "code",
   "execution_count": 1007,
   "metadata": {},
   "outputs": [
    {
     "name": "stdout",
     "output_type": "stream",
     "text": [
      "22007\n",
      "21523\n"
     ]
    }
   ],
   "source": [
    "print(len(dg))\n",
    "dg=dg.set_index(['Év','Megye','Település','Név','Típus','Profil']).dropna(how='all').reset_index()\n",
    "dg['ID']=dg.index\n",
    "print(len(dg))"
   ]
  },
  {
   "cell_type": "code",
   "execution_count": 1008,
   "metadata": {},
   "outputs": [],
   "source": [
    "megye={'Fehér':'AB', 'Arad':'AR', 'Bukarest':'B', 'Bákó':'BC', 'Bihar':'BH', 'Beszterce-Naszód':'BN',\n",
    "       'Brassó':'BV', 'Kolozs':'CJ', 'Kovászna':'CV', 'Krassó-Szörény':'CS', 'Hunyad':'HD',\n",
    "       'Hargita':'HR', 'Máramaros':'MM', 'Maros':'MS', 'Szeben':'SB', 'Szatmár':'SM', 'Szilágy':'SJ',\n",
    "       'Temes':'TM'}"
   ]
  },
  {
   "cell_type": "code",
   "execution_count": 1009,
   "metadata": {},
   "outputs": [],
   "source": [
    "from difflib import SequenceMatcher\n",
    "from difflib import get_close_matches\n",
    "\n",
    "def similar(a, b):\n",
    "    return SequenceMatcher(None, a, b).ratio()"
   ]
  },
  {
   "cell_type": "code",
   "execution_count": 1010,
   "metadata": {},
   "outputs": [],
   "source": [
    "def replacer(s,d):\n",
    "    for i in d:\n",
    "        s=s.replace(i,d[i])\n",
    "    return s"
   ]
  },
  {
   "cell_type": "code",
   "execution_count": 1011,
   "metadata": {},
   "outputs": [],
   "source": [
    "from fuzzywuzzy import fuzz\n",
    "from fuzzywuzzy import process"
   ]
  },
  {
   "cell_type": "markdown",
   "metadata": {},
   "source": [
    "Import data.gov.ro etalon data"
   ]
  },
  {
   "cell_type": "code",
   "execution_count": 1012,
   "metadata": {},
   "outputs": [],
   "source": [
    "ro={'Ă':'A','Ş':'S','Â':'A','Ș':'S','Ț':'T','Â':'A','Î':'I','Ă':'A','Ţ':'T','-':' ','SC.GEN.':'','I VIII':''}\n",
    "def roman(s):\n",
    "    return replacer(s,ro)"
   ]
  },
  {
   "cell_type": "code",
   "execution_count": 1013,
   "metadata": {},
   "outputs": [],
   "source": [
    "gov=pd.read_excel('data/raw/data.gov.ro/datedeschise-retea-2019-2020.xls')"
   ]
  },
  {
   "cell_type": "code",
   "execution_count": 1014,
   "metadata": {},
   "outputs": [],
   "source": [
    "locs=gov.set_index('Judet')['Localitate']"
   ]
  },
  {
   "cell_type": "code",
   "execution_count": 1035,
   "metadata": {},
   "outputs": [],
   "source": [
    "m='Fehér'"
   ]
  },
  {
   "cell_type": "code",
   "execution_count": 1036,
   "metadata": {},
   "outputs": [],
   "source": [
    "d1=dg[dg['Megye']==m][['Település','Név','ID']]\n",
    "d1['telepules']=[roman(telepules) for telepules in d1['Település'].astype('str').str.upper().str.strip()]\n",
    "locs1=locs.loc[megye[m]].unique()\n",
    "locs2=np.sort([roman(i) for i in locs1])"
   ]
  },
  {
   "cell_type": "code",
   "execution_count": 1037,
   "metadata": {},
   "outputs": [],
   "source": [
    "no_locs={\n",
    "    'Fehér':['GAMBAS','STANA DE MURES'],\n",
    "    'Arad':['FINIS','SUPLACU DE BARCAU'], \n",
    "    'Bukarest':[], \n",
    "    'Bákó':['GHIMES-FAGET'], \n",
    "    'Bihar':['POSOLOACA','GIRISU DE CRIS','DOLEA'], \n",
    "    'Beszterce-Naszód':['FANTANITA','STRUGURENI'],\n",
    "    'Brassó':[], \n",
    "    'Kolozs':['INUCU'], \n",
    "    'Kovászna':['VALEA SCURTA','DOBOLII DE JOS','DOBOLII DE SUS','LUTOASA','TOFALAU','ZOLTAN'], \n",
    "    'Krassó-Szörény':[], \n",
    "    'Hunyad':[],\n",
    "    'Hargita':['ALEXANDRITA','CINOD','DEJUTIU','DIAFALAU','FILIASI','GHIPES','PETECU','RARES','SICASAU','SICLOD','BADENI'], \n",
    "    'Máramaros':[], \n",
    "    'Maros':['CUCERDEA','DAMIENI','ISTICEU','PAUCISOARA','SANTANDREI'], \n",
    "    'Szeben':[], \n",
    "    'Szatmár':[], \n",
    "    'Szilágy':[],\n",
    "    'Temes':[]\n",
    "}\n",
    "\n",
    "init_override={\n",
    "    'Fehér':{\n",
    "        'ALBA':'ALBA IULIA',\n",
    "        'IULIA':'ALBA IULIA',\n",
    "        'GRANOASA':'BUCERDEA GRANOASA',\n",
    "        'MURES':'STANA DE MURES',\n",
    "        'ST. DE MURES':'STANA DE MURES',\n",
    "        'NAN':'OIEJDEA',\n",
    "        'NOUA':'LOPADEA NOUA',\n",
    "        'AIUDUL DE SUS':'AIUD',\n",
    "        'BALTA':'CETATEA DE BALTA',\n",
    "        'STINA DE MURES':'STANA DE MURES',\n",
    "        '“T.COCISIU”BLAJ':'BLAJ'\n",
    "    },\n",
    "    'Arad':{\n",
    "        'CRIS':'CHISINEU-CRIS',\n",
    "        'NEAGRA':'IERMATA NEAGRA',\n",
    "        'ZIMAND CUZ':'ZIMANDCUZ'\n",
    "    },\n",
    "    'Bukarest':{\n",
    "        'BUCURESTI':'BUCURESTI SECTORUL 2',\n",
    "        'ENDRE':'BUCURESTI SECTORUL 2'\n",
    "    },\n",
    "    'Bákó':{\n",
    "        'GERGELY”':'GHIMES',\n",
    "        'GHIMES FAGET':'GHIMES-FAGET',\n",
    "        'GHIMES FEGET':'GHIMES-FAGET'\n",
    "    },\n",
    "    'Bihar':{\n",
    "        'BARCAU':'SUPLACU DE BARCAU',\n",
    "        'BRANCUSI\"ORADEA':'ORADEA',\n",
    "        'EMINESCU\"':'ORADEA',\n",
    "        'G.S.A.E.SALARD':'SALARD',\n",
    "        'GOGA,,':'MARGHITA',\n",
    "        'JOS':'LUGASU DE JOS',\n",
    "        'MIHAI':'VALEA LUI MIHAI',\n",
    "        'SCHILLER\"ORADEA':'ORADEA',\n",
    "        'SIMIAN (SIMIAN NOU   BARANTAU)':'SIMIAN NOU',\n",
    "        'SIMIAN NOU  BARANTAU':'SIMIAN NOU',\n",
    "        'SLAVICI\"ORADEA':'ORADEA',\n",
    "        'VITEAZUL\"':'ORADEA',\n",
    "        'CRIS':'GIRISU DE CRIS',\n",
    "        'GHIBU\"':'ORADEA',\n",
    "        'VULCAN\"':'ORADEA',\n",
    "        'NAN':'CADEA'\n",
    "    },\n",
    "    'Beszterce-Naszód':{\n",
    "        'FIINTINELE ST':'FANTANELE',\n",
    "        'FINTINITA':'FANTANITA',\n",
    "        'NIMIGEA':'NIMIGEA DE JOS',\n",
    "        'TEOR.TEACA':'TEACA',\n",
    "        \"REBREANU’'B TA\":'BISTRITA',\n",
    "        'BRETEA':'SIEU ODORHEI'\n",
    "    },\n",
    "    'Brassó':{\n",
    "        'VECHI':'TICUSU VECHI'\n",
    "    },\n",
    "    'Kolozs':{\n",
    "        'BICALAT':'HUDEIN',\n",
    "        'BICALATU':'HUDEIN',\n",
    "        'HUEDIN BICALAT':'HUDEIN',\n",
    "        'CORNESTI (COMUNA MIHAI VITEAZU)':'MIHAI VITEAZU',\n",
    "        'MIC':'CAPUSU MIC',\n",
    "        'INUC':'INUCU',\n",
    "        'RASCRUCI, JUD. CLUJ':'RASCRUCI',\n",
    "        'SUS':'LUNA DE SUS',\n",
    "        'VALENI, COM. CALATELE':'CALATELE',\n",
    "        'TRITENI COLONIA':'COLONIA',\n",
    "        'TRITENI COLONIE':'COLONIA',\n",
    "        'TRITENI COLONNIE':'COLONIA'\n",
    "    },\n",
    "    'Kovászna':{\n",
    "        'BAI':'MALNAS BAI',\n",
    "        'CALEA SCURTA':'VALEA SCURTA',\n",
    "        'COMOLAU':'RECI',\n",
    "        'COMOLAU   RECI':'RECI',\n",
    "        'GHEORGHE':'SFANTU GHEORGHE',\n",
    "        'LASZLO\"ILIENI':'ILIENI',\n",
    "        'MAJNAS SAT':'MALNAS',\n",
    "        'SEACA':'VALEA SEACA',\n",
    "        'SCURTA':'VALEA SCURTA',\n",
    "        'MALNAS SAT':'MALNAS',\n",
    "        'LUNCA OZUNULUI':'OZUN',\n",
    "        'TINOASA':'TARGU SECUIESC'\n",
    "    },\n",
    "    'Hargita':{\n",
    "        'ANTALOC':'LUNCA DE JOS',\n",
    "        'CATUN BECAS':'BECAS',\n",
    "        'FRUMOASA SAT. BARZAVA':'BARZAVA',\n",
    "        'DITRAU/JOLOTCA':'DITRAU',\n",
    "        'M CIUC':'MIERCUREA CIUC',\n",
    "        'JIGODIN BAI MANO TANODA':'JIGODIN BAI',\n",
    "        'SUBPADURE':'JIGODIN BAI',\n",
    "        'FRUMOASA SAT. NICOLESTI':'NICOLESTI',\n",
    "        'JOLOTCA/TILALMAS':'JOLOTCA',\n",
    "        'JOSENI   BORZONT':'BORZONT',\n",
    "        'ODORHEIU':'ODORHEIU SECUIESC',\n",
    "        'LUNCA DE JOS, VALEA RECE':'LUNCA DE JOS',\n",
    "        'VALEA CAPELEI':'LUNCA DE JOS',\n",
    "        'M CIUC STR TOPLITA':'MIERCUREA CIUC',\n",
    "        'OCNA DE SUSSCOALA GIMNAZIALA \"SZEKELY MOZES\"':'OCNA DE SUS',\n",
    "        'VOSLABENI HEVEDER':'VOSLABENI',\n",
    "        'SCOALA GIMN.\"TORO TIBOR\" ULIES':'ULIES',\n",
    "        'SUMULEU':'MIERCUREA CIUC',\n",
    "        'SCOALA PRIMARA DAIA':'DAIA',\n",
    "        'SCOALA PRIMARA PETECU':'PETECU',\n",
    "        'VALEA LUI ANTALOC':'LUNCA DE JOS',\n",
    "        'VARSAG CENTRU':'VARSAG',\n",
    "        'VARSAG CENTU':'VARSAG',\n",
    "        'VARSAG FANTINA MARE':'VARSAG',\n",
    "        'VARSAG LAZURELE':'VARSAG',\n",
    "        'VARSAG PIATRA SOIMULUI':'VARSAG',\n",
    "        'SUSENI MURES SAT':'SUSENI',\n",
    "        'BETESTI':'CRISTURU SECUIESC',\n",
    "        'OTENI':'TAURENI'\n",
    "    },\n",
    "    'Máramaros':{\n",
    "        'MANAU':'ULMENI',\n",
    "        'VULCAN':'BAIA MARE',\n",
    "        'TISA':'CAMPULUNG LA TISA',\n",
    "        'MINAU':'ULMENI',\n",
    "        'SIGHETU':'SIGHETU MARMATIEI'\n",
    "    },\n",
    "    'Maros':{\n",
    "        'BISTRA   VALE':'BISTRA MURESULUI',\n",
    "        'BOBOHALMA   TARNAVENI':'TARNAVENI',\n",
    "        'BRANCOV':'BRANCOVENESTI',\n",
    "        'CACICIU +NADASA':'NADASA',\n",
    "        'CEUASU DE CIMPIE':'CEUASU DE CAMPIE',\n",
    "        'CHIHERU':'CHIHERU DE JOS',\n",
    "        'MIERCUREA':'MIERCUREA NIRAJULUI',\n",
    "        'CIBU':'FANTANELE',\n",
    "        'COSBUC\"TG.MURES':'TARGU MURES',\n",
    "        'CIOBOTANI':'STANCENI',\n",
    "        'COMORI':'GURGHIU',\n",
    "        'CORNESTI  ADAMUS':'ADAMUS',\n",
    "        'CRAIESTI  ADAMUS':'ADAMUS',\n",
    "        'GH.DOJA':'GHEORGHE DOJA',\n",
    "        'GH. DOJA':'GHEORGHE DOJA',\n",
    "        'D VIOAR':'DUMBRAVIOARA',\n",
    "        'D VIOARA':'DUMBRAVIOARA',\n",
    "        'DAMBAU  ADAMUS':'ADAMUS',\n",
    "        'DUBISTE':'IBANESTI',\n",
    "        'ERCEA':'BALA',\n",
    "        'EREMIENI+DROJDII':'EREMIENI',\n",
    "        'GRUISOR SUVEICA':'GRUISOR',\n",
    "        'LUDUS   ROSIORI':'LUDUS',\n",
    "        'M.NIRAJ':'MIERCUREA NIRAJULUI',\n",
    "        'MAIA +CANDU':'MAIAD',\n",
    "        'MOISA+MERISOR':'MOISA',\n",
    "        'POARTA':'FARAGAU',\n",
    "        'PUSTA':'SINCAI',\n",
    "        'RAPA  DE JOS':'VATAVA',\n",
    "        'SANG. DE M':'SANGEORGIU DE MURES',\n",
    "        'SG. DE MS.':'SANGEORGIU DE MURES',\n",
    "        'SANPETRU DE CAMPIE (SANGEORGIU DE CAMPIE)':'SANGEORGIU DE CAMPIE',\n",
    "        'SEUCA':'GANESTI',\n",
    "        'SG P':'SANGEORGIU DE PADURE',\n",
    "        'SG.DE P':'SANGEORGIU DE PADURE',\n",
    "        'SIGHI':'SIGHISOARA',\n",
    "        'T VENI':'TARNAVENI',\n",
    "        'TG M':'TARGU MURES',\n",
    "        'TG.M':'TARGU MURES',\n",
    "        'SUVEICA':'GRUISOR',\n",
    "        'TOPA':'ALBESTI',\n",
    "        'TUSIN':'SANPETRU DE CAMPIE',\n",
    "        'VALEA GLODULUI':'VALEA LARGA',\n",
    "        'DILEU NOU':'SANPAUL',\n",
    "        'SACADATU DE JOS':'SOVATA',\n",
    "        'ADRIANU MARE':'ADRIAN',\n",
    "        'BOZED':'BEZID',\n",
    "        'DEAG':'IERNUT',\n",
    "        'DUMBRAV.':'DUMBRAVIOARA',\n",
    "        'MIC':'BUDIU MIC'\n",
    "    },\n",
    "    'Szeben':{\n",
    "        'COPSA':'COPSA MARE',\n",
    "        'ALMA   SMIG':'SMIG'\n",
    "    },\n",
    "    'Szatmár':{\n",
    "        'MARE':'SATU MARE',\n",
    "        'NADIS':'NADISU HODODULUI',\n",
    "        'OASULUI':'ORASU NOU',\n",
    "        'PELISOR':'LAZURI',\n",
    "        'NOU':'ORASU NOU'\n",
    "    },\n",
    "    'Szilágy':{\n",
    "        'AGHIRES/AGHIRES':'AGHIRES',\n",
    "        'ARCHID COSEIU':'ARCHID',\n",
    "        'BIUSA ALUNIS':'BIUSA',\n",
    "        'CRISTUR':'CRISTUR CRISENI',\n",
    "        'DIOSOD PANIC':'DIOSOD',\n",
    "        'GIRCEIU/GIRCEIU':'GIRCEIU',\n",
    "        'UILEACU SIMLEULUI':'MAERISTE'\n",
    "    }\n",
    "}\n",
    "\n",
    "def init(s,m):\n",
    "    if m in init_override:\n",
    "        if s in init_override[m]:\n",
    "            return init_override[m][s]\n",
    "    return s"
   ]
  },
  {
   "cell_type": "code",
   "execution_count": 1040,
   "metadata": {},
   "outputs": [],
   "source": [
    "for telepules in np.sort(d1['telepules'].unique()):\n",
    "    t=init(telepules,m)\n",
    "    s=process.extractOne(t, locs2, scorer=fuzz.token_sort_ratio)\n",
    "    if s[1]>70: s=s[0]\n",
    "    else: s=''\n",
    "    if t in no_locs[m]: s=t\n",
    "#     print(telepules,'['+s+']')\n",
    "    if ((s=='') or (t=='NAN') or (t=='')):\n",
    "        print(telepules,'['+s+']')\n",
    "        print(d1[d1['telepules']==telepules]['Név'])\n"
   ]
  },
  {
   "cell_type": "markdown",
   "metadata": {},
   "source": [
    "Assign new telepules names"
   ]
  },
  {
   "cell_type": "code",
   "execution_count": 1026,
   "metadata": {},
   "outputs": [],
   "source": [
    "mlocs={}\n",
    "for m in megye:\n",
    "    locs1=locs.loc[megye[m]].unique()\n",
    "    mlocs[m]=np.sort([roman(i) for i in locs1])"
   ]
  },
  {
   "cell_type": "code",
   "execution_count": 1054,
   "metadata": {},
   "outputs": [
    {
     "name": "stdout",
     "output_type": "stream",
     "text": [
      "Fehér\n",
      "Arad\n",
      "Bukarest\n",
      "Bákó\n",
      "Bihar\n",
      "Beszterce-Naszód\n",
      "Brassó\n",
      "Kolozs\n",
      "Kovászna\n",
      "Krassó-Szörény\n",
      "Hunyad\n",
      "Hargita\n",
      "Máramaros\n",
      "Maros\n",
      "Szeben\n",
      "Szatmár\n",
      "Szilágy\n",
      "Temes\n"
     ]
    }
   ],
   "source": [
    "mtelepules={}\n",
    "for m in megye:\n",
    "    print(m)\n",
    "    locs1=locs.loc[megye[m]].unique()\n",
    "    locs2=np.sort([roman(i) for i in locs1])\n",
    "    mlocs[m]=np.sort([roman(i) for i in locs1])\n",
    "    d1=dg[dg['Megye']==m][['Település','Név','ID']]\n",
    "    for telepules in np.sort(d1['Település'].astype(str).unique()):\n",
    "        t=roman(telepules.upper().strip())\n",
    "        t=init(t,m)\n",
    "        s=process.extractOne(t, locs2, scorer=fuzz.token_sort_ratio)\n",
    "        if s[1]>70: s=s[0]\n",
    "        else: s=''\n",
    "        if t in no_locs[m]: s=t\n",
    "        # print(telepules,'['+s+']')\n",
    "        if ((s=='') or (t=='NAN') or (t=='')):\n",
    "            print(telepules,'['+s+']')\n",
    "            print(d1[d1['telepules']==telepules]['Név'])\n",
    "        if m not in mtelepules:\n",
    "            mtelepules[m]={}\n",
    "        mtelepules[m][telepules]=s"
   ]
  },
  {
   "cell_type": "code",
   "execution_count": 1056,
   "metadata": {},
   "outputs": [],
   "source": [
    "telepules_norm=[]\n",
    "for i in list(dg.T.iteritems()):\n",
    "    m=i[1][1]\n",
    "    locs2=mlocs[m]\n",
    "    telepules=roman(str(i[1][2]).upper().strip())\n",
    "    t=init(telepules,m)\n",
    "    s=process.extractOne(t, locs2, scorer=fuzz.token_sort_ratio)\n",
    "    if s[1]>70: s=s[0]\n",
    "    else: s=''\n",
    "    if t in no_locs[m]: s=t\n",
    "    telepules_norm.append(s)\n",
    "dg['telepules']=telepules_norm"
   ]
  },
  {
   "cell_type": "code",
   "execution_count": 1058,
   "metadata": {},
   "outputs": [],
   "source": [
    "dg.to_excel('data/clean/erdely4.xlsx')"
   ]
  },
  {
   "cell_type": "markdown",
   "metadata": {},
   "source": [
    "Resolve school names"
   ]
  },
  {
   "cell_type": "code",
   "execution_count": 1324,
   "metadata": {},
   "outputs": [],
   "source": [
    "dg=pd.read_excel('data/clean/erdely4_manual.xlsx').drop('Unnamed: 0',axis=1)"
   ]
  },
  {
   "cell_type": "markdown",
   "metadata": {},
   "source": [
    "Edit manually, remove duplicates / totals"
   ]
  },
  {
   "cell_type": "code",
   "execution_count": 1325,
   "metadata": {},
   "outputs": [],
   "source": [
    "totals=[12479,12484,12488,12494,12499,12509,12517,12521,12529,12534,12541,12545,12548,12551,12557,12565,12570,12574,12581,12584,\n",
    "       12586,12590,12598,12603,12606,12608,12613,12616,12619,12628,12634,12640,12650,12653,12658,12665,12668,18728]\n",
    "dg=dg[~dg['ID'].isin(totals)]"
   ]
  },
  {
   "cell_type": "markdown",
   "metadata": {},
   "source": [
    "Consistency testing"
   ]
  },
  {
   "cell_type": "markdown",
   "metadata": {},
   "source": [
    "- Osztalyok szama"
   ]
  },
  {
   "cell_type": "code",
   "execution_count": 1327,
   "metadata": {},
   "outputs": [
    {
     "name": "stdout",
     "output_type": "stream",
     "text": [
      "14. osztályok száma\n"
     ]
    }
   ],
   "source": [
    "#10,12,14,16,18,19,20,21,23,25,27,29,31,33,35,37,39,41,43,45,47,49,51,53\n",
    "c=dg.columns[55]\n",
    "print(c)"
   ]
  },
  {
   "cell_type": "code",
   "execution_count": 1328,
   "metadata": {},
   "outputs": [
    {
     "data": {
      "text/plain": [
       "Series([], Name: 14. osztályok száma, dtype: float64)"
      ]
     },
     "execution_count": 1328,
     "metadata": {},
     "output_type": "execute_result"
    }
   ],
   "source": [
    "dk=dg.set_index(['Év', 'Megye', 'Település','ID'])[c].astype(str).str.replace(',','.').str.replace('-','nan')\\\n",
    "    .str.replace('*','nan').str.replace('16nan','16').replace('nan0nan','nan').str.replace(' ','nan').str.replace('nannannan','nan')\\\n",
    "    .str.replace('nannan','nan').str.replace('?','nan').str.replace('0.nan25','nan').str.replace('nan0.5','nan').str.replace('nannan','nan').astype(float)\n",
    "dk[dk>5]"
   ]
  },
  {
   "cell_type": "code",
   "execution_count": 1329,
   "metadata": {},
   "outputs": [
    {
     "name": "stdout",
     "output_type": "stream",
     "text": [
      "Óvodás csoportok összesen\n",
      "Óvodások összesen\n",
      "Kiscsoportok száma\n",
      "Kiscsoportosok\n",
      "Középcsoportok száma\n",
      "Középcsoportosok\n",
      "Nagycsoportok száma\n",
      "Nagycsoportosok\n",
      "Vegyes csoportok száma\n",
      "Vegyescsoportosok\n",
      "Tanítók összesen\n",
      "Képzett tanítók\n",
      "Képzetlen tanítók\n",
      "Elemi osztályok összesen\n",
      "Elemisek összesen\n",
      "Előkészítő osztályok száma\n",
      "Előkészítő osztályosok\n",
      "1. osztályok száma\n",
      "1. osztályosok\n",
      "2. osztályok száma\n",
      "2. osztályosok\n",
      "3. osztályok száma\n",
      "3. osztályosok\n",
      "4. osztályok száma\n",
      "4. osztályosok\n",
      "Általános osztályok összesen\n",
      "Általánososok összesen\n",
      "5. osztályok száma\n",
      "5. osztályosok\n",
      "6. osztályok száma\n",
      "6. osztályosok\n",
      "7. osztályok száma\n",
      "7. osztályosok\n",
      "8. osztályok száma\n",
      "8. osztályosok\n",
      "Középiskolai osztályok összesen\n",
      "Középiskolások összesen\n",
      "9. osztályok száma\n",
      "9. osztályosok\n",
      "10. osztályok száma\n",
      "10. osztályosok\n",
      "11. osztályok száma\n",
      "11. osztályosok\n",
      "12. osztályok száma\n",
      "12. osztályosok\n",
      "13. osztályok száma\n",
      "13. osztályosok\n",
      "14. osztályok száma\n",
      "14. osztályosok\n"
     ]
    }
   ],
   "source": [
    "for c in ['Óvodás csoportok összesen', 'Óvodások összesen',\n",
    "       'Kiscsoportok száma', 'Kiscsoportosok', 'Középcsoportok száma',\n",
    "       'Középcsoportosok', 'Nagycsoportok száma', 'Nagycsoportosok',\n",
    "       'Vegyes csoportok száma', 'Vegyescsoportosok', 'Tanítók összesen',\n",
    "       'Képzett tanítók', 'Képzetlen tanítók', 'Elemi osztályok összesen',\n",
    "       'Elemisek összesen', 'Előkészítő osztályok száma',\n",
    "       'Előkészítő osztályosok', '1. osztályok száma', '1. osztályosok',\n",
    "       '2. osztályok száma', '2. osztályosok', '3. osztályok száma',\n",
    "       '3. osztályosok', '4. osztályok száma', '4. osztályosok',\n",
    "       'Általános osztályok összesen', 'Általánososok összesen',\n",
    "       '5. osztályok száma', '5. osztályosok', '6. osztályok száma',\n",
    "       '6. osztályosok', '7. osztályok száma', '7. osztályosok',\n",
    "       '8. osztályok száma', '8. osztályosok',\n",
    "       'Középiskolai osztályok összesen', 'Középiskolások összesen',\n",
    "       '9. osztályok száma', '9. osztályosok', '10. osztályok száma',\n",
    "       '10. osztályosok', '11. osztályok száma', '11. osztályosok',\n",
    "       '12. osztályok száma', '12. osztályosok', '13. osztályok száma',\n",
    "       '13. osztályosok', '14. osztályok száma', '14. osztályosok']:\n",
    "    print(c)\n",
    "    dg[c]=dg[c].astype(str).str.replace(',','.').str.replace('-','nan')\\\n",
    "    .str.replace('*','nan').str.replace('16nan','16').replace('nan0nan','nan').str.replace(' ','nan').str.replace('nannannan','nan')\\\n",
    "    .str.replace('nannan','nan').str.replace('?','nan').str.replace('0.nan25','nan').str.replace('nan0.5','nan')\\\n",
    "    .str.replace('nannan','nan').str.replace('`','').str.replace('120nan','120').astype(float)"
   ]
  },
  {
   "cell_type": "code",
   "execution_count": 1331,
   "metadata": {},
   "outputs": [],
   "source": [
    "dg.to_excel('data/clean/erdely5.xlsx')"
   ]
  },
  {
   "cell_type": "markdown",
   "metadata": {},
   "source": [
    "- Diak/osztaly ratio"
   ]
  },
  {
   "cell_type": "code",
   "execution_count": 2998,
   "metadata": {},
   "outputs": [],
   "source": [
    "import re"
   ]
  },
  {
   "cell_type": "code",
   "execution_count": 3559,
   "metadata": {},
   "outputs": [],
   "source": [
    "dg=pd.read_excel('data/clean/erdely5_manual.xlsx').drop('Unnamed: 0',axis=1)"
   ]
  },
  {
   "cell_type": "code",
   "execution_count": 3561,
   "metadata": {},
   "outputs": [
    {
     "name": "stdout",
     "output_type": "stream",
     "text": [
      "14. osztályok száma 14. osztályosok\n"
     ]
    }
   ],
   "source": [
    "#10,12,14,16,18,19,20,21,23,25,27,29,31,33,35,37,39,41,43,45,47,49,51,53,55\n",
    "i=55\n",
    "c=dg.columns[i]\n",
    "c1=dg.columns[i+1]\n",
    "print(c,c1)"
   ]
  },
  {
   "cell_type": "code",
   "execution_count": 3562,
   "metadata": {},
   "outputs": [
    {
     "data": {
      "text/plain": [
       "Series([], Name: ratio, dtype: float64)"
      ]
     },
     "execution_count": 3562,
     "metadata": {},
     "output_type": "execute_result"
    }
   ],
   "source": [
    "dk=dg.set_index(['Év', 'Megye', 'Település','ID'])\n",
    "dk=dk[dk[c]>0]\n",
    "dk['ratio']=dk[c1]/dk[c]\n",
    "dk=dk['ratio'].dropna()\n",
    "dk[dk>50]"
   ]
  },
  {
   "cell_type": "markdown",
   "metadata": {},
   "source": [
    "Sort out Nev/Tipus/Profil misalignments"
   ]
  },
  {
   "cell_type": "markdown",
   "metadata": {},
   "source": [
    "PJ, ST replace with loc name  \n",
    "ST = STRUCTURA  \n",
    "PJ = PERSONALITATE JURIDICA  \n",
    "UT = UNITATE TERITORIALA  "
   ]
  },
  {
   "cell_type": "code",
   "execution_count": 4126,
   "metadata": {},
   "outputs": [],
   "source": [
    "mgov_clean={}"
   ]
  },
  {
   "cell_type": "code",
   "execution_count": 4312,
   "metadata": {},
   "outputs": [
    {
     "name": "stdout",
     "output_type": "stream",
     "text": [
      "Temes\n"
     ]
    }
   ],
   "source": [
    "m=list(megye.keys())[17]\n",
    "print(m)\n",
    "# for i,d in enumerate(np.sort(dg[dg['Megye']==m]['Név'].unique())):\n",
    "#     print(i,d)"
   ]
  },
  {
   "cell_type": "markdown",
   "metadata": {},
   "source": [
    "Automatic recognition of school names: \n",
    "- find if telepules substring in school\n",
    "- if not, append to school name end\n",
    "- then do matching"
   ]
  },
  {
   "cell_type": "code",
   "execution_count": 4313,
   "metadata": {},
   "outputs": [],
   "source": [
    "ro={'Ă':'A','Ş':'S','Â':'A','Ș':'S','Ț':'T','Â':'A','Î':'I','Ă':'A','Ţ':'T',\n",
    "   'Á':'A','É':'E','Í':'I','Ó':'O','Ő':'O','Ö':'O','Ú':'U','Ű':'U','Ü':'U'}\n",
    "def roman(s):\n",
    "    return replacer(s,ro)"
   ]
  },
  {
   "cell_type": "code",
   "execution_count": 4314,
   "metadata": {},
   "outputs": [],
   "source": [
    "def cleaner(nev,telepules,convert_ro=True,test=False):\n",
    "    for i in range(50,1,-1):\n",
    "        nev=nev.replace(i*' ',' ')\n",
    "    if nev in full_replace:\n",
    "        return full_replace[nev]+' '+telepules\n",
    "    else:\n",
    "        for s in to_clean_before:\n",
    "            for i in to_clean_before[s]:\n",
    "                if i in nev:\n",
    "                    nev=nev.replace(i,' '+s+' ')\n",
    "        for s in to_clean:\n",
    "            for i in to_clean[s]:\n",
    "                if i in nev:\n",
    "                    nev=nev.replace(i,' '+s+' ')\n",
    "                if convert_ro:\n",
    "                    if roman(i) in nev:\n",
    "                        nev=nev.replace(roman(i),' '+s+' ')\n",
    "        for s in to_clean2:\n",
    "            for i in to_clean2[s]:\n",
    "                if i in nev:\n",
    "                    nev=nev.replace(i,' '+s+' ')\n",
    "                if convert_ro:\n",
    "                    if roman(i) in nev:\n",
    "                        nev=nev.replace(roman(i),' '+s+' ')\n",
    "        for s in to_clean_after:\n",
    "            for i in to_clean_after[s]:\n",
    "                if i in nev:\n",
    "                    nev=nev.replace(i,' '+s+' ')\n",
    "    for i in range(50,1,-1):\n",
    "        nev=nev.replace(i*' ',' ')\n",
    "    include_fr=False\n",
    "#     fr=fuzz.ratio(telepules,nev)\n",
    "#     if len(telepules)<6:\n",
    "#         if fr<15: include_fr=True\n",
    "#     else:\n",
    "#         if fr<25: include_fr=True\n",
    "    tnev=replacer(nev,  {i:'' for i in list(to_clean.keys())[:to_clean_k]+['#']}).strip()\n",
    "    fr=fuzz.partial_ratio(telepules,tnev)\n",
    "    if fr<70: include_fr=True\n",
    "    if include_fr:\n",
    "        nev=nev+' '+telepules\n",
    "    for s in list(to_clean.keys())[:to_clean_k]:\n",
    "        if nev.count(s)>1:\n",
    "            nev=re.sub(s[::-1],\"\",nev[::-1],count=1)[::-1]\n",
    "    if not test:\n",
    "        nev=nev.replace('#','').replace('#','').replace('#','')\n",
    "    for i in range(10,1,-1):\n",
    "        nev=nev.replace(i*' ',' ')\n",
    "    return nev.strip()"
   ]
  },
  {
   "cell_type": "code",
   "execution_count": 4315,
   "metadata": {},
   "outputs": [],
   "source": [
    "to_clean_before={\n",
    "    'GRDPLG BABSZEM JANKO':['GRĂDINIȚA ”BABSZEM JANKO” CU PROGR PREL.'],\n",
    "    'COLGNAT BETHLEN GABOR':['COLEGIUL NATIONAL”BG”'],\n",
    "}\n",
    "to_clean={\n",
    "    'SGMZ':['SCOALA GIMNAZIALĂ','ŞCOALA CU CLASELE I-VIII','ȘCOALA CU CLASELE I-VIII','ŞCOALA GIMNAZIALĂ','SOALA GIMN.',' SC.GIMN.','SCOALA GIMNAZIALA',\n",
    "           'ȘCOALA GIMNAZIALĂ','SC. G.','SC. GIMN.','SCOALA GIM.','SO8',\n",
    "           'ŞC GIMNAZIALA','ŞC GIMNAZIALA','ŞCOALA CU CLS. I-VIII','ŢCOALA GIMNAZIALĂ','ȘC.GIM.','ȘCOALA GIMNAZIALA',\n",
    "           'S08','SC.GIMN.','SCOALA CU CLASELE I-VIII','SCOALA CU CLS.I-VIII','SC.GIMNAZIALA','SCOALA GINAZIALA',\n",
    "           'SCOALA CU CLASELE I - VIII','ŞCOALA CU CLS I-VIII','ŞC.CU CLS. I-VIII','ŞCOALA GIMNAYIALĂ','ŞC.CU CLS.I-VIII','Ş08',\n",
    "           'ŞC. CU CLS. I-VIII','SCOALA CU CLS I-VIII','ŞCOALA CU CLS.I-VIII','ŞCOALA GIMNAYIALA', 'ŞCOLALA GIMNAZIALĂ',\n",
    "           'ŞCOALA GIMNAZIALA','ŞCOALA GIMNAZILĂ','ŞCOALA CU CL.I-VIII','ȘCOALĂ GIMNAZIALA','SC.GEN.',\n",
    "           'ȘC. GIMN.','ȘC.GIMN.','ȘCOAL GIMNAZIALĂ','ȘCOALA GIIMNAZIALĂ','ȘCOALA GIMNAIALĂ',\n",
    "           'ŞCOALA GIMN.','SC. GEN.','SCOALA GEN.','SOALA GIMNAZIALA','ŞCOALA GIMNATZIALĂ','ŞC. GEN.','ŞC.GEN.',\n",
    "           'ŞC. GIMN.','SCOALA GIMAZIALĂ','ŞCOALA CU CLASELE I- VIII','ŞCOALA GMNAZIALĂ','ŞCOALA GIMAZIALĂ',\n",
    "           'ȘCOALA GIMNAZ.','SCOALA CU CL.I-VIII','SCOALA CU CL.I - VIII','SCOALA NORMALA','ȘCOALA GIM,','ȘCOALA GIM.',\n",
    "           'FELSŐ NÉPISKOLA','SC. GIM.','SCOALA GENERELA','SC.GIM.','ŞC.GIM.','ŞCOAL GIMNAZIALĂ',\n",
    "           'ȘCOALA GIMAZIALA','ȘCOALĂ GIMNAZIALĂ','ŞC.GIMN.','SC CU CLS. I-VIII','SCOALA CU CLS. I-VIII',\n",
    "           'ŞCOALA CU CL. I-VIII.','ȘC. GIMNAZIALĂ','ȘC. GIM.','ŞCOALA CU CL -VIII','ŞC.CU CL.I-VIII','ŞCOALA I-VIII',\n",
    "           'SC.GIMN','ȘC G.','ȘC GIMN.','SX.GIMN.','ȘC. G . ','ŞC. GIMNAZIALA','ŞC. I-VIII','ŞC.GIMNAZIALA','SCOALAGIMNAZIALA',\n",
    "           'SCOALA CU CL. I-VIII','SCOALA CU CLASELE I -VIII','SCOALA CU CLASELE I VIII','SCOALA CU CLASELE I-VII',\n",
    "           'SCOALA CU CLASELEI-VIII','SCOALA GIIMNAZIALA','ŞCOALA GIMANZIALĂ','SCOALA GIM CU PREDARE IN LIMBA MAGHIARA',\n",
    "            'SCOALA GENERALA CU CL.I-VIII.','SCOALA GENERALA CLASELE I-VIII',\n",
    "            'SC. CLS. I-VIII','SC. GIMN','SC GEN','SC GIMN','SC. GIMN','SCOALA GIMN','ŞCOALA GIMN','ȘCOALA GIMN','SC GIM',\n",
    "            'SC. GIMNAZIAL'],\n",
    "    'SPRM':['SCOALA PRIMARA','ŞCOALA CU CL. I-IV','SCOALA PRIMARĂ','ŞCOALA PRIMARĂ','ȘCOALA PRIMARĂ','SO4','SC. PRIM.','SC. PRIMARA','SCOALA CLS. I-IV',\n",
    "           'ŞC.PRIMARĂ','ŞCOALA CU CLD. I-IV','ŞCOALA CU CLS.  I-IV.','ŞCOALA CU CLS. I-IV','SCOALA CU CLASELE I-IV',\n",
    "           'ŞCOALA CU CL. I-IV','ŞCOALĂ PRIMARĂ','SC.PRIMARA.','ŞCOALA CU CLASELE I-IV','ŞCOALA PRIMARA','SC.PRIMARA',\n",
    "           'SCOALA CU CL.I-IV.','SCOALA CU CL.I-IV','SCOALA PROMARA','CLASE PRIMARE','ALSÓ NÉPISKOLA','ȘCOALĂ PRIMARĂ','SC.PRIM.',\n",
    "           'SCOALA PRIMARE','SCOALA PRIMARIA','SCOLA PRIMARA','SCOAL PRIMARA','SCOALA CL.I-IV','SCOALA CU CLS I-IV',\n",
    "           'ST-ȘCOALA PRIMARA','ȘCOALA PRIMARA','ŞC.PRIM.','ŞC.PRIMARA','ŞCOALAPRIMARA','ŞCOASLA PRIMARĂ','ȘC. PRIMARĂ',\n",
    "           'ŞCOALA PRIMAR','ŞCOLA PRIMAR','ȘCOALA PRIMARLĂ','SC.CL.I-IV','SC.CL I-IV','SC.CL. I-IV','SC.CLS.I-IV',\n",
    "           'SC. CL.I-IV','SC. I-IV','SC. PRIMARĂ','SC.I-IV','SC.PEIMARA','SC.LC.I-IV','ȘCOLALA PRIMARĂ','ŞC.CU CL. I-IV',\n",
    "           'SCOALAPRIMARA','SVÂC.PRIMARA','ŞC. PRIMARĂ','ŞCOALA PRIMATĂ','S04','SCOALA CU CL. I-IV',\n",
    "           'SCOALA CU CLASELE I - IV','SCOALA CU CLS. I-IV','ŞCOALA CU CLS.I-IV','ȘCOALA CU CLS.I-IV','SC. CLS. I-IV',\n",
    "           'SCOALA GENERALA CU CL.I-IV.','SCOALA GENERALA CU CL.I-IVI.','SCOALA GENERALA I-IV',\n",
    "            'SC PRIM','SC.PR','SCOALA PRIM',],\n",
    "    'SPSTL':['SCOALA POSTLICEALA','SCOALA SANITARA POSTLICEALA','ŞCOALA POSTLICEALĂ','ȘCOALA POSTLICEALĂ',\n",
    "             'ŞCOALA SANITARĂ POSTLICEALĂ',\n",
    "            'ȘCOALA POSTLICEALA','ȘCOALA SANITARĂ POSTLICEALĂ','ȘCOALA TEHNICĂ POSTLICEALĂ',\n",
    "            'SCOALA POSTLICEALĂ'],\n",
    "    'LICTEH':['COLEGIUL ECONOMIC','COLEGIUL TEHNIC','SCOALA PROFESIONALA','LIC. TEH.AGRICOL','LICEUL TEHN OLOGIC',\n",
    "             'COLEGIUL TEHNOLOGIC','ŞCOALA PROFESIONALĂ','COLEGIUUL TEHNIC','LIC.TEHN.','COL.EC,,','LICEUL VOCATIONAL',\n",
    "             'ȘCOALA PROFESIONALĂ','COLEGIUL AGRICOL','LIC. TEH.AGRICOL','LICEUL TEHN.AGR.','LICEU TEHNOLOGIC','COL.EC.','COL.EC .','COL. EC.',\n",
    "             'COL.TEHN.DE','L.VOC.','LIC.TEH.','LIC.TEHNOL.','LICE. TEHNOLOGIC','LICEUL TEHNOLOGIC AGRICOL','LIC. TEHNOLOGIC','LICEUL TEHNOLOGIC',\n",
    "             'LICEUL TEHN.','LICEUI TEHN.','LIC.TEHNOLOGIC.','LICEUL TEHOLOGIC','LIC. TEHN','LIC TEHN','C.T.'],\n",
    "    'LISPRT':['LICEUL CU PROGRAM SPORTIV','CLUBUL SPORTIV SCOLAR','CLUB SPORTIV SCOLAR','CLUBUL SPORTIV ȘCOLAR',\n",
    "             'CLUBUL ȘCOLAR SPORTIV','LICEUL VOCATIONAL CU PROGRAM SPORTIV','CLUBUL SPORTIV ŞCOLAR',\n",
    "             'LICEUL SPORTIV','LPS ','L.P.S'],\n",
    "    'CLBCOP':['CLUBUL COPIILOR','PALATUL COPIILOR','LUMEA COPIILOR','CLUBUL ELEVILOR'],\n",
    "    'LITEOR':['LICEUL NAŢIONAL','LIC.TEO.','LIC. TEOR.','LIC.TEOR.','LICEUL TEORTIC','LIC. TEORETIC',\n",
    "              'LICEUL TEORETIC','LIC T.','LIC.TEORETIC .','LIC.TEORETIC'],\n",
    "    'LIPDGA':['LICEUL PEDAGOGIC','LICEUL VOCATIONAL PEDAGOGIC','LICEUL VOCAȚIONAL PEDAGOGIC','LICEUL VOCAŢIONAL PEDAGOGIC'],\n",
    "    'LITOLX':['SEMINARUL TEOLOGIC','LICEUL TEOLOGIC ROM CAT.','LIC. TEOL.','LIC.ROM.CAT.','LIC.TEOL.ROM.',\n",
    "             'LICEUL ROMANO CATOLIC','LICEUL TELOGIC ROMANO CATOLIC','LICEUL TEOL.ROM.CAT.','LICEUL ORTODOX',\n",
    "             'LICEUL REFORMAT','LICEUL TEOLOGIC \"BAPTIST\"','LICEUL TEOLOGIC BAPTIST','LICEUL TEOLOGIC ROMANO CATOLIC',\n",
    "             'LICEUL UNITARIAN','COLEGIUL REFORMAT','LICEUL TEOLOGIC ROMANO-CATOLIC','LICEUL ROM CAT',\n",
    "             'LIC.VOCATIONAL REFORMAT','LICEUL VOCAȚIONAL REFORMAT','LICEUL VOCAŢIONAL REFORMAT','LICEUL VOCATIONAL REFORMAT'\n",
    "             'LICEUL TEOLOGIC GRECO-CATOLIC','LICEUL TEOLOGIC'],\n",
    "    'LIARTE':['COLEGIUL DE MUZICĂ','LICEUL DE MUZICA','LICEUL DE MUZICĂ','LICEUL DE ARTA','COLEGIUL DE ARTE',\n",
    "             'LICEUL DE ARTE - PROGRAM SUPLIMENTAR DE MUZICA','LICEUL DE ARTE','LICEUL VOCAȚIONAL DE ARTĂ',\n",
    "             'LICEUL DE ARTĂ','LIC. VOC.DE ARTA','LIC. DE ARTA','LIC.VOCATIONAL DE ARTA','LICEUL VOCATIONAL DE ARTA',\n",
    "             'SCOALA DE ARTE SI MESERII'],\n",
    "    'COLGNAT':['COLEGIUL NAŢIONAL','ŞCOALA NAŢIONALĂ','COL.NAŢ.','COL. NAT.','COLEGIUL NATIONAL',\n",
    "              'COLEGIUL NAȚIONAL','COL. NAȚ.','COLEGIUL NAT.','COLEGIULNAŢIONAL','COLEGIUL NAŢIOANL','COL.NAT.',\n",
    "              'COL. NAŢ.','SCOALA NATIONALA','ŞC MILITARĂ','COLEGIU NATIONAL','COL NAT','C.N.'],\n",
    "    'GRDNRM':['GRADINITA CU PROGRAM NORMAL','GRĂDINITA CU PROGRAM NORMAL','GRĂDINIŢA CU PROGRAM NORMAL','GRĂDINIŢA CU PROGRAM SĂPTĂMÂNAL',\n",
    "             'GRADINITA CU PROGRAM SAPTAMANAL','GRĂDINIȚA CU PROGRAM SAPTAMANAL','GRĂDINIȚA CU PROGRAM SĂPTĂMÂNAL',\n",
    "             'GRĂDINIŢĂ CU PROGRAM NORMAL','GRĂDINIȚA CU PROGRAM NORMAL','GRAD.CU PROGRAM NORMAL','GRĂDINŢA CU PROGRAM NORMAL',\n",
    "             'GRĂNIȚA CU PROGRAM NORMAL','GRADINITA CU PN','GRĂDINIŢA PN','GRĂDINIŢA PN','GRĂDINIŢĂ PN','G.P.N.',\n",
    "             'GRADINIȚA CU PROGRAM NORMAL','GRĂDINIȚĂ CU PROGRAM NORMAL','GRAD CU PN','GRADINIŢA PN','GRĂD. CU PROGR. NORMAL',\n",
    "             'GRADINITA CU P.N.','GRĂDINIŢA CU P.N.','GRĂDINIŢA CU PN','GRADINITA CU PROGR. NORMAL',\n",
    "             'GRADINITA CU PROGRAMNORMAL','GRADINITA CU PROGRM NORMAL','GRĂDINIȚA CU PROPGRAM NORMAL','GRADINITA CU P.N',\n",
    "             'GRĂDINIŢA CU PROG.NORMAL','GRĂDINIŢA CU PROGRAM NORNAL','GRADINITA CU PROGAM NORMAL','GRAD.PROG.NORMAL',\n",
    "              'GRĂDINIŢA P.N.',\n",
    "             'GRĂDINIŢĂ CU PROGRAM PRELUNGIT','GRĂDINIȚA CU PROGRAN NORMAL','GRADINITA CU PROGRASM NORMAL','GR.P.N.','GRAD P.N.',\n",
    "             'GRAD. CU PROGRAM NORMAL','GRD CU PROGRAM NORMAL','GGĂDINIȚA CU PROGRAM NORMAL','GRADINTA CU PN','GRĂDINŢIA CU PROGRAM NORMAL',\n",
    "             'GRADINITA DE COPII CU PROGRAM NORMAL','GRADINITA CU PRORGAM NORMAL','GRĂD.CU PROGR.NORM','GRADINITA DE COPII CU PN',\n",
    "             'GRADINIŢA CU PROGRAM NORMAL','GRĂDCU PROGR.NORM','GRAD. CU PROG. NORMAL','GRĂDINIȚA PN','GRADINITA PN','GRAD.P.N.',\n",
    "             'GRĂDINIȚA CU PR. NORMAL','GRADINITA DE COPII CU PRORAM NORMAL','G. P.N.','GRAD PN','GRĂD PN','GAD.P.N.','GRAD CU P.N.'\n",
    "             'GRAD CU PR NORMAL','GRAD CU P.N.','GRAD CU PR. NORMAL','GRAD. CU P.N.','GRAD. P.N.','GRĂDINIȚA CU PN','GRAD. PN.',\n",
    "             'GRAD. CU PR. NORMAL','GRAD.P. N.','GRAD.P.N.','GRAD.P.N','GRD.P.N.','GRAD.PN','GRADINITA P.N.','GRADINITA P.N',\n",
    "             'GRADINITA PG.NORMAL.','GRADINITA PG.NORMAL','GRADINIŢA CU PN','GRAD.CU P N.','GRĂD.CU P.N.','GRADINITA PROG. NORMAL',\n",
    "             'GR.PN.','GRAD.CU P.N.','GRĂD CU PR NORMAL','G.P.N','GRADDINITA CU PROGRAM NORMAL','GRADINTA CU PROGRAM NORMAL',\n",
    "             'GRADINITA CU PRGRAM NORMAL','GRADINITA CUPROGRAM NORMAL','GNP','GPN','GRADINITA CU PROGR.NORM'],\n",
    "    'GRDPLG':['GRADINITA CU PROGRAM PRELUNGIT','GRĂDINIŢA CU PROGRAM PRELUNGIT','GRĂDINIŢA PARTICULARĂ CU PROGRAM PRELUNGIT',\n",
    "             'GRĂDINIȚA CU PROGRAM PRELUNGIT','G.P.P.','GPP','GRĂDINȚA CU PROGRAM PRELUNGIT','GRAD. CU PROGR. PRELUNGIT',\n",
    "             'GRĂDINIŢA PP','GRADINITA PP','GRADINIȚA CU PROGRAM PRELUNGIT','GRĂDINIȚÁ CU PROGRAM PRELUNGIT','GRĂDINIȚĂ CU PROGRAM PRELUNGIT',\n",
    "             'GRĂD. CU PROGR. PRELUNGIT','GRADINITA CU PP','GRĂDINIŢA CU PP',\"GR[DINI'A CU PROGRAM PRELUNGIT\",'GRADINITA CU P.P.',\n",
    "             'GRĂDINIŢA CU P.P.','GRĂDINIȚA CU P.P.','GRĂDINIȚA CU PP','GRADINITACU P.P.','GRAD.CU P.P.','GRĂDINIŢA CU P. P.',\n",
    "              'GRĂDINIŢA P.P.',\n",
    "             'GRĂDINIŢA CU P.P','GRĂDINITA CU PROGRAM PRELUNGIT','GRAD. CU PR PRELUNGIT','GRAD. CU PR. PREL.','GRĂD.PROGR. PRELUNGIT',\n",
    "             'GRAD. CU PR. PRELUNGIT','GRAD. CU PROGRAM PRELUNGIT','GRĂDINIŢA CU PR.PR.','GRĂDINIŢA CU PROG.PREL.','GRADINITA DE COPII PR.PRELUNGIT',\n",
    "             'GRAD. CU PROG. PRELUNGIT','GRAD. PP','GR.PP.','GRĂDINIȚA PP','GR P.P.','GAD.P.P.','GPP','GR.P.P','GRAD P.P.','GRAD CU P.P.','GRAD CU P.P',\n",
    "             'GRAD. CU P.P.','GRAD. P. P.','GRAD. P.P.','GRAD. P.P','GRAD.P.P.','GRAD.P.P','GRADINITA CU PR.PR.','GRADINITA PG.PREL.',\n",
    "             'GRĂD.CU P.P.','GRADINITA PROG. PREL.','GRĂD PP','GRĂD CU PR PREL','G.P.P','GRADINITA CU PROGR.PREL.','GRĂDINIȚA CU PROGRAMPRELUNGIT',\n",
    "             'GRAD CU PR PRELUNGIT','GRĂDINITA CU PRGRAM PRELUNGIT','GRADINITA P.P','GR P.P'],\n",
    "    'GRPSC':['GRUP SCOLAR','G.Ş.','GRUPUL SCOLAR','GRUPUL ŞCOLAR','GRUPUL ȘCOLAR',\n",
    "            'GR.SC. AGROIND.','GR.SC. EC.ADM.','GRUP ŞCOLAR','GRUPUL SC.AGR.IND.ALIM.','GRUPUL SC.EC.ADM.','GRUP SC.',\n",
    "            'GR. SC.','GR.SC.','GR,ŞC.','GR. ŞC.'],\n",
    "    'INSPSCJ':['INSPECTORATUL ŞCOLAR JUDEŢEAN','INSPECTORATUL ȘCOLAR JUDEȚEAN','CASA CORPULUI DIDACTIC','CENTRUL JUDETEAN DE RESURSE',\n",
    "              'CENTRUL JUDEŢEAN DE RESURSE','CENTRU JUDEŢEAN DE RESURSE','CENTRUL JUDEȚEAN DE RESURSE','CENTRUL JUDEȚEAN DE EXCELENȚĂ',\n",
    "              'INSPECTORATUL SCOLAR JUDETEAN','INSPECTORATUL ȘCOLAR AL JUDEȚULUI','INSPECTORATUL SCOLAR AL JUDETULUI',\n",
    "              'CENTRUL DE RESURSE ȘI ASISTENȚĂ EDUCAȚIONALĂ'],\n",
    "    'SCSPC':['CENTRUL SCOLAR DE EDUCATIE INCLUZIVA','LICEUL SPECIAL','ŞCOALA SPECIALĂ','CENTRUL ŞCOLAR PENTRU EDUCAŢIE INCLUZIVĂ','C.S E.I','C.S.E.I.',\n",
    "            'CENTRUL DE EDUCATIE INCLUZIVA','CENTRUL ȘCOLAR DE EDUCAȚIE INCLUZIVĂ','CSEI','CENTRUL ȘCOLAR DE EDUCAŢIE INCLUZIVĂ',\n",
    "            'CENTRUL ȘCOLAR PENTRU EDUCAȚIE INCLUZIVĂ','SCOALA SPECIALA','SCOALA SPECIALĂ','ȘCOALA SPECIALĂ','CU NEVOI SPECIALE',\n",
    "            'CLASE SPECIALE','ȘC. SPEC.','CENTRUL JUDEȚEAN DE ASISTENȚĂ','CENTRUL SCOLAR PENTRU EDUCATIE INCLUZIVA',\n",
    "             'CENTRUL SCOLAR PENTRU EDUCAȚIE INCLUZIVĂ',\n",
    "            'CENTRUL ŞCOLAR DE EDUCAŢIE INCLUZIVĂ'],\n",
    "    'STRUCT':['(TIPUL S)','(TIPUL ST)','STRUCTURĂ A ŞCOLII','(ST)','(S)','/ST','/ ST','/S','- ST','-ST','-S','- S','S -','UT -','UT-','S-','/ S','ST/','/UT',' UT',\n",
    "             ' ST S','ST/'],\n",
    "    'PERSJ':['(TIPUL PJ)','( PJ)','P.J','/PJ','-PJ','(PJ)','PJ -','PJ-','- PJ','-PJ','/ PJ','(PJ )',' PJ','(PJ, S)'],\n",
    "    '':['\"','”','„',',,','„','”',' / ','*',',','MUNICIPIUL','COMUNA ','ORAS','ORASUL',' COM ','STRUCTURA',\"'\",'(TIPUL )','(TIPUL)',\n",
    "       'CU PREDARE IN LIMBA MAGHIARA'],\n",
    "    ' ':['COM.'],\n",
    "}\n",
    "to_clean2={\n",
    "    'SGMZ#':['SCOALA GENERALĂ','SCOALA GENERALA','ŞCOALA GENERALĂ','ȘCOALA GENERALĂ','SCOALA GENERAL','GIMN.','SCOLA GIMNAZIALA','SC CU CLS.','GIM. '],\n",
    "    'SPRM#':['CU CLASELE I-IV'],\n",
    "    'LICTEH#':[],\n",
    "    'LISPRT#':[],\n",
    "    'LITEOR#':['LICEUL'],\n",
    "    'COLGNAT#':['COLEGIUL','COLEG ','COLEG. '],\n",
    "    'GRDNRM#':['GRADINITA DE COPIII','GRĂDINIŢA DE COPII','GRADINITA DE COPII','GRADINITA','GRĂDINITA','GRĂDINIŢA','GRĂDINIŢA',\n",
    "               'GRĂDINIŢĂ','GRĂDINIȚA','GRDINIȚA','GRADINIŢA','GRĂDĂNIŢA','GR.','GRADINIȚA','GRD.',\n",
    "              'GRĂDINIȚĂ','GRIDINIŢA','GRĂD.','GRĂDINŢA','GĂDINIŢA','GRAD ','GRĂD ','GRAD.P.V.','GRAD.'],\n",
    "    'GRDPLG#':[],\n",
    "    'GRPSC#':[],    \n",
    "    '':['STRUCT','PERSJ']    \n",
    "}\n",
    "to_clean_after={\n",
    "    'GROF MAJLATH GUSZTAV KAROLY':['GMGK'],\n",
    "    'FRANCISC NEUMAN':['FRATII NEUMAN'],\n",
    "    'ADY ENDRE':['ADY ENDRE SERAL-MAGHIARA','ADY ENDRE TEORETIC','ADY ENDRE PJ'],\n",
    "    'LICEUL HENRI COANDA':['HENRY COAND BECLEAN'],\n",
    "    'NAPSUGAR':['NAPSUGAR ODORHEIU SECUIESC'],\n",
    "    'CURCUBEU':['FUNDATIA CURCUBEUL','FUNDATIA CURCUBEU'],\n",
    "    'CONSTANTIN BRANCUSI':['C-TIN BRANCUSI'],\n",
    "    'TARNAVENI':['T-VENI'],\n",
    "    'TIRGU MURES':['TG. MURES','TARGU MURES','TG.M.','TG.MURES','TÎRGU MUREȘ','TÎRGU MUREŞ'],\n",
    "    'SANGEORGIU DE MURES':['SANG.DE MURES'],\n",
    "    'SFANTU GHEORGHE':['SF.GHE.','SF.GHEORGHE','SF. GHEORGHE','SF.GH.'],\n",
    "    'LUDUS':['LUDUȘ','LUDUŞ'],\n",
    "    'DUMBRAVENI':['D-VENI'],\n",
    "    \n",
    "    #equivalencies\n",
    "    'LICTEH':['GRPSC']\n",
    "}\n",
    "full_replace={\n",
    "    'PJ':'PERSJ',\n",
    "    'ST':'STRUCT',\n",
    "    'STRUCTURA':'STRUCT',\n",
    "    'S':'STRUCT',\n",
    "    'UT':'STRUCT'\n",
    "}\n",
    "to_clean_k=16"
   ]
  },
  {
   "cell_type": "markdown",
   "metadata": {},
   "source": [
    "Test outcomes"
   ]
  },
  {
   "cell_type": "code",
   "execution_count": 4316,
   "metadata": {
    "jupyter": {
     "source_hidden": true
    }
   },
   "outputs": [],
   "source": [
    "convert_ro=False\n",
    "dk=dg[dg['Megye']==m][['Név','telepules']].drop_duplicates().sort_values(by='Név') \n",
    "for d,i in enumerate(dk.T.iteritems()):\n",
    "    nev=i[1]['Név'].upper()\n",
    "    if convert_ro:\n",
    "        nev=roman(nev)\n",
    "    telepules=i[1]['telepules']\n",
    "    clean_nev=cleaner(nev, telepules, convert_ro=convert_ro, test=True)\n",
    "    to_print=True\n",
    "    for s in list(to_clean.keys())[:to_clean_k]:\n",
    "        if s in clean_nev: to_print=False\n",
    "#     if '#' in clean_nev:\n",
    "#         if 'GRDD' not in clean_nev:\n",
    "#             to_print=True\n",
    "#     to_print=True\n",
    "    if nev in full_replace: to_print=False\n",
    "    if to_print:\n",
    "        print(d,clean_nev,'|',telepules,'|',nev)"
   ]
  },
  {
   "cell_type": "code",
   "execution_count": 4317,
   "metadata": {
    "jupyter": {
     "source_hidden": true
    }
   },
   "outputs": [],
   "source": [
    "convert_ro=False\n",
    "dv=gov[gov['Judet']==megye[m]][['Denumire','Localitate']].drop_duplicates().sort_values(by='Denumire')\n",
    "for d,i in enumerate(dv.T.iteritems()):\n",
    "    nev=i[1]['Denumire'].upper()\n",
    "    if convert_ro:\n",
    "        nev=roman(nev)\n",
    "    telepules=i[1]['Localitate']\n",
    "    telepules=roman(telepules)\n",
    "    clean_nev=cleaner(nev, telepules, convert_ro=convert_ro, test=True)\n",
    "    to_print=True\n",
    "    for s in list(to_clean.keys())[:to_clean_k]:\n",
    "        if s in clean_nev: to_print=False\n",
    "#     if '#' in clean_nev:\n",
    "#         if 'GRDNRM' in clean_nev:\n",
    "#             to_print=True\n",
    "#     to_print=True\n",
    "    if nev in full_replace: to_print=False\n",
    "    if to_print:\n",
    "        print(d,clean_nev,'|',telepules,'|',nev) "
   ]
  },
  {
   "cell_type": "markdown",
   "metadata": {},
   "source": [
    "Do the matching"
   ]
  },
  {
   "cell_type": "code",
   "execution_count": 4318,
   "metadata": {
    "jupyter": {
     "source_hidden": true
    }
   },
   "outputs": [],
   "source": [
    "gov_clean={}\n",
    "for telepules in dv['Localitate'].unique():\n",
    "    for g in dv[dv['Localitate']==telepules].T.iteritems():\n",
    "        nev=g[1]['Denumire'].upper()\n",
    "        nev=roman(nev)\n",
    "        telepules=g[1]['Localitate']\n",
    "        telepules=roman(telepules)\n",
    "        clean_nev=cleaner(nev, telepules)\n",
    "        if telepules not in gov_clean: gov_clean[telepules]={} \n",
    "        gov_clean[telepules][clean_nev]=g[0]"
   ]
  },
  {
   "cell_type": "code",
   "execution_count": 4319,
   "metadata": {},
   "outputs": [],
   "source": [
    "clean_names=[]\n",
    "guess_scores=[]\n",
    "guessed_names=[]\n",
    "for d,i in enumerate(dk.T.iteritems()):\n",
    "    nev=i[1]['Név'].upper()\n",
    "    nev=roman(nev)\n",
    "    telepules=i[1]['telepules']\n",
    "    clean_nev=cleaner(nev, telepules)\n",
    "    clean_names.append(clean_nev)\n",
    "    if telepules not in gov_clean:\n",
    "        gov_clean[telepules]={clean_nev:'New location'}\n",
    "    #first try token sort\n",
    "    s=process.extractOne(clean_nev, list(gov_clean[telepules].keys()), scorer=fuzz.token_sort_ratio)\n",
    "    if s[1]<70:\n",
    "        #next try simple ratio\n",
    "        s=s=process.extractOne(clean_nev, list(gov_clean[telepules].keys()), scorer=fuzz.ratio)\n",
    "        if s[1]>84: #79 #84\n",
    "            if clean_nev not in gov_clean[telepules]:\n",
    "                gov_clean[telepules][clean_nev]='Inferred from location simple'\n",
    "            guessed_names.append(s[0])\n",
    "            guess_scores.append(s[1]+0.5)\n",
    "        else:\n",
    "            #if nothing found try all telepules in county\n",
    "            s=process.extractOne(clean_nev, [item for sublist in \\\n",
    "                [list(gov_clean[t].keys()) for t in gov_clean] for item in sublist], scorer=fuzz.token_set_ratio)\n",
    "            if s[1]>80: #80\n",
    "                if clean_nev not in gov_clean[telepules]:\n",
    "                    gov_clean[telepules][clean_nev]='Inferred from county token set'\n",
    "                guessed_names.append(s[0])\n",
    "                guess_scores.append(-s[1])\n",
    "            else:\n",
    "                #all telepules in county with simple\n",
    "                s=process.extractOne(clean_nev, [item for sublist in \\\n",
    "                    [list(gov_clean[t].keys()) for t in gov_clean] for item in sublist], scorer=fuzz.ratio)\n",
    "                if s[1]<85: #80 #85\n",
    "                    if clean_nev not in gov_clean[telepules]:\n",
    "                        gov_clean[telepules][clean_nev]='New school'\n",
    "                    guessed_names.append(clean_nev)\n",
    "                    guess_scores.append(0)\n",
    "                else:\n",
    "                    if clean_nev not in gov_clean[telepules]:\n",
    "                        gov_clean[telepules][clean_nev]='Inferred from county simple'\n",
    "                    guessed_names.append(s[0])\n",
    "                    guess_scores.append(-s[1]-0.5)\n",
    "    else:\n",
    "        guessed_names.append(s[0])\n",
    "        guess_scores.append(s[1])\n",
    "\n",
    "dr=dk[['Név','telepules']]\n",
    "dr['clean_names']=clean_names\n",
    "dr['guessed_names']=guessed_names\n",
    "dr['guess_scores']=guess_scores\n",
    "mgov_clean[m]=gov_clean"
   ]
  },
  {
   "cell_type": "code",
   "execution_count": 4320,
   "metadata": {
    "jupyter": {
     "source_hidden": true
    }
   },
   "outputs": [],
   "source": [
    "equivalencies={\n",
    "    'Fehér': {},\n",
    "    'Arad': {},\n",
    "    'Bukarest': {},\n",
    "    'Bákó': {},\n",
    "    'Bihar': {},\n",
    "    'Beszterce-Naszód': {},\n",
    "    'Brassó': {},\n",
    "    'Kolozs': {},\n",
    "    'Kovászna': {},\n",
    "    'Krassó-Szörény': {},\n",
    "    'Hunyad': {},\n",
    "    'Hargita': {},\n",
    "    'Máramaros': {},\n",
    "    'Maros': {},\n",
    "    'Szeben': {},\n",
    "    'Szatmár': {},\n",
    "    'Szilágy': {},\n",
    "    'Temes': {}\n",
    "}"
   ]
  },
  {
   "cell_type": "code",
   "execution_count": 4321,
   "metadata": {},
   "outputs": [],
   "source": [
    "dr['guessed_names2']=dr['guessed_names'].replace(equivalencies[m])\n",
    "dr['guess_scores']=dr['guess_scores'].replace('YYY',0).replace('ZZZ',20)\n",
    "dr=dr[['telepules','clean_names','Név','guessed_names2','guess_scores','guessed_names']]\n",
    "dr.to_excel('data/clean/guessed/'+m+'.xlsx')"
   ]
  },
  {
   "cell_type": "markdown",
   "metadata": {},
   "source": [
    "Run all counties, then continue:"
   ]
  },
  {
   "cell_type": "code",
   "execution_count": 4322,
   "metadata": {},
   "outputs": [
    {
     "data": {
      "text/plain": [
       "365395"
      ]
     },
     "execution_count": 4322,
     "metadata": {},
     "output_type": "execute_result"
    }
   ],
   "source": [
    "open('data/clean/mgov_clean.json','w').write(json.dumps(mgov_clean))"
   ]
  },
  {
   "cell_type": "markdown",
   "metadata": {},
   "source": [
    "...testing area..."
   ]
  },
  {
   "cell_type": "code",
   "execution_count": 4123,
   "metadata": {},
   "outputs": [
    {
     "data": {
      "text/html": [
       "<div>\n",
       "<style scoped>\n",
       "    .dataframe tbody tr th:only-of-type {\n",
       "        vertical-align: middle;\n",
       "    }\n",
       "\n",
       "    .dataframe tbody tr th {\n",
       "        vertical-align: top;\n",
       "    }\n",
       "\n",
       "    .dataframe thead th {\n",
       "        text-align: right;\n",
       "    }\n",
       "</style>\n",
       "<table border=\"1\" class=\"dataframe\">\n",
       "  <thead>\n",
       "    <tr style=\"text-align: right;\">\n",
       "      <th></th>\n",
       "      <th>telepules</th>\n",
       "      <th>clean_names</th>\n",
       "      <th>Név</th>\n",
       "      <th>guessed_names2</th>\n",
       "      <th>guess_scores</th>\n",
       "      <th>guessed_names</th>\n",
       "    </tr>\n",
       "  </thead>\n",
       "  <tbody>\n",
       "  </tbody>\n",
       "</table>\n",
       "</div>"
      ],
      "text/plain": [
       "Empty DataFrame\n",
       "Columns: [telepules, clean_names, Név, guessed_names2, guess_scores, guessed_names]\n",
       "Index: []"
      ]
     },
     "execution_count": 4123,
     "metadata": {},
     "output_type": "execute_result"
    }
   ],
   "source": [
    "dr[((dr['guess_scores']<-80)&(-90<dr['guess_scores']))]"
   ]
  },
  {
   "cell_type": "code",
   "execution_count": 4112,
   "metadata": {},
   "outputs": [
    {
     "data": {
      "text/html": [
       "<div>\n",
       "<style scoped>\n",
       "    .dataframe tbody tr th:only-of-type {\n",
       "        vertical-align: middle;\n",
       "    }\n",
       "\n",
       "    .dataframe tbody tr th {\n",
       "        vertical-align: top;\n",
       "    }\n",
       "\n",
       "    .dataframe thead th {\n",
       "        text-align: right;\n",
       "    }\n",
       "</style>\n",
       "<table border=\"1\" class=\"dataframe\">\n",
       "  <thead>\n",
       "    <tr style=\"text-align: right;\">\n",
       "      <th></th>\n",
       "      <th>telepules</th>\n",
       "      <th>clean_names</th>\n",
       "      <th>Név</th>\n",
       "      <th>guessed_names2</th>\n",
       "      <th>guess_scores</th>\n",
       "      <th>guessed_names</th>\n",
       "    </tr>\n",
       "  </thead>\n",
       "  <tbody>\n",
       "    <tr>\n",
       "      <th>2078</th>\n",
       "      <td>TORMAC</td>\n",
       "      <td>GRDPLG TORMAC (ST S)</td>\n",
       "      <td>Grădiniţa P.P. Tormac (ST, S)</td>\n",
       "      <td>GRDPLG TORMAC (ST S)</td>\n",
       "      <td>0</td>\n",
       "      <td>GRDPLG TORMAC (ST S)</td>\n",
       "    </tr>\n",
       "    <tr>\n",
       "      <th>4876</th>\n",
       "      <td>SANNICOLAU MARE</td>\n",
       "      <td>SGMZ NR.1SANNICOLAU MARE GRDPLG NR. 3SANNICOLA...</td>\n",
       "      <td>Şcoala Gimnazială Nr.1Sânnicolau MareGrădiniţa...</td>\n",
       "      <td>SGMZ NR.1SANNICOLAU MARE GRDPLG NR. 3SANNICOLA...</td>\n",
       "      <td>0</td>\n",
       "      <td>SGMZ NR.1SANNICOLAU MARE GRDPLG NR. 3SANNICOLA...</td>\n",
       "    </tr>\n",
       "  </tbody>\n",
       "</table>\n",
       "</div>"
      ],
      "text/plain": [
       "            telepules                                        clean_names  \\\n",
       "2078           TORMAC                               GRDPLG TORMAC (ST S)   \n",
       "4876  SANNICOLAU MARE  SGMZ NR.1SANNICOLAU MARE GRDPLG NR. 3SANNICOLA...   \n",
       "\n",
       "                                                    Név  \\\n",
       "2078                      Grădiniţa P.P. Tormac (ST, S)   \n",
       "4876  Şcoala Gimnazială Nr.1Sânnicolau MareGrădiniţa...   \n",
       "\n",
       "                                         guessed_names2  guess_scores  \\\n",
       "2078                               GRDPLG TORMAC (ST S)             0   \n",
       "4876  SGMZ NR.1SANNICOLAU MARE GRDPLG NR. 3SANNICOLA...             0   \n",
       "\n",
       "                                          guessed_names  \n",
       "2078                               GRDPLG TORMAC (ST S)  \n",
       "4876  SGMZ NR.1SANNICOLAU MARE GRDPLG NR. 3SANNICOLA...  "
      ]
     },
     "execution_count": 4112,
     "metadata": {},
     "output_type": "execute_result"
    }
   ],
   "source": [
    "dr[((dr['guess_scores']<20)&(-20<dr['guess_scores']))]"
   ]
  },
  {
   "cell_type": "code",
   "execution_count": 4041,
   "metadata": {},
   "outputs": [
    {
     "data": {
      "text/html": [
       "<div>\n",
       "<style scoped>\n",
       "    .dataframe tbody tr th:only-of-type {\n",
       "        vertical-align: middle;\n",
       "    }\n",
       "\n",
       "    .dataframe tbody tr th {\n",
       "        vertical-align: top;\n",
       "    }\n",
       "\n",
       "    .dataframe thead th {\n",
       "        text-align: right;\n",
       "    }\n",
       "</style>\n",
       "<table border=\"1\" class=\"dataframe\">\n",
       "  <thead>\n",
       "    <tr style=\"text-align: right;\">\n",
       "      <th></th>\n",
       "      <th>telepules</th>\n",
       "      <th>clean_names</th>\n",
       "      <th>Név</th>\n",
       "      <th>guessed_names2</th>\n",
       "      <th>guess_scores</th>\n",
       "      <th>guessed_names</th>\n",
       "    </tr>\n",
       "  </thead>\n",
       "  <tbody>\n",
       "    <tr>\n",
       "      <th>1642</th>\n",
       "      <td>CAVNIC</td>\n",
       "      <td>LICTEH PINTEA VITEAZUL - POST ( PRESCOLAR ) HA...</td>\n",
       "      <td>Col. Ec.\" Pintea Viteazul\"-S- Post ( prescolar...</td>\n",
       "      <td>LICTEH PINTEA VITEAZUL CAVNIC</td>\n",
       "      <td>72.0</td>\n",
       "      <td>LICTEH PINTEA VITEAZUL CAVNIC</td>\n",
       "    </tr>\n",
       "    <tr>\n",
       "      <th>4483</th>\n",
       "      <td>BAIA MARE</td>\n",
       "      <td>GRDNRM NR.25 BAIA MARE - GRUPA WALDORF</td>\n",
       "      <td>GRADINITA CU PROGRAM PRELUNGIT NR.25, BAIA MAR...</td>\n",
       "      <td>GRDNRM NR. 25 BAIA MARE</td>\n",
       "      <td>76.0</td>\n",
       "      <td>GRDNRM NR. 25 BAIA MARE</td>\n",
       "    </tr>\n",
       "    <tr>\n",
       "      <th>7513</th>\n",
       "      <td>TARGU LAPUS</td>\n",
       "      <td>GRDNRM NR.2TG.LAPUS TARGU LAPUS</td>\n",
       "      <td>Grad.nr.2Tg.Lapus-S</td>\n",
       "      <td>GRDNRM TARGU LAPUS</td>\n",
       "      <td>73.0</td>\n",
       "      <td>GRDNRM TARGU LAPUS</td>\n",
       "    </tr>\n",
       "    <tr>\n",
       "      <th>4481</th>\n",
       "      <td>ULMENI</td>\n",
       "      <td>LICTEH INDUSTRIAL DR. FLORIAN ULMEANU ULMENI M...</td>\n",
       "      <td>Grupul Scolar Industrial \"Dr. Florian Ulmeanu\"...</td>\n",
       "      <td>LICTEH DR. FLORIAN ULMEANU ULMENI</td>\n",
       "      <td>79.0</td>\n",
       "      <td>LICTEH DR. FLORIAN ULMEANU ULMENI</td>\n",
       "    </tr>\n",
       "    <tr>\n",
       "      <th>2625</th>\n",
       "      <td>TARGU LAPUS</td>\n",
       "      <td>LICTEH TARGU LAPU</td>\n",
       "      <td>Grupul Şcolar Targu Lapus - PJ</td>\n",
       "      <td>SCSPC TARGU LAPUS</td>\n",
       "      <td>71.0</td>\n",
       "      <td>SCSPC TARGU LAPUS</td>\n",
       "    </tr>\n",
       "    <tr>\n",
       "      <th>7523</th>\n",
       "      <td>BAIA MARE</td>\n",
       "      <td>GRDNRM CU PROGRM PRELUNGIT ION CREANGA BAIA MARE</td>\n",
       "      <td>Grădiniţa cu progrm prelungit \"Ion Creangă\"-S</td>\n",
       "      <td>GRDNRM CU PROGRAM PLELUNGIT NR. 3 BAIA MARE</td>\n",
       "      <td>78.0</td>\n",
       "      <td>GRDNRM CU PROGRAM PLELUNGIT NR. 3 BAIA MARE</td>\n",
       "    </tr>\n",
       "    <tr>\n",
       "      <th>18768</th>\n",
       "      <td>ULMENI</td>\n",
       "      <td>LICTEH DR.F.ULMENU</td>\n",
       "      <td>LIC.TEHN.”DR.F.ULMENU”</td>\n",
       "      <td>LICTEH DR. FLORIAN ULMEANU ULMENI</td>\n",
       "      <td>72.0</td>\n",
       "      <td>LICTEH DR. FLORIAN ULMEANU ULMENI</td>\n",
       "    </tr>\n",
       "    <tr>\n",
       "      <th>10273</th>\n",
       "      <td>SEINI</td>\n",
       "      <td>LITEOR TEHN A GRDNRM ALEXIU BERINDE SEINI</td>\n",
       "      <td>LICEUL TEHN AGR.ALEXIU BERINDE (S)</td>\n",
       "      <td>LICTEH ALEXIU BERINDE SEINI</td>\n",
       "      <td>74.0</td>\n",
       "      <td>LICTEH ALEXIU BERINDE SEINI</td>\n",
       "    </tr>\n",
       "    <tr>\n",
       "      <th>18769</th>\n",
       "      <td>SIGHETU MARMATIEI</td>\n",
       "      <td>LITEOR TEOERETIC SIGHETU MARMATIEI</td>\n",
       "      <td>LICEUL TEOERETIC</td>\n",
       "      <td>LISPRT SIGHETU MARMATIEI</td>\n",
       "      <td>72.0</td>\n",
       "      <td>LISPRT SIGHETU MARMATIEI</td>\n",
       "    </tr>\n",
       "    <tr>\n",
       "      <th>5434</th>\n",
       "      <td>SEINI</td>\n",
       "      <td>SGMZ ALEXIU BERINDE SEINI</td>\n",
       "      <td>SCOALA GIMNAZIALA \"ALEXIU BERINDE\" SEINI - PJ</td>\n",
       "      <td>LICTEH ALEXIU BERINDE SEINI</td>\n",
       "      <td>77.0</td>\n",
       "      <td>LICTEH ALEXIU BERINDE SEINI</td>\n",
       "    </tr>\n",
       "    <tr>\n",
       "      <th>16554</th>\n",
       "      <td>ULMENI</td>\n",
       "      <td>SPRM ULMENI</td>\n",
       "      <td>SCOALA PRIMARĂ</td>\n",
       "      <td>SPRM MANAU ULMENI</td>\n",
       "      <td>79.0</td>\n",
       "      <td>SPRM MANAU ULMENI</td>\n",
       "    </tr>\n",
       "    <tr>\n",
       "      <th>8428</th>\n",
       "      <td>SEINI</td>\n",
       "      <td>SGMZ ALEXIU BERINDE SEINI</td>\n",
       "      <td>Scoala Gimnaziala \"Alexiu Berinde\" - S</td>\n",
       "      <td>LICTEH ALEXIU BERINDE SEINI</td>\n",
       "      <td>77.0</td>\n",
       "      <td>LICTEH ALEXIU BERINDE SEINI</td>\n",
       "    </tr>\n",
       "    <tr>\n",
       "      <th>9083</th>\n",
       "      <td>SEINI</td>\n",
       "      <td>SGMZ ALEXIU BERINDE SEINI</td>\n",
       "      <td>Scoala Gimnaziala \"Alexiu Berinde\"-S</td>\n",
       "      <td>LICTEH ALEXIU BERINDE SEINI</td>\n",
       "      <td>77.0</td>\n",
       "      <td>LICTEH ALEXIU BERINDE SEINI</td>\n",
       "    </tr>\n",
       "    <tr>\n",
       "      <th>2615</th>\n",
       "      <td>SEINI</td>\n",
       "      <td>SGMZ ALEXIU BERINDE SEINI</td>\n",
       "      <td>Scoala cu cls. I-VIII Alexiu Berinde- PJ</td>\n",
       "      <td>LICTEH ALEXIU BERINDE SEINI</td>\n",
       "      <td>77.0</td>\n",
       "      <td>LICTEH ALEXIU BERINDE SEINI</td>\n",
       "    </tr>\n",
       "    <tr>\n",
       "      <th>3275</th>\n",
       "      <td>SEINI</td>\n",
       "      <td>SGMZ ALEXIU BERINDE SEINI</td>\n",
       "      <td>Scoala cu cls.I-VIIIAlexiu Berinde - PJ</td>\n",
       "      <td>LICTEH ALEXIU BERINDE SEINI</td>\n",
       "      <td>77.0</td>\n",
       "      <td>LICTEH ALEXIU BERINDE SEINI</td>\n",
       "    </tr>\n",
       "    <tr>\n",
       "      <th>7515</th>\n",
       "      <td>SEINI</td>\n",
       "      <td>SGMZ ALEXIU BERINDE SEINI</td>\n",
       "      <td>Şcoala Gimnazială \"Alexiu Berinde\" - S</td>\n",
       "      <td>LICTEH ALEXIU BERINDE SEINI</td>\n",
       "      <td>77.0</td>\n",
       "      <td>LICTEH ALEXIU BERINDE SEINI</td>\n",
       "    </tr>\n",
       "    <tr>\n",
       "      <th>549</th>\n",
       "      <td>BAIA MARE</td>\n",
       "      <td>SGMZ ALEXIU BERINDE BAIA MARE</td>\n",
       "      <td>Şcoala cu cl. I-VIII. Alexiu Berinde, Baia Mare</td>\n",
       "      <td>SGMZ ALEXANDRU IOAN CUZA BAIA MARE</td>\n",
       "      <td>73.0</td>\n",
       "      <td>SGMZ ALEXANDRU IOAN CUZA BAIA MARE</td>\n",
       "    </tr>\n",
       "    <tr>\n",
       "      <th>555</th>\n",
       "      <td>CAMPULUNG LA TISA</td>\n",
       "      <td>SGMZ C-LUNG LA TISA</td>\n",
       "      <td>Şcoala cu cl. I-VIII. C-lung la Tisa</td>\n",
       "      <td>SGMZ CAMPULUNG LA TISA</td>\n",
       "      <td>78.0</td>\n",
       "      <td>SGMZ CAMPULUNG LA TISA</td>\n",
       "    </tr>\n",
       "  </tbody>\n",
       "</table>\n",
       "</div>"
      ],
      "text/plain": [
       "               telepules                                        clean_names  \\\n",
       "1642              CAVNIC  LICTEH PINTEA VITEAZUL - POST ( PRESCOLAR ) HA...   \n",
       "4483           BAIA MARE             GRDNRM NR.25 BAIA MARE - GRUPA WALDORF   \n",
       "7513         TARGU LAPUS                    GRDNRM NR.2TG.LAPUS TARGU LAPUS   \n",
       "4481              ULMENI  LICTEH INDUSTRIAL DR. FLORIAN ULMEANU ULMENI M...   \n",
       "2625         TARGU LAPUS                                  LICTEH TARGU LAPU   \n",
       "7523           BAIA MARE   GRDNRM CU PROGRM PRELUNGIT ION CREANGA BAIA MARE   \n",
       "18768             ULMENI                                 LICTEH DR.F.ULMENU   \n",
       "10273              SEINI          LITEOR TEHN A GRDNRM ALEXIU BERINDE SEINI   \n",
       "18769  SIGHETU MARMATIEI                 LITEOR TEOERETIC SIGHETU MARMATIEI   \n",
       "5434               SEINI                          SGMZ ALEXIU BERINDE SEINI   \n",
       "16554             ULMENI                                        SPRM ULMENI   \n",
       "8428               SEINI                          SGMZ ALEXIU BERINDE SEINI   \n",
       "9083               SEINI                          SGMZ ALEXIU BERINDE SEINI   \n",
       "2615               SEINI                          SGMZ ALEXIU BERINDE SEINI   \n",
       "3275               SEINI                          SGMZ ALEXIU BERINDE SEINI   \n",
       "7515               SEINI                          SGMZ ALEXIU BERINDE SEINI   \n",
       "549            BAIA MARE                      SGMZ ALEXIU BERINDE BAIA MARE   \n",
       "555    CAMPULUNG LA TISA                                SGMZ C-LUNG LA TISA   \n",
       "\n",
       "                                                     Név  \\\n",
       "1642   Col. Ec.\" Pintea Viteazul\"-S- Post ( prescolar...   \n",
       "4483   GRADINITA CU PROGRAM PRELUNGIT NR.25, BAIA MAR...   \n",
       "7513                                 Grad.nr.2Tg.Lapus-S   \n",
       "4481   Grupul Scolar Industrial \"Dr. Florian Ulmeanu\"...   \n",
       "2625                      Grupul Şcolar Targu Lapus - PJ   \n",
       "7523       Grădiniţa cu progrm prelungit \"Ion Creangă\"-S   \n",
       "18768                             LIC.TEHN.”DR.F.ULMENU”   \n",
       "10273                 LICEUL TEHN AGR.ALEXIU BERINDE (S)   \n",
       "18769                                   LICEUL TEOERETIC   \n",
       "5434       SCOALA GIMNAZIALA \"ALEXIU BERINDE\" SEINI - PJ   \n",
       "16554                                    SCOALA PRIMARĂ    \n",
       "8428              Scoala Gimnaziala \"Alexiu Berinde\" - S   \n",
       "9083                Scoala Gimnaziala \"Alexiu Berinde\"-S   \n",
       "2615            Scoala cu cls. I-VIII Alexiu Berinde- PJ   \n",
       "3275             Scoala cu cls.I-VIIIAlexiu Berinde - PJ   \n",
       "7515              Şcoala Gimnazială \"Alexiu Berinde\" - S   \n",
       "549      Şcoala cu cl. I-VIII. Alexiu Berinde, Baia Mare   \n",
       "555                 Şcoala cu cl. I-VIII. C-lung la Tisa   \n",
       "\n",
       "                                    guessed_names2  guess_scores  \\\n",
       "1642                 LICTEH PINTEA VITEAZUL CAVNIC          72.0   \n",
       "4483                       GRDNRM NR. 25 BAIA MARE          76.0   \n",
       "7513                            GRDNRM TARGU LAPUS          73.0   \n",
       "4481             LICTEH DR. FLORIAN ULMEANU ULMENI          79.0   \n",
       "2625                             SCSPC TARGU LAPUS          71.0   \n",
       "7523   GRDNRM CU PROGRAM PLELUNGIT NR. 3 BAIA MARE          78.0   \n",
       "18768            LICTEH DR. FLORIAN ULMEANU ULMENI          72.0   \n",
       "10273                  LICTEH ALEXIU BERINDE SEINI          74.0   \n",
       "18769                     LISPRT SIGHETU MARMATIEI          72.0   \n",
       "5434                   LICTEH ALEXIU BERINDE SEINI          77.0   \n",
       "16554                            SPRM MANAU ULMENI          79.0   \n",
       "8428                   LICTEH ALEXIU BERINDE SEINI          77.0   \n",
       "9083                   LICTEH ALEXIU BERINDE SEINI          77.0   \n",
       "2615                   LICTEH ALEXIU BERINDE SEINI          77.0   \n",
       "3275                   LICTEH ALEXIU BERINDE SEINI          77.0   \n",
       "7515                   LICTEH ALEXIU BERINDE SEINI          77.0   \n",
       "549             SGMZ ALEXANDRU IOAN CUZA BAIA MARE          73.0   \n",
       "555                         SGMZ CAMPULUNG LA TISA          78.0   \n",
       "\n",
       "                                     guessed_names  \n",
       "1642                 LICTEH PINTEA VITEAZUL CAVNIC  \n",
       "4483                       GRDNRM NR. 25 BAIA MARE  \n",
       "7513                            GRDNRM TARGU LAPUS  \n",
       "4481             LICTEH DR. FLORIAN ULMEANU ULMENI  \n",
       "2625                             SCSPC TARGU LAPUS  \n",
       "7523   GRDNRM CU PROGRAM PLELUNGIT NR. 3 BAIA MARE  \n",
       "18768            LICTEH DR. FLORIAN ULMEANU ULMENI  \n",
       "10273                  LICTEH ALEXIU BERINDE SEINI  \n",
       "18769                     LISPRT SIGHETU MARMATIEI  \n",
       "5434                   LICTEH ALEXIU BERINDE SEINI  \n",
       "16554                            SPRM MANAU ULMENI  \n",
       "8428                   LICTEH ALEXIU BERINDE SEINI  \n",
       "9083                   LICTEH ALEXIU BERINDE SEINI  \n",
       "2615                   LICTEH ALEXIU BERINDE SEINI  \n",
       "3275                   LICTEH ALEXIU BERINDE SEINI  \n",
       "7515                   LICTEH ALEXIU BERINDE SEINI  \n",
       "549             SGMZ ALEXANDRU IOAN CUZA BAIA MARE  \n",
       "555                         SGMZ CAMPULUNG LA TISA  "
      ]
     },
     "execution_count": 4041,
     "metadata": {},
     "output_type": "execute_result"
    }
   ],
   "source": [
    "dr[((dr['guess_scores']<80)&(70<dr['guess_scores']))]"
   ]
  },
  {
   "cell_type": "code",
   "execution_count": 3674,
   "metadata": {},
   "outputs": [
    {
     "name": "stdout",
     "output_type": "stream",
     "text": [
      "{'GRDNRM ZIMANDCUZ': 825, 'SPRM ZIMANDCUZ': 963}\n"
     ]
    },
    {
     "data": {
      "text/html": [
       "<div>\n",
       "<style scoped>\n",
       "    .dataframe tbody tr th:only-of-type {\n",
       "        vertical-align: middle;\n",
       "    }\n",
       "\n",
       "    .dataframe tbody tr th {\n",
       "        vertical-align: top;\n",
       "    }\n",
       "\n",
       "    .dataframe thead th {\n",
       "        text-align: right;\n",
       "    }\n",
       "</style>\n",
       "<table border=\"1\" class=\"dataframe\">\n",
       "  <thead>\n",
       "    <tr style=\"text-align: right;\">\n",
       "      <th></th>\n",
       "      <th>Denumire</th>\n",
       "      <th>Localitate</th>\n",
       "    </tr>\n",
       "  </thead>\n",
       "  <tbody>\n",
       "    <tr>\n",
       "      <th>825</th>\n",
       "      <td>GRĂDINIŢA PN ZIMANDCUZ</td>\n",
       "      <td>ZIMANDCUZ</td>\n",
       "    </tr>\n",
       "    <tr>\n",
       "      <th>963</th>\n",
       "      <td>ŞCOALA PRIMARĂ ZIMANDCUZ</td>\n",
       "      <td>ZIMANDCUZ</td>\n",
       "    </tr>\n",
       "  </tbody>\n",
       "</table>\n",
       "</div>"
      ],
      "text/plain": [
       "                     Denumire Localitate\n",
       "825    GRĂDINIŢA PN ZIMANDCUZ  ZIMANDCUZ\n",
       "963  ŞCOALA PRIMARĂ ZIMANDCUZ  ZIMANDCUZ"
      ]
     },
     "execution_count": 3674,
     "metadata": {},
     "output_type": "execute_result"
    }
   ],
   "source": [
    "loc='ZIMANDCUZ'\n",
    "print(gov_clean[roman(loc)])\n",
    "dv[dv['Localitate']==loc]"
   ]
  }
 ],
 "metadata": {
  "kernelspec": {
   "display_name": "Python 3",
   "language": "python",
   "name": "python3"
  },
  "language_info": {
   "codemirror_mode": {
    "name": "ipython",
    "version": 3
   },
   "file_extension": ".py",
   "mimetype": "text/x-python",
   "name": "python",
   "nbconvert_exporter": "python",
   "pygments_lexer": "ipython3",
   "version": "3.7.4"
  }
 },
 "nbformat": 4,
 "nbformat_minor": 4
}
