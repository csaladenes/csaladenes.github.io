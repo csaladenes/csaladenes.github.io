{
 "cells": [
  {
   "cell_type": "code",
   "execution_count": 1,
   "metadata": {},
   "outputs": [],
   "source": [
    "import pandas as pd\n",
    "import json\n",
    "import numpy as np"
   ]
  },
  {
   "cell_type": "code",
   "execution_count": 57,
   "metadata": {},
   "outputs": [],
   "source": [
    "megye={'Fehér':'ALBA', 'Arad':'ARAD', 'Bukarest':'B', 'Bákó':'BACAU', 'Bihar':'BIHOR', 'Beszterce-Naszód':'BISTRITA-NASAUD',\n",
    "       'Brassó':'BRASOV', 'Kolozs':'CLUJ', 'Kovászna':'COVASNA', 'Krassó-Szörény':'CARAS-SEVERIN', 'Hunyad':'HUNEDOARA',\n",
    "       'Hargita':'HARGHITA', 'Máramaros':'MARAMURES', 'Maros':'MURES', 'Szeben':'SIBIU', 'Szatmár':'SATU MARE', 'Szilágy':'SALAJ',\n",
    "       'Temes':'TIMIS'}"
   ]
  },
  {
   "cell_type": "code",
   "execution_count": 58,
   "metadata": {},
   "outputs": [],
   "source": [
    "ro={'Ă':'A','Ş':'S','Â':'A','Ș':'S','Ț':'T','Â':'A','Î':'I','Ă':'A','Ţ':'T','-':' ','SC.GEN.':'','I VIII':''}\n",
    "def roman(s):\n",
    "    return replacer(s,ro)"
   ]
  },
  {
   "cell_type": "markdown",
   "metadata": {},
   "source": [
    "Load processed geocoded db"
   ]
  },
  {
   "cell_type": "code",
   "execution_count": 277,
   "metadata": {},
   "outputs": [],
   "source": [
    "data=pd.read_excel('data/clean/erdely6.xlsx').drop('Unnamed: 0',axis=1)"
   ]
  },
  {
   "cell_type": "code",
   "execution_count": 278,
   "metadata": {},
   "outputs": [],
   "source": [
    "data['guess_scores']=abs(data['guess_scores']).replace(0,50)"
   ]
  },
  {
   "cell_type": "code",
   "execution_count": 279,
   "metadata": {},
   "outputs": [],
   "source": [
    "data.index=data['Denumire'].astype(str)+' '+data['Localitate'].astype(str)+', '+data['Localitate superioară'].astype(str)+', '+\\\n",
    "     data['Stradă'].astype(str)+' nr. '+data['Număr'].astype(str)+', '+data['Cod poștal'].astype(str).str[:-2]+', '+\\\n",
    "     data['Judet'].astype(str)+', ROMANIA'"
   ]
  },
  {
   "cell_type": "code",
   "execution_count": 280,
   "metadata": {},
   "outputs": [],
   "source": [
    "geo=pd.read_excel('data/clean/geo.xlsx').drop('Unnamed: 0',axis=1).set_index('index')\n",
    "geo['telepules_g']=geo['telepules']\n",
    "geo=geo.drop('telepules',axis=1)"
   ]
  },
  {
   "cell_type": "code",
   "execution_count": 281,
   "metadata": {},
   "outputs": [],
   "source": [
    "data=data.join(geo)"
   ]
  },
  {
   "cell_type": "code",
   "execution_count": 282,
   "metadata": {},
   "outputs": [],
   "source": [
    "hun_city={i:i for i in np.sort(list(data['varos'].unique()))}"
   ]
  },
  {
   "cell_type": "code",
   "execution_count": 283,
   "metadata": {},
   "outputs": [
    {
     "data": {
      "text/plain": [
       "28264"
      ]
     },
     "execution_count": 283,
     "metadata": {},
     "output_type": "execute_result"
    }
   ],
   "source": [
    "open('data/geo/hun_city.json','w',encoding='utf8').write(json.dumps(hun_city,ensure_ascii=False))"
   ]
  },
  {
   "cell_type": "code",
   "execution_count": 284,
   "metadata": {},
   "outputs": [],
   "source": [
    "pd.DataFrame(data['varos'].unique()).to_excel('data/geo/geo.xlsx')\n",
    "# pd.DataFrame(data['varos'].unique()).to_excel('data/geo/geo_manual.xlsx')"
   ]
  },
  {
   "cell_type": "markdown",
   "metadata": {},
   "source": [
    "Manually edit and fix, then load back"
   ]
  },
  {
   "cell_type": "code",
   "execution_count": 285,
   "metadata": {},
   "outputs": [],
   "source": [
    "geom=list(pd.read_excel('data/geo/geo_manual.xlsx').drop('Unnamed: 0',axis=1)[0].unique())"
   ]
  },
  {
   "cell_type": "code",
   "execution_count": 286,
   "metadata": {},
   "outputs": [],
   "source": [
    "geom=data[['telepules','varos']].set_index('varos').loc[geom].reset_index().set_index('telepules')\n",
    "geom.columns=['varos_geo']"
   ]
  },
  {
   "cell_type": "code",
   "execution_count": 287,
   "metadata": {},
   "outputs": [],
   "source": [
    "#can't join, no judet"
   ]
  },
  {
   "cell_type": "markdown",
   "metadata": {},
   "source": [
    "Geocode from Szekelydata DB"
   ]
  },
  {
   "cell_type": "code",
   "execution_count": 288,
   "metadata": {},
   "outputs": [],
   "source": [
    "hun=json.loads(open('data/geo/hun2.json','r').read())"
   ]
  },
  {
   "cell_type": "code",
   "execution_count": 289,
   "metadata": {},
   "outputs": [],
   "source": [
    "hdf=pd.DataFrame(hun).stack().reset_index().set_index('level_1').join(pd.DataFrame(megye,index=['level_1']).T.reset_index().reset_index().set_index('level_1').drop('level_0',axis=1))\n",
    "hdf.columns=['telepules','telepules_hun','Megye']"
   ]
  },
  {
   "cell_type": "code",
   "execution_count": 290,
   "metadata": {},
   "outputs": [],
   "source": [
    "hdf.index=hdf['Megye']+'+'+hdf['telepules']\n",
    "data.index=data['Megye']+'+'+data['telepules']"
   ]
  },
  {
   "cell_type": "code",
   "execution_count": 291,
   "metadata": {},
   "outputs": [],
   "source": [
    "data=data.join(hdf['telepules_hun'])"
   ]
  },
  {
   "cell_type": "code",
   "execution_count": 292,
   "metadata": {},
   "outputs": [],
   "source": [
    "data['telepules_hun']=data[['varos','telepules_hun']].T.ffill().T['telepules_hun']"
   ]
  },
  {
   "cell_type": "code",
   "execution_count": 314,
   "metadata": {},
   "outputs": [],
   "source": [
    "gata=data[['ID','Év','Megye', 'telepules','telepules_hun','guessed_names2', 'guess_scores','Név','Típus', 'Profil',\n",
    "       'Óvodás csoportok összesen',\n",
    "       'Óvodások összesen', 'Kiscsoportok száma', 'Kiscsoportosok',\n",
    "       'Középcsoportok száma', 'Középcsoportosok', 'Nagycsoportok száma',\n",
    "       'Nagycsoportosok', 'Vegyes csoportok száma', 'Vegyescsoportosok',\n",
    "       'Tanítók összesen', 'Képzett tanítók', 'Képzetlen tanítók',\n",
    "       'Elemi osztályok összesen', 'Elemisek összesen',\n",
    "       'Előkészítő osztályok száma', 'Előkészítő osztályosok',\n",
    "       '1. osztályok száma', '1. osztályosok', '2. osztályok száma',\n",
    "       '2. osztályosok', '3. osztályok száma', '3. osztályosok',\n",
    "       '4. osztályok száma', '4. osztályosok', 'Általános osztályok összesen',\n",
    "       'Általánososok összesen', '5. osztályok száma', '5. osztályosok',\n",
    "       '6. osztályok száma', '6. osztályosok', '7. osztályok száma',\n",
    "       '7. osztályosok', '8. osztályok száma', '8. osztályosok',\n",
    "       'Középiskolai osztályok összesen', 'Középiskolások összesen',\n",
    "       '9. osztályok száma', '9. osztályosok', '10. osztályok száma',\n",
    "       '10. osztályosok', '11. osztályok száma', '11. osztályosok',\n",
    "       '12. osztályok száma', '12. osztályosok', '13. osztályok száma',\n",
    "       '13. osztályosok', '14. osztályok száma', '14. osztályosok','Továbbtanulás', 'Iskolabusz', \n",
    "        'Cod SIIIR', 'Cod SIRUES', 'Denumire scurtă', 'Denumire', 'Localitate',\n",
    "       'Localitate superioară', 'Stradă', 'Număr', 'Cod poștal', 'Statut',\n",
    "       'Tip unitate', 'Unitate PJ', 'Mod funcționare', 'Formă de finanțare',\n",
    "       'Formă de proprietate', 'Cod fiscal', 'Judet', 'Data modificării',\n",
    "       'Data acreditării', 'Data intrării în vigoare', 'Data închiderii',\n",
    "       'Telefon', 'Fax', 'Adresa email', 'nev',  'telepules_g','varos','cim', 'koordinata', 'telefon', 'web', 'maps', 'kep', \n",
    "         \n",
    "       ]]"
   ]
  },
  {
   "cell_type": "code",
   "execution_count": 320,
   "metadata": {},
   "outputs": [],
   "source": [
    "gata.columns=['ID','Év','Megye', 'Település (eredeti)','Település (magyar VÁZLAT)','Név (normalizált)', 'Adatok megbízhatósága',\n",
    "              'Név (eredeti)','Típus (VÁZLAT)', 'Profil (VÁZLAT)',\n",
    "       'Óvodás csoportok összesen',\n",
    "       'Óvodások összesen', 'Kiscsoportok száma', 'Kiscsoportosok',\n",
    "       'Középcsoportok száma', 'Középcsoportosok', 'Nagycsoportok száma',\n",
    "       'Nagycsoportosok', 'Vegyes csoportok száma', 'Vegyescsoportosok',\n",
    "       'Tanítók összesen', 'Képzett tanítók', 'Képzetlen tanítók',\n",
    "       'Elemi osztályok összesen', 'Elemisek összesen',\n",
    "       'Előkészítő osztályok száma', 'Előkészítő osztályosok',\n",
    "       '1. osztályok száma', '1. osztályosok', '2. osztályok száma',\n",
    "       '2. osztályosok', '3. osztályok száma', '3. osztályosok',\n",
    "       '4. osztályok száma', '4. osztályosok', 'Általános osztályok összesen',\n",
    "       'Általánososok összesen', '5. osztályok száma', '5. osztályosok',\n",
    "       '6. osztályok száma', '6. osztályosok', '7. osztályok száma',\n",
    "       '7. osztályosok', '8. osztályok száma', '8. osztályosok',\n",
    "       'Középiskolai osztályok összesen', 'Középiskolások összesen',\n",
    "       '9. osztályok száma', '9. osztályosok', '10. osztályok száma',\n",
    "       '10. osztályosok', '11. osztályok száma', '11. osztályosok',\n",
    "       '12. osztályok száma', '12. osztályosok', '13. osztályok száma',\n",
    "       '13. osztályosok', '14. osztályok száma', '14. osztályosok','Továbbtanulás (VÁZLAT)', 'Iskolabusz (VÁZLAT)', \n",
    "        'RSH SIIIR kód', 'RSH SIRUES kód', 'RSH Rövid név', 'RSH Név', 'RSH Település',\n",
    "       'RSH Község', 'RSH Cím/Utca', 'RSH Cím/Szám', 'RSH Cím/Irányítószám', 'RSH Jogi forma',\n",
    "       'RSH Egység típusa', 'RSH Anyaintézmény', 'RSH Működési forma', 'RSH Finanszírozás',\n",
    "       'RSH Tulajdonviszony', 'RSH Adószám', 'RSH Megye', 'RSH Módosítva',\n",
    "       'RSH Akkreditálva', 'RSH Működés kezdete', 'RSH Bezárás ideje',\n",
    "       'RSH Telefon', 'RSH Fax', 'RSH Email', 'GOOGLE Név', 'GOOGLE Település', 'GOOGLE Község', 'GOOGLE Cím', \n",
    "              'GOOGLE koordináta', 'GOOGLE Telefon', 'GOOGLE weboldal', 'GOOGLE térkép', 'GOOGLE fénykép', \n",
    "         ]"
   ]
  },
  {
   "cell_type": "code",
   "execution_count": 321,
   "metadata": {},
   "outputs": [
    {
     "name": "stderr",
     "output_type": "stream",
     "text": [
      "C:\\ProgramData\\Anaconda3\\lib\\site-packages\\ipykernel_launcher.py:16: SettingWithCopyWarning: \n",
      "A value is trying to be set on a copy of a slice from a DataFrame.\n",
      "Try using .loc[row_indexer,col_indexer] = value instead\n",
      "\n",
      "See the caveats in the documentation: https://pandas.pydata.org/pandas-docs/stable/user_guide/indexing.html#returning-a-view-versus-a-copy\n",
      "  app.launch_new_instance()\n"
     ]
    }
   ],
   "source": [
    "gata['Név (normalizált)']=gata['Név (normalizált)']\\\n",
    ".str.replace('SGMZ','ÁLTALÁNOS ISKOLA')\\\n",
    ".str.replace('SPRM','ELEMI ISKOLA')\\\n",
    ".str.replace('SPSTL','POSZTLÍCEUM')\\\n",
    ".str.replace('LICTEH','SZAKLÍCEUM')\\\n",
    ".str.replace('LISPRT','SPORTISKOLA')\\\n",
    ".str.replace('CLBCOP','GYEREK-KLUB')\\\n",
    ".str.replace('LITEOR','ELMÉLETI LÍCEUM')\\\n",
    ".str.replace('LIPDGA','TANÍTÓKÉPZŐ')\\\n",
    ".str.replace('LITOLX','TEOLÓGIAI LÍCEUM')\\\n",
    ".str.replace('LIARTE','MŰVÉSZETI LÍCEUM')\\\n",
    ".str.replace('COLGNAT','NEMZETI KOLLÉGIUM')\\\n",
    ".str.replace('GRDNRM','ÓVODA')\\\n",
    ".str.replace('GRDPLG','NAPKÖZI-OTTHON')\\\n",
    ".str.replace('INSPSCJ','TANFELÜGYELŐSÉG')\\\n",
    ".str.replace('SCSPC','SPECIÁLIS ISKOLA')"
   ]
  },
  {
   "cell_type": "code",
   "execution_count": 323,
   "metadata": {},
   "outputs": [],
   "source": [
    "hata=gata.set_index('ID').sort_values(['Év','Megye','Település (eredeti)','Név (normalizált)'])"
   ]
  },
  {
   "cell_type": "code",
   "execution_count": 324,
   "metadata": {},
   "outputs": [],
   "source": [
    "hata.to_excel('data/output/Erdely_draft_output.xlsx')"
   ]
  },
  {
   "cell_type": "code",
   "execution_count": null,
   "metadata": {},
   "outputs": [],
   "source": []
  },
  {
   "cell_type": "code",
   "execution_count": null,
   "metadata": {},
   "outputs": [],
   "source": []
  },
  {
   "cell_type": "code",
   "execution_count": null,
   "metadata": {},
   "outputs": [],
   "source": []
  },
  {
   "cell_type": "code",
   "execution_count": null,
   "metadata": {},
   "outputs": [],
   "source": []
  },
  {
   "cell_type": "code",
   "execution_count": null,
   "metadata": {},
   "outputs": [],
   "source": []
  },
  {
   "cell_type": "code",
   "execution_count": null,
   "metadata": {},
   "outputs": [],
   "source": []
  },
  {
   "cell_type": "code",
   "execution_count": null,
   "metadata": {},
   "outputs": [],
   "source": []
  },
  {
   "cell_type": "code",
   "execution_count": null,
   "metadata": {},
   "outputs": [],
   "source": []
  },
  {
   "cell_type": "code",
   "execution_count": null,
   "metadata": {},
   "outputs": [],
   "source": []
  },
  {
   "cell_type": "markdown",
   "metadata": {},
   "source": [
    "DEPRECATED - google cant translate place names\n",
    "Finish up the rest with `googletrans`"
   ]
  },
  {
   "cell_type": "code",
   "execution_count": 22,
   "metadata": {},
   "outputs": [],
   "source": [
    "# !pip install googletrans"
   ]
  },
  {
   "cell_type": "code",
   "execution_count": 24,
   "metadata": {},
   "outputs": [],
   "source": [
    "from googletrans import Translator\n",
    "translator = Translator()\n",
    "t=translator.translate('scoala',src='ro',dest='hu')"
   ]
  },
  {
   "cell_type": "code",
   "execution_count": 37,
   "metadata": {},
   "outputs": [],
   "source": [
    "to_translate=list((data['telepules']+', judetul '+data['Judet']+', ROMANIA').unique())[:20]"
   ]
  },
  {
   "cell_type": "code",
   "execution_count": 41,
   "metadata": {},
   "outputs": [],
   "source": [
    "to_translate=list((data['Denumire'].astype(str)+' '+data['Localitate'].astype(str)+', '+data['Localitate superioară'].astype(str)+', '+\\\n",
    "     data['Stradă'].astype(str)+' nr. '+data['Număr'].astype(str)+', '+data['Cod poștal'].astype(str).str[:-2]+', '+\\\n",
    "     data['Judet'].astype(str)+', ROMANIA').unique())[:10]"
   ]
  },
  {
   "cell_type": "code",
   "execution_count": 42,
   "metadata": {},
   "outputs": [],
   "source": [
    "translated={}"
   ]
  },
  {
   "cell_type": "code",
   "execution_count": 43,
   "metadata": {},
   "outputs": [],
   "source": [
    "translations = translator.translate(to_translate, src='ro', dest='hu')\n",
    "for translation in translations:\n",
    "    translated[translation.origin]=translation.text"
   ]
  },
  {
   "cell_type": "code",
   "execution_count": 44,
   "metadata": {},
   "outputs": [
    {
     "data": {
      "text/plain": [
       "{'CLUBUL COPIILOR BLAJ BLAJ, MUNICIPIUL BLAJ,  Piata 1848 nr.  8, 515400, AB, ROMANIA': 'BLAJ BLAJ GYERMEKEK KLUBJA, BLAJ KÖZÖSSÉG, Piata 1848 no. 8, 515400, AB, ROMÁNIA',\n",
       " 'SCOALA GIMNAZIALA \"NICOLAE DRAGAN\" GALDA DE JOS GALDA DE JOS, GALDA DE JOS, PRINCIPALA nr. 247, 517285, AB, ROMANIA': '\"NICOLAE DRAGAN\" GYMNASIUM ISKOLA GALDA DE JOS GALDA DE JOS, GALDA DE JOS, PRINCIPALA nr. 247, 517285, AB, ROMÁNIA',\n",
       " 'SCOALA GIMNAZIALA \"AXENTE SEVER\" AIUD AIUD, MUNICIPIUL AIUD, UNIRII nr. 9, 515200, AB, ROMANIA': '\"AXENTE SEVER\" GYMNASIUM ISKOLA AIUD AIUD, MUNICIPIUL AIUD, UNIRII no. 9, 515200, AB, ROMÁNIA',\n",
       " 'SCOALA GIMNAZIALA \"AVRAM IANCU \" UNIREA UNIREA, UNIREA, AVRAM IANCU nr. 69, 517785, AB, ROMANIA': '\"AVRAM IANCU\" GYMNASIUM ISKOLA UNIREA UNIREA, UNIREA, AVRAM IANCU no. 69, 517785, AB, ROMÁNIA',\n",
       " 'SCOALA GIMNAZIALA \"SIMION LAZAR\" LUNCA MURESULUI LUNCA MUREŞULUI, LUNCA MUREŞULUI, GARII nr. 241 A, 517405, AB, ROMANIA': '\"SIMION LAZAR\" GYMNASIUM ISKOLA LUNCA MURESULUI LUNCA MUREŞULUI, LUNCA MUREŞULUI, GARII no. 241 A, 517405, AB, ROMÁNIA',\n",
       " 'LICEUL TEOLOGIC ROMANO-CATOLIC \"GROF MAJLATH GUSZTAV KAROLY\" ALBA IULIA ALBA IULIA, MUNICIPIUL ALBA IULIA, PĂCII nr. 4, 510009, AB, ROMANIA': 'ROMÁN-katolikus teológiai magas iskola \"GROF MAJLATH GUSZTAV KAROLY\" 4, 510009, AB, ROMÁNIA',\n",
       " 'SCOALA GIMNAZIALA \"SEBES PAL\" RIMETEA RÂMETEA, RÂMETEA, PRINCIPALA nr. 124, 517610, AB, ROMANIA': '\"SEBES PAL\" GYMNASIUM ISKOLA RIMETEA RÂMETEA, RÂMETEA, PRINCIPALA no. 124, 517610, AB, ROMÁNIA',\n",
       " 'SCOALA GIMNAZIALA \"TOMA COCISIU\" BLAJ BLAJ, MUNICIPIUL BLAJ, REPUBLICII nr. 48, 515400, AB, ROMANIA': '\"TOMA COCISIU\" BLAJ BLAJ GYMNASIUM ISKOLA, BLAJ MUNICIPIUL, KÖZTÁRSASÁG no. 48, 515400, AB, ROMÁNIA',\n",
       " 'SCOALA GIMNAZIALA MIRASLAU MIRĂSLĂU, MIRĂSLĂU, PRINCIPALA nr. 29, 517470, AB, ROMANIA': 'MIRASLAU GYMNASIUM ISKOLA MIRĂSLĂU, MIRĂSLĂU, PRINCIPALA no. 29, 517470, AB, ROMÁNIA',\n",
       " 'SCOALA GIMNAZIALA \"IOAN MAIORESCU\" BUCERDEA GRANOASA BUCERDEA GRÂNOASĂ, BUCERDEA GRÂNOASĂ, Ioan Maiorescu nr. 130, 517261, AB, ROMANIA': '\"IOAN MAIORESCU\" GYMNASIUM ISKOLA BUCERDEA GRANOASA BUCERDEA GRÂNOASĂ, BUCERDEA GRÂNOASĂ, Ioan Maiorescu no. 130, 517261, AB, ROMÁNIA'}"
      ]
     },
     "execution_count": 44,
     "metadata": {},
     "output_type": "execute_result"
    }
   ],
   "source": [
    "translated"
   ]
  },
  {
   "cell_type": "code",
   "execution_count": null,
   "metadata": {},
   "outputs": [],
   "source": []
  }
 ],
 "metadata": {
  "kernelspec": {
   "display_name": "Python 3",
   "language": "python",
   "name": "python3"
  },
  "language_info": {
   "codemirror_mode": {
    "name": "ipython",
    "version": 3
   },
   "file_extension": ".py",
   "mimetype": "text/x-python",
   "name": "python",
   "nbconvert_exporter": "python",
   "pygments_lexer": "ipython3",
   "version": "3.7.4"
  }
 },
 "nbformat": 4,
 "nbformat_minor": 4
}
