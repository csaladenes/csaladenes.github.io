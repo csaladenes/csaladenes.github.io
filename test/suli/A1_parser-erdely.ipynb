{
 "cells": [
  {
   "cell_type": "code",
   "execution_count": 1,
   "metadata": {},
   "outputs": [],
   "source": [
    "import pandas as pd"
   ]
  },
  {
   "cell_type": "code",
   "execution_count": 2,
   "metadata": {},
   "outputs": [],
   "source": [
    "data={}"
   ]
  },
  {
   "cell_type": "markdown",
   "metadata": {},
   "source": [
    "2010"
   ]
  },
  {
   "cell_type": "code",
   "execution_count": 3,
   "metadata": {},
   "outputs": [],
   "source": [
    "skips={'AB': [11,9],\n",
    " 'AR': [9,21],\n",
    " 'B': [6,0],\n",
    " 'BC': [31,2],\n",
    " 'BH': [13,22],\n",
    " 'B-N': [8,3],\n",
    " 'BV': [5,18],\n",
    " 'CLUJ': [10,4],\n",
    " 'CV': [3,5],\n",
    " 'CARAS-SEVERIN': [0,18,7],\n",
    " 'HD': [4,4,2],\n",
    " 'HR': [4,1],\n",
    " 'MM': [5,12],\n",
    " 'MS': [18,2],\n",
    " 'SB': [3,1],\n",
    " 'SM': [5,1],\n",
    " 'SJ': [3,22],\n",
    " 'TM': [3,6]}"
   ]
  },
  {
   "cell_type": "code",
   "execution_count": 4,
   "metadata": {},
   "outputs": [],
   "source": [
    "push={'CLUJ':{'megye':''},'HR':{'megye':'telepules'},'MM':{'nyelv':'iskola','iskola':'nyelv'},\n",
    "     'SJ':{'megye':''}}"
   ]
  },
  {
   "cell_type": "code",
   "execution_count": 5,
   "metadata": {},
   "outputs": [
    {
     "name": "stdout",
     "output_type": "stream",
     "text": [
      "AB\n",
      "AR\n",
      "B\n",
      "BC\n",
      "BH\n",
      "B-N\n",
      "BV\n",
      "CLUJ\n",
      "CV\n",
      "CARAS-SEVERIN\n",
      "HD\n",
      "HR\n",
      "MM\n",
      "MS\n",
      "SB\n",
      "SM\n",
      "SJ\n",
      "TM\n"
     ]
    }
   ],
   "source": [
    "xl=pd.ExcelFile('data/raw/Erdely/2010-2011-es tanév/Centralizator_2010-11.xlsx')\n",
    "dfs=[]\n",
    "k=0\n",
    "for s in xl.sheet_names[:]:\n",
    "    print(s)\n",
    "    if (skips[s][0]>-1):\n",
    "        df=xl.parse(s,skiprows=skips[s][0]).dropna(how='all').dropna(how='all',axis=1)\n",
    "        if -skips[s][1]<0: \n",
    "            df=df[:-skips[s][1]].dropna(how='all',axis=1)\n",
    "        if len(skips[s])>2:\n",
    "            df=df[skips[s][2]:]\n",
    "        base_columns=['id','megye','iskola','nyelv']\n",
    "        if s not in push:\n",
    "            new_columns=base_columns+list(range(1,14))\n",
    "        else:\n",
    "            new_columns=[b if b not in push[s] else push[s][b] for b in base_columns]+list(range(1,14))\n",
    "            new_columns=[c for c in new_columns if c]\n",
    "        if len(new_columns)>len(df.columns):\n",
    "            new_columns=new_columns[:len(df.columns)]\n",
    "        df=df[df.columns[:len(new_columns)]]\n",
    "        df.columns=new_columns\n",
    "        if s in push:\n",
    "            if 'megye' in push[s]:\n",
    "                df['megye']=s\n",
    "        df['id']=range(1,len(df)+1)\n",
    "        df['orszag']='Romania'\n",
    "        df['ev']=2010\n",
    "        dfs.append(df)\n",
    "data['2010']=pd.concat(dfs).reset_index()"
   ]
  },
  {
   "cell_type": "code",
   "execution_count": 6,
   "metadata": {},
   "outputs": [
    {
     "data": {
      "text/html": [
       "<div>\n",
       "<style scoped>\n",
       "    .dataframe tbody tr th:only-of-type {\n",
       "        vertical-align: middle;\n",
       "    }\n",
       "\n",
       "    .dataframe tbody tr th {\n",
       "        vertical-align: top;\n",
       "    }\n",
       "\n",
       "    .dataframe thead th {\n",
       "        text-align: right;\n",
       "    }\n",
       "</style>\n",
       "<table border=\"1\" class=\"dataframe\">\n",
       "  <thead>\n",
       "    <tr style=\"text-align: right;\">\n",
       "      <th></th>\n",
       "      <th>index</th>\n",
       "      <th>id</th>\n",
       "      <th>megye</th>\n",
       "      <th>iskola</th>\n",
       "      <th>nyelv</th>\n",
       "      <th>1</th>\n",
       "      <th>2</th>\n",
       "      <th>3</th>\n",
       "      <th>4</th>\n",
       "      <th>5</th>\n",
       "      <th>...</th>\n",
       "      <th>7</th>\n",
       "      <th>8</th>\n",
       "      <th>9</th>\n",
       "      <th>10</th>\n",
       "      <th>11</th>\n",
       "      <th>12</th>\n",
       "      <th>13</th>\n",
       "      <th>orszag</th>\n",
       "      <th>ev</th>\n",
       "      <th>telepules</th>\n",
       "    </tr>\n",
       "  </thead>\n",
       "  <tbody>\n",
       "    <tr>\n",
       "      <th>0</th>\n",
       "      <td>1</td>\n",
       "      <td>1</td>\n",
       "      <td>ALBA</td>\n",
       "      <td>Lic.Rom.Cat.”GMGK” Alba Iulia</td>\n",
       "      <td>magh.</td>\n",
       "      <td>5</td>\n",
       "      <td>10</td>\n",
       "      <td>8</td>\n",
       "      <td>2</td>\n",
       "      <td>11</td>\n",
       "      <td>...</td>\n",
       "      <td>9</td>\n",
       "      <td>9</td>\n",
       "      <td>17</td>\n",
       "      <td>19</td>\n",
       "      <td>17</td>\n",
       "      <td>14</td>\n",
       "      <td>0</td>\n",
       "      <td>Romania</td>\n",
       "      <td>2010</td>\n",
       "      <td>NaN</td>\n",
       "    </tr>\n",
       "    <tr>\n",
       "      <th>1</th>\n",
       "      <td>2</td>\n",
       "      <td>2</td>\n",
       "      <td>ALBA</td>\n",
       "      <td>SO4 Oiejdea</td>\n",
       "      <td>magh.</td>\n",
       "      <td>6</td>\n",
       "      <td>2</td>\n",
       "      <td>0</td>\n",
       "      <td>7</td>\n",
       "      <td>0</td>\n",
       "      <td>...</td>\n",
       "      <td>0</td>\n",
       "      <td>0</td>\n",
       "      <td>NaN</td>\n",
       "      <td>NaN</td>\n",
       "      <td>NaN</td>\n",
       "      <td>NaN</td>\n",
       "      <td>NaN</td>\n",
       "      <td>Romania</td>\n",
       "      <td>2010</td>\n",
       "      <td>NaN</td>\n",
       "    </tr>\n",
       "  </tbody>\n",
       "</table>\n",
       "<p>2 rows × 21 columns</p>\n",
       "</div>"
      ],
      "text/plain": [
       "   index  id megye                         iskola  nyelv  1   2  3  4   5  \\\n",
       "0      1   1  ALBA  Lic.Rom.Cat.”GMGK” Alba Iulia  magh.  5  10  8  2  11   \n",
       "1      2   2  ALBA                   SO4 Oiejdea   magh.  6   2  0  7   0   \n",
       "\n",
       "   ...  7  8    9   10   11   12   13   orszag    ev  telepules  \n",
       "0  ...  9  9   17   19   17   14    0  Romania  2010        NaN  \n",
       "1  ...  0  0  NaN  NaN  NaN  NaN  NaN  Romania  2010        NaN  \n",
       "\n",
       "[2 rows x 21 columns]"
      ]
     },
     "execution_count": 6,
     "metadata": {},
     "output_type": "execute_result"
    }
   ],
   "source": [
    "data['2010'].head(2)"
   ]
  },
  {
   "cell_type": "code",
   "execution_count": 7,
   "metadata": {},
   "outputs": [],
   "source": [
    "data['2010'].to_excel('data/raw/Erdely/norm/2010.xlsx')"
   ]
  },
  {
   "cell_type": "markdown",
   "metadata": {},
   "source": [
    "2011-2016 manual  "
   ]
  },
  {
   "cell_type": "markdown",
   "metadata": {},
   "source": [
    "2017"
   ]
  },
  {
   "cell_type": "code",
   "execution_count": 10,
   "metadata": {},
   "outputs": [],
   "source": [
    "df=pd.read_excel('data/raw/Erdely/2017-2018-as tanév (SIIIR)/20170930-NrEleviPeMaiMulteDimensiuni-2017-2018.xlsx',sheet_name='Export')"
   ]
  },
  {
   "cell_type": "code",
   "execution_count": 14,
   "metadata": {},
   "outputs": [
    {
     "data": {
      "text/plain": [
       "array(['Limba română', 'Limba maghiară', 'Limba germană',\n",
       "       'Limba romani (rromani)', 'Limba sârbă', 'Limba slovacă',\n",
       "       'Limba neogreacă', 'Limba rusă', 'Limba bulgară', 'Limba italiană',\n",
       "       'Limba engleză', 'Limba cehă', 'Limba croată', 'Limba ucraineană',\n",
       "       'Limba polonă'], dtype=object)"
      ]
     },
     "execution_count": 14,
     "metadata": {},
     "output_type": "execute_result"
    }
   ],
   "source": [
    "df['LIMBA DE PREDARE'].unique()"
   ]
  },
  {
   "cell_type": "code",
   "execution_count": 15,
   "metadata": {},
   "outputs": [],
   "source": [
    "df=df[df['LIMBA DE PREDARE']=='Limba maghiară']"
   ]
  },
  {
   "cell_type": "code",
   "execution_count": 17,
   "metadata": {},
   "outputs": [],
   "source": [
    "df.to_excel('data/raw/Erdely/norm/2017.xlsx')"
   ]
  }
 ],
 "metadata": {
  "kernelspec": {
   "display_name": "Python 3",
   "language": "python",
   "name": "python3"
  },
  "language_info": {
   "codemirror_mode": {
    "name": "ipython",
    "version": 3
   },
   "file_extension": ".py",
   "mimetype": "text/x-python",
   "name": "python",
   "nbconvert_exporter": "python",
   "pygments_lexer": "ipython3",
   "version": "3.7.4"
  }
 },
 "nbformat": 4,
 "nbformat_minor": 4
}
