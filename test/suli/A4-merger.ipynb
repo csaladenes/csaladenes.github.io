{
 "cells": [
  {
   "cell_type": "code",
   "execution_count": 1,
   "metadata": {},
   "outputs": [],
   "source": [
    "import pandas as pd\n",
    "import json\n",
    "import numpy as np"
   ]
  },
  {
   "cell_type": "code",
   "execution_count": 2,
   "metadata": {},
   "outputs": [],
   "source": [
    "from fuzzywuzzy import fuzz\n",
    "from fuzzywuzzy import process"
   ]
  },
  {
   "cell_type": "markdown",
   "metadata": {},
   "source": [
    "Import data.gov.ro etalon data"
   ]
  },
  {
   "cell_type": "code",
   "execution_count": 9,
   "metadata": {},
   "outputs": [],
   "source": [
    "megye={'Fehér':'AB', 'Arad':'AR', 'Bukarest':'B', 'Bákó':'BC', 'Bihar':'BH', 'Beszterce-Naszód':'BN',\n",
    "       'Brassó':'BV', 'Kolozs':'CJ', 'Kovászna':'CV', 'Krassó-Szörény':'CS', 'Hunyad':'HD',\n",
    "       'Hargita':'HR', 'Máramaros':'MM', 'Maros':'MS', 'Szeben':'SB', 'Szatmár':'SM', 'Szilágy':'SJ',\n",
    "       'Temes':'TM'}"
   ]
  },
  {
   "cell_type": "code",
   "execution_count": 3,
   "metadata": {},
   "outputs": [],
   "source": [
    "ro={'Ă':'A','Ş':'S','Â':'A','Ș':'S','Ț':'T','Â':'A','Î':'I','Ă':'A','Ţ':'T','-':' ','SC.GEN.':'','I VIII':''}\n",
    "def roman(s):\n",
    "    return replacer(s,ro)"
   ]
  },
  {
   "cell_type": "code",
   "execution_count": 4,
   "metadata": {},
   "outputs": [],
   "source": [
    "gov=pd.read_excel('data/raw/data.gov.ro/datedeschise-retea-2019-2020.xls')"
   ]
  },
  {
   "cell_type": "code",
   "execution_count": 5,
   "metadata": {},
   "outputs": [],
   "source": [
    "locs=gov.set_index('Judet')['Localitate']"
   ]
  },
  {
   "cell_type": "code",
   "execution_count": 15,
   "metadata": {},
   "outputs": [],
   "source": [
    "mgov_clean=json.loads(open('data/clean/mgov_clean.json','r').read())"
   ]
  },
  {
   "cell_type": "markdown",
   "metadata": {},
   "source": [
    "Load processed diak data"
   ]
  },
  {
   "cell_type": "code",
   "execution_count": 10,
   "metadata": {},
   "outputs": [],
   "source": [
    "dg=pd.read_excel('data/clean/erdely5_manual.xlsx').drop('Unnamed: 0',axis=1)"
   ]
  },
  {
   "cell_type": "code",
   "execution_count": 55,
   "metadata": {},
   "outputs": [],
   "source": [
    "m='Arad'"
   ]
  },
  {
   "cell_type": "code",
   "execution_count": 58,
   "metadata": {},
   "outputs": [
    {
     "name": "stdout",
     "output_type": "stream",
     "text": [
      "Fehér\n",
      "Arad\n",
      "Bukarest\n",
      "Bákó\n",
      "Bihar\n",
      "Beszterce-Naszód\n",
      "Brassó\n",
      "Kolozs\n",
      "Kovászna\n",
      "Krassó-Szörény\n",
      "Hunyad\n",
      "Hargita\n",
      "Máramaros\n",
      "Maros\n",
      "Szeben\n",
      "Szatmár\n",
      "Szilágy\n",
      "Temes\n"
     ]
    }
   ],
   "source": [
    "loc_datas=[]\n",
    "for m in megye:\n",
    "    print(m)\n",
    "    loc_data=pd.read_excel('data/clean/guessed/'+m+'.xlsx').drop('Unnamed: 0',axis=1)\n",
    "    gov_loc_ids=[]\n",
    "    for i in loc_data.T.iteritems():\n",
    "        nev=i[1]['guessed_names2']\n",
    "        clean_nev=i[1]['clean_names']\n",
    "        telepules=i[1]['telepules']\n",
    "        telepules=i[1]['telepules']\n",
    "        if nev in mgov_clean[m][telepules]:\n",
    "            gov_loc_ids.append(mgov_clean[m][telepules][nev])\n",
    "        elif 'nferred' in mgov_clean[m][telepules][clean_nev]:\n",
    "            for i in [item for sublist in [list(mgov_clean[m].keys()) for t in mgov_clean[m]] for item in sublist]:\n",
    "                if nev in mgov_clean[m][i]:\n",
    "                    gov_loc_ids.append(mgov_clean[m][i][nev])\n",
    "                    break\n",
    "        else:\n",
    "            gov_loc_ids.append('')\n",
    "    loc_data['gov_loc_ids']=gov_loc_ids\n",
    "    loc_data['Megye']=m\n",
    "    loc_datas.append(loc_data)\n",
    "loc_datas=pd.concat(loc_datas)"
   ]
  },
  {
   "cell_type": "code",
   "execution_count": 60,
   "metadata": {},
   "outputs": [],
   "source": [
    "guessed_locs=dg.set_index(['Megye','telepules','Név']).join(loc_datas.set_index(['Megye','telepules','Név'])).reset_index().set_index('gov_loc_ids')"
   ]
  },
  {
   "cell_type": "code",
   "execution_count": 65,
   "metadata": {},
   "outputs": [],
   "source": [
    "data=guessed_locs.join(gov)"
   ]
  },
  {
   "cell_type": "code",
   "execution_count": 66,
   "metadata": {},
   "outputs": [],
   "source": [
    "data.to_excel('data/clean/erdely6.xlsx')"
   ]
  }
 ],
 "metadata": {
  "kernelspec": {
   "display_name": "Python 3",
   "language": "python",
   "name": "python3"
  },
  "language_info": {
   "codemirror_mode": {
    "name": "ipython",
    "version": 3
   },
   "file_extension": ".py",
   "mimetype": "text/x-python",
   "name": "python",
   "nbconvert_exporter": "python",
   "pygments_lexer": "ipython3",
   "version": "3.7.4"
  }
 },
 "nbformat": 4,
 "nbformat_minor": 4
}
