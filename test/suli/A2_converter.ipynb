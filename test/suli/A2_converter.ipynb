{
 "cells": [
  {
   "cell_type": "code",
   "execution_count": 1,
   "metadata": {},
   "outputs": [],
   "source": [
    "import pandas as pd"
   ]
  },
  {
   "cell_type": "code",
   "execution_count": 2,
   "metadata": {},
   "outputs": [],
   "source": [
    "path='data/raw/Erdely/norm/'"
   ]
  },
  {
   "cell_type": "markdown",
   "metadata": {},
   "source": [
    "Format 2010-2016"
   ]
  },
  {
   "cell_type": "code",
   "execution_count": 3,
   "metadata": {},
   "outputs": [],
   "source": [
    "c={2010:['xx1', 'xx2', 'ID', 'Megye', 'Név', 'Nyelv', '1. osztályosok', '2. osztályosok', '3. osztályosok', \n",
    "         '4. osztályosok', '5. osztályosok', '6. oszosztályosoktály', '7. osztályosok', '8. osztályosok', \n",
    "         '9. osztályosok', '10. osztályosok', '11. osztályosok', '12. osztályosok', '13. osztályosok', \n",
    "         'Ország', 'Év', 'Település'],\n",
    "  2011:{'prescolar':['Év', 'Megye', 'ID', 'Település', 'Név', 'Nyelv', 'Óvodás csoportok összesen', 'Óvodások összesen', \n",
    "        'Nagycsoportok száma', 'Nagycsoportosok', 'Előkészítő osztályok száma', 'Előkészítő osztályosok', \n",
    "        'Tanítók összesen', 'Képzett tanítók', 'Képzetlen tanítók'],\n",
    "        'primar': ['Év', 'Megye', 'ID', 'Település', 'Név', 'Nyelv', '1. osztályok száma', '1. osztályosok', \n",
    "                   '2. osztályok száma', '2. osztályosok', '3. osztályok száma', '3. osztályosok', \n",
    "                   '4. osztályok száma', '4. osztályosok', 'Tanítók összesen', 'Képzett tanítók', 'Képzetlen tanítók'],\n",
    "        'gimnazial': ['Év', 'Megye', 'ID', 'Település', 'Név', 'Nyelv', '5. osztályok száma', '5. osztályosok', \n",
    "                   '6. osztályok száma', '6. osztályosok', '7. osztályok száma', '7. osztályosok', \n",
    "                      '8. osztályok száma', '8. osztályosok', 'Tanítók összesen', 'Képzett tanítók', 'Képzetlen tanítók'],\n",
    "        'liceal': ['Év', 'Megye', 'ID', 'Település', 'Név', 'Nyelv', '9. osztályok száma', '9. osztályosok', \n",
    "                   '10. osztályok száma', '10. osztályosok', '11. osztályok száma', '11. osztályosok', '12. osztályok száma', '12. osztályosok', \n",
    "                   'Tanítók összesen', 'Képzett tanítók', 'Képzetlen tanítók','13. osztályok száma', '13. osztályosok']\n",
    "       }\n",
    "  }\n",
    "c[2012]={'prescolar':['Év', 'Megye', 'ID', 'Település', 'Név', 'Óvodás csoportok összesen', 'Óvodások összesen', \n",
    "                      'Kiscsoportok száma', 'Kiscsoportosok', 'Középcsoportok száma', 'Középcsoportosok', \n",
    "                      'Nagycsoportok száma', 'Nagycsoportosok', 'Tanítók összesen', 'Képzett tanítók', 'Képzetlen tanítók'],\n",
    "        'primar': ['Év', 'Megye', 'ID', 'Település', 'Név', 'Elemi osztályok összesen', 'Elemisek összesen',\n",
    "                   'Előkészítő osztályok száma', 'Előkészítő osztályosok', '1. osztályok száma', '1. osztályosok', \n",
    "                   '2. osztályok száma', '2. osztályosok', '3. osztályok száma', '3. osztályosok', \n",
    "                   '4. osztályok száma', '4. osztályosok', 'Tanítók összesen', 'Képzett tanítók', 'Képzetlen tanítók'],\n",
    "        'gimnazial': ['Év', 'Megye', 'ID', 'Település', 'Név', '5. osztályok száma', '5. osztályosok', \n",
    "                   '6. osztályok száma', '6. osztályosok', '7. osztályok száma', \n",
    "                   '7. osztályosok', '8. osztályok száma', '8. osztályosok', \n",
    "                   'Tanítók összesen', 'Képzett tanítók', 'Képzetlen tanítók'],\n",
    "        'liceal': ['Év', 'Megye', 'ID', 'Település', 'Név', 'Középiskolai osztályok összesen', 'Középiskolások összesen', \n",
    "                   '9. osztályok száma', '9. osztályosok', '10. osztályok száma', '10. osztályosok', \n",
    "                   '11. osztályok száma', '11. osztályosok', '12. osztályok száma', '12. osztályosok', \n",
    "                   'Tanítók összesen', 'Képzett tanítók', 'Képzetlen tanítók',\n",
    "                   '13. osztályok száma', '13. osztályosok','14. osztályok száma', '14. osztályosok']\n",
    "       }\n",
    "c[2013]=c[2012]\n",
    "c[2014]={'prescolar':c[2012]['prescolar']+['Vegyes csoportok száma', 'Vegyescsoportosok'],\n",
    "         'primar':c[2012]['primar'],\n",
    "         'gimnazial':['Év', 'Megye', 'ID', 'Település', 'Név', 'Általános osztályok összesen', 'Általánososok összesen', \n",
    "                      '5. osztályok száma', '5. osztályosok', '6. osztályok száma', '6. osztályosok', \n",
    "                      '7. osztályok száma', '7. osztályosok', '8. osztályok száma', '8. osztályosok', \n",
    "                      'Tanítók összesen', 'Képzett tanítók', 'Képzetlen tanítók'],\n",
    "         'liceal':['Év', 'Megye', 'ID', 'Település', 'Név', 'Típus', 'Profil',\n",
    "                   'Középiskolai osztályok összesen', 'Középiskolások összesen', '9. osztályok száma', '9. osztályosok', \n",
    "                   '10. osztályok száma', '10. osztályosok', '11. osztályok száma', '11. osztályosok', \n",
    "                   '12. osztályok száma', '12. osztályosok', 'Tanítók összesen', 'Képzett tanítók', 'Képzetlen tanítók',\n",
    "                   '13. osztályok száma', '13. osztályosok','14. osztályok száma', '14. osztályosok']\n",
    "       }\n",
    "c[2015]={'prescolar':c[2014]['prescolar']+['Továbbtanulás','Iskolabusz'],\n",
    "         'primar':c[2014]['primar']+['Továbbtanulás','Iskolabusz'],\n",
    "         'gimnazial':c[2014]['gimnazial'],\n",
    "         'liceal':c[2014]['liceal']\n",
    "       }\n",
    "c[2016]=c[2015]"
   ]
  },
  {
   "cell_type": "code",
   "execution_count": 4,
   "metadata": {},
   "outputs": [],
   "source": [
    "dfs=[]\n",
    "for y in range(2010,2017):\n",
    "    if y in [2010]:\n",
    "        df=pd.read_excel(path+str(y)+'.xlsx')\n",
    "        if y in c:\n",
    "            df.columns=c[y]\n",
    "        df=df[[i for i in df.columns if 'xx' not in i]]\n",
    "        dfs.append(df)\n",
    "    else:\n",
    "        for s in ['prescolar','primar','gimnazial','liceal']:\n",
    "            df=pd.read_excel(path+str(y)+'.xlsx',sheet_name=s)\n",
    "            if y in c:\n",
    "                if s in c[y]:\n",
    "                    df.columns=c[y][s]\n",
    "            df=df[[i for i in df.columns if 'xx' not in i]]\n",
    "            dfs.append(df)"
   ]
  },
  {
   "cell_type": "code",
   "execution_count": 5,
   "metadata": {},
   "outputs": [],
   "source": [
    "df=pd.concat(dfs)"
   ]
  },
  {
   "cell_type": "code",
   "execution_count": 6,
   "metadata": {},
   "outputs": [],
   "source": [
    "df=df[['Év', 'Megye', 'Település', 'Név', 'Típus', 'Profil',\n",
    "       'Továbbtanulás', 'Iskolabusz', 'Óvodás csoportok összesen',\n",
    "       'Óvodások összesen', 'Kiscsoportok száma', 'Kiscsoportosok',\n",
    "       'Középcsoportok száma', 'Középcsoportosok', 'Nagycsoportok száma',\n",
    "       'Nagycsoportosok', 'Vegyes csoportok száma', 'Vegyescsoportosok',\n",
    "       'Tanítók összesen', 'Képzett tanítók', 'Képzetlen tanítók', \n",
    "       'Elemi osztályok összesen', 'Elemisek összesen',\n",
    "       'Előkészítő osztályok száma', 'Előkészítő osztályosok',\n",
    "       '1. osztályok száma', '1. osztályosok', '2. osztályok száma',\n",
    "       '2. osztályosok', '3. osztályok száma', '3. osztályosok',\n",
    "       '4. osztályok száma', '4. osztályosok', 'Általános osztályok összesen',\n",
    "       'Általánososok összesen', '5. osztályok száma', '5. osztályosok',\n",
    "       '6. osztályok száma', '6. osztályosok', '7. osztályok száma',\n",
    "       '7. osztályosok', '8. osztályok száma', '8. osztályosok', \n",
    "       'Középiskolai osztályok összesen', 'Középiskolások összesen',\n",
    "       '9. osztályok száma', '9. osztályosok', '10. osztályok száma',\n",
    "       '10. osztályosok', '11. osztályok száma', '11. osztályosok',\n",
    "       '12. osztályok száma', '12. osztályosok', '13. osztályok száma',\n",
    "       '13. osztályosok', '14. osztályok száma', '14. osztályosok',]]\n",
    "df['Év']=df['Év'].ffill()\n",
    "df['Megye']=df['Megye'].ffill().str.upper()"
   ]
  },
  {
   "cell_type": "markdown",
   "metadata": {},
   "source": [
    "Format 2017"
   ]
  },
  {
   "cell_type": "code",
   "execution_count": 346,
   "metadata": {},
   "outputs": [],
   "source": [
    "df.to_excel('data/clean/erdely.xlsx')"
   ]
  },
  {
   "cell_type": "code",
   "execution_count": 324,
   "metadata": {},
   "outputs": [],
   "source": [
    "y=2017\n",
    "dz=pd.read_excel(path+str(y)+'.xlsx')"
   ]
  },
  {
   "cell_type": "code",
   "execution_count": 325,
   "metadata": {},
   "outputs": [
    {
     "data": {
      "text/plain": [
       "Index(['Unnamed: 0', 'JUDET', 'LOCALITATE', 'SIRUTA', 'COD SIIIR',\n",
       "       'DENUMIRE UNITATE', 'COD SIIIR SUPERIOR', 'TIP UNITATE (PJ/AR)',\n",
       "       'MEDIU', 'NIVEL', 'FILIERA', 'PROFIL', 'SPECIALIZARE',\n",
       "       'LIMBA DE PREDARE', 'CLASA', 'TIP EDUCATIE', 'FORMA EDUCATIE',\n",
       "       'FINANTARE', 'PROPRIETATE', 'CLASE', 'COPIIDISTINCTI', 'PROMOVAT',\n",
       "       'REPETENT', 'TRANSFERAT', 'SITDESCHISA', 'EXMATRICULAT',\n",
       "       'SITNEINCHEIATA'],\n",
       "      dtype='object')"
      ]
     },
     "execution_count": 325,
     "metadata": {},
     "output_type": "execute_result"
    }
   ],
   "source": [
    "dz.columns"
   ]
  },
  {
   "cell_type": "code",
   "execution_count": 326,
   "metadata": {},
   "outputs": [],
   "source": [
    "dz=dz[~dz['NIVEL'].isin(['Postliceal'])]"
   ]
  },
  {
   "cell_type": "code",
   "execution_count": 327,
   "metadata": {},
   "outputs": [],
   "source": [
    "dz['CLASA']=dz['CLASA'].replace({'Anul I':'Clasa a IX-a', 'Anul III':'Clasa a XI-a', 'Anul II':'Clasa a X-a','Anul IV':'Clasa a XII-a',\n",
    "                                'Nivel I': 'Clasa I','Nivel II':'Clasa a II-a','Nivel III':'Clasa a III-a','Nivel IV':'Clasa a IV-a',\n",
    "                               'Clasa a IX-a - Special':'Clasa a IX-a','Clasa a X-a - Special':'Clasa a X-a'})"
   ]
  },
  {
   "cell_type": "code",
   "execution_count": 328,
   "metadata": {},
   "outputs": [
    {
     "data": {
      "text/plain": [
       "array(['Clasa a IX-a', 'Clasa a XI-a', 'Clasa a X-a', 'Clasa a VIII-a',\n",
       "       'Clasa a VI-a', 'Clasa a XII-a', 'Clasa I', 'Clasa a III-a',\n",
       "       'Clasa a II-a', 'Clasa a VII-a', 'Clasa a IV-a',\n",
       "       'Clasa pregătitoare', 'Clasa a V-a', 'Grupa mare', 'Grupa mică',\n",
       "       'Grupa mijlocie', 'Clasa a XIII-a'], dtype=object)"
      ]
     },
     "execution_count": 328,
     "metadata": {},
     "output_type": "execute_result"
    }
   ],
   "source": [
    "dz['CLASA'].unique()"
   ]
  },
  {
   "cell_type": "markdown",
   "metadata": {},
   "source": [
    "Manually fix duplicate entires"
   ]
  },
  {
   "cell_type": "code",
   "execution_count": 329,
   "metadata": {},
   "outputs": [],
   "source": [
    "import numpy as np"
   ]
  },
  {
   "cell_type": "code",
   "execution_count": 330,
   "metadata": {},
   "outputs": [
    {
     "data": {
      "text/plain": [
       "array(['AB', 'AR', 'B', 'BC', 'BH', 'BN', 'BV', 'CJ', 'CS', 'CV', 'HD',\n",
       "       'HR', 'MM', 'MS', 'SB', 'SJ', 'SM', 'TM'], dtype=object)"
      ]
     },
     "execution_count": 330,
     "metadata": {},
     "output_type": "execute_result"
    }
   ],
   "source": [
    "dz['JUDET'].unique()"
   ]
  },
  {
   "cell_type": "code",
   "execution_count": 331,
   "metadata": {},
   "outputs": [
    {
     "data": {
      "text/html": [
       "<div>\n",
       "<style scoped>\n",
       "    .dataframe tbody tr th:only-of-type {\n",
       "        vertical-align: middle;\n",
       "    }\n",
       "\n",
       "    .dataframe tbody tr th {\n",
       "        vertical-align: top;\n",
       "    }\n",
       "\n",
       "    .dataframe thead th {\n",
       "        text-align: right;\n",
       "    }\n",
       "</style>\n",
       "<table border=\"1\" class=\"dataframe\">\n",
       "  <thead>\n",
       "    <tr style=\"text-align: right;\">\n",
       "      <th></th>\n",
       "      <th></th>\n",
       "      <th></th>\n",
       "      <th></th>\n",
       "      <th></th>\n",
       "      <th></th>\n",
       "      <th></th>\n",
       "      <th>COPIIDISTINCTI</th>\n",
       "      <th>CLASE</th>\n",
       "      <th>Unnamed: 0</th>\n",
       "    </tr>\n",
       "    <tr>\n",
       "      <th>LOCALITATE</th>\n",
       "      <th>DENUMIRE UNITATE</th>\n",
       "      <th>FORMA EDUCATIE</th>\n",
       "      <th>FILIERA</th>\n",
       "      <th>PROFIL</th>\n",
       "      <th>SPECIALIZARE</th>\n",
       "      <th>CLASA</th>\n",
       "      <th></th>\n",
       "      <th></th>\n",
       "      <th></th>\n",
       "    </tr>\n",
       "  </thead>\n",
       "  <tbody>\n",
       "  </tbody>\n",
       "</table>\n",
       "</div>"
      ],
      "text/plain": [
       "Empty DataFrame\n",
       "Columns: [COPIIDISTINCTI, CLASE, Unnamed: 0]\n",
       "Index: []"
      ]
     },
     "execution_count": 331,
     "metadata": {},
     "output_type": "execute_result"
    }
   ],
   "source": [
    "dk=dz.set_index(['JUDET','LOCALITATE','DENUMIRE UNITATE','FORMA EDUCATIE',\n",
    "                  'FILIERA','PROFIL', 'SPECIALIZARE','CLASA'])[['COPIIDISTINCTI','CLASE','Unnamed: 0']]\\\n",
    "    .loc['MS']\n",
    "dk.loc[dk.index[np.where(dk.index.duplicated())]]"
   ]
  },
  {
   "cell_type": "code",
   "execution_count": 339,
   "metadata": {},
   "outputs": [],
   "source": [
    "dz2=dz.set_index(['JUDET', 'LOCALITATE','DENUMIRE UNITATE','FORMA EDUCATIE',\n",
    "                  'FILIERA','PROFIL', 'SPECIALIZARE','CLASA'])[['COPIIDISTINCTI','CLASE']].unstack().reset_index()"
   ]
  },
  {
   "cell_type": "code",
   "execution_count": 340,
   "metadata": {},
   "outputs": [
    {
     "name": "stderr",
     "output_type": "stream",
     "text": [
      "C:\\ProgramData\\Anaconda3\\lib\\site-packages\\pandas\\core\\generic.py:3936: PerformanceWarning: dropping on a non-lexsorted multi-index without a level parameter may impact performance.\n",
      "  obj = obj._drop_axis(labels, axis, level=level, errors=errors)\n"
     ]
    }
   ],
   "source": [
    "dz2['Year']=2017\n",
    "dz2['Típus']=dz2['FORMA EDUCATIE']+'+'+dz2['FILIERA']\n",
    "dz2['Profil']=dz2['PROFIL']+'+'+dz2['SPECIALIZARE']\n",
    "dz2=dz2.drop(['FORMA EDUCATIE','FILIERA','PROFIL', 'SPECIALIZARE'],axis=1)"
   ]
  },
  {
   "cell_type": "code",
   "execution_count": 342,
   "metadata": {},
   "outputs": [],
   "source": [
    "dz2.columns=['Megye','Település','Név','1. osztályosok','2. osztályosok','3. osztályosok','4. osztályosok',\n",
    "            '5. osztályosok','6. osztályosok','7. osztályosok','8. osztályosok','9. osztályosok',\n",
    "            '10. osztályosok','11. osztályosok','12. osztályosok','13. osztályosok',\n",
    "             'Előkészítő osztályosok','Nagycsoportosok','Kiscsoportosok','Középcsoportosok',\n",
    "             \n",
    "             '1. osztályok száma','2. osztályok száma','3. osztályok száma','4. osztályok száma',\n",
    "            '5. osztályok száma','6. osztályok száma','7. osztályok száma','8. osztályok száma','9. osztályok száma','10. osztályok száma',\n",
    "            '11. osztályok száma','12. osztályok száma','13. osztályok száma',\n",
    "             'Előkészítő osztályok száma','Nagycsoportok száma','Középcsoportok száma','Kiscsoportok száma',\n",
    "            'Év','Típus', 'Profil']"
   ]
  },
  {
   "cell_type": "code",
   "execution_count": 347,
   "metadata": {},
   "outputs": [],
   "source": [
    "dg=pd.concat([df,dz2])"
   ]
  },
  {
   "cell_type": "code",
   "execution_count": 348,
   "metadata": {},
   "outputs": [],
   "source": [
    "dg.to_excel('data/clean/erdely2.xlsx')"
   ]
  },
  {
   "cell_type": "markdown",
   "metadata": {},
   "source": [
    "Final cleaning"
   ]
  },
  {
   "cell_type": "code",
   "execution_count": 470,
   "metadata": {},
   "outputs": [],
   "source": [
    "dg=pd.read_excel('data/clean/erdely2_manual.xlsx').drop('Unnamed: 0',axis=1)"
   ]
  },
  {
   "cell_type": "code",
   "execution_count": 471,
   "metadata": {},
   "outputs": [
    {
     "data": {
      "text/plain": [
       "Index(['Év', 'Megye', 'Település', 'Név', 'Típus', 'Profil', 'Továbbtanulás',\n",
       "       'Iskolabusz', 'Óvodás csoportok összesen', 'Óvodások összesen',\n",
       "       'Kiscsoportok száma', 'Kiscsoportosok', 'Középcsoportok száma',\n",
       "       'Középcsoportosok', 'Nagycsoportok száma', 'Nagycsoportosok',\n",
       "       'Vegyes csoportok száma', 'Vegyescsoportosok', 'Tanítók összesen',\n",
       "       'Képzett tanítók', 'Képzetlen tanítók', 'Elemi osztályok összesen',\n",
       "       'Elemisek összesen', 'Előkészítő osztályok száma',\n",
       "       'Előkészítő osztályosok', '1. osztályok száma', '1. osztályosok',\n",
       "       '2. osztályok száma', '2. osztályosok', '3. osztályok száma',\n",
       "       '3. osztályosok', '4. osztályok száma', '4. osztályosok',\n",
       "       'Általános osztályok összesen', 'Általánososok összesen',\n",
       "       '5. osztályok száma', '5. osztályosok', '6. osztályok száma',\n",
       "       '6. osztályosok', '7. osztályok száma', '7. osztályosok',\n",
       "       '8. osztályok száma', '8. osztályosok',\n",
       "       'Középiskolai osztályok összesen', 'Középiskolások összesen',\n",
       "       '9. osztályok száma', '9. osztályosok', '10. osztályok száma',\n",
       "       '10. osztályosok', '11. osztályok száma', '11. osztályosok',\n",
       "       '12. osztályok száma', '12. osztályosok', '13. osztályok száma',\n",
       "       '13. osztályosok', '14. osztályok száma', '14. osztályosok'],\n",
       "      dtype='object')"
      ]
     },
     "execution_count": 471,
     "metadata": {},
     "output_type": "execute_result"
    }
   ],
   "source": [
    "dg.columns"
   ]
  },
  {
   "cell_type": "code",
   "execution_count": 472,
   "metadata": {},
   "outputs": [],
   "source": [
    "dg['Év']=dg['Év'].astype(int)"
   ]
  },
  {
   "cell_type": "code",
   "execution_count": 473,
   "metadata": {},
   "outputs": [],
   "source": [
    "dg['Megye']=dg['Megye'].ffill()\n",
    "dg['Település']=dg['Település'].ffill()\n",
    "dg['Név']=dg['Név'].ffill()"
   ]
  },
  {
   "cell_type": "code",
   "execution_count": 474,
   "metadata": {},
   "outputs": [
    {
     "data": {
      "text/plain": [
       "array(['ALBA', 'ARAD', 'BUCURESTI', 'BC', 'BIHOR', 'B-N', 'BRAŞOV',\n",
       "       'CLUJ', 'CV', 'CS', 'HD', 'HR', 'MM', 'MUREȘ', 'SIBIU',\n",
       "       'SATU MARE ', 'SJ', 'TIMIŞ', 'AB', 'AR', 'BN', 'BH', 'BV', 'B',\n",
       "       'CJ', 'MS', 'SM', 'SB', 'TM'], dtype=object)"
      ]
     },
     "execution_count": 474,
     "metadata": {},
     "output_type": "execute_result"
    }
   ],
   "source": [
    "dg['Megye'].unique()"
   ]
  },
  {
   "cell_type": "code",
   "execution_count": 475,
   "metadata": {},
   "outputs": [],
   "source": [
    "dg['Megye']=dg['Megye'].replace({'ALBA':'Fehér', 'ARAD':'Arad', 'BUCURESTI':'Bukarest', 'BC':'Bákó', 'BIHOR':'Bihar',\n",
    "                                 'B-N':'Beszterce-Naszód', 'BRAŞOV':'Brassó',\n",
    "       'CLUJ':'Kolozs', 'CV':'Kovászna', 'CS':'Krassó-Szörény', 'HD':'Hunyad', 'HR':'Hargita', 'MM':'Máramaros', 'MUREȘ':'Maros', \n",
    "                                 'SIBIU':'Szeben',\n",
    "       'SATU MARE ':'Szatmár', 'SJ':'Szilágy', 'TIMIŞ':'Temes', 'AB':'Fehér', 'AR':'Arad', 'BN':'Beszterce-Naszód', 'BH':'Bihar', \n",
    "                                 'BV':'Brassó', 'B':'Bukarest',\n",
    "       'CJ':'Kolozs', 'MS':'Maros', 'SM':'Szatmár', 'SB':'Szeben', 'TM':'Temes'})"
   ]
  },
  {
   "cell_type": "code",
   "execution_count": 476,
   "metadata": {},
   "outputs": [
    {
     "data": {
      "text/plain": [
       "array(['Fehér', 'Arad', 'Bukarest', 'Bákó', 'Bihar', 'Beszterce-Naszód',\n",
       "       'Brassó', 'Kolozs', 'Kovászna', 'Krassó-Szörény', 'Hunyad',\n",
       "       'Hargita', 'Máramaros', 'Maros', 'Szeben', 'Szatmár', 'Szilágy',\n",
       "       'Temes'], dtype=object)"
      ]
     },
     "execution_count": 476,
     "metadata": {},
     "output_type": "execute_result"
    }
   ],
   "source": [
    "dg['Megye'].unique()"
   ]
  },
  {
   "cell_type": "code",
   "execution_count": 477,
   "metadata": {},
   "outputs": [],
   "source": [
    "cities=[]\n",
    "for i in list(dg.T.iteritems()):\n",
    "    if str(i[1][2])=='nan':\n",
    "        cities.append(i[1][3].split(' ')[-1])\n",
    "    else:\n",
    "        cities.append(i[1][2])"
   ]
  },
  {
   "cell_type": "code",
   "execution_count": 478,
   "metadata": {},
   "outputs": [],
   "source": [
    "dg['Település']=cities"
   ]
  },
  {
   "cell_type": "code",
   "execution_count": 396,
   "metadata": {},
   "outputs": [],
   "source": [
    "dg.to_excel('data/clean/erdely3.xlsx')"
   ]
  }
 ],
 "metadata": {
  "kernelspec": {
   "display_name": "Python 3",
   "language": "python",
   "name": "python3"
  },
  "language_info": {
   "codemirror_mode": {
    "name": "ipython",
    "version": 3
   },
   "file_extension": ".py",
   "mimetype": "text/x-python",
   "name": "python",
   "nbconvert_exporter": "python",
   "pygments_lexer": "ipython3",
   "version": "3.7.4"
  }
 },
 "nbformat": 4,
 "nbformat_minor": 4
}
