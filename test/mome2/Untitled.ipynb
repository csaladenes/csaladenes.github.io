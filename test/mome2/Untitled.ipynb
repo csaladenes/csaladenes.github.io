{
 "cells": [
  {
   "cell_type": "code",
   "execution_count": 5,
   "id": "bc1c2d69-3dd5-43d9-adfd-1e156d63bd6c",
   "metadata": {},
   "outputs": [],
   "source": [
    "import pandas as pd"
   ]
  },
  {
   "cell_type": "code",
   "execution_count": 6,
   "id": "965d1498-fd0d-4b5a-b127-b13a49000d79",
   "metadata": {},
   "outputs": [],
   "source": [
    "dfs=[]\n",
    "for i in range(1,36):\n",
    "    dfs.append(pd.read_html('https://www.desu.edu/about/police-department/daily-crime-fire-log?page='+str(i))[0])\n",
    "    print(i)"
   ]
  },
  {
   "cell_type": "code",
   "execution_count": 133,
   "id": "8e435491-baa6-435e-bcc0-202b7de5b871",
   "metadata": {},
   "outputs": [],
   "source": [
    "df=pd.concat(dfs)"
   ]
  },
  {
   "cell_type": "code",
   "execution_count": 134,
   "id": "88be700f-2a77-48cf-9d61-3f61d9462b8f",
   "metadata": {},
   "outputs": [],
   "source": [
    "df['country']=df['Classification']\n",
    "df['program']=df['Narrative']\n",
    "df['location']=df['Location']\n",
    "df['summer']=1\n",
    "df['winter']=1\n",
    "df['flag']=\"flags\\/glass2\\/fi.png\"\n",
    "df['type']='Summer'\n",
    "df['opened']=df['Date Reported']\n",
    "df['closed']='9999'\n",
    "df['link']='https://en.wikipedia.org/wiki/Aboa_(research_station)'\n",
    "df['active']=True"
   ]
  },
  {
   "cell_type": "code",
   "execution_count": 135,
   "id": "9a0ac79c-e31f-4af9-99ce-3a4d8aa55f51",
   "metadata": {},
   "outputs": [],
   "source": [
    "df['latitude']=[47.5167+np.random.uniform(10)/10000 for i in range(len(df))]\n",
    "df['longitude']=[18.988+np.random.uniform(5)/1000 for i in range(len(df))]"
   ]
  },
  {
   "cell_type": "code",
   "execution_count": 136,
   "id": "1e3d04bb-ee96-40c2-8038-3fe626c924f2",
   "metadata": {},
   "outputs": [],
   "source": [
    "# pd.DataFrame(df['country'].unique()).to_excel('crimes.xlsx')\n",
    "df=df.join(pd.read_excel('crimes.xlsx').set_index(0)[[1]],on='country').rename(columns={1:'cat'})"
   ]
  },
  {
   "cell_type": "code",
   "execution_count": 140,
   "id": "b0af601c-475f-4a90-a8b3-9f29c2cd77cb",
   "metadata": {},
   "outputs": [],
   "source": [
    "df['flag']=[\"flags/\"+i+\".png\" for i in df['cat']]"
   ]
  },
  {
   "cell_type": "code",
   "execution_count": 141,
   "id": "6bda286a-8ccd-4ea1-84cd-b6ff55020cc9",
   "metadata": {},
   "outputs": [],
   "source": [
    "df=df.set_index('CASE#')"
   ]
  },
  {
   "cell_type": "code",
   "execution_count": 142,
   "id": "d09d9a67-fd52-4eeb-83b6-9491025dea9f",
   "metadata": {},
   "outputs": [],
   "source": [
    "a=df.T.to_dict()"
   ]
  },
  {
   "cell_type": "code",
   "execution_count": 143,
   "id": "1e9a4e88-adf1-469e-8546-55110821c69f",
   "metadata": {},
   "outputs": [],
   "source": [
    "import json"
   ]
  },
  {
   "cell_type": "code",
   "execution_count": 144,
   "id": "9fd320f1-501e-4343-a242-0ee07c808763",
   "metadata": {},
   "outputs": [
    {
     "data": {
      "text/plain": [
       "248663"
      ]
     },
     "execution_count": 144,
     "metadata": {},
     "output_type": "execute_result"
    }
   ],
   "source": [
    "open('a.json','w').write(json.dumps(a))"
   ]
  },
  {
   "cell_type": "code",
   "execution_count": null,
   "id": "1b7c366e-5712-448f-8df4-faeeaa9e59cb",
   "metadata": {},
   "outputs": [],
   "source": []
  }
 ],
 "metadata": {
  "kernelspec": {
   "display_name": "Python 3 (ipykernel)",
   "language": "python",
   "name": "python3"
  },
  "language_info": {
   "codemirror_mode": {
    "name": "ipython",
    "version": 3
   },
   "file_extension": ".py",
   "mimetype": "text/x-python",
   "name": "python",
   "nbconvert_exporter": "python",
   "pygments_lexer": "ipython3",
   "version": "3.9.7"
  }
 },
 "nbformat": 4,
 "nbformat_minor": 5
}
