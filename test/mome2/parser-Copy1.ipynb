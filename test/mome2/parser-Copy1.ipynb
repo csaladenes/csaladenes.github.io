{
 "cells": [
  {
   "cell_type": "code",
   "execution_count": 69,
   "metadata": {
    "collapsed": true
   },
   "outputs": [],
   "source": [
    "import pandas as pd\n",
    "import bs4 as bs"
   ]
  },
  {
   "cell_type": "code",
   "execution_count": null,
   "metadata": {
    "collapsed": true
   },
   "outputs": [],
   "source": [
    "dfs=pd.read_html('https://en.wikipedia.org/wiki/Research_stations_in_Antarctica#List_of_research_stations')"
   ]
  },
  {
   "cell_type": "code",
   "execution_count": null,
   "metadata": {
    "collapsed": true
   },
   "outputs": [],
   "source": [
    "dfr=pd.read_html('https://en.wikipedia.org/wiki/Antarctic_field_camps')"
   ]
  },
  {
   "cell_type": "code",
   "execution_count": null,
   "metadata": {
    "collapsed": false
   },
   "outputs": [],
   "source": [
    "df=dfs[1][1:]"
   ]
  },
  {
   "cell_type": "code",
   "execution_count": null,
   "metadata": {
    "collapsed": false
   },
   "outputs": [],
   "source": [
    "df.columns=dfs[1].loc[0].values"
   ]
  },
  {
   "cell_type": "code",
   "execution_count": null,
   "metadata": {
    "collapsed": false
   },
   "outputs": [],
   "source": [
    "df.to_excel('bases.xlsx')"
   ]
  },
  {
   "cell_type": "code",
   "execution_count": null,
   "metadata": {
    "collapsed": true
   },
   "outputs": [],
   "source": [
    "import requests"
   ]
  },
  {
   "cell_type": "code",
   "execution_count": null,
   "metadata": {
    "collapsed": false
   },
   "outputs": [],
   "source": [
    "url='https://en.wikipedia.org/wiki/Research_stations_in_Antarctica'\n",
    "f=requests.get(url).content\n",
    "soup = bs.BeautifulSoup(f, 'lxml')\n",
    "parsed_table = soup.find_all('table')[1] \n",
    "data = [[''.join(td.strings)+'#'+td.a['href'] if td.find('a') else \n",
    "         ''.join(td.strings)\n",
    "         for td in row.find_all('td')]\n",
    "        for row in parsed_table.find_all('tr')]\n",
    "headers=[''.join(row.strings)\n",
    "        for row in parsed_table.find_all('th')]\n",
    "df = pd.DataFrame(data[1:], columns=headers)"
   ]
  },
  {
   "cell_type": "code",
   "execution_count": null,
   "metadata": {
    "collapsed": false,
    "scrolled": false
   },
   "outputs": [],
   "source": [
    "stations=[]\n",
    "for i in df.T.iteritems():\n",
    "    helper={}\n",
    "    dummy=i[1][0].split('#')\n",
    "    dummy0=dummy[0].split('[')[0].replace('\\n',' ').replace('\\n',' ').replace('\\n',' ')\n",
    "    helper['name']=dummy0\n",
    "    helper['link']='https://en.wikipedia.org'+dummy[1]\n",
    "    dummy=i[1][2].replace('\\n',' ').replace('\\n',' ').replace('\\n',' ')\n",
    "    if 'ummer since' in dummy:dummy='Summer'\n",
    "    dummy=dummy.split('[')[0]\n",
    "    if 'emporary summer' in dummy:dummy='Summer'\n",
    "    if 'intermittently Summer' in dummy:dummy='Summer'\n",
    "    helper['type']=dummy\n",
    "    dummy=i[1][3].split('#')[0].replace('\\n',' |').replace(']','').replace('| |','|')[1:]\n",
    "    if '' == dummy:dummy='Greenpeace'\n",
    "    helper['country']=dummy\n",
    "    dummy=i[1][4].replace('\\n',' ').replace('\\n',' ').replace('\\n',' ').split(' ')[0]\n",
    "    if 'eteo' in dummy:dummy='1958'\n",
    "    helper['opened']=dummy\n",
    "    dummy=i[1][5].split('#')[0].replace('\\n',' | ').replace('| and |','|').split('[')[0].replace('.','')\n",
    "    helper['program']=dummy\n",
    "    dummy=i[1][6].split('#')[0].replace('\\n',', ').replace('| and |','|').split('[')[0].replace('.','')\n",
    "    helper['location']=dummy\n",
    "    dummy=i[1][7].replace('\\n',' ')\n",
    "    if ' ' in dummy:\n",
    "        if 'Active' in dummy: dummy='Active'\n",
    "        elif 'Relocated to Union Glacier' in dummy: dummy='2014'\n",
    "        elif 'Unmanned activity' in dummy: dummy='Active'\n",
    "        elif 'Abandoned and lost' in dummy: dummy='1999'\n",
    "        elif 'Dismantled 1992' in dummy: dummy='1992'\n",
    "        elif 'Temporary abandoned since March 2017' in dummy: dummy='2017'\n",
    "        elif 'Reopened 23 November 2017' in dummy: dummy='Active'\n",
    "        elif 'Abandoned and lost' in dummy: dummy='1999'\n",
    "        else: dummy=dummy.split(' ')[1]\n",
    "    if dummy=='Active':\n",
    "        helper['active']=True\n",
    "        helper['closed']='9999'\n",
    "    else:\n",
    "        helper['active']=False\n",
    "        helper['closed']=dummy\n",
    "        if dummy=='Closed': \n",
    "            helper['active']=True\n",
    "            helper['closed']='9999'\n",
    "    dummy=i[1][8].replace('\\n',', ').split('/')[2].split('(')[0].split('#')[0].split(',')[0].split('Coor')[0].split(u'\\ufeff')[0].split(';')\n",
    "    helper['latitude']=dummy[0][1:]\n",
    "    helper['longitude']=dummy[1].replace(' 0',' 0.001')[1:]\n",
    "    \n",
    "    stations.append(helper)"
   ]
  },
  {
   "cell_type": "code",
   "execution_count": null,
   "metadata": {
    "collapsed": false
   },
   "outputs": [],
   "source": [
    "stations"
   ]
  },
  {
   "cell_type": "code",
   "execution_count": 141,
   "metadata": {
    "collapsed": false
   },
   "outputs": [],
   "source": [
    "pd.DataFrame(stations).to_excel('stations.xlsx')"
   ]
  },
  {
   "cell_type": "code",
   "execution_count": null,
   "metadata": {
    "collapsed": true
   },
   "outputs": [],
   "source": [
    "import folium\n",
    "from IPython.display import HTML\n",
    "\n",
    "def display(m, height=300):\n",
    "    \"\"\"Takes a folium instance and embed HTML.\"\"\"\n",
    "    m._build_map()\n",
    "    srcdoc = m.HTML.replace('\"', '&quot;')\n",
    "    embed = HTML('<iframe srcdoc=\"{0}\" '\n",
    "                 'style=\"width: 100%; height: {1}px; '\n",
    "                 'border: none\"></iframe>'.format(srcdoc, height))\n",
    "    return embed"
   ]
  },
  {
   "cell_type": "code",
   "execution_count": 2,
   "metadata": {
    "collapsed": false
   },
   "outputs": [
    {
     "name": "stderr",
     "output_type": "stream",
     "text": [
      "C:\\Anaconda2\\lib\\site-packages\\ipykernel\\__main__.py:2: FutureWarning: simple_marker is deprecated. Use add_children(Marker) instead\n",
      "  from ipykernel import kernelapp as app\n"
     ]
    },
    {
     "ename": "AttributeError",
     "evalue": "'Map' object has no attribute '_build_map'",
     "output_type": "error",
     "traceback": [
      "\u001b[0;31m---------------------------------------------------------------------------\u001b[0m",
      "\u001b[0;31mAttributeError\u001b[0m                            Traceback (most recent call last)",
      "\u001b[0;32m<ipython-input-2-e00c6b529b10>\u001b[0m in \u001b[0;36m<module>\u001b[0;34m()\u001b[0m\n\u001b[1;32m      1\u001b[0m \u001b[0mmap\u001b[0m \u001b[1;33m=\u001b[0m \u001b[0mfolium\u001b[0m\u001b[1;33m.\u001b[0m\u001b[0mMap\u001b[0m\u001b[1;33m(\u001b[0m\u001b[0mlocation\u001b[0m\u001b[1;33m=\u001b[0m\u001b[1;33m[\u001b[0m\u001b[1;36m37.76\u001b[0m\u001b[1;33m,\u001b[0m \u001b[1;33m-\u001b[0m\u001b[1;36m122.45\u001b[0m\u001b[1;33m]\u001b[0m\u001b[1;33m)\u001b[0m\u001b[1;33m\u001b[0m\u001b[0m\n\u001b[1;32m      2\u001b[0m \u001b[0mmap\u001b[0m\u001b[1;33m.\u001b[0m\u001b[0msimple_marker\u001b[0m\u001b[1;33m(\u001b[0m\u001b[1;33m[\u001b[0m\u001b[1;36m37.76\u001b[0m\u001b[1;33m,\u001b[0m \u001b[1;33m-\u001b[0m\u001b[1;36m122.45\u001b[0m\u001b[1;33m]\u001b[0m\u001b[1;33m)\u001b[0m\u001b[1;33m\u001b[0m\u001b[0m\n\u001b[0;32m----> 3\u001b[0;31m \u001b[0mdisplay\u001b[0m\u001b[1;33m(\u001b[0m\u001b[0mmap\u001b[0m\u001b[1;33m)\u001b[0m\u001b[1;33m\u001b[0m\u001b[0m\n\u001b[0m",
      "\u001b[0;32m<ipython-input-1-4f1599f85e60>\u001b[0m in \u001b[0;36mdisplay\u001b[0;34m(m, height)\u001b[0m\n\u001b[1;32m      4\u001b[0m \u001b[1;32mdef\u001b[0m \u001b[0mdisplay\u001b[0m\u001b[1;33m(\u001b[0m\u001b[0mm\u001b[0m\u001b[1;33m,\u001b[0m \u001b[0mheight\u001b[0m\u001b[1;33m=\u001b[0m\u001b[1;36m300\u001b[0m\u001b[1;33m)\u001b[0m\u001b[1;33m:\u001b[0m\u001b[1;33m\u001b[0m\u001b[0m\n\u001b[1;32m      5\u001b[0m     \u001b[1;34m\"\"\"Takes a folium instance and embed HTML.\"\"\"\u001b[0m\u001b[1;33m\u001b[0m\u001b[0m\n\u001b[0;32m----> 6\u001b[0;31m     \u001b[0mm\u001b[0m\u001b[1;33m.\u001b[0m\u001b[0m_build_map\u001b[0m\u001b[1;33m(\u001b[0m\u001b[1;33m)\u001b[0m\u001b[1;33m\u001b[0m\u001b[0m\n\u001b[0m\u001b[1;32m      7\u001b[0m     \u001b[0msrcdoc\u001b[0m \u001b[1;33m=\u001b[0m \u001b[0mm\u001b[0m\u001b[1;33m.\u001b[0m\u001b[0mHTML\u001b[0m\u001b[1;33m.\u001b[0m\u001b[0mreplace\u001b[0m\u001b[1;33m(\u001b[0m\u001b[1;34m'\"'\u001b[0m\u001b[1;33m,\u001b[0m \u001b[1;34m'&quot;'\u001b[0m\u001b[1;33m)\u001b[0m\u001b[1;33m\u001b[0m\u001b[0m\n\u001b[1;32m      8\u001b[0m     embed = HTML('<iframe srcdoc=\"{0}\" '\n",
      "\u001b[0;31mAttributeError\u001b[0m: 'Map' object has no attribute '_build_map'"
     ]
    }
   ],
   "source": [
    "map = folium.Map(location=[37.76, -122.45])\n",
    "map.simple_marker([37.76, -122.45])\n",
    "display(map)"
   ]
  },
  {
   "cell_type": "code",
   "execution_count": 4,
   "metadata": {
    "collapsed": false
   },
   "outputs": [
    {
     "ename": "ImportError",
     "evalue": "No module named _curses",
     "output_type": "error",
     "traceback": [
      "\u001b[0;31m---------------------------------------------------------------------------\u001b[0m",
      "\u001b[0;31mImportError\u001b[0m                               Traceback (most recent call last)",
      "\u001b[0;32m<ipython-input-4-9bc539befd33>\u001b[0m in \u001b[0;36m<module>\u001b[0;34m()\u001b[0m\n\u001b[0;32m----> 1\u001b[0;31m \u001b[1;32mimport\u001b[0m \u001b[0mee\u001b[0m\u001b[1;33m\u001b[0m\u001b[0m\n\u001b[0m\u001b[1;32m      2\u001b[0m \u001b[1;32mimport\u001b[0m \u001b[0mfolium\u001b[0m\u001b[1;33m\u001b[0m\u001b[0m\n\u001b[1;32m      3\u001b[0m \u001b[1;33m\u001b[0m\u001b[0m\n\u001b[1;32m      4\u001b[0m \u001b[0mee\u001b[0m\u001b[1;33m.\u001b[0m\u001b[0mInitialize\u001b[0m\u001b[1;33m(\u001b[0m\u001b[1;33m)\u001b[0m\u001b[1;33m\u001b[0m\u001b[0m\n\u001b[1;32m      5\u001b[0m \u001b[1;32mprint\u001b[0m\u001b[1;33m(\u001b[0m\u001b[0mfolium\u001b[0m\u001b[1;33m.\u001b[0m\u001b[0m__version__\u001b[0m\u001b[1;33m)\u001b[0m\u001b[1;33m\u001b[0m\u001b[0m\n",
      "\u001b[0;32mC:\\Anaconda2\\lib\\site-packages\\ee\\__init__.py\u001b[0m in \u001b[0;36m<module>\u001b[0;34m()\u001b[0m\n\u001b[0;32m----> 1\u001b[0;31m \u001b[1;32mfrom\u001b[0m \u001b[1;33m.\u001b[0m\u001b[0mmain\u001b[0m \u001b[1;32mimport\u001b[0m \u001b[0mmain\u001b[0m\u001b[1;33m\u001b[0m\u001b[0m\n\u001b[0m",
      "\u001b[0;32mC:\\Anaconda2\\lib\\site-packages\\ee\\main.py\u001b[0m in \u001b[0;36m<module>\u001b[0;34m()\u001b[0m\n\u001b[1;32m      3\u001b[0m \u001b[1;32mimport\u001b[0m \u001b[0msubprocess\u001b[0m\u001b[1;33m\u001b[0m\u001b[0m\n\u001b[1;32m      4\u001b[0m \u001b[1;32mimport\u001b[0m \u001b[0msys\u001b[0m\u001b[1;33m\u001b[0m\u001b[0m\n\u001b[0;32m----> 5\u001b[0;31m \u001b[1;32mimport\u001b[0m \u001b[0mblessed\u001b[0m\u001b[1;33m\u001b[0m\u001b[0m\n\u001b[0m\u001b[1;32m      6\u001b[0m \u001b[1;32mimport\u001b[0m \u001b[0mre\u001b[0m\u001b[1;33m\u001b[0m\u001b[0m\n\u001b[1;32m      7\u001b[0m \u001b[1;32mimport\u001b[0m \u001b[0mos\u001b[0m\u001b[1;33m\u001b[0m\u001b[0m\n",
      "\u001b[0;32mC:\\Anaconda2\\lib\\site-packages\\blessed\\__init__.py\u001b[0m in \u001b[0;36m<module>\u001b[0;34m()\u001b[0m\n\u001b[1;32m      8\u001b[0m \u001b[1;33m\u001b[0m\u001b[0m\n\u001b[1;32m      9\u001b[0m \u001b[1;31m# local\u001b[0m\u001b[1;33m\u001b[0m\u001b[1;33m\u001b[0m\u001b[0m\n\u001b[0;32m---> 10\u001b[0;31m \u001b[1;32mfrom\u001b[0m \u001b[0mblessed\u001b[0m\u001b[1;33m.\u001b[0m\u001b[0mterminal\u001b[0m \u001b[1;32mimport\u001b[0m \u001b[0mTerminal\u001b[0m\u001b[1;33m\u001b[0m\u001b[0m\n\u001b[0m\u001b[1;32m     11\u001b[0m \u001b[1;33m\u001b[0m\u001b[0m\n\u001b[1;32m     12\u001b[0m \u001b[1;32mif\u001b[0m \u001b[1;33m(\u001b[0m\u001b[1;34m'3'\u001b[0m\u001b[1;33m,\u001b[0m \u001b[1;34m'0'\u001b[0m\u001b[1;33m,\u001b[0m \u001b[1;34m'0'\u001b[0m\u001b[1;33m)\u001b[0m \u001b[1;33m<=\u001b[0m \u001b[0m_platform\u001b[0m\u001b[1;33m.\u001b[0m\u001b[0mpython_version_tuple\u001b[0m\u001b[1;33m(\u001b[0m\u001b[1;33m)\u001b[0m \u001b[1;33m<\u001b[0m \u001b[1;33m(\u001b[0m\u001b[1;34m'3'\u001b[0m\u001b[1;33m,\u001b[0m \u001b[1;34m'2'\u001b[0m\u001b[1;33m,\u001b[0m \u001b[1;34m'2+'\u001b[0m\u001b[1;33m)\u001b[0m\u001b[1;33m:\u001b[0m\u001b[1;33m\u001b[0m\u001b[0m\n",
      "\u001b[0;32mC:\\Anaconda2\\lib\\site-packages\\blessed\\terminal.py\u001b[0m in \u001b[0;36m<module>\u001b[0;34m()\u001b[0m\n\u001b[1;32m      6\u001b[0m \u001b[1;32mimport\u001b[0m \u001b[0mcollections\u001b[0m\u001b[1;33m\u001b[0m\u001b[0m\n\u001b[1;32m      7\u001b[0m \u001b[1;32mimport\u001b[0m \u001b[0mcontextlib\u001b[0m\u001b[1;33m\u001b[0m\u001b[0m\n\u001b[0;32m----> 8\u001b[0;31m \u001b[1;32mimport\u001b[0m \u001b[0mcurses\u001b[0m\u001b[1;33m\u001b[0m\u001b[0m\n\u001b[0m\u001b[1;32m      9\u001b[0m \u001b[1;32mimport\u001b[0m \u001b[0mfunctools\u001b[0m\u001b[1;33m\u001b[0m\u001b[0m\n\u001b[1;32m     10\u001b[0m \u001b[1;32mimport\u001b[0m \u001b[0mio\u001b[0m\u001b[1;33m\u001b[0m\u001b[0m\n",
      "\u001b[0;32mC:\\Anaconda2\\lib\\curses\\__init__.py\u001b[0m in \u001b[0;36m<module>\u001b[0;34m()\u001b[0m\n\u001b[1;32m     13\u001b[0m \u001b[0m__revision__\u001b[0m \u001b[1;33m=\u001b[0m \u001b[1;34m\"$Id$\"\u001b[0m\u001b[1;33m\u001b[0m\u001b[0m\n\u001b[1;32m     14\u001b[0m \u001b[1;33m\u001b[0m\u001b[0m\n\u001b[0;32m---> 15\u001b[0;31m \u001b[1;32mfrom\u001b[0m \u001b[0m_curses\u001b[0m \u001b[1;32mimport\u001b[0m \u001b[1;33m*\u001b[0m\u001b[1;33m\u001b[0m\u001b[0m\n\u001b[0m\u001b[1;32m     16\u001b[0m \u001b[1;32mfrom\u001b[0m \u001b[0mcurses\u001b[0m\u001b[1;33m.\u001b[0m\u001b[0mwrapper\u001b[0m \u001b[1;32mimport\u001b[0m \u001b[0mwrapper\u001b[0m\u001b[1;33m\u001b[0m\u001b[0m\n\u001b[1;32m     17\u001b[0m \u001b[1;32mimport\u001b[0m \u001b[0mos\u001b[0m \u001b[1;32mas\u001b[0m \u001b[0m_os\u001b[0m\u001b[1;33m\u001b[0m\u001b[0m\n",
      "\u001b[0;31mImportError\u001b[0m: No module named _curses"
     ]
    }
   ],
   "source": [
    "import ee\n",
    "import folium\n",
    "\n",
    "ee.Initialize()\n",
    "print(folium.__version__)"
   ]
  },
  {
   "cell_type": "code",
   "execution_count": 4,
   "metadata": {
    "collapsed": false
   },
   "outputs": [],
   "source": [
    "from googleearthplot.googleearthplot import googleearthplot"
   ]
  },
  {
   "cell_type": "code",
   "execution_count": 5,
   "metadata": {
    "collapsed": false
   },
   "outputs": [
    {
     "name": "stdout",
     "output_type": "stream",
     "text": [
      "[PlotPoint]point,lat:-34.038274,lon:18.333868,time\n"
     ]
    }
   ],
   "source": [
    "#Plot point\n",
    "lon=18.333868#degree\n",
    "lat=-34.038274#degree\n",
    "gep9=googleearthplot()\n",
    "gep9.PlotPoints(lat,lon,\"point\")\n",
    "gep9.GenerateKMLFile(filepath=\"sample9.kml\")"
   ]
  },
  {
   "cell_type": "code",
   "execution_count": 6,
   "metadata": {
    "collapsed": false
   },
   "outputs": [
    {
     "name": "stdout",
     "output_type": "stream",
     "text": [
      "[PlotPoint]point,lat:-77.6192,lon:43.1725,time\n",
      "[PlotPoint]point,lat:-77.6195,lon:43.1728,time\n",
      "[PlotPoint]point,lat:-77.6198,lon:43.173,time\n",
      "[PlotPoint]point,lat:-77.6208,lon:43.1725,time\n",
      "[PlotPoint]point,lat:-77.6216,lon:43.1719,time\n"
     ]
    }
   ],
   "source": [
    "# Plot point chart\n",
    "gep10 = googleearthplot()\n",
    "lat = [ -77.6192, -77.6195, -77.6198, -77.6208, -77.6216]\n",
    "lon = [43.1725, 43.1728, 43.173, 43.1725, 43.1719, 43.1719]\n",
    "for (ilat,ilon) in zip(lat,lon):\n",
    "    gep10.PlotPoints(ilat, ilon, \"point\")\n",
    "gep10.GenerateKMLFile(filepath=\"sample10.kml\")"
   ]
  },
  {
   "cell_type": "code",
   "execution_count": 20,
   "metadata": {
    "collapsed": false
   },
   "outputs": [],
   "source": [
    "import cesiumpy"
   ]
  },
  {
   "cell_type": "code",
   "execution_count": 42,
   "metadata": {
    "collapsed": false
   },
   "outputs": [
    {
     "data": {
      "text/html": [
       "<script src=\"https://cesiumjs.org/Cesium/Build/Cesium/Cesium.js\"></script>\r\n",
       "<link rel=\"stylesheet\" href=\"https://cesiumjs.org/Cesium/Build/Cesium/Widgets/widgets.css\" type=\"text/css\">\r\n",
       "<div id=\"container-303603608\" style=\"width:100%; height:100%;\"><div>\r\n",
       "<script type=\"text/javascript\">\r\n",
       "  var widget = new Cesium.CesiumWidget(\"container-303603608\");\r\n",
       "  widget.camera.flyTo({destination : Cesium.Cartesian3.fromDegrees(0.0, -90.0, 7000000.0)});\r\n",
       "</script>"
      ],
      "text/plain": [
       "<cesiumpy.widget.CesiumWidget at 0x121a7780>"
      ]
     },
     "execution_count": 42,
     "metadata": {},
     "output_type": "execute_result"
    }
   ],
   "source": [
    "v = cesiumpy.CesiumWidget()\n",
    "v.camera.flyTo((0, -90, 7000000))\n",
    "v"
   ]
  },
  {
   "cell_type": "code",
   "execution_count": 44,
   "metadata": {
    "collapsed": true
   },
   "outputs": [],
   "source": [
    "import pandas as pd"
   ]
  },
  {
   "cell_type": "code",
   "execution_count": 45,
   "metadata": {
    "collapsed": false,
    "scrolled": true
   },
   "outputs": [
    {
     "data": {
      "text/html": [
       "<div>\n",
       "<style>\n",
       "    .dataframe thead tr:only-child th {\n",
       "        text-align: right;\n",
       "    }\n",
       "\n",
       "    .dataframe thead th {\n",
       "        text-align: left;\n",
       "    }\n",
       "\n",
       "    .dataframe tbody tr th {\n",
       "        vertical-align: top;\n",
       "    }\n",
       "</style>\n",
       "<table border=\"1\" class=\"dataframe\">\n",
       "  <thead>\n",
       "    <tr style=\"text-align: right;\">\n",
       "      <th></th>\n",
       "      <th>Name</th>\n",
       "      <th>Photo</th>\n",
       "      <th>Location</th>\n",
       "      <th>Date established as park[8][9]</th>\n",
       "      <th>Area (2017)[10]</th>\n",
       "      <th>Recreation visitors (2017)[6]</th>\n",
       "      <th>Description</th>\n",
       "    </tr>\n",
       "  </thead>\n",
       "  <tbody>\n",
       "    <tr>\n",
       "      <th>0</th>\n",
       "      <td>Acadia</td>\n",
       "      <td>NaN</td>\n",
       "      <td>Maine 44°21′N 68°13′W﻿ / ﻿44.35°N 68.21°W﻿ / 4...</td>\n",
       "      <td>000000001919-02-26-0000February 26, 1919</td>\n",
       "      <td>7008198600531111949♠49,075.26 acres (198.6 km2)</td>\n",
       "      <td>3509271</td>\n",
       "      <td>Covering most of Mount Desert Island and other...</td>\n",
       "    </tr>\n",
       "    <tr>\n",
       "      <th>1</th>\n",
       "      <td>American Samoa</td>\n",
       "      <td>NaN</td>\n",
       "      <td>American Samoa 14°15′S 170°41′W﻿ / ﻿14.25°S 17...</td>\n",
       "      <td>000000001988-10-31-0000October 31, 1988</td>\n",
       "      <td>7007334135580171374♠8,256.67 acres (33.4 km2)</td>\n",
       "      <td>69468</td>\n",
       "      <td>The southernmost national park is on three Sam...</td>\n",
       "    </tr>\n",
       "    <tr>\n",
       "      <th>2</th>\n",
       "      <td>Arches</td>\n",
       "      <td>NaN</td>\n",
       "      <td>Utah 38°41′N 109°34′W﻿ / ﻿38.68°N 109.57°W﻿ / ...</td>\n",
       "      <td>000000001971-11-12-0000November 12, 1971</td>\n",
       "      <td>7008310308822676081♠76,678.98 acres (310.3 km2)</td>\n",
       "      <td>1539028</td>\n",
       "      <td>This site features more than 2,000 natural san...</td>\n",
       "    </tr>\n",
       "    <tr>\n",
       "      <th>3</th>\n",
       "      <td>Badlands</td>\n",
       "      <td>NaN</td>\n",
       "      <td>South Dakota 43°45′N 102°30′W﻿ / ﻿43.75°N 102....</td>\n",
       "      <td>000000001978-11-10-0000November 10, 1978</td>\n",
       "      <td>7008982398434864749♠242,755.94 acres (982.4 km2)</td>\n",
       "      <td>1054325</td>\n",
       "      <td>The Badlands are a collection of buttes, pinna...</td>\n",
       "    </tr>\n",
       "    <tr>\n",
       "      <th>4</th>\n",
       "      <td>Big Bend</td>\n",
       "      <td>NaN</td>\n",
       "      <td>Texas 29°15′N 103°15′W﻿ / ﻿29.25°N 103.25°W﻿ /...</td>\n",
       "      <td>000000001944-06-12-0000June 12, 1944</td>\n",
       "      <td>7009324219248177910♠801,163.21 acres (3,242.2 ...</td>\n",
       "      <td>440276</td>\n",
       "      <td>Named for the prominent bend in the Rio Grande...</td>\n",
       "    </tr>\n",
       "  </tbody>\n",
       "</table>\n",
       "</div>"
      ],
      "text/plain": [
       "             Name  Photo                                           Location  \\\n",
       "0          Acadia    NaN  Maine 44°21′N 68°13′W﻿ / ﻿44.35°N 68.21°W﻿ / 4...   \n",
       "1  American Samoa    NaN  American Samoa 14°15′S 170°41′W﻿ / ﻿14.25°S 17...   \n",
       "2          Arches    NaN  Utah 38°41′N 109°34′W﻿ / ﻿38.68°N 109.57°W﻿ / ...   \n",
       "3        Badlands    NaN  South Dakota 43°45′N 102°30′W﻿ / ﻿43.75°N 102....   \n",
       "4        Big Bend    NaN  Texas 29°15′N 103°15′W﻿ / ﻿29.25°N 103.25°W﻿ /...   \n",
       "\n",
       "             Date established as park[8][9]  \\\n",
       "0  000000001919-02-26-0000February 26, 1919   \n",
       "1   000000001988-10-31-0000October 31, 1988   \n",
       "2  000000001971-11-12-0000November 12, 1971   \n",
       "3  000000001978-11-10-0000November 10, 1978   \n",
       "4      000000001944-06-12-0000June 12, 1944   \n",
       "\n",
       "                                     Area (2017)[10]  \\\n",
       "0    7008198600531111949♠49,075.26 acres (198.6 km2)   \n",
       "1      7007334135580171374♠8,256.67 acres (33.4 km2)   \n",
       "2    7008310308822676081♠76,678.98 acres (310.3 km2)   \n",
       "3   7008982398434864749♠242,755.94 acres (982.4 km2)   \n",
       "4  7009324219248177910♠801,163.21 acres (3,242.2 ...   \n",
       "\n",
       "   Recreation visitors (2017)[6]  \\\n",
       "0                        3509271   \n",
       "1                          69468   \n",
       "2                        1539028   \n",
       "3                        1054325   \n",
       "4                         440276   \n",
       "\n",
       "                                         Description  \n",
       "0  Covering most of Mount Desert Island and other...  \n",
       "1  The southernmost national park is on three Sam...  \n",
       "2  This site features more than 2,000 natural san...  \n",
       "3  The Badlands are a collection of buttes, pinna...  \n",
       "4  Named for the prominent bend in the Rio Grande...  "
      ]
     },
     "execution_count": 45,
     "metadata": {},
     "output_type": "execute_result"
    }
   ],
   "source": [
    "url = \"https://en.wikipedia.org/wiki/List_of_national_parks_of_the_United_States\"\n",
    "df = pd.read_html(url, header=0)[0]\n",
    "df.head()"
   ]
  },
  {
   "cell_type": "code",
   "execution_count": 46,
   "metadata": {
    "collapsed": false
   },
   "outputs": [
    {
     "name": "stderr",
     "output_type": "stream",
     "text": [
      "C:\\Anaconda2\\lib\\site-packages\\ipykernel\\__main__.py:1: FutureWarning: currently extract(expand=None) means expand=False (return Index/Series/DataFrame) but in a future version of pandas this will be changed to expand=True (return DataFrame)\n",
      "  if __name__ == '__main__':\n"
     ]
    },
    {
     "data": {
      "text/html": [
       "<div>\n",
       "<style>\n",
       "    .dataframe thead tr:only-child th {\n",
       "        text-align: right;\n",
       "    }\n",
       "\n",
       "    .dataframe thead th {\n",
       "        text-align: left;\n",
       "    }\n",
       "\n",
       "    .dataframe tbody tr th {\n",
       "        vertical-align: top;\n",
       "    }\n",
       "</style>\n",
       "<table border=\"1\" class=\"dataframe\">\n",
       "  <thead>\n",
       "    <tr style=\"text-align: right;\">\n",
       "      <th></th>\n",
       "      <th>State</th>\n",
       "      <th>lat</th>\n",
       "      <th>lon</th>\n",
       "    </tr>\n",
       "  </thead>\n",
       "  <tbody>\n",
       "    <tr>\n",
       "      <th>0</th>\n",
       "      <td>Maine</td>\n",
       "      <td>44.21</td>\n",
       "      <td>-68.13</td>\n",
       "    </tr>\n",
       "    <tr>\n",
       "      <th>1</th>\n",
       "      <td>American Samoa</td>\n",
       "      <td>-14.15</td>\n",
       "      <td>-170.41</td>\n",
       "    </tr>\n",
       "    <tr>\n",
       "      <th>2</th>\n",
       "      <td>Utah</td>\n",
       "      <td>38.41</td>\n",
       "      <td>-109.34</td>\n",
       "    </tr>\n",
       "    <tr>\n",
       "      <th>3</th>\n",
       "      <td>South Dakota</td>\n",
       "      <td>43.45</td>\n",
       "      <td>-102.30</td>\n",
       "    </tr>\n",
       "    <tr>\n",
       "      <th>4</th>\n",
       "      <td>Texas</td>\n",
       "      <td>29.15</td>\n",
       "      <td>-103.15</td>\n",
       "    </tr>\n",
       "  </tbody>\n",
       "</table>\n",
       "</div>"
      ],
      "text/plain": [
       "            State    lat     lon\n",
       "0           Maine  44.21  -68.13\n",
       "1  American Samoa -14.15 -170.41\n",
       "2            Utah  38.41 -109.34\n",
       "3    South Dakota  43.45 -102.30\n",
       "4           Texas  29.15 -103.15"
      ]
     },
     "execution_count": 46,
     "metadata": {},
     "output_type": "execute_result"
    }
   ],
   "source": [
    "locations = df['Location'].str.extract(u'(\\D+) (\\d+°\\d+′[NS]) (\\d+°\\d+′[WE]).*')\n",
    "locations.columns = ['State', 'lat', 'lon']\n",
    "\n",
    "locations['lat'] = locations['lat'].str.replace(u'°', '.')\n",
    "locations['lon'] = locations['lon'].str.replace(u'°', '.')\n",
    "\n",
    "locations.loc[locations['lat'].str.endswith('S'), 'lat'] = '-' + locations['lat']\n",
    "locations.loc[locations['lon'].str.endswith('W'), 'lon'] = '-' + locations['lon']\n",
    "\n",
    "locations['lat'] = locations['lat'].str.slice_replace(start=-2)\n",
    "locations['lon'] = locations['lon'].str.slice_replace(start=-2)\n",
    "locations[['lat', 'lon']] = locations[['lat', 'lon']].astype(float)\n",
    "\n",
    "locations.head()"
   ]
  },
  {
   "cell_type": "code",
   "execution_count": 47,
   "metadata": {
    "collapsed": true
   },
   "outputs": [],
   "source": [
    "df = pd.concat([df, locations], axis=1)"
   ]
  },
  {
   "cell_type": "code",
   "execution_count": 48,
   "metadata": {
    "collapsed": true
   },
   "outputs": [],
   "source": [
    "\n",
    "import cesiumpy"
   ]
  },
  {
   "cell_type": "code",
   "execution_count": 57,
   "metadata": {
    "collapsed": false
   },
   "outputs": [
    {
     "data": {
      "text/html": [
       "<script src=\"https://cesiumjs.org/Cesium/Build/Cesium/Cesium.js\"></script>\r\n",
       "<link rel=\"stylesheet\" href=\"https://cesiumjs.org/Cesium/Build/Cesium/Widgets/widgets.css\" type=\"text/css\">\r\n",
       "<div id=\"container-328851072\" style=\"width:100%; height:100%;\"><div>\r\n",
       "<script type=\"text/javascript\">\r\n",
       "  var widget = new Cesium.Viewer(\"container-328851072\");\r\n",
       "  widget.entities.add({position : Cesium.Cartesian3.fromDegrees(-68.13, 44.21, 1754635.5), cylinder : {length : 3509271.0, topRadius : 100000.0, bottomRadius : 100000.0, material : Cesium.Color.AQUA}});\r\n",
       "  widget.entities.add({position : Cesium.Cartesian3.fromDegrees(-170.41, -14.15, 34734.0), cylinder : {length : 69468.0, topRadius : 100000.0, bottomRadius : 100000.0, material : Cesium.Color.AQUA}});\r\n",
       "  widget.entities.add({position : Cesium.Cartesian3.fromDegrees(-109.34, 38.41, 769514.0), cylinder : {length : 1539028.0, topRadius : 100000.0, bottomRadius : 100000.0, material : Cesium.Color.AQUA}});\r\n",
       "  widget.entities.add({position : Cesium.Cartesian3.fromDegrees(-102.3, 43.45, 527162.5), cylinder : {length : 1054325.0, topRadius : 100000.0, bottomRadius : 100000.0, material : Cesium.Color.AQUA}});\r\n",
       "  widget.entities.add({position : Cesium.Cartesian3.fromDegrees(-103.15, 29.15, 220138.0), cylinder : {length : 440276.0, topRadius : 100000.0, bottomRadius : 100000.0, material : Cesium.Color.AQUA}});\r\n",
       "  widget.entities.add({position : Cesium.Cartesian3.fromDegrees(-80.05, 25.39, 223480.5), cylinder : {length : 446961.0, topRadius : 100000.0, bottomRadius : 100000.0, material : Cesium.Color.AQUA}});\r\n",
       "  widget.entities.add({position : Cesium.Cartesian3.fromDegrees(-107.43, 38.34, 153571.5), cylinder : {length : 307143.0, topRadius : 100000.0, bottomRadius : 100000.0, material : Cesium.Color.AQUA}});\r\n",
       "  widget.entities.add({position : Cesium.Cartesian3.fromDegrees(-112.11, 37.34, 1285842.0), cylinder : {length : 2571684.0, topRadius : 100000.0, bottomRadius : 100000.0, material : Cesium.Color.AQUA}});\r\n",
       "  widget.entities.add({position : Cesium.Cartesian3.fromDegrees(-109.56, 38.12, 371135.5), cylinder : {length : 742271.0, topRadius : 100000.0, bottomRadius : 100000.0, material : Cesium.Color.AQUA}});\r\n",
       "  widget.entities.add({position : Cesium.Cartesian3.fromDegrees(-111.1, 38.12, 575082.5), cylinder : {length : 1150165.0, topRadius : 100000.0, bottomRadius : 100000.0, material : Cesium.Color.AQUA}});\r\n",
       "  widget.entities.add({position : Cesium.Cartesian3.fromDegrees(-104.26, 32.1, 260013.0), cylinder : {length : 520026.0, topRadius : 100000.0, bottomRadius : 100000.0, material : Cesium.Color.AQUA}});\r\n",
       "  widget.entities.add({position : Cesium.Cartesian3.fromDegrees(-119.25, 34.01, 191843.5), cylinder : {length : 383687.0, topRadius : 100000.0, bottomRadius : 100000.0, material : Cesium.Color.AQUA}});\r\n",
       "  widget.entities.add({position : Cesium.Cartesian3.fromDegrees(-80.47, 33.47, 79797.5), cylinder : {length : 159595.0, topRadius : 100000.0, bottomRadius : 100000.0, material : Cesium.Color.AQUA}});\r\n",
       "  widget.entities.add({position : Cesium.Cartesian3.fromDegrees(-122.06, 42.56, 355874.5), cylinder : {length : 711749.0, topRadius : 100000.0, bottomRadius : 100000.0, material : Cesium.Color.AQUA}});\r\n",
       "  widget.entities.add({position : Cesium.Cartesian3.fromDegrees(-81.33, 41.14, 1113439.5), cylinder : {length : 2226879.0, topRadius : 100000.0, bottomRadius : 100000.0, material : Cesium.Color.AQUA}});\r\n",
       "  widget.entities.add({position : Cesium.Cartesian3.fromDegrees(-116.49, 36.14, 647413.5), cylinder : {length : 1294827.0, topRadius : 100000.0, bottomRadius : 100000.0, material : Cesium.Color.AQUA}});\r\n",
       "  widget.entities.add({position : Cesium.Cartesian3.fromDegrees(-150.3, 63.2, 321404.5), cylinder : {length : 642809.0, topRadius : 100000.0, bottomRadius : 100000.0, material : Cesium.Color.AQUA}});\r\n",
       "  widget.entities.add({position : Cesium.Cartesian3.fromDegrees(-82.52, 24.38, 27140.5), cylinder : {length : 54281.0, topRadius : 100000.0, bottomRadius : 100000.0, material : Cesium.Color.AQUA}});\r\n",
       "  widget.entities.add({position : Cesium.Cartesian3.fromDegrees(-80.56, 25.19, 509278.5), cylinder : {length : 1018557.0, topRadius : 100000.0, bottomRadius : 100000.0, material : Cesium.Color.AQUA}});\r\n",
       "  widget.entities.add({position : Cesium.Cartesian3.fromDegrees(-153.18, 67.47, 5588.5), cylinder : {length : 11177.0, topRadius : 100000.0, bottomRadius : 100000.0, material : Cesium.Color.AQUA}});\r\n",
       "  widget.entities.add({position : Cesium.Cartesian3.fromDegrees(-90.11, 38.38, 699094.0), cylinder : {length : 1398188.0, topRadius : 100000.0, bottomRadius : 100000.0, material : Cesium.Color.AQUA}});\r\n",
       "  widget.entities.add({position : Cesium.Cartesian3.fromDegrees(-114.0, 48.48, 1652756.0), cylinder : {length : 3305512.0, topRadius : 100000.0, bottomRadius : 100000.0, material : Cesium.Color.AQUA}});\r\n",
       "  widget.entities.add({position : Cesium.Cartesian3.fromDegrees(-137.0, 58.3, 273528.5), cylinder : {length : 547057.0, topRadius : 100000.0, bottomRadius : 100000.0, material : Cesium.Color.AQUA}});\r\n",
       "  widget.entities.add({position : Cesium.Cartesian3.fromDegrees(-112.08, 36.04, 3127119.0), cylinder : {length : 6254238.0, topRadius : 100000.0, bottomRadius : 100000.0, material : Cesium.Color.AQUA}});\r\n",
       "  widget.entities.add({position : Cesium.Cartesian3.fromDegrees(-110.48, 43.44, 1658500.0), cylinder : {length : 3317000.0, topRadius : 100000.0, bottomRadius : 100000.0, material : Cesium.Color.AQUA}});\r\n",
       "  widget.entities.add({position : Cesium.Cartesian3.fromDegrees(-114.18, 38.59, 84014.0), cylinder : {length : 168028.0, topRadius : 100000.0, bottomRadius : 100000.0, material : Cesium.Color.AQUA}});\r\n",
       "  widget.entities.add({position : Cesium.Cartesian3.fromDegrees(-105.31, 37.44, 243467.5), cylinder : {length : 486935.0, topRadius : 100000.0, bottomRadius : 100000.0, material : Cesium.Color.AQUA}});\r\n",
       "  widget.entities.add({position : Cesium.Cartesian3.fromDegrees(-83.32, 35.41, 5669446.5), cylinder : {length : 11338893.0, topRadius : 100000.0, bottomRadius : 100000.0, material : Cesium.Color.AQUA}});\r\n",
       "  widget.entities.add({position : Cesium.Cartesian3.fromDegrees(-104.52, 31.55, 112628.5), cylinder : {length : 225257.0, topRadius : 100000.0, bottomRadius : 100000.0, material : Cesium.Color.AQUA}});\r\n",
       "  widget.entities.add({position : Cesium.Cartesian3.fromDegrees(-156.1, 20.43, 556195.0), cylinder : {length : 1112390.0, topRadius : 100000.0, bottomRadius : 100000.0, material : Cesium.Color.AQUA}});\r\n",
       "  widget.entities.add({position : Cesium.Cartesian3.fromDegrees(-155.12, 19.23, 1008351.0), cylinder : {length : 2016702.0, topRadius : 100000.0, bottomRadius : 100000.0, material : Cesium.Color.AQUA}});\r\n",
       "  widget.entities.add({position : Cesium.Cartesian3.fromDegrees(-93.03, 34.31, 780808.0), cylinder : {length : 1561616.0, topRadius : 100000.0, bottomRadius : 100000.0, material : Cesium.Color.AQUA}});\r\n",
       "  widget.entities.add({position : Cesium.Cartesian3.fromDegrees(-88.33, 48.06, 14098.0), cylinder : {length : 28196.0, topRadius : 100000.0, bottomRadius : 100000.0, material : Cesium.Color.AQUA}});\r\n",
       "  widget.entities.add({position : Cesium.Cartesian3.fromDegrees(-115.54, 33.47, 1426809.5), cylinder : {length : 2853619.0, topRadius : 100000.0, bottomRadius : 100000.0, material : Cesium.Color.AQUA}});\r\n",
       "  widget.entities.add({position : Cesium.Cartesian3.fromDegrees(-155.0, 58.3, 18909.0), cylinder : {length : 37818.0, topRadius : 100000.0, bottomRadius : 100000.0, material : Cesium.Color.AQUA}});\r\n",
       "  widget.entities.add({position : Cesium.Cartesian3.fromDegrees(-149.39, 59.55, 151799.0), cylinder : {length : 303598.0, topRadius : 100000.0, bottomRadius : 100000.0, material : Cesium.Color.AQUA}});\r\n",
       "  widget.entities.add({position : Cesium.Cartesian3.fromDegrees(-118.33, 36.48, 346466.0), cylinder : {length : 692932.0, topRadius : 100000.0, bottomRadius : 100000.0, material : Cesium.Color.AQUA}});\r\n",
       "  widget.entities.add({position : Cesium.Cartesian3.fromDegrees(-159.17, 67.33, 7750.0), cylinder : {length : 15500.0, topRadius : 100000.0, bottomRadius : 100000.0, material : Cesium.Color.AQUA}});\r\n",
       "  widget.entities.add({position : Cesium.Cartesian3.fromDegrees(-153.25, 60.58, 11377.5), cylinder : {length : 22755.0, topRadius : 100000.0, bottomRadius : 100000.0, material : Cesium.Color.AQUA}});\r\n",
       "  widget.entities.add({position : Cesium.Cartesian3.fromDegrees(-121.31, 40.29, 253628.0), cylinder : {length : 507256.0, topRadius : 100000.0, bottomRadius : 100000.0, material : Cesium.Color.AQUA}});\r\n",
       "  widget.entities.add({position : Cesium.Cartesian3.fromDegrees(-86.06, 37.11, 293926.5), cylinder : {length : 587853.0, topRadius : 100000.0, bottomRadius : 100000.0, material : Cesium.Color.AQUA}});\r\n",
       "  widget.entities.add({position : Cesium.Cartesian3.fromDegrees(-108.29, 37.11, 306894.0), cylinder : {length : 613788.0, topRadius : 100000.0, bottomRadius : 100000.0, material : Cesium.Color.AQUA}});\r\n",
       "  widget.entities.add({position : Cesium.Cartesian3.fromDegrees(-121.45, 46.51, 707933.5), cylinder : {length : 1415867.0, topRadius : 100000.0, bottomRadius : 100000.0, material : Cesium.Color.AQUA}});\r\n",
       "  widget.entities.add({position : Cesium.Cartesian3.fromDegrees(-121.12, 48.42, 15163.0), cylinder : {length : 30326.0, topRadius : 100000.0, bottomRadius : 100000.0, material : Cesium.Color.AQUA}});\r\n",
       "  widget.entities.add({position : Cesium.Cartesian3.fromDegrees(-123.3, 47.58, 1700998.0), cylinder : {length : 3401996.0, topRadius : 100000.0, bottomRadius : 100000.0, material : Cesium.Color.AQUA}});\r\n",
       "  widget.entities.add({position : Cesium.Cartesian3.fromDegrees(-109.47, 35.04, 313878.5), cylinder : {length : 627757.0, topRadius : 100000.0, bottomRadius : 100000.0, material : Cesium.Color.AQUA}});\r\n",
       "  widget.entities.add({position : Cesium.Cartesian3.fromDegrees(-121.1, 36.29, 116667.0), cylinder : {length : 233334.0, topRadius : 100000.0, bottomRadius : 100000.0, material : Cesium.Color.AQUA}});\r\n",
       "  widget.entities.add({position : Cesium.Cartesian3.fromDegrees(-124.0, 41.18, 222500.0), cylinder : {length : 445000.0, topRadius : 100000.0, bottomRadius : 100000.0, material : Cesium.Color.AQUA}});\r\n",
       "  widget.entities.add({position : Cesium.Cartesian3.fromDegrees(-105.35, 40.24, 2218607.5), cylinder : {length : 4437215.0, topRadius : 100000.0, bottomRadius : 100000.0, material : Cesium.Color.AQUA}});\r\n",
       "  widget.entities.add({position : Cesium.Cartesian3.fromDegrees(-110.3, 32.15, 482380.0), cylinder : {length : 964760.0, topRadius : 100000.0, bottomRadius : 100000.0, material : Cesium.Color.AQUA}});\r\n",
       "  widget.entities.add({position : Cesium.Cartesian3.fromDegrees(-118.41, 36.26, 645628.0), cylinder : {length : 1291256.0, topRadius : 100000.0, bottomRadius : 100000.0, material : Cesium.Color.AQUA}});\r\n",
       "  widget.entities.add({position : Cesium.Cartesian3.fromDegrees(-78.21, 38.32, 729437.0), cylinder : {length : 1458874.0, topRadius : 100000.0, bottomRadius : 100000.0, material : Cesium.Color.AQUA}});\r\n",
       "  widget.entities.add({position : Cesium.Cartesian3.fromDegrees(-103.27, 46.58, 354001.5), cylinder : {length : 708003.0, topRadius : 100000.0, bottomRadius : 100000.0, material : Cesium.Color.AQUA}});\r\n",
       "  widget.entities.add({position : Cesium.Cartesian3.fromDegrees(-64.44, 18.2, 152204.0), cylinder : {length : 304408.0, topRadius : 100000.0, bottomRadius : 100000.0, material : Cesium.Color.AQUA}});\r\n",
       "  widget.entities.add({position : Cesium.Cartesian3.fromDegrees(-92.53, 48.3, 118625.0), cylinder : {length : 237250.0, topRadius : 100000.0, bottomRadius : 100000.0, material : Cesium.Color.AQUA}});\r\n",
       "  widget.entities.add({position : Cesium.Cartesian3.fromDegrees(-103.29, 43.34, 309962.0), cylinder : {length : 619924.0, topRadius : 100000.0, bottomRadius : 100000.0, material : Cesium.Color.AQUA}});\r\n",
       "  widget.entities.add({position : Cesium.Cartesian3.fromDegrees(-142.0, 61.0, 34146.0), cylinder : {length : 68292.0, topRadius : 100000.0, bottomRadius : 100000.0, material : Cesium.Color.AQUA}});\r\n",
       "  widget.entities.add({position : Cesium.Cartesian3.fromDegrees(-110.3, 44.36, 2058262.0), cylinder : {length : 4116524.0, topRadius : 100000.0, bottomRadius : 100000.0, material : Cesium.Color.AQUA}});\r\n",
       "  widget.entities.add({position : Cesium.Cartesian3.fromDegrees(-119.3, 37.5, 2168445.0), cylinder : {length : 4336890.0, topRadius : 100000.0, bottomRadius : 100000.0, material : Cesium.Color.AQUA}});\r\n",
       "  widget.entities.add({position : Cesium.Cartesian3.fromDegrees(-113.03, 37.18, 2252406.0), cylinder : {length : 4504812.0, topRadius : 100000.0, bottomRadius : 100000.0, material : Cesium.Color.AQUA}});\r\n",
       "  widget.zoomTo(widget.entities);\r\n",
       "</script>"
      ],
      "text/plain": [
       "<cesiumpy.viewer.Viewer at 0x13b13be0>"
      ]
     },
     "execution_count": 57,
     "metadata": {},
     "output_type": "execute_result"
    }
   ],
   "source": [
    "v = cesiumpy.Viewer()\n",
    "for i, row in df.iterrows():\n",
    "    l = row[u'Recreation visitors (2017)[6]']\n",
    "    cyl = cesiumpy.Cylinder(position=[row['lon'], row['lat'], l / 2.], length=float(l),\n",
    "                            topRadius=1e4, bottomRadius=10e4, material='aqua')\n",
    "    v.entities.add(cyl)\n",
    "v"
   ]
  },
  {
   "cell_type": "code",
   "execution_count": 58,
   "metadata": {
    "collapsed": false
   },
   "outputs": [
    {
     "data": {
      "text/html": [
       "<script src=\"https://cesiumjs.org/Cesium/Build/Cesium/Cesium.js\"></script>\r\n",
       "<link rel=\"stylesheet\" href=\"https://cesiumjs.org/Cesium/Build/Cesium/Widgets/widgets.css\" type=\"text/css\">\r\n",
       "<div id=\"container-330378936\" style=\"width:100%; height:100%;\"><div>\r\n",
       "<script type=\"text/javascript\">\r\n",
       "  var widget = new Cesium.Viewer(\"container-330378936\");\r\n",
       "  widget.entities.add({position : Cesium.Cartesian3.fromDegrees(-68.13, 44.21, 1754635.5), cylinder : {length : 3509271.0, topRadius : 10000.0, bottomRadius : 100000.0, material : Cesium.Color.ROYALBLUE}});\r\n",
       "  widget.entities.add({position : Cesium.Cartesian3.fromDegrees(-170.41, -14.15, 34734.0), cylinder : {length : 69468.0, topRadius : 10000.0, bottomRadius : 100000.0, material : Cesium.Color.ROYALBLUE}});\r\n",
       "  widget.entities.add({position : Cesium.Cartesian3.fromDegrees(-109.34, 38.41, 769514.0), cylinder : {length : 1539028.0, topRadius : 10000.0, bottomRadius : 100000.0, material : Cesium.Color.ROYALBLUE}});\r\n",
       "  widget.entities.add({position : Cesium.Cartesian3.fromDegrees(-102.3, 43.45, 527162.5), cylinder : {length : 1054325.0, topRadius : 10000.0, bottomRadius : 100000.0, material : Cesium.Color.ROYALBLUE}});\r\n",
       "  widget.entities.add({position : Cesium.Cartesian3.fromDegrees(-103.15, 29.15, 220138.0), cylinder : {length : 440276.0, topRadius : 10000.0, bottomRadius : 100000.0, material : Cesium.Color.ROYALBLUE}});\r\n",
       "  widget.entities.add({position : Cesium.Cartesian3.fromDegrees(-80.05, 25.39, 223480.5), cylinder : {length : 446961.0, topRadius : 10000.0, bottomRadius : 100000.0, material : Cesium.Color.ROYALBLUE}});\r\n",
       "  widget.entities.add({position : Cesium.Cartesian3.fromDegrees(-107.43, 38.34, 153571.5), cylinder : {length : 307143.0, topRadius : 10000.0, bottomRadius : 100000.0, material : Cesium.Color.ROYALBLUE}});\r\n",
       "  widget.entities.add({position : Cesium.Cartesian3.fromDegrees(-112.11, 37.34, 1285842.0), cylinder : {length : 2571684.0, topRadius : 10000.0, bottomRadius : 100000.0, material : Cesium.Color.ROYALBLUE}});\r\n",
       "  widget.entities.add({position : Cesium.Cartesian3.fromDegrees(-109.56, 38.12, 371135.5), cylinder : {length : 742271.0, topRadius : 10000.0, bottomRadius : 100000.0, material : Cesium.Color.ROYALBLUE}});\r\n",
       "  widget.entities.add({position : Cesium.Cartesian3.fromDegrees(-111.1, 38.12, 575082.5), cylinder : {length : 1150165.0, topRadius : 10000.0, bottomRadius : 100000.0, material : Cesium.Color.ROYALBLUE}});\r\n",
       "  widget.entities.add({position : Cesium.Cartesian3.fromDegrees(-104.26, 32.1, 260013.0), cylinder : {length : 520026.0, topRadius : 10000.0, bottomRadius : 100000.0, material : Cesium.Color.ROYALBLUE}});\r\n",
       "  widget.entities.add({position : Cesium.Cartesian3.fromDegrees(-119.25, 34.01, 191843.5), cylinder : {length : 383687.0, topRadius : 10000.0, bottomRadius : 100000.0, material : Cesium.Color.ROYALBLUE}});\r\n",
       "  widget.entities.add({position : Cesium.Cartesian3.fromDegrees(-80.47, 33.47, 79797.5), cylinder : {length : 159595.0, topRadius : 10000.0, bottomRadius : 100000.0, material : Cesium.Color.ROYALBLUE}});\r\n",
       "  widget.entities.add({position : Cesium.Cartesian3.fromDegrees(-122.06, 42.56, 355874.5), cylinder : {length : 711749.0, topRadius : 10000.0, bottomRadius : 100000.0, material : Cesium.Color.ROYALBLUE}});\r\n",
       "  widget.entities.add({position : Cesium.Cartesian3.fromDegrees(-81.33, 41.14, 1113439.5), cylinder : {length : 2226879.0, topRadius : 10000.0, bottomRadius : 100000.0, material : Cesium.Color.ROYALBLUE}});\r\n",
       "  widget.entities.add({position : Cesium.Cartesian3.fromDegrees(-116.49, 36.14, 647413.5), cylinder : {length : 1294827.0, topRadius : 10000.0, bottomRadius : 100000.0, material : Cesium.Color.ROYALBLUE}});\r\n",
       "  widget.entities.add({position : Cesium.Cartesian3.fromDegrees(-150.3, 63.2, 321404.5), cylinder : {length : 642809.0, topRadius : 10000.0, bottomRadius : 100000.0, material : Cesium.Color.ROYALBLUE}});\r\n",
       "  widget.entities.add({position : Cesium.Cartesian3.fromDegrees(-82.52, 24.38, 27140.5), cylinder : {length : 54281.0, topRadius : 10000.0, bottomRadius : 100000.0, material : Cesium.Color.ROYALBLUE}});\r\n",
       "  widget.entities.add({position : Cesium.Cartesian3.fromDegrees(-80.56, 25.19, 509278.5), cylinder : {length : 1018557.0, topRadius : 10000.0, bottomRadius : 100000.0, material : Cesium.Color.ROYALBLUE}});\r\n",
       "  widget.entities.add({position : Cesium.Cartesian3.fromDegrees(-153.18, 67.47, 5588.5), cylinder : {length : 11177.0, topRadius : 10000.0, bottomRadius : 100000.0, material : Cesium.Color.ROYALBLUE}});\r\n",
       "  widget.entities.add({position : Cesium.Cartesian3.fromDegrees(-90.11, 38.38, 699094.0), cylinder : {length : 1398188.0, topRadius : 10000.0, bottomRadius : 100000.0, material : Cesium.Color.ROYALBLUE}});\r\n",
       "  widget.entities.add({position : Cesium.Cartesian3.fromDegrees(-114.0, 48.48, 1652756.0), cylinder : {length : 3305512.0, topRadius : 10000.0, bottomRadius : 100000.0, material : Cesium.Color.ROYALBLUE}});\r\n",
       "  widget.entities.add({position : Cesium.Cartesian3.fromDegrees(-137.0, 58.3, 273528.5), cylinder : {length : 547057.0, topRadius : 10000.0, bottomRadius : 100000.0, material : Cesium.Color.ROYALBLUE}});\r\n",
       "  widget.entities.add({position : Cesium.Cartesian3.fromDegrees(-112.08, 36.04, 3127119.0), cylinder : {length : 6254238.0, topRadius : 10000.0, bottomRadius : 100000.0, material : Cesium.Color.ROYALBLUE}});\r\n",
       "  widget.entities.add({position : Cesium.Cartesian3.fromDegrees(-110.48, 43.44, 1658500.0), cylinder : {length : 3317000.0, topRadius : 10000.0, bottomRadius : 100000.0, material : Cesium.Color.ROYALBLUE}});\r\n",
       "  widget.entities.add({position : Cesium.Cartesian3.fromDegrees(-114.18, 38.59, 84014.0), cylinder : {length : 168028.0, topRadius : 10000.0, bottomRadius : 100000.0, material : Cesium.Color.ROYALBLUE}});\r\n",
       "  widget.entities.add({position : Cesium.Cartesian3.fromDegrees(-105.31, 37.44, 243467.5), cylinder : {length : 486935.0, topRadius : 10000.0, bottomRadius : 100000.0, material : Cesium.Color.ROYALBLUE}});\r\n",
       "  widget.entities.add({position : Cesium.Cartesian3.fromDegrees(-83.32, 35.41, 5669446.5), cylinder : {length : 11338893.0, topRadius : 10000.0, bottomRadius : 100000.0, material : Cesium.Color.ROYALBLUE}});\r\n",
       "  widget.entities.add({position : Cesium.Cartesian3.fromDegrees(-104.52, 31.55, 112628.5), cylinder : {length : 225257.0, topRadius : 10000.0, bottomRadius : 100000.0, material : Cesium.Color.ROYALBLUE}});\r\n",
       "  widget.entities.add({position : Cesium.Cartesian3.fromDegrees(-156.1, 20.43, 556195.0), cylinder : {length : 1112390.0, topRadius : 10000.0, bottomRadius : 100000.0, material : Cesium.Color.ROYALBLUE}});\r\n",
       "  widget.entities.add({position : Cesium.Cartesian3.fromDegrees(-155.12, 19.23, 1008351.0), cylinder : {length : 2016702.0, topRadius : 10000.0, bottomRadius : 100000.0, material : Cesium.Color.ROYALBLUE}});\r\n",
       "  widget.entities.add({position : Cesium.Cartesian3.fromDegrees(-93.03, 34.31, 780808.0), cylinder : {length : 1561616.0, topRadius : 10000.0, bottomRadius : 100000.0, material : Cesium.Color.ROYALBLUE}});\r\n",
       "  widget.entities.add({position : Cesium.Cartesian3.fromDegrees(-88.33, 48.06, 14098.0), cylinder : {length : 28196.0, topRadius : 10000.0, bottomRadius : 100000.0, material : Cesium.Color.ROYALBLUE}});\r\n",
       "  widget.entities.add({position : Cesium.Cartesian3.fromDegrees(-115.54, 33.47, 1426809.5), cylinder : {length : 2853619.0, topRadius : 10000.0, bottomRadius : 100000.0, material : Cesium.Color.ROYALBLUE}});\r\n",
       "  widget.entities.add({position : Cesium.Cartesian3.fromDegrees(-155.0, 58.3, 18909.0), cylinder : {length : 37818.0, topRadius : 10000.0, bottomRadius : 100000.0, material : Cesium.Color.ROYALBLUE}});\r\n",
       "  widget.entities.add({position : Cesium.Cartesian3.fromDegrees(-149.39, 59.55, 151799.0), cylinder : {length : 303598.0, topRadius : 10000.0, bottomRadius : 100000.0, material : Cesium.Color.ROYALBLUE}});\r\n",
       "  widget.entities.add({position : Cesium.Cartesian3.fromDegrees(-118.33, 36.48, 346466.0), cylinder : {length : 692932.0, topRadius : 10000.0, bottomRadius : 100000.0, material : Cesium.Color.ROYALBLUE}});\r\n",
       "  widget.entities.add({position : Cesium.Cartesian3.fromDegrees(-159.17, 67.33, 7750.0), cylinder : {length : 15500.0, topRadius : 10000.0, bottomRadius : 100000.0, material : Cesium.Color.ROYALBLUE}});\r\n",
       "  widget.entities.add({position : Cesium.Cartesian3.fromDegrees(-153.25, 60.58, 11377.5), cylinder : {length : 22755.0, topRadius : 10000.0, bottomRadius : 100000.0, material : Cesium.Color.ROYALBLUE}});\r\n",
       "  widget.entities.add({position : Cesium.Cartesian3.fromDegrees(-121.31, 40.29, 253628.0), cylinder : {length : 507256.0, topRadius : 10000.0, bottomRadius : 100000.0, material : Cesium.Color.ROYALBLUE}});\r\n",
       "  widget.entities.add({position : Cesium.Cartesian3.fromDegrees(-86.06, 37.11, 293926.5), cylinder : {length : 587853.0, topRadius : 10000.0, bottomRadius : 100000.0, material : Cesium.Color.ROYALBLUE}});\r\n",
       "  widget.entities.add({position : Cesium.Cartesian3.fromDegrees(-108.29, 37.11, 306894.0), cylinder : {length : 613788.0, topRadius : 10000.0, bottomRadius : 100000.0, material : Cesium.Color.ROYALBLUE}});\r\n",
       "  widget.entities.add({position : Cesium.Cartesian3.fromDegrees(-121.45, 46.51, 707933.5), cylinder : {length : 1415867.0, topRadius : 10000.0, bottomRadius : 100000.0, material : Cesium.Color.ROYALBLUE}});\r\n",
       "  widget.entities.add({position : Cesium.Cartesian3.fromDegrees(-121.12, 48.42, 15163.0), cylinder : {length : 30326.0, topRadius : 10000.0, bottomRadius : 100000.0, material : Cesium.Color.ROYALBLUE}});\r\n",
       "  widget.entities.add({position : Cesium.Cartesian3.fromDegrees(-123.3, 47.58, 1700998.0), cylinder : {length : 3401996.0, topRadius : 10000.0, bottomRadius : 100000.0, material : Cesium.Color.ROYALBLUE}});\r\n",
       "  widget.entities.add({position : Cesium.Cartesian3.fromDegrees(-109.47, 35.04, 313878.5), cylinder : {length : 627757.0, topRadius : 10000.0, bottomRadius : 100000.0, material : Cesium.Color.ROYALBLUE}});\r\n",
       "  widget.entities.add({position : Cesium.Cartesian3.fromDegrees(-121.1, 36.29, 116667.0), cylinder : {length : 233334.0, topRadius : 10000.0, bottomRadius : 100000.0, material : Cesium.Color.ROYALBLUE}});\r\n",
       "  widget.entities.add({position : Cesium.Cartesian3.fromDegrees(-124.0, 41.18, 222500.0), cylinder : {length : 445000.0, topRadius : 10000.0, bottomRadius : 100000.0, material : Cesium.Color.ROYALBLUE}});\r\n",
       "  widget.entities.add({position : Cesium.Cartesian3.fromDegrees(-105.35, 40.24, 2218607.5), cylinder : {length : 4437215.0, topRadius : 10000.0, bottomRadius : 100000.0, material : Cesium.Color.ROYALBLUE}});\r\n",
       "  widget.entities.add({position : Cesium.Cartesian3.fromDegrees(-110.3, 32.15, 482380.0), cylinder : {length : 964760.0, topRadius : 10000.0, bottomRadius : 100000.0, material : Cesium.Color.ROYALBLUE}});\r\n",
       "  widget.entities.add({position : Cesium.Cartesian3.fromDegrees(-118.41, 36.26, 645628.0), cylinder : {length : 1291256.0, topRadius : 10000.0, bottomRadius : 100000.0, material : Cesium.Color.ROYALBLUE}});\r\n",
       "  widget.entities.add({position : Cesium.Cartesian3.fromDegrees(-78.21, 38.32, 729437.0), cylinder : {length : 1458874.0, topRadius : 10000.0, bottomRadius : 100000.0, material : Cesium.Color.ROYALBLUE}});\r\n",
       "  widget.entities.add({position : Cesium.Cartesian3.fromDegrees(-103.27, 46.58, 354001.5), cylinder : {length : 708003.0, topRadius : 10000.0, bottomRadius : 100000.0, material : Cesium.Color.ROYALBLUE}});\r\n",
       "  widget.entities.add({position : Cesium.Cartesian3.fromDegrees(-64.44, 18.2, 152204.0), cylinder : {length : 304408.0, topRadius : 10000.0, bottomRadius : 100000.0, material : Cesium.Color.ROYALBLUE}});\r\n",
       "  widget.entities.add({position : Cesium.Cartesian3.fromDegrees(-92.53, 48.3, 118625.0), cylinder : {length : 237250.0, topRadius : 10000.0, bottomRadius : 100000.0, material : Cesium.Color.ROYALBLUE}});\r\n",
       "  widget.entities.add({position : Cesium.Cartesian3.fromDegrees(-103.29, 43.34, 309962.0), cylinder : {length : 619924.0, topRadius : 10000.0, bottomRadius : 100000.0, material : Cesium.Color.ROYALBLUE}});\r\n",
       "  widget.entities.add({position : Cesium.Cartesian3.fromDegrees(-142.0, 61.0, 34146.0), cylinder : {length : 68292.0, topRadius : 10000.0, bottomRadius : 100000.0, material : Cesium.Color.ROYALBLUE}});\r\n",
       "  widget.entities.add({position : Cesium.Cartesian3.fromDegrees(-110.3, 44.36, 2058262.0), cylinder : {length : 4116524.0, topRadius : 10000.0, bottomRadius : 100000.0, material : Cesium.Color.ROYALBLUE}});\r\n",
       "  widget.entities.add({position : Cesium.Cartesian3.fromDegrees(-119.3, 37.5, 2168445.0), cylinder : {length : 4336890.0, topRadius : 10000.0, bottomRadius : 100000.0, material : Cesium.Color.ROYALBLUE}});\r\n",
       "  widget.entities.add({position : Cesium.Cartesian3.fromDegrees(-113.03, 37.18, 2252406.0), cylinder : {length : 4504812.0, topRadius : 10000.0, bottomRadius : 100000.0, material : Cesium.Color.ROYALBLUE}});\r\n",
       "  widget.zoomTo(widget.entities);\r\n",
       "</script>"
      ],
      "text/plain": [
       "<cesiumpy.viewer.Viewer at 0x13a85ac8>"
      ]
     },
     "execution_count": 58,
     "metadata": {},
     "output_type": "execute_result"
    }
   ],
   "source": [
    "v = cesiumpy.Viewer()\n",
    "for i, row in df.iterrows():\n",
    "    l = row[u'Recreation visitors (2017)[6]']\n",
    "    cyl = cesiumpy.Cylinder(position=[row['lon'], row['lat'], l / 2.], length=float(l),\n",
    "                            topRadius=1e4, bottomRadius=10e4, material='royalBlue')\n",
    "    v.entities.add(cyl)\n",
    "v"
   ]
  },
  {
   "cell_type": "code",
   "execution_count": 62,
   "metadata": {
    "collapsed": true
   },
   "outputs": [],
   "source": [
    "import numpy as np"
   ]
  },
  {
   "cell_type": "code",
   "execution_count": 63,
   "metadata": {
    "collapsed": false,
    "scrolled": true
   },
   "outputs": [
    {
     "data": {
      "text/html": [
       "<script src=\"https://cesiumjs.org/Cesium/Build/Cesium/Cesium.js\"></script>\r\n",
       "<link rel=\"stylesheet\" href=\"https://cesiumjs.org/Cesium/Build/Cesium/Widgets/widgets.css\" type=\"text/css\">\r\n",
       "<div id=\"container-329800616\" style=\"width:100%; height:100%;\"><div>\r\n",
       "<script type=\"text/javascript\">\r\n",
       "  var widget = new Cesium.Viewer(\"container-329800616\");\r\n",
       "  widget.entities.add({position : Cesium.Cartesian3.fromDegrees(-68.13, 44.21, 0.0), point : {pixelSize : 18.7082869339, color : Cesium.Color.BLUE}});\r\n",
       "  widget.entities.add({position : Cesium.Cartesian3.fromDegrees(-170.41, -14.15, 0.0), point : {pixelSize : 2.44948974278, color : Cesium.Color.BLUE}});\r\n",
       "  widget.entities.add({position : Cesium.Cartesian3.fromDegrees(-109.34, 38.41, 0.0), point : {pixelSize : 12.3693168769, color : Cesium.Color.BLUE}});\r\n",
       "  widget.entities.add({position : Cesium.Cartesian3.fromDegrees(-102.3, 43.45, 0.0), point : {pixelSize : 10.246950766, color : Cesium.Color.BLUE}});\r\n",
       "  widget.entities.add({position : Cesium.Cartesian3.fromDegrees(-103.15, 29.15, 0.0), point : {pixelSize : 6.63324958071, color : Cesium.Color.BLUE}});\r\n",
       "  widget.entities.add({position : Cesium.Cartesian3.fromDegrees(-80.05, 25.39, 0.0), point : {pixelSize : 6.63324958071, color : Cesium.Color.BLUE}});\r\n",
       "  widget.entities.add({position : Cesium.Cartesian3.fromDegrees(-107.43, 38.34, 0.0), point : {pixelSize : 5.47722557505, color : Cesium.Color.BLUE}});\r\n",
       "  widget.entities.add({position : Cesium.Cartesian3.fromDegrees(-112.11, 37.34, 0.0), point : {pixelSize : 16.0312195419, color : Cesium.Color.BLUE}});\r\n",
       "  widget.entities.add({position : Cesium.Cartesian3.fromDegrees(-109.56, 38.12, 0.0), point : {pixelSize : 8.60232526704, color : Cesium.Color.BLUE}});\r\n",
       "  widget.entities.add({position : Cesium.Cartesian3.fromDegrees(-111.1, 38.12, 0.0), point : {pixelSize : 10.7238052948, color : Cesium.Color.BLUE}});\r\n",
       "  widget.entities.add({position : Cesium.Cartesian3.fromDegrees(-104.26, 32.1, 0.0), point : {pixelSize : 7.21110255093, color : Cesium.Color.BLUE}});\r\n",
       "  widget.entities.add({position : Cesium.Cartesian3.fromDegrees(-119.25, 34.01, 0.0), point : {pixelSize : 6.16441400297, color : Cesium.Color.BLUE}});\r\n",
       "  widget.entities.add({position : Cesium.Cartesian3.fromDegrees(-80.47, 33.47, 0.0), point : {pixelSize : 3.87298334621, color : Cesium.Color.BLUE}});\r\n",
       "  widget.entities.add({position : Cesium.Cartesian3.fromDegrees(-122.06, 42.56, 0.0), point : {pixelSize : 8.42614977318, color : Cesium.Color.BLUE}});\r\n",
       "  widget.entities.add({position : Cesium.Cartesian3.fromDegrees(-81.33, 41.14, 0.0), point : {pixelSize : 14.8996644258, color : Cesium.Color.BLUE}});\r\n",
       "  widget.entities.add({position : Cesium.Cartesian3.fromDegrees(-116.49, 36.14, 0.0), point : {pixelSize : 11.3578166916, color : Cesium.Color.BLUE}});\r\n",
       "  widget.entities.add({position : Cesium.Cartesian3.fromDegrees(-150.3, 63.2, 0.0), point : {pixelSize : 8.0, color : Cesium.Color.BLUE}});\r\n",
       "  widget.entities.add({position : Cesium.Cartesian3.fromDegrees(-82.52, 24.38, 0.0), point : {pixelSize : 2.2360679775, color : Cesium.Color.BLUE}});\r\n",
       "  widget.entities.add({position : Cesium.Cartesian3.fromDegrees(-80.56, 25.19, 0.0), point : {pixelSize : 10.0498756211, color : Cesium.Color.BLUE}});\r\n",
       "  widget.entities.add({position : Cesium.Cartesian3.fromDegrees(-153.18, 67.47, 0.0), point : {pixelSize : 1.0, color : Cesium.Color.BLUE}});\r\n",
       "  widget.entities.add({position : Cesium.Cartesian3.fromDegrees(-90.11, 38.38, 0.0), point : {pixelSize : 11.7898261226, color : Cesium.Color.BLUE}});\r\n",
       "  widget.entities.add({position : Cesium.Cartesian3.fromDegrees(-114.0, 48.48, 0.0), point : {pixelSize : 18.1659021246, color : Cesium.Color.BLUE}});\r\n",
       "  widget.entities.add({position : Cesium.Cartesian3.fromDegrees(-137.0, 58.3, 0.0), point : {pixelSize : 7.34846922835, color : Cesium.Color.BLUE}});\r\n",
       "  widget.entities.add({position : Cesium.Cartesian3.fromDegrees(-112.08, 36.04, 0.0), point : {pixelSize : 25.0, color : Cesium.Color.BLUE}});\r\n",
       "  widget.entities.add({position : Cesium.Cartesian3.fromDegrees(-110.48, 43.44, 0.0), point : {pixelSize : 18.1934053987, color : Cesium.Color.BLUE}});\r\n",
       "  widget.entities.add({position : Cesium.Cartesian3.fromDegrees(-114.18, 38.59, 0.0), point : {pixelSize : 4.0, color : Cesium.Color.BLUE}});\r\n",
       "  widget.entities.add({position : Cesium.Cartesian3.fromDegrees(-105.31, 37.44, 0.0), point : {pixelSize : 6.92820323028, color : Cesium.Color.BLUE}});\r\n",
       "  widget.entities.add({position : Cesium.Cartesian3.fromDegrees(-83.32, 35.41, 0.0), point : {pixelSize : 33.6600653594, color : Cesium.Color.BLUE}});\r\n",
       "  widget.entities.add({position : Cesium.Cartesian3.fromDegrees(-104.52, 31.55, 0.0), point : {pixelSize : 4.69041575982, color : Cesium.Color.BLUE}});\r\n",
       "  widget.entities.add({position : Cesium.Cartesian3.fromDegrees(-156.1, 20.43, 0.0), point : {pixelSize : 10.5356537529, color : Cesium.Color.BLUE}});\r\n",
       "  widget.entities.add({position : Cesium.Cartesian3.fromDegrees(-155.12, 19.23, 0.0), point : {pixelSize : 14.1774468788, color : Cesium.Color.BLUE}});\r\n",
       "  widget.entities.add({position : Cesium.Cartesian3.fromDegrees(-93.03, 34.31, 0.0), point : {pixelSize : 12.4899959968, color : Cesium.Color.BLUE}});\r\n",
       "  widget.entities.add({position : Cesium.Cartesian3.fromDegrees(-88.33, 48.06, 0.0), point : {pixelSize : 1.41421356237, color : Cesium.Color.BLUE}});\r\n",
       "  widget.entities.add({position : Cesium.Cartesian3.fromDegrees(-115.54, 33.47, 0.0), point : {pixelSize : 16.8819430161, color : Cesium.Color.BLUE}});\r\n",
       "  widget.entities.add({position : Cesium.Cartesian3.fromDegrees(-155.0, 58.3, 0.0), point : {pixelSize : 1.73205080757, color : Cesium.Color.BLUE}});\r\n",
       "  widget.entities.add({position : Cesium.Cartesian3.fromDegrees(-149.39, 59.55, 0.0), point : {pixelSize : 5.47722557505, color : Cesium.Color.BLUE}});\r\n",
       "  widget.entities.add({position : Cesium.Cartesian3.fromDegrees(-118.33, 36.48, 0.0), point : {pixelSize : 8.30662386292, color : Cesium.Color.BLUE}});\r\n",
       "  widget.entities.add({position : Cesium.Cartesian3.fromDegrees(-159.17, 67.33, 0.0), point : {pixelSize : 1.0, color : Cesium.Color.BLUE}});\r\n",
       "  widget.entities.add({position : Cesium.Cartesian3.fromDegrees(-153.25, 60.58, 0.0), point : {pixelSize : 1.41421356237, color : Cesium.Color.BLUE}});\r\n",
       "  widget.entities.add({position : Cesium.Cartesian3.fromDegrees(-121.31, 40.29, 0.0), point : {pixelSize : 7.07106781187, color : Cesium.Color.BLUE}});\r\n",
       "  widget.entities.add({position : Cesium.Cartesian3.fromDegrees(-86.06, 37.11, 0.0), point : {pixelSize : 7.61577310586, color : Cesium.Color.BLUE}});\r\n",
       "  widget.entities.add({position : Cesium.Cartesian3.fromDegrees(-108.29, 37.11, 0.0), point : {pixelSize : 7.81024967591, color : Cesium.Color.BLUE}});\r\n",
       "  widget.entities.add({position : Cesium.Cartesian3.fromDegrees(-121.45, 46.51, 0.0), point : {pixelSize : 11.874342087, color : Cesium.Color.BLUE}});\r\n",
       "  widget.entities.add({position : Cesium.Cartesian3.fromDegrees(-121.12, 48.42, 0.0), point : {pixelSize : 1.73205080757, color : Cesium.Color.BLUE}});\r\n",
       "  widget.entities.add({position : Cesium.Cartesian3.fromDegrees(-123.3, 47.58, 0.0), point : {pixelSize : 18.4390889146, color : Cesium.Color.BLUE}});\r\n",
       "  widget.entities.add({position : Cesium.Cartesian3.fromDegrees(-109.47, 35.04, 0.0), point : {pixelSize : 7.87400787401, color : Cesium.Color.BLUE}});\r\n",
       "  widget.entities.add({position : Cesium.Cartesian3.fromDegrees(-121.1, 36.29, 0.0), point : {pixelSize : 4.79583152331, color : Cesium.Color.BLUE}});\r\n",
       "  widget.entities.add({position : Cesium.Cartesian3.fromDegrees(-124.0, 41.18, 0.0), point : {pixelSize : 6.63324958071, color : Cesium.Color.BLUE}});\r\n",
       "  widget.entities.add({position : Cesium.Cartesian3.fromDegrees(-105.35, 40.24, 0.0), point : {pixelSize : 21.0475651798, color : Cesium.Color.BLUE}});\r\n",
       "  widget.entities.add({position : Cesium.Cartesian3.fromDegrees(-110.3, 32.15, 0.0), point : {pixelSize : 9.79795897113, color : Cesium.Color.BLUE}});\r\n",
       "  widget.entities.add({position : Cesium.Cartesian3.fromDegrees(-118.41, 36.26, 0.0), point : {pixelSize : 11.3578166916, color : Cesium.Color.BLUE}});\r\n",
       "  widget.entities.add({position : Cesium.Cartesian3.fromDegrees(-78.21, 38.32, 0.0), point : {pixelSize : 12.0415945788, color : Cesium.Color.BLUE}});\r\n",
       "  widget.entities.add({position : Cesium.Cartesian3.fromDegrees(-103.27, 46.58, 0.0), point : {pixelSize : 8.36660026534, color : Cesium.Color.BLUE}});\r\n",
       "  widget.entities.add({position : Cesium.Cartesian3.fromDegrees(-64.44, 18.2, 0.0), point : {pixelSize : 5.47722557505, color : Cesium.Color.BLUE}});\r\n",
       "  widget.entities.add({position : Cesium.Cartesian3.fromDegrees(-92.53, 48.3, 0.0), point : {pixelSize : 4.79583152331, color : Cesium.Color.BLUE}});\r\n",
       "  widget.entities.add({position : Cesium.Cartesian3.fromDegrees(-103.29, 43.34, 0.0), point : {pixelSize : 7.81024967591, color : Cesium.Color.BLUE}});\r\n",
       "  widget.entities.add({position : Cesium.Cartesian3.fromDegrees(-142.0, 61.0, 0.0), point : {pixelSize : 2.44948974278, color : Cesium.Color.BLUE}});\r\n",
       "  widget.entities.add({position : Cesium.Cartesian3.fromDegrees(-110.3, 44.36, 0.0), point : {pixelSize : 20.2731349327, color : Cesium.Color.BLUE}});\r\n",
       "  widget.entities.add({position : Cesium.Cartesian3.fromDegrees(-119.3, 37.5, 0.0), point : {pixelSize : 20.8086520467, color : Cesium.Color.BLUE}});\r\n",
       "  widget.entities.add({position : Cesium.Cartesian3.fromDegrees(-113.03, 37.18, 0.0), point : {pixelSize : 21.2132034356, color : Cesium.Color.BLUE}});\r\n",
       "  widget.zoomTo(widget.entities);\r\n",
       "</script>"
      ],
      "text/plain": [
       "<cesiumpy.viewer.Viewer at 0x139cf828>"
      ]
     },
     "execution_count": 63,
     "metadata": {},
     "output_type": "execute_result"
    }
   ],
   "source": [
    "v = cesiumpy.Viewer()\n",
    "for i, row in df.iterrows():\n",
    "    l = row[u'Recreation visitors (2017)[6]']\n",
    "    p= cesiumpy.Point(position=[row['lon'], row['lat'], 0],\n",
    "                      pixelSize=np.sqrt(l / 10000), color='blue')\n",
    "    v.entities.add(p)\n",
    "v"
   ]
  },
  {
   "cell_type": "code",
   "execution_count": 65,
   "metadata": {
    "collapsed": false,
    "scrolled": true
   },
   "outputs": [
    {
     "data": {
      "text/html": [
       "<script src=\"https://cesiumjs.org/Cesium/Build/Cesium/Cesium.js\"></script>\r\n",
       "<link rel=\"stylesheet\" href=\"https://cesiumjs.org/Cesium/Build/Cesium/Widgets/widgets.css\" type=\"text/css\">\r\n",
       "<div id=\"container-330760144\" style=\"width:100%; height:100%;\"><div>\r\n",
       "<script type=\"text/javascript\">\r\n",
       "  var widget = new Cesium.Viewer(\"container-330760144\");\r\n",
       "  widget.entities.add({position : Cesium.Cartesian3.fromDegrees(-68.13, 44.21, 0.0), billboard : {image : new Cesium.PinBuilder().fromColor(Cesium.Color.ROYALBLUE, 48.0), scale : 0.4}});\r\n",
       "  widget.entities.add({position : Cesium.Cartesian3.fromDegrees(-170.41, -14.15, 0.0), billboard : {image : new Cesium.PinBuilder().fromColor(Cesium.Color.ROYALBLUE, 48.0), scale : 0.4}});\r\n",
       "  widget.entities.add({position : Cesium.Cartesian3.fromDegrees(-109.34, 38.41, 0.0), billboard : {image : new Cesium.PinBuilder().fromColor(Cesium.Color.ROYALBLUE, 48.0), scale : 0.4}});\r\n",
       "  widget.entities.add({position : Cesium.Cartesian3.fromDegrees(-102.3, 43.45, 0.0), billboard : {image : new Cesium.PinBuilder().fromColor(Cesium.Color.ROYALBLUE, 48.0), scale : 0.4}});\r\n",
       "  widget.entities.add({position : Cesium.Cartesian3.fromDegrees(-103.15, 29.15, 0.0), billboard : {image : new Cesium.PinBuilder().fromColor(Cesium.Color.ROYALBLUE, 48.0), scale : 0.4}});\r\n",
       "  widget.entities.add({position : Cesium.Cartesian3.fromDegrees(-80.05, 25.39, 0.0), billboard : {image : new Cesium.PinBuilder().fromColor(Cesium.Color.ROYALBLUE, 48.0), scale : 0.4}});\r\n",
       "  widget.entities.add({position : Cesium.Cartesian3.fromDegrees(-107.43, 38.34, 0.0), billboard : {image : new Cesium.PinBuilder().fromColor(Cesium.Color.ROYALBLUE, 48.0), scale : 0.4}});\r\n",
       "  widget.entities.add({position : Cesium.Cartesian3.fromDegrees(-112.11, 37.34, 0.0), billboard : {image : new Cesium.PinBuilder().fromColor(Cesium.Color.ROYALBLUE, 48.0), scale : 0.4}});\r\n",
       "  widget.entities.add({position : Cesium.Cartesian3.fromDegrees(-109.56, 38.12, 0.0), billboard : {image : new Cesium.PinBuilder().fromColor(Cesium.Color.ROYALBLUE, 48.0), scale : 0.4}});\r\n",
       "  widget.entities.add({position : Cesium.Cartesian3.fromDegrees(-111.1, 38.12, 0.0), billboard : {image : new Cesium.PinBuilder().fromColor(Cesium.Color.ROYALBLUE, 48.0), scale : 0.4}});\r\n",
       "  widget.entities.add({position : Cesium.Cartesian3.fromDegrees(-104.26, 32.1, 0.0), billboard : {image : new Cesium.PinBuilder().fromColor(Cesium.Color.ROYALBLUE, 48.0), scale : 0.4}});\r\n",
       "  widget.entities.add({position : Cesium.Cartesian3.fromDegrees(-119.25, 34.01, 0.0), billboard : {image : new Cesium.PinBuilder().fromColor(Cesium.Color.ROYALBLUE, 48.0), scale : 0.4}});\r\n",
       "  widget.entities.add({position : Cesium.Cartesian3.fromDegrees(-80.47, 33.47, 0.0), billboard : {image : new Cesium.PinBuilder().fromColor(Cesium.Color.ROYALBLUE, 48.0), scale : 0.4}});\r\n",
       "  widget.entities.add({position : Cesium.Cartesian3.fromDegrees(-122.06, 42.56, 0.0), billboard : {image : new Cesium.PinBuilder().fromColor(Cesium.Color.ROYALBLUE, 48.0), scale : 0.4}});\r\n",
       "  widget.entities.add({position : Cesium.Cartesian3.fromDegrees(-81.33, 41.14, 0.0), billboard : {image : new Cesium.PinBuilder().fromColor(Cesium.Color.ROYALBLUE, 48.0), scale : 0.4}});\r\n",
       "  widget.entities.add({position : Cesium.Cartesian3.fromDegrees(-116.49, 36.14, 0.0), billboard : {image : new Cesium.PinBuilder().fromColor(Cesium.Color.ROYALBLUE, 48.0), scale : 0.4}});\r\n",
       "  widget.entities.add({position : Cesium.Cartesian3.fromDegrees(-150.3, 63.2, 0.0), billboard : {image : new Cesium.PinBuilder().fromColor(Cesium.Color.ROYALBLUE, 48.0), scale : 0.4}});\r\n",
       "  widget.entities.add({position : Cesium.Cartesian3.fromDegrees(-82.52, 24.38, 0.0), billboard : {image : new Cesium.PinBuilder().fromColor(Cesium.Color.ROYALBLUE, 48.0), scale : 0.4}});\r\n",
       "  widget.entities.add({position : Cesium.Cartesian3.fromDegrees(-80.56, 25.19, 0.0), billboard : {image : new Cesium.PinBuilder().fromColor(Cesium.Color.ROYALBLUE, 48.0), scale : 0.4}});\r\n",
       "  widget.entities.add({position : Cesium.Cartesian3.fromDegrees(-153.18, 67.47, 0.0), billboard : {image : new Cesium.PinBuilder().fromColor(Cesium.Color.ROYALBLUE, 48.0), scale : 0.4}});\r\n",
       "  widget.entities.add({position : Cesium.Cartesian3.fromDegrees(-90.11, 38.38, 0.0), billboard : {image : new Cesium.PinBuilder().fromColor(Cesium.Color.ROYALBLUE, 48.0), scale : 0.4}});\r\n",
       "  widget.entities.add({position : Cesium.Cartesian3.fromDegrees(-114.0, 48.48, 0.0), billboard : {image : new Cesium.PinBuilder().fromColor(Cesium.Color.ROYALBLUE, 48.0), scale : 0.4}});\r\n",
       "  widget.entities.add({position : Cesium.Cartesian3.fromDegrees(-137.0, 58.3, 0.0), billboard : {image : new Cesium.PinBuilder().fromColor(Cesium.Color.ROYALBLUE, 48.0), scale : 0.4}});\r\n",
       "  widget.entities.add({position : Cesium.Cartesian3.fromDegrees(-112.08, 36.04, 0.0), billboard : {image : new Cesium.PinBuilder().fromColor(Cesium.Color.ROYALBLUE, 48.0), scale : 0.4}});\r\n",
       "  widget.entities.add({position : Cesium.Cartesian3.fromDegrees(-110.48, 43.44, 0.0), billboard : {image : new Cesium.PinBuilder().fromColor(Cesium.Color.ROYALBLUE, 48.0), scale : 0.4}});\r\n",
       "  widget.entities.add({position : Cesium.Cartesian3.fromDegrees(-114.18, 38.59, 0.0), billboard : {image : new Cesium.PinBuilder().fromColor(Cesium.Color.ROYALBLUE, 48.0), scale : 0.4}});\r\n",
       "  widget.entities.add({position : Cesium.Cartesian3.fromDegrees(-105.31, 37.44, 0.0), billboard : {image : new Cesium.PinBuilder().fromColor(Cesium.Color.ROYALBLUE, 48.0), scale : 0.4}});\r\n",
       "  widget.entities.add({position : Cesium.Cartesian3.fromDegrees(-83.32, 35.41, 0.0), billboard : {image : new Cesium.PinBuilder().fromColor(Cesium.Color.ROYALBLUE, 48.0), scale : 0.4}});\r\n",
       "  widget.entities.add({position : Cesium.Cartesian3.fromDegrees(-104.52, 31.55, 0.0), billboard : {image : new Cesium.PinBuilder().fromColor(Cesium.Color.ROYALBLUE, 48.0), scale : 0.4}});\r\n",
       "  widget.entities.add({position : Cesium.Cartesian3.fromDegrees(-156.1, 20.43, 0.0), billboard : {image : new Cesium.PinBuilder().fromColor(Cesium.Color.ROYALBLUE, 48.0), scale : 0.4}});\r\n",
       "  widget.entities.add({position : Cesium.Cartesian3.fromDegrees(-155.12, 19.23, 0.0), billboard : {image : new Cesium.PinBuilder().fromColor(Cesium.Color.ROYALBLUE, 48.0), scale : 0.4}});\r\n",
       "  widget.entities.add({position : Cesium.Cartesian3.fromDegrees(-93.03, 34.31, 0.0), billboard : {image : new Cesium.PinBuilder().fromColor(Cesium.Color.ROYALBLUE, 48.0), scale : 0.4}});\r\n",
       "  widget.entities.add({position : Cesium.Cartesian3.fromDegrees(-88.33, 48.06, 0.0), billboard : {image : new Cesium.PinBuilder().fromColor(Cesium.Color.ROYALBLUE, 48.0), scale : 0.4}});\r\n",
       "  widget.entities.add({position : Cesium.Cartesian3.fromDegrees(-115.54, 33.47, 0.0), billboard : {image : new Cesium.PinBuilder().fromColor(Cesium.Color.ROYALBLUE, 48.0), scale : 0.4}});\r\n",
       "  widget.entities.add({position : Cesium.Cartesian3.fromDegrees(-155.0, 58.3, 0.0), billboard : {image : new Cesium.PinBuilder().fromColor(Cesium.Color.ROYALBLUE, 48.0), scale : 0.4}});\r\n",
       "  widget.entities.add({position : Cesium.Cartesian3.fromDegrees(-149.39, 59.55, 0.0), billboard : {image : new Cesium.PinBuilder().fromColor(Cesium.Color.ROYALBLUE, 48.0), scale : 0.4}});\r\n",
       "  widget.entities.add({position : Cesium.Cartesian3.fromDegrees(-118.33, 36.48, 0.0), billboard : {image : new Cesium.PinBuilder().fromColor(Cesium.Color.ROYALBLUE, 48.0), scale : 0.4}});\r\n",
       "  widget.entities.add({position : Cesium.Cartesian3.fromDegrees(-159.17, 67.33, 0.0), billboard : {image : new Cesium.PinBuilder().fromColor(Cesium.Color.ROYALBLUE, 48.0), scale : 0.4}});\r\n",
       "  widget.entities.add({position : Cesium.Cartesian3.fromDegrees(-153.25, 60.58, 0.0), billboard : {image : new Cesium.PinBuilder().fromColor(Cesium.Color.ROYALBLUE, 48.0), scale : 0.4}});\r\n",
       "  widget.entities.add({position : Cesium.Cartesian3.fromDegrees(-121.31, 40.29, 0.0), billboard : {image : new Cesium.PinBuilder().fromColor(Cesium.Color.ROYALBLUE, 48.0), scale : 0.4}});\r\n",
       "  widget.entities.add({position : Cesium.Cartesian3.fromDegrees(-86.06, 37.11, 0.0), billboard : {image : new Cesium.PinBuilder().fromColor(Cesium.Color.ROYALBLUE, 48.0), scale : 0.4}});\r\n",
       "  widget.entities.add({position : Cesium.Cartesian3.fromDegrees(-108.29, 37.11, 0.0), billboard : {image : new Cesium.PinBuilder().fromColor(Cesium.Color.ROYALBLUE, 48.0), scale : 0.4}});\r\n",
       "  widget.entities.add({position : Cesium.Cartesian3.fromDegrees(-121.45, 46.51, 0.0), billboard : {image : new Cesium.PinBuilder().fromColor(Cesium.Color.ROYALBLUE, 48.0), scale : 0.4}});\r\n",
       "  widget.entities.add({position : Cesium.Cartesian3.fromDegrees(-121.12, 48.42, 0.0), billboard : {image : new Cesium.PinBuilder().fromColor(Cesium.Color.ROYALBLUE, 48.0), scale : 0.4}});\r\n",
       "  widget.entities.add({position : Cesium.Cartesian3.fromDegrees(-123.3, 47.58, 0.0), billboard : {image : new Cesium.PinBuilder().fromColor(Cesium.Color.ROYALBLUE, 48.0), scale : 0.4}});\r\n",
       "  widget.entities.add({position : Cesium.Cartesian3.fromDegrees(-109.47, 35.04, 0.0), billboard : {image : new Cesium.PinBuilder().fromColor(Cesium.Color.ROYALBLUE, 48.0), scale : 0.4}});\r\n",
       "  widget.entities.add({position : Cesium.Cartesian3.fromDegrees(-121.1, 36.29, 0.0), billboard : {image : new Cesium.PinBuilder().fromColor(Cesium.Color.ROYALBLUE, 48.0), scale : 0.4}});\r\n",
       "  widget.entities.add({position : Cesium.Cartesian3.fromDegrees(-124.0, 41.18, 0.0), billboard : {image : new Cesium.PinBuilder().fromColor(Cesium.Color.ROYALBLUE, 48.0), scale : 0.4}});\r\n",
       "  widget.entities.add({position : Cesium.Cartesian3.fromDegrees(-105.35, 40.24, 0.0), billboard : {image : new Cesium.PinBuilder().fromColor(Cesium.Color.ROYALBLUE, 48.0), scale : 0.4}});\r\n",
       "  widget.entities.add({position : Cesium.Cartesian3.fromDegrees(-110.3, 32.15, 0.0), billboard : {image : new Cesium.PinBuilder().fromColor(Cesium.Color.ROYALBLUE, 48.0), scale : 0.4}});\r\n",
       "  widget.entities.add({position : Cesium.Cartesian3.fromDegrees(-118.41, 36.26, 0.0), billboard : {image : new Cesium.PinBuilder().fromColor(Cesium.Color.ROYALBLUE, 48.0), scale : 0.4}});\r\n",
       "  widget.entities.add({position : Cesium.Cartesian3.fromDegrees(-78.21, 38.32, 0.0), billboard : {image : new Cesium.PinBuilder().fromColor(Cesium.Color.ROYALBLUE, 48.0), scale : 0.4}});\r\n",
       "  widget.entities.add({position : Cesium.Cartesian3.fromDegrees(-103.27, 46.58, 0.0), billboard : {image : new Cesium.PinBuilder().fromColor(Cesium.Color.ROYALBLUE, 48.0), scale : 0.4}});\r\n",
       "  widget.entities.add({position : Cesium.Cartesian3.fromDegrees(-64.44, 18.2, 0.0), billboard : {image : new Cesium.PinBuilder().fromColor(Cesium.Color.ROYALBLUE, 48.0), scale : 0.4}});\r\n",
       "  widget.entities.add({position : Cesium.Cartesian3.fromDegrees(-92.53, 48.3, 0.0), billboard : {image : new Cesium.PinBuilder().fromColor(Cesium.Color.ROYALBLUE, 48.0), scale : 0.4}});\r\n",
       "  widget.entities.add({position : Cesium.Cartesian3.fromDegrees(-103.29, 43.34, 0.0), billboard : {image : new Cesium.PinBuilder().fromColor(Cesium.Color.ROYALBLUE, 48.0), scale : 0.4}});\r\n",
       "  widget.entities.add({position : Cesium.Cartesian3.fromDegrees(-142.0, 61.0, 0.0), billboard : {image : new Cesium.PinBuilder().fromColor(Cesium.Color.ROYALBLUE, 48.0), scale : 0.4}});\r\n",
       "  widget.entities.add({position : Cesium.Cartesian3.fromDegrees(-110.3, 44.36, 0.0), billboard : {image : new Cesium.PinBuilder().fromColor(Cesium.Color.ROYALBLUE, 48.0), scale : 0.4}});\r\n",
       "  widget.entities.add({position : Cesium.Cartesian3.fromDegrees(-119.3, 37.5, 0.0), billboard : {image : new Cesium.PinBuilder().fromColor(Cesium.Color.ROYALBLUE, 48.0), scale : 0.4}});\r\n",
       "  widget.entities.add({position : Cesium.Cartesian3.fromDegrees(-113.03, 37.18, 0.0), billboard : {image : new Cesium.PinBuilder().fromColor(Cesium.Color.ROYALBLUE, 48.0), scale : 0.4}});\r\n",
       "  widget.zoomTo(widget.entities);\r\n",
       "</script>"
      ],
      "text/plain": [
       "<cesiumpy.viewer.Viewer at 0x13b817b8>"
      ]
     },
     "execution_count": 65,
     "metadata": {},
     "output_type": "execute_result"
    }
   ],
   "source": [
    "v = cesiumpy.Viewer()\n",
    "pin = cesiumpy.Pin()\n",
    "for i, row in df.iterrows():\n",
    "    l = row['Recreation visitors (2017)[6]']\n",
    "    b = cesiumpy.Billboard(position=[row['lon'], row['lat'], 0], image = pin, scale=0.4)\n",
    "    v.entities.add(b)\n",
    "v"
   ]
  },
  {
   "cell_type": "code",
   "execution_count": 66,
   "metadata": {
    "collapsed": false
   },
   "outputs": [
    {
     "data": {
      "text/html": [
       "<script src=\"https://cesiumjs.org/Cesium/Build/Cesium/Cesium.js\"></script>\r\n",
       "<link rel=\"stylesheet\" href=\"https://cesiumjs.org/Cesium/Build/Cesium/Widgets/widgets.css\" type=\"text/css\">\r\n",
       "<div id=\"container-330381296\" style=\"width:100%; height:100%;\"><div>\r\n",
       "<script type=\"text/javascript\">\r\n",
       "  var widget = new Cesium.Viewer(\"container-330381296\");\r\n",
       "  widget.entities.add({position : Cesium.Cartesian3.fromDegrees(130.0, 30.0, 0.0), point : {pixelSize : 10.0, color : Cesium.Color.WHITE}});\r\n",
       "  widget.entities.add({position : Cesium.Cartesian3.fromDegrees(140.0, 40.0, 0.0), point : {pixelSize : 10.0, color : Cesium.Color.WHITE}});\r\n",
       "  widget.entities.add({position : Cesium.Cartesian3.fromDegrees(150.0, 50.0, 0.0), point : {pixelSize : 10.0, color : Cesium.Color.WHITE}});\r\n",
       "  widget.zoomTo(widget.entities);\r\n",
       "</script>"
      ],
      "text/plain": [
       "<cesiumpy.viewer.Viewer at 0x13b13b00>"
      ]
     },
     "execution_count": 66,
     "metadata": {},
     "output_type": "execute_result"
    }
   ],
   "source": [
    "v = cesiumpy.Viewer()\n",
    "v.plot.scatter([130, 140, 150], [30, 40, 50])"
   ]
  },
  {
   "cell_type": "code",
   "execution_count": 67,
   "metadata": {
    "collapsed": false
   },
   "outputs": [
    {
     "data": {
      "text/html": [
       "<script src=\"https://cesiumjs.org/Cesium/Build/Cesium/Cesium.js\"></script>\r\n",
       "<link rel=\"stylesheet\" href=\"https://cesiumjs.org/Cesium/Build/Cesium/Widgets/widgets.css\" type=\"text/css\">\r\n",
       "<div id=\"container-328850848\" style=\"width:100%; height:100%;\"><div>\r\n",
       "<script type=\"text/javascript\">\r\n",
       "  var widget = new Cesium.Viewer(\"container-328850848\");\r\n",
       "  widget.entities.add({position : Cesium.Cartesian3.fromDegrees(130.0, 30.0, 0.0), billboard : {image : new Cesium.PinBuilder().fromText(\"!\", Cesium.Color.RED, 48.0)}});\r\n",
       "  widget.entities.add({position : Cesium.Cartesian3.fromDegrees(140.0, 40.0, 0.0), billboard : {image : new Cesium.PinBuilder().fromText(\"?\", Cesium.Color.RED, 48.0)}});\r\n",
       "  widget.entities.add({position : Cesium.Cartesian3.fromDegrees(150.0, 50.0, 0.0), billboard : {image : new Cesium.PinBuilder().fromText(\"!?\", Cesium.Color.RED, 48.0)}});\r\n",
       "  widget.zoomTo(widget.entities);\r\n",
       "</script>"
      ],
      "text/plain": [
       "<cesiumpy.viewer.Viewer at 0x139b5780>"
      ]
     },
     "execution_count": 67,
     "metadata": {},
     "output_type": "execute_result"
    }
   ],
   "source": [
    "v = cesiumpy.Viewer()\n",
    "v.plot.pin([130, 140, 150], [30, 40, 50], color=cesiumpy.color.RED, text=['!', '?', '!?'])"
   ]
  }
 ],
 "metadata": {
  "kernelspec": {
   "display_name": "Python [conda root]",
   "language": "python",
   "name": "conda-root-py"
  },
  "language_info": {
   "codemirror_mode": {
    "name": "ipython",
    "version": 2
   },
   "file_extension": ".py",
   "mimetype": "text/x-python",
   "name": "python",
   "nbconvert_exporter": "python",
   "pygments_lexer": "ipython2",
   "version": "2.7.13"
  }
 },
 "nbformat": 4,
 "nbformat_minor": 2
}
