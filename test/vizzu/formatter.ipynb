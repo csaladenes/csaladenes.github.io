{
 "cells": [
  {
   "cell_type": "code",
   "execution_count": 3,
   "id": "fdea282f",
   "metadata": {},
   "outputs": [],
   "source": [
    "# !pip install pandas"
   ]
  },
  {
   "cell_type": "code",
   "execution_count": 4,
   "id": "8d9bd531",
   "metadata": {},
   "outputs": [],
   "source": [
    "import pandas as pd"
   ]
  },
  {
   "cell_type": "code",
   "execution_count": 8,
   "id": "c30158c8",
   "metadata": {},
   "outputs": [],
   "source": [
    "df=pd.read_csv('https://raw.githubusercontent.com/EconomicsObservatory/ECOvisualisations/main/articles/2021-08-04-where-are-the-uks-levelling-up-funds-most-needed/data/fig1_imd.csv')\n",
    "df=df.drop('Unnamed: 0',axis=1)"
   ]
  },
  {
   "cell_type": "code",
   "execution_count": 15,
   "id": "51c08c28",
   "metadata": {},
   "outputs": [],
   "source": [
    "categories={'local_authorities': 'categories',\n",
    " 'y_axis_allcat_rank': 'values',\n",
    " 'x_axis_imd_rank': 'values',\n",
    " 'lad_id': 'categories',\n",
    " 'country': 'categories',\n",
    " 'levelling_up_categorisation': 'categories',\n",
    " 'region': 'categories',\n",
    " 'supergroup_name': 'categories',\n",
    " 'quadrant': 'categories',\n",
    " 'label_2_highest_lowest': 'categories'}"
   ]
  },
  {
   "cell_type": "code",
   "execution_count": 34,
   "id": "3a0989c8",
   "metadata": {},
   "outputs": [
    {
     "name": "stdout",
     "output_type": "stream",
     "text": [
      "local_authorities\n",
      "y_axis_allcat_rank\n",
      "x_axis_imd_rank\n",
      "lad_id\n",
      "country\n",
      "levelling_up_categorisation\n",
      "region\n",
      "supergroup_name\n",
      "quadrant\n",
      "label_2_highest_lowest\n"
     ]
    }
   ],
   "source": [
    "series=[]\n",
    "for c in df.columns:\n",
    "    print(c)\n",
    "    dummy={}\n",
    "    dummy['name']=c\n",
    "    dummy['type']=categories[c]\n",
    "    if categories[c]=='value':\n",
    "        dummy['values']=[int(i) for i in df[c].values]\n",
    "    else:\n",
    "        dummy['values']=[str(i) for i in df[c].values]\n",
    "    series.append(dummy)"
   ]
  },
  {
   "cell_type": "code",
   "execution_count": 35,
   "id": "485aba16",
   "metadata": {},
   "outputs": [],
   "source": [
    "import json"
   ]
  },
  {
   "cell_type": "code",
   "execution_count": 39,
   "id": "44a4a21e",
   "metadata": {},
   "outputs": [
    {
     "data": {
      "text/plain": [
       "38487"
      ]
     },
     "execution_count": 39,
     "metadata": {},
     "output_type": "execute_result"
    }
   ],
   "source": [
    "open('data.js','w').write('export var data = '+json.dumps({'series':series}))"
   ]
  },
  {
   "cell_type": "code",
   "execution_count": 47,
   "id": "526cb785",
   "metadata": {},
   "outputs": [
    {
     "data": {
      "text/plain": [
       "0      quadrant 1\n",
       "1      quadrant 1\n",
       "2      quadrant 1\n",
       "3      quadrant 1\n",
       "4      quadrant 1\n",
       "          ...    \n",
       "306    quadrant 4\n",
       "307    quadrant 4\n",
       "308    quadrant 4\n",
       "309    quadrant 4\n",
       "310    quadrant 4\n",
       "Name: quadrant, Length: 311, dtype: object"
      ]
     },
     "execution_count": 47,
     "metadata": {},
     "output_type": "execute_result"
    }
   ],
   "source": [
    "df['quadrant']"
   ]
  }
 ],
 "metadata": {
  "kernelspec": {
   "display_name": "Python 3",
   "language": "python",
   "name": "python3"
  },
  "language_info": {
   "codemirror_mode": {
    "name": "ipython",
    "version": 3
   },
   "file_extension": ".py",
   "mimetype": "text/x-python",
   "name": "python",
   "nbconvert_exporter": "python",
   "pygments_lexer": "ipython3",
   "version": "3.8.8"
  }
 },
 "nbformat": 4,
 "nbformat_minor": 5
}
