{
 "cells": [
  {
   "cell_type": "code",
   "execution_count": 1,
   "metadata": {
    "collapsed": true
   },
   "outputs": [],
   "source": [
    "import pandas as pd\n",
    "from influxdb import DataFrameClient"
   ]
  },
  {
   "cell_type": "code",
   "execution_count": 6,
   "metadata": {
    "collapsed": true
   },
   "outputs": [],
   "source": [
    "user = 'root'\n",
    "password = 'root'\n",
    "dbname = 'base42'\n",
    "host='localhost'\n",
    "port=32769\n",
    "bsize = 5000 #batch size\n",
    "# Temporarily avoid line protocol time conversion issues #412, #426, #431.\n",
    "protocol = 'json'\n",
    "client = DataFrameClient(host, port, user, password, dbname)"
   ]
  },
  {
   "cell_type": "code",
   "execution_count": 7,
   "metadata": {},
   "outputs": [
    {
     "data": {
      "text/plain": [
       "ResultSet({'(u'databases', None)': [{u'name': u'_internal'}, {u'name': u'demodb'}, {u'name': u'base42'}]})"
      ]
     },
     "execution_count": 7,
     "metadata": {},
     "output_type": "execute_result"
    }
   ],
   "source": [
    "client.create_database(dbname)\n",
    "client.query(\"show databases\")"
   ]
  },
  {
   "cell_type": "code",
   "execution_count": 8,
   "metadata": {},
   "outputs": [
    {
     "name": "stdout",
     "output_type": "stream",
     "text": [
      "gas\n",
      "water\n",
      "electricity\n",
      "heating\n",
      "temperature\n"
     ]
    }
   ],
   "source": [
    "for measure in ['gas','water','electricity','heating','temperature']:\n",
    "    df=pd.read_csv('data/'+measure+'_ft.csv',parse_dates=True,index_col='ts').drop('measurement_unit',axis=1)\n",
    "    client.write_points(df, measure, protocol=protocol, tag_columns=['monitor_id'], field_columns=['measurement'], batch_size=bsize)\n",
    "    print(measure)"
   ]
  },
  {
   "cell_type": "code",
   "execution_count": null,
   "metadata": {
    "collapsed": true
   },
   "outputs": [],
   "source": [
    "print(\"Delete database: \" + dbname)\n",
    "client.drop_database(dbname)"
   ]
  }
 ],
 "metadata": {
  "kernelspec": {
   "display_name": "Python 2",
   "language": "python",
   "name": "python2"
  },
  "language_info": {
   "codemirror_mode": {
    "name": "ipython",
    "version": 2
   },
   "file_extension": ".py",
   "mimetype": "text/x-python",
   "name": "python",
   "nbconvert_exporter": "python",
   "pygments_lexer": "ipython2",
   "version": "2.7.14"
  }
 },
 "nbformat": 4,
 "nbformat_minor": 2
}
