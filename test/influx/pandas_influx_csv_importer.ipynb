{
 "cells": [
  {
   "cell_type": "code",
   "execution_count": 28,
   "metadata": {
    "collapsed": true
   },
   "outputs": [],
   "source": [
    "import pandas as pd\n",
    "from influxdb import DataFrameClient"
   ]
  },
  {
   "cell_type": "code",
   "execution_count": 42,
   "metadata": {},
   "outputs": [],
   "source": [
    "#user = 'root'\n",
    "#password = 'root'\n",
    "host='localhost'\n",
    "dbname='upp_bare_measure'\n",
    "port=34000\n",
    "bsize = 5000 #batch size\n",
    "protocol = 'json'\n",
    "#client = DataFrameClient(host, port, user, password, dbname)\n",
    "client = DataFrameClient(host, port,'','',dbname)"
   ]
  },
  {
   "cell_type": "code",
   "execution_count": 43,
   "metadata": {},
   "outputs": [
    {
     "data": {
      "text/plain": [
       "ResultSet({'(u'databases', None)': [{u'name': u'upp_bare_measure'}]})"
      ]
     },
     "execution_count": 43,
     "metadata": {},
     "output_type": "execute_result"
    }
   ],
   "source": [
    "client.create_database(dbname)\n",
    "client.query(\"show databases\")"
   ]
  },
  {
   "cell_type": "code",
   "execution_count": 44,
   "metadata": {},
   "outputs": [
    {
     "name": "stdout",
     "output_type": "stream",
     "text": [
      "gas\n",
      "water\n",
      "electricity\n"
     ]
    }
   ],
   "source": [
    "for measure in ['gas','water','electricity']:\n",
    "    df=pd.read_csv('data/'+measure+'_ft.csv',parse_dates=True,index_col='ts').drop('measurement_unit',axis=1)\n",
    "    df.columns=['id','value']\n",
    "    client.write_points(df, measure, protocol=protocol, tag_columns=['id'], field_columns=['value'], batch_size=bsize)\n",
    "    print(measure)"
   ]
  },
  {
   "cell_type": "code",
   "execution_count": 45,
   "metadata": {},
   "outputs": [
    {
     "data": {
      "text/plain": [
       "ResultSet({'(u'databases', None)': [{u'name': u'upp_bare_measure'}, {u'name': u'upp_bare_control'}]})"
      ]
     },
     "execution_count": 45,
     "metadata": {},
     "output_type": "execute_result"
    }
   ],
   "source": [
    "dbname='upp_bare_control'\n",
    "client = DataFrameClient(host, port,'','',dbname)\n",
    "client.create_database(dbname)\n",
    "client.query(\"show databases\")"
   ]
  },
  {
   "cell_type": "code",
   "execution_count": 46,
   "metadata": {},
   "outputs": [
    {
     "name": "stdout",
     "output_type": "stream",
     "text": [
      "heating\n",
      "temperature\n"
     ]
    }
   ],
   "source": [
    "for measure in ['heating','temperature']:\n",
    "    df=pd.read_csv('data/'+measure+'_ft.csv',parse_dates=True,index_col='ts').drop('measurement_unit',axis=1)\n",
    "    df.columns=['id','value']\n",
    "    client.write_points(df, measure, protocol=protocol, tag_columns=['id'], field_columns=['value'], batch_size=bsize)\n",
    "    print(measure)"
   ]
  },
  {
   "cell_type": "code",
   "execution_count": null,
   "metadata": {},
   "outputs": [],
   "source": [
    "print(\"Delete database: \" + 'upp_bare_measure')\n",
    "client.drop_database(dbname)"
   ]
  }
 ],
 "metadata": {
  "kernelspec": {
   "display_name": "Python 2",
   "language": "python",
   "name": "python2"
  },
  "language_info": {
   "codemirror_mode": {
    "name": "ipython",
    "version": 2
   },
   "file_extension": ".py",
   "mimetype": "text/x-python",
   "name": "python",
   "nbconvert_exporter": "python",
   "pygments_lexer": "ipython2",
   "version": "2.7.14"
  }
 },
 "nbformat": 4,
 "nbformat_minor": 2
}
