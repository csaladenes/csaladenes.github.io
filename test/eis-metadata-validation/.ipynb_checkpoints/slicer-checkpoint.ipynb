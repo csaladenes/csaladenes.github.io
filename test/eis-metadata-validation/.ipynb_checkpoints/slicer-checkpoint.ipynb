{
 "cells": [
  {
   "cell_type": "code",
   "execution_count": 1,
   "metadata": {
    "collapsed": true
   },
   "outputs": [],
   "source": [
    "import pandas as pd, json"
   ]
  },
  {
   "cell_type": "code",
   "execution_count": 2,
   "metadata": {
    "collapsed": true
   },
   "outputs": [],
   "source": [
    "df=pd.read_excel('MASTER PlanonLoggersAndMeters 17 10 16.xlsx',sheetname='Meters Sensors')"
   ]
  },
  {
   "cell_type": "code",
   "execution_count": 3,
   "metadata": {
    "collapsed": false
   },
   "outputs": [
    {
     "data": {
      "text/plain": [
       "Index(['Logger Asset Code', 'Asset Code', 'Description', 'Make', 'Model',\n",
       "       'Meter Units', 'Meter Pulse Value', 'Classification Group',\n",
       "       'Logger Channel', 'Utility Type', '??', 'Meter Type', 'Building Code',\n",
       "       'Building Name', 'Space', 'Additional Location Info', 'Tenant meter',\n",
       "       'Fiscal meter', 'Parent meter', 'Child meters', 'Communications type',\n",
       "       'Electrical panel ID'],\n",
       "      dtype='object')"
      ]
     },
     "execution_count": 3,
     "metadata": {},
     "output_type": "execute_result"
    }
   ],
   "source": [
    "df.columns"
   ]
  },
  {
   "cell_type": "code",
   "execution_count": 4,
   "metadata": {
    "collapsed": false
   },
   "outputs": [
    {
     "data": {
      "text/plain": [
       "1189"
      ]
     },
     "execution_count": 4,
     "metadata": {},
     "output_type": "execute_result"
    }
   ],
   "source": [
    "len(df['Utility Type'].dropna())"
   ]
  },
  {
   "cell_type": "code",
   "execution_count": 5,
   "metadata": {
    "collapsed": false
   },
   "outputs": [
    {
     "data": {
      "text/plain": [
       "4712"
      ]
     },
     "execution_count": 5,
     "metadata": {},
     "output_type": "execute_result"
    }
   ],
   "source": [
    "len(df['Meter Units'].dropna())"
   ]
  },
  {
   "cell_type": "code",
   "execution_count": 6,
   "metadata": {
    "collapsed": false
   },
   "outputs": [
    {
     "data": {
      "text/plain": [
       "926"
      ]
     },
     "execution_count": 6,
     "metadata": {},
     "output_type": "execute_result"
    }
   ],
   "source": [
    "len(df['Make'].dropna())"
   ]
  },
  {
   "cell_type": "code",
   "execution_count": 7,
   "metadata": {
    "collapsed": false
   },
   "outputs": [],
   "source": [
    "df=df[['Asset Code','Description','Classification Group','Utility Type','Meter Units','Make','Model']]"
   ]
  },
  {
   "cell_type": "code",
   "execution_count": 11,
   "metadata": {
    "collapsed": false
   },
   "outputs": [],
   "source": [
    "A=[]\n",
    "B=[]\n",
    "C=[]\n",
    "D=[]\n",
    "for i in df['Asset Code']:\n",
    "    if '/' in i:\n",
    "        a=i[:i.find('-')]\n",
    "        b=i[i.find('-')+1:i.find('/')]\n",
    "        c=i[i.find('/')+1:]\n",
    "    else: \n",
    "        d=i[i.find('-')+1:]\n",
    "        b=d[:d.find('-')]\n",
    "        c=d[d.find('-')+1:]\n",
    "    A.append(a)\n",
    "    B.append(b)\n",
    "    C.append(c)\n",
    "    D.append(a+'-'+b+'/'+c)"
   ]
  },
  {
   "cell_type": "code",
   "execution_count": 12,
   "metadata": {
    "collapsed": false
   },
   "outputs": [],
   "source": [
    "df['s']=1\n",
    "df['Asset Code']=D"
   ]
  },
  {
   "cell_type": "code",
   "execution_count": 13,
   "metadata": {
    "collapsed": false
   },
   "outputs": [],
   "source": [
    "df['A']=A\n",
    "df['B']=B\n",
    "df['C']=C"
   ]
  },
  {
   "cell_type": "code",
   "execution_count": 20,
   "metadata": {
    "collapsed": false
   },
   "outputs": [],
   "source": [
    "U=[]\n",
    "for i in df['Utility Type']:\n",
    "    if type(i)==str: U.append(i.strip())\n",
    "    else: U.append(i)\n",
    "df['Utility Type']=U"
   ]
  },
  {
   "cell_type": "code",
   "execution_count": 21,
   "metadata": {
    "collapsed": false
   },
   "outputs": [
    {
     "data": {
      "text/plain": [
       "Index(['Asset Code', 'Description', 'Classification Group', 'Utility Type',\n",
       "       'Meter Units', 'Make', 'Model', 's', 'A', 'B', 'C'],\n",
       "      dtype='object')"
      ]
     },
     "execution_count": 21,
     "metadata": {},
     "output_type": "execute_result"
    }
   ],
   "source": [
    "df.columns"
   ]
  },
  {
   "cell_type": "code",
   "execution_count": 22,
   "metadata": {
    "collapsed": false
   },
   "outputs": [],
   "source": [
    "df.fillna('NoData').to_csv('meters.csv')"
   ]
  },
  {
   "cell_type": "code",
   "execution_count": 25,
   "metadata": {
    "collapsed": false
   },
   "outputs": [
    {
     "data": {
      "text/plain": [
       "array([nan, 'Micronics', 'Sensus', 'Crompton', 'Schneider', ' ', 'HB',\n",
       "       'Selec', 'Ri Meter', 'Kamstrup', 'B Meters', 'Merlin Gerin',\n",
       "       'Danfoss', 'Inepro', 'Jet', 'IME', 'Entity', 'Delta',\n",
       "       'Carlo Gavazzi', 'ACTARIS', 'Schlumberger', 'Autometers', 'Elster',\n",
       "       'Actaris', 'Delta ', 'Landis', 'B Metersss', 'GWF', 'Nuovo Pignone',\n",
       "       'Socomec', 'Siemens', 'Northern Design', 'Common', 'Micronic',\n",
       "       'Meters UK', 'Integra', 'Schneider Electric', 'Micronics (Metrima)',\n",
       "       'JSM ', 'Micronics ', 'Kent', 'ND Metering Solutions', 'DMS',\n",
       "       'IMAC Systems Ltd', 'Contoil', 'SVM', 'GT4', 'GMT', 'Metrix',\n",
       "       'Instromet', 'B  Meters', 'Merlin', 'PoWoGaz', 'PR', 'Zenner',\n",
       "       'Itron', 'AquaMotion', 'Ri', 'Boss', 'GasTube', 'Sontex', 'Powagaz',\n",
       "       'BU.G.I (meters) Ltd.', 'WRAS', 'Scheider Electric', 'NWM', 'ABB',\n",
       "       'Socam', 'Nothern Design', 'IME ', 'Square D', 'AHS', 'PowoGaz',\n",
       "       'B-H', 'Socomec ', 'EATON', 'DeltaFlow', 'Autometer', 'EMDI',\n",
       "       'Landis Gyr+'], dtype=object)"
      ]
     },
     "execution_count": 25,
     "metadata": {},
     "output_type": "execute_result"
    }
   ],
   "source": [
    "df['Make'].unique()"
   ]
  }
 ],
 "metadata": {
  "kernelspec": {
   "display_name": "Python [conda env:python3]",
   "language": "python",
   "name": "conda-env-python3-py"
  },
  "language_info": {
   "codemirror_mode": {
    "name": "ipython",
    "version": 3
   },
   "file_extension": ".py",
   "mimetype": "text/x-python",
   "name": "python",
   "nbconvert_exporter": "python",
   "pygments_lexer": "ipython3",
   "version": "3.5.3"
  }
 },
 "nbformat": 4,
 "nbformat_minor": 2
}
