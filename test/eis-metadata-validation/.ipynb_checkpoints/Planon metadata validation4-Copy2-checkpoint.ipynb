{
 "cells": [
  {
   "cell_type": "markdown",
   "metadata": {},
   "source": [
    "# EIS metadata validation script\n",
    "Used to validate Planon output with spreadsheet input"
   ]
  },
  {
   "cell_type": "markdown",
   "metadata": {},
   "source": [
    "## 1. Data import"
   ]
  },
  {
   "cell_type": "code",
   "execution_count": 1,
   "metadata": {
    "collapsed": true
   },
   "outputs": [],
   "source": [
    "import pandas as pd\n",
    "import numpy as np\n",
    "import matplotlib.pyplot as plt\n",
    "%matplotlib inline"
   ]
  },
  {
   "cell_type": "markdown",
   "metadata": {},
   "source": [
    "Read data. There are two datasets: Planon and Master. The latter is the EIS data nomencalture that was created. Master is made up of two subsets: loggers and meters. Loggers are sometimes called controllers and meters are sometimes called sensors. In rare cases meters or sensors are also called channels."
   ]
  },
  {
   "cell_type": "code",
   "execution_count": 2,
   "metadata": {
    "collapsed": false
   },
   "outputs": [],
   "source": [
    "planon=pd.read_excel('EIS Assets.xlsx',index_col = 'Code')\n",
    "master_loggerscontrollers = pd.read_csv('LoggersControllers.csv', index_col = 'Asset Code')\n",
    "master_meterssensors = pd.read_csv('MetersSensors.csv', encoding = 'macroman', index_col = 'Asset Code')\n",
    "planon['Code']=planon.index\n",
    "master_loggerscontrollers['Code']=master_loggerscontrollers.index\n",
    "master_meterssensors['Code']=master_meterssensors.index"
   ]
  },
  {
   "cell_type": "markdown",
   "metadata": {},
   "source": [
    "Unify index, caps everything and strip of trailing spaces."
   ]
  },
  {
   "cell_type": "code",
   "execution_count": 3,
   "metadata": {
    "collapsed": false
   },
   "outputs": [],
   "source": [
    "planon.index=[str(i).upper().strip() for i in planon.index]\n",
    "master_loggerscontrollers.index=[str(i).upper().strip() for i in master_loggerscontrollers.index]\n",
    "master_meterssensors.index=[str(i).upper().strip() for i in master_meterssensors.index]"
   ]
  },
  {
   "cell_type": "markdown",
   "metadata": {},
   "source": [
    "Drop duplicates (shouldn't be any)"
   ]
  },
  {
   "cell_type": "code",
   "execution_count": 4,
   "metadata": {
    "collapsed": true
   },
   "outputs": [],
   "source": [
    "planon.drop_duplicates(inplace=True)\n",
    "master_loggerscontrollers.drop_duplicates(inplace=True)\n",
    "master_meterssensors.drop_duplicates(inplace=True)"
   ]
  },
  {
   "cell_type": "markdown",
   "metadata": {},
   "source": [
    "Split Planon import into loggers and meters  \n",
    "Drop duplicates (shouldn't be any)"
   ]
  },
  {
   "cell_type": "code",
   "execution_count": 5,
   "metadata": {
    "collapsed": false
   },
   "outputs": [
    {
     "name": "stderr",
     "output_type": "stream",
     "text": [
      "C:\\Anaconda2\\envs\\python3\\lib\\site-packages\\pandas\\util\\decorators.py:91: SettingWithCopyWarning: \n",
      "A value is trying to be set on a copy of a slice from a DataFrame\n",
      "\n",
      "See the caveats in the documentation: http://pandas.pydata.org/pandas-docs/stable/indexing.html#indexing-view-versus-copy\n",
      "  return func(*args, **kwargs)\n"
     ]
    }
   ],
   "source": [
    "# Split the Planon file into 2, one for loggers & controllers, and one for meters & sensors.\n",
    "planon_loggerscontrollers = planon.loc[(planon['Classification Group'] == 'EN.EN4 BMS Controller') | (planon['Classification Group'] == 'EN.EN1 Data Logger')]\n",
    "planon_meterssensors = planon.loc[(planon['Classification Group'] == 'EN.EN2 Energy Meter') | (planon['Classification Group'] == 'EN.EN3 Energy Sensor')]\n",
    "planon_loggerscontrollers.drop_duplicates(inplace=True)\n",
    "planon_meterssensors.drop_duplicates(inplace=True)"
   ]
  },
  {
   "cell_type": "markdown",
   "metadata": {},
   "source": [
    "Index unique? show number of duplicates in index"
   ]
  },
  {
   "cell_type": "code",
   "execution_count": 6,
   "metadata": {
    "collapsed": false
   },
   "outputs": [
    {
     "data": {
      "text/plain": [
       "0"
      ]
     },
     "execution_count": 6,
     "metadata": {},
     "output_type": "execute_result"
    }
   ],
   "source": [
    "len(planon_loggerscontrollers.index[planon_loggerscontrollers.index.duplicated()])"
   ]
  },
  {
   "cell_type": "code",
   "execution_count": 7,
   "metadata": {
    "collapsed": false
   },
   "outputs": [
    {
     "data": {
      "text/plain": [
       "3089"
      ]
     },
     "execution_count": 7,
     "metadata": {},
     "output_type": "execute_result"
    }
   ],
   "source": [
    "len(planon_meterssensors.index[planon_meterssensors.index.duplicated()])"
   ]
  },
  {
   "cell_type": "markdown",
   "metadata": {},
   "source": [
    "Meters are not unique. This is becasue of the spaces served. This is ok for now, we will deal with duplicates at the comparison stage. Same is true for loggers - in the unlikely event that there are duplicates in the future."
   ]
  },
  {
   "cell_type": "code",
   "execution_count": 8,
   "metadata": {
    "collapsed": false
   },
   "outputs": [
    {
     "data": {
      "text/html": [
       "<div>\n",
       "<table border=\"1\" class=\"dataframe\">\n",
       "  <thead>\n",
       "    <tr style=\"text-align: right;\">\n",
       "      <th></th>\n",
       "      <th>BuildingNo.</th>\n",
       "      <th>Building</th>\n",
       "      <th>Locations.Space.Space number</th>\n",
       "      <th>Space Name</th>\n",
       "      <th>Additional Location Info</th>\n",
       "      <th>Description</th>\n",
       "      <th>Classification Group</th>\n",
       "      <th>Record</th>\n",
       "      <th>HVAC Ref</th>\n",
       "      <th>Element Description</th>\n",
       "      <th>...</th>\n",
       "      <th>Logger SIM</th>\n",
       "      <th>Meter Pulse Value</th>\n",
       "      <th>Meter Units</th>\n",
       "      <th>Meter Capacity</th>\n",
       "      <th>Network Point ID</th>\n",
       "      <th>Tenant Meter.Name</th>\n",
       "      <th>Fiscal Meter.Name</th>\n",
       "      <th>EIS Space.Space number</th>\n",
       "      <th>Utility Type.Name</th>\n",
       "      <th>Code</th>\n",
       "    </tr>\n",
       "  </thead>\n",
       "  <tbody>\n",
       "    <tr>\n",
       "      <th>AP000-L01/M001</th>\n",
       "      <td>AP000</td>\n",
       "      <td>Alexandra Park</td>\n",
       "      <td>NaN</td>\n",
       "      <td>NaN</td>\n",
       "      <td>NaN</td>\n",
       "      <td>NaN</td>\n",
       "      <td>EN.EN2 Energy Meter</td>\n",
       "      <td>NaN</td>\n",
       "      <td>NaN</td>\n",
       "      <td>NaN</td>\n",
       "      <td>...</td>\n",
       "      <td>NaN</td>\n",
       "      <td>NaN</td>\n",
       "      <td>NaN</td>\n",
       "      <td>NaN</td>\n",
       "      <td>NaN</td>\n",
       "      <td>No</td>\n",
       "      <td>No</td>\n",
       "      <td>NaN</td>\n",
       "      <td>NaN</td>\n",
       "      <td>AP000-L01/M001</td>\n",
       "    </tr>\n",
       "    <tr>\n",
       "      <th>AP000-L02/M001</th>\n",
       "      <td>AP000</td>\n",
       "      <td>Alexandra Park</td>\n",
       "      <td>NaN</td>\n",
       "      <td>NaN</td>\n",
       "      <td>NaN</td>\n",
       "      <td>Graduate House 1-11</td>\n",
       "      <td>EN.EN2 Energy Meter</td>\n",
       "      <td>NaN</td>\n",
       "      <td>NaN</td>\n",
       "      <td>NaN</td>\n",
       "      <td>...</td>\n",
       "      <td>NaN</td>\n",
       "      <td>NaN</td>\n",
       "      <td>NaN</td>\n",
       "      <td>NaN</td>\n",
       "      <td>NaN</td>\n",
       "      <td>No</td>\n",
       "      <td>No</td>\n",
       "      <td>NaN</td>\n",
       "      <td>NaN</td>\n",
       "      <td>AP000-L02/M001</td>\n",
       "    </tr>\n",
       "    <tr>\n",
       "      <th>AP000-L02/M002</th>\n",
       "      <td>AP000</td>\n",
       "      <td>Alexandra Park</td>\n",
       "      <td>NaN</td>\n",
       "      <td>NaN</td>\n",
       "      <td>NaN</td>\n",
       "      <td>Alex Park Main</td>\n",
       "      <td>EN.EN2 Energy Meter</td>\n",
       "      <td>NaN</td>\n",
       "      <td>NaN</td>\n",
       "      <td>NaN</td>\n",
       "      <td>...</td>\n",
       "      <td>NaN</td>\n",
       "      <td>NaN</td>\n",
       "      <td>NaN</td>\n",
       "      <td>NaN</td>\n",
       "      <td>NaN</td>\n",
       "      <td>No</td>\n",
       "      <td>No</td>\n",
       "      <td>NaN</td>\n",
       "      <td>NaN</td>\n",
       "      <td>AP000-L02/M002</td>\n",
       "    </tr>\n",
       "  </tbody>\n",
       "</table>\n",
       "<p>3 rows × 30 columns</p>\n",
       "</div>"
      ],
      "text/plain": [
       "               BuildingNo.        Building Locations.Space.Space number  \\\n",
       "AP000-L01/M001       AP000  Alexandra Park                          NaN   \n",
       "AP000-L02/M001       AP000  Alexandra Park                          NaN   \n",
       "AP000-L02/M002       AP000  Alexandra Park                          NaN   \n",
       "\n",
       "               Space Name  Additional Location Info          Description  \\\n",
       "AP000-L01/M001        NaN                       NaN                  NaN   \n",
       "AP000-L02/M001        NaN                       NaN  Graduate House 1-11   \n",
       "AP000-L02/M002        NaN                       NaN       Alex Park Main   \n",
       "\n",
       "               Classification Group  Record  HVAC Ref  Element Description  \\\n",
       "AP000-L01/M001  EN.EN2 Energy Meter     NaN       NaN                  NaN   \n",
       "AP000-L02/M001  EN.EN2 Energy Meter     NaN       NaN                  NaN   \n",
       "AP000-L02/M002  EN.EN2 Energy Meter     NaN       NaN                  NaN   \n",
       "\n",
       "                     ...        Logger SIM Meter Pulse Value Meter Units  \\\n",
       "AP000-L01/M001       ...               NaN               NaN         NaN   \n",
       "AP000-L02/M001       ...               NaN               NaN         NaN   \n",
       "AP000-L02/M002       ...               NaN               NaN         NaN   \n",
       "\n",
       "               Meter Capacity  Network Point ID  Tenant Meter.Name  \\\n",
       "AP000-L01/M001            NaN               NaN                 No   \n",
       "AP000-L02/M001            NaN               NaN                 No   \n",
       "AP000-L02/M002            NaN               NaN                 No   \n",
       "\n",
       "                Fiscal Meter.Name EIS Space.Space number  Utility Type.Name  \\\n",
       "AP000-L01/M001                 No                    NaN                NaN   \n",
       "AP000-L02/M001                 No                    NaN                NaN   \n",
       "AP000-L02/M002                 No                    NaN                NaN   \n",
       "\n",
       "                          Code  \n",
       "AP000-L01/M001  AP000-L01/M001  \n",
       "AP000-L02/M001  AP000-L02/M001  \n",
       "AP000-L02/M002  AP000-L02/M002  \n",
       "\n",
       "[3 rows x 30 columns]"
      ]
     },
     "execution_count": 8,
     "metadata": {},
     "output_type": "execute_result"
    }
   ],
   "source": [
    "planon_meterssensors.head(3)"
   ]
  },
  {
   "cell_type": "markdown",
   "metadata": {},
   "source": [
    "## 2. Validation"
   ]
  },
  {
   "cell_type": "markdown",
   "metadata": {},
   "source": [
    "Create list of all buildings present in Planon export. These are buildings to check the data against from Master."
   ]
  },
  {
   "cell_type": "code",
   "execution_count": 9,
   "metadata": {
    "collapsed": false
   },
   "outputs": [
    {
     "data": {
      "text/plain": [
       "{'AP000',\n",
       " 'AP001',\n",
       " 'AP009',\n",
       " 'AP010',\n",
       " 'AP011',\n",
       " 'AP057',\n",
       " 'AP080',\n",
       " 'AP081',\n",
       " 'EX001',\n",
       " 'MC000',\n",
       " 'MC001',\n",
       " 'MC003',\n",
       " 'MC007',\n",
       " 'MC008',\n",
       " 'MC010',\n",
       " 'MC011',\n",
       " 'MC013',\n",
       " 'MC014',\n",
       " 'MC029',\n",
       " 'MC030',\n",
       " 'MC031',\n",
       " 'MC032',\n",
       " 'MC033',\n",
       " 'MC043',\n",
       " 'MC044',\n",
       " 'MC045',\n",
       " 'MC046',\n",
       " 'MC047',\n",
       " 'MC048',\n",
       " 'MC050',\n",
       " 'MC051',\n",
       " 'MC053',\n",
       " 'MC055',\n",
       " 'MC061',\n",
       " 'MC062',\n",
       " 'MC063',\n",
       " 'MC064',\n",
       " 'MC065',\n",
       " 'MC066',\n",
       " 'MC067',\n",
       " 'MC068',\n",
       " 'MC069',\n",
       " 'MC070',\n",
       " 'MC071',\n",
       " 'MC072',\n",
       " 'MC075',\n",
       " 'MC076',\n",
       " 'MC077',\n",
       " 'MC078',\n",
       " 'MC083',\n",
       " 'MC095',\n",
       " 'MC099',\n",
       " 'MC102',\n",
       " 'MC103',\n",
       " 'MC125',\n",
       " 'MC126',\n",
       " 'MC128',\n",
       " 'MC129',\n",
       " 'MC131',\n",
       " 'MC134',\n",
       " 'MC138',\n",
       " 'MC139',\n",
       " 'MC140',\n",
       " 'MC141',\n",
       " 'MC171',\n",
       " 'MC181',\n",
       " 'MC197',\n",
       " 'MC198',\n",
       " 'MC199',\n",
       " 'MC200',\n",
       " 'MC202',\n",
       " 'MC203',\n",
       " 'MC204',\n",
       " 'MC207',\n",
       " 'MC208',\n",
       " 'MC210',\n",
       " 'MC211',\n",
       " 'OC004',\n",
       " 'OC005',\n",
       " 'OC006'}"
      ]
     },
     "execution_count": 9,
     "metadata": {},
     "output_type": "execute_result"
    }
   ],
   "source": [
    "buildings=set(planon_meterssensors['BuildingNo.'])\n",
    "buildings"
   ]
  },
  {
   "cell_type": "code",
   "execution_count": 10,
   "metadata": {
    "collapsed": false
   },
   "outputs": [
    {
     "data": {
      "text/plain": [
       "80"
      ]
     },
     "execution_count": 10,
     "metadata": {},
     "output_type": "execute_result"
    }
   ],
   "source": [
    "len(buildings)"
   ]
  },
  {
   "cell_type": "markdown",
   "metadata": {},
   "source": [
    "### 2.1. Meters"
   ]
  },
  {
   "cell_type": "markdown",
   "metadata": {},
   "source": [
    "Create dataframe slice for validation from `master_meterssensors` where the only the buildings located in `buildings` are contained. Save this new slice into `master_meterssensors_for_validation`. This is done by creating sub-slices of the dataframe for each building, then concatenating them all together."
   ]
  },
  {
   "cell_type": "code",
   "execution_count": 11,
   "metadata": {
    "collapsed": false
   },
   "outputs": [
    {
     "data": {
      "text/html": [
       "<div>\n",
       "<table border=\"1\" class=\"dataframe\">\n",
       "  <thead>\n",
       "    <tr style=\"text-align: right;\">\n",
       "      <th></th>\n",
       "      <th>Logger Asset Code</th>\n",
       "      <th>Description</th>\n",
       "      <th>Make</th>\n",
       "      <th>Model</th>\n",
       "      <th>Meter Units</th>\n",
       "      <th>Meter Pulse Value</th>\n",
       "      <th>Classification Group</th>\n",
       "      <th>Logger Channel</th>\n",
       "      <th>Utility Type</th>\n",
       "      <th>??</th>\n",
       "      <th>...</th>\n",
       "      <th>Building Name</th>\n",
       "      <th>Space</th>\n",
       "      <th>Additional Location Info</th>\n",
       "      <th>Tenant meter</th>\n",
       "      <th>Fiscal meter</th>\n",
       "      <th>Parent meter</th>\n",
       "      <th>Child meters</th>\n",
       "      <th>Communications type</th>\n",
       "      <th>Electrical panel ID</th>\n",
       "      <th>Code</th>\n",
       "    </tr>\n",
       "  </thead>\n",
       "  <tbody>\n",
       "    <tr>\n",
       "      <th>MC139-L01/M001</th>\n",
       "      <td>050157AC6600</td>\n",
       "      <td>Sub No.9 Transformer  No.1</td>\n",
       "      <td>Carlo Gavazzi</td>\n",
       "      <td>EM24</td>\n",
       "      <td>kWh</td>\n",
       "      <td>1.0</td>\n",
       "      <td>Energy meter</td>\n",
       "      <td>1</td>\n",
       "      <td>Electricity</td>\n",
       "      <td>NaN</td>\n",
       "      <td>...</td>\n",
       "      <td>Sub Station 9</td>\n",
       "      <td>NaN</td>\n",
       "      <td>Graduate Field</td>\n",
       "      <td>0.0</td>\n",
       "      <td>0.0</td>\n",
       "      <td>NaN</td>\n",
       "      <td>NaN</td>\n",
       "      <td>NaN</td>\n",
       "      <td>NaN</td>\n",
       "      <td>MC139-L01/M001</td>\n",
       "    </tr>\n",
       "    <tr>\n",
       "      <th>MC139-L01/M002</th>\n",
       "      <td>050157AC6600</td>\n",
       "      <td>Sub No.9 Transformer  No.2</td>\n",
       "      <td>Carlo Gavazzi</td>\n",
       "      <td>EM24</td>\n",
       "      <td>kWh</td>\n",
       "      <td>1.0</td>\n",
       "      <td>Energy meter</td>\n",
       "      <td>2</td>\n",
       "      <td>Electricity</td>\n",
       "      <td>NaN</td>\n",
       "      <td>...</td>\n",
       "      <td>Sub Station 9</td>\n",
       "      <td>NaN</td>\n",
       "      <td>Graduate Field</td>\n",
       "      <td>0.0</td>\n",
       "      <td>0.0</td>\n",
       "      <td>NaN</td>\n",
       "      <td>NaN</td>\n",
       "      <td>NaN</td>\n",
       "      <td>NaN</td>\n",
       "      <td>MC139-L01/M002</td>\n",
       "    </tr>\n",
       "  </tbody>\n",
       "</table>\n",
       "<p>2 rows × 22 columns</p>\n",
       "</div>"
      ],
      "text/plain": [
       "               Logger Asset Code                 Description           Make  \\\n",
       "MC139-L01/M001      050157AC6600  Sub No.9 Transformer  No.1  Carlo Gavazzi   \n",
       "MC139-L01/M002      050157AC6600  Sub No.9 Transformer  No.2  Carlo Gavazzi   \n",
       "\n",
       "               Model Meter Units  Meter Pulse Value Classification Group  \\\n",
       "MC139-L01/M001  EM24         kWh                1.0         Energy meter   \n",
       "MC139-L01/M002  EM24         kWh                1.0         Energy meter   \n",
       "\n",
       "               Logger Channel Utility Type  ??       ...        Building Name  \\\n",
       "MC139-L01/M001              1  Electricity NaN       ...        Sub Station 9   \n",
       "MC139-L01/M002              2  Electricity NaN       ...        Sub Station 9   \n",
       "\n",
       "               Space Additional Location Info Tenant meter Fiscal meter  \\\n",
       "MC139-L01/M001   NaN           Graduate Field          0.0          0.0   \n",
       "MC139-L01/M002   NaN           Graduate Field          0.0          0.0   \n",
       "\n",
       "                Parent meter  Child meters Communications type  \\\n",
       "MC139-L01/M001           NaN           NaN                 NaN   \n",
       "MC139-L01/M002           NaN           NaN                 NaN   \n",
       "\n",
       "                Electrical panel ID            Code  \n",
       "MC139-L01/M001                  NaN  MC139-L01/M001  \n",
       "MC139-L01/M002                  NaN  MC139-L01/M002  \n",
       "\n",
       "[2 rows x 22 columns]"
      ]
     },
     "execution_count": 11,
     "metadata": {},
     "output_type": "execute_result"
    }
   ],
   "source": [
    "master_meterssensors_for_validation = \\\n",
    "    pd.concat([master_meterssensors.loc[master_meterssensors['Building Code'] == building] \\\n",
    "           for building in buildings])\n",
    "master_meterssensors_for_validation.head(2)"
   ]
  },
  {
   "cell_type": "code",
   "execution_count": 12,
   "metadata": {
    "collapsed": false
   },
   "outputs": [
    {
     "data": {
      "text/plain": [
       "Logger Asset Code           {05937EE0-58E6-42F3-B6BD-A180D9634B6C}\n",
       "Description                                            Function 15\n",
       "Make                                                           NaN\n",
       "Model                                                          NaN\n",
       "Meter Units                                                    NaN\n",
       "Meter Pulse Value                                              NaN\n",
       "Classification Group                                 Energy sensor\n",
       "Logger Channel                                                 F15\n",
       "Utility Type                                                   NaN\n",
       "??                                                             NaN\n",
       "Meter Type                                                     NaN\n",
       "Building Code                                                MC202\n",
       "Building Name                              Charles Carter Building\n",
       "Space                                                          NaN\n",
       "Additional Location Info                                       NaN\n",
       "Tenant meter                                                     0\n",
       "Fiscal meter                                                     0\n",
       "Parent meter                                                   NaN\n",
       "Child meters                                                   NaN\n",
       "Communications type                                            NaN\n",
       "Electrical panel ID                                            NaN\n",
       "Code                                                 MC202-B15/F15\n",
       "Name: MC202-B15/F15, dtype: object"
      ]
     },
     "execution_count": 12,
     "metadata": {},
     "output_type": "execute_result"
    }
   ],
   "source": [
    "master_meterssensors_for_validation.loc['MC202-B15/F15']"
   ]
  },
  {
   "cell_type": "code",
   "execution_count": 13,
   "metadata": {
    "collapsed": false
   },
   "outputs": [
    {
     "data": {
      "text/html": [
       "<div>\n",
       "<table border=\"1\" class=\"dataframe\">\n",
       "  <thead>\n",
       "    <tr style=\"text-align: right;\">\n",
       "      <th></th>\n",
       "      <th>Logger Asset Code</th>\n",
       "      <th>Description</th>\n",
       "      <th>Make</th>\n",
       "      <th>Model</th>\n",
       "      <th>Meter Units</th>\n",
       "      <th>Meter Pulse Value</th>\n",
       "      <th>Classification Group</th>\n",
       "      <th>Logger Channel</th>\n",
       "      <th>Utility Type</th>\n",
       "      <th>??</th>\n",
       "      <th>...</th>\n",
       "      <th>Building Name</th>\n",
       "      <th>Space</th>\n",
       "      <th>Additional Location Info</th>\n",
       "      <th>Tenant meter</th>\n",
       "      <th>Fiscal meter</th>\n",
       "      <th>Parent meter</th>\n",
       "      <th>Child meters</th>\n",
       "      <th>Communications type</th>\n",
       "      <th>Electrical panel ID</th>\n",
       "      <th>Code</th>\n",
       "    </tr>\n",
       "  </thead>\n",
       "  <tbody>\n",
       "    <tr>\n",
       "      <th>MC055-B01/C1</th>\n",
       "      <td>{6BF82177-CB8B-4774-9B9C-0008202C0CE8}</td>\n",
       "      <td>Virtual CNC 1</td>\n",
       "      <td>NaN</td>\n",
       "      <td>NaN</td>\n",
       "      <td>NaN</td>\n",
       "      <td>NaN</td>\n",
       "      <td>Energy sensor</td>\n",
       "      <td>C1</td>\n",
       "      <td>NaN</td>\n",
       "      <td>NaN</td>\n",
       "      <td>...</td>\n",
       "      <td>Furness Residences</td>\n",
       "      <td>NaN</td>\n",
       "      <td>NaN</td>\n",
       "      <td>0.0</td>\n",
       "      <td>0.0</td>\n",
       "      <td>NaN</td>\n",
       "      <td>NaN</td>\n",
       "      <td>NaN</td>\n",
       "      <td>NaN</td>\n",
       "      <td>MC055-B01/C1</td>\n",
       "    </tr>\n",
       "    <tr>\n",
       "      <th>MC055-B01/D1</th>\n",
       "      <td>{6BF82177-CB8B-4774-9B9C-0008202C0CE8}</td>\n",
       "      <td>Heating Pumps 1 &amp;amp; 2</td>\n",
       "      <td>NaN</td>\n",
       "      <td>NaN</td>\n",
       "      <td>NaN</td>\n",
       "      <td>NaN</td>\n",
       "      <td>Energy sensor</td>\n",
       "      <td>D1</td>\n",
       "      <td>NaN</td>\n",
       "      <td>NaN</td>\n",
       "      <td>...</td>\n",
       "      <td>Furness Residences</td>\n",
       "      <td>NaN</td>\n",
       "      <td>NaN</td>\n",
       "      <td>0.0</td>\n",
       "      <td>0.0</td>\n",
       "      <td>NaN</td>\n",
       "      <td>NaN</td>\n",
       "      <td>NaN</td>\n",
       "      <td>NaN</td>\n",
       "      <td>MC055-B01/D1</td>\n",
       "    </tr>\n",
       "  </tbody>\n",
       "</table>\n",
       "<p>2 rows × 22 columns</p>\n",
       "</div>"
      ],
      "text/plain": [
       "                                   Logger Asset Code              Description  \\\n",
       "MC055-B01/C1  {6BF82177-CB8B-4774-9B9C-0008202C0CE8}            Virtual CNC 1   \n",
       "MC055-B01/D1  {6BF82177-CB8B-4774-9B9C-0008202C0CE8}  Heating Pumps 1 &amp; 2   \n",
       "\n",
       "             Make Model Meter Units  Meter Pulse Value Classification Group  \\\n",
       "MC055-B01/C1  NaN   NaN         NaN                NaN        Energy sensor   \n",
       "MC055-B01/D1  NaN   NaN         NaN                NaN        Energy sensor   \n",
       "\n",
       "             Logger Channel Utility Type  ??      ...       \\\n",
       "MC055-B01/C1             C1          NaN NaN      ...        \n",
       "MC055-B01/D1             D1          NaN NaN      ...        \n",
       "\n",
       "                   Building Name Space Additional Location Info Tenant meter  \\\n",
       "MC055-B01/C1  Furness Residences   NaN                      NaN          0.0   \n",
       "MC055-B01/D1  Furness Residences   NaN                      NaN          0.0   \n",
       "\n",
       "             Fiscal meter  Parent meter  Child meters Communications type  \\\n",
       "MC055-B01/C1          0.0           NaN           NaN                 NaN   \n",
       "MC055-B01/D1          0.0           NaN           NaN                 NaN   \n",
       "\n",
       "              Electrical panel ID          Code  \n",
       "MC055-B01/C1                  NaN  MC055-B01/C1  \n",
       "MC055-B01/D1                  NaN  MC055-B01/D1  \n",
       "\n",
       "[2 rows x 22 columns]"
      ]
     },
     "execution_count": 13,
     "metadata": {},
     "output_type": "execute_result"
    }
   ],
   "source": [
    "#alternative method\n",
    "master_meterssensors_for_validation2 = \\\n",
    "    master_meterssensors[master_meterssensors['Building Code'].isin(buildings)]\n",
    "master_meterssensors_for_validation2.head(2)"
   ]
  },
  {
   "cell_type": "markdown",
   "metadata": {},
   "source": [
    "Planon sensors are not unique because of the spaces served convention in the two data architectures. The Planon architecture devotes a new line for each space served - hence the not unique index. The Master architecture lists all the spaces only once, as a list, therefore it has a unique index. We will need to take this into account and create matching dataframe out of planon for comparison, with a unique index."
   ]
  },
  {
   "cell_type": "code",
   "execution_count": 14,
   "metadata": {
    "collapsed": false,
    "scrolled": true
   },
   "outputs": [
    {
     "data": {
      "text/plain": [
       "30539"
      ]
     },
     "execution_count": 14,
     "metadata": {},
     "output_type": "execute_result"
    }
   ],
   "source": [
    "len(master_meterssensors_for_validation)"
   ]
  },
  {
   "cell_type": "code",
   "execution_count": 15,
   "metadata": {
    "collapsed": false
   },
   "outputs": [
    {
     "data": {
      "text/plain": [
       "29623"
      ]
     },
     "execution_count": 15,
     "metadata": {},
     "output_type": "execute_result"
    }
   ],
   "source": [
    "len(planon_meterssensors)-len(planon_meterssensors.index[planon_meterssensors.index.duplicated()])"
   ]
  },
  {
   "cell_type": "markdown",
   "metadata": {},
   "source": [
    "Sort datasets after index for easier comparison."
   ]
  },
  {
   "cell_type": "code",
   "execution_count": 16,
   "metadata": {
    "collapsed": false
   },
   "outputs": [
    {
     "name": "stderr",
     "output_type": "stream",
     "text": [
      "C:\\Anaconda2\\envs\\python3\\lib\\site-packages\\ipykernel\\__main__.py:2: SettingWithCopyWarning: \n",
      "A value is trying to be set on a copy of a slice from a DataFrame\n",
      "\n",
      "See the caveats in the documentation: http://pandas.pydata.org/pandas-docs/stable/indexing.html#indexing-view-versus-copy\n",
      "  from ipykernel import kernelapp as app\n"
     ]
    }
   ],
   "source": [
    "master_meterssensors_for_validation.sort_index(inplace=True)\n",
    "planon_meterssensors.sort_index(inplace=True)"
   ]
  },
  {
   "cell_type": "markdown",
   "metadata": {},
   "source": [
    "#### 2.1.1 Slicing of meters to  only certain columns of comparison"
   ]
  },
  {
   "cell_type": "code",
   "execution_count": 17,
   "metadata": {
    "collapsed": false,
    "scrolled": false
   },
   "outputs": [
    {
     "data": {
      "text/html": [
       "<div>\n",
       "<table border=\"1\" class=\"dataframe\">\n",
       "  <thead>\n",
       "    <tr style=\"text-align: right;\">\n",
       "      <th></th>\n",
       "      <th>AP000-L01/M001</th>\n",
       "      <th>AP000-L02/M001</th>\n",
       "      <th>AP000-L02/M002</th>\n",
       "      <th>AP000-L03/M001</th>\n",
       "      <th>AP000-L03/M002</th>\n",
       "      <th>AP001-L01/M001</th>\n",
       "      <th>AP001-L01/M002</th>\n",
       "      <th>AP001-L01/M003</th>\n",
       "      <th>AP001-L01/M004</th>\n",
       "      <th>AP001-L01/M005</th>\n",
       "      <th>...</th>\n",
       "      <th>OC006-B01/W4</th>\n",
       "      <th>OC006-B01/W5</th>\n",
       "      <th>OC006-B01/Y1</th>\n",
       "      <th>OC006-B01/Y2</th>\n",
       "      <th>OC006-B01/Y3</th>\n",
       "      <th>OC006-B01/Y4</th>\n",
       "      <th>OC006-B01/Y5</th>\n",
       "      <th>OC006-B01/Y6</th>\n",
       "      <th>OC006-B01/Z1</th>\n",
       "      <th>OC006-B01/Z2</th>\n",
       "    </tr>\n",
       "  </thead>\n",
       "  <tbody>\n",
       "    <tr>\n",
       "      <th>BuildingNo.</th>\n",
       "      <td>AP000</td>\n",
       "      <td>AP000</td>\n",
       "      <td>AP000</td>\n",
       "      <td>AP000</td>\n",
       "      <td>AP000</td>\n",
       "      <td>AP001</td>\n",
       "      <td>AP001</td>\n",
       "      <td>AP001</td>\n",
       "      <td>AP001</td>\n",
       "      <td>AP001</td>\n",
       "      <td>...</td>\n",
       "      <td>OC006</td>\n",
       "      <td>OC006</td>\n",
       "      <td>OC006</td>\n",
       "      <td>OC006</td>\n",
       "      <td>OC006</td>\n",
       "      <td>OC006</td>\n",
       "      <td>OC006</td>\n",
       "      <td>OC006</td>\n",
       "      <td>OC006</td>\n",
       "      <td>OC006</td>\n",
       "    </tr>\n",
       "    <tr>\n",
       "      <th>Building</th>\n",
       "      <td>Alexandra Park</td>\n",
       "      <td>Alexandra Park</td>\n",
       "      <td>Alexandra Park</td>\n",
       "      <td>Alexandra Park</td>\n",
       "      <td>Alexandra Park</td>\n",
       "      <td>House 01 - Bassenthwaite, Graduate College</td>\n",
       "      <td>House 01 - Bassenthwaite, Graduate College</td>\n",
       "      <td>House 01 - Bassenthwaite, Graduate College</td>\n",
       "      <td>House 01 - Bassenthwaite, Graduate College</td>\n",
       "      <td>House 01 - Bassenthwaite, Graduate College</td>\n",
       "      <td>...</td>\n",
       "      <td>Chancellor's Wharf, Kent House</td>\n",
       "      <td>Chancellor's Wharf, Kent House</td>\n",
       "      <td>Chancellor's Wharf, Kent House</td>\n",
       "      <td>Chancellor's Wharf, Kent House</td>\n",
       "      <td>Chancellor's Wharf, Kent House</td>\n",
       "      <td>Chancellor's Wharf, Kent House</td>\n",
       "      <td>Chancellor's Wharf, Kent House</td>\n",
       "      <td>Chancellor's Wharf, Kent House</td>\n",
       "      <td>Chancellor's Wharf, Kent House</td>\n",
       "      <td>Chancellor's Wharf, Kent House</td>\n",
       "    </tr>\n",
       "    <tr>\n",
       "      <th>Locations.Space.Space number</th>\n",
       "      <td>NaN</td>\n",
       "      <td>NaN</td>\n",
       "      <td>NaN</td>\n",
       "      <td>NaN</td>\n",
       "      <td>NaN</td>\n",
       "      <td>NaN</td>\n",
       "      <td>NaN</td>\n",
       "      <td>NaN</td>\n",
       "      <td>NaN</td>\n",
       "      <td>NaN</td>\n",
       "      <td>...</td>\n",
       "      <td>NaN</td>\n",
       "      <td>NaN</td>\n",
       "      <td>NaN</td>\n",
       "      <td>NaN</td>\n",
       "      <td>NaN</td>\n",
       "      <td>NaN</td>\n",
       "      <td>NaN</td>\n",
       "      <td>NaN</td>\n",
       "      <td>NaN</td>\n",
       "      <td>NaN</td>\n",
       "    </tr>\n",
       "    <tr>\n",
       "      <th>Space Name</th>\n",
       "      <td>NaN</td>\n",
       "      <td>NaN</td>\n",
       "      <td>NaN</td>\n",
       "      <td>NaN</td>\n",
       "      <td>NaN</td>\n",
       "      <td>NaN</td>\n",
       "      <td>NaN</td>\n",
       "      <td>NaN</td>\n",
       "      <td>NaN</td>\n",
       "      <td>NaN</td>\n",
       "      <td>...</td>\n",
       "      <td>NaN</td>\n",
       "      <td>NaN</td>\n",
       "      <td>NaN</td>\n",
       "      <td>NaN</td>\n",
       "      <td>NaN</td>\n",
       "      <td>NaN</td>\n",
       "      <td>NaN</td>\n",
       "      <td>NaN</td>\n",
       "      <td>NaN</td>\n",
       "      <td>NaN</td>\n",
       "    </tr>\n",
       "    <tr>\n",
       "      <th>Additional Location Info</th>\n",
       "      <td>NaN</td>\n",
       "      <td>NaN</td>\n",
       "      <td>NaN</td>\n",
       "      <td>NaN</td>\n",
       "      <td>NaN</td>\n",
       "      <td>NaN</td>\n",
       "      <td>NaN</td>\n",
       "      <td>NaN</td>\n",
       "      <td>NaN</td>\n",
       "      <td>NaN</td>\n",
       "      <td>...</td>\n",
       "      <td>NaN</td>\n",
       "      <td>NaN</td>\n",
       "      <td>NaN</td>\n",
       "      <td>NaN</td>\n",
       "      <td>NaN</td>\n",
       "      <td>NaN</td>\n",
       "      <td>NaN</td>\n",
       "      <td>NaN</td>\n",
       "      <td>NaN</td>\n",
       "      <td>NaN</td>\n",
       "    </tr>\n",
       "    <tr>\n",
       "      <th>Description</th>\n",
       "      <td>NaN</td>\n",
       "      <td>Graduate House 1-11</td>\n",
       "      <td>Alex Park Main</td>\n",
       "      <td>NaN</td>\n",
       "      <td>NaN</td>\n",
       "      <td>NaN</td>\n",
       "      <td>Bar Cellar</td>\n",
       "      <td>Bar Ground</td>\n",
       "      <td>Services Room</td>\n",
       "      <td>Bar Water</td>\n",
       "      <td>...</td>\n",
       "      <td>ShuntPumpRotate</td>\n",
       "      <td>Manual Shunt pump changeover</td>\n",
       "      <td>Outside air temperature</td>\n",
       "      <td>Immersion Sensor</td>\n",
       "      <td>Thermistor TBTC</td>\n",
       "      <td>Room temperature</td>\n",
       "      <td>Thermistor TBTI</td>\n",
       "      <td>4DIX V</td>\n",
       "      <td>Heating Boilers</td>\n",
       "      <td>DHWS Immersion</td>\n",
       "    </tr>\n",
       "    <tr>\n",
       "      <th>Classification Group</th>\n",
       "      <td>EN.EN2 Energy Meter</td>\n",
       "      <td>EN.EN2 Energy Meter</td>\n",
       "      <td>EN.EN2 Energy Meter</td>\n",
       "      <td>EN.EN2 Energy Meter</td>\n",
       "      <td>EN.EN2 Energy Meter</td>\n",
       "      <td>EN.EN2 Energy Meter</td>\n",
       "      <td>EN.EN2 Energy Meter</td>\n",
       "      <td>EN.EN2 Energy Meter</td>\n",
       "      <td>EN.EN2 Energy Meter</td>\n",
       "      <td>EN.EN2 Energy Meter</td>\n",
       "      <td>...</td>\n",
       "      <td>EN.EN3 Energy Sensor</td>\n",
       "      <td>EN.EN3 Energy Sensor</td>\n",
       "      <td>EN.EN3 Energy Sensor</td>\n",
       "      <td>EN.EN3 Energy Sensor</td>\n",
       "      <td>EN.EN3 Energy Sensor</td>\n",
       "      <td>EN.EN3 Energy Sensor</td>\n",
       "      <td>EN.EN3 Energy Sensor</td>\n",
       "      <td>EN.EN3 Energy Sensor</td>\n",
       "      <td>EN.EN3 Energy Sensor</td>\n",
       "      <td>EN.EN3 Energy Sensor</td>\n",
       "    </tr>\n",
       "    <tr>\n",
       "      <th>Record</th>\n",
       "      <td>NaN</td>\n",
       "      <td>NaN</td>\n",
       "      <td>NaN</td>\n",
       "      <td>NaN</td>\n",
       "      <td>NaN</td>\n",
       "      <td>NaN</td>\n",
       "      <td>NaN</td>\n",
       "      <td>NaN</td>\n",
       "      <td>NaN</td>\n",
       "      <td>NaN</td>\n",
       "      <td>...</td>\n",
       "      <td>NaN</td>\n",
       "      <td>NaN</td>\n",
       "      <td>NaN</td>\n",
       "      <td>NaN</td>\n",
       "      <td>NaN</td>\n",
       "      <td>NaN</td>\n",
       "      <td>NaN</td>\n",
       "      <td>NaN</td>\n",
       "      <td>NaN</td>\n",
       "      <td>NaN</td>\n",
       "    </tr>\n",
       "    <tr>\n",
       "      <th>HVAC Ref</th>\n",
       "      <td>NaN</td>\n",
       "      <td>NaN</td>\n",
       "      <td>NaN</td>\n",
       "      <td>NaN</td>\n",
       "      <td>NaN</td>\n",
       "      <td>NaN</td>\n",
       "      <td>NaN</td>\n",
       "      <td>NaN</td>\n",
       "      <td>NaN</td>\n",
       "      <td>NaN</td>\n",
       "      <td>...</td>\n",
       "      <td>NaN</td>\n",
       "      <td>NaN</td>\n",
       "      <td>NaN</td>\n",
       "      <td>NaN</td>\n",
       "      <td>NaN</td>\n",
       "      <td>NaN</td>\n",
       "      <td>NaN</td>\n",
       "      <td>NaN</td>\n",
       "      <td>NaN</td>\n",
       "      <td>NaN</td>\n",
       "    </tr>\n",
       "    <tr>\n",
       "      <th>Element Description</th>\n",
       "      <td>NaN</td>\n",
       "      <td>NaN</td>\n",
       "      <td>NaN</td>\n",
       "      <td>NaN</td>\n",
       "      <td>NaN</td>\n",
       "      <td>NaN</td>\n",
       "      <td>NaN</td>\n",
       "      <td>NaN</td>\n",
       "      <td>NaN</td>\n",
       "      <td>NaN</td>\n",
       "      <td>...</td>\n",
       "      <td>NaN</td>\n",
       "      <td>NaN</td>\n",
       "      <td>NaN</td>\n",
       "      <td>NaN</td>\n",
       "      <td>NaN</td>\n",
       "      <td>NaN</td>\n",
       "      <td>NaN</td>\n",
       "      <td>NaN</td>\n",
       "      <td>NaN</td>\n",
       "      <td>NaN</td>\n",
       "    </tr>\n",
       "    <tr>\n",
       "      <th>Servicable Area</th>\n",
       "      <td>NaN</td>\n",
       "      <td>NaN</td>\n",
       "      <td>NaN</td>\n",
       "      <td>NaN</td>\n",
       "      <td>NaN</td>\n",
       "      <td>NaN</td>\n",
       "      <td>NaN</td>\n",
       "      <td>NaN</td>\n",
       "      <td>NaN</td>\n",
       "      <td>NaN</td>\n",
       "      <td>...</td>\n",
       "      <td>NaN</td>\n",
       "      <td>NaN</td>\n",
       "      <td>NaN</td>\n",
       "      <td>NaN</td>\n",
       "      <td>NaN</td>\n",
       "      <td>NaN</td>\n",
       "      <td>NaN</td>\n",
       "      <td>NaN</td>\n",
       "      <td>NaN</td>\n",
       "      <td>NaN</td>\n",
       "    </tr>\n",
       "    <tr>\n",
       "      <th>Model</th>\n",
       "      <td>NaN</td>\n",
       "      <td>NaN</td>\n",
       "      <td>NaN</td>\n",
       "      <td>NaN</td>\n",
       "      <td>NaN</td>\n",
       "      <td>NaN</td>\n",
       "      <td>NaN</td>\n",
       "      <td>NaN</td>\n",
       "      <td>NaN</td>\n",
       "      <td>NaN</td>\n",
       "      <td>...</td>\n",
       "      <td>NaN</td>\n",
       "      <td>NaN</td>\n",
       "      <td>NaN</td>\n",
       "      <td>NaN</td>\n",
       "      <td>NaN</td>\n",
       "      <td>NaN</td>\n",
       "      <td>NaN</td>\n",
       "      <td>NaN</td>\n",
       "      <td>NaN</td>\n",
       "      <td>NaN</td>\n",
       "    </tr>\n",
       "    <tr>\n",
       "      <th>Make</th>\n",
       "      <td>NaN</td>\n",
       "      <td>NaN</td>\n",
       "      <td>NaN</td>\n",
       "      <td>NaN</td>\n",
       "      <td>NaN</td>\n",
       "      <td>NaN</td>\n",
       "      <td>NaN</td>\n",
       "      <td>NaN</td>\n",
       "      <td>NaN</td>\n",
       "      <td>NaN</td>\n",
       "      <td>...</td>\n",
       "      <td>NaN</td>\n",
       "      <td>NaN</td>\n",
       "      <td>NaN</td>\n",
       "      <td>NaN</td>\n",
       "      <td>NaN</td>\n",
       "      <td>NaN</td>\n",
       "      <td>NaN</td>\n",
       "      <td>NaN</td>\n",
       "      <td>NaN</td>\n",
       "      <td>NaN</td>\n",
       "    </tr>\n",
       "    <tr>\n",
       "      <th>EIS ID</th>\n",
       "      <td>1</td>\n",
       "      <td>1</td>\n",
       "      <td>2</td>\n",
       "      <td>1</td>\n",
       "      <td>2</td>\n",
       "      <td>1</td>\n",
       "      <td>2</td>\n",
       "      <td>3</td>\n",
       "      <td>4</td>\n",
       "      <td>5</td>\n",
       "      <td>...</td>\n",
       "      <td>W4</td>\n",
       "      <td>W5</td>\n",
       "      <td>Y1</td>\n",
       "      <td>Y2</td>\n",
       "      <td>Y3</td>\n",
       "      <td>Y4</td>\n",
       "      <td>Y5</td>\n",
       "      <td>Y6</td>\n",
       "      <td>Z1</td>\n",
       "      <td>Z2</td>\n",
       "    </tr>\n",
       "    <tr>\n",
       "      <th>Logger Channel</th>\n",
       "      <td>0</td>\n",
       "      <td>0</td>\n",
       "      <td>0</td>\n",
       "      <td>0</td>\n",
       "      <td>0</td>\n",
       "      <td>0</td>\n",
       "      <td>0</td>\n",
       "      <td>0</td>\n",
       "      <td>0</td>\n",
       "      <td>0</td>\n",
       "      <td>...</td>\n",
       "      <td>0</td>\n",
       "      <td>0</td>\n",
       "      <td>0</td>\n",
       "      <td>0</td>\n",
       "      <td>0</td>\n",
       "      <td>0</td>\n",
       "      <td>0</td>\n",
       "      <td>0</td>\n",
       "      <td>0</td>\n",
       "      <td>0</td>\n",
       "    </tr>\n",
       "    <tr>\n",
       "      <th>Logger Upstream Comms Target</th>\n",
       "      <td>NaN</td>\n",
       "      <td>NaN</td>\n",
       "      <td>NaN</td>\n",
       "      <td>NaN</td>\n",
       "      <td>NaN</td>\n",
       "      <td>NaN</td>\n",
       "      <td>NaN</td>\n",
       "      <td>NaN</td>\n",
       "      <td>NaN</td>\n",
       "      <td>NaN</td>\n",
       "      <td>...</td>\n",
       "      <td>NaN</td>\n",
       "      <td>NaN</td>\n",
       "      <td>NaN</td>\n",
       "      <td>NaN</td>\n",
       "      <td>NaN</td>\n",
       "      <td>NaN</td>\n",
       "      <td>NaN</td>\n",
       "      <td>NaN</td>\n",
       "      <td>NaN</td>\n",
       "      <td>NaN</td>\n",
       "    </tr>\n",
       "    <tr>\n",
       "      <th>Logger Modem Serial Number</th>\n",
       "      <td>NaN</td>\n",
       "      <td>NaN</td>\n",
       "      <td>NaN</td>\n",
       "      <td>NaN</td>\n",
       "      <td>NaN</td>\n",
       "      <td>NaN</td>\n",
       "      <td>NaN</td>\n",
       "      <td>NaN</td>\n",
       "      <td>NaN</td>\n",
       "      <td>NaN</td>\n",
       "      <td>...</td>\n",
       "      <td>NaN</td>\n",
       "      <td>NaN</td>\n",
       "      <td>NaN</td>\n",
       "      <td>NaN</td>\n",
       "      <td>NaN</td>\n",
       "      <td>NaN</td>\n",
       "      <td>NaN</td>\n",
       "      <td>NaN</td>\n",
       "      <td>NaN</td>\n",
       "      <td>NaN</td>\n",
       "    </tr>\n",
       "    <tr>\n",
       "      <th>Logger IP Address</th>\n",
       "      <td>NaN</td>\n",
       "      <td>NaN</td>\n",
       "      <td>NaN</td>\n",
       "      <td>NaN</td>\n",
       "      <td>NaN</td>\n",
       "      <td>NaN</td>\n",
       "      <td>NaN</td>\n",
       "      <td>NaN</td>\n",
       "      <td>NaN</td>\n",
       "      <td>NaN</td>\n",
       "      <td>...</td>\n",
       "      <td>NaN</td>\n",
       "      <td>NaN</td>\n",
       "      <td>NaN</td>\n",
       "      <td>NaN</td>\n",
       "      <td>NaN</td>\n",
       "      <td>NaN</td>\n",
       "      <td>NaN</td>\n",
       "      <td>NaN</td>\n",
       "      <td>NaN</td>\n",
       "      <td>NaN</td>\n",
       "    </tr>\n",
       "    <tr>\n",
       "      <th>Logger Serial Number</th>\n",
       "      <td>NaN</td>\n",
       "      <td>NaN</td>\n",
       "      <td>NaN</td>\n",
       "      <td>NaN</td>\n",
       "      <td>NaN</td>\n",
       "      <td>NaN</td>\n",
       "      <td>NaN</td>\n",
       "      <td>NaN</td>\n",
       "      <td>NaN</td>\n",
       "      <td>NaN</td>\n",
       "      <td>...</td>\n",
       "      <td>NaN</td>\n",
       "      <td>NaN</td>\n",
       "      <td>NaN</td>\n",
       "      <td>NaN</td>\n",
       "      <td>NaN</td>\n",
       "      <td>NaN</td>\n",
       "      <td>NaN</td>\n",
       "      <td>NaN</td>\n",
       "      <td>NaN</td>\n",
       "      <td>NaN</td>\n",
       "    </tr>\n",
       "    <tr>\n",
       "      <th>Logger MAC Address</th>\n",
       "      <td>NaN</td>\n",
       "      <td>NaN</td>\n",
       "      <td>NaN</td>\n",
       "      <td>NaN</td>\n",
       "      <td>NaN</td>\n",
       "      <td>NaN</td>\n",
       "      <td>NaN</td>\n",
       "      <td>NaN</td>\n",
       "      <td>NaN</td>\n",
       "      <td>NaN</td>\n",
       "      <td>...</td>\n",
       "      <td>NaN</td>\n",
       "      <td>NaN</td>\n",
       "      <td>NaN</td>\n",
       "      <td>NaN</td>\n",
       "      <td>NaN</td>\n",
       "      <td>NaN</td>\n",
       "      <td>NaN</td>\n",
       "      <td>NaN</td>\n",
       "      <td>NaN</td>\n",
       "      <td>NaN</td>\n",
       "    </tr>\n",
       "    <tr>\n",
       "      <th>Logger SIM</th>\n",
       "      <td>NaN</td>\n",
       "      <td>NaN</td>\n",
       "      <td>NaN</td>\n",
       "      <td>NaN</td>\n",
       "      <td>NaN</td>\n",
       "      <td>NaN</td>\n",
       "      <td>NaN</td>\n",
       "      <td>NaN</td>\n",
       "      <td>NaN</td>\n",
       "      <td>NaN</td>\n",
       "      <td>...</td>\n",
       "      <td>NaN</td>\n",
       "      <td>NaN</td>\n",
       "      <td>NaN</td>\n",
       "      <td>NaN</td>\n",
       "      <td>NaN</td>\n",
       "      <td>NaN</td>\n",
       "      <td>NaN</td>\n",
       "      <td>NaN</td>\n",
       "      <td>NaN</td>\n",
       "      <td>NaN</td>\n",
       "    </tr>\n",
       "    <tr>\n",
       "      <th>Meter Pulse Value</th>\n",
       "      <td>NaN</td>\n",
       "      <td>NaN</td>\n",
       "      <td>NaN</td>\n",
       "      <td>NaN</td>\n",
       "      <td>NaN</td>\n",
       "      <td>NaN</td>\n",
       "      <td>NaN</td>\n",
       "      <td>NaN</td>\n",
       "      <td>NaN</td>\n",
       "      <td>NaN</td>\n",
       "      <td>...</td>\n",
       "      <td>NaN</td>\n",
       "      <td>NaN</td>\n",
       "      <td>NaN</td>\n",
       "      <td>NaN</td>\n",
       "      <td>NaN</td>\n",
       "      <td>NaN</td>\n",
       "      <td>NaN</td>\n",
       "      <td>NaN</td>\n",
       "      <td>NaN</td>\n",
       "      <td>NaN</td>\n",
       "    </tr>\n",
       "    <tr>\n",
       "      <th>Meter Units</th>\n",
       "      <td>NaN</td>\n",
       "      <td>NaN</td>\n",
       "      <td>NaN</td>\n",
       "      <td>NaN</td>\n",
       "      <td>NaN</td>\n",
       "      <td>NaN</td>\n",
       "      <td>NaN</td>\n",
       "      <td>NaN</td>\n",
       "      <td>NaN</td>\n",
       "      <td>NaN</td>\n",
       "      <td>...</td>\n",
       "      <td>NaN</td>\n",
       "      <td>NaN</td>\n",
       "      <td>NaN</td>\n",
       "      <td>NaN</td>\n",
       "      <td>NaN</td>\n",
       "      <td>NaN</td>\n",
       "      <td>NaN</td>\n",
       "      <td>NaN</td>\n",
       "      <td>NaN</td>\n",
       "      <td>NaN</td>\n",
       "    </tr>\n",
       "    <tr>\n",
       "      <th>Meter Capacity</th>\n",
       "      <td>NaN</td>\n",
       "      <td>NaN</td>\n",
       "      <td>NaN</td>\n",
       "      <td>NaN</td>\n",
       "      <td>NaN</td>\n",
       "      <td>NaN</td>\n",
       "      <td>NaN</td>\n",
       "      <td>NaN</td>\n",
       "      <td>NaN</td>\n",
       "      <td>NaN</td>\n",
       "      <td>...</td>\n",
       "      <td>NaN</td>\n",
       "      <td>NaN</td>\n",
       "      <td>NaN</td>\n",
       "      <td>NaN</td>\n",
       "      <td>NaN</td>\n",
       "      <td>NaN</td>\n",
       "      <td>NaN</td>\n",
       "      <td>NaN</td>\n",
       "      <td>NaN</td>\n",
       "      <td>NaN</td>\n",
       "    </tr>\n",
       "    <tr>\n",
       "      <th>Network Point ID</th>\n",
       "      <td>NaN</td>\n",
       "      <td>NaN</td>\n",
       "      <td>NaN</td>\n",
       "      <td>NaN</td>\n",
       "      <td>NaN</td>\n",
       "      <td>NaN</td>\n",
       "      <td>NaN</td>\n",
       "      <td>NaN</td>\n",
       "      <td>NaN</td>\n",
       "      <td>NaN</td>\n",
       "      <td>...</td>\n",
       "      <td>NaN</td>\n",
       "      <td>NaN</td>\n",
       "      <td>NaN</td>\n",
       "      <td>NaN</td>\n",
       "      <td>NaN</td>\n",
       "      <td>NaN</td>\n",
       "      <td>NaN</td>\n",
       "      <td>NaN</td>\n",
       "      <td>NaN</td>\n",
       "      <td>NaN</td>\n",
       "    </tr>\n",
       "    <tr>\n",
       "      <th>Tenant Meter.Name</th>\n",
       "      <td>No</td>\n",
       "      <td>No</td>\n",
       "      <td>No</td>\n",
       "      <td>No</td>\n",
       "      <td>No</td>\n",
       "      <td>No</td>\n",
       "      <td>No</td>\n",
       "      <td>No</td>\n",
       "      <td>No</td>\n",
       "      <td>No</td>\n",
       "      <td>...</td>\n",
       "      <td>No</td>\n",
       "      <td>No</td>\n",
       "      <td>No</td>\n",
       "      <td>No</td>\n",
       "      <td>No</td>\n",
       "      <td>No</td>\n",
       "      <td>No</td>\n",
       "      <td>No</td>\n",
       "      <td>No</td>\n",
       "      <td>No</td>\n",
       "    </tr>\n",
       "    <tr>\n",
       "      <th>Fiscal Meter.Name</th>\n",
       "      <td>No</td>\n",
       "      <td>No</td>\n",
       "      <td>No</td>\n",
       "      <td>No</td>\n",
       "      <td>No</td>\n",
       "      <td>No</td>\n",
       "      <td>No</td>\n",
       "      <td>No</td>\n",
       "      <td>No</td>\n",
       "      <td>No</td>\n",
       "      <td>...</td>\n",
       "      <td>No</td>\n",
       "      <td>No</td>\n",
       "      <td>No</td>\n",
       "      <td>No</td>\n",
       "      <td>No</td>\n",
       "      <td>No</td>\n",
       "      <td>No</td>\n",
       "      <td>No</td>\n",
       "      <td>No</td>\n",
       "      <td>No</td>\n",
       "    </tr>\n",
       "    <tr>\n",
       "      <th>EIS Space.Space number</th>\n",
       "      <td>NaN</td>\n",
       "      <td>NaN</td>\n",
       "      <td>NaN</td>\n",
       "      <td>NaN</td>\n",
       "      <td>NaN</td>\n",
       "      <td>NaN</td>\n",
       "      <td>NaN</td>\n",
       "      <td>NaN</td>\n",
       "      <td>NaN</td>\n",
       "      <td>NaN</td>\n",
       "      <td>...</td>\n",
       "      <td>NaN</td>\n",
       "      <td>NaN</td>\n",
       "      <td>NaN</td>\n",
       "      <td>NaN</td>\n",
       "      <td>NaN</td>\n",
       "      <td>NaN</td>\n",
       "      <td>NaN</td>\n",
       "      <td>NaN</td>\n",
       "      <td>NaN</td>\n",
       "      <td>NaN</td>\n",
       "    </tr>\n",
       "    <tr>\n",
       "      <th>Utility Type.Name</th>\n",
       "      <td>NaN</td>\n",
       "      <td>NaN</td>\n",
       "      <td>NaN</td>\n",
       "      <td>NaN</td>\n",
       "      <td>NaN</td>\n",
       "      <td>NaN</td>\n",
       "      <td>NaN</td>\n",
       "      <td>NaN</td>\n",
       "      <td>NaN</td>\n",
       "      <td>NaN</td>\n",
       "      <td>...</td>\n",
       "      <td>NaN</td>\n",
       "      <td>NaN</td>\n",
       "      <td>NaN</td>\n",
       "      <td>NaN</td>\n",
       "      <td>NaN</td>\n",
       "      <td>NaN</td>\n",
       "      <td>NaN</td>\n",
       "      <td>NaN</td>\n",
       "      <td>NaN</td>\n",
       "      <td>NaN</td>\n",
       "    </tr>\n",
       "    <tr>\n",
       "      <th>Code</th>\n",
       "      <td>AP000-L01/M001</td>\n",
       "      <td>AP000-L02/M001</td>\n",
       "      <td>AP000-L02/M002</td>\n",
       "      <td>AP000-L03/M001</td>\n",
       "      <td>AP000-L03/M002</td>\n",
       "      <td>AP001-L01/M001</td>\n",
       "      <td>AP001-L01/M002</td>\n",
       "      <td>AP001-L01/M003</td>\n",
       "      <td>AP001-L01/M004</td>\n",
       "      <td>AP001-L01/M005</td>\n",
       "      <td>...</td>\n",
       "      <td>OC006-B01/W4</td>\n",
       "      <td>OC006-B01/W5</td>\n",
       "      <td>OC006-B01/Y1</td>\n",
       "      <td>OC006-B01/Y2</td>\n",
       "      <td>OC006-B01/Y3</td>\n",
       "      <td>OC006-B01/Y4</td>\n",
       "      <td>OC006-B01/Y5</td>\n",
       "      <td>OC006-B01/Y6</td>\n",
       "      <td>OC006-B01/Z1</td>\n",
       "      <td>OC006-B01/Z2</td>\n",
       "    </tr>\n",
       "  </tbody>\n",
       "</table>\n",
       "<p>30 rows × 32712 columns</p>\n",
       "</div>"
      ],
      "text/plain": [
       "                                   AP000-L01/M001       AP000-L02/M001  \\\n",
       "BuildingNo.                                 AP000                AP000   \n",
       "Building                           Alexandra Park       Alexandra Park   \n",
       "Locations.Space.Space number                  NaN                  NaN   \n",
       "Space Name                                    NaN                  NaN   \n",
       "Additional Location Info                      NaN                  NaN   \n",
       "Description                                   NaN  Graduate House 1-11   \n",
       "Classification Group          EN.EN2 Energy Meter  EN.EN2 Energy Meter   \n",
       "Record                                        NaN                  NaN   \n",
       "HVAC Ref                                      NaN                  NaN   \n",
       "Element Description                           NaN                  NaN   \n",
       "Servicable Area                               NaN                  NaN   \n",
       "Model                                         NaN                  NaN   \n",
       "Make                                          NaN                  NaN   \n",
       "EIS ID                                          1                    1   \n",
       "Logger Channel                                  0                    0   \n",
       "Logger Upstream Comms Target                  NaN                  NaN   \n",
       "Logger Modem Serial Number                    NaN                  NaN   \n",
       "Logger IP Address                             NaN                  NaN   \n",
       "Logger Serial Number                          NaN                  NaN   \n",
       "Logger MAC Address                            NaN                  NaN   \n",
       "Logger SIM                                    NaN                  NaN   \n",
       "Meter Pulse Value                             NaN                  NaN   \n",
       "Meter Units                                   NaN                  NaN   \n",
       "Meter Capacity                                NaN                  NaN   \n",
       "Network Point ID                              NaN                  NaN   \n",
       "Tenant Meter.Name                              No                   No   \n",
       "Fiscal Meter.Name                              No                   No   \n",
       "EIS Space.Space number                        NaN                  NaN   \n",
       "Utility Type.Name                             NaN                  NaN   \n",
       "Code                               AP000-L01/M001       AP000-L02/M001   \n",
       "\n",
       "                                   AP000-L02/M002       AP000-L03/M001  \\\n",
       "BuildingNo.                                 AP000                AP000   \n",
       "Building                           Alexandra Park       Alexandra Park   \n",
       "Locations.Space.Space number                  NaN                  NaN   \n",
       "Space Name                                    NaN                  NaN   \n",
       "Additional Location Info                      NaN                  NaN   \n",
       "Description                        Alex Park Main                  NaN   \n",
       "Classification Group          EN.EN2 Energy Meter  EN.EN2 Energy Meter   \n",
       "Record                                        NaN                  NaN   \n",
       "HVAC Ref                                      NaN                  NaN   \n",
       "Element Description                           NaN                  NaN   \n",
       "Servicable Area                               NaN                  NaN   \n",
       "Model                                         NaN                  NaN   \n",
       "Make                                          NaN                  NaN   \n",
       "EIS ID                                          2                    1   \n",
       "Logger Channel                                  0                    0   \n",
       "Logger Upstream Comms Target                  NaN                  NaN   \n",
       "Logger Modem Serial Number                    NaN                  NaN   \n",
       "Logger IP Address                             NaN                  NaN   \n",
       "Logger Serial Number                          NaN                  NaN   \n",
       "Logger MAC Address                            NaN                  NaN   \n",
       "Logger SIM                                    NaN                  NaN   \n",
       "Meter Pulse Value                             NaN                  NaN   \n",
       "Meter Units                                   NaN                  NaN   \n",
       "Meter Capacity                                NaN                  NaN   \n",
       "Network Point ID                              NaN                  NaN   \n",
       "Tenant Meter.Name                              No                   No   \n",
       "Fiscal Meter.Name                              No                   No   \n",
       "EIS Space.Space number                        NaN                  NaN   \n",
       "Utility Type.Name                             NaN                  NaN   \n",
       "Code                               AP000-L02/M002       AP000-L03/M001   \n",
       "\n",
       "                                   AP000-L03/M002  \\\n",
       "BuildingNo.                                 AP000   \n",
       "Building                           Alexandra Park   \n",
       "Locations.Space.Space number                  NaN   \n",
       "Space Name                                    NaN   \n",
       "Additional Location Info                      NaN   \n",
       "Description                                   NaN   \n",
       "Classification Group          EN.EN2 Energy Meter   \n",
       "Record                                        NaN   \n",
       "HVAC Ref                                      NaN   \n",
       "Element Description                           NaN   \n",
       "Servicable Area                               NaN   \n",
       "Model                                         NaN   \n",
       "Make                                          NaN   \n",
       "EIS ID                                          2   \n",
       "Logger Channel                                  0   \n",
       "Logger Upstream Comms Target                  NaN   \n",
       "Logger Modem Serial Number                    NaN   \n",
       "Logger IP Address                             NaN   \n",
       "Logger Serial Number                          NaN   \n",
       "Logger MAC Address                            NaN   \n",
       "Logger SIM                                    NaN   \n",
       "Meter Pulse Value                             NaN   \n",
       "Meter Units                                   NaN   \n",
       "Meter Capacity                                NaN   \n",
       "Network Point ID                              NaN   \n",
       "Tenant Meter.Name                              No   \n",
       "Fiscal Meter.Name                              No   \n",
       "EIS Space.Space number                        NaN   \n",
       "Utility Type.Name                             NaN   \n",
       "Code                               AP000-L03/M002   \n",
       "\n",
       "                                                          AP001-L01/M001  \\\n",
       "BuildingNo.                                                        AP001   \n",
       "Building                      House 01 - Bassenthwaite, Graduate College   \n",
       "Locations.Space.Space number                                         NaN   \n",
       "Space Name                                                           NaN   \n",
       "Additional Location Info                                             NaN   \n",
       "Description                                                          NaN   \n",
       "Classification Group                                 EN.EN2 Energy Meter   \n",
       "Record                                                               NaN   \n",
       "HVAC Ref                                                             NaN   \n",
       "Element Description                                                  NaN   \n",
       "Servicable Area                                                      NaN   \n",
       "Model                                                                NaN   \n",
       "Make                                                                 NaN   \n",
       "EIS ID                                                                 1   \n",
       "Logger Channel                                                         0   \n",
       "Logger Upstream Comms Target                                         NaN   \n",
       "Logger Modem Serial Number                                           NaN   \n",
       "Logger IP Address                                                    NaN   \n",
       "Logger Serial Number                                                 NaN   \n",
       "Logger MAC Address                                                   NaN   \n",
       "Logger SIM                                                           NaN   \n",
       "Meter Pulse Value                                                    NaN   \n",
       "Meter Units                                                          NaN   \n",
       "Meter Capacity                                                       NaN   \n",
       "Network Point ID                                                     NaN   \n",
       "Tenant Meter.Name                                                     No   \n",
       "Fiscal Meter.Name                                                     No   \n",
       "EIS Space.Space number                                               NaN   \n",
       "Utility Type.Name                                                    NaN   \n",
       "Code                                                      AP001-L01/M001   \n",
       "\n",
       "                                                          AP001-L01/M002  \\\n",
       "BuildingNo.                                                        AP001   \n",
       "Building                      House 01 - Bassenthwaite, Graduate College   \n",
       "Locations.Space.Space number                                         NaN   \n",
       "Space Name                                                           NaN   \n",
       "Additional Location Info                                             NaN   \n",
       "Description                                                   Bar Cellar   \n",
       "Classification Group                                 EN.EN2 Energy Meter   \n",
       "Record                                                               NaN   \n",
       "HVAC Ref                                                             NaN   \n",
       "Element Description                                                  NaN   \n",
       "Servicable Area                                                      NaN   \n",
       "Model                                                                NaN   \n",
       "Make                                                                 NaN   \n",
       "EIS ID                                                                 2   \n",
       "Logger Channel                                                         0   \n",
       "Logger Upstream Comms Target                                         NaN   \n",
       "Logger Modem Serial Number                                           NaN   \n",
       "Logger IP Address                                                    NaN   \n",
       "Logger Serial Number                                                 NaN   \n",
       "Logger MAC Address                                                   NaN   \n",
       "Logger SIM                                                           NaN   \n",
       "Meter Pulse Value                                                    NaN   \n",
       "Meter Units                                                          NaN   \n",
       "Meter Capacity                                                       NaN   \n",
       "Network Point ID                                                     NaN   \n",
       "Tenant Meter.Name                                                     No   \n",
       "Fiscal Meter.Name                                                     No   \n",
       "EIS Space.Space number                                               NaN   \n",
       "Utility Type.Name                                                    NaN   \n",
       "Code                                                      AP001-L01/M002   \n",
       "\n",
       "                                                          AP001-L01/M003  \\\n",
       "BuildingNo.                                                        AP001   \n",
       "Building                      House 01 - Bassenthwaite, Graduate College   \n",
       "Locations.Space.Space number                                         NaN   \n",
       "Space Name                                                           NaN   \n",
       "Additional Location Info                                             NaN   \n",
       "Description                                                   Bar Ground   \n",
       "Classification Group                                 EN.EN2 Energy Meter   \n",
       "Record                                                               NaN   \n",
       "HVAC Ref                                                             NaN   \n",
       "Element Description                                                  NaN   \n",
       "Servicable Area                                                      NaN   \n",
       "Model                                                                NaN   \n",
       "Make                                                                 NaN   \n",
       "EIS ID                                                                 3   \n",
       "Logger Channel                                                         0   \n",
       "Logger Upstream Comms Target                                         NaN   \n",
       "Logger Modem Serial Number                                           NaN   \n",
       "Logger IP Address                                                    NaN   \n",
       "Logger Serial Number                                                 NaN   \n",
       "Logger MAC Address                                                   NaN   \n",
       "Logger SIM                                                           NaN   \n",
       "Meter Pulse Value                                                    NaN   \n",
       "Meter Units                                                          NaN   \n",
       "Meter Capacity                                                       NaN   \n",
       "Network Point ID                                                     NaN   \n",
       "Tenant Meter.Name                                                     No   \n",
       "Fiscal Meter.Name                                                     No   \n",
       "EIS Space.Space number                                               NaN   \n",
       "Utility Type.Name                                                    NaN   \n",
       "Code                                                      AP001-L01/M003   \n",
       "\n",
       "                                                          AP001-L01/M004  \\\n",
       "BuildingNo.                                                        AP001   \n",
       "Building                      House 01 - Bassenthwaite, Graduate College   \n",
       "Locations.Space.Space number                                         NaN   \n",
       "Space Name                                                           NaN   \n",
       "Additional Location Info                                             NaN   \n",
       "Description                                                Services Room   \n",
       "Classification Group                                 EN.EN2 Energy Meter   \n",
       "Record                                                               NaN   \n",
       "HVAC Ref                                                             NaN   \n",
       "Element Description                                                  NaN   \n",
       "Servicable Area                                                      NaN   \n",
       "Model                                                                NaN   \n",
       "Make                                                                 NaN   \n",
       "EIS ID                                                                 4   \n",
       "Logger Channel                                                         0   \n",
       "Logger Upstream Comms Target                                         NaN   \n",
       "Logger Modem Serial Number                                           NaN   \n",
       "Logger IP Address                                                    NaN   \n",
       "Logger Serial Number                                                 NaN   \n",
       "Logger MAC Address                                                   NaN   \n",
       "Logger SIM                                                           NaN   \n",
       "Meter Pulse Value                                                    NaN   \n",
       "Meter Units                                                          NaN   \n",
       "Meter Capacity                                                       NaN   \n",
       "Network Point ID                                                     NaN   \n",
       "Tenant Meter.Name                                                     No   \n",
       "Fiscal Meter.Name                                                     No   \n",
       "EIS Space.Space number                                               NaN   \n",
       "Utility Type.Name                                                    NaN   \n",
       "Code                                                      AP001-L01/M004   \n",
       "\n",
       "                                                          AP001-L01/M005  \\\n",
       "BuildingNo.                                                        AP001   \n",
       "Building                      House 01 - Bassenthwaite, Graduate College   \n",
       "Locations.Space.Space number                                         NaN   \n",
       "Space Name                                                           NaN   \n",
       "Additional Location Info                                             NaN   \n",
       "Description                                                    Bar Water   \n",
       "Classification Group                                 EN.EN2 Energy Meter   \n",
       "Record                                                               NaN   \n",
       "HVAC Ref                                                             NaN   \n",
       "Element Description                                                  NaN   \n",
       "Servicable Area                                                      NaN   \n",
       "Model                                                                NaN   \n",
       "Make                                                                 NaN   \n",
       "EIS ID                                                                 5   \n",
       "Logger Channel                                                         0   \n",
       "Logger Upstream Comms Target                                         NaN   \n",
       "Logger Modem Serial Number                                           NaN   \n",
       "Logger IP Address                                                    NaN   \n",
       "Logger Serial Number                                                 NaN   \n",
       "Logger MAC Address                                                   NaN   \n",
       "Logger SIM                                                           NaN   \n",
       "Meter Pulse Value                                                    NaN   \n",
       "Meter Units                                                          NaN   \n",
       "Meter Capacity                                                       NaN   \n",
       "Network Point ID                                                     NaN   \n",
       "Tenant Meter.Name                                                     No   \n",
       "Fiscal Meter.Name                                                     No   \n",
       "EIS Space.Space number                                               NaN   \n",
       "Utility Type.Name                                                    NaN   \n",
       "Code                                                      AP001-L01/M005   \n",
       "\n",
       "                                           ...                \\\n",
       "BuildingNo.                                ...                 \n",
       "Building                                   ...                 \n",
       "Locations.Space.Space number               ...                 \n",
       "Space Name                                 ...                 \n",
       "Additional Location Info                   ...                 \n",
       "Description                                ...                 \n",
       "Classification Group                       ...                 \n",
       "Record                                     ...                 \n",
       "HVAC Ref                                   ...                 \n",
       "Element Description                        ...                 \n",
       "Servicable Area                            ...                 \n",
       "Model                                      ...                 \n",
       "Make                                       ...                 \n",
       "EIS ID                                     ...                 \n",
       "Logger Channel                             ...                 \n",
       "Logger Upstream Comms Target               ...                 \n",
       "Logger Modem Serial Number                 ...                 \n",
       "Logger IP Address                          ...                 \n",
       "Logger Serial Number                       ...                 \n",
       "Logger MAC Address                         ...                 \n",
       "Logger SIM                                 ...                 \n",
       "Meter Pulse Value                          ...                 \n",
       "Meter Units                                ...                 \n",
       "Meter Capacity                             ...                 \n",
       "Network Point ID                           ...                 \n",
       "Tenant Meter.Name                          ...                 \n",
       "Fiscal Meter.Name                          ...                 \n",
       "EIS Space.Space number                     ...                 \n",
       "Utility Type.Name                          ...                 \n",
       "Code                                       ...                 \n",
       "\n",
       "                                                OC006-B01/W4  \\\n",
       "BuildingNo.                                            OC006   \n",
       "Building                      Chancellor's Wharf, Kent House   \n",
       "Locations.Space.Space number                             NaN   \n",
       "Space Name                                               NaN   \n",
       "Additional Location Info                                 NaN   \n",
       "Description                                  ShuntPumpRotate   \n",
       "Classification Group                    EN.EN3 Energy Sensor   \n",
       "Record                                                   NaN   \n",
       "HVAC Ref                                                 NaN   \n",
       "Element Description                                      NaN   \n",
       "Servicable Area                                          NaN   \n",
       "Model                                                    NaN   \n",
       "Make                                                     NaN   \n",
       "EIS ID                                                    W4   \n",
       "Logger Channel                                             0   \n",
       "Logger Upstream Comms Target                             NaN   \n",
       "Logger Modem Serial Number                               NaN   \n",
       "Logger IP Address                                        NaN   \n",
       "Logger Serial Number                                     NaN   \n",
       "Logger MAC Address                                       NaN   \n",
       "Logger SIM                                               NaN   \n",
       "Meter Pulse Value                                        NaN   \n",
       "Meter Units                                              NaN   \n",
       "Meter Capacity                                           NaN   \n",
       "Network Point ID                                         NaN   \n",
       "Tenant Meter.Name                                         No   \n",
       "Fiscal Meter.Name                                         No   \n",
       "EIS Space.Space number                                   NaN   \n",
       "Utility Type.Name                                        NaN   \n",
       "Code                                            OC006-B01/W4   \n",
       "\n",
       "                                                OC006-B01/W5  \\\n",
       "BuildingNo.                                            OC006   \n",
       "Building                      Chancellor's Wharf, Kent House   \n",
       "Locations.Space.Space number                             NaN   \n",
       "Space Name                                               NaN   \n",
       "Additional Location Info                                 NaN   \n",
       "Description                     Manual Shunt pump changeover   \n",
       "Classification Group                    EN.EN3 Energy Sensor   \n",
       "Record                                                   NaN   \n",
       "HVAC Ref                                                 NaN   \n",
       "Element Description                                      NaN   \n",
       "Servicable Area                                          NaN   \n",
       "Model                                                    NaN   \n",
       "Make                                                     NaN   \n",
       "EIS ID                                                    W5   \n",
       "Logger Channel                                             0   \n",
       "Logger Upstream Comms Target                             NaN   \n",
       "Logger Modem Serial Number                               NaN   \n",
       "Logger IP Address                                        NaN   \n",
       "Logger Serial Number                                     NaN   \n",
       "Logger MAC Address                                       NaN   \n",
       "Logger SIM                                               NaN   \n",
       "Meter Pulse Value                                        NaN   \n",
       "Meter Units                                              NaN   \n",
       "Meter Capacity                                           NaN   \n",
       "Network Point ID                                         NaN   \n",
       "Tenant Meter.Name                                         No   \n",
       "Fiscal Meter.Name                                         No   \n",
       "EIS Space.Space number                                   NaN   \n",
       "Utility Type.Name                                        NaN   \n",
       "Code                                            OC006-B01/W5   \n",
       "\n",
       "                                                OC006-B01/Y1  \\\n",
       "BuildingNo.                                            OC006   \n",
       "Building                      Chancellor's Wharf, Kent House   \n",
       "Locations.Space.Space number                             NaN   \n",
       "Space Name                                               NaN   \n",
       "Additional Location Info                                 NaN   \n",
       "Description                          Outside air temperature   \n",
       "Classification Group                    EN.EN3 Energy Sensor   \n",
       "Record                                                   NaN   \n",
       "HVAC Ref                                                 NaN   \n",
       "Element Description                                      NaN   \n",
       "Servicable Area                                          NaN   \n",
       "Model                                                    NaN   \n",
       "Make                                                     NaN   \n",
       "EIS ID                                                    Y1   \n",
       "Logger Channel                                             0   \n",
       "Logger Upstream Comms Target                             NaN   \n",
       "Logger Modem Serial Number                               NaN   \n",
       "Logger IP Address                                        NaN   \n",
       "Logger Serial Number                                     NaN   \n",
       "Logger MAC Address                                       NaN   \n",
       "Logger SIM                                               NaN   \n",
       "Meter Pulse Value                                        NaN   \n",
       "Meter Units                                              NaN   \n",
       "Meter Capacity                                           NaN   \n",
       "Network Point ID                                         NaN   \n",
       "Tenant Meter.Name                                         No   \n",
       "Fiscal Meter.Name                                         No   \n",
       "EIS Space.Space number                                   NaN   \n",
       "Utility Type.Name                                        NaN   \n",
       "Code                                            OC006-B01/Y1   \n",
       "\n",
       "                                                OC006-B01/Y2  \\\n",
       "BuildingNo.                                            OC006   \n",
       "Building                      Chancellor's Wharf, Kent House   \n",
       "Locations.Space.Space number                             NaN   \n",
       "Space Name                                               NaN   \n",
       "Additional Location Info                                 NaN   \n",
       "Description                                 Immersion Sensor   \n",
       "Classification Group                    EN.EN3 Energy Sensor   \n",
       "Record                                                   NaN   \n",
       "HVAC Ref                                                 NaN   \n",
       "Element Description                                      NaN   \n",
       "Servicable Area                                          NaN   \n",
       "Model                                                    NaN   \n",
       "Make                                                     NaN   \n",
       "EIS ID                                                    Y2   \n",
       "Logger Channel                                             0   \n",
       "Logger Upstream Comms Target                             NaN   \n",
       "Logger Modem Serial Number                               NaN   \n",
       "Logger IP Address                                        NaN   \n",
       "Logger Serial Number                                     NaN   \n",
       "Logger MAC Address                                       NaN   \n",
       "Logger SIM                                               NaN   \n",
       "Meter Pulse Value                                        NaN   \n",
       "Meter Units                                              NaN   \n",
       "Meter Capacity                                           NaN   \n",
       "Network Point ID                                         NaN   \n",
       "Tenant Meter.Name                                         No   \n",
       "Fiscal Meter.Name                                         No   \n",
       "EIS Space.Space number                                   NaN   \n",
       "Utility Type.Name                                        NaN   \n",
       "Code                                            OC006-B01/Y2   \n",
       "\n",
       "                                                OC006-B01/Y3  \\\n",
       "BuildingNo.                                            OC006   \n",
       "Building                      Chancellor's Wharf, Kent House   \n",
       "Locations.Space.Space number                             NaN   \n",
       "Space Name                                               NaN   \n",
       "Additional Location Info                                 NaN   \n",
       "Description                                  Thermistor TBTC   \n",
       "Classification Group                    EN.EN3 Energy Sensor   \n",
       "Record                                                   NaN   \n",
       "HVAC Ref                                                 NaN   \n",
       "Element Description                                      NaN   \n",
       "Servicable Area                                          NaN   \n",
       "Model                                                    NaN   \n",
       "Make                                                     NaN   \n",
       "EIS ID                                                    Y3   \n",
       "Logger Channel                                             0   \n",
       "Logger Upstream Comms Target                             NaN   \n",
       "Logger Modem Serial Number                               NaN   \n",
       "Logger IP Address                                        NaN   \n",
       "Logger Serial Number                                     NaN   \n",
       "Logger MAC Address                                       NaN   \n",
       "Logger SIM                                               NaN   \n",
       "Meter Pulse Value                                        NaN   \n",
       "Meter Units                                              NaN   \n",
       "Meter Capacity                                           NaN   \n",
       "Network Point ID                                         NaN   \n",
       "Tenant Meter.Name                                         No   \n",
       "Fiscal Meter.Name                                         No   \n",
       "EIS Space.Space number                                   NaN   \n",
       "Utility Type.Name                                        NaN   \n",
       "Code                                            OC006-B01/Y3   \n",
       "\n",
       "                                                OC006-B01/Y4  \\\n",
       "BuildingNo.                                            OC006   \n",
       "Building                      Chancellor's Wharf, Kent House   \n",
       "Locations.Space.Space number                             NaN   \n",
       "Space Name                                               NaN   \n",
       "Additional Location Info                                 NaN   \n",
       "Description                                 Room temperature   \n",
       "Classification Group                    EN.EN3 Energy Sensor   \n",
       "Record                                                   NaN   \n",
       "HVAC Ref                                                 NaN   \n",
       "Element Description                                      NaN   \n",
       "Servicable Area                                          NaN   \n",
       "Model                                                    NaN   \n",
       "Make                                                     NaN   \n",
       "EIS ID                                                    Y4   \n",
       "Logger Channel                                             0   \n",
       "Logger Upstream Comms Target                             NaN   \n",
       "Logger Modem Serial Number                               NaN   \n",
       "Logger IP Address                                        NaN   \n",
       "Logger Serial Number                                     NaN   \n",
       "Logger MAC Address                                       NaN   \n",
       "Logger SIM                                               NaN   \n",
       "Meter Pulse Value                                        NaN   \n",
       "Meter Units                                              NaN   \n",
       "Meter Capacity                                           NaN   \n",
       "Network Point ID                                         NaN   \n",
       "Tenant Meter.Name                                         No   \n",
       "Fiscal Meter.Name                                         No   \n",
       "EIS Space.Space number                                   NaN   \n",
       "Utility Type.Name                                        NaN   \n",
       "Code                                            OC006-B01/Y4   \n",
       "\n",
       "                                                OC006-B01/Y5  \\\n",
       "BuildingNo.                                            OC006   \n",
       "Building                      Chancellor's Wharf, Kent House   \n",
       "Locations.Space.Space number                             NaN   \n",
       "Space Name                                               NaN   \n",
       "Additional Location Info                                 NaN   \n",
       "Description                                  Thermistor TBTI   \n",
       "Classification Group                    EN.EN3 Energy Sensor   \n",
       "Record                                                   NaN   \n",
       "HVAC Ref                                                 NaN   \n",
       "Element Description                                      NaN   \n",
       "Servicable Area                                          NaN   \n",
       "Model                                                    NaN   \n",
       "Make                                                     NaN   \n",
       "EIS ID                                                    Y5   \n",
       "Logger Channel                                             0   \n",
       "Logger Upstream Comms Target                             NaN   \n",
       "Logger Modem Serial Number                               NaN   \n",
       "Logger IP Address                                        NaN   \n",
       "Logger Serial Number                                     NaN   \n",
       "Logger MAC Address                                       NaN   \n",
       "Logger SIM                                               NaN   \n",
       "Meter Pulse Value                                        NaN   \n",
       "Meter Units                                              NaN   \n",
       "Meter Capacity                                           NaN   \n",
       "Network Point ID                                         NaN   \n",
       "Tenant Meter.Name                                         No   \n",
       "Fiscal Meter.Name                                         No   \n",
       "EIS Space.Space number                                   NaN   \n",
       "Utility Type.Name                                        NaN   \n",
       "Code                                            OC006-B01/Y5   \n",
       "\n",
       "                                                OC006-B01/Y6  \\\n",
       "BuildingNo.                                            OC006   \n",
       "Building                      Chancellor's Wharf, Kent House   \n",
       "Locations.Space.Space number                             NaN   \n",
       "Space Name                                               NaN   \n",
       "Additional Location Info                                 NaN   \n",
       "Description                                           4DIX V   \n",
       "Classification Group                    EN.EN3 Energy Sensor   \n",
       "Record                                                   NaN   \n",
       "HVAC Ref                                                 NaN   \n",
       "Element Description                                      NaN   \n",
       "Servicable Area                                          NaN   \n",
       "Model                                                    NaN   \n",
       "Make                                                     NaN   \n",
       "EIS ID                                                    Y6   \n",
       "Logger Channel                                             0   \n",
       "Logger Upstream Comms Target                             NaN   \n",
       "Logger Modem Serial Number                               NaN   \n",
       "Logger IP Address                                        NaN   \n",
       "Logger Serial Number                                     NaN   \n",
       "Logger MAC Address                                       NaN   \n",
       "Logger SIM                                               NaN   \n",
       "Meter Pulse Value                                        NaN   \n",
       "Meter Units                                              NaN   \n",
       "Meter Capacity                                           NaN   \n",
       "Network Point ID                                         NaN   \n",
       "Tenant Meter.Name                                         No   \n",
       "Fiscal Meter.Name                                         No   \n",
       "EIS Space.Space number                                   NaN   \n",
       "Utility Type.Name                                        NaN   \n",
       "Code                                            OC006-B01/Y6   \n",
       "\n",
       "                                                OC006-B01/Z1  \\\n",
       "BuildingNo.                                            OC006   \n",
       "Building                      Chancellor's Wharf, Kent House   \n",
       "Locations.Space.Space number                             NaN   \n",
       "Space Name                                               NaN   \n",
       "Additional Location Info                                 NaN   \n",
       "Description                                  Heating Boilers   \n",
       "Classification Group                    EN.EN3 Energy Sensor   \n",
       "Record                                                   NaN   \n",
       "HVAC Ref                                                 NaN   \n",
       "Element Description                                      NaN   \n",
       "Servicable Area                                          NaN   \n",
       "Model                                                    NaN   \n",
       "Make                                                     NaN   \n",
       "EIS ID                                                    Z1   \n",
       "Logger Channel                                             0   \n",
       "Logger Upstream Comms Target                             NaN   \n",
       "Logger Modem Serial Number                               NaN   \n",
       "Logger IP Address                                        NaN   \n",
       "Logger Serial Number                                     NaN   \n",
       "Logger MAC Address                                       NaN   \n",
       "Logger SIM                                               NaN   \n",
       "Meter Pulse Value                                        NaN   \n",
       "Meter Units                                              NaN   \n",
       "Meter Capacity                                           NaN   \n",
       "Network Point ID                                         NaN   \n",
       "Tenant Meter.Name                                         No   \n",
       "Fiscal Meter.Name                                         No   \n",
       "EIS Space.Space number                                   NaN   \n",
       "Utility Type.Name                                        NaN   \n",
       "Code                                            OC006-B01/Z1   \n",
       "\n",
       "                                                OC006-B01/Z2  \n",
       "BuildingNo.                                            OC006  \n",
       "Building                      Chancellor's Wharf, Kent House  \n",
       "Locations.Space.Space number                             NaN  \n",
       "Space Name                                               NaN  \n",
       "Additional Location Info                                 NaN  \n",
       "Description                                   DHWS Immersion  \n",
       "Classification Group                    EN.EN3 Energy Sensor  \n",
       "Record                                                   NaN  \n",
       "HVAC Ref                                                 NaN  \n",
       "Element Description                                      NaN  \n",
       "Servicable Area                                          NaN  \n",
       "Model                                                    NaN  \n",
       "Make                                                     NaN  \n",
       "EIS ID                                                    Z2  \n",
       "Logger Channel                                             0  \n",
       "Logger Upstream Comms Target                             NaN  \n",
       "Logger Modem Serial Number                               NaN  \n",
       "Logger IP Address                                        NaN  \n",
       "Logger Serial Number                                     NaN  \n",
       "Logger MAC Address                                       NaN  \n",
       "Logger SIM                                               NaN  \n",
       "Meter Pulse Value                                        NaN  \n",
       "Meter Units                                              NaN  \n",
       "Meter Capacity                                           NaN  \n",
       "Network Point ID                                         NaN  \n",
       "Tenant Meter.Name                                         No  \n",
       "Fiscal Meter.Name                                         No  \n",
       "EIS Space.Space number                                   NaN  \n",
       "Utility Type.Name                                        NaN  \n",
       "Code                                            OC006-B01/Z2  \n",
       "\n",
       "[30 rows x 32712 columns]"
      ]
     },
     "execution_count": 17,
     "metadata": {},
     "output_type": "execute_result"
    }
   ],
   "source": [
    "planon_meterssensors.T"
   ]
  },
  {
   "cell_type": "code",
   "execution_count": 18,
   "metadata": {
    "collapsed": false
   },
   "outputs": [
    {
     "data": {
      "text/html": [
       "<div>\n",
       "<table border=\"1\" class=\"dataframe\">\n",
       "  <thead>\n",
       "    <tr style=\"text-align: right;\">\n",
       "      <th></th>\n",
       "      <th>AP000-L01/M001</th>\n",
       "      <th>AP000-L02/M001</th>\n",
       "      <th>AP000-L02/M002</th>\n",
       "      <th>AP000-L03/M001</th>\n",
       "      <th>AP000-L03/M002</th>\n",
       "      <th>AP000-L99/M303</th>\n",
       "      <th>AP000-L99/M308</th>\n",
       "      <th>AP001-L01/M001</th>\n",
       "      <th>AP001-L01/M002</th>\n",
       "      <th>AP001-L01/M003</th>\n",
       "      <th>...</th>\n",
       "      <th>OC006-B01/Y1</th>\n",
       "      <th>OC006-B01/Y2</th>\n",
       "      <th>OC006-B01/Y3</th>\n",
       "      <th>OC006-B01/Y4</th>\n",
       "      <th>OC006-B01/Y5</th>\n",
       "      <th>OC006-B01/Y6</th>\n",
       "      <th>OC006-B01/Z1</th>\n",
       "      <th>OC006-B01/Z2</th>\n",
       "      <th>OC006-L99/M200</th>\n",
       "      <th>OC006-L99/M503</th>\n",
       "    </tr>\n",
       "  </thead>\n",
       "  <tbody>\n",
       "    <tr>\n",
       "      <th>Logger Asset Code</th>\n",
       "      <td>050157C7ED00</td>\n",
       "      <td>37475126</td>\n",
       "      <td>37475126</td>\n",
       "      <td>48015355</td>\n",
       "      <td>48015355</td>\n",
       "      <td>NaN</td>\n",
       "      <td>NaN</td>\n",
       "      <td>0501E3E97100</td>\n",
       "      <td>0501E3E97100</td>\n",
       "      <td>0501E3E97100</td>\n",
       "      <td>...</td>\n",
       "      <td>{BBD3685B-B0DC-417F-A0E8-20139B1074E1}</td>\n",
       "      <td>{BBD3685B-B0DC-417F-A0E8-20139B1074E1}</td>\n",
       "      <td>{BBD3685B-B0DC-417F-A0E8-20139B1074E1}</td>\n",
       "      <td>{BBD3685B-B0DC-417F-A0E8-20139B1074E1}</td>\n",
       "      <td>{BBD3685B-B0DC-417F-A0E8-20139B1074E1}</td>\n",
       "      <td>{BBD3685B-B0DC-417F-A0E8-20139B1074E1}</td>\n",
       "      <td>{BBD3685B-B0DC-417F-A0E8-20139B1074E1}</td>\n",
       "      <td>{BBD3685B-B0DC-417F-A0E8-20139B1074E1}</td>\n",
       "      <td>NaN</td>\n",
       "      <td>NaN</td>\n",
       "    </tr>\n",
       "    <tr>\n",
       "      <th>Description</th>\n",
       "      <td>NaN</td>\n",
       "      <td>Graduate House 1-11</td>\n",
       "      <td>Alex Park Main</td>\n",
       "      <td>NaN</td>\n",
       "      <td>NaN</td>\n",
       "      <td>Alex Park LU</td>\n",
       "      <td>Alex Park UPP</td>\n",
       "      <td>NaN</td>\n",
       "      <td>Bar Cellar</td>\n",
       "      <td>Bar Ground</td>\n",
       "      <td>...</td>\n",
       "      <td>Outside air temperature</td>\n",
       "      <td>Immersion Sensor</td>\n",
       "      <td>Thermistor TBTC</td>\n",
       "      <td>Room temperature</td>\n",
       "      <td>Thermistor TBTI</td>\n",
       "      <td>4DIX V</td>\n",
       "      <td>Heating Boilers</td>\n",
       "      <td>DHWS Immersion</td>\n",
       "      <td>Kent House</td>\n",
       "      <td>Kent House</td>\n",
       "    </tr>\n",
       "    <tr>\n",
       "      <th>Make</th>\n",
       "      <td>Carlo Gavazzi</td>\n",
       "      <td>Actaris</td>\n",
       "      <td>Delta</td>\n",
       "      <td></td>\n",
       "      <td></td>\n",
       "      <td>NaN</td>\n",
       "      <td>NaN</td>\n",
       "      <td></td>\n",
       "      <td>Elster</td>\n",
       "      <td>Landis</td>\n",
       "      <td>...</td>\n",
       "      <td>NaN</td>\n",
       "      <td>NaN</td>\n",
       "      <td>NaN</td>\n",
       "      <td>NaN</td>\n",
       "      <td>NaN</td>\n",
       "      <td>NaN</td>\n",
       "      <td>NaN</td>\n",
       "      <td>NaN</td>\n",
       "      <td>NaN</td>\n",
       "      <td>NaN</td>\n",
       "    </tr>\n",
       "    <tr>\n",
       "      <th>Model</th>\n",
       "      <td>EM24</td>\n",
       "      <td>Delta G</td>\n",
       "      <td>D35</td>\n",
       "      <td></td>\n",
       "      <td></td>\n",
       "      <td>NaN</td>\n",
       "      <td>NaN</td>\n",
       "      <td></td>\n",
       "      <td>A1100</td>\n",
       "      <td>E1100</td>\n",
       "      <td>...</td>\n",
       "      <td>NaN</td>\n",
       "      <td>NaN</td>\n",
       "      <td>NaN</td>\n",
       "      <td>NaN</td>\n",
       "      <td>NaN</td>\n",
       "      <td>NaN</td>\n",
       "      <td>NaN</td>\n",
       "      <td>NaN</td>\n",
       "      <td>NaN</td>\n",
       "      <td>NaN</td>\n",
       "    </tr>\n",
       "    <tr>\n",
       "      <th>Meter Units</th>\n",
       "      <td>kWh</td>\n",
       "      <td>NaN</td>\n",
       "      <td>NaN</td>\n",
       "      <td>NaN</td>\n",
       "      <td>NaN</td>\n",
       "      <td>NaN</td>\n",
       "      <td>NaN</td>\n",
       "      <td>m3</td>\n",
       "      <td>kWh</td>\n",
       "      <td>kWh</td>\n",
       "      <td>...</td>\n",
       "      <td>Degrees Celsius</td>\n",
       "      <td>NaN</td>\n",
       "      <td>NaN</td>\n",
       "      <td>Degrees Celsius</td>\n",
       "      <td>Degrees Celsius</td>\n",
       "      <td>NaN</td>\n",
       "      <td>NaN</td>\n",
       "      <td>NaN</td>\n",
       "      <td>NaN</td>\n",
       "      <td>NaN</td>\n",
       "    </tr>\n",
       "    <tr>\n",
       "      <th>Meter Pulse Value</th>\n",
       "      <td>1</td>\n",
       "      <td>NaN</td>\n",
       "      <td>NaN</td>\n",
       "      <td>NaN</td>\n",
       "      <td>NaN</td>\n",
       "      <td>NaN</td>\n",
       "      <td>NaN</td>\n",
       "      <td>0.001</td>\n",
       "      <td>0.001</td>\n",
       "      <td>0.001</td>\n",
       "      <td>...</td>\n",
       "      <td>NaN</td>\n",
       "      <td>NaN</td>\n",
       "      <td>NaN</td>\n",
       "      <td>NaN</td>\n",
       "      <td>NaN</td>\n",
       "      <td>NaN</td>\n",
       "      <td>NaN</td>\n",
       "      <td>NaN</td>\n",
       "      <td>NaN</td>\n",
       "      <td>NaN</td>\n",
       "    </tr>\n",
       "    <tr>\n",
       "      <th>Classification Group</th>\n",
       "      <td>Energy meter</td>\n",
       "      <td>Energy meter</td>\n",
       "      <td>Energy meter</td>\n",
       "      <td>Energy meter</td>\n",
       "      <td>Energy meter</td>\n",
       "      <td>Energy meter</td>\n",
       "      <td>Energy meter</td>\n",
       "      <td>Energy meter</td>\n",
       "      <td>Energy meter</td>\n",
       "      <td>Energy meter</td>\n",
       "      <td>...</td>\n",
       "      <td>Energy sensor</td>\n",
       "      <td>Energy sensor</td>\n",
       "      <td>Energy sensor</td>\n",
       "      <td>Energy sensor</td>\n",
       "      <td>Energy sensor</td>\n",
       "      <td>Energy sensor</td>\n",
       "      <td>Energy sensor</td>\n",
       "      <td>Energy sensor</td>\n",
       "      <td>Energy meter</td>\n",
       "      <td>Energy meter</td>\n",
       "    </tr>\n",
       "    <tr>\n",
       "      <th>Logger Channel</th>\n",
       "      <td>1</td>\n",
       "      <td>1</td>\n",
       "      <td>2</td>\n",
       "      <td>1</td>\n",
       "      <td>2</td>\n",
       "      <td>NaN</td>\n",
       "      <td>NaN</td>\n",
       "      <td>1</td>\n",
       "      <td>2</td>\n",
       "      <td>3</td>\n",
       "      <td>...</td>\n",
       "      <td>Y1</td>\n",
       "      <td>Y2</td>\n",
       "      <td>Y3</td>\n",
       "      <td>Y4</td>\n",
       "      <td>Y5</td>\n",
       "      <td>Y6</td>\n",
       "      <td>Z1</td>\n",
       "      <td>Z2</td>\n",
       "      <td>NaN</td>\n",
       "      <td>NaN</td>\n",
       "    </tr>\n",
       "    <tr>\n",
       "      <th>Utility Type</th>\n",
       "      <td>Electricity</td>\n",
       "      <td>Natural Gas</td>\n",
       "      <td>Natural Gas</td>\n",
       "      <td>Water</td>\n",
       "      <td>Water</td>\n",
       "      <td>Natural Gas</td>\n",
       "      <td>Natural Gas</td>\n",
       "      <td>Water</td>\n",
       "      <td>Electricity</td>\n",
       "      <td>Electricity</td>\n",
       "      <td>...</td>\n",
       "      <td>NaN</td>\n",
       "      <td>NaN</td>\n",
       "      <td>NaN</td>\n",
       "      <td>NaN</td>\n",
       "      <td>NaN</td>\n",
       "      <td>NaN</td>\n",
       "      <td>NaN</td>\n",
       "      <td>NaN</td>\n",
       "      <td>Electricity</td>\n",
       "      <td>Water</td>\n",
       "    </tr>\n",
       "    <tr>\n",
       "      <th>??</th>\n",
       "      <td>NaN</td>\n",
       "      <td>NaN</td>\n",
       "      <td>NaN</td>\n",
       "      <td>NaN</td>\n",
       "      <td>NaN</td>\n",
       "      <td>NaN</td>\n",
       "      <td>NaN</td>\n",
       "      <td>NaN</td>\n",
       "      <td>NaN</td>\n",
       "      <td>NaN</td>\n",
       "      <td>...</td>\n",
       "      <td>NaN</td>\n",
       "      <td>NaN</td>\n",
       "      <td>NaN</td>\n",
       "      <td>NaN</td>\n",
       "      <td>NaN</td>\n",
       "      <td>NaN</td>\n",
       "      <td>NaN</td>\n",
       "      <td>NaN</td>\n",
       "      <td>NaN</td>\n",
       "      <td>NaN</td>\n",
       "    </tr>\n",
       "    <tr>\n",
       "      <th>Meter Type</th>\n",
       "      <td>NaN</td>\n",
       "      <td>NaN</td>\n",
       "      <td>NaN</td>\n",
       "      <td>NaN</td>\n",
       "      <td>NaN</td>\n",
       "      <td>NaN</td>\n",
       "      <td>NaN</td>\n",
       "      <td>NaN</td>\n",
       "      <td>NaN</td>\n",
       "      <td>NaN</td>\n",
       "      <td>...</td>\n",
       "      <td>NaN</td>\n",
       "      <td>NaN</td>\n",
       "      <td>NaN</td>\n",
       "      <td>NaN</td>\n",
       "      <td>NaN</td>\n",
       "      <td>NaN</td>\n",
       "      <td>NaN</td>\n",
       "      <td>NaN</td>\n",
       "      <td>NaN</td>\n",
       "      <td>NaN</td>\n",
       "    </tr>\n",
       "    <tr>\n",
       "      <th>Building Code</th>\n",
       "      <td>AP000</td>\n",
       "      <td>AP000</td>\n",
       "      <td>AP000</td>\n",
       "      <td>AP000</td>\n",
       "      <td>AP000</td>\n",
       "      <td>AP000</td>\n",
       "      <td>AP000</td>\n",
       "      <td>AP001</td>\n",
       "      <td>AP001</td>\n",
       "      <td>AP001</td>\n",
       "      <td>...</td>\n",
       "      <td>OC006</td>\n",
       "      <td>OC006</td>\n",
       "      <td>OC006</td>\n",
       "      <td>OC006</td>\n",
       "      <td>OC006</td>\n",
       "      <td>OC006</td>\n",
       "      <td>OC006</td>\n",
       "      <td>OC006</td>\n",
       "      <td>OC006</td>\n",
       "      <td>OC006</td>\n",
       "    </tr>\n",
       "    <tr>\n",
       "      <th>Building Name</th>\n",
       "      <td>Alexandra Park</td>\n",
       "      <td>Alexandra Park</td>\n",
       "      <td>Alexandra Park</td>\n",
       "      <td>Alexandra Park</td>\n",
       "      <td>Alexandra Park</td>\n",
       "      <td>Alexandra Park</td>\n",
       "      <td>Alexandra Park</td>\n",
       "      <td>House 01 - Bassenthwaite</td>\n",
       "      <td>House 01 - Bassenthwaite</td>\n",
       "      <td>House 01 - Bassenthwaite</td>\n",
       "      <td>...</td>\n",
       "      <td>Chancellor's Wharf, Kent House</td>\n",
       "      <td>Chancellor's Wharf, Kent House</td>\n",
       "      <td>Chancellor's Wharf, Kent House</td>\n",
       "      <td>Chancellor's Wharf, Kent House</td>\n",
       "      <td>Chancellor's Wharf, Kent House</td>\n",
       "      <td>Chancellor's Wharf, Kent House</td>\n",
       "      <td>Chancellor's Wharf, Kent House</td>\n",
       "      <td>Chancellor's Wharf, Kent House</td>\n",
       "      <td>Chancellor's Wharf, Kent House</td>\n",
       "      <td>Chancellor's Wharf, Kent House</td>\n",
       "    </tr>\n",
       "    <tr>\n",
       "      <th>Space</th>\n",
       "      <td>NaN</td>\n",
       "      <td>NaN</td>\n",
       "      <td>NaN</td>\n",
       "      <td>NaN</td>\n",
       "      <td>NaN</td>\n",
       "      <td>AP001 A0, AP002 A0, AP003 A0, AP004 A0, Ap005 ...</td>\n",
       "      <td>AP012 A0, AP013 A0, AP014 A0, AP015 A0, AP016 ...</td>\n",
       "      <td>NaN</td>\n",
       "      <td>NaN</td>\n",
       "      <td>NaN</td>\n",
       "      <td>...</td>\n",
       "      <td>NaN</td>\n",
       "      <td>NaN</td>\n",
       "      <td>NaN</td>\n",
       "      <td>NaN</td>\n",
       "      <td>NaN</td>\n",
       "      <td>NaN</td>\n",
       "      <td>NaN</td>\n",
       "      <td>NaN</td>\n",
       "      <td>OC006 A0</td>\n",
       "      <td>OC006 A0</td>\n",
       "    </tr>\n",
       "    <tr>\n",
       "      <th>Additional Location Info</th>\n",
       "      <td>Graduate 1-11 Plant Room</td>\n",
       "      <td>External Gas Meter Building</td>\n",
       "      <td>External Gas Meter Building</td>\n",
       "      <td>External Water Meter Chamber</td>\n",
       "      <td>External Water Meter Chamber</td>\n",
       "      <td>NaN</td>\n",
       "      <td>NaN</td>\n",
       "      <td>Bassenthwaite Rm  No 104</td>\n",
       "      <td>Bassenthwaite Rm  No 104</td>\n",
       "      <td>Bassenthwaite Rm  No 104</td>\n",
       "      <td>...</td>\n",
       "      <td>NaN</td>\n",
       "      <td>NaN</td>\n",
       "      <td>NaN</td>\n",
       "      <td>NaN</td>\n",
       "      <td>NaN</td>\n",
       "      <td>NaN</td>\n",
       "      <td>NaN</td>\n",
       "      <td>NaN</td>\n",
       "      <td>NaN</td>\n",
       "      <td>NaN</td>\n",
       "    </tr>\n",
       "    <tr>\n",
       "      <th>Tenant meter</th>\n",
       "      <td>0</td>\n",
       "      <td>0</td>\n",
       "      <td>0</td>\n",
       "      <td>0</td>\n",
       "      <td>0</td>\n",
       "      <td>0</td>\n",
       "      <td>0</td>\n",
       "      <td>0</td>\n",
       "      <td>0</td>\n",
       "      <td>0</td>\n",
       "      <td>...</td>\n",
       "      <td>0</td>\n",
       "      <td>0</td>\n",
       "      <td>0</td>\n",
       "      <td>0</td>\n",
       "      <td>0</td>\n",
       "      <td>0</td>\n",
       "      <td>0</td>\n",
       "      <td>0</td>\n",
       "      <td>0</td>\n",
       "      <td>0</td>\n",
       "    </tr>\n",
       "    <tr>\n",
       "      <th>Fiscal meter</th>\n",
       "      <td>0</td>\n",
       "      <td>0</td>\n",
       "      <td>0</td>\n",
       "      <td>0</td>\n",
       "      <td>0</td>\n",
       "      <td>1</td>\n",
       "      <td>1</td>\n",
       "      <td>0</td>\n",
       "      <td>0</td>\n",
       "      <td>0</td>\n",
       "      <td>...</td>\n",
       "      <td>0</td>\n",
       "      <td>0</td>\n",
       "      <td>0</td>\n",
       "      <td>0</td>\n",
       "      <td>0</td>\n",
       "      <td>0</td>\n",
       "      <td>0</td>\n",
       "      <td>0</td>\n",
       "      <td>1</td>\n",
       "      <td>1</td>\n",
       "    </tr>\n",
       "    <tr>\n",
       "      <th>Parent meter</th>\n",
       "      <td>NaN</td>\n",
       "      <td>NaN</td>\n",
       "      <td>NaN</td>\n",
       "      <td>NaN</td>\n",
       "      <td>NaN</td>\n",
       "      <td>NaN</td>\n",
       "      <td>NaN</td>\n",
       "      <td>NaN</td>\n",
       "      <td>NaN</td>\n",
       "      <td>NaN</td>\n",
       "      <td>...</td>\n",
       "      <td>NaN</td>\n",
       "      <td>NaN</td>\n",
       "      <td>NaN</td>\n",
       "      <td>NaN</td>\n",
       "      <td>NaN</td>\n",
       "      <td>NaN</td>\n",
       "      <td>NaN</td>\n",
       "      <td>NaN</td>\n",
       "      <td>NaN</td>\n",
       "      <td>NaN</td>\n",
       "    </tr>\n",
       "    <tr>\n",
       "      <th>Child meters</th>\n",
       "      <td>NaN</td>\n",
       "      <td>NaN</td>\n",
       "      <td>NaN</td>\n",
       "      <td>NaN</td>\n",
       "      <td>NaN</td>\n",
       "      <td>NaN</td>\n",
       "      <td>NaN</td>\n",
       "      <td>NaN</td>\n",
       "      <td>NaN</td>\n",
       "      <td>NaN</td>\n",
       "      <td>...</td>\n",
       "      <td>NaN</td>\n",
       "      <td>NaN</td>\n",
       "      <td>NaN</td>\n",
       "      <td>NaN</td>\n",
       "      <td>NaN</td>\n",
       "      <td>NaN</td>\n",
       "      <td>NaN</td>\n",
       "      <td>NaN</td>\n",
       "      <td>NaN</td>\n",
       "      <td>NaN</td>\n",
       "    </tr>\n",
       "    <tr>\n",
       "      <th>Communications type</th>\n",
       "      <td>NaN</td>\n",
       "      <td>NaN</td>\n",
       "      <td>NaN</td>\n",
       "      <td>NaN</td>\n",
       "      <td>NaN</td>\n",
       "      <td>NaN</td>\n",
       "      <td>NaN</td>\n",
       "      <td>NaN</td>\n",
       "      <td>NaN</td>\n",
       "      <td>NaN</td>\n",
       "      <td>...</td>\n",
       "      <td>NaN</td>\n",
       "      <td>NaN</td>\n",
       "      <td>NaN</td>\n",
       "      <td>NaN</td>\n",
       "      <td>NaN</td>\n",
       "      <td>NaN</td>\n",
       "      <td>NaN</td>\n",
       "      <td>NaN</td>\n",
       "      <td>NaN</td>\n",
       "      <td>NaN</td>\n",
       "    </tr>\n",
       "    <tr>\n",
       "      <th>Electrical panel ID</th>\n",
       "      <td>NaN</td>\n",
       "      <td>NaN</td>\n",
       "      <td>NaN</td>\n",
       "      <td>NaN</td>\n",
       "      <td>NaN</td>\n",
       "      <td>NaN</td>\n",
       "      <td>NaN</td>\n",
       "      <td>NaN</td>\n",
       "      <td>NaN</td>\n",
       "      <td>NaN</td>\n",
       "      <td>...</td>\n",
       "      <td>NaN</td>\n",
       "      <td>NaN</td>\n",
       "      <td>NaN</td>\n",
       "      <td>NaN</td>\n",
       "      <td>NaN</td>\n",
       "      <td>NaN</td>\n",
       "      <td>NaN</td>\n",
       "      <td>NaN</td>\n",
       "      <td>NaN</td>\n",
       "      <td>NaN</td>\n",
       "    </tr>\n",
       "    <tr>\n",
       "      <th>Code</th>\n",
       "      <td>AP000-L01/M001</td>\n",
       "      <td>AP000-L02/M001</td>\n",
       "      <td>AP000-L02/M002</td>\n",
       "      <td>AP000-L03/M001</td>\n",
       "      <td>AP000-L03/M002</td>\n",
       "      <td>AP000-L99/M303</td>\n",
       "      <td>AP000-L99/M308</td>\n",
       "      <td>AP001-L01/M001</td>\n",
       "      <td>AP001-L01/M002</td>\n",
       "      <td>AP001-L01/M003</td>\n",
       "      <td>...</td>\n",
       "      <td>OC006-B01/Y1</td>\n",
       "      <td>OC006-B01/Y2</td>\n",
       "      <td>OC006-B01/Y3</td>\n",
       "      <td>OC006-B01/Y4</td>\n",
       "      <td>OC006-B01/Y5</td>\n",
       "      <td>OC006-B01/Y6</td>\n",
       "      <td>OC006-B01/Z1</td>\n",
       "      <td>OC006-B01/Z2</td>\n",
       "      <td>OC006-L99/M200</td>\n",
       "      <td>OC006-L99/M503</td>\n",
       "    </tr>\n",
       "  </tbody>\n",
       "</table>\n",
       "<p>22 rows × 30539 columns</p>\n",
       "</div>"
      ],
      "text/plain": [
       "                                    AP000-L01/M001  \\\n",
       "Logger Asset Code                     050157C7ED00   \n",
       "Description                                    NaN   \n",
       "Make                                 Carlo Gavazzi   \n",
       "Model                                         EM24   \n",
       "Meter Units                                    kWh   \n",
       "Meter Pulse Value                                1   \n",
       "Classification Group                  Energy meter   \n",
       "Logger Channel                                   1   \n",
       "Utility Type                           Electricity   \n",
       "??                                             NaN   \n",
       "Meter Type                                     NaN   \n",
       "Building Code                                AP000   \n",
       "Building Name                       Alexandra Park   \n",
       "Space                                          NaN   \n",
       "Additional Location Info  Graduate 1-11 Plant Room   \n",
       "Tenant meter                                     0   \n",
       "Fiscal meter                                     0   \n",
       "Parent meter                                   NaN   \n",
       "Child meters                                   NaN   \n",
       "Communications type                            NaN   \n",
       "Electrical panel ID                            NaN   \n",
       "Code                                AP000-L01/M001   \n",
       "\n",
       "                                       AP000-L02/M001  \\\n",
       "Logger Asset Code                            37475126   \n",
       "Description                       Graduate House 1-11   \n",
       "Make                                          Actaris   \n",
       "Model                                         Delta G   \n",
       "Meter Units                                       NaN   \n",
       "Meter Pulse Value                                 NaN   \n",
       "Classification Group                     Energy meter   \n",
       "Logger Channel                                      1   \n",
       "Utility Type                              Natural Gas   \n",
       "??                                                NaN   \n",
       "Meter Type                                        NaN   \n",
       "Building Code                                   AP000   \n",
       "Building Name                          Alexandra Park   \n",
       "Space                                             NaN   \n",
       "Additional Location Info  External Gas Meter Building   \n",
       "Tenant meter                                        0   \n",
       "Fiscal meter                                        0   \n",
       "Parent meter                                      NaN   \n",
       "Child meters                                      NaN   \n",
       "Communications type                               NaN   \n",
       "Electrical panel ID                               NaN   \n",
       "Code                                   AP000-L02/M001   \n",
       "\n",
       "                                       AP000-L02/M002  \\\n",
       "Logger Asset Code                            37475126   \n",
       "Description                            Alex Park Main   \n",
       "Make                                           Delta    \n",
       "Model                                             D35   \n",
       "Meter Units                                       NaN   \n",
       "Meter Pulse Value                                 NaN   \n",
       "Classification Group                     Energy meter   \n",
       "Logger Channel                                      2   \n",
       "Utility Type                              Natural Gas   \n",
       "??                                                NaN   \n",
       "Meter Type                                        NaN   \n",
       "Building Code                                   AP000   \n",
       "Building Name                          Alexandra Park   \n",
       "Space                                             NaN   \n",
       "Additional Location Info  External Gas Meter Building   \n",
       "Tenant meter                                        0   \n",
       "Fiscal meter                                        0   \n",
       "Parent meter                                      NaN   \n",
       "Child meters                                      NaN   \n",
       "Communications type                               NaN   \n",
       "Electrical panel ID                               NaN   \n",
       "Code                                   AP000-L02/M002   \n",
       "\n",
       "                                        AP000-L03/M001  \\\n",
       "Logger Asset Code                             48015355   \n",
       "Description                                        NaN   \n",
       "Make                                                     \n",
       "Model                                                    \n",
       "Meter Units                                        NaN   \n",
       "Meter Pulse Value                                  NaN   \n",
       "Classification Group                      Energy meter   \n",
       "Logger Channel                                       1   \n",
       "Utility Type                                     Water   \n",
       "??                                                 NaN   \n",
       "Meter Type                                         NaN   \n",
       "Building Code                                    AP000   \n",
       "Building Name                           Alexandra Park   \n",
       "Space                                              NaN   \n",
       "Additional Location Info  External Water Meter Chamber   \n",
       "Tenant meter                                         0   \n",
       "Fiscal meter                                         0   \n",
       "Parent meter                                       NaN   \n",
       "Child meters                                       NaN   \n",
       "Communications type                                NaN   \n",
       "Electrical panel ID                                NaN   \n",
       "Code                                    AP000-L03/M001   \n",
       "\n",
       "                                        AP000-L03/M002  \\\n",
       "Logger Asset Code                             48015355   \n",
       "Description                                        NaN   \n",
       "Make                                                     \n",
       "Model                                                    \n",
       "Meter Units                                        NaN   \n",
       "Meter Pulse Value                                  NaN   \n",
       "Classification Group                      Energy meter   \n",
       "Logger Channel                                       2   \n",
       "Utility Type                                     Water   \n",
       "??                                                 NaN   \n",
       "Meter Type                                         NaN   \n",
       "Building Code                                    AP000   \n",
       "Building Name                           Alexandra Park   \n",
       "Space                                              NaN   \n",
       "Additional Location Info  External Water Meter Chamber   \n",
       "Tenant meter                                         0   \n",
       "Fiscal meter                                         0   \n",
       "Parent meter                                       NaN   \n",
       "Child meters                                       NaN   \n",
       "Communications type                                NaN   \n",
       "Electrical panel ID                                NaN   \n",
       "Code                                    AP000-L03/M002   \n",
       "\n",
       "                                                             AP000-L99/M303  \\\n",
       "Logger Asset Code                                                       NaN   \n",
       "Description                                                    Alex Park LU   \n",
       "Make                                                                    NaN   \n",
       "Model                                                                   NaN   \n",
       "Meter Units                                                             NaN   \n",
       "Meter Pulse Value                                                       NaN   \n",
       "Classification Group                                           Energy meter   \n",
       "Logger Channel                                                          NaN   \n",
       "Utility Type                                                    Natural Gas   \n",
       "??                                                                      NaN   \n",
       "Meter Type                                                              NaN   \n",
       "Building Code                                                         AP000   \n",
       "Building Name                                                Alexandra Park   \n",
       "Space                     AP001 A0, AP002 A0, AP003 A0, AP004 A0, Ap005 ...   \n",
       "Additional Location Info                                                NaN   \n",
       "Tenant meter                                                              0   \n",
       "Fiscal meter                                                              1   \n",
       "Parent meter                                                            NaN   \n",
       "Child meters                                                            NaN   \n",
       "Communications type                                                     NaN   \n",
       "Electrical panel ID                                                     NaN   \n",
       "Code                                                         AP000-L99/M303   \n",
       "\n",
       "                                                             AP000-L99/M308  \\\n",
       "Logger Asset Code                                                       NaN   \n",
       "Description                                                   Alex Park UPP   \n",
       "Make                                                                    NaN   \n",
       "Model                                                                   NaN   \n",
       "Meter Units                                                             NaN   \n",
       "Meter Pulse Value                                                       NaN   \n",
       "Classification Group                                           Energy meter   \n",
       "Logger Channel                                                          NaN   \n",
       "Utility Type                                                    Natural Gas   \n",
       "??                                                                      NaN   \n",
       "Meter Type                                                              NaN   \n",
       "Building Code                                                         AP000   \n",
       "Building Name                                                Alexandra Park   \n",
       "Space                     AP012 A0, AP013 A0, AP014 A0, AP015 A0, AP016 ...   \n",
       "Additional Location Info                                                NaN   \n",
       "Tenant meter                                                              0   \n",
       "Fiscal meter                                                              1   \n",
       "Parent meter                                                            NaN   \n",
       "Child meters                                                            NaN   \n",
       "Communications type                                                     NaN   \n",
       "Electrical panel ID                                                     NaN   \n",
       "Code                                                         AP000-L99/M308   \n",
       "\n",
       "                                    AP001-L01/M001            AP001-L01/M002  \\\n",
       "Logger Asset Code                     0501E3E97100              0501E3E97100   \n",
       "Description                                    NaN              Bar Cellar     \n",
       "Make                                                                  Elster   \n",
       "Model                                                                  A1100   \n",
       "Meter Units                                     m3                       kWh   \n",
       "Meter Pulse Value                            0.001                     0.001   \n",
       "Classification Group                  Energy meter              Energy meter   \n",
       "Logger Channel                                   1                         2   \n",
       "Utility Type                                 Water               Electricity   \n",
       "??                                             NaN                       NaN   \n",
       "Meter Type                                     NaN                       NaN   \n",
       "Building Code                                AP001                     AP001   \n",
       "Building Name             House 01 - Bassenthwaite  House 01 - Bassenthwaite   \n",
       "Space                                          NaN                       NaN   \n",
       "Additional Location Info  Bassenthwaite Rm  No 104  Bassenthwaite Rm  No 104   \n",
       "Tenant meter                                     0                         0   \n",
       "Fiscal meter                                     0                         0   \n",
       "Parent meter                                   NaN                       NaN   \n",
       "Child meters                                   NaN                       NaN   \n",
       "Communications type                            NaN                       NaN   \n",
       "Electrical panel ID                            NaN                       NaN   \n",
       "Code                                AP001-L01/M001            AP001-L01/M002   \n",
       "\n",
       "                                    AP001-L01/M003  \\\n",
       "Logger Asset Code                     0501E3E97100   \n",
       "Description                           Bar Ground     \n",
       "Make                                        Landis   \n",
       "Model                                        E1100   \n",
       "Meter Units                                    kWh   \n",
       "Meter Pulse Value                            0.001   \n",
       "Classification Group                  Energy meter   \n",
       "Logger Channel                                   3   \n",
       "Utility Type                           Electricity   \n",
       "??                                             NaN   \n",
       "Meter Type                                     NaN   \n",
       "Building Code                                AP001   \n",
       "Building Name             House 01 - Bassenthwaite   \n",
       "Space                                          NaN   \n",
       "Additional Location Info  Bassenthwaite Rm  No 104   \n",
       "Tenant meter                                     0   \n",
       "Fiscal meter                                     0   \n",
       "Parent meter                                   NaN   \n",
       "Child meters                                   NaN   \n",
       "Communications type                            NaN   \n",
       "Electrical panel ID                            NaN   \n",
       "Code                                AP001-L01/M003   \n",
       "\n",
       "                                       ...                \\\n",
       "Logger Asset Code                      ...                 \n",
       "Description                            ...                 \n",
       "Make                                   ...                 \n",
       "Model                                  ...                 \n",
       "Meter Units                            ...                 \n",
       "Meter Pulse Value                      ...                 \n",
       "Classification Group                   ...                 \n",
       "Logger Channel                         ...                 \n",
       "Utility Type                           ...                 \n",
       "??                                     ...                 \n",
       "Meter Type                             ...                 \n",
       "Building Code                          ...                 \n",
       "Building Name                          ...                 \n",
       "Space                                  ...                 \n",
       "Additional Location Info               ...                 \n",
       "Tenant meter                           ...                 \n",
       "Fiscal meter                           ...                 \n",
       "Parent meter                           ...                 \n",
       "Child meters                           ...                 \n",
       "Communications type                    ...                 \n",
       "Electrical panel ID                    ...                 \n",
       "Code                                   ...                 \n",
       "\n",
       "                                                    OC006-B01/Y1  \\\n",
       "Logger Asset Code         {BBD3685B-B0DC-417F-A0E8-20139B1074E1}   \n",
       "Description                              Outside air temperature   \n",
       "Make                                                         NaN   \n",
       "Model                                                        NaN   \n",
       "Meter Units                                      Degrees Celsius   \n",
       "Meter Pulse Value                                            NaN   \n",
       "Classification Group                               Energy sensor   \n",
       "Logger Channel                                                Y1   \n",
       "Utility Type                                                 NaN   \n",
       "??                                                           NaN   \n",
       "Meter Type                                                   NaN   \n",
       "Building Code                                              OC006   \n",
       "Building Name                     Chancellor's Wharf, Kent House   \n",
       "Space                                                        NaN   \n",
       "Additional Location Info                                     NaN   \n",
       "Tenant meter                                                   0   \n",
       "Fiscal meter                                                   0   \n",
       "Parent meter                                                 NaN   \n",
       "Child meters                                                 NaN   \n",
       "Communications type                                          NaN   \n",
       "Electrical panel ID                                          NaN   \n",
       "Code                                                OC006-B01/Y1   \n",
       "\n",
       "                                                    OC006-B01/Y2  \\\n",
       "Logger Asset Code         {BBD3685B-B0DC-417F-A0E8-20139B1074E1}   \n",
       "Description                                     Immersion Sensor   \n",
       "Make                                                         NaN   \n",
       "Model                                                        NaN   \n",
       "Meter Units                                                  NaN   \n",
       "Meter Pulse Value                                            NaN   \n",
       "Classification Group                               Energy sensor   \n",
       "Logger Channel                                                Y2   \n",
       "Utility Type                                                 NaN   \n",
       "??                                                           NaN   \n",
       "Meter Type                                                   NaN   \n",
       "Building Code                                              OC006   \n",
       "Building Name                     Chancellor's Wharf, Kent House   \n",
       "Space                                                        NaN   \n",
       "Additional Location Info                                     NaN   \n",
       "Tenant meter                                                   0   \n",
       "Fiscal meter                                                   0   \n",
       "Parent meter                                                 NaN   \n",
       "Child meters                                                 NaN   \n",
       "Communications type                                          NaN   \n",
       "Electrical panel ID                                          NaN   \n",
       "Code                                                OC006-B01/Y2   \n",
       "\n",
       "                                                    OC006-B01/Y3  \\\n",
       "Logger Asset Code         {BBD3685B-B0DC-417F-A0E8-20139B1074E1}   \n",
       "Description                                      Thermistor TBTC   \n",
       "Make                                                         NaN   \n",
       "Model                                                        NaN   \n",
       "Meter Units                                                  NaN   \n",
       "Meter Pulse Value                                            NaN   \n",
       "Classification Group                               Energy sensor   \n",
       "Logger Channel                                                Y3   \n",
       "Utility Type                                                 NaN   \n",
       "??                                                           NaN   \n",
       "Meter Type                                                   NaN   \n",
       "Building Code                                              OC006   \n",
       "Building Name                     Chancellor's Wharf, Kent House   \n",
       "Space                                                        NaN   \n",
       "Additional Location Info                                     NaN   \n",
       "Tenant meter                                                   0   \n",
       "Fiscal meter                                                   0   \n",
       "Parent meter                                                 NaN   \n",
       "Child meters                                                 NaN   \n",
       "Communications type                                          NaN   \n",
       "Electrical panel ID                                          NaN   \n",
       "Code                                                OC006-B01/Y3   \n",
       "\n",
       "                                                    OC006-B01/Y4  \\\n",
       "Logger Asset Code         {BBD3685B-B0DC-417F-A0E8-20139B1074E1}   \n",
       "Description                                     Room temperature   \n",
       "Make                                                         NaN   \n",
       "Model                                                        NaN   \n",
       "Meter Units                                      Degrees Celsius   \n",
       "Meter Pulse Value                                            NaN   \n",
       "Classification Group                               Energy sensor   \n",
       "Logger Channel                                                Y4   \n",
       "Utility Type                                                 NaN   \n",
       "??                                                           NaN   \n",
       "Meter Type                                                   NaN   \n",
       "Building Code                                              OC006   \n",
       "Building Name                     Chancellor's Wharf, Kent House   \n",
       "Space                                                        NaN   \n",
       "Additional Location Info                                     NaN   \n",
       "Tenant meter                                                   0   \n",
       "Fiscal meter                                                   0   \n",
       "Parent meter                                                 NaN   \n",
       "Child meters                                                 NaN   \n",
       "Communications type                                          NaN   \n",
       "Electrical panel ID                                          NaN   \n",
       "Code                                                OC006-B01/Y4   \n",
       "\n",
       "                                                    OC006-B01/Y5  \\\n",
       "Logger Asset Code         {BBD3685B-B0DC-417F-A0E8-20139B1074E1}   \n",
       "Description                                      Thermistor TBTI   \n",
       "Make                                                         NaN   \n",
       "Model                                                        NaN   \n",
       "Meter Units                                      Degrees Celsius   \n",
       "Meter Pulse Value                                            NaN   \n",
       "Classification Group                               Energy sensor   \n",
       "Logger Channel                                                Y5   \n",
       "Utility Type                                                 NaN   \n",
       "??                                                           NaN   \n",
       "Meter Type                                                   NaN   \n",
       "Building Code                                              OC006   \n",
       "Building Name                     Chancellor's Wharf, Kent House   \n",
       "Space                                                        NaN   \n",
       "Additional Location Info                                     NaN   \n",
       "Tenant meter                                                   0   \n",
       "Fiscal meter                                                   0   \n",
       "Parent meter                                                 NaN   \n",
       "Child meters                                                 NaN   \n",
       "Communications type                                          NaN   \n",
       "Electrical panel ID                                          NaN   \n",
       "Code                                                OC006-B01/Y5   \n",
       "\n",
       "                                                    OC006-B01/Y6  \\\n",
       "Logger Asset Code         {BBD3685B-B0DC-417F-A0E8-20139B1074E1}   \n",
       "Description                                               4DIX V   \n",
       "Make                                                         NaN   \n",
       "Model                                                        NaN   \n",
       "Meter Units                                                  NaN   \n",
       "Meter Pulse Value                                            NaN   \n",
       "Classification Group                               Energy sensor   \n",
       "Logger Channel                                                Y6   \n",
       "Utility Type                                                 NaN   \n",
       "??                                                           NaN   \n",
       "Meter Type                                                   NaN   \n",
       "Building Code                                              OC006   \n",
       "Building Name                     Chancellor's Wharf, Kent House   \n",
       "Space                                                        NaN   \n",
       "Additional Location Info                                     NaN   \n",
       "Tenant meter                                                   0   \n",
       "Fiscal meter                                                   0   \n",
       "Parent meter                                                 NaN   \n",
       "Child meters                                                 NaN   \n",
       "Communications type                                          NaN   \n",
       "Electrical panel ID                                          NaN   \n",
       "Code                                                OC006-B01/Y6   \n",
       "\n",
       "                                                    OC006-B01/Z1  \\\n",
       "Logger Asset Code         {BBD3685B-B0DC-417F-A0E8-20139B1074E1}   \n",
       "Description                                      Heating Boilers   \n",
       "Make                                                         NaN   \n",
       "Model                                                        NaN   \n",
       "Meter Units                                                  NaN   \n",
       "Meter Pulse Value                                            NaN   \n",
       "Classification Group                               Energy sensor   \n",
       "Logger Channel                                                Z1   \n",
       "Utility Type                                                 NaN   \n",
       "??                                                           NaN   \n",
       "Meter Type                                                   NaN   \n",
       "Building Code                                              OC006   \n",
       "Building Name                     Chancellor's Wharf, Kent House   \n",
       "Space                                                        NaN   \n",
       "Additional Location Info                                     NaN   \n",
       "Tenant meter                                                   0   \n",
       "Fiscal meter                                                   0   \n",
       "Parent meter                                                 NaN   \n",
       "Child meters                                                 NaN   \n",
       "Communications type                                          NaN   \n",
       "Electrical panel ID                                          NaN   \n",
       "Code                                                OC006-B01/Z1   \n",
       "\n",
       "                                                    OC006-B01/Z2  \\\n",
       "Logger Asset Code         {BBD3685B-B0DC-417F-A0E8-20139B1074E1}   \n",
       "Description                                       DHWS Immersion   \n",
       "Make                                                         NaN   \n",
       "Model                                                        NaN   \n",
       "Meter Units                                                  NaN   \n",
       "Meter Pulse Value                                            NaN   \n",
       "Classification Group                               Energy sensor   \n",
       "Logger Channel                                                Z2   \n",
       "Utility Type                                                 NaN   \n",
       "??                                                           NaN   \n",
       "Meter Type                                                   NaN   \n",
       "Building Code                                              OC006   \n",
       "Building Name                     Chancellor's Wharf, Kent House   \n",
       "Space                                                        NaN   \n",
       "Additional Location Info                                     NaN   \n",
       "Tenant meter                                                   0   \n",
       "Fiscal meter                                                   0   \n",
       "Parent meter                                                 NaN   \n",
       "Child meters                                                 NaN   \n",
       "Communications type                                          NaN   \n",
       "Electrical panel ID                                          NaN   \n",
       "Code                                                OC006-B01/Z2   \n",
       "\n",
       "                                          OC006-L99/M200  \\\n",
       "Logger Asset Code                                    NaN   \n",
       "Description                                   Kent House   \n",
       "Make                                                 NaN   \n",
       "Model                                                NaN   \n",
       "Meter Units                                          NaN   \n",
       "Meter Pulse Value                                    NaN   \n",
       "Classification Group                        Energy meter   \n",
       "Logger Channel                                       NaN   \n",
       "Utility Type                                 Electricity   \n",
       "??                                                   NaN   \n",
       "Meter Type                                           NaN   \n",
       "Building Code                                      OC006   \n",
       "Building Name             Chancellor's Wharf, Kent House   \n",
       "Space                                           OC006 A0   \n",
       "Additional Location Info                             NaN   \n",
       "Tenant meter                                           0   \n",
       "Fiscal meter                                           1   \n",
       "Parent meter                                         NaN   \n",
       "Child meters                                         NaN   \n",
       "Communications type                                  NaN   \n",
       "Electrical panel ID                                  NaN   \n",
       "Code                                      OC006-L99/M200   \n",
       "\n",
       "                                          OC006-L99/M503  \n",
       "Logger Asset Code                                    NaN  \n",
       "Description                                   Kent House  \n",
       "Make                                                 NaN  \n",
       "Model                                                NaN  \n",
       "Meter Units                                          NaN  \n",
       "Meter Pulse Value                                    NaN  \n",
       "Classification Group                        Energy meter  \n",
       "Logger Channel                                       NaN  \n",
       "Utility Type                                       Water  \n",
       "??                                                   NaN  \n",
       "Meter Type                                           NaN  \n",
       "Building Code                                      OC006  \n",
       "Building Name             Chancellor's Wharf, Kent House  \n",
       "Space                                           OC006 A0  \n",
       "Additional Location Info                             NaN  \n",
       "Tenant meter                                           0  \n",
       "Fiscal meter                                           1  \n",
       "Parent meter                                         NaN  \n",
       "Child meters                                         NaN  \n",
       "Communications type                                  NaN  \n",
       "Electrical panel ID                                  NaN  \n",
       "Code                                      OC006-L99/M503  \n",
       "\n",
       "[22 rows x 30539 columns]"
      ]
     },
     "execution_count": 18,
     "metadata": {},
     "output_type": "execute_result"
    }
   ],
   "source": [
    "master_meterssensors_for_validation.T"
   ]
  },
  {
   "cell_type": "markdown",
   "metadata": {},
   "source": [
    "Create dictionary that maps Planon column names onto Master.  \n",
    "  \n",
    "From Nicola:  \n",
    "- Code (Asset Code)  \n",
    "- Description\n",
    "- EIS ID (Channel)\n",
    "- Utility Type\n",
    "- Fiscal Meter\n",
    "- Tenant Meter\n",
    "\n",
    "`Building code` and `Building name` are implicitly included. `Logger Serial Number`, `IP` or `MAC` would be essential to include, as well as `Make` and `Model`. `Additional Location Info` is not essnetial but would be useful to have. Locations (`Locations.Space.Space number` and `Space Name`) are included in the Planon export - but this is their only viable data source, therefore are not validated against."
   ]
  },
  {
   "cell_type": "code",
   "execution_count": 19,
   "metadata": {
    "collapsed": true
   },
   "outputs": [],
   "source": [
    "#Planon:Master\n",
    "meters_match_dict={\n",
    "      \"BuildingNo.\":\"Building Code\",\n",
    "      \"Building\":\"Building Name\",\n",
    "      \"Description\":\"Description\",\n",
    "      \"EIS ID\":\"Logger Channel\",\n",
    "      \"Tenant Meter.Name\":\"Tenant meter\",\n",
    "      \"Fiscal Meter.Name\":\"Fiscal meter\",\n",
    "      \"Code\":\"Code\"\n",
    "      }"
   ]
  },
  {
   "cell_type": "markdown",
   "metadata": {},
   "source": [
    "Filter both dataframes based on these new columns. Then remove duplicates. Currently, this leads to loss of information of spaces served, but also a unique index for the Planon dataframe, therefore bringing the dataframes closer to each other. When including spaces explicitly in the comparison (if we want to - or just trust the  Planon space mapping), this needs to be modified."
   ]
  },
  {
   "cell_type": "code",
   "execution_count": 20,
   "metadata": {
    "collapsed": false
   },
   "outputs": [],
   "source": [
    "master_meterssensors_for_validation_filtered=master_meterssensors_for_validation[list(meters_match_dict.values())]\n",
    "planon_meterssensors_filtered=planon_meterssensors[list(meters_match_dict.keys())]"
   ]
  },
  {
   "cell_type": "code",
   "execution_count": 21,
   "metadata": {
    "collapsed": false
   },
   "outputs": [
    {
     "data": {
      "text/html": [
       "<div>\n",
       "<table border=\"1\" class=\"dataframe\">\n",
       "  <thead>\n",
       "    <tr style=\"text-align: right;\">\n",
       "      <th></th>\n",
       "      <th>MC202-B15/F15</th>\n",
       "    </tr>\n",
       "  </thead>\n",
       "  <tbody>\n",
       "    <tr>\n",
       "      <th>Code</th>\n",
       "      <td>MC202-B15/F15</td>\n",
       "    </tr>\n",
       "    <tr>\n",
       "      <th>Fiscal meter</th>\n",
       "      <td>0</td>\n",
       "    </tr>\n",
       "    <tr>\n",
       "      <th>Description</th>\n",
       "      <td>Function 15</td>\n",
       "    </tr>\n",
       "    <tr>\n",
       "      <th>Tenant meter</th>\n",
       "      <td>0</td>\n",
       "    </tr>\n",
       "    <tr>\n",
       "      <th>Building Name</th>\n",
       "      <td>Charles Carter Building</td>\n",
       "    </tr>\n",
       "    <tr>\n",
       "      <th>Logger Channel</th>\n",
       "      <td>F15</td>\n",
       "    </tr>\n",
       "    <tr>\n",
       "      <th>Building Code</th>\n",
       "      <td>MC202</td>\n",
       "    </tr>\n",
       "  </tbody>\n",
       "</table>\n",
       "</div>"
      ],
      "text/plain": [
       "                          MC202-B15/F15\n",
       "Code                      MC202-B15/F15\n",
       "Fiscal meter                          0\n",
       "Description                 Function 15\n",
       "Tenant meter                          0\n",
       "Building Name   Charles Carter Building\n",
       "Logger Channel                      F15\n",
       "Building Code                     MC202"
      ]
     },
     "execution_count": 21,
     "metadata": {},
     "output_type": "execute_result"
    }
   ],
   "source": [
    "pd.DataFrame(master_meterssensors_for_validation_filtered.loc['MC202-B15/F15'])"
   ]
  },
  {
   "cell_type": "code",
   "execution_count": 22,
   "metadata": {
    "collapsed": false
   },
   "outputs": [
    {
     "data": {
      "text/html": [
       "<div>\n",
       "<table border=\"1\" class=\"dataframe\">\n",
       "  <thead>\n",
       "    <tr style=\"text-align: right;\">\n",
       "      <th></th>\n",
       "      <th>Code</th>\n",
       "      <th>Fiscal meter</th>\n",
       "      <th>Description</th>\n",
       "      <th>Tenant meter</th>\n",
       "      <th>Building Name</th>\n",
       "      <th>Logger Channel</th>\n",
       "      <th>Building Code</th>\n",
       "    </tr>\n",
       "  </thead>\n",
       "  <tbody>\n",
       "    <tr>\n",
       "      <th>AP000-L01/M001</th>\n",
       "      <td>AP000-L01/M001</td>\n",
       "      <td>0.0</td>\n",
       "      <td>NaN</td>\n",
       "      <td>0.0</td>\n",
       "      <td>Alexandra Park</td>\n",
       "      <td>1</td>\n",
       "      <td>AP000</td>\n",
       "    </tr>\n",
       "    <tr>\n",
       "      <th>AP000-L02/M001</th>\n",
       "      <td>AP000-L02/M001</td>\n",
       "      <td>0.0</td>\n",
       "      <td>Graduate House 1-11</td>\n",
       "      <td>0.0</td>\n",
       "      <td>Alexandra Park</td>\n",
       "      <td>1</td>\n",
       "      <td>AP000</td>\n",
       "    </tr>\n",
       "  </tbody>\n",
       "</table>\n",
       "</div>"
      ],
      "text/plain": [
       "                          Code  Fiscal meter          Description  \\\n",
       "AP000-L01/M001  AP000-L01/M001           0.0                  NaN   \n",
       "AP000-L02/M001  AP000-L02/M001           0.0  Graduate House 1-11   \n",
       "\n",
       "                Tenant meter   Building Name Logger Channel Building Code  \n",
       "AP000-L01/M001           0.0  Alexandra Park              1         AP000  \n",
       "AP000-L02/M001           0.0  Alexandra Park              1         AP000  "
      ]
     },
     "execution_count": 22,
     "metadata": {},
     "output_type": "execute_result"
    }
   ],
   "source": [
    "master_meterssensors_for_validation_filtered.head(2)"
   ]
  },
  {
   "cell_type": "code",
   "execution_count": 23,
   "metadata": {
    "collapsed": false
   },
   "outputs": [
    {
     "data": {
      "text/html": [
       "<div>\n",
       "<table border=\"1\" class=\"dataframe\">\n",
       "  <thead>\n",
       "    <tr style=\"text-align: right;\">\n",
       "      <th></th>\n",
       "      <th>Code</th>\n",
       "      <th>Fiscal Meter.Name</th>\n",
       "      <th>Description</th>\n",
       "      <th>Tenant Meter.Name</th>\n",
       "      <th>Building</th>\n",
       "      <th>EIS ID</th>\n",
       "      <th>BuildingNo.</th>\n",
       "    </tr>\n",
       "  </thead>\n",
       "  <tbody>\n",
       "    <tr>\n",
       "      <th>AP000-L01/M001</th>\n",
       "      <td>AP000-L01/M001</td>\n",
       "      <td>No</td>\n",
       "      <td>NaN</td>\n",
       "      <td>No</td>\n",
       "      <td>Alexandra Park</td>\n",
       "      <td>1</td>\n",
       "      <td>AP000</td>\n",
       "    </tr>\n",
       "    <tr>\n",
       "      <th>AP000-L02/M001</th>\n",
       "      <td>AP000-L02/M001</td>\n",
       "      <td>No</td>\n",
       "      <td>Graduate House 1-11</td>\n",
       "      <td>No</td>\n",
       "      <td>Alexandra Park</td>\n",
       "      <td>1</td>\n",
       "      <td>AP000</td>\n",
       "    </tr>\n",
       "  </tbody>\n",
       "</table>\n",
       "</div>"
      ],
      "text/plain": [
       "                          Code Fiscal Meter.Name          Description  \\\n",
       "AP000-L01/M001  AP000-L01/M001                No                  NaN   \n",
       "AP000-L02/M001  AP000-L02/M001                No  Graduate House 1-11   \n",
       "\n",
       "               Tenant Meter.Name        Building EIS ID BuildingNo.  \n",
       "AP000-L01/M001                No  Alexandra Park      1       AP000  \n",
       "AP000-L02/M001                No  Alexandra Park      1       AP000  "
      ]
     },
     "execution_count": 23,
     "metadata": {},
     "output_type": "execute_result"
    }
   ],
   "source": [
    "planon_meterssensors_filtered.head(2)"
   ]
  },
  {
   "cell_type": "markdown",
   "metadata": {},
   "source": [
    "Unify headers, drop duplicates (bear the mind the spaces argument, this where it needs to be brought back in in the future!)."
   ]
  },
  {
   "cell_type": "code",
   "execution_count": 24,
   "metadata": {
    "collapsed": false
   },
   "outputs": [],
   "source": [
    "planon_meterssensors_filtered.columns=[meters_match_dict[i] for i in planon_meterssensors_filtered]"
   ]
  },
  {
   "cell_type": "code",
   "execution_count": 25,
   "metadata": {
    "collapsed": false
   },
   "outputs": [
    {
     "name": "stderr",
     "output_type": "stream",
     "text": [
      "C:\\Anaconda2\\envs\\python3\\lib\\site-packages\\pandas\\util\\decorators.py:91: SettingWithCopyWarning: \n",
      "A value is trying to be set on a copy of a slice from a DataFrame\n",
      "\n",
      "See the caveats in the documentation: http://pandas.pydata.org/pandas-docs/stable/indexing.html#indexing-view-versus-copy\n",
      "  return func(*args, **kwargs)\n"
     ]
    }
   ],
   "source": [
    "planon_meterssensors_filtered.drop_duplicates(inplace=True)\n",
    "master_meterssensors_for_validation_filtered.drop_duplicates(inplace=True)"
   ]
  },
  {
   "cell_type": "code",
   "execution_count": 26,
   "metadata": {
    "collapsed": false
   },
   "outputs": [
    {
     "data": {
      "text/html": [
       "<div>\n",
       "<table border=\"1\" class=\"dataframe\">\n",
       "  <thead>\n",
       "    <tr style=\"text-align: right;\">\n",
       "      <th></th>\n",
       "      <th>Code</th>\n",
       "      <th>Fiscal meter</th>\n",
       "      <th>Description</th>\n",
       "      <th>Tenant meter</th>\n",
       "      <th>Building Name</th>\n",
       "      <th>Logger Channel</th>\n",
       "      <th>Building Code</th>\n",
       "    </tr>\n",
       "  </thead>\n",
       "  <tbody>\n",
       "    <tr>\n",
       "      <th>AP000-L01/M001</th>\n",
       "      <td>AP000-L01/M001</td>\n",
       "      <td>No</td>\n",
       "      <td>NaN</td>\n",
       "      <td>No</td>\n",
       "      <td>Alexandra Park</td>\n",
       "      <td>1</td>\n",
       "      <td>AP000</td>\n",
       "    </tr>\n",
       "    <tr>\n",
       "      <th>AP000-L02/M001</th>\n",
       "      <td>AP000-L02/M001</td>\n",
       "      <td>No</td>\n",
       "      <td>Graduate House 1-11</td>\n",
       "      <td>No</td>\n",
       "      <td>Alexandra Park</td>\n",
       "      <td>1</td>\n",
       "      <td>AP000</td>\n",
       "    </tr>\n",
       "  </tbody>\n",
       "</table>\n",
       "</div>"
      ],
      "text/plain": [
       "                          Code Fiscal meter          Description Tenant meter  \\\n",
       "AP000-L01/M001  AP000-L01/M001           No                  NaN           No   \n",
       "AP000-L02/M001  AP000-L02/M001           No  Graduate House 1-11           No   \n",
       "\n",
       "                 Building Name Logger Channel Building Code  \n",
       "AP000-L01/M001  Alexandra Park              1         AP000  \n",
       "AP000-L02/M001  Alexandra Park              1         AP000  "
      ]
     },
     "execution_count": 26,
     "metadata": {},
     "output_type": "execute_result"
    }
   ],
   "source": [
    "planon_meterssensors_filtered.head(2)"
   ]
  },
  {
   "cell_type": "markdown",
   "metadata": {},
   "source": [
    "Fiscal/Tenant meter name needs fixing from Yes/No and 1/0."
   ]
  },
  {
   "cell_type": "code",
   "execution_count": 27,
   "metadata": {
    "collapsed": false
   },
   "outputs": [
    {
     "name": "stderr",
     "output_type": "stream",
     "text": [
      "C:\\Anaconda2\\envs\\python3\\lib\\site-packages\\ipykernel\\__main__.py:1: SettingWithCopyWarning: \n",
      "A value is trying to be set on a copy of a slice from a DataFrame.\n",
      "Try using .loc[row_indexer,col_indexer] = value instead\n",
      "\n",
      "See the caveats in the documentation: http://pandas.pydata.org/pandas-docs/stable/indexing.html#indexing-view-versus-copy\n",
      "  if __name__ == '__main__':\n",
      "C:\\Anaconda2\\envs\\python3\\lib\\site-packages\\ipykernel\\__main__.py:2: SettingWithCopyWarning: \n",
      "A value is trying to be set on a copy of a slice from a DataFrame.\n",
      "Try using .loc[row_indexer,col_indexer] = value instead\n",
      "\n",
      "See the caveats in the documentation: http://pandas.pydata.org/pandas-docs/stable/indexing.html#indexing-view-versus-copy\n",
      "  from ipykernel import kernelapp as app\n",
      "C:\\Anaconda2\\envs\\python3\\lib\\site-packages\\ipykernel\\__main__.py:3: SettingWithCopyWarning: \n",
      "A value is trying to be set on a copy of a slice from a DataFrame.\n",
      "Try using .loc[row_indexer,col_indexer] = value instead\n",
      "\n",
      "See the caveats in the documentation: http://pandas.pydata.org/pandas-docs/stable/indexing.html#indexing-view-versus-copy\n",
      "  app.launch_new_instance()\n",
      "C:\\Anaconda2\\envs\\python3\\lib\\site-packages\\ipykernel\\__main__.py:4: SettingWithCopyWarning: \n",
      "A value is trying to be set on a copy of a slice from a DataFrame.\n",
      "Try using .loc[row_indexer,col_indexer] = value instead\n",
      "\n",
      "See the caveats in the documentation: http://pandas.pydata.org/pandas-docs/stable/indexing.html#indexing-view-versus-copy\n"
     ]
    }
   ],
   "source": [
    "planon_meterssensors_filtered['Fiscal meter']=planon_meterssensors_filtered['Fiscal meter'].isin(['Yes'])\n",
    "planon_meterssensors_filtered['Tenant meter']=planon_meterssensors_filtered['Tenant meter'].isin(['Yes'])\n",
    "master_meterssensors_for_validation_filtered['Fiscal meter']=master_meterssensors_for_validation_filtered['Fiscal meter'].isin([1])\n",
    "master_meterssensors_for_validation_filtered['Tenant meter']=master_meterssensors_for_validation_filtered['Tenant meter'].isin([1])"
   ]
  },
  {
   "cell_type": "code",
   "execution_count": 28,
   "metadata": {
    "collapsed": false
   },
   "outputs": [
    {
     "data": {
      "text/html": [
       "<div>\n",
       "<table border=\"1\" class=\"dataframe\">\n",
       "  <thead>\n",
       "    <tr style=\"text-align: right;\">\n",
       "      <th></th>\n",
       "      <th>Code</th>\n",
       "      <th>Fiscal meter</th>\n",
       "      <th>Description</th>\n",
       "      <th>Tenant meter</th>\n",
       "      <th>Building Name</th>\n",
       "      <th>Logger Channel</th>\n",
       "      <th>Building Code</th>\n",
       "    </tr>\n",
       "  </thead>\n",
       "  <tbody>\n",
       "    <tr>\n",
       "      <th>AP000-L01/M001</th>\n",
       "      <td>AP000-L01/M001</td>\n",
       "      <td>False</td>\n",
       "      <td>NaN</td>\n",
       "      <td>False</td>\n",
       "      <td>Alexandra Park</td>\n",
       "      <td>1</td>\n",
       "      <td>AP000</td>\n",
       "    </tr>\n",
       "    <tr>\n",
       "      <th>AP000-L02/M001</th>\n",
       "      <td>AP000-L02/M001</td>\n",
       "      <td>False</td>\n",
       "      <td>Graduate House 1-11</td>\n",
       "      <td>False</td>\n",
       "      <td>Alexandra Park</td>\n",
       "      <td>1</td>\n",
       "      <td>AP000</td>\n",
       "    </tr>\n",
       "  </tbody>\n",
       "</table>\n",
       "</div>"
      ],
      "text/plain": [
       "                          Code Fiscal meter          Description Tenant meter  \\\n",
       "AP000-L01/M001  AP000-L01/M001        False                  NaN        False   \n",
       "AP000-L02/M001  AP000-L02/M001        False  Graduate House 1-11        False   \n",
       "\n",
       "                 Building Name Logger Channel Building Code  \n",
       "AP000-L01/M001  Alexandra Park              1         AP000  \n",
       "AP000-L02/M001  Alexandra Park              1         AP000  "
      ]
     },
     "execution_count": 28,
     "metadata": {},
     "output_type": "execute_result"
    }
   ],
   "source": [
    "master_meterssensors_for_validation_filtered.head(2)"
   ]
  },
  {
   "cell_type": "code",
   "execution_count": 29,
   "metadata": {
    "collapsed": false
   },
   "outputs": [
    {
     "data": {
      "text/html": [
       "<div>\n",
       "<table border=\"1\" class=\"dataframe\">\n",
       "  <thead>\n",
       "    <tr style=\"text-align: right;\">\n",
       "      <th></th>\n",
       "      <th>Code</th>\n",
       "      <th>Fiscal meter</th>\n",
       "      <th>Description</th>\n",
       "      <th>Tenant meter</th>\n",
       "      <th>Building Name</th>\n",
       "      <th>Logger Channel</th>\n",
       "      <th>Building Code</th>\n",
       "    </tr>\n",
       "  </thead>\n",
       "  <tbody>\n",
       "    <tr>\n",
       "      <th>AP000-L01/M001</th>\n",
       "      <td>AP000-L01/M001</td>\n",
       "      <td>False</td>\n",
       "      <td>NaN</td>\n",
       "      <td>False</td>\n",
       "      <td>Alexandra Park</td>\n",
       "      <td>1</td>\n",
       "      <td>AP000</td>\n",
       "    </tr>\n",
       "    <tr>\n",
       "      <th>AP000-L02/M001</th>\n",
       "      <td>AP000-L02/M001</td>\n",
       "      <td>False</td>\n",
       "      <td>Graduate House 1-11</td>\n",
       "      <td>False</td>\n",
       "      <td>Alexandra Park</td>\n",
       "      <td>1</td>\n",
       "      <td>AP000</td>\n",
       "    </tr>\n",
       "  </tbody>\n",
       "</table>\n",
       "</div>"
      ],
      "text/plain": [
       "                          Code Fiscal meter          Description Tenant meter  \\\n",
       "AP000-L01/M001  AP000-L01/M001        False                  NaN        False   \n",
       "AP000-L02/M001  AP000-L02/M001        False  Graduate House 1-11        False   \n",
       "\n",
       "                 Building Name Logger Channel Building Code  \n",
       "AP000-L01/M001  Alexandra Park              1         AP000  \n",
       "AP000-L02/M001  Alexandra Park              1         AP000  "
      ]
     },
     "execution_count": 29,
     "metadata": {},
     "output_type": "execute_result"
    }
   ],
   "source": [
    "planon_meterssensors_filtered.head(2)"
   ]
  },
  {
   "cell_type": "markdown",
   "metadata": {},
   "source": [
    "Cross-check missing meters"
   ]
  },
  {
   "cell_type": "code",
   "execution_count": 30,
   "metadata": {
    "collapsed": false
   },
   "outputs": [
    {
     "name": "stdout",
     "output_type": "stream",
     "text": [
      "AP000-L99/M303, AP000-L99/M308, MC000-L99/M201, MC000-L99/M202, MC000-L99/M203, MC000-L99/M506, MC001-L99/M100, MC001-L99/M222, MC001-L99/M224, MC001-L99/M306, MC001-L99/M508, MC003-L99/M207, MC003-L99/M304, MC003-L99/M509, MC007-L99/M211, MC007-L99/M511, MC008-L99/M302, MC047-L02/M00??, MC061-L99/M305, MC061-L99/M310, MC102-L99/M309, MC103-L99/M216, MC103-L99/M300, MC103-L99/M504, MC204-L99/M312, MC210-L01/M001, MC210-L01/M002, MC210-L01/M003, MC210-L01/M004, MC210-L01/M005, MC210-L01/M006, MC210-L01/M007, MC210-L01/M008, MC210-L01/M009, MC210-L01/M010, MC210-L01/M011, MC210-L01/M012, MC210-L01/M013, MC210-L01/M014, MC210-L01/M015, MC210-L01/M016, MC210-L01/M017, MC210-L01/M018, MC210-L01/M019, MC210-L01/M020, MC210-L01/M021, MC210-L01/M022, MC210-L01/M023, MC210-L01/M024, MC210-L01/M025, MC210-L01/M026, MC210-L01/M027, MC210-L01/M028, MC210-L01/M029, MC210-L01/M030, MC210-L02/M001, MC210-L02/M002, MC210-L02/M003, MC210-L02/M004, MC210-L02/M005, MC210-L02/M006, MC210-L02/M007, MC210-L02/M008, MC210-L02/M009, MC210-L02/M010, MC210-L02/M011, MC210-L02/M012, MC210-L02/M013, MC210-L02/M014, MC210-L02/M015, MC210-L02/M016, MC210-L02/M017, MC210-L02/M018, MC210-L02/M019, MC210-L02/M020, MC210-L02/M021, MC210-L02/M022, MC210-L02/M023, NAN, OC004-L99/M206, OC004-L99/M512, OC005-L99/M204, OC005-L99/M505, OC006-L99/M200, OC006-L99/M503, \n",
      "\n",
      "Meters in Master, but not in Planon: 85 / 29708 : 0.286 %\n"
     ]
    }
   ],
   "source": [
    "a=np.sort(list(set(planon_meterssensors_filtered.index)))\n",
    "b=np.sort(list(set(master_meterssensors_for_validation_filtered.index)))\n",
    "meterssensors_not_in_planon=[]\n",
    "for i in b:\n",
    "    if i not in a:\n",
    "        print(i+',',end=\" \"),\n",
    "        meterssensors_not_in_planon.append(i)\n",
    "print('\\n\\nMeters in Master, but not in Planon:',\n",
    "      len(meterssensors_not_in_planon),'/',len(b),':',\n",
    "      round(len(meterssensors_not_in_planon)/len(b)*100,3),'%')"
   ]
  },
  {
   "cell_type": "code",
   "execution_count": 31,
   "metadata": {
    "collapsed": false
   },
   "outputs": [
    {
     "data": {
      "text/plain": [
       "32"
      ]
     },
     "execution_count": 31,
     "metadata": {},
     "output_type": "execute_result"
    }
   ],
   "source": [
    "#without MC210\n",
    "len(set([i for i in meterssensors_not_in_planon if i[:5]!='MC210']))"
   ]
  },
  {
   "cell_type": "code",
   "execution_count": 32,
   "metadata": {
    "collapsed": false
   },
   "outputs": [
    {
     "data": {
      "text/plain": [
       "{'AP000-L99/M303',\n",
       " 'AP000-L99/M308',\n",
       " 'MC000-L99/M201',\n",
       " 'MC000-L99/M202',\n",
       " 'MC000-L99/M203',\n",
       " 'MC000-L99/M506',\n",
       " 'MC001-L99/M100',\n",
       " 'MC001-L99/M222',\n",
       " 'MC001-L99/M224',\n",
       " 'MC001-L99/M306',\n",
       " 'MC001-L99/M508',\n",
       " 'MC003-L99/M207',\n",
       " 'MC003-L99/M304',\n",
       " 'MC003-L99/M509',\n",
       " 'MC007-L99/M211',\n",
       " 'MC007-L99/M511',\n",
       " 'MC008-L99/M302',\n",
       " 'MC047-L02/M00??',\n",
       " 'MC061-L99/M305',\n",
       " 'MC061-L99/M310',\n",
       " 'MC102-L99/M309',\n",
       " 'MC103-L99/M216',\n",
       " 'MC103-L99/M300',\n",
       " 'MC103-L99/M504',\n",
       " 'MC204-L99/M312',\n",
       " 'NAN',\n",
       " 'OC004-L99/M206',\n",
       " 'OC004-L99/M512',\n",
       " 'OC005-L99/M204',\n",
       " 'OC005-L99/M505',\n",
       " 'OC006-L99/M200',\n",
       " 'OC006-L99/M503'}"
      ]
     },
     "execution_count": 32,
     "metadata": {},
     "output_type": "execute_result"
    }
   ],
   "source": [
    "set([i for i in meterssensors_not_in_planon if i[:5]!='MC210'])"
   ]
  },
  {
   "cell_type": "code",
   "execution_count": null,
   "metadata": {
    "collapsed": false
   },
   "outputs": [
    {
     "data": {
      "text/plain": [
       "{'AP000',\n",
       " 'MC000',\n",
       " 'MC001',\n",
       " 'MC003',\n",
       " 'MC007',\n",
       " 'MC008',\n",
       " 'MC047',\n",
       " 'MC061',\n",
       " 'MC102',\n",
       " 'MC103',\n",
       " 'MC204',\n",
       " 'MC210',\n",
       " 'NAN',\n",
       " 'OC004',\n",
       " 'OC005',\n",
       " 'OC006'}"
      ]
     },
     "execution_count": 33,
     "metadata": {},
     "output_type": "execute_result"
    }
   ],
   "source": [
    "(set([i[:5] for i in meterssensors_not_in_planon]))"
   ]
  },
  {
   "cell_type": "code",
   "execution_count": null,
   "metadata": {
    "collapsed": false
   },
   "outputs": [],
   "source": [
    "a=np.sort(list(set(planon_meterssensors_filtered.index)))\n",
    "b=np.sort(list(set(master_meterssensors_for_validation_filtered.index)))\n",
    "meterssensors_not_in_master=[]\n",
    "for i in a:\n",
    "    if i not in b:\n",
    "        print(i+',',end=\" \"),\n",
    "        meterssensors_not_in_master.append(i)\n",
    "print('\\n\\nMeters in Planon, not in Master:',\n",
    "      len(meterssensors_not_in_master),'/',len(a),':',\n",
    "      round(len(meterssensors_not_in_master)/len(a)*100,3),'%')"
   ]
  },
  {
   "cell_type": "code",
   "execution_count": null,
   "metadata": {
    "collapsed": false
   },
   "outputs": [],
   "source": [
    "len(set([i for i in meterssensors_not_in_master]))"
   ]
  },
  {
   "cell_type": "code",
   "execution_count": null,
   "metadata": {
    "collapsed": false
   },
   "outputs": [],
   "source": [
    "set([i[:9] for i in meterssensors_not_in_master])"
   ]
  },
  {
   "cell_type": "code",
   "execution_count": null,
   "metadata": {
    "collapsed": false
   },
   "outputs": [],
   "source": [
    "set([i[:5] for i in meterssensors_not_in_master])"
   ]
  },
  {
   "cell_type": "markdown",
   "metadata": {},
   "source": [
    "Check for duplicates in index, but not duplicates over the entire row"
   ]
  },
  {
   "cell_type": "code",
   "execution_count": null,
   "metadata": {
    "collapsed": false
   },
   "outputs": [],
   "source": [
    "print(len(planon_meterssensors_filtered.index))\n",
    "print(len(set(planon_meterssensors_filtered.index)))\n",
    "print(len(master_meterssensors_for_validation_filtered.index))\n",
    "print(len(set(master_meterssensors_for_validation_filtered.index)))"
   ]
  },
  {
   "cell_type": "code",
   "execution_count": null,
   "metadata": {
    "collapsed": false
   },
   "outputs": [],
   "source": [
    "master_meterssensors_for_validation_filtered[master_meterssensors_for_validation_filtered.index.duplicated()]"
   ]
  },
  {
   "cell_type": "markdown",
   "metadata": {},
   "source": [
    "The duplicates are the `nan`s. Remove these for now. Could revisit later to do an index-less comparison, only over row contents."
   ]
  },
  {
   "cell_type": "code",
   "execution_count": null,
   "metadata": {
    "collapsed": false
   },
   "outputs": [],
   "source": [
    "good_index=[i for i in master_meterssensors_for_validation_filtered.index if str(i).lower().strip()!='nan']\n",
    "master_meterssensors_for_validation_filtered=master_meterssensors_for_validation_filtered.loc[good_index]\n",
    "master_meterssensors_for_validation_filtered.drop_duplicates(inplace=True)"
   ]
  },
  {
   "cell_type": "code",
   "execution_count": null,
   "metadata": {
    "collapsed": false
   },
   "outputs": [],
   "source": [
    "len(planon_meterssensors_filtered)"
   ]
  },
  {
   "cell_type": "code",
   "execution_count": null,
   "metadata": {
    "collapsed": false
   },
   "outputs": [],
   "source": [
    "len(master_meterssensors_for_validation_filtered)"
   ]
  },
  {
   "cell_type": "markdown",
   "metadata": {},
   "source": [
    "Do comparison only on common indices. Need to revisit and identify the cause missing meters, both ways (5 Planon->Meters and 30 Meters->Planon in this example)."
   ]
  },
  {
   "cell_type": "code",
   "execution_count": null,
   "metadata": {
    "collapsed": true
   },
   "outputs": [],
   "source": [
    "comon_index=list(set(master_meterssensors_for_validation_filtered.index).intersection(set(planon_meterssensors_filtered.index)))"
   ]
  },
  {
   "cell_type": "code",
   "execution_count": null,
   "metadata": {
    "collapsed": false
   },
   "outputs": [],
   "source": [
    "len(comon_index)"
   ]
  },
  {
   "cell_type": "code",
   "execution_count": null,
   "metadata": {
    "collapsed": false
   },
   "outputs": [],
   "source": [
    "master_meterssensors_for_validation_intersected=master_meterssensors_for_validation_filtered.loc[comon_index].sort_index()\n",
    "planon_meterssensors_intersected=planon_meterssensors_filtered.loc[comon_index].sort_index()"
   ]
  },
  {
   "cell_type": "code",
   "execution_count": null,
   "metadata": {
    "collapsed": false
   },
   "outputs": [],
   "source": [
    "len(master_meterssensors_for_validation_intersected)"
   ]
  },
  {
   "cell_type": "code",
   "execution_count": null,
   "metadata": {
    "collapsed": false
   },
   "outputs": [],
   "source": [
    "len(planon_meterssensors_intersected)"
   ]
  },
  {
   "cell_type": "markdown",
   "metadata": {},
   "source": [
    "Still have duplicate indices. For now we just drop and keep the first."
   ]
  },
  {
   "cell_type": "code",
   "execution_count": null,
   "metadata": {
    "collapsed": false
   },
   "outputs": [],
   "source": [
    "master_meterssensors_for_validation_intersected = master_meterssensors_for_validation_intersected[~master_meterssensors_for_validation_intersected.index.duplicated(keep='first')]"
   ]
  },
  {
   "cell_type": "code",
   "execution_count": null,
   "metadata": {
    "collapsed": false
   },
   "outputs": [],
   "source": [
    "master_meterssensors_for_validation_intersected.head(2)"
   ]
  },
  {
   "cell_type": "code",
   "execution_count": null,
   "metadata": {
    "collapsed": false
   },
   "outputs": [],
   "source": [
    "planon_meterssensors_intersected.head(2)"
   ]
  },
  {
   "cell_type": "markdown",
   "metadata": {},
   "source": [
    "#### 2.1.2. Primitive comparison"
   ]
  },
  {
   "cell_type": "code",
   "execution_count": null,
   "metadata": {
    "collapsed": false
   },
   "outputs": [],
   "source": [
    "planon_meterssensors_intersected==master_meterssensors_for_validation_intersected"
   ]
  },
  {
   "cell_type": "code",
   "execution_count": null,
   "metadata": {
    "collapsed": false
   },
   "outputs": [],
   "source": [
    "np.all(planon_meterssensors_intersected==master_meterssensors_for_validation_intersected)"
   ]
  },
  {
   "cell_type": "markdown",
   "metadata": {},
   "source": [
    "#### 2.1.3. Horizontal comparison"
   ]
  },
  {
   "cell_type": "markdown",
   "metadata": {},
   "source": [
    "Number of cells matching"
   ]
  },
  {
   "cell_type": "code",
   "execution_count": null,
   "metadata": {
    "collapsed": false
   },
   "outputs": [],
   "source": [
    "(planon_meterssensors_intersected==master_meterssensors_for_validation_intersected).sum()"
   ]
  },
  {
   "cell_type": "markdown",
   "metadata": {},
   "source": [
    "Percentage matching"
   ]
  },
  {
   "cell_type": "code",
   "execution_count": null,
   "metadata": {
    "collapsed": false
   },
   "outputs": [],
   "source": [
    "(planon_meterssensors_intersected==master_meterssensors_for_validation_intersected).sum()/\\\n",
    "len(planon_meterssensors_intersected)*100"
   ]
  },
  {
   "cell_type": "code",
   "execution_count": null,
   "metadata": {
    "collapsed": false
   },
   "outputs": [],
   "source": [
    "((planon_meterssensors_intersected==master_meterssensors_for_validation_intersected).sum()/\\\n",
    "len(planon_meterssensors_intersected)*100).plot(kind='bar')"
   ]
  },
  {
   "cell_type": "markdown",
   "metadata": {},
   "source": [
    "#### 2.1.4. Vertical comparison"
   ]
  },
  {
   "cell_type": "code",
   "execution_count": null,
   "metadata": {
    "collapsed": false
   },
   "outputs": [],
   "source": [
    "df=pd.DataFrame((planon_meterssensors_intersected.T==master_meterssensors_for_validation_intersected.T).sum())\n",
    "df"
   ]
  },
  {
   "cell_type": "code",
   "execution_count": null,
   "metadata": {
    "collapsed": false
   },
   "outputs": [],
   "source": [
    "df=pd.DataFrame((planon_meterssensors_intersected.T==master_meterssensors_for_validation_intersected.T).sum()/\\\n",
    "len(planon_meterssensors_intersected.T)*100)\n",
    "df[df[0]<100]"
   ]
  },
  {
   "cell_type": "markdown",
   "metadata": {},
   "source": [
    "#### 2.1.5. Smart(er) comparison"
   ]
  },
  {
   "cell_type": "markdown",
   "metadata": {},
   "source": [
    "Not all of the dataframe matches. Let us do some basic string formatting, maybe that helps."
   ]
  },
  {
   "cell_type": "code",
   "execution_count": null,
   "metadata": {
    "collapsed": false
   },
   "outputs": [],
   "source": [
    "sum(planon_meterssensors_intersected['Description']!=master_meterssensors_for_validation_intersected['Description'])"
   ]
  },
  {
   "cell_type": "code",
   "execution_count": null,
   "metadata": {
    "collapsed": false
   },
   "outputs": [],
   "source": [
    "planon_meterssensors_intersected['Description']=[str(s).lower().strip().replace('  ',' ').replace('   ',' ') for s in planon_meterssensors_intersected['Description'].values]\n",
    "master_meterssensors_for_validation_intersected['Description']=[str(s).lower().strip().replace('  ',' ').replace('   ',' ') for s in master_meterssensors_for_validation_intersected['Description'].values]"
   ]
  },
  {
   "cell_type": "code",
   "execution_count": null,
   "metadata": {
    "collapsed": false
   },
   "outputs": [],
   "source": [
    "sum(planon_meterssensors_intersected['Description']!=master_meterssensors_for_validation_intersected['Description'])"
   ]
  },
  {
   "cell_type": "markdown",
   "metadata": {},
   "source": [
    "Some errors fixed, some left. Let's see which ones. These are either:  \n",
    "- Wrong duplicate dropped\n",
    "- Input human erros in the description.\n",
    "- Actual erros somewhere in the indexing."
   ]
  },
  {
   "cell_type": "code",
   "execution_count": null,
   "metadata": {
    "collapsed": false
   },
   "outputs": [],
   "source": [
    "for i in planon_meterssensors_intersected[planon_meterssensors_intersected['Description']!=master_meterssensors_for_validation_intersected['Description']].index:\n",
    "    print(i,'\\t\\tPlanon:',planon_meterssensors_intersected.loc[i]['Description'],'\\t\\tMaster:',master_meterssensors_for_validation_intersected.loc[i]['Description'])"
   ]
  },
  {
   "cell_type": "markdown",
   "metadata": {},
   "source": [
    "Let us repeat the exercise for `Logger Channel`. Cross-validate, flag as highly likely error where both mismatch."
   ]
  },
  {
   "cell_type": "code",
   "execution_count": null,
   "metadata": {
    "collapsed": false
   },
   "outputs": [],
   "source": [
    "sum(planon_meterssensors_intersected['Logger Channel']!=master_meterssensors_for_validation_intersected['Logger Channel'])"
   ]
  },
  {
   "cell_type": "code",
   "execution_count": null,
   "metadata": {
    "collapsed": true
   },
   "outputs": [],
   "source": [
    "planon_meterssensors_intersected['Logger Channel']=[str(s).lower().strip().replace('  ',' ').replace('   ',' ') for s in planon_meterssensors_intersected['Logger Channel'].values]\n",
    "master_meterssensors_for_validation_intersected['Logger Channel']=[str(s).lower().strip().replace('  ',' ').replace('   ',' ') for s in master_meterssensors_for_validation_intersected['Logger Channel'].values]"
   ]
  },
  {
   "cell_type": "code",
   "execution_count": null,
   "metadata": {
    "collapsed": false
   },
   "outputs": [],
   "source": [
    "sum(planon_meterssensors_intersected['Logger Channel']!=master_meterssensors_for_validation_intersected['Logger Channel'])"
   ]
  },
  {
   "cell_type": "markdown",
   "metadata": {},
   "source": [
    "All errors fixed on logger channels."
   ]
  },
  {
   "cell_type": "code",
   "execution_count": null,
   "metadata": {
    "collapsed": true
   },
   "outputs": [],
   "source": [
    "for i in planon_meterssensors_intersected[planon_meterssensors_intersected['Logger Channel']!=master_meterssensors_for_validation_intersected['Logger Channel']].index:\n",
    "    print(i,'\\t\\tPlanon:',planon_meterssensors_intersected.loc[i]['Logger Channel'],'\\t\\tMaster:',master_meterssensors_for_validation_intersected.loc[i]['Logger Channel'])"
   ]
  },
  {
   "cell_type": "markdown",
   "metadata": {},
   "source": [
    "New error percentage:"
   ]
  },
  {
   "cell_type": "code",
   "execution_count": null,
   "metadata": {
    "collapsed": false
   },
   "outputs": [],
   "source": [
    "(planon_meterssensors_intersected!=master_meterssensors_for_validation_intersected).sum()/\\\n",
    "len(planon_meterssensors_intersected)*100"
   ]
  },
  {
   "cell_type": "markdown",
   "metadata": {},
   "source": [
    "### 2.2. Loggers"
   ]
  },
  {
   "cell_type": "code",
   "execution_count": null,
   "metadata": {
    "collapsed": false
   },
   "outputs": [],
   "source": [
    "buildings=set(planon_loggerscontrollers['BuildingNo.'])\n",
    "buildings"
   ]
  },
  {
   "cell_type": "code",
   "execution_count": null,
   "metadata": {
    "collapsed": false,
    "scrolled": false
   },
   "outputs": [],
   "source": [
    "master_loggerscontrollers_for_validation = \\\n",
    "    pd.concat([master_loggerscontrollers.loc[master_loggerscontrollers['Building Code'] == building] \\\n",
    "           for building in buildings])\n",
    "master_loggerscontrollers_for_validation.head(2)"
   ]
  },
  {
   "cell_type": "code",
   "execution_count": null,
   "metadata": {
    "collapsed": false
   },
   "outputs": [],
   "source": [
    "master_loggerscontrollers[master_loggerscontrollers['Building Code']=='MC060']"
   ]
  },
  {
   "cell_type": "code",
   "execution_count": null,
   "metadata": {
    "collapsed": false
   },
   "outputs": [],
   "source": [
    "planon_loggerscontrollers[planon_loggerscontrollers['BuildingNo.']=='MC060']"
   ]
  },
  {
   "cell_type": "code",
   "execution_count": null,
   "metadata": {
    "collapsed": false
   },
   "outputs": [],
   "source": [
    "master_loggerscontrollers.loc['MC060-L01']"
   ]
  },
  {
   "cell_type": "code",
   "execution_count": null,
   "metadata": {
    "collapsed": false
   },
   "outputs": [],
   "source": [
    "len(master_loggerscontrollers_for_validation)"
   ]
  },
  {
   "cell_type": "code",
   "execution_count": null,
   "metadata": {
    "collapsed": false
   },
   "outputs": [],
   "source": [
    "len(planon_loggerscontrollers)-len(planon_loggerscontrollers.index[planon_loggerscontrollers.index.duplicated()])"
   ]
  },
  {
   "cell_type": "code",
   "execution_count": null,
   "metadata": {
    "collapsed": false
   },
   "outputs": [],
   "source": [
    "master_loggerscontrollers_for_validation.sort_index(inplace=True)\n",
    "planon_loggerscontrollers.sort_index(inplace=True)"
   ]
  },
  {
   "cell_type": "code",
   "execution_count": null,
   "metadata": {
    "collapsed": false
   },
   "outputs": [],
   "source": [
    "master_loggerscontrollers_for_validation.loc['MC060-L01']"
   ]
  },
  {
   "cell_type": "code",
   "execution_count": null,
   "metadata": {
    "collapsed": false
   },
   "outputs": [],
   "source": [
    "planon_loggerscontrollers.T"
   ]
  },
  {
   "cell_type": "code",
   "execution_count": null,
   "metadata": {
    "collapsed": false
   },
   "outputs": [],
   "source": [
    "master_loggerscontrollers_for_validation.T"
   ]
  },
  {
   "cell_type": "markdown",
   "metadata": {},
   "source": [
    "Create dictionary that maps Planon column names onto Master.  \n",
    "  \n",
    "From Nicola:  \n",
    "- EIS ID (Serial Number)\n",
    "- Make\n",
    "- Model\n",
    "- Description\n",
    "- Code (Asset Code)\n",
    "- Building Code\n",
    "\n",
    "`Building code` and `Building name` are implicitly included. `Logger IP` or `MAC` would be essential to include, as well as `Make` and `Model`. `Additional Location Info` is not essnetial but would be useful to have. Locations (`Locations.Space.Space number` and `Space Name`) are included in the Planon export - but this is their only viable data source, therefore are not validated against."
   ]
  },
  {
   "cell_type": "code",
   "execution_count": null,
   "metadata": {
    "collapsed": true
   },
   "outputs": [],
   "source": [
    "#Planon:Master\n",
    "loggers_match_dict={\n",
    "      \"BuildingNo.\":\"Building Code\",\n",
    "      \"Building\":\"Building Name\",\n",
    "      \"Description\":\"Description\",\n",
    "      \"EIS ID\":\"Logger Serial Number\",\n",
    "      \"Make\":\"Make\",\n",
    "      \"Model\":\"Model\",\n",
    "      \"Code\":\"Code\"\n",
    "      }"
   ]
  },
  {
   "cell_type": "code",
   "execution_count": null,
   "metadata": {
    "collapsed": false
   },
   "outputs": [],
   "source": [
    "master_loggerscontrollers_for_validation_filtered=master_loggerscontrollers_for_validation[list(loggers_match_dict.values())]\n",
    "planon_loggerscontrollers_filtered=planon_loggerscontrollers[list(loggers_match_dict.keys())]"
   ]
  },
  {
   "cell_type": "code",
   "execution_count": null,
   "metadata": {
    "collapsed": false
   },
   "outputs": [],
   "source": [
    "master_loggerscontrollers_for_validation_filtered.head(2)"
   ]
  },
  {
   "cell_type": "code",
   "execution_count": null,
   "metadata": {
    "collapsed": false
   },
   "outputs": [],
   "source": [
    "planon_loggerscontrollers_filtered.head(2)"
   ]
  },
  {
   "cell_type": "code",
   "execution_count": null,
   "metadata": {
    "collapsed": false
   },
   "outputs": [],
   "source": [
    "planon_loggerscontrollers_filtered.columns=[loggers_match_dict[i] for i in planon_loggerscontrollers_filtered]"
   ]
  },
  {
   "cell_type": "code",
   "execution_count": null,
   "metadata": {
    "collapsed": false
   },
   "outputs": [],
   "source": [
    "planon_loggerscontrollers_filtered.drop_duplicates(inplace=True)\n",
    "master_loggerscontrollers_for_validation_filtered.drop_duplicates(inplace=True)"
   ]
  },
  {
   "cell_type": "code",
   "execution_count": null,
   "metadata": {
    "collapsed": false
   },
   "outputs": [],
   "source": [
    "planon_loggerscontrollers_filtered.head(2)"
   ]
  },
  {
   "cell_type": "code",
   "execution_count": null,
   "metadata": {
    "collapsed": false
   },
   "outputs": [],
   "source": [
    "master_loggerscontrollers_for_validation_filtered.head(2)"
   ]
  },
  {
   "cell_type": "code",
   "execution_count": null,
   "metadata": {
    "collapsed": false
   },
   "outputs": [],
   "source": [
    "a=np.sort(list(set(planon_loggerscontrollers_filtered.index)))\n",
    "b=np.sort(list(set(master_loggerscontrollers_for_validation_filtered.index)))\n",
    "loggerscontrollers_not_in_planon=[]\n",
    "for i in b:\n",
    "    if i not in a:\n",
    "        print(i+',',end=\" \"),\n",
    "        loggerscontrollers_not_in_planon.append(i)\n",
    "print('\\n\\nLoggers in Master, but not in Planon:',\n",
    "      len(loggerscontrollers_not_in_planon),'/',len(b),':',\n",
    "      round(len(loggerscontrollers_not_in_planon)/len(b)*100,3),'%')"
   ]
  },
  {
   "cell_type": "code",
   "execution_count": null,
   "metadata": {
    "collapsed": false
   },
   "outputs": [],
   "source": [
    "a=np.sort(list(set(planon_loggerscontrollers_filtered.index)))\n",
    "b=np.sort(list(set(master_loggerscontrollers_for_validation_filtered.index)))\n",
    "loggerscontrollers_not_in_master=[]\n",
    "for i in a:\n",
    "    if i not in b:\n",
    "        print(i+',',end=\" \"),\n",
    "        loggerscontrollers_not_in_master.append(i)\n",
    "print('\\n\\nLoggers in Planon, not in Master:',\n",
    "      len(loggerscontrollers_not_in_master),'/',len(a),':',\n",
    "      round(len(loggerscontrollers_not_in_master)/len(a)*100,3),'%')"
   ]
  },
  {
   "cell_type": "code",
   "execution_count": null,
   "metadata": {
    "collapsed": false
   },
   "outputs": [],
   "source": [
    "print(len(planon_loggerscontrollers_filtered.index))\n",
    "print(len(set(planon_loggerscontrollers_filtered.index)))\n",
    "print(len(master_loggerscontrollers_for_validation_filtered.index))\n",
    "print(len(set(master_loggerscontrollers_for_validation_filtered.index)))"
   ]
  },
  {
   "cell_type": "code",
   "execution_count": null,
   "metadata": {
    "collapsed": false
   },
   "outputs": [],
   "source": [
    "master_loggerscontrollers_for_validation_filtered[master_loggerscontrollers_for_validation_filtered.index.duplicated()]"
   ]
  },
  {
   "cell_type": "code",
   "execution_count": null,
   "metadata": {
    "collapsed": true
   },
   "outputs": [],
   "source": [
    "comon_index=list(set(master_loggerscontrollers_for_validation_filtered.index).intersection(set(planon_loggerscontrollers_filtered.index)))"
   ]
  },
  {
   "cell_type": "code",
   "execution_count": null,
   "metadata": {
    "collapsed": true
   },
   "outputs": [],
   "source": [
    "master_loggerscontrollers_for_validation_intersected=master_loggerscontrollers_for_validation_filtered.loc[comon_index].sort_index()\n",
    "planon_loggerscontrollers_intersected=planon_loggerscontrollers_filtered.loc[comon_index].sort_index()"
   ]
  },
  {
   "cell_type": "code",
   "execution_count": null,
   "metadata": {
    "collapsed": false
   },
   "outputs": [],
   "source": [
    "master_loggerscontrollers_for_validation_intersected.head(2)"
   ]
  },
  {
   "cell_type": "code",
   "execution_count": null,
   "metadata": {
    "collapsed": false
   },
   "outputs": [],
   "source": [
    "planon_loggerscontrollers_intersected.head(2)"
   ]
  },
  {
   "cell_type": "code",
   "execution_count": null,
   "metadata": {
    "collapsed": false
   },
   "outputs": [],
   "source": [
    "planon_loggerscontrollers_intersected==master_loggerscontrollers_for_validation_intersected"
   ]
  },
  {
   "cell_type": "markdown",
   "metadata": {},
   "source": [
    "Loggers matching"
   ]
  },
  {
   "cell_type": "code",
   "execution_count": null,
   "metadata": {
    "collapsed": false
   },
   "outputs": [],
   "source": [
    "(planon_loggerscontrollers_intersected==master_loggerscontrollers_for_validation_intersected).sum()"
   ]
  },
  {
   "cell_type": "markdown",
   "metadata": {},
   "source": [
    "Percentage matching"
   ]
  },
  {
   "cell_type": "code",
   "execution_count": null,
   "metadata": {
    "collapsed": false
   },
   "outputs": [],
   "source": [
    "(planon_loggerscontrollers_intersected==master_loggerscontrollers_for_validation_intersected).sum()/\\\n",
    "len(planon_loggerscontrollers_intersected)*100"
   ]
  },
  {
   "cell_type": "code",
   "execution_count": null,
   "metadata": {
    "collapsed": false
   },
   "outputs": [],
   "source": [
    "((planon_loggerscontrollers_intersected==master_loggerscontrollers_for_validation_intersected).sum()/\\\n",
    "len(planon_loggerscontrollers_intersected)*100).plot(kind='bar')"
   ]
  },
  {
   "cell_type": "markdown",
   "metadata": {},
   "source": [
    "Loggers not matching on `Building Name`."
   ]
  },
  {
   "cell_type": "code",
   "execution_count": null,
   "metadata": {
    "collapsed": false
   },
   "outputs": [],
   "source": [
    "sum(planon_loggerscontrollers_intersected['Building Name']!=master_loggerscontrollers_for_validation_intersected['Building Name'])"
   ]
  },
  {
   "cell_type": "code",
   "execution_count": null,
   "metadata": {
    "collapsed": true
   },
   "outputs": [],
   "source": [
    "planon_loggerscontrollers_intersected['Building Name']=[str(s).lower().strip().replace('  ',' ').replace('   ',' ') for s in planon_loggerscontrollers_intersected['Building Name'].values]\n",
    "master_loggerscontrollers_for_validation_intersected['Building Name']=[str(s).lower().strip().replace('  ',' ').replace('   ',' ') for s in master_loggerscontrollers_for_validation_intersected['Building Name'].values]"
   ]
  },
  {
   "cell_type": "code",
   "execution_count": null,
   "metadata": {
    "collapsed": false
   },
   "outputs": [],
   "source": [
    "sum(planon_loggerscontrollers_intersected['Building Name']!=master_loggerscontrollers_for_validation_intersected['Building Name'])"
   ]
  },
  {
   "cell_type": "markdown",
   "metadata": {},
   "source": [
    "That didnt help."
   ]
  },
  {
   "cell_type": "code",
   "execution_count": null,
   "metadata": {
    "collapsed": false
   },
   "outputs": [],
   "source": [
    "for i in planon_loggerscontrollers_intersected[planon_loggerscontrollers_intersected['Building Name']!=master_loggerscontrollers_for_validation_intersected['Building Name']].index:\n",
    "    print(i,'\\t\\tPlanon:',planon_loggerscontrollers_intersected.loc[i]['Building Name'],'\\t\\tMaster:',master_loggerscontrollers_for_validation_intersected.loc[i]['Building Name'])"
   ]
  },
  {
   "cell_type": "markdown",
   "metadata": {},
   "source": [
    "Follow up with lexical distance comparison. That would flag this as a match."
   ]
  },
  {
   "cell_type": "markdown",
   "metadata": {},
   "source": [
    "Loggers not matching on `Serial Number`."
   ]
  },
  {
   "cell_type": "code",
   "execution_count": null,
   "metadata": {
    "collapsed": false
   },
   "outputs": [],
   "source": [
    "sum(planon_loggerscontrollers_intersected['Logger Serial Number']!=master_loggerscontrollers_for_validation_intersected['Logger Serial Number'])"
   ]
  },
  {
   "cell_type": "code",
   "execution_count": null,
   "metadata": {
    "collapsed": true
   },
   "outputs": [],
   "source": [
    "planon_loggerscontrollers_intersected['Logger Serial Number']=[str(s).lower().strip().replace('  ',' ').replace('   ',' ').replace('{','').replace('}','') for s in planon_loggerscontrollers_intersected['Logger Serial Number'].values]\n",
    "master_loggerscontrollers_for_validation_intersected['Logger Serial Number']=[str(s).lower().strip().replace('  ',' ').replace('   ',' ').replace('{','').replace('}','') for s in master_loggerscontrollers_for_validation_intersected['Logger Serial Number'].values]"
   ]
  },
  {
   "cell_type": "code",
   "execution_count": null,
   "metadata": {
    "collapsed": false
   },
   "outputs": [],
   "source": [
    "sum(planon_loggerscontrollers_intersected['Logger Serial Number']!=master_loggerscontrollers_for_validation_intersected['Logger Serial Number'])"
   ]
  },
  {
   "cell_type": "code",
   "execution_count": null,
   "metadata": {
    "collapsed": false
   },
   "outputs": [],
   "source": [
    "for i in planon_loggerscontrollers_intersected[planon_loggerscontrollers_intersected['Logger Serial Number']!=master_loggerscontrollers_for_validation_intersected['Logger Serial Number']].index:\n",
    "    print(i,'\\t\\tPlanon:',planon_loggerscontrollers_intersected.loc[i]['Logger Serial Number'],'\\t\\tMaster:',master_loggerscontrollers_for_validation_intersected.loc[i]['Logger Serial Number'])"
   ]
  },
  {
   "cell_type": "markdown",
   "metadata": {},
   "source": [
    "Technically the same, but there is a number format error. Compare based on float value, if they match, replace one of them. This needs to be amended, as it will throw `cannot onvert to float` exception if strings are left in from the previous step."
   ]
  },
  {
   "cell_type": "code",
   "execution_count": null,
   "metadata": {
    "collapsed": false
   },
   "outputs": [],
   "source": [
    "z1=[]\n",
    "z2=[]    \n",
    "for i in planon_loggerscontrollers_intersected.index:\n",
    "    if planon_loggerscontrollers_intersected.loc[i]['Logger Serial Number']!=master_loggerscontrollers_for_validation_intersected.loc[i]['Logger Serial Number']:\n",
    "        if float(planon_loggerscontrollers_intersected.loc[i]['Logger Serial Number'])==\\\n",
    "          float(master_loggerscontrollers_for_validation_intersected.loc[i]['Logger Serial Number']):\n",
    "                z1.append(str(int(float(planon_loggerscontrollers_intersected.loc[i]['Logger Serial Number']))))\n",
    "                z2.append(str(int(float(planon_loggerscontrollers_intersected.loc[i]['Logger Serial Number']))))\n",
    "        else:\n",
    "            z1.append(planon_loggerscontrollers_intersected.loc[i]['Logger Serial Number'])\n",
    "            z2.append(master_loggerscontrollers_for_validation_intersected.loc[i]['Logger Serial Number'])\n",
    "    else:\n",
    "        z1.append(planon_loggerscontrollers_intersected.loc[i]['Logger Serial Number'])\n",
    "        z2.append(planon_loggerscontrollers_intersected.loc[i]['Logger Serial Number'])\n",
    "planon_loggerscontrollers_intersected['Logger Serial Number']=z1\n",
    "master_loggerscontrollers_for_validation_intersected['Logger Serial Number']=z2"
   ]
  },
  {
   "cell_type": "code",
   "execution_count": null,
   "metadata": {
    "collapsed": false
   },
   "outputs": [],
   "source": [
    "for i in planon_loggerscontrollers_intersected[planon_loggerscontrollers_intersected['Logger Serial Number']!=master_loggerscontrollers_for_validation_intersected['Logger Serial Number']].index:\n",
    "    print(i,'\\t\\tPlanon:',planon_loggerscontrollers_intersected.loc[i]['Logger Serial Number'],'\\t\\tMaster:',master_loggerscontrollers_for_validation_intersected.loc[i]['Logger Serial Number'])"
   ]
  },
  {
   "cell_type": "markdown",
   "metadata": {},
   "source": [
    "New error percentage:"
   ]
  },
  {
   "cell_type": "code",
   "execution_count": null,
   "metadata": {
    "collapsed": false
   },
   "outputs": [],
   "source": [
    "(planon_loggerscontrollers_intersected!=master_loggerscontrollers_for_validation_intersected).sum()/\\\n",
    "len(planon_loggerscontrollers_intersected)*100"
   ]
  },
  {
   "cell_type": "markdown",
   "metadata": {},
   "source": [
    "(Bearing in my mind the above, this is technically 0)"
   ]
  },
  {
   "cell_type": "code",
   "execution_count": null,
   "metadata": {
    "collapsed": true
   },
   "outputs": [],
   "source": []
  }
 ],
 "metadata": {
  "anaconda-cloud": {},
  "kernelspec": {
   "display_name": "Python [conda env:python3]",
   "language": "python",
   "name": "conda-env-python3-py"
  },
  "language_info": {
   "codemirror_mode": {
    "name": "ipython",
    "version": 3
   },
   "file_extension": ".py",
   "mimetype": "text/x-python",
   "name": "python",
   "nbconvert_exporter": "python",
   "pygments_lexer": "ipython3",
   "version": "3.5.3"
  }
 },
 "nbformat": 4,
 "nbformat_minor": 2
}
