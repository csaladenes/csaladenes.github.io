{
 "cells": [
  {
   "cell_type": "code",
   "execution_count": 1,
   "metadata": {
    "collapsed": true
   },
   "outputs": [],
   "source": [
    "import pandas as pd"
   ]
  },
  {
   "cell_type": "code",
   "execution_count": 4,
   "metadata": {
    "collapsed": false
   },
   "outputs": [],
   "source": [
    "df=pd.read_csv('ex/data/days-simulated-v2.tsv')"
   ]
  },
  {
   "cell_type": "code",
   "execution_count": 6,
   "metadata": {
    "collapsed": false
   },
   "outputs": [
    {
     "data": {
      "text/html": [
       "<div>\n",
       "<table border=\"1\" class=\"dataframe\">\n",
       "  <thead>\n",
       "    <tr style=\"text-align: right;\">\n",
       "      <th></th>\n",
       "      <th>day</th>\n",
       "    </tr>\n",
       "  </thead>\n",
       "  <tbody>\n",
       "    <tr>\n",
       "      <th>0</th>\n",
       "      <td>0,270,5,32,10,73,16,25,5,165,2,35,4,300,1,53,1...</td>\n",
       "    </tr>\n",
       "    <tr>\n",
       "      <th>1</th>\n",
       "      <td>4,150,16,7,4,623,16,5,8,35,16,20,5,30,2,10,8,1...</td>\n",
       "    </tr>\n",
       "    <tr>\n",
       "      <th>2</th>\n",
       "      <td>0,270,1,75,16,30,9,15,16,5,8,40,16,5,10,10,16,...</td>\n",
       "    </tr>\n",
       "    <tr>\n",
       "      <th>3</th>\n",
       "      <td>0,240,1,60,10,50,16,5,5,55,2,32,16,8,10,10,16,...</td>\n",
       "    </tr>\n",
       "    <tr>\n",
       "      <th>4</th>\n",
       "      <td>0,170,2,20,16,5,4,285,2,15,3,205,16,5,6,6,16,1...</td>\n",
       "    </tr>\n",
       "  </tbody>\n",
       "</table>\n",
       "</div>"
      ],
      "text/plain": [
       "                                                 day\n",
       "0  0,270,5,32,10,73,16,25,5,165,2,35,4,300,1,53,1...\n",
       "1  4,150,16,7,4,623,16,5,8,35,16,20,5,30,2,10,8,1...\n",
       "2  0,270,1,75,16,30,9,15,16,5,8,40,16,5,10,10,16,...\n",
       "3  0,240,1,60,10,50,16,5,5,55,2,32,16,8,10,10,16,...\n",
       "4  0,170,2,20,16,5,4,285,2,15,3,205,16,5,6,6,16,1..."
      ]
     },
     "execution_count": 6,
     "metadata": {},
     "output_type": "execute_result"
    }
   ],
   "source": [
    "#target structure\n",
    "df.head()"
   ]
  },
  {
   "cell_type": "code",
   "execution_count": 17,
   "metadata": {
    "collapsed": false
   },
   "outputs": [],
   "source": [
    "df=pd.read_html('ex/3.html')"
   ]
  },
  {
   "cell_type": "code",
   "execution_count": 10,
   "metadata": {
    "collapsed": true
   },
   "outputs": [],
   "source": [
    "import matplotlib.pyplot as plt\n",
    "%matplotlib inline"
   ]
  },
  {
   "cell_type": "code",
   "execution_count": 19,
   "metadata": {
    "collapsed": false
   },
   "outputs": [
    {
     "data": {
      "text/html": [
       "<div>\n",
       "<table border=\"1\" class=\"dataframe\">\n",
       "  <thead>\n",
       "    <tr style=\"text-align: right;\">\n",
       "      <th></th>\n",
       "      <th>–</th>\n",
       "      <th>05:30-07:00\n",
       "            –</th>\n",
       "      <th>07:00-08:30\n",
       "            –</th>\n",
       "      <th>08:30-10:00\n",
       "            –</th>\n",
       "      <th>10:00-11:30\n",
       "            –</th>\n",
       "      <th>11:30-13:00\n",
       "            –</th>\n",
       "      <th>13:00-14:30\n",
       "            –</th>\n",
       "      <th>14:30-16:00\n",
       "            –</th>\n",
       "      <th>16:00-17:30\n",
       "            –</th>\n",
       "      <th>17:30-19:00\n",
       "            –</th>\n",
       "      <th>19:00-20:30\n",
       "            –</th>\n",
       "      <th>20:30-22:00\n",
       "            –</th>\n",
       "      <th>22:00-23:30\n",
       "            –</th>\n",
       "      <th>23:30-01:00\n",
       "            –</th>\n",
       "      <th>01:00-02:30\n",
       "            –</th>\n",
       "      <th>02:30-04:00\n",
       "            –</th>\n",
       "      <th>04:00-05:30\n",
       "            –</th>\n",
       "      <th>Total Respondents\n",
       "            –</th>\n",
       "    </tr>\n",
       "  </thead>\n",
       "  <tbody>\n",
       "    <tr>\n",
       "      <th>0</th>\n",
       "      <td>– Alvás</td>\n",
       "      <td>81.32%  74</td>\n",
       "      <td>23.08%  21</td>\n",
       "      <td>5.49%  5</td>\n",
       "      <td>0.00%  0</td>\n",
       "      <td>0.00%  0</td>\n",
       "      <td>0.00%  0</td>\n",
       "      <td>0.00%  0</td>\n",
       "      <td>1.10%  1</td>\n",
       "      <td>0.00%  0</td>\n",
       "      <td>0.00%  0</td>\n",
       "      <td>1.10%  1</td>\n",
       "      <td>31.87%  29</td>\n",
       "      <td>63.74%  58</td>\n",
       "      <td>75.82%  69</td>\n",
       "      <td>78.02%  71</td>\n",
       "      <td>78.02%  71</td>\n",
       "      <td>91</td>\n",
       "    </tr>\n",
       "    <tr>\n",
       "      <th>1</th>\n",
       "      <td>– Zuhany / Mosdó</td>\n",
       "      <td>31.18%  29</td>\n",
       "      <td>40.86%  38</td>\n",
       "      <td>13.98%  13</td>\n",
       "      <td>2.15%  2</td>\n",
       "      <td>0.00%  0</td>\n",
       "      <td>1.08%  1</td>\n",
       "      <td>0.00%  0</td>\n",
       "      <td>2.15%  2</td>\n",
       "      <td>2.15%  2</td>\n",
       "      <td>5.38%  5</td>\n",
       "      <td>21.51%  20</td>\n",
       "      <td>11.83%  11</td>\n",
       "      <td>5.38%  5</td>\n",
       "      <td>0.00%  0</td>\n",
       "      <td>1.08%  1</td>\n",
       "      <td>0.00%  0</td>\n",
       "      <td>93</td>\n",
       "    </tr>\n",
       "    <tr>\n",
       "      <th>2</th>\n",
       "      <td>– Étkezés</td>\n",
       "      <td>7.69%  7</td>\n",
       "      <td>39.56%  36</td>\n",
       "      <td>23.08%  21</td>\n",
       "      <td>13.19%  12</td>\n",
       "      <td>13.19%  12</td>\n",
       "      <td>20.88%  19</td>\n",
       "      <td>19.78%  18</td>\n",
       "      <td>21.98%  20</td>\n",
       "      <td>10.99%  10</td>\n",
       "      <td>15.38%  14</td>\n",
       "      <td>20.88%  19</td>\n",
       "      <td>6.59%  6</td>\n",
       "      <td>0.00%  0</td>\n",
       "      <td>0.00%  0</td>\n",
       "      <td>2.20%  2</td>\n",
       "      <td>0.00%  0</td>\n",
       "      <td>91</td>\n",
       "    </tr>\n",
       "    <tr>\n",
       "      <th>3</th>\n",
       "      <td>– Tanulás</td>\n",
       "      <td>5.71%  2</td>\n",
       "      <td>20.00%  7</td>\n",
       "      <td>45.71%  16</td>\n",
       "      <td>48.57%  17</td>\n",
       "      <td>57.14%  20</td>\n",
       "      <td>45.71%  16</td>\n",
       "      <td>28.57%  10</td>\n",
       "      <td>28.57%  10</td>\n",
       "      <td>45.71%  16</td>\n",
       "      <td>31.43%  11</td>\n",
       "      <td>14.29%  5</td>\n",
       "      <td>8.57%  3</td>\n",
       "      <td>0.00%  0</td>\n",
       "      <td>0.00%  0</td>\n",
       "      <td>0.00%  0</td>\n",
       "      <td>0.00%  0</td>\n",
       "      <td>35</td>\n",
       "    </tr>\n",
       "    <tr>\n",
       "      <th>4</th>\n",
       "      <td>– Munka (irodai)</td>\n",
       "      <td>4.23%  3</td>\n",
       "      <td>30.99%  22</td>\n",
       "      <td>71.83%  51</td>\n",
       "      <td>74.65%  53</td>\n",
       "      <td>73.24%  52</td>\n",
       "      <td>67.61%  48</td>\n",
       "      <td>66.20%  47</td>\n",
       "      <td>52.11%  37</td>\n",
       "      <td>19.72%  14</td>\n",
       "      <td>5.63%  4</td>\n",
       "      <td>5.63%  4</td>\n",
       "      <td>1.41%  1</td>\n",
       "      <td>1.41%  1</td>\n",
       "      <td>1.41%  1</td>\n",
       "      <td>0.00%  0</td>\n",
       "      <td>0.00%  0</td>\n",
       "      <td>71</td>\n",
       "    </tr>\n",
       "  </tbody>\n",
       "</table>\n",
       "</div>"
      ],
      "text/plain": [
       "                  –             05:30-07:00\\n            –  \\\n",
       "0           – Alvás                             81.32%  74   \n",
       "1  – Zuhany / Mosdó                             31.18%  29   \n",
       "2         – Étkezés                               7.69%  7   \n",
       "3         – Tanulás                               5.71%  2   \n",
       "4  – Munka (irodai)                               4.23%  3   \n",
       "\n",
       "              07:00-08:30\\n            –  \\\n",
       "0                             23.08%  21   \n",
       "1                             40.86%  38   \n",
       "2                             39.56%  36   \n",
       "3                              20.00%  7   \n",
       "4                             30.99%  22   \n",
       "\n",
       "              08:30-10:00\\n            –  \\\n",
       "0                               5.49%  5   \n",
       "1                             13.98%  13   \n",
       "2                             23.08%  21   \n",
       "3                             45.71%  16   \n",
       "4                             71.83%  51   \n",
       "\n",
       "              10:00-11:30\\n            –  \\\n",
       "0                               0.00%  0   \n",
       "1                               2.15%  2   \n",
       "2                             13.19%  12   \n",
       "3                             48.57%  17   \n",
       "4                             74.65%  53   \n",
       "\n",
       "              11:30-13:00\\n            –  \\\n",
       "0                               0.00%  0   \n",
       "1                               0.00%  0   \n",
       "2                             13.19%  12   \n",
       "3                             57.14%  20   \n",
       "4                             73.24%  52   \n",
       "\n",
       "              13:00-14:30\\n            –  \\\n",
       "0                               0.00%  0   \n",
       "1                               1.08%  1   \n",
       "2                             20.88%  19   \n",
       "3                             45.71%  16   \n",
       "4                             67.61%  48   \n",
       "\n",
       "              14:30-16:00\\n            –  \\\n",
       "0                               0.00%  0   \n",
       "1                               0.00%  0   \n",
       "2                             19.78%  18   \n",
       "3                             28.57%  10   \n",
       "4                             66.20%  47   \n",
       "\n",
       "              16:00-17:30\\n            –  \\\n",
       "0                               1.10%  1   \n",
       "1                               2.15%  2   \n",
       "2                             21.98%  20   \n",
       "3                             28.57%  10   \n",
       "4                             52.11%  37   \n",
       "\n",
       "              17:30-19:00\\n            –  \\\n",
       "0                               0.00%  0   \n",
       "1                               2.15%  2   \n",
       "2                             10.99%  10   \n",
       "3                             45.71%  16   \n",
       "4                             19.72%  14   \n",
       "\n",
       "              19:00-20:30\\n            –  \\\n",
       "0                               0.00%  0   \n",
       "1                               5.38%  5   \n",
       "2                             15.38%  14   \n",
       "3                             31.43%  11   \n",
       "4                               5.63%  4   \n",
       "\n",
       "              20:30-22:00\\n            –  \\\n",
       "0                               1.10%  1   \n",
       "1                             21.51%  20   \n",
       "2                             20.88%  19   \n",
       "3                              14.29%  5   \n",
       "4                               5.63%  4   \n",
       "\n",
       "              22:00-23:30\\n            –  \\\n",
       "0                             31.87%  29   \n",
       "1                             11.83%  11   \n",
       "2                               6.59%  6   \n",
       "3                               8.57%  3   \n",
       "4                               1.41%  1   \n",
       "\n",
       "              23:30-01:00\\n            –  \\\n",
       "0                             63.74%  58   \n",
       "1                               5.38%  5   \n",
       "2                               0.00%  0   \n",
       "3                               0.00%  0   \n",
       "4                               1.41%  1   \n",
       "\n",
       "              01:00-02:30\\n            –  \\\n",
       "0                             75.82%  69   \n",
       "1                               0.00%  0   \n",
       "2                               0.00%  0   \n",
       "3                               0.00%  0   \n",
       "4                               1.41%  1   \n",
       "\n",
       "              02:30-04:00\\n            –  \\\n",
       "0                             78.02%  71   \n",
       "1                               1.08%  1   \n",
       "2                               2.20%  2   \n",
       "3                               0.00%  0   \n",
       "4                               0.00%  0   \n",
       "\n",
       "              04:00-05:30\\n            –  \\\n",
       "0                             78.02%  71   \n",
       "1                               0.00%  0   \n",
       "2                               0.00%  0   \n",
       "3                               0.00%  0   \n",
       "4                               0.00%  0   \n",
       "\n",
       "               Total Respondents\\n            –  \n",
       "0                                            91  \n",
       "1                                            93  \n",
       "2                                            91  \n",
       "3                                            35  \n",
       "4                                            71  "
      ]
     },
     "execution_count": 19,
     "metadata": {},
     "output_type": "execute_result"
    }
   ],
   "source": [
    "df[0].head()"
   ]
  },
  {
   "cell_type": "code",
   "execution_count": 21,
   "metadata": {
    "collapsed": false
   },
   "outputs": [],
   "source": [
    "df1=pd.read_csv('ex/1.csv')\n",
    "df2=pd.read_csv('ex/2.csv')\n",
    "df3=pd.read_csv('ex/3.csv')"
   ]
  },
  {
   "cell_type": "code",
   "execution_count": 48,
   "metadata": {
    "collapsed": true
   },
   "outputs": [],
   "source": [
    "df=pd.concat([df1,df2[1:],df3[1:]]) #no need for headers twice, df headers completely identical"
   ]
  },
  {
   "cell_type": "code",
   "execution_count": 56,
   "metadata": {
    "collapsed": false
   },
   "outputs": [],
   "source": [
    "hkoz=df[df.columns[9:489]].reset_index()"
   ]
  },
  {
   "cell_type": "code",
   "execution_count": 55,
   "metadata": {
    "collapsed": false
   },
   "outputs": [],
   "source": [
    "hetv=df[df.columns[489:969]].reset_index()"
   ]
  },
  {
   "cell_type": "code",
   "execution_count": 54,
   "metadata": {
    "collapsed": false
   },
   "outputs": [],
   "source": [
    "desc=df[df.columns[969:]].reset_index()"
   ]
  },
  {
   "cell_type": "code",
   "execution_count": 59,
   "metadata": {
    "collapsed": false
   },
   "outputs": [],
   "source": [
    "time=df[df.columns[2:4]].reset_index()"
   ]
  },
  {
   "cell_type": "code",
   "execution_count": 60,
   "metadata": {
    "collapsed": true
   },
   "outputs": [],
   "source": [
    "#top 16 activities\n",
    "activities=[[u'Alvás'],\n",
    "[u'Zuhany / Mosdó'],\n",
    "[u'Étkezés', u'Étterem/Vendéglő'],\n",
    "[u'Munka (irodai)', u'Munka (kétkezi)'],\n",
    "[u'Internet', u'Telefon/Chat/Facebook'],\n",
    "[u'Vásárlás'],\n",
    "[u'Vallásgyakorlás'],\n",
    "[u'TV/Film', u'Mozi'],\n",
    "[u'Olvasás', u'Újság/Keresztrejtvény'],\n",
    "[u'Házimunka/Gyerekfelügyelet'],\n",
    "[u'Hivatalos elintéznivalók'],\n",
    "[u'Sport', u'Edzőterem/Szépségszalon'],\n",
    "[u'Utazás/Vezetés'],\n",
    "[u'Tanulás', u'Magánóra'],\n",
    "[u'Szórakozóhely/Kávézó/Pub'],\n",
    "[u'Séta/Kutyasétáltatás', u'Természet/Kirándulás'],\n",
    "[u'Egyéb Hobby', u'PC játék', u'Önkéntesség', u'Kertészkedés/Barkácsolás', u'Rokonlátogatás', u'Más']]"
   ]
  },
  {
   "cell_type": "code",
   "execution_count": null,
   "metadata": {
    "collapsed": true
   },
   "outputs": [],
   "source": [
    "'Alv\\xc3\\xa1s',\n",
    " 'Edz\\xc5\\x91terem/Sz\\xc3\\xa9ps\\xc3\\xa9gszalon',\n",
    " 'Egy\\xc3\\xa9b Hobby',\n",
    " 'Hivatalos elint\\xc3\\xa9znival\\xc3\\xb3k',\n",
    " 'H\\xc3\\xa1zimunka/Gyerekfel\\xc3\\xbcgyelet',\n",
    " 'Internet',\n",
    " 'Kert\\xc3\\xa9szked\\xc3\\xa9s/Bark\\xc3\\xa1csol\\xc3\\xa1s',\n",
    " 'Mag\\xc3\\xa1n\\xc3\\xb3ra',\n",
    " 'Mozi',\n",
    " 'Munka (irodai)',\n",
    " 'Munka (k\\xc3\\xa9tkezi)',\n",
    " 'M\\xc3\\xa1s',\n",
    " 'Olvas\\xc3\\xa1s',\n",
    " 'PC j\\xc3\\xa1t\\xc3\\xa9k',\n",
    " 'Rokonl\\xc3\\xa1togat\\xc3\\xa1s',\n",
    " 'Sport',\n",
    " 'Sz\\xc3\\xb3rakoz\\xc3\\xb3hely/K\\xc3\\xa1v\\xc3\\xa9z\\xc3\\xb3/Pub',\n",
    " 'S\\xc3\\xa9ta/Kutyas\\xc3\\xa9t\\xc3\\xa1ltat\\xc3\\xa1s',\n",
    " 'TV/Film',\n",
    " 'Tanul\\xc3\\xa1s',\n",
    " 'Telefon/Chat/Facebook',\n",
    " 'Term\\xc3\\xa9szet/Kir\\xc3\\xa1ndul\\xc3\\xa1s',\n",
    " 'Utaz\\xc3\\xa1s/Vezet\\xc3\\xa9s',\n",
    " 'Vall\\xc3\\xa1sgyakorl\\xc3\\xa1s',\n",
    " 'V\\xc3\\xa1s\\xc3\\xa1rl\\xc3\\xa1s',\n",
    " 'Zuhany / Mosd\\xc3\\xb3',\n",
    " '\\xc3\\x89tkez\\xc3\\xa9s',\n",
    " '\\xc3\\x89tterem/Vend\\xc3\\xa9gl\\xc5\\x91',\n",
    " '\\xc3\\x96nk\\xc3\\xa9ntess\\xc3\\xa9g',\n",
    " '\\xc3\\x9ajs\\xc3\\xa1g/Keresztrejtv\\xc3\\xa9ny'"
   ]
  },
  {
   "cell_type": "code",
   "execution_count": 62,
   "metadata": {
    "collapsed": false
   },
   "outputs": [],
   "source": [
    "actidict={}\n",
    "for i in range(len(activities)):\n",
    "    for j in range(len(activities[i])):\n",
    "        actidict[activities[i][j]]=i"
   ]
  },
  {
   "cell_type": "code",
   "execution_count": 63,
   "metadata": {
    "collapsed": false
   },
   "outputs": [
    {
     "data": {
      "text/plain": [
       "{u'Alv\\xe1s': 0,\n",
       " u'Edz\\u0151terem/Sz\\xe9ps\\xe9gszalon': 11,\n",
       " u'Egy\\xe9b Hobby': 16,\n",
       " u'Hivatalos elint\\xe9znival\\xf3k': 10,\n",
       " u'H\\xe1zimunka/Gyerekfel\\xfcgyelet': 9,\n",
       " u'Internet': 4,\n",
       " u'Kert\\xe9szked\\xe9s/Bark\\xe1csol\\xe1s': 16,\n",
       " u'Mag\\xe1n\\xf3ra': 13,\n",
       " u'Mozi': 7,\n",
       " u'Munka (irodai)': 3,\n",
       " u'Munka (k\\xe9tkezi)': 3,\n",
       " u'M\\xe1s': 16,\n",
       " u'Olvas\\xe1s': 8,\n",
       " u'PC j\\xe1t\\xe9k': 16,\n",
       " u'Rokonl\\xe1togat\\xe1s': 16,\n",
       " u'Sport': 11,\n",
       " u'Sz\\xf3rakoz\\xf3hely/K\\xe1v\\xe9z\\xf3/Pub': 14,\n",
       " u'S\\xe9ta/Kutyas\\xe9t\\xe1ltat\\xe1s': 15,\n",
       " u'TV/Film': 7,\n",
       " u'Tanul\\xe1s': 13,\n",
       " u'Telefon/Chat/Facebook': 4,\n",
       " u'Term\\xe9szet/Kir\\xe1ndul\\xe1s': 15,\n",
       " u'Utaz\\xe1s/Vezet\\xe9s': 12,\n",
       " u'Vall\\xe1sgyakorl\\xe1s': 6,\n",
       " u'V\\xe1s\\xe1rl\\xe1s': 5,\n",
       " u'Zuhany / Mosd\\xf3': 1,\n",
       " u'\\xc9tkez\\xe9s': 2,\n",
       " u'\\xc9tterem/Vend\\xe9gl\\u0151': 2,\n",
       " u'\\xd6nk\\xe9ntess\\xe9g': 16,\n",
       " u'\\xdajs\\xe1g/Keresztrejtv\\xe9ny': 8}"
      ]
     },
     "execution_count": 63,
     "metadata": {},
     "output_type": "execute_result"
    }
   ],
   "source": [
    "actidict"
   ]
  },
  {
   "cell_type": "code",
   "execution_count": 70,
   "metadata": {
    "collapsed": false
   },
   "outputs": [],
   "source": [
    "# run only once\n",
    "hkoz.columns=hkoz.loc[0].values\n",
    "hkoz=hkoz[1:].drop(0,axis=1)"
   ]
  },
  {
   "cell_type": "code",
   "execution_count": 88,
   "metadata": {
    "collapsed": false
   },
   "outputs": [
    {
     "name": "stdout",
     "output_type": "stream",
     "text": [
      "Alvás - 05:30-07:00\n",
      "Alvás 05:30-07:00\n",
      "Alvás - 07:00-08:30\n",
      "Alvás 07:00-08:30\n",
      "Alvás - 08:30-10:00\n",
      "Alvás 08:30-10:00\n",
      "Alvás - 10:00-11:30\n",
      "Alvás 10:00-11:30\n",
      "Alvás - 11:30-13:00\n",
      "Alvás 11:30-13:00\n",
      "Alvás - 13:00-14:30\n",
      "Alvás 13:00-14:30\n",
      "Alvás - 14:30-16:00\n",
      "Alvás 14:30-16:00\n",
      "Alvás - 16:00-17:30\n",
      "Alvás 16:00-17:30\n",
      "Alvás - 17:30-19:00\n",
      "Alvás 17:30-19:00\n",
      "Alvás - 19:00-20:30\n",
      "Alvás 19:00-20:30\n"
     ]
    }
   ],
   "source": [
    "for i in hkoz.columns[:10]:\n",
    "    print i\n",
    "    activity=i[:i.find('-')-1]\n",
    "    timeslice=i[i.find('-')+2:]\n",
    "    print activity,timeslice"
   ]
  },
  {
   "cell_type": "code",
   "execution_count": 96,
   "metadata": {
    "collapsed": false
   },
   "outputs": [],
   "source": [
    "hkozdata={}\n",
    "for i in hkoz.index:\n",
    "    index=hkoz.loc[i].index\n",
    "    values=hkoz.loc[i].values\n",
    "    helper=[]\n",
    "    for j in range(len(values)):\n",
    "        if str(values[j]).lower()!='nan':\n",
    "            helper.append(index[j])\n",
    "    hkozdata[i]=helper                "
   ]
  },
  {
   "cell_type": "code",
   "execution_count": 97,
   "metadata": {
    "collapsed": false
   },
   "outputs": [
    {
     "data": {
      "text/plain": [
       "['Alv\\xc3\\xa1s - 05:30-07:00',\n",
       " 'Alv\\xc3\\xa1s - 22:00-23:30',\n",
       " 'Alv\\xc3\\xa1s - 23:30-01:00',\n",
       " 'Alv\\xc3\\xa1s - 01:00-02:30',\n",
       " 'Alv\\xc3\\xa1s - 02:30-04:00',\n",
       " 'Alv\\xc3\\xa1s - 04:00-05:30',\n",
       " 'Zuhany / Mosd\\xc3\\xb3 - 05:30-07:00',\n",
       " '\\xc3\\x89tkez\\xc3\\xa9s - 10:00-11:30',\n",
       " '\\xc3\\x89tkez\\xc3\\xa9s - 16:00-17:30',\n",
       " '\\xc3\\x89tkez\\xc3\\xa9s - 20:30-22:00',\n",
       " 'Tanul\\xc3\\xa1s - 07:00-08:30',\n",
       " 'Tanul\\xc3\\xa1s - 08:30-10:00',\n",
       " 'Tanul\\xc3\\xa1s - 10:00-11:30',\n",
       " 'Tanul\\xc3\\xa1s - 11:30-13:00',\n",
       " 'Tanul\\xc3\\xa1s - 13:00-14:30',\n",
       " 'Tanul\\xc3\\xa1s - 14:30-16:00',\n",
       " 'Tanul\\xc3\\xa1s - 17:30-19:00',\n",
       " 'Tanul\\xc3\\xa1s - 19:00-20:30',\n",
       " 'Internet - 16:00-17:30',\n",
       " 'Internet - 20:30-22:00',\n",
       " 'TV/Film - 16:00-17:30',\n",
       " 'TV/Film - 20:30-22:00',\n",
       " 'PC j\\xc3\\xa1t\\xc3\\xa9k - 16:00-17:30',\n",
       " 'PC j\\xc3\\xa1t\\xc3\\xa9k - 20:30-22:00',\n",
       " 'Egy\\xc3\\xa9b Hobby - 16:00-17:30']"
      ]
     },
     "execution_count": 97,
     "metadata": {},
     "output_type": "execute_result"
    }
   ],
   "source": [
    "hkozdata[1]"
   ]
  },
  {
   "cell_type": "code",
   "execution_count": 107,
   "metadata": {
    "collapsed": false
   },
   "outputs": [
    {
     "ename": "KeyError",
     "evalue": "'Alv\\xa1s'",
     "output_type": "error",
     "traceback": [
      "\u001b[0;31m---------------------------------------------------------------------------\u001b[0m",
      "\u001b[0;31mKeyError\u001b[0m                                  Traceback (most recent call last)",
      "\u001b[0;32m<ipython-input-107-dd5d7bf3b867>\u001b[0m in \u001b[0;36m<module>\u001b[0;34m()\u001b[0m\n\u001b[1;32m      5\u001b[0m     \u001b[0mtimeslice\u001b[0m\u001b[1;33m=\u001b[0m\u001b[0mi\u001b[0m\u001b[1;33m[\u001b[0m\u001b[0mi\u001b[0m\u001b[1;33m.\u001b[0m\u001b[0mfind\u001b[0m\u001b[1;33m(\u001b[0m\u001b[1;34m'-'\u001b[0m\u001b[1;33m)\u001b[0m\u001b[1;33m+\u001b[0m\u001b[1;36m2\u001b[0m\u001b[1;33m:\u001b[0m\u001b[1;33m]\u001b[0m\u001b[1;33m\u001b[0m\u001b[0m\n\u001b[1;32m      6\u001b[0m     \u001b[1;32mif\u001b[0m \u001b[0mtimeslice\u001b[0m \u001b[1;32mnot\u001b[0m \u001b[1;32min\u001b[0m \u001b[0mtimematrix\u001b[0m\u001b[1;33m:\u001b[0m\u001b[0mtimematrix\u001b[0m\u001b[1;33m[\u001b[0m\u001b[0mtimeslice\u001b[0m\u001b[1;33m]\u001b[0m\u001b[1;33m=\u001b[0m\u001b[1;33m[\u001b[0m\u001b[1;33m]\u001b[0m\u001b[1;33m\u001b[0m\u001b[0m\n\u001b[0;32m----> 7\u001b[0;31m     \u001b[0mtimematrix\u001b[0m\u001b[1;33m[\u001b[0m\u001b[0mtimeslice\u001b[0m\u001b[1;33m]\u001b[0m\u001b[1;33m.\u001b[0m\u001b[0mappend\u001b[0m\u001b[1;33m(\u001b[0m\u001b[0mactidict\u001b[0m\u001b[1;33m[\u001b[0m\u001b[0mactivity\u001b[0m\u001b[1;33m.\u001b[0m\u001b[0mreplace\u001b[0m\u001b[1;33m(\u001b[0m\u001b[1;34m'\\xc3'\u001b[0m\u001b[1;33m,\u001b[0m\u001b[1;34m''\u001b[0m\u001b[1;33m)\u001b[0m\u001b[1;33m]\u001b[0m\u001b[1;33m)\u001b[0m\u001b[1;33m\u001b[0m\u001b[0m\n\u001b[0m",
      "\u001b[0;31mKeyError\u001b[0m: 'Alv\\xa1s'"
     ]
    }
   ],
   "source": [
    "j=1\n",
    "timematrix={}\n",
    "for i in hkozdata[j]:\n",
    "    activity=i[:i.find('-')-1]\n",
    "    timeslice=i[i.find('-')+2:]\n",
    "    if timeslice not in timematrix:timematrix[timeslice]=[]\n",
    "    timematrix[timeslice].append(actidict[activity])"
   ]
  },
  {
   "cell_type": "code",
   "execution_count": 111,
   "metadata": {
    "collapsed": false
   },
   "outputs": [
    {
     "data": {
      "text/plain": [
       "{'Alv\\xc3\\xa1s',\n",
       " 'Edz\\xc5\\x91terem/Sz\\xc3\\xa9ps\\xc3\\xa9gszalon',\n",
       " 'Egy\\xc3\\xa9b Hobby',\n",
       " 'Hivatalos elint\\xc3\\xa9znival\\xc3\\xb3k',\n",
       " 'H\\xc3\\xa1zimunka/Gyerekfel\\xc3\\xbcgyelet',\n",
       " 'Internet',\n",
       " 'Kert\\xc3\\xa9szked\\xc3\\xa9s/Bark\\xc3\\xa1csol\\xc3\\xa1s',\n",
       " 'Mag\\xc3\\xa1n\\xc3\\xb3ra',\n",
       " 'Mozi',\n",
       " 'Munka (irodai)',\n",
       " 'Munka (k\\xc3\\xa9tkezi)',\n",
       " 'M\\xc3\\xa1s',\n",
       " 'Olvas\\xc3\\xa1s',\n",
       " 'PC j\\xc3\\xa1t\\xc3\\xa9k',\n",
       " 'Rokonl\\xc3\\xa1togat\\xc3\\xa1s',\n",
       " 'Sport',\n",
       " 'Sz\\xc3\\xb3rakoz\\xc3\\xb3hely/K\\xc3\\xa1v\\xc3\\xa9z\\xc3\\xb3/Pub',\n",
       " 'S\\xc3\\xa9ta/Kutyas\\xc3\\xa9t\\xc3\\xa1ltat\\xc3\\xa1s',\n",
       " 'TV/Film',\n",
       " 'Tanul\\xc3\\xa1s',\n",
       " 'Telefon/Chat/Facebook',\n",
       " 'Term\\xc3\\xa9szet/Kir\\xc3\\xa1ndul\\xc3\\xa1s',\n",
       " 'Utaz\\xc3\\xa1s/Vezet\\xc3\\xa9s',\n",
       " 'Vall\\xc3\\xa1sgyakorl\\xc3\\xa1s',\n",
       " 'V\\xc3\\xa1s\\xc3\\xa1rl\\xc3\\xa1s',\n",
       " 'Zuhany / Mosd\\xc3\\xb3',\n",
       " '\\xc3\\x89tkez\\xc3\\xa9s',\n",
       " '\\xc3\\x89tterem/Vend\\xc3\\xa9gl\\xc5\\x91',\n",
       " '\\xc3\\x96nk\\xc3\\xa9ntess\\xc3\\xa9g',\n",
       " '\\xc3\\x9ajs\\xc3\\xa1g/Keresztrejtv\\xc3\\xa9ny'}"
      ]
     },
     "execution_count": 111,
     "metadata": {},
     "output_type": "execute_result"
    }
   ],
   "source": [
    "set([i[:i.find('-')-1] for i in hkoz.columns])"
   ]
  },
  {
   "cell_type": "code",
   "execution_count": 106,
   "metadata": {
    "collapsed": false
   },
   "outputs": [
    {
     "data": {
      "text/plain": [
       "{u'Alv\\xe1s': 0,\n",
       " u'Edz\\u0151terem/Sz\\xe9ps\\xe9gszalon': 11,\n",
       " u'Egy\\xe9b Hobby': 16,\n",
       " u'Hivatalos elint\\xe9znival\\xf3k': 10,\n",
       " u'H\\xe1zimunka/Gyerekfel\\xfcgyelet': 9,\n",
       " u'Internet': 4,\n",
       " u'Kert\\xe9szked\\xe9s/Bark\\xe1csol\\xe1s': 16,\n",
       " u'Mag\\xe1n\\xf3ra': 13,\n",
       " u'Mozi': 7,\n",
       " u'Munka (irodai)': 3,\n",
       " u'Munka (k\\xe9tkezi)': 3,\n",
       " u'M\\xe1s': 16,\n",
       " u'Olvas\\xe1s': 8,\n",
       " u'PC j\\xe1t\\xe9k': 16,\n",
       " u'Rokonl\\xe1togat\\xe1s': 16,\n",
       " u'Sport': 11,\n",
       " u'Sz\\xf3rakoz\\xf3hely/K\\xe1v\\xe9z\\xf3/Pub': 14,\n",
       " u'S\\xe9ta/Kutyas\\xe9t\\xe1ltat\\xe1s': 15,\n",
       " u'TV/Film': 7,\n",
       " u'Tanul\\xe1s': 13,\n",
       " u'Telefon/Chat/Facebook': 4,\n",
       " u'Term\\xe9szet/Kir\\xe1ndul\\xe1s': 15,\n",
       " u'Utaz\\xe1s/Vezet\\xe9s': 12,\n",
       " u'Vall\\xe1sgyakorl\\xe1s': 6,\n",
       " u'V\\xe1s\\xe1rl\\xe1s': 5,\n",
       " u'Zuhany / Mosd\\xf3': 1,\n",
       " u'\\xc9tkez\\xe9s': 2,\n",
       " u'\\xc9tterem/Vend\\xe9gl\\u0151': 2,\n",
       " u'\\xd6nk\\xe9ntess\\xe9g': 16,\n",
       " u'\\xdajs\\xe1g/Keresztrejtv\\xe9ny': 8}"
      ]
     },
     "execution_count": 106,
     "metadata": {},
     "output_type": "execute_result"
    }
   ],
   "source": [
    "actidict"
   ]
  },
  {
   "cell_type": "code",
   "execution_count": 105,
   "metadata": {
    "collapsed": false
   },
   "outputs": [
    {
     "data": {
      "text/plain": [
       "{'05:30-07:00': []}"
      ]
     },
     "execution_count": 105,
     "metadata": {},
     "output_type": "execute_result"
    }
   ],
   "source": [
    "timematrix"
   ]
  }
 ],
 "metadata": {
  "anaconda-cloud": {},
  "kernelspec": {
   "display_name": "Python [conda root]",
   "language": "python",
   "name": "conda-root-py"
  },
  "language_info": {
   "codemirror_mode": {
    "name": "ipython",
    "version": 2
   },
   "file_extension": ".py",
   "mimetype": "text/x-python",
   "name": "python",
   "nbconvert_exporter": "python",
   "pygments_lexer": "ipython2",
   "version": "2.7.12"
  }
 },
 "nbformat": 4,
 "nbformat_minor": 1
}
